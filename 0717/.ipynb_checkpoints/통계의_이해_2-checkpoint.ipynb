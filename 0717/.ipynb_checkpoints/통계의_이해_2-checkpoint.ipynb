{
 "cells": [
  {
   "cell_type": "markdown",
   "id": "0817ea61-665c-4a24-aa3f-4026ca2858bf",
   "metadata": {},
   "source": [
    "# 통계의-이해_2"
   ]
  },
  {
   "cell_type": "code",
   "execution_count": 186,
   "id": "eff06a50-af48-47d7-a2f9-3953a5a044a2",
   "metadata": {},
   "outputs": [],
   "source": [
    "import numpy as np\n",
    "from scipy import stats\n",
    "import pandas as pd\n",
    "import matplotlib.pyplot as plt\n",
    "import seaborn as sns\n",
    "from statsmodels.stats.proportion import proportions_ztest\n",
    "from pandas import Series, DataFrame"
   ]
  },
  {
   "cell_type": "code",
   "execution_count": 14,
   "id": "0db893bf-c962-43fe-ba0c-75e616700244",
   "metadata": {},
   "outputs": [],
   "source": [
    "import matplotlib\n",
    "matplotlib.rc('font', family = 'Malgun Gothic')\n",
    "matplotlib.rc('axes', unicode_minus = False)\n",
    "%matplotlib inline\n",
    "import warnings\n",
    "warnings.filterwarnings('ignore')"
   ]
  },
  {
   "cell_type": "code",
   "execution_count": null,
   "id": "466f61a8-86d4-4756-b21e-6f478be80292",
   "metadata": {},
   "outputs": [],
   "source": []
  },
  {
   "cell_type": "markdown",
   "id": "8ed7011d-e722-4fe0-a242-2ae0b1ff2b04",
   "metadata": {},
   "source": [
    "# 1 propotion Test"
   ]
  },
  {
   "cell_type": "code",
   "execution_count": 21,
   "id": "9ad6f09f-40a7-4061-9013-62fc65d3471e",
   "metadata": {},
   "outputs": [],
   "source": [
    "# 전체 고객사중 10%만 품질만족을 나타냄. 품질개선이후 100개의 표본을 추출해 확인한 결과, 15개 업체가 품질만족을 나타냄\n",
    "# 품질만족의 비율에 차이가 있는가?\n",
    "count = 15\n",
    "n_obs = 100\n",
    "value = 0.1\n",
    "\n",
    "# propotion test진행\n",
    "z , p = proportions_ztest(count, n_obs, value)"
   ]
  },
  {
   "cell_type": "code",
   "execution_count": 25,
   "id": "68412a9d-c2fa-4dc4-90f6-33449f4a4753",
   "metadata": {},
   "outputs": [
    {
     "name": "stdout",
     "output_type": "stream",
     "text": [
      "1 proportion tets\n",
      "z : 1.400\n",
      "p : 0.161\n"
     ]
    }
   ],
   "source": [
    "# 결과출력\n",
    "print('1 proportion tets')\n",
    "print('z : {0:0.3f}'.format(z))\n",
    "print('p : {0:0.3f}'.format(p))"
   ]
  },
  {
   "cell_type": "code",
   "execution_count": 27,
   "id": "46838000-ede9-4911-8b0c-d8f1a3d032b3",
   "metadata": {},
   "outputs": [],
   "source": [
    "# 품질개선 결과 기존 대비 사용비율이 차이가 있다고 할 수 없다(귀무가설 채택)"
   ]
  },
  {
   "cell_type": "code",
   "execution_count": 29,
   "id": "3db7d952-93d8-445b-a0cd-7599bb5d264c",
   "metadata": {},
   "outputs": [],
   "source": [
    "# 만약 300개 업체중 45개의 품질만족을 받았다면\n",
    "count = 45\n",
    "n_obs = 300\n",
    "value = 0.1\n",
    "\n",
    "z, p = proportions_ztest(count, n_obs, value)"
   ]
  },
  {
   "cell_type": "code",
   "execution_count": 31,
   "id": "2eaf50c0-a059-4ab0-b7f5-6b0d9538b068",
   "metadata": {},
   "outputs": [
    {
     "name": "stdout",
     "output_type": "stream",
     "text": [
      "1 proportion tets\n",
      "z : 2.425\n",
      "p : 0.015\n"
     ]
    }
   ],
   "source": [
    "# 결과출력\n",
    "print('1 proportion tets')\n",
    "print('z : {0:0.3f}'.format(z))\n",
    "print('p : {0:0.3f}'.format(p))"
   ]
  },
  {
   "cell_type": "code",
   "execution_count": 33,
   "id": "69039e16-0520-46fd-8e31-11e016afffe0",
   "metadata": {},
   "outputs": [],
   "source": [
    "# 품질개선 결과 기존 대비 사용비율이 차이가 있다고 할 수 있다(대립가설 채택)"
   ]
  },
  {
   "cell_type": "code",
   "execution_count": 35,
   "id": "c793d09f-19c9-4b72-909f-1870da6a982a",
   "metadata": {},
   "outputs": [],
   "source": [
    "# 동전이 정상적인가를 파악하기 위해 100번 던져본 결과, 앞면이 40번 나왔으며, 뒷면이 60번 나왔다.\n",
    "# 이 동전은 정상인가를 파악\n",
    "\n",
    "# 귀무가설 = 앞면이 나올 확률은 0.5다\n",
    "# 대립가설 = 앞면이 나올 확률은 0.5가 아니다\n",
    "count = 40\n",
    "n_obs = 100\n",
    "value  = 0.5\n",
    "z, p = proportions_ztest(count,n_obs,value)"
   ]
  },
  {
   "cell_type": "code",
   "execution_count": 37,
   "id": "107fd965-bd1b-4a5b-8e39-e41a44ae48d7",
   "metadata": {},
   "outputs": [
    {
     "name": "stdout",
     "output_type": "stream",
     "text": [
      "1 proportion tets\n",
      "z : -2.041\n",
      "p : 0.041\n"
     ]
    }
   ],
   "source": [
    "# 결과출력\n",
    "print('1 proportion tets')\n",
    "print('z : {0:0.3f}'.format(z))\n",
    "print('p : {0:0.3f}'.format(p))"
   ]
  },
  {
   "cell_type": "code",
   "execution_count": 40,
   "id": "466b90fa-4cb5-4a53-a000-61793ac4c113",
   "metadata": {},
   "outputs": [],
   "source": [
    "# 이 동전의 앞면이 나올 확률은 0.5가 아니다"
   ]
  },
  {
   "cell_type": "markdown",
   "id": "a301632f-1178-4e6e-aba4-e898d8b1ca3e",
   "metadata": {},
   "source": [
    "# 2-proportion test"
   ]
  },
  {
   "cell_type": "code",
   "execution_count": 43,
   "id": "9c028c91-edc5-4346-b039-df834f592353",
   "metadata": {},
   "outputs": [],
   "source": [
    "# 동일 제품 생산하는 두 공장에서의 불량률은\n",
    "# 공장 1 : N1 = 1000 / X1 = 4\n",
    "# 공장 2 : N1 = 1200 / X1 = 1\n",
    "# 두 공정의 불량률은 같다고 할 수 있는가\n",
    "\n",
    "# 귀무가설 : 두 공정의 불량률은 차이가 없다\n",
    "# 대립가설 : 두 공정의 불량률은 차이가 있다\n",
    "\n",
    "count = np.array([4,1])\n",
    "nobs = np.array([1000,1200])\n",
    "\n",
    "z, p  = proportions_ztest(count,nobs)"
   ]
  },
  {
   "cell_type": "code",
   "execution_count": 45,
   "id": "8e875ed9-d63f-4235-bc98-37bbfbc007bb",
   "metadata": {},
   "outputs": [
    {
     "name": "stdout",
     "output_type": "stream",
     "text": [
      "2 proportion test\n",
      "z : 1.553\n",
      "p : 0.120\n"
     ]
    }
   ],
   "source": [
    "# 결과 출력\n",
    "print('2 proportion test')\n",
    "print('z : {0:0.3f}'.format(z))\n",
    "print('p : {0:0.3f}'.format(p))"
   ]
  },
  {
   "cell_type": "code",
   "execution_count": 47,
   "id": "7fa35b14-b6fa-435a-a8b8-1c0d35420130",
   "metadata": {},
   "outputs": [],
   "source": [
    "# 결론 두 공정의 불량률은 차이가 있다고 할 수 없다.(귀무가설 채택) p-value > 0.05 귀무가설 채택"
   ]
  },
  {
   "cell_type": "markdown",
   "id": "c71e0253-6888-4c72-a81b-2b5a1b5f50c3",
   "metadata": {},
   "source": [
    "# 카이제곱 검정"
   ]
  },
  {
   "cell_type": "code",
   "execution_count": 53,
   "id": "f3405299-cd59-4240-b2a9-b5286df9f01c",
   "metadata": {},
   "outputs": [],
   "source": [
    "# 근무조별로 철강제품을 생산하는데, 생산제품의 규격이 3가지가 있디.\n",
    "# 근무조별로 제품을 생산하는데 부하는 차이가 있는가?\n",
    "df = pd.DataFrame({'work_1' : [270,228,277] , 'work_2' : [260,285,284], 'work_3' : [236,225,231], 'work_4' : [234,262,208]})\n",
    "\n",
    "# chi제곱 검정 실행\n",
    "chi, pval, dof, expected = stats.chi2_contingency(df)"
   ]
  },
  {
   "cell_type": "code",
   "execution_count": 57,
   "id": "b9f5b5c0-0182-439d-a6d6-3bd6b1931317",
   "metadata": {},
   "outputs": [
    {
     "name": "stdout",
     "output_type": "stream",
     "text": [
      "chi-square test\n",
      "chisp : 13.366274\n",
      "P-value : 0.037574\n",
      "dof : 6\n",
      "expected value : \n",
      "[[258.333 276.333 230.667 234.667]\n",
      " [258.333 276.333 230.667 234.667]\n",
      " [258.333 276.333 230.667 234.667]]\n"
     ]
    }
   ],
   "source": [
    "# 결과 출력\n",
    "print('chi-square test')\n",
    "print('chisp : {0:03f}'.format(chi))\n",
    "print('P-value : {0:03f}'.format(pval))\n",
    "print('dof : {}'.format(dof))\n",
    "print('expected value : \\n{}'.format(expected.round(3)))"
   ]
  },
  {
   "cell_type": "code",
   "execution_count": 59,
   "id": "5f2d88d0-30b3-4a35-9ef4-1185d003686f",
   "metadata": {},
   "outputs": [],
   "source": [
    "# p-value < 0.05 근무조별로 제품을 생산하는 부하 차이가 있다. 대립가설 채택"
   ]
  },
  {
   "cell_type": "code",
   "execution_count": 65,
   "id": "9534ccfd-c34e-404e-8809-fab8a2a6509f",
   "metadata": {},
   "outputs": [],
   "source": [
    "# 노트북의 컴퓨터 6가지 제품에 대해 7가지 제품의 이미지를 중복 선택 할 수 있도록 32명의 소비자에게 설문조사한 T이다\n",
    "# 각 제품에 대해 이미지에 대해 차이가 있겠는가\n",
    "\n",
    "# 귀무가설 : 각 제품에 대해 이미지에 대해 차이가 없다\n",
    "# 대립가설 : 각 제품에 대해 이미지에 대해 차이가 있는것이 1개 이상이다.\n",
    "df = pd.DataFrame({'A' : [18,1,8,7,10,9,10] , 'B' : [8,2,14,5,5,9,4], 'C' : [4,1,3,4,9,5,4], 'D' : [4,1,2,3,2,7,3], 'E' : [3,1,3,1,1,1,1], 'F' : [3,25,8,10,2,1,7]})\n",
    "\n",
    "# chi제곱 검정 실행\n",
    "chi, pval, dof, expected = stats.chi2_contingency(df)"
   ]
  },
  {
   "cell_type": "code",
   "execution_count": 75,
   "id": "5473309b-aed8-4d84-b8b4-9e667d45dd78",
   "metadata": {},
   "outputs": [
    {
     "name": "stdout",
     "output_type": "stream",
     "text": [
      "chi-square test\n",
      "chisp : 98.274322\n",
      "P-value : 0.000000\n",
      "dof : 30\n",
      "expected value : \n",
      "[[11.004  8.21   5.24   3.843  1.921  9.782]\n",
      " [ 8.528  6.362  4.061  2.978  1.489  7.581]\n",
      " [10.454  7.799  4.978  3.651  1.825  9.293]\n",
      " [ 8.253  6.157  3.93   2.882  1.441  7.336]\n",
      " [ 7.978  5.952  3.799  2.786  1.393  7.092]\n",
      " [ 8.803  6.568  4.192  3.074  1.537  7.825]\n",
      " [ 7.978  5.952  3.799  2.786  1.393  7.092]]\n"
     ]
    }
   ],
   "source": [
    "# 결과 출력\n",
    "print('chi-square test')\n",
    "print('chisp : {0:03f}'.format(chi))\n",
    "print('P-value : {0:03f}'.format(pval))\n",
    "print('dof : {}'.format(dof))\n",
    "print('expected value : \\n{}'.format(expected.round(3)))"
   ]
  },
  {
   "cell_type": "code",
   "execution_count": 77,
   "id": "eefe04b2-4899-4fa7-8853-053dfbb43252",
   "metadata": {},
   "outputs": [],
   "source": [
    "# p-value < 0.05 대립가설 채택 각 제품에 대해 이미지에 대해 차이가 있는것이 1개 이상이다."
   ]
  },
  {
   "cell_type": "markdown",
   "id": "350319bd-c80a-49ad-b942-c3df99f55851",
   "metadata": {},
   "source": [
    "# ANOVA 분석"
   ]
  },
  {
   "cell_type": "code",
   "execution_count": 111,
   "id": "6c38d602-85ae-4f1c-b1d7-9abed3245111",
   "metadata": {},
   "outputs": [
    {
     "data": {
      "text/plain": [
       "<Axes: >"
      ]
     },
     "execution_count": 111,
     "metadata": {},
     "output_type": "execute_result"
    },
    {
     "data": {
      "image/png": "[encoded data removed]",
      "text/plain": [
       "<Figure size 640x480 with 1 Axes>"
      ]
     },
     "metadata": {},
     "output_type": "display_data"
    }
   ],
   "source": [
    "# 사내 마케팅 그룹별 TOEIC성적에 차이가 있는가\n",
    "# 귀무가설 : 성적에 차이가 없다\n",
    "# 대립가설 : 성적에 차이가 하나라도 있다\n",
    "\n",
    "df = pd.DataFrame({'A' : [892,623,721,678,723,790,720,670,690,771] , 'B':[721,821,910,678,723,790,711,790,745,891], 'C': [750,915,888,721,894,834,841,912,845,889]})\n",
    "df.boxplot(['A','B','C'])"
   ]
  },
  {
   "cell_type": "code",
   "execution_count": 113,
   "id": "54e7094a-ad28-42d3-bd24-7a49c81a6cb5",
   "metadata": {},
   "outputs": [],
   "source": [
    "# ANOVA실행\n",
    "f_result = stats.f_oneway(df['A'],df['B'],df['C'])\n",
    "\n",
    "f,p = f_result.statistic.round(3), f_result.pvalue.round(3)"
   ]
  },
  {
   "cell_type": "code",
   "execution_count": 115,
   "id": "10a04fa5-d067-4e01-8db2-4dda35d79223",
   "metadata": {},
   "outputs": [
    {
     "name": "stdout",
     "output_type": "stream",
     "text": [
      "One-way ANOVA\n",
      "F통계량 : 6.884\n",
      "P-value : 0.004\n"
     ]
    }
   ],
   "source": [
    "# 결과 출력\n",
    "print('One-way ANOVA')\n",
    "print('F통계량 : {}'.format(f))\n",
    "print('P-value : {}'.format(p))"
   ]
  },
  {
   "cell_type": "code",
   "execution_count": 127,
   "id": "be5d0737-bb84-4d3a-9135-e29e31d887bf",
   "metadata": {},
   "outputs": [],
   "source": [
    "# p-value가 0.05보다 작기 때문에 대립가설 채택 -> 그룹간 토익성적 평균에는 하나라도 차이가 있다"
   ]
  },
  {
   "cell_type": "code",
   "execution_count": 150,
   "id": "c770af9a-87d1-468e-8aa5-b6d009a0fe56",
   "metadata": {},
   "outputs": [],
   "source": [
    "# 2 sample t-test로 하기 어디서 차이가 나는지 확인\n",
    "# 귀무가설 : 차이가 없다\n",
    "# 대립가설 : 차이가 있다"
   ]
  },
  {
   "cell_type": "code",
   "execution_count": 131,
   "id": "999e5ff5-f2b4-4d2c-a7a7-f1175656a03b",
   "metadata": {},
   "outputs": [
    {
     "data": {
      "text/plain": [
       "BartlettResult(statistic=0.007508528235680507, pvalue=0.930948318736008)"
      ]
     },
     "execution_count": 131,
     "metadata": {},
     "output_type": "execute_result"
    }
   ],
   "source": [
    "# A/B등분산성 검정\n",
    "stats.bartlett(df['A'], df['B'])"
   ]
  },
  {
   "cell_type": "code",
   "execution_count": 145,
   "id": "b7174644-5641-41b6-8259-f74c8a34d331",
   "metadata": {},
   "outputs": [
    {
     "name": "stdout",
     "output_type": "stream",
     "text": [
      "-1.468 0.159\n"
     ]
    }
   ],
   "source": [
    "# 2-sample t-test\n",
    "t_result = stats.ttest_ind(df['A'], df['B'])\n",
    "t,p = t_result.statistic.round(3), t_result.pvalue.round(3)\n",
    "print(t,p) # 차이가 없다 p-value = 0.159 > 0.05\n",
    "# 0.05보다 작으면 대립가설(차이가 있다)채택/ 귀무가설 기각(차이가 없다)"
   ]
  },
  {
   "cell_type": "code",
   "execution_count": 137,
   "id": "12549a2f-d681-4d9d-9a45-fae51f42dd58",
   "metadata": {},
   "outputs": [
    {
     "data": {
      "text/plain": [
       "BartlettResult(statistic=0.1277250351255421, pvalue=0.720802560593216)"
      ]
     },
     "execution_count": 137,
     "metadata": {},
     "output_type": "execute_result"
    }
   ],
   "source": [
    "# A/C 등분산성 검정\n",
    "stats.bartlett(df['A'], df['C'])"
   ]
  },
  {
   "cell_type": "code",
   "execution_count": 139,
   "id": "59b32617-700a-4eab-a2d8-f75642a5c56a",
   "metadata": {},
   "outputs": [
    {
     "name": "stdout",
     "output_type": "stream",
     "text": [
      "-3.808 0.001\n"
     ]
    }
   ],
   "source": [
    "# 2-sample t-test\n",
    "t_result = stats.ttest_ind(df['A'], df['C'])\n",
    "t,p = t_result.statistic.round(3), t_result.pvalue.round(3)\n",
    "print(t,p) # 차이가 있다 p-value = 0.001 < 0.05 \n",
    "# 0.05보다 크면 대립가설(차이가 있다)기각/ 귀무가설 채택(차이가 없다)"
   ]
  },
  {
   "cell_type": "code",
   "execution_count": 141,
   "id": "af757e7a-125b-405c-a482-2e7e07a2d823",
   "metadata": {},
   "outputs": [
    {
     "data": {
      "text/plain": [
       "BartlettResult(statistic=0.19681375079809532, pvalue=0.6573050806975324)"
      ]
     },
     "execution_count": 141,
     "metadata": {},
     "output_type": "execute_result"
    }
   ],
   "source": [
    "# B/C 등분산성 검정\n",
    "stats.bartlett(df['B'], df['C'])"
   ]
  },
  {
   "cell_type": "code",
   "execution_count": 152,
   "id": "19ba04f9-d6b1-4ad8-8563-a87188627097",
   "metadata": {},
   "outputs": [
    {
     "name": "stdout",
     "output_type": "stream",
     "text": [
      "-2.192 0.042\n"
     ]
    }
   ],
   "source": [
    "# 2-sample t-test\n",
    "t_result = stats.ttest_ind(df['B'], df['C'])\n",
    "t,p = t_result.statistic.round(3), t_result.pvalue.round(3)\n",
    "print(t,p) # 차이가 없다 p-value = 0.042 < 0.05\n",
    "# 0.05보다 크면 대립가설(차이가 있다)기각/ 귀무가설 채택(차이가 없다)"
   ]
  },
  {
   "cell_type": "code",
   "execution_count": 166,
   "id": "4f989e38-be50-43db-ab7a-f31fce988d40",
   "metadata": {},
   "outputs": [],
   "source": [
    "# 결론 A,B는 차이가 없으나 A,C/B,C는 차이가 있다."
   ]
  },
  {
   "cell_type": "code",
   "execution_count": 168,
   "id": "377a23e1-78c4-4b04-b084-924b9bc15323",
   "metadata": {},
   "outputs": [],
   "source": [
    "# ANOVA검정은 3집단 사이에 차이가 있는지 없는지 유무만 확인하고\n",
    "# 어디서 차이가 나는지 확인하기 위해서는 등분산검정(bartlett)이후 2-Sample_Test 진행"
   ]
  },
  {
   "cell_type": "code",
   "execution_count": 170,
   "id": "f05a8ec2-e9a0-49ef-8739-24c8dbe8c295",
   "metadata": {},
   "outputs": [],
   "source": [
    "# 철강의 청정도를 높이기 위해 제강공정에서 2차 정련을 실시하는데, 강종별로 2차 정련시간의 차이가 있는지와 type별로 2차정련 시간에  차이가 있는지 검정하라"
   ]
  },
  {
   "cell_type": "code",
   "execution_count": 211,
   "id": "d00c09db-00da-4bdf-aa10-97cce5a39c4f",
   "metadata": {},
   "outputs": [
    {
     "data": {
      "text/html": [
       "<div>\n",
       "<style scoped>\n",
       "    .dataframe tbody tr th:only-of-type {\n",
       "        vertical-align: middle;\n",
       "    }\n",
       "\n",
       "    .dataframe tbody tr th {\n",
       "        vertical-align: top;\n",
       "    }\n",
       "\n",
       "    .dataframe thead th {\n",
       "        text-align: right;\n",
       "    }\n",
       "</style>\n",
       "<table border=\"1\" class=\"dataframe\">\n",
       "  <thead>\n",
       "    <tr style=\"text-align: right;\">\n",
       "      <th></th>\n",
       "      <th>time</th>\n",
       "      <th>charge</th>\n",
       "      <th>gangjong</th>\n",
       "      <th>type</th>\n",
       "    </tr>\n",
       "  </thead>\n",
       "  <tbody>\n",
       "    <tr>\n",
       "      <th>0</th>\n",
       "      <td>32.2</td>\n",
       "      <td>A</td>\n",
       "      <td>a</td>\n",
       "      <td>a</td>\n",
       "    </tr>\n",
       "    <tr>\n",
       "      <th>1</th>\n",
       "      <td>30.4</td>\n",
       "      <td>B</td>\n",
       "      <td>a</td>\n",
       "      <td>a</td>\n",
       "    </tr>\n",
       "    <tr>\n",
       "      <th>2</th>\n",
       "      <td>33.6</td>\n",
       "      <td>C</td>\n",
       "      <td>a</td>\n",
       "      <td>a</td>\n",
       "    </tr>\n",
       "    <tr>\n",
       "      <th>3</th>\n",
       "      <td>36.4</td>\n",
       "      <td>D</td>\n",
       "      <td>a</td>\n",
       "      <td>a</td>\n",
       "    </tr>\n",
       "    <tr>\n",
       "      <th>4</th>\n",
       "      <td>33.9</td>\n",
       "      <td>E</td>\n",
       "      <td>a</td>\n",
       "      <td>a</td>\n",
       "    </tr>\n",
       "  </tbody>\n",
       "</table>\n",
       "</div>"
      ],
      "text/plain": [
       "   time charge gangjong type\n",
       "0  32.2      A        a    a\n",
       "1  30.4      B        a    a\n",
       "2  33.6      C        a    a\n",
       "3  36.4      D        a    a\n",
       "4  33.9      E        a    a"
      ]
     },
     "execution_count": 211,
     "metadata": {},
     "output_type": "execute_result"
    }
   ],
   "source": [
    "# 귀무가설 : 강종별, type별로 차이가 없다\n",
    "# 대립가설 : 강종별, type별로 평균에 차이가 있다.\n",
    "df = pd.read_csv('ANOVA.csv')\n",
    "df.head()"
   ]
  },
  {
   "cell_type": "markdown",
   "id": "073e13b0-0595-49c4-bd72-1d161c63c7c6",
   "metadata": {},
   "source": [
    "# 상관분석"
   ]
  },
  {
   "cell_type": "markdown",
   "id": "a63b57d1-9cdd-4636-95cf-50b788becdad",
   "metadata": {},
   "source": [
    "# 상관계수\n",
    "- kendall -> 이산형 변수\n",
    "- spearman -> 이산형 변수 + 순위척도\n",
    "- pearson -> 연속형"
   ]
  },
  {
   "cell_type": "code",
   "execution_count": 227,
   "id": "bc220f2a-dbbc-44f8-b254-6cf0a22ae947",
   "metadata": {},
   "outputs": [
    {
     "name": "stdout",
     "output_type": "stream",
     "text": [
      "correlation Analysis\n",
      "corr : 0.989\n",
      "p-value : 0.000\n"
     ]
    }
   ],
   "source": [
    "# 부품수리시간과 부품수 간의 상관관계\n",
    "df1 = [1,2,3,4,4,5,6,6,7,8]\n",
    "df2 = [23,29,49,64,74,87,96,97,109,119]\n",
    "\n",
    "# Correlation Analysis\n",
    "corr , pval = stats.pearsonr(df1,df2)\n",
    "\n",
    "# Correlation p-value\n",
    "print('correlation Analysis')\n",
    "print('corr : {0:0.3f}'.format(corr))\n",
    "print('p-value : {0:0.3f}'.format(pval))\n",
    "\n",
    "# 부품수리시간과 부품수간에 '매우 강한 비례관계'가 있다"
   ]
  },
  {
   "cell_type": "code",
   "execution_count": 237,
   "id": "2a984d51-bd3a-4cab-af4a-0a465d8b5d95",
   "metadata": {},
   "outputs": [
    {
     "name": "stdout",
     "output_type": "stream",
     "text": [
      "correlation Analysis\n",
      "corr : -0.723\n",
      "p-value : 0.000\n"
     ]
    }
   ],
   "source": [
    "# 초코칩의 강도와 재료 반죽온도 간의 관계분석\n",
    "df1 = [37.6,38.6,37.2,36.4,38.6,39,37.2,36.1,35.9,37.1,36.9,37.5,36.3,38.1,39,36.9,36.8,37.6,33,33.5]\n",
    "df2 = [14,15,14,16,17,14,17,16,15,16,14,16,18,13,15,17,14,16,20,21]\n",
    "\n",
    "corr, pval = stats.pearsonr(df1,df2)\n",
    "\n",
    "# Correlation p-value\n",
    "print('correlation Analysis')\n",
    "print('corr : {0:0.3f}'.format(corr))\n",
    "print('p-value : {0:0.3f}'.format(pval))\n",
    "\n",
    "# 초코칩 강도와 재료반죽온도는 '반비례 관계'이다"
   ]
  },
  {
   "cell_type": "markdown",
   "id": "face6c1d-1fb7-41fd-aa13-5ba13f3b5962",
   "metadata": {},
   "source": []
  },
  {
   "cell_type": "code",
   "execution_count": null,
   "id": "45d37b63-f85c-4827-bbf0-987f7af488d6",
   "metadata": {},
   "outputs": [],
   "source": [
    " "
   ]
  }
 ],
 "metadata": {
  "kernelspec": {
   "display_name": "Python 3 (ipykernel)",
   "language": "python",
   "name": "python3"
  },
  "language_info": {
   "codemirror_mode": {
    "name": "ipython",
    "version": 3
   },
   "file_extension": ".py",
   "mimetype": "text/x-python",
   "name": "python",
   "nbconvert_exporter": "python",
   "pygments_lexer": "ipython3",
   "version": "3.11.7"
  }
 },
 "nbformat": 4,
 "nbformat_minor": 5
}
