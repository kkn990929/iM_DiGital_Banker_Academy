{
 "cells": [
  {
   "cell_type": "markdown",
   "id": "0817ea61-665c-4a24-aa3f-4026ca2858bf",
   "metadata": {},
   "source": [
    "# 통계의-이해_2"
   ]
  },
  {
   "cell_type": "code",
   "execution_count": null,
   "id": "86e3ab9c-6eb6-4f15-bf61-3205843eb6bd",
   "metadata": {},
   "outputs": [],
   "source": []
  }
 ],
 "metadata": {
  "kernelspec": {
   "display_name": "Python 3 (ipykernel)",
   "language": "python",
   "name": "python3"
  },
  "language_info": {
   "codemirror_mode": {
    "name": "ipython",
    "version": 3
   },
   "file_extension": ".py",
   "mimetype": "text/x-python",
   "name": "python",
   "nbconvert_exporter": "python",
   "pygments_lexer": "ipython3",
   "version": "3.11.7"
  }
 },
 "nbformat": 4,
 "nbformat_minor": 5
}
