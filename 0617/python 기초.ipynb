{
 "cells": [
  {
   "cell_type": "markdown",
   "id": "cdd670d7-b9f3-47d9-85e3-3034b167a0d4",
   "metadata": {},
   "source": [
    "# Jupyter Notebook 사용법\n",
    "  "
   ]
  },
  {
   "cell_type": "markdown",
   "id": "32719462-b368-4401-bac2-e700a0ef4bca",
   "metadata": {},
   "source": [
    "- cell : 코드나 마크다운을 작성하는 하나의 상자\n",
    "- Markdown Mode : 마크다운이란 마크업 언어의 일종이다\n",
    "- [shift]+[Enter] : 셀 실행\n",
    "- [Alt]+[Enter] : 하단에 셀을 하나 추가하여 실행\n",
    "- [ESC]+[M] : 마크다운모드로 변경\n",
    "- [ESC]+[Y] : 코드모드로 변경\n",
    "- [ESC]+[R] : Raw모들 변경 (아무런 기능 없이 텍스트만 작성하는 모드)"
   ]
  },
  {
   "cell_type": "markdown",
   "id": "abad6f58-92f4-426e-89db-5bf1c596b3bb",
   "metadata": {},
   "source": [
    "## 단축키\n"
   ]
  },
  {
   "cell_type": "markdown",
   "id": "d47e9d4c-8946-43ea-a930-61b700446522",
   "metadata": {},
   "source": [
    "\n",
    "- [ESC] :  command Mode\n",
    "- [A] : Above 상단에 셀 추가\n",
    "- [B] : Below 하단에 셀 추가\n",
    "- [X ] : 잘라내기\n",
    "- [V] : 븥여넣기\n",
    "- [DD] : 삭제\n",
    "- [Z] : 실행취소\n",
    "\n",
    "- [ctrl] + [S] : 저장\n",
    "- [ctrl] + [/] : 주석모드"
   ]
  },
  {
   "cell_type": "markdown",
   "id": "1484329e-2d84-4843-be45-52dbf24b09fd",
   "metadata": {},
   "source": [
    "# 파이썬 기초 문법"
   ]
  },
  {
   "cell_type": "code",
   "execution_count": 13,
   "id": "f963299f-bead-4c3c-9081-f63ca4cef556",
   "metadata": {},
   "outputs": [],
   "source": [
    "data = 300"
   ]
  },
  {
   "cell_type": "code",
   "execution_count": 19,
   "id": "e9c13033-7bea-44ae-bd7f-0c8f6266a36b",
   "metadata": {},
   "outputs": [
    {
     "data": {
      "text/plain": [
       "300"
      ]
     },
     "execution_count": 19,
     "metadata": {},
     "output_type": "execute_result"
    }
   ],
   "source": [
    "data"
   ]
  },
  {
   "cell_type": "code",
   "execution_count": 27,
   "id": "35c56f3f-452a-41e8-9fa5-e248fd11e50c",
   "metadata": {},
   "outputs": [
    {
     "data": {
      "text/plain": [
       "'안녕하세요'"
      ]
     },
     "execution_count": 27,
     "metadata": {},
     "output_type": "execute_result"
    }
   ],
   "source": [
    "text1 = \"안녕하세요\"\n",
    "text1"
   ]
  },
  {
   "cell_type": "code",
   "execution_count": 29,
   "id": "9ea2618e-e915-40d6-9df5-e7dd98626ef2",
   "metadata": {},
   "outputs": [
    {
     "data": {
      "text/plain": [
       "500"
      ]
     },
     "execution_count": 29,
     "metadata": {},
     "output_type": "execute_result"
    }
   ],
   "source": [
    "data1 = 300\n",
    "data2 = 200\n",
    "data1 + data2"
   ]
  },
  {
   "cell_type": "markdown",
   "id": "79a83fdd-e8d3-4c3e-98bc-fcec828fe34b",
   "metadata": {},
   "source": [
    "# 데이터 타입"
   ]
  },
  {
   "cell_type": "markdown",
   "id": "35cda891-d8b8-4ae9-b334-83e9af43885d",
   "metadata": {},
   "source": [
    "- 숫자형 : int(정수형)/float(실수형)\n",
    "- 문자형 : str(문자열)/object(범주형)\n",
    "- 논리형 : boll True/False"
   ]
  },
  {
   "cell_type": "code",
   "execution_count": 8,
   "id": "35f21b9f-94cb-4c68-87df-04bdc9b772f9",
   "metadata": {},
   "outputs": [],
   "source": [
    "int1 = 3"
   ]
  },
  {
   "cell_type": "code",
   "execution_count": 12,
   "id": "24923cb5-6bd8-45c0-b4b0-19bd8a26d6eb",
   "metadata": {},
   "outputs": [
    {
     "data": {
      "text/plain": [
       "int"
      ]
     },
     "execution_count": 12,
     "metadata": {},
     "output_type": "execute_result"
    }
   ],
   "source": [
    "type(int1) #데이터 타입 확인"
   ]
  },
  {
   "cell_type": "code",
   "execution_count": 16,
   "id": "d0c023ae-1ebf-4707-af21-ad3255408a97",
   "metadata": {},
   "outputs": [
    {
     "data": {
      "text/plain": [
       "True"
      ]
     },
     "execution_count": 16,
     "metadata": {},
     "output_type": "execute_result"
    }
   ],
   "source": [
    "bool1 = True\n",
    "bool1"
   ]
  },
  {
   "cell_type": "code",
   "execution_count": 18,
   "id": "edc1d800-2021-41b0-896e-d43c1523ebfb",
   "metadata": {},
   "outputs": [
    {
     "data": {
      "text/plain": [
       "'ㅇ'"
      ]
     },
     "execution_count": 18,
     "metadata": {},
     "output_type": "execute_result"
    }
   ],
   "source": [
    "str1 = \"ㅇ\"\n",
    "str1"
   ]
  },
  {
   "cell_type": "code",
   "execution_count": 20,
   "id": "6e82b242-5962-4b2a-a9c1-7a55e98d8263",
   "metadata": {},
   "outputs": [
    {
     "data": {
      "text/plain": [
       "str"
      ]
     },
     "execution_count": 20,
     "metadata": {},
     "output_type": "execute_result"
    }
   ],
   "source": [
    "type(str1)"
   ]
  },
  {
   "cell_type": "code",
   "execution_count": 22,
   "id": "debdfe6c-b303-4036-a865-a188bd79389b",
   "metadata": {},
   "outputs": [
    {
     "data": {
      "text/plain": [
       "False"
      ]
     },
     "execution_count": 22,
     "metadata": {},
     "output_type": "execute_result"
    }
   ],
   "source": [
    "True & False"
   ]
  },
  {
   "cell_type": "code",
   "execution_count": 24,
   "id": "046b68bb-d429-4c98-b355-b543392128cb",
   "metadata": {},
   "outputs": [
    {
     "data": {
      "text/plain": [
       "False"
      ]
     },
     "execution_count": 24,
     "metadata": {},
     "output_type": "execute_result"
    }
   ],
   "source": [
    "True and False"
   ]
  },
  {
   "cell_type": "code",
   "execution_count": 28,
   "id": "8ff74829-7602-4d34-8b61-480d1c7aec3e",
   "metadata": {},
   "outputs": [
    {
     "data": {
      "text/plain": [
       "True"
      ]
     },
     "execution_count": 28,
     "metadata": {},
     "output_type": "execute_result"
    }
   ],
   "source": [
    "True | False"
   ]
  },
  {
   "cell_type": "markdown",
   "id": "14975908-68ac-4205-9933-dfa4df943851",
   "metadata": {},
   "source": [
    "# 연산\n",
    "- 데이터 타입에 따라 연산이 달라짐"
   ]
  },
  {
   "cell_type": "code",
   "execution_count": 31,
   "id": "7a92a65e-c1f5-47a9-8571-4723ebaaa535",
   "metadata": {},
   "outputs": [
    {
     "data": {
      "text/plain": [
       "71"
      ]
     },
     "execution_count": 31,
     "metadata": {},
     "output_type": "execute_result"
    }
   ],
   "source": [
    "data1 = 32\n",
    "data2 = 39\n",
    "\n",
    "data1 + data2"
   ]
  },
  {
   "cell_type": "code",
   "execution_count": 33,
   "id": "e118446b-c08c-40af-987c-5a60e130ee4c",
   "metadata": {},
   "outputs": [
    {
     "data": {
      "text/plain": [
       "1248"
      ]
     },
     "execution_count": 33,
     "metadata": {},
     "output_type": "execute_result"
    }
   ],
   "source": [
    "data1 * data2"
   ]
  },
  {
   "cell_type": "code",
   "execution_count": 35,
   "id": "297af2d1-fd62-4b42-86c1-aafce0a6de02",
   "metadata": {},
   "outputs": [
    {
     "data": {
      "text/plain": [
       "0.8205128205128205"
      ]
     },
     "execution_count": 35,
     "metadata": {},
     "output_type": "execute_result"
    }
   ],
   "source": [
    "data1/data2"
   ]
  },
  {
   "cell_type": "code",
   "execution_count": 37,
   "id": "278bbdaa-5a03-4b57-bd41-ccef10232be2",
   "metadata": {},
   "outputs": [
    {
     "data": {
      "text/plain": [
       "1024"
      ]
     },
     "execution_count": 37,
     "metadata": {},
     "output_type": "execute_result"
    }
   ],
   "source": [
    "data1 ** 2 #제곱"
   ]
  },
  {
   "cell_type": "code",
   "execution_count": 39,
   "id": "0ab10953-cb59-45a8-af47-35927cd99ab6",
   "metadata": {},
   "outputs": [
    {
     "data": {
      "text/plain": [
       "0"
      ]
     },
     "execution_count": 39,
     "metadata": {},
     "output_type": "execute_result"
    }
   ],
   "source": [
    "data1 % 2 #2로 나눈 나머지"
   ]
  },
  {
   "cell_type": "code",
   "execution_count": 41,
   "id": "b1b16c11-3e40-4593-9641-c1f775830741",
   "metadata": {},
   "outputs": [
    {
     "data": {
      "text/plain": [
       "16"
      ]
     },
     "execution_count": 41,
     "metadata": {},
     "output_type": "execute_result"
    }
   ],
   "source": [
    "data1 // 2 #2로 나눈 몫"
   ]
  },
  {
   "cell_type": "code",
   "execution_count": 43,
   "id": "94e15640-e753-43df-8928-45aa87d79d38",
   "metadata": {},
   "outputs": [
    {
     "data": {
      "text/plain": [
       "103"
      ]
     },
     "execution_count": 43,
     "metadata": {},
     "output_type": "execute_result"
    }
   ],
   "source": [
    "((data1 + data2) + data1)"
   ]
  },
  {
   "cell_type": "code",
   "execution_count": 45,
   "id": "4a4ce7d5-aee1-49a0-a570-4aec4b4af7db",
   "metadata": {},
   "outputs": [],
   "source": [
    "# 문자 데이터 연산"
   ]
  },
  {
   "cell_type": "code",
   "execution_count": 47,
   "id": "17471cfe-0796-4823-baf0-2e85ce53748a",
   "metadata": {},
   "outputs": [
    {
     "data": {
      "text/plain": [
       "'pythondata'"
      ]
     },
     "execution_count": 47,
     "metadata": {},
     "output_type": "execute_result"
    }
   ],
   "source": [
    "data3 = 'python'\n",
    "data4 = 'data'\n",
    "\n",
    "data3 + data4"
   ]
  },
  {
   "cell_type": "code",
   "execution_count": 51,
   "id": "b9110855-1956-480f-b7b6-ec859f7fc957",
   "metadata": {},
   "outputs": [
    {
     "data": {
      "text/plain": [
       "'pythonpythonpython'"
      ]
     },
     "execution_count": 51,
     "metadata": {},
     "output_type": "execute_result"
    }
   ],
   "source": [
    "data3 * 3"
   ]
  },
  {
   "cell_type": "code",
   "execution_count": 53,
   "id": "57eacdee-bbda-4b30-96c9-d540ee629cf5",
   "metadata": {},
   "outputs": [
    {
     "data": {
      "text/plain": [
       "True"
      ]
     },
     "execution_count": 53,
     "metadata": {},
     "output_type": "execute_result"
    }
   ],
   "source": [
    "data3 > data4 #알파벳 순서 상 뒤에 위치한 것이 큰 값"
   ]
  },
  {
   "cell_type": "code",
   "execution_count": 55,
   "id": "969e490c-83aa-4ce8-80da-d55e7131a790",
   "metadata": {},
   "outputs": [
    {
     "name": "stdout",
     "output_type": "stream",
     "text": [
      "33\n"
     ]
    }
   ],
   "source": [
    "# print 함수\n",
    "print(33)"
   ]
  },
  {
   "cell_type": "code",
   "execution_count": 59,
   "id": "01ec8434-a3e1-4da4-b12d-5d87eca4f8e5",
   "metadata": {},
   "outputs": [
    {
     "data": {
      "text/plain": [
       "'data'"
      ]
     },
     "execution_count": 59,
     "metadata": {},
     "output_type": "execute_result"
    }
   ],
   "source": [
    "data3\n",
    "data4"
   ]
  },
  {
   "cell_type": "code",
   "execution_count": 57,
   "id": "1267e4c4-d7d1-4376-9e9f-9dfbd22af446",
   "metadata": {},
   "outputs": [
    {
     "name": "stdout",
     "output_type": "stream",
     "text": [
      "python\n",
      "data\n"
     ]
    }
   ],
   "source": [
    "print(data3)\n",
    "print(data4) #두가지 결과 다 보여줌"
   ]
  },
  {
   "cell_type": "code",
   "execution_count": 63,
   "id": "bffd1559-5f3b-4f46-a007-d01e6d5af852",
   "metadata": {},
   "outputs": [],
   "source": [
    "# 논리형 연산"
   ]
  },
  {
   "cell_type": "code",
   "execution_count": 65,
   "id": "d0d2b5b1-ca92-4894-94d3-a07af0984eb2",
   "metadata": {},
   "outputs": [
    {
     "data": {
      "text/plain": [
       "False"
      ]
     },
     "execution_count": 65,
     "metadata": {},
     "output_type": "execute_result"
    }
   ],
   "source": [
    "3 == 4"
   ]
  },
  {
   "cell_type": "code",
   "execution_count": 67,
   "id": "79499bb8-2f8a-4e9a-b973-28830587530e",
   "metadata": {},
   "outputs": [
    {
     "data": {
      "text/plain": [
       "True"
      ]
     },
     "execution_count": 67,
     "metadata": {},
     "output_type": "execute_result"
    }
   ],
   "source": [
    "4 == 4"
   ]
  },
  {
   "cell_type": "code",
   "execution_count": 69,
   "id": "d8d15011-41a3-476a-a939-afd0dd1decb2",
   "metadata": {},
   "outputs": [
    {
     "data": {
      "text/plain": [
       "True"
      ]
     },
     "execution_count": 69,
     "metadata": {},
     "output_type": "execute_result"
    }
   ],
   "source": [
    "3 != 4"
   ]
  },
  {
   "cell_type": "code",
   "execution_count": 71,
   "id": "3c9a8fb3-22eb-4006-bf14-1aaed64ff372",
   "metadata": {},
   "outputs": [
    {
     "data": {
      "text/plain": [
       "False"
      ]
     },
     "execution_count": 71,
     "metadata": {},
     "output_type": "execute_result"
    }
   ],
   "source": [
    "3 != 3"
   ]
  },
  {
   "cell_type": "code",
   "execution_count": 73,
   "id": "8ac5a6c1-2910-4ed4-b2ec-79d1a0f98f36",
   "metadata": {},
   "outputs": [
    {
     "data": {
      "text/plain": [
       "False"
      ]
     },
     "execution_count": 73,
     "metadata": {},
     "output_type": "execute_result"
    }
   ],
   "source": [
    "data6 = 13\n",
    "data7 = 18\n",
    "\n",
    "data6 > data7"
   ]
  },
  {
   "cell_type": "code",
   "execution_count": 79,
   "id": "92f9b2f4-6aa3-4d74-ac2a-61eedcd54bb9",
   "metadata": {},
   "outputs": [
    {
     "data": {
      "text/plain": [
       "True"
      ]
     },
     "execution_count": 79,
     "metadata": {},
     "output_type": "execute_result"
    }
   ],
   "source": [
    "data6 <= data7"
   ]
  },
  {
   "cell_type": "markdown",
   "id": "bc451d02-8d98-4da1-9a82-b2d3f3c84378",
   "metadata": {},
   "source": [
    "# 자료구조"
   ]
  },
  {
   "cell_type": "markdown",
   "id": "7f986576-6a4f-40e5-934d-7abbe2ca6bcf",
   "metadata": {},
   "source": [
    " - List []\n",
    " - Tuple ()\n",
    " - set ()\n",
    " - DIctionary ()"
   ]
  },
  {
   "cell_type": "markdown",
   "id": "1fa17a9f-c866-473d-84e9-47cba3083bdc",
   "metadata": {},
   "source": [
    "# 리스트\n",
    "- [대괄호]로 구성\n",
    "- 데이터의 순서가 존재\n",
    "- 중복값 허용\n",
    "- 데이터의 수정 가능"
   ]
  },
  {
   "cell_type": "code",
   "execution_count": 91,
   "id": "381c06d8-b981-4bf5-a9ef-b93028f4e3c6",
   "metadata": {},
   "outputs": [
    {
     "data": {
      "text/plain": [
       "[1, 2, 3, 4, 5]"
      ]
     },
     "execution_count": 91,
     "metadata": {},
     "output_type": "execute_result"
    }
   ],
   "source": [
    "list1 = [1,2,3,4,5]\n",
    "list1"
   ]
  },
  {
   "cell_type": "code",
   "execution_count": 93,
   "id": "9f028344-51e4-4ad8-99dd-c2eccc605c58",
   "metadata": {},
   "outputs": [
    {
     "data": {
      "text/plain": [
       "list"
      ]
     },
     "execution_count": 93,
     "metadata": {},
     "output_type": "execute_result"
    }
   ],
   "source": [
    "type(list1)"
   ]
  },
  {
   "cell_type": "code",
   "execution_count": 97,
   "id": "8d7073ff-38ab-40aa-ac9c-5a00a112b420",
   "metadata": {},
   "outputs": [
    {
     "data": {
      "text/plain": [
       "[1, 4, 2, 5]"
      ]
     },
     "execution_count": 97,
     "metadata": {},
     "output_type": "execute_result"
    }
   ],
   "source": [
    "list2 = [1,4,2,5]\n",
    "#오름차순/내림차순 반환 X\n",
    "list2"
   ]
  },
  {
   "cell_type": "code",
   "execution_count": 99,
   "id": "6f876223-701e-4da5-8271-2a78bcb8d64d",
   "metadata": {},
   "outputs": [
    {
     "data": {
      "text/plain": [
       "['a', 'b', 'c', 1, 2, 3]"
      ]
     },
     "execution_count": 99,
     "metadata": {},
     "output_type": "execute_result"
    }
   ],
   "source": [
    "list3 = ['a','b','c',1,2,3]\n",
    "list3"
   ]
  },
  {
   "cell_type": "code",
   "execution_count": 105,
   "id": "52d075c2-c233-4230-9591-6cc61be64f2d",
   "metadata": {},
   "outputs": [
    {
     "data": {
      "text/plain": [
       "'a'"
      ]
     },
     "execution_count": 105,
     "metadata": {},
     "output_type": "execute_result"
    }
   ],
   "source": [
    "# 인덱싱 = 호출\n",
    "list3[0]"
   ]
  },
  {
   "cell_type": "code",
   "execution_count": 109,
   "id": "684c30c5-dfa7-4620-a299-a04184cbbf21",
   "metadata": {},
   "outputs": [
    {
     "data": {
      "text/plain": [
       "['a', 'b', 'c', 'z', 2, 3]"
      ]
     },
     "execution_count": 109,
     "metadata": {},
     "output_type": "execute_result"
    }
   ],
   "source": [
    "# 데이터 변환\n",
    "list3[3] = 'z'\n",
    "list3"
   ]
  },
  {
   "cell_type": "code",
   "execution_count": 111,
   "id": "8237926a-5fd0-4b8d-ae69-10a148e2d30c",
   "metadata": {},
   "outputs": [
    {
     "data": {
      "text/plain": [
       "['a', 'b']"
      ]
     },
     "execution_count": 111,
     "metadata": {},
     "output_type": "execute_result"
    }
   ],
   "source": [
    "# 슬라이싱\n",
    "# [n:m] : n 부터 m-1 까지 호출\n",
    "list3[0:2]"
   ]
  },
  {
   "cell_type": "code",
   "execution_count": 113,
   "id": "9aec42fe-ce5d-4ac4-be52-81756f5869a1",
   "metadata": {},
   "outputs": [
    {
     "data": {
      "text/plain": [
       "['a', 'b']"
      ]
     },
     "execution_count": 113,
     "metadata": {},
     "output_type": "execute_result"
    }
   ],
   "source": [
    "list4 = list3[0:2]\n",
    "list4"
   ]
  },
  {
   "cell_type": "code",
   "execution_count": 115,
   "id": "cc92a7bc-679b-4d0c-b09d-15d5af72eb38",
   "metadata": {},
   "outputs": [],
   "source": [
    "# 데이터 추가/변경/삭제"
   ]
  },
  {
   "cell_type": "code",
   "execution_count": 117,
   "id": "ea242219-7ec9-4170-9d53-43e517a473cb",
   "metadata": {},
   "outputs": [
    {
     "data": {
      "text/plain": [
       "['국어', '수학', '영어']"
      ]
     },
     "execution_count": 117,
     "metadata": {},
     "output_type": "execute_result"
    }
   ],
   "source": [
    "list5 = ['국어','수학','영어']\n",
    "list5"
   ]
  },
  {
   "cell_type": "code",
   "execution_count": 119,
   "id": "85cc2cf3-08a5-4cbf-a106-84087447281c",
   "metadata": {},
   "outputs": [
    {
     "data": {
      "text/plain": [
       "['국어', '수학', '영어', '체육']"
      ]
     },
     "execution_count": 119,
     "metadata": {},
     "output_type": "execute_result"
    }
   ],
   "source": [
    "list5.append('체육')\n",
    "list5"
   ]
  },
  {
   "cell_type": "code",
   "execution_count": 121,
   "id": "9b8b6419-5fed-426d-8d78-3f2b216c21d5",
   "metadata": {},
   "outputs": [
    {
     "data": {
      "text/plain": [
       "['과학', '국어', '수학', '영어', '체육']"
      ]
     },
     "execution_count": 121,
     "metadata": {},
     "output_type": "execute_result"
    }
   ],
   "source": [
    "list5.insert(0,'과학')\n",
    "list5"
   ]
  },
  {
   "cell_type": "code",
   "execution_count": 123,
   "id": "eb53c22e-a0b2-452f-ab1f-ecfcaa055d7f",
   "metadata": {},
   "outputs": [
    {
     "data": {
      "text/plain": [
       "['과학', '국어', '영어', '체육']"
      ]
     },
     "execution_count": 123,
     "metadata": {},
     "output_type": "execute_result"
    }
   ],
   "source": [
    "list5.remove('수학')\n",
    "list5"
   ]
  },
  {
   "cell_type": "markdown",
   "id": "983cd9f8-2e13-42e3-a306-6c910361baad",
   "metadata": {},
   "source": [
    "# Tuple\n",
    "- (소괄호)로 구성\n",
    "- 중복값을 허용\n",
    "- 데이터 수정 불가"
   ]
  },
  {
   "cell_type": "code",
   "execution_count": 127,
   "id": "be595afa-c97c-4eb1-bdad-5661ec791f71",
   "metadata": {
    "scrolled": true
   },
   "outputs": [
    {
     "data": {
      "text/plain": [
       "(1, 2, 3)"
      ]
     },
     "execution_count": 127,
     "metadata": {},
     "output_type": "execute_result"
    }
   ],
   "source": [
    "tuple1 = (1,2,3)\n",
    "tuple1"
   ]
  },
  {
   "cell_type": "code",
   "execution_count": 129,
   "id": "22cd06c3-4124-4504-a15b-ebe4996e8cb4",
   "metadata": {},
   "outputs": [
    {
     "data": {
      "text/plain": [
       "tuple"
      ]
     },
     "execution_count": 129,
     "metadata": {},
     "output_type": "execute_result"
    }
   ],
   "source": [
    "type(tuple1)"
   ]
  },
  {
   "cell_type": "code",
   "execution_count": 131,
   "id": "b92f8415-65c4-467c-ad7d-ed09e1ace6d3",
   "metadata": {},
   "outputs": [
    {
     "data": {
      "text/plain": [
       "[1, 2, 3]"
      ]
     },
     "execution_count": 131,
     "metadata": {},
     "output_type": "execute_result"
    }
   ],
   "source": [
    "# 수정\n",
    "list(tuple1)"
   ]
  },
  {
   "cell_type": "code",
   "execution_count": 133,
   "id": "b0c531e4-a93a-45c1-a5f1-95a91b60fbf2",
   "metadata": {},
   "outputs": [
    {
     "data": {
      "text/plain": [
       "(1, 2, 3)"
      ]
     },
     "execution_count": 133,
     "metadata": {},
     "output_type": "execute_result"
    }
   ],
   "source": [
    "tuple1"
   ]
  },
  {
   "cell_type": "code",
   "execution_count": 139,
   "id": "1cc14bd7-940b-40dc-a2ce-9d71ed431786",
   "metadata": {},
   "outputs": [
    {
     "data": {
      "text/plain": [
       "[1, 2, 3]"
      ]
     },
     "execution_count": 139,
     "metadata": {},
     "output_type": "execute_result"
    }
   ],
   "source": [
    "list2 = list(tuple1)\n",
    "list2\n"
   ]
  },
  {
   "cell_type": "code",
   "execution_count": 141,
   "id": "771a81e2-0bb7-4fe3-a162-d5ff4656f23e",
   "metadata": {},
   "outputs": [
    {
     "data": {
      "text/plain": [
       "(1, 2, 3)"
      ]
     },
     "execution_count": 141,
     "metadata": {},
     "output_type": "execute_result"
    }
   ],
   "source": [
    "tuple(list2)"
   ]
  },
  {
   "cell_type": "code",
   "execution_count": 143,
   "id": "a471889b-f7f5-4c67-ad8d-306c99d63353",
   "metadata": {},
   "outputs": [
    {
     "data": {
      "text/plain": [
       "(1, 2, 3)"
      ]
     },
     "execution_count": 143,
     "metadata": {},
     "output_type": "execute_result"
    }
   ],
   "source": [
    "tuple2 = tuple(list2)\n",
    "tuple2"
   ]
  },
  {
   "cell_type": "markdown",
   "id": "1edf0b4b-8d63-4222-8a5b-556105aaefbd",
   "metadata": {},
   "source": [
    "# set\n",
    "- {중괄호}로 구성\n",
    "- 중복값 없음\n",
    "- 데이터 수정 가능\n",
    "- 집합연산 가능"
   ]
  },
  {
   "cell_type": "code",
   "execution_count": 146,
   "id": "26b17a9a-6deb-4ec7-904c-7180360e75ed",
   "metadata": {},
   "outputs": [
    {
     "data": {
      "text/plain": [
       "{1, 2, 3, 4, 5}"
      ]
     },
     "execution_count": 146,
     "metadata": {},
     "output_type": "execute_result"
    }
   ],
   "source": [
    "set1 = {5,1,1,2,3,4}\n",
    "set1 # 중복안돼고 순서 없음"
   ]
  },
  {
   "cell_type": "code",
   "execution_count": 148,
   "id": "a6edee7a-56b2-400f-a11f-0b48b97956ff",
   "metadata": {},
   "outputs": [
    {
     "data": {
      "text/plain": [
       "5"
      ]
     },
     "execution_count": 148,
     "metadata": {},
     "output_type": "execute_result"
    }
   ],
   "source": [
    "len(set1)"
   ]
  },
  {
   "cell_type": "code",
   "execution_count": 150,
   "id": "ab82c5a8-d350-4811-b336-925f41e375c2",
   "metadata": {},
   "outputs": [
    {
     "data": {
      "text/plain": [
       "{4, 6, 7}"
      ]
     },
     "execution_count": 150,
     "metadata": {},
     "output_type": "execute_result"
    }
   ],
   "source": [
    "# 집협연산\n",
    "set2 = {2,4,5,6,7}\n",
    "set3 = {1,3,4,6,7}\n",
    "\n",
    "# 교집합\n",
    "set2 & set3"
   ]
  },
  {
   "cell_type": "code",
   "execution_count": 152,
   "id": "a71298ca-1a72-4232-a28e-d72169c3a2cb",
   "metadata": {},
   "outputs": [
    {
     "data": {
      "text/plain": [
       "{1, 2, 3, 4, 5, 6, 7}"
      ]
     },
     "execution_count": 152,
     "metadata": {},
     "output_type": "execute_result"
    }
   ],
   "source": [
    "# 합집합\n",
    "set2 | set3"
   ]
  },
  {
   "cell_type": "code",
   "execution_count": 154,
   "id": "b5dedb3f-da77-42f7-8e4c-a01ef74c02cf",
   "metadata": {},
   "outputs": [
    {
     "data": {
      "text/plain": [
       "{2, 5}"
      ]
     },
     "execution_count": 154,
     "metadata": {},
     "output_type": "execute_result"
    }
   ],
   "source": [
    "# 차집합\n",
    "set2 - set3"
   ]
  },
  {
   "cell_type": "code",
   "execution_count": 156,
   "id": "3a53fa45-b130-47ed-846f-47224c20ab9d",
   "metadata": {},
   "outputs": [
    {
     "data": {
      "text/plain": [
       "{1, 2, 3, 5}"
      ]
     },
     "execution_count": 156,
     "metadata": {},
     "output_type": "execute_result"
    }
   ],
   "source": [
    "# 대상 차집합\n",
    "set2 ^ set3"
   ]
  },
  {
   "cell_type": "markdown",
   "id": "704ec4c3-e3be-4865-9ef5-18d10322bb02",
   "metadata": {},
   "source": [
    "# Dictionary\n",
    "- key 와 value 쌍\n",
    "- {'key1' : 'value1','key2' : 'value2'}\n",
    "- 순서는 key 기준\n",
    "- 정형데이터의 기본 구성 요소"
   ]
  },
  {
   "cell_type": "code",
   "execution_count": 161,
   "id": "a8a671a2-20e6-4169-aa59-eedbaa6093f9",
   "metadata": {},
   "outputs": [
    {
     "data": {
      "text/plain": [
       "{'이름': '홍길동', '나이': 23}"
      ]
     },
     "execution_count": 161,
     "metadata": {},
     "output_type": "execute_result"
    }
   ],
   "source": [
    "dict1 = {'이름' : '홍길동', '나이' : 23}\n",
    "dict1"
   ]
  },
  {
   "cell_type": "code",
   "execution_count": 165,
   "id": "e8aaa818-722e-442b-97d2-6b8a76eafd38",
   "metadata": {},
   "outputs": [
    {
     "data": {
      "text/plain": [
       "'홍길동'"
      ]
     },
     "execution_count": 165,
     "metadata": {},
     "output_type": "execute_result"
    }
   ],
   "source": [
    "dict1['이름']"
   ]
  },
  {
   "cell_type": "code",
   "execution_count": 167,
   "id": "72657819-6aa5-4961-8dbd-52ff9cf487e9",
   "metadata": {},
   "outputs": [
    {
     "data": {
      "text/plain": [
       "dict_keys(['이름', '나이'])"
      ]
     },
     "execution_count": 167,
     "metadata": {},
     "output_type": "execute_result"
    }
   ],
   "source": [
    "dict1.keys()"
   ]
  },
  {
   "cell_type": "code",
   "execution_count": 171,
   "id": "b17cb3da-7c44-49c5-85a5-2e26de816db4",
   "metadata": {},
   "outputs": [
    {
     "data": {
      "text/plain": [
       "dict_values(['홍길동', 23])"
      ]
     },
     "execution_count": 171,
     "metadata": {},
     "output_type": "execute_result"
    }
   ],
   "source": [
    "dict1.values()"
   ]
  },
  {
   "cell_type": "code",
   "execution_count": 173,
   "id": "b82b994b-38e3-4d40-a3dd-021f1945c052",
   "metadata": {},
   "outputs": [
    {
     "data": {
      "text/plain": [
       "{'이름': '홍길동', '나이': 23, '지역': '서울'}"
      ]
     },
     "execution_count": 173,
     "metadata": {},
     "output_type": "execute_result"
    }
   ],
   "source": [
    "# 새로운 데이터 추가\n",
    "dict1['지역'] = '서울'\n",
    "dict1"
   ]
  },
  {
   "cell_type": "code",
   "execution_count": 181,
   "id": "c807ef9b-6717-416a-9efb-c1c4f9ab9f20",
   "metadata": {},
   "outputs": [
    {
     "data": {
      "text/plain": [
       "{'이름': '이기철', '나이': 18, '지역': '검정고무신'}"
      ]
     },
     "execution_count": 181,
     "metadata": {},
     "output_type": "execute_result"
    }
   ],
   "source": [
    "list1 = ['이름','나이','지역']\n",
    "list2 = ['이기철',18,'검정고무신']\n",
    "\n",
    "dict(zip(list1,list2))"
   ]
  },
  {
   "cell_type": "markdown",
   "id": "0dda7791-b591-4dce-a2d5-0f6a64d4c372",
   "metadata": {},
   "source": [
    "# 문자열 처리\n",
    "- 문제 데이터에 대한 다양한 처리\n",
    "- 정형데이터 분 아니라 자연어 처리에도 다양하게 사용하는 함수들이 존재"
   ]
  },
  {
   "cell_type": "code",
   "execution_count": 184,
   "id": "30c666b0-07d2-4627-ba56-d48a7ef30f17",
   "metadata": {},
   "outputs": [],
   "source": [
    "# 문자데이터는 따옴표/ 쌍따옴표/ 따옴표 3개를 이용해 표현"
   ]
  },
  {
   "cell_type": "code",
   "execution_count": 186,
   "id": "933641ab-cefa-47da-8ba8-caacdedb5bf3",
   "metadata": {},
   "outputs": [
    {
     "data": {
      "text/plain": [
       "'파이썬 데이터 분석'"
      ]
     },
     "execution_count": 186,
     "metadata": {},
     "output_type": "execute_result"
    }
   ],
   "source": [
    "'파이썬 데이터 분석'"
   ]
  },
  {
   "cell_type": "code",
   "execution_count": 188,
   "id": "2a43d1df-4cc5-4573-af13-97c4e1186367",
   "metadata": {},
   "outputs": [
    {
     "data": {
      "text/plain": [
       "'\\n\\n중간에 있는 텍스트도 모두 출력\\n\\n\\n'"
      ]
     },
     "execution_count": 188,
     "metadata": {},
     "output_type": "execute_result"
    }
   ],
   "source": [
    "'''\n",
    "\n",
    "중간에 있는 텍스트도 모두 출력\n",
    "\n",
    "\n",
    "'''"
   ]
  },
  {
   "cell_type": "code",
   "execution_count": 190,
   "id": "222ef01a-c325-4602-871a-d7e7c364f5b1",
   "metadata": {},
   "outputs": [
    {
     "name": "stdout",
     "output_type": "stream",
     "text": [
      "\n",
      "\n",
      "중간에 있는 텍스트도 모두 출력\n",
      "\n",
      "\n",
      "\n"
     ]
    }
   ],
   "source": [
    "print('''\n",
    "\n",
    "중간에 있는 텍스트도 모두 출력\n",
    "\n",
    "\n",
    "''')"
   ]
  },
  {
   "cell_type": "code",
   "execution_count": 192,
   "id": "b6959be3-a281-488b-abd9-bdc6a1e03087",
   "metadata": {},
   "outputs": [
    {
     "data": {
      "text/plain": [
       "\"'안녕하세요' 라고 속으로 생각했다\""
      ]
     },
     "execution_count": 192,
     "metadata": {},
     "output_type": "execute_result"
    }
   ],
   "source": [
    "#따옴표 구분\n",
    "\"'안녕하세요' 라고 속으로 생각했다\""
   ]
  },
  {
   "cell_type": "code",
   "execution_count": 194,
   "id": "20ec1277-4647-4309-a587-7579dd986090",
   "metadata": {},
   "outputs": [
    {
     "data": {
      "text/plain": [
       "11"
      ]
     },
     "execution_count": 194,
     "metadata": {},
     "output_type": "execute_result"
    }
   ],
   "source": [
    "str1 =  '오늘은 날이 맑습니다'\n",
    "len(str1)"
   ]
  },
  {
   "cell_type": "code",
   "execution_count": 196,
   "id": "a82c4cc8-a60c-43ee-bb8d-3504fbac776e",
   "metadata": {},
   "outputs": [
    {
     "data": {
      "text/plain": [
       "'오'"
      ]
     },
     "execution_count": 196,
     "metadata": {},
     "output_type": "execute_result"
    }
   ],
   "source": [
    "str1[0]"
   ]
  },
  {
   "cell_type": "code",
   "execution_count": 198,
   "id": "5a3d2df7-f6cd-4cfa-9d58-ad8ded92fb40",
   "metadata": {},
   "outputs": [
    {
     "data": {
      "text/plain": [
       "'오늘은'"
      ]
     },
     "execution_count": 198,
     "metadata": {},
     "output_type": "execute_result"
    }
   ],
   "source": [
    "str1[0:3]"
   ]
  },
  {
   "cell_type": "code",
   "execution_count": 200,
   "id": "3072babb-4ca3-453d-8d3d-9f91e4550df0",
   "metadata": {},
   "outputs": [
    {
     "data": {
      "text/plain": [
       "'맑습니'"
      ]
     },
     "execution_count": 200,
     "metadata": {},
     "output_type": "execute_result"
    }
   ],
   "source": [
    "str1[-4 : -1 #m-1 출력 하지 않는다"
   ]
  },
  {
   "cell_type": "code",
   "execution_count": 202,
   "id": "cbe53527-49e8-437d-bce6-445af5bca659",
   "metadata": {},
   "outputs": [
    {
     "data": {
      "text/plain": [
       "'다'"
      ]
     },
     "execution_count": 202,
     "metadata": {},
     "output_type": "execute_result"
    }
   ],
   "source": [
    "str1[-1]"
   ]
  },
  {
   "cell_type": "code",
   "execution_count": 206,
   "id": "e4e0e869-345e-4504-b4ca-333b8ddd1d63",
   "metadata": {},
   "outputs": [
    {
     "data": {
      "text/plain": [
       "'안녕하세요 제 mbti는 intj입니다'"
      ]
     },
     "execution_count": 206,
     "metadata": {},
     "output_type": "execute_result"
    }
   ],
   "source": [
    "# 포맷팅\n",
    "\n",
    "mbti = 'intj'\n",
    "blood_type = 'rh-o'\n",
    "\n",
    "f'안녕하세요 제 mbti는 {mbti}입니다'"
   ]
  },
  {
   "cell_type": "code",
   "execution_count": 208,
   "id": "678d7b80-fbc5-45d7-a21e-cdcbac44cf00",
   "metadata": {},
   "outputs": [
    {
     "data": {
      "text/plain": [
       "3"
      ]
     },
     "execution_count": 208,
     "metadata": {},
     "output_type": "execute_result"
    }
   ],
   "source": [
    "# 특정 문자 갯수를 세야 하는 경우\n",
    "\n",
    "str3 = 'hello python data analysis'\n",
    "\n",
    "str3.count('l')"
   ]
  },
  {
   "cell_type": "code",
   "execution_count": 212,
   "id": "681684b6-6c72-4d21-a0ed-eeb45869575a",
   "metadata": {},
   "outputs": [
    {
     "data": {
      "text/plain": [
       "'HELLO PYTHON DATA ANALYSIS'"
      ]
     },
     "execution_count": 212,
     "metadata": {},
     "output_type": "execute_result"
    }
   ],
   "source": [
    "str3.upper()"
   ]
  },
  {
   "cell_type": "code",
   "execution_count": 214,
   "id": "8a3afee0-0a76-48c1-b8d1-cacd0ddf0132",
   "metadata": {},
   "outputs": [
    {
     "data": {
      "text/plain": [
       "2"
      ]
     },
     "execution_count": 214,
     "metadata": {},
     "output_type": "execute_result"
    }
   ],
   "source": [
    "str3.find('l')"
   ]
  }
 ],
 "metadata": {
  "kernelspec": {
   "display_name": "Python 3 (ipykernel)",
   "language": "python",
   "name": "python3"
  },
  "language_info": {
   "codemirror_mode": {
    "name": "ipython",
    "version": 3
   },
   "file_extension": ".py",
   "mimetype": "text/x-python",
   "name": "python",
   "nbconvert_exporter": "python",
   "pygments_lexer": "ipython3",
   "version": "3.11.7"
  }
 },
 "nbformat": 4,
 "nbformat_minor": 5
}
