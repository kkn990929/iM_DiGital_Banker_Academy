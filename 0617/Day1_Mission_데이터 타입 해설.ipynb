{
 "cells": [
  {
   "cell_type": "markdown",
   "id": "54f20eb1-537a-4082-b4f5-530fa063600a",
   "metadata": {},
   "source": [
    "# 미션"
   ]
  },
  {
   "cell_type": "markdown",
   "id": "2fd292e0-976b-4536-a4bf-fcb09bf13529",
   "metadata": {},
   "source": [
    "## 1. 아래에 선언된 문자형 변수를 추출하여, 과목, 이름, 일자를 딕셔너리 형태로 출력하시오.\n",
    "     - dict1 = {'과목':'Python','이름':'홍길동','일자':'20240701'}"
   ]
  },
  {
   "cell_type": "code",
   "execution_count": 11,
   "id": "4a42ef43-e783-40e2-9b8c-635ca260a6db",
   "metadata": {},
   "outputs": [
    {
     "data": {
      "text/plain": [
       "{'과목': 'Python', '이름': '홍길동', '일자': '20240701'}"
      ]
     },
     "execution_count": 11,
     "metadata": {},
     "output_type": "execute_result"
    }
   ],
   "source": [
    "dict1 = {'과목':'Python','이름':'홍길동','일자':'20240701'}\n",
    "\n",
    "dict1_keys = dict1.keys()\n",
    "dict1_values = dict1.values()\n",
    "\n",
    "\n",
    "dict(zip(dict1_keys,dict1_values))"
   ]
  },
  {
   "cell_type": "markdown",
   "id": "cfab729e-8224-462f-a39b-1a7a6760e67c",
   "metadata": {},
   "source": [
    "## 2. 키와 몸무게를 입력받아 BMI 수치를 계산하는 코드를 작성하고, 새로운 값을 입력할 때마다, result_list에 결과를 추가하시오.\n",
    "    - 조건 : 새로운 값을 입력 할 때 마다 기존의 데이터가 삭제되지 않고 추가되어야 합니다.\n",
    "    - 신체질량지수(BMI) = 체중(kg) / [신장(m)]2"
   ]
  },
  {
   "cell_type": "code",
   "execution_count": null,
   "id": "cedec88b-6783-4a66-acc1-0a48b286c77e",
   "metadata": {},
   "outputs": [],
   "source": [
    "result_list = []"
   ]
  },
  {
   "cell_type": "code",
   "execution_count": 16,
   "id": "315c3308-bd94-45f5-b2df-7e9d7586825b",
   "metadata": {},
   "outputs": [
    {
     "name": "stdin",
     "output_type": "stream",
     "text": [
      "키를 입력하세요 123\n",
      "몸무게를 입력하세요 10\n"
     ]
    },
    {
     "data": {
      "text/plain": [
       "[0.0006609822195782933]"
      ]
     },
     "execution_count": 16,
     "metadata": {},
     "output_type": "execute_result"
    }
   ],
   "source": [
    "result_list = []\n",
    "h = float(input('키를 입력하세요'))\n",
    "w = float(input('몸무게를 입력하세요'))\n",
    "bmi = (w /h**2)\n",
    "result_list.append(bmi)\n",
    "\n",
    "result_list"
   ]
  },
  {
   "cell_type": "markdown",
   "id": "9740d835-f42b-4d83-9a82-b5f4a908e1ff",
   "metadata": {},
   "source": [
    "## 3. 아래의 문자열을 리스트로 변환하시오.\n",
    "    - Music is my life -> ['Music','Is','My','Life'] \n",
    "    "
   ]
  },
  {
   "cell_type": "code",
   "execution_count": 22,
   "id": "6e420985-e657-4725-9887-e6851f55ea61",
   "metadata": {},
   "outputs": [
    {
     "data": {
      "text/plain": [
       "['Music', 'is', 'my', 'life']"
      ]
     },
     "execution_count": 22,
     "metadata": {},
     "output_type": "execute_result"
    }
   ],
   "source": [
    "str1 = 'Music is my life'\n",
    "str2 = str1.split(' ')\n",
    "str2"
   ]
  },
  {
   "cell_type": "markdown",
   "id": "a8a0d805-72b8-4b8a-9629-0d90cb63746b",
   "metadata": {},
   "source": [
    "## 4. 아래 선언된 튜플에 80 이라는 값을 추가하여 출력하시오.\n",
    "    - t1 = (13,234,53,22,35) "
   ]
  },
  {
   "cell_type": "code",
   "execution_count": 3,
   "id": "a9fbe7b9-2b47-444d-9867-3e44c0b7bfe5",
   "metadata": {},
   "outputs": [
    {
     "data": {
      "text/plain": [
       "[13, 234, 53, 22, 35, 80]"
      ]
     },
     "execution_count": 3,
     "metadata": {},
     "output_type": "execute_result"
    }
   ],
   "source": [
    "t1 = (13,234,53,22,35) \n",
    "\n",
    "list_t1 = list(t1)\n",
    "\n",
    "list_t1.append(80)\n",
    "\n",
    "list_t1"
   ]
  },
  {
   "cell_type": "markdown",
   "id": "f3b0cb83-da09-4a85-9560-356323bdbafe",
   "metadata": {},
   "source": [
    "## 5. 아래의 리스트에서 A 문자를 C 문자로 바꾸어 출력하시오.\n",
    "    - list1 = ['A', 123, 'B', 'D', 'F']\n"
   ]
  },
  {
   "cell_type": "code",
   "execution_count": 21,
   "id": "4b3865f3-11a8-4041-9cc8-6ace987c13ab",
   "metadata": {},
   "outputs": [
    {
     "data": {
      "text/plain": [
       "['C', 123, 'B', 'D', 'F']"
      ]
     },
     "execution_count": 21,
     "metadata": {},
     "output_type": "execute_result"
    }
   ],
   "source": [
    "list1 = ['A', 123, 'B', 'D', 'F']\n",
    "list1[0] = 'C'\n",
    "list1"
   ]
  },
  {
   "cell_type": "markdown",
   "id": "38e03f1f-a96b-4652-b0f0-962128e6920a",
   "metadata": {},
   "source": [
    "## 6. 아래 두 개의 리스트에서 중복된 값을 제거하여 출력하시오.\n",
    "    - list1 = [1,2,3,4,5,6,7,8,9]\n",
    "    - list2 = [2,4,6,7,8,9]\n",
    "    - 결과 : [1,3,4,5]"
   ]
  },
  {
   "cell_type": "code",
   "execution_count": 5,
   "id": "841520f6-f6f3-4d41-baa5-a2f88dbde3c9",
   "metadata": {},
   "outputs": [
    {
     "data": {
      "text/plain": [
       "{1, 3, 5}"
      ]
     },
     "execution_count": 5,
     "metadata": {},
     "output_type": "execute_result"
    }
   ],
   "source": [
    "list1 = [1,2,3,4,5,6,7,8,9]\n",
    "list2 = [2,4,6,7,8,9]\n",
    "\n",
    "set1 = set(list1)\n",
    "set2 = set(list2)\n",
    "\n",
    "set1 ^ set2"
   ]
  },
  {
   "cell_type": "code",
   "execution_count": null,
   "id": "19db60c8-2daa-4ae7-baf4-831f29c34121",
   "metadata": {},
   "outputs": [],
   "source": []
  }
 ],
 "metadata": {
  "kernelspec": {
   "display_name": "Python 3 (ipykernel)",
   "language": "python",
   "name": "python3"
  },
  "language_info": {
   "codemirror_mode": {
    "name": "ipython",
    "version": 3
   },
   "file_extension": ".py",
   "mimetype": "text/x-python",
   "name": "python",
   "nbconvert_exporter": "python",
   "pygments_lexer": "ipython3",
   "version": "3.11.7"
  }
 },
 "nbformat": 4,
 "nbformat_minor": 5
}
