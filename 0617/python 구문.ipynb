{
 "cells": [
  {
   "cell_type": "markdown",
   "id": "fc54cfa7-412e-4c8a-bd80-eeb403b95436",
   "metadata": {},
   "source": [
    "# 파이썬 구문\n",
    "- 특정 코드 반복, 조건 만족 시 발동되도록 구성\n",
    "- 조건문/반복문\n",
    "- 예외처리"
   ]
  },
  {
   "cell_type": "markdown",
   "id": "467035fb-a939-4881-9705-d4f90e455f8a",
   "metadata": {},
   "source": [
    "## 조건문\n",
    "- if /elif/else\n",
    "- in/ not in\n",
    "- pass\n"
   ]
  },
  {
   "cell_type": "code",
   "execution_count": 21,
   "id": "f54e88d2-74ce-4ef6-9b4a-41376bd1581f",
   "metadata": {},
   "outputs": [
    {
     "name": "stdout",
     "output_type": "stream",
     "text": [
      "30보다 작다\n"
     ]
    }
   ],
   "source": [
    "data1 = 25\n",
    "if data1 > 30 :\n",
    "    print('30보다 크다')\n",
    "elif data1 ==50 :\n",
    "    print('50입니다')\n",
    "else :\n",
    "    print('30보다 작다')"
   ]
  },
  {
   "cell_type": "code",
   "execution_count": 27,
   "id": "6681483e-94ff-4501-99ba-8d1cd130c8fd",
   "metadata": {},
   "outputs": [
    {
     "name": "stdout",
     "output_type": "stream",
     "text": [
      "B\n"
     ]
    }
   ],
   "source": [
    "data2 = 80\n",
    "\n",
    "if data2 >= 90:\n",
    "    print('A')\n",
    "elif data2 >= 80:\n",
    "    print('B')\n",
    "elif data2 >= 70:\n",
    "    print('C')\n",
    "else:\n",
    "    print('')\n"
   ]
  },
  {
   "cell_type": "code",
   "execution_count": 29,
   "id": "6e016fb4-63d6-446b-87cc-dde3e5c4147a",
   "metadata": {},
   "outputs": [
    {
     "name": "stdout",
     "output_type": "stream",
     "text": [
      "python\n"
     ]
    }
   ],
   "source": [
    "#문자열이 들어간 조건문\n",
    "\n",
    "# in : 문자열 조건문에 주로 사용된다\n",
    "\n",
    "data3 = 'python 데이터 분석'\n",
    "if 'java' in data3:\n",
    "    print('java')\n",
    "elif 'python' in data3:\n",
    "    print('python')\n",
    "else:\n",
    "    print('B')\n"
   ]
  },
  {
   "cell_type": "code",
   "execution_count": 31,
   "id": "81e8c1ed-f7cb-4cad-858e-d5e70e863757",
   "metadata": {},
   "outputs": [
    {
     "name": "stdout",
     "output_type": "stream",
     "text": [
      "java\n"
     ]
    }
   ],
   "source": [
    "data3 = 'python 데이터 분석'\n",
    "if 'java' not in data3:\n",
    "    print('java')\n",
    "elif 'python' in data3:\n",
    "    print('python')\n",
    "else:\n",
    "    print('B')\n",
    "\n",
    "#not in 만족하고 코드 끝"
   ]
  },
  {
   "cell_type": "code",
   "execution_count": 35,
   "id": "023fbf5d-2909-48e5-9f74-2814752acc4e",
   "metadata": {},
   "outputs": [
    {
     "name": "stdout",
     "output_type": "stream",
     "text": [
      "java\n",
      "python\n"
     ]
    }
   ],
   "source": [
    "data3 = 'python 데이터 분석'\n",
    "if 'java' not in data3:\n",
    "    print('java')\n",
    "if 'python' in data3:\n",
    "    print('python')\n",
    "else:\n",
    "    print('B')\n",
    "\n",
    "# 둘 다 확인하고 싶은 경우\n",
    "# if를 두번"
   ]
  },
  {
   "cell_type": "code",
   "execution_count": 39,
   "id": "581a38aa-3f3c-4eaf-8b3a-e323207f04ac",
   "metadata": {},
   "outputs": [
    {
     "name": "stdout",
     "output_type": "stream",
     "text": [
      "[1, 2, 4, 7]\n",
      "[1, 2, 4, 7, 5]\n"
     ]
    }
   ],
   "source": [
    "data4 = [1,2,3,4,7]\n",
    "\n",
    "if 3 in data4:\n",
    "    data4.remove(3)\n",
    "    print(data4)\n",
    "\n",
    "if 7 in data4:\n",
    "    data4.append(5)\n",
    "    print(data4)"
   ]
  },
  {
   "cell_type": "code",
   "execution_count": 47,
   "id": "cf6a2d5f-0d44-431b-a8f6-432f6605ef27",
   "metadata": {},
   "outputs": [],
   "source": [
    "# pass\n",
    "# 실행할 코드가 없다면 pass\n",
    "\n",
    "data5 = [1,2,3]\n",
    "if 1 in data5:\n",
    "    pass\n",
    "\n",
    "elif 2 in data5:\n",
    "    print(2)"
   ]
  },
  {
   "cell_type": "code",
   "execution_count": 49,
   "id": "ab5d08df-9267-4783-844d-2b0c09732243",
   "metadata": {},
   "outputs": [
    {
     "data": {
      "text/plain": [
       "'B'"
      ]
     },
     "execution_count": 49,
     "metadata": {},
     "output_type": "execute_result"
    }
   ],
   "source": [
    "data7 = 25\n",
    "data6 = 'A' if data7 > 30 else 'B'\n",
    "data6"
   ]
  },
  {
   "cell_type": "markdown",
   "id": "9c71ed73-c815-48ae-ab43-445cdc34e384",
   "metadata": {},
   "source": [
    "# 반복문\n",
    "- while\n",
    "- for"
   ]
  },
  {
   "cell_type": "markdown",
   "id": "7b2940b0-0c98-4628-b8f2-aa201baaa155",
   "metadata": {},
   "source": [
    "## while"
   ]
  },
  {
   "cell_type": "code",
   "execution_count": 56,
   "id": "5a07db27-be85-408c-a5b8-888836e39923",
   "metadata": {},
   "outputs": [
    {
     "name": "stdout",
     "output_type": "stream",
     "text": [
      "go\n"
     ]
    }
   ],
   "source": [
    "data6 = 200\n",
    "while data6 > 50:\n",
    "    print('go')\n",
    "    break #while 조건문 반복 중에 break만나면 중지"
   ]
  },
  {
   "cell_type": "code",
   "execution_count": 58,
   "id": "3d994d84-794b-4f96-a3ca-bacf1af1b77f",
   "metadata": {},
   "outputs": [
    {
     "name": "stdout",
     "output_type": "stream",
     "text": [
      "1\n",
      "2\n",
      "3\n",
      "4\n",
      "5\n",
      "6\n",
      "7\n",
      "8\n",
      "9\n",
      "10\n"
     ]
    }
   ],
   "source": [
    "data7 = 0\n",
    "while data7 < 10:\n",
    "    data7 = data7 + 1\n",
    "    print(data7)"
   ]
  },
  {
   "cell_type": "code",
   "execution_count": 60,
   "id": "0230520f-f503-4148-b7ef-0ab98dfb9789",
   "metadata": {},
   "outputs": [
    {
     "name": "stdout",
     "output_type": "stream",
     "text": [
      "1\n",
      "2\n",
      "3\n",
      "4\n",
      "5\n",
      "6\n",
      "7\n",
      "8\n",
      "9\n",
      "10\n"
     ]
    }
   ],
   "source": [
    "data7 = 0\n",
    "while data7 < 10:\n",
    "    data7 += 1 #같은 뜻\n",
    "    print(data7)"
   ]
  },
  {
   "cell_type": "code",
   "execution_count": 70,
   "id": "16c4752b-4113-41d4-b5ff-861e7390a8e6",
   "metadata": {},
   "outputs": [
    {
     "name": "stdout",
     "output_type": "stream",
     "text": [
      "1\n",
      "2\n",
      "3\n",
      "5\n"
     ]
    }
   ],
   "source": [
    "#continue\n",
    "# 조건 초기화\n",
    "# 해당 조건을 만나면 이후에 실행하지 않고 처음으로 돌아감\n",
    "\n",
    "data8 = 0\n",
    "while data8 < 5:\n",
    "    data8 += 1\n",
    "    if data8 ==4:\n",
    "        continue\n",
    "    print(data8)\n",
    "\n",
    "#4가 만들어지면 print 하지 않고 처음으로 돌아감"
   ]
  },
  {
   "cell_type": "markdown",
   "id": "8e38d934-d13b-435f-8f95-e4e41a3bec1a",
   "metadata": {},
   "source": [
    "# for 문"
   ]
  },
  {
   "cell_type": "code",
   "execution_count": 75,
   "id": "b8b9945d-8b8e-49f3-a92d-92f4692afede",
   "metadata": {},
   "outputs": [
    {
     "name": "stdout",
     "output_type": "stream",
     "text": [
      "alien\n",
      "buzz\n",
      "woody\n",
      "alien\n"
     ]
    }
   ],
   "source": [
    "toystory = ['alien', 'buzz', 'woody', 'alien']\n",
    "for claw in toystory:\n",
    "    print(claw)\n",
    "\n",
    "#claw는 변수!\n",
    "#toystory안의 요소들을 순환"
   ]
  },
  {
   "cell_type": "code",
   "execution_count": 89,
   "id": "e731e109-dc1b-48b4-97cb-aaaebe78ccfd",
   "metadata": {},
   "outputs": [
    {
     "name": "stdout",
     "output_type": "stream",
     "text": [
      "to infinity\n",
      "to infinity\n",
      "to infinity\n",
      "to infinity\n"
     ]
    }
   ],
   "source": [
    "toystory = ['alien', 'buzz', 'woody', 'alien']\n",
    "for claw in toystory:\n",
    "    if claw == 'buzz':\n",
    "        print('to infinity')\n",
    "    elif claw == 'woody':\n",
    "        print('to infinity')\n",
    "    elif claw == 'alien':\n",
    "        print('to infinity')\n"
   ]
  },
  {
   "cell_type": "code",
   "execution_count": 81,
   "id": "d3ba9252-f8fc-412c-83ed-ab95b2b2adf0",
   "metadata": {},
   "outputs": [
    {
     "name": "stdout",
     "output_type": "stream",
     "text": [
      "0\n",
      "1\n",
      "2\n",
      "3\n",
      "4\n"
     ]
    }
   ],
   "source": [
    "#range()\n",
    "for i in range(0,5):\n",
    "    print(i)"
   ]
  },
  {
   "cell_type": "code",
   "execution_count": 87,
   "id": "e236436b-b43c-45b7-8c4b-9a187aa74bfc",
   "metadata": {},
   "outputs": [
    {
     "name": "stdout",
     "output_type": "stream",
     "text": [
      "a\n",
      "b\n",
      "c\n",
      "1\n",
      "2\n",
      "3\n"
     ]
    }
   ],
   "source": [
    "list1=['a','b','c',1,2,3]\n",
    "for i in range(len(list1)):\n",
    "    print(list1[i])"
   ]
  },
  {
   "cell_type": "code",
   "execution_count": 91,
   "id": "31e906ce-62b4-4e3c-8fb5-bcb6654d345f",
   "metadata": {},
   "outputs": [
    {
     "name": "stdout",
     "output_type": "stream",
     "text": [
      "3\n",
      "6\n",
      "9\n"
     ]
    }
   ],
   "source": [
    "for i in [1,2,3]:\n",
    "    print(i * 3)"
   ]
  },
  {
   "cell_type": "code",
   "execution_count": 95,
   "id": "3a23b0ac-525b-4124-8d30-2de6c02e0e00",
   "metadata": {},
   "outputs": [
    {
     "name": "stdout",
     "output_type": "stream",
     "text": [
      "3 2\n",
      "6\n",
      "1 2\n",
      "2\n",
      "5 6\n",
      "30\n"
     ]
    }
   ],
   "source": [
    "data9 = [(3,2),(1,2),(5,6)]\n",
    "for i, j in data9:\n",
    "    print(i,j)\n",
    "    print(i*j)\n",
    "\n",
    "#데이터의 자료형이 같아야함\n"
   ]
  },
  {
   "cell_type": "code",
   "execution_count": null,
   "id": "88c3381c-30af-4464-a136-ee6e8510bfab",
   "metadata": {},
   "outputs": [],
   "source": [
    "data10 = []"
   ]
  },
  {
   "cell_type": "code",
   "execution_count": 101,
   "id": "b6d2366b-6735-467a-96bc-e1c74528bf78",
   "metadata": {},
   "outputs": [
    {
     "data": {
      "text/plain": [
       "[0, 1, 2, 3, 4]"
      ]
     },
     "execution_count": 101,
     "metadata": {},
     "output_type": "execute_result"
    }
   ],
   "source": [
    "data10 = []\n",
    "for i in range(0,5):\n",
    "    data10.append(i)\n",
    "\n",
    "\n",
    "data10\n"
   ]
  },
  {
   "cell_type": "code",
   "execution_count": 1,
   "id": "0934d59e-069b-4b0d-a20b-8206d4b30061",
   "metadata": {},
   "outputs": [
    {
     "name": "stdout",
     "output_type": "stream",
     "text": [
      "3\n",
      "5\n",
      "6\n",
      "5\n",
      "3\n"
     ]
    }
   ],
   "source": [
    "list1 = [1,2,3,3,2,1]\n",
    "for i in range(len(list1) -1 ):\n",
    "    print(list1[i] + list1[1+i])"
   ]
  },
  {
   "cell_type": "code",
   "execution_count": 3,
   "id": "be86d869-ea37-49e7-a9b3-9bcd1996a5e7",
   "metadata": {},
   "outputs": [
    {
     "data": {
      "text/plain": [
       "[0, 1, 2, 3, 4, 5]"
      ]
     },
     "execution_count": 3,
     "metadata": {},
     "output_type": "execute_result"
    }
   ],
   "source": [
    "# 리스트 컴프리헨션 -> 리스트 안에 조건문을 넣는 것\n",
    "data11 = [x for x in range(0,6)]\n",
    "data11\n",
    "# range(n,m) n부터 m-1 까찌\n",
    "#리스트 안에 조건을 넣어서 리스트를 만듬"
   ]
  },
  {
   "cell_type": "code",
   "execution_count": 9,
   "id": "126864d0-794f-4ca2-b980-29b52be146d1",
   "metadata": {},
   "outputs": [
    {
     "data": {
      "text/plain": [
       "[2, 4, 6, 8, 10]"
      ]
     },
     "execution_count": 9,
     "metadata": {},
     "output_type": "execute_result"
    }
   ],
   "source": [
    "[x for x in range(1,11) if x % 2 == 0]"
   ]
  },
  {
   "cell_type": "code",
   "execution_count": 17,
   "id": "7d695ce0-8858-43b3-8a99-ed574166c578",
   "metadata": {},
   "outputs": [
    {
     "data": {
      "text/plain": [
       "[(1, 'a'),\n",
       " (1, 'b'),\n",
       " (1, 'c'),\n",
       " (2, 'a'),\n",
       " (2, 'b'),\n",
       " (2, 'c'),\n",
       " (3, 'a'),\n",
       " (3, 'b'),\n",
       " (3, 'c')]"
      ]
     },
     "execution_count": 17,
     "metadata": {},
     "output_type": "execute_result"
    }
   ],
   "source": [
    "[(x,y) for x in[1,2,3] for y in ['a','b','c']]"
   ]
  },
  {
   "cell_type": "code",
   "execution_count": 21,
   "id": "c9111325-c657-4337-a8f8-efecdf5ca8fb",
   "metadata": {},
   "outputs": [
    {
     "name": "stdout",
     "output_type": "stream",
     "text": [
      "1\n",
      "11\n",
      "111\n",
      "1111\n"
     ]
    }
   ],
   "source": [
    "data12 = [1,10,100,1000]\n",
    "result1 = 0\n",
    "\n",
    "for i in data12:\n",
    "    result1 = result1 + i\n",
    "    print(result1)"
   ]
  },
  {
   "cell_type": "markdown",
   "id": "3ced0c92-71e1-414c-92c0-dd4ce0976db5",
   "metadata": {},
   "source": [
    "# 예외처리\n",
    "- try : 시도하려는 코드\n",
    "- except : try에서 에러가 발생시 실행\n",
    "- finally : 에러의 유무 관계없이 최종적으로 실행"
   ]
  },
  {
   "cell_type": "code",
   "execution_count": 36,
   "id": "31646631-1a8f-485c-8d05-fe47588081d5",
   "metadata": {},
   "outputs": [
    {
     "name": "stdout",
     "output_type": "stream",
     "text": [
      "no error\n",
      "no error\n",
      "no error\n",
      "no error\n",
      "no error\n",
      "[1, 2, 3, 4, 5]\n",
      "done\n"
     ]
    }
   ],
   "source": [
    "#try\n",
    "try:\n",
    "    data13 = []\n",
    "    for i in range(1,6):\n",
    "        data13.append(i)\n",
    "        print('no error')\n",
    "    \n",
    "except:\n",
    "        print('error')\n",
    "    \n",
    "finally:\n",
    "        print(data13)\n",
    "        print('done')\n",
    "    "
   ]
  },
  {
   "cell_type": "code",
   "execution_count": 32,
   "id": "4fefa93c-ea48-4ef5-a40e-7afba6d4c4c5",
   "metadata": {},
   "outputs": [
    {
     "name": "stdout",
     "output_type": "stream",
     "text": [
      "error\n",
      "[]\n",
      "done\n"
     ]
    }
   ],
   "source": [
    "try:\n",
    "    data13=[]\n",
    "    for i in range(1,6):\n",
    "        data13.remove(1)\n",
    "        data13.append(i)\n",
    "    print('no error')\n",
    "\n",
    "except:\n",
    "    print('error')\n",
    "\n",
    "finally:\n",
    "    print(data13)\n",
    "    print('done')"
   ]
  },
  {
   "cell_type": "code",
   "execution_count": 57,
   "id": "98d82f21-a557-42a4-87bd-02f34205eab6",
   "metadata": {},
   "outputs": [
    {
     "name": "stdout",
     "output_type": "stream",
     "text": [
      "error list.remove(x): x not in list\n",
      "[]\n",
      "done\n"
     ]
    }
   ],
   "source": [
    "try:\n",
    "    data13=[]\n",
    "    for i in range(1,6):\n",
    "        data13.remove(1)\n",
    "        data13.append(i)\n",
    "    print('no error')\n",
    "\n",
    "except Exception as e:\n",
    "    print('error',e)\n",
    "\n",
    "finally:\n",
    "    print(data13)\n",
    "    print('done')"
   ]
  },
  {
   "cell_type": "markdown",
   "id": "eefc4148-194f-489a-8fb1-49ad9ac79e45",
   "metadata": {},
   "source": [
    "# 함수"
   ]
  },
  {
   "cell_type": "code",
   "execution_count": 49,
   "id": "f319b328-99ab-438f-aee7-75cee8529dad",
   "metadata": {},
   "outputs": [
    {
     "data": {
      "text/plain": [
       "6"
      ]
     },
     "execution_count": 49,
     "metadata": {},
     "output_type": "execute_result"
    }
   ],
   "source": [
    "list1 = [1,2,3]\n",
    "sum(list1)"
   ]
  },
  {
   "cell_type": "code",
   "execution_count": 53,
   "id": "bbfbd7b2-7a48-4fb6-9716-e8d6012436a3",
   "metadata": {},
   "outputs": [],
   "source": [
    "def func1():\n",
    "    print('hello')"
   ]
  },
  {
   "cell_type": "code",
   "execution_count": 55,
   "id": "f77d8e34-8f82-43e9-a1eb-8c6c19bf92c2",
   "metadata": {},
   "outputs": [],
   "source": [
    "def func2(x):\n",
    "    return x + 200\n"
   ]
  },
  {
   "cell_type": "code",
   "execution_count": 61,
   "id": "781e9b77-ca82-4375-aeaf-934dd95e2abd",
   "metadata": {},
   "outputs": [
    {
     "data": {
      "text/plain": [
       "222"
      ]
     },
     "execution_count": 61,
     "metadata": {},
     "output_type": "execute_result"
    }
   ],
   "source": [
    "func2(22)"
   ]
  },
  {
   "cell_type": "code",
   "execution_count": 67,
   "id": "5648f46a-3aa1-4ad8-9a79-cfd4bd90fb40",
   "metadata": {},
   "outputs": [],
   "source": [
    "#성적에 따라 등급을 나타내주는 함수\n",
    "def func3(x):\n",
    "    if x >=90:\n",
    "        return 'A'\n",
    "    elif x >= 80:\n",
    "        return 'B'\n",
    "    elif x >= 70:\n",
    "        return 'C'"
   ]
  },
  {
   "cell_type": "code",
   "execution_count": 69,
   "id": "ea643e0d-150c-4e74-bf63-0744663ec25e",
   "metadata": {},
   "outputs": [
    {
     "data": {
      "text/plain": [
       "'C'"
      ]
     },
     "execution_count": 69,
     "metadata": {},
     "output_type": "execute_result"
    }
   ],
   "source": [
    "func3(70)"
   ]
  },
  {
   "cell_type": "code",
   "execution_count": 71,
   "id": "caf880c6-9825-4c5f-9d7c-32605d3c49b3",
   "metadata": {},
   "outputs": [],
   "source": [
    "def func4(name,x):\n",
    "    if x >= 90:\n",
    "        return f'{name}의 점수는 {x}이고, 성적은 \"A\"입니다.'\n",
    "    elif x >= 80:\n",
    "        return f'{name}의 점수는 {x}이고, 성적은 \"B\"입니다.'\n",
    "    \n",
    "    "
   ]
  },
  {
   "cell_type": "code",
   "execution_count": 75,
   "id": "b1db4b8a-69f0-4fab-9354-86e05556dcd7",
   "metadata": {},
   "outputs": [
    {
     "data": {
      "text/plain": [
       "'홍길동의 점수는 90이고, 성적은 \"A\"입니다.'"
      ]
     },
     "execution_count": 75,
     "metadata": {},
     "output_type": "execute_result"
    }
   ],
   "source": [
    "func4('홍길동',90)"
   ]
  },
  {
   "cell_type": "code",
   "execution_count": 77,
   "id": "c6d44b70-e828-40e5-97f0-847bb09f423b",
   "metadata": {},
   "outputs": [],
   "source": [
    "#몇개의 인자를 받을 지 모르는 경우\n",
    "#arge"
   ]
  },
  {
   "cell_type": "code",
   "execution_count": 95,
   "id": "4bce4fc1-7770-43df-b9ef-f5b5f7a29d8b",
   "metadata": {},
   "outputs": [
    {
     "data": {
      "text/plain": [
       "10"
      ]
     },
     "execution_count": 95,
     "metadata": {},
     "output_type": "execute_result"
    }
   ],
   "source": [
    "def func4(*arge):\n",
    "    return(sum(arge))\n",
    "\n",
    "func4(1,2,3,4)"
   ]
  },
  {
   "cell_type": "code",
   "execution_count": 81,
   "id": "aac34318-fc5f-4933-a0ff-f5d67dbe1201",
   "metadata": {},
   "outputs": [
    {
     "data": {
      "text/plain": [
       "1.5"
      ]
     },
     "execution_count": 81,
     "metadata": {},
     "output_type": "execute_result"
    }
   ],
   "source": [
    "#초기값 설정\n",
    "def func5(x1,x2,x3 = 2):\n",
    "    return(x1+x2)/x3\n",
    "\n",
    "func5(1,2)"
   ]
  },
  {
   "cell_type": "code",
   "execution_count": 83,
   "id": "f40b38eb-fb93-41a9-b150-338bd07902fc",
   "metadata": {},
   "outputs": [
    {
     "data": {
      "text/plain": [
       "1.0"
      ]
     },
     "execution_count": 83,
     "metadata": {},
     "output_type": "execute_result"
    }
   ],
   "source": [
    "func5(1,2,3)\n",
    "#초기값 설정"
   ]
  },
  {
   "cell_type": "code",
   "execution_count": 85,
   "id": "3f461586-b7c4-495a-ab76-aac2d94226be",
   "metadata": {},
   "outputs": [],
   "source": [
    "#재귀함수\n",
    "\n",
    "def recurse1(x):\n",
    "    if x > 20:\n",
    "        print('end')\n",
    "    else:\n",
    "        print(x)\n",
    "        recurse1(x+3)"
   ]
  },
  {
   "cell_type": "code",
   "execution_count": 87,
   "id": "7d16c990-07c9-417a-84b1-b183296efbae",
   "metadata": {},
   "outputs": [
    {
     "name": "stdout",
     "output_type": "stream",
     "text": [
      "3\n",
      "6\n",
      "9\n",
      "12\n",
      "15\n",
      "18\n",
      "end\n"
     ]
    }
   ],
   "source": [
    "recurse1(3)"
   ]
  },
  {
   "cell_type": "code",
   "execution_count": 105,
   "id": "784593fd-92e5-4dd5-9722-1e9913207ecd",
   "metadata": {},
   "outputs": [
    {
     "ename": "RecursionError",
     "evalue": "maximum recursion depth exceeded",
     "output_type": "error",
     "traceback": [
      "\u001b[1;31m---------------------------------------------------------------------------\u001b[0m",
      "\u001b[1;31mRecursionError\u001b[0m                            Traceback (most recent call last)",
      "Cell \u001b[1;32mIn[105], line 8\u001b[0m\n\u001b[0;32m      5\u001b[0m     \u001b[38;5;28;01melse\u001b[39;00m:\n\u001b[0;32m      6\u001b[0m         \u001b[38;5;28;01mreturn\u001b[39;00m fibo(i\u001b[38;5;241m-\u001b[39m\u001b[38;5;241m1\u001b[39m) \u001b[38;5;241m+\u001b[39m fibo(\u001b[38;5;241m1\u001b[39m\u001b[38;5;241m-\u001b[39m\u001b[38;5;241m2\u001b[39m)\n\u001b[1;32m----> 8\u001b[0m fibo(\u001b[38;5;241m10\u001b[39m)\n",
      "Cell \u001b[1;32mIn[105], line 6\u001b[0m, in \u001b[0;36mfibo\u001b[1;34m(i)\u001b[0m\n\u001b[0;32m      4\u001b[0m     \u001b[38;5;28;01mreturn\u001b[39;00m \u001b[38;5;241m1\u001b[39m\n\u001b[0;32m      5\u001b[0m \u001b[38;5;28;01melse\u001b[39;00m:\n\u001b[1;32m----> 6\u001b[0m     \u001b[38;5;28;01mreturn\u001b[39;00m fibo(i\u001b[38;5;241m-\u001b[39m\u001b[38;5;241m1\u001b[39m) \u001b[38;5;241m+\u001b[39m fibo(\u001b[38;5;241m1\u001b[39m\u001b[38;5;241m-\u001b[39m\u001b[38;5;241m2\u001b[39m)\n",
      "Cell \u001b[1;32mIn[105], line 6\u001b[0m, in \u001b[0;36mfibo\u001b[1;34m(i)\u001b[0m\n\u001b[0;32m      4\u001b[0m     \u001b[38;5;28;01mreturn\u001b[39;00m \u001b[38;5;241m1\u001b[39m\n\u001b[0;32m      5\u001b[0m \u001b[38;5;28;01melse\u001b[39;00m:\n\u001b[1;32m----> 6\u001b[0m     \u001b[38;5;28;01mreturn\u001b[39;00m fibo(i\u001b[38;5;241m-\u001b[39m\u001b[38;5;241m1\u001b[39m) \u001b[38;5;241m+\u001b[39m fibo(\u001b[38;5;241m1\u001b[39m\u001b[38;5;241m-\u001b[39m\u001b[38;5;241m2\u001b[39m)\n",
      "    \u001b[1;31m[... skipping similar frames: fibo at line 6 (2970 times)]\u001b[0m\n",
      "Cell \u001b[1;32mIn[105], line 6\u001b[0m, in \u001b[0;36mfibo\u001b[1;34m(i)\u001b[0m\n\u001b[0;32m      4\u001b[0m     \u001b[38;5;28;01mreturn\u001b[39;00m \u001b[38;5;241m1\u001b[39m\n\u001b[0;32m      5\u001b[0m \u001b[38;5;28;01melse\u001b[39;00m:\n\u001b[1;32m----> 6\u001b[0m     \u001b[38;5;28;01mreturn\u001b[39;00m fibo(i\u001b[38;5;241m-\u001b[39m\u001b[38;5;241m1\u001b[39m) \u001b[38;5;241m+\u001b[39m fibo(\u001b[38;5;241m1\u001b[39m\u001b[38;5;241m-\u001b[39m\u001b[38;5;241m2\u001b[39m)\n",
      "\u001b[1;31mRecursionError\u001b[0m: maximum recursion depth exceeded"
     ]
    }
   ],
   "source": [
    "#기저조건 = 재귀함수 생성시 설정하여 언제 멈출지 지정해야함!\n",
    "def fibo(i):\n",
    "    if 1 == i or 1 == 2:\n",
    "        return 1\n",
    "    else:\n",
    "        return fibo(i-1) + fibo(1-2)\n",
    "\n",
    "fibo(10)"
   ]
  },
  {
   "cell_type": "markdown",
   "id": "52630bbb-3401-4497-b7b0-66098ef95ffe",
   "metadata": {},
   "source": [
    "# 파이썬 내장함수 및 라이브러리\n",
    "- 내장함수 = 파이썬에서 제공하는 함수\n",
    "- 외부라이브러리 = 개발자들이 만듬 다운받아야함"
   ]
  },
  {
   "cell_type": "code",
   "execution_count": 108,
   "id": "83c1f9b3-a70b-4d6b-91d8-f168bf1d31de",
   "metadata": {},
   "outputs": [
    {
     "ename": "KeyboardInterrupt",
     "evalue": "Interrupted by user",
     "output_type": "error",
     "traceback": [
      "\u001b[1;31m---------------------------------------------------------------------------\u001b[0m",
      "\u001b[1;31mKeyboardInterrupt\u001b[0m                         Traceback (most recent call last)",
      "Cell \u001b[1;32mIn[108], line 2\u001b[0m\n\u001b[0;32m      1\u001b[0m \u001b[38;5;66;03m#입출력 관련 함수\u001b[39;00m\n\u001b[1;32m----> 2\u001b[0m \u001b[38;5;28minput\u001b[39m(\u001b[38;5;124m'\u001b[39m\u001b[38;5;124m특정 값을 입력받을 수 있는 함수\u001b[39m\u001b[38;5;124m'\u001b[39m)\n",
      "File \u001b[1;32m~\\anaconda3\\Lib\\site-packages\\ipykernel\\kernelbase.py:1262\u001b[0m, in \u001b[0;36mKernel.raw_input\u001b[1;34m(self, prompt)\u001b[0m\n\u001b[0;32m   1260\u001b[0m     msg \u001b[38;5;241m=\u001b[39m \u001b[38;5;124m\"\u001b[39m\u001b[38;5;124mraw_input was called, but this frontend does not support input requests.\u001b[39m\u001b[38;5;124m\"\u001b[39m\n\u001b[0;32m   1261\u001b[0m     \u001b[38;5;28;01mraise\u001b[39;00m StdinNotImplementedError(msg)\n\u001b[1;32m-> 1262\u001b[0m \u001b[38;5;28;01mreturn\u001b[39;00m \u001b[38;5;28mself\u001b[39m\u001b[38;5;241m.\u001b[39m_input_request(\n\u001b[0;32m   1263\u001b[0m     \u001b[38;5;28mstr\u001b[39m(prompt),\n\u001b[0;32m   1264\u001b[0m     \u001b[38;5;28mself\u001b[39m\u001b[38;5;241m.\u001b[39m_parent_ident[\u001b[38;5;124m\"\u001b[39m\u001b[38;5;124mshell\u001b[39m\u001b[38;5;124m\"\u001b[39m],\n\u001b[0;32m   1265\u001b[0m     \u001b[38;5;28mself\u001b[39m\u001b[38;5;241m.\u001b[39mget_parent(\u001b[38;5;124m\"\u001b[39m\u001b[38;5;124mshell\u001b[39m\u001b[38;5;124m\"\u001b[39m),\n\u001b[0;32m   1266\u001b[0m     password\u001b[38;5;241m=\u001b[39m\u001b[38;5;28;01mFalse\u001b[39;00m,\n\u001b[0;32m   1267\u001b[0m )\n",
      "File \u001b[1;32m~\\anaconda3\\Lib\\site-packages\\ipykernel\\kernelbase.py:1305\u001b[0m, in \u001b[0;36mKernel._input_request\u001b[1;34m(self, prompt, ident, parent, password)\u001b[0m\n\u001b[0;32m   1302\u001b[0m \u001b[38;5;28;01mexcept\u001b[39;00m \u001b[38;5;167;01mKeyboardInterrupt\u001b[39;00m:\n\u001b[0;32m   1303\u001b[0m     \u001b[38;5;66;03m# re-raise KeyboardInterrupt, to truncate traceback\u001b[39;00m\n\u001b[0;32m   1304\u001b[0m     msg \u001b[38;5;241m=\u001b[39m \u001b[38;5;124m\"\u001b[39m\u001b[38;5;124mInterrupted by user\u001b[39m\u001b[38;5;124m\"\u001b[39m\n\u001b[1;32m-> 1305\u001b[0m     \u001b[38;5;28;01mraise\u001b[39;00m \u001b[38;5;167;01mKeyboardInterrupt\u001b[39;00m(msg) \u001b[38;5;28;01mfrom\u001b[39;00m \u001b[38;5;28;01mNone\u001b[39;00m\n\u001b[0;32m   1306\u001b[0m \u001b[38;5;28;01mexcept\u001b[39;00m \u001b[38;5;167;01mException\u001b[39;00m:\n\u001b[0;32m   1307\u001b[0m     \u001b[38;5;28mself\u001b[39m\u001b[38;5;241m.\u001b[39mlog\u001b[38;5;241m.\u001b[39mwarning(\u001b[38;5;124m\"\u001b[39m\u001b[38;5;124mInvalid Message:\u001b[39m\u001b[38;5;124m\"\u001b[39m, exc_info\u001b[38;5;241m=\u001b[39m\u001b[38;5;28;01mTrue\u001b[39;00m)\n",
      "\u001b[1;31mKeyboardInterrupt\u001b[0m: Interrupted by user"
     ]
    }
   ],
   "source": [
    "#입출력 관련 함수\n",
    "input('특정 값을 입력받을 수 있는 함수')"
   ]
  },
  {
   "cell_type": "code",
   "execution_count": null,
   "id": "1c377ca9-1bc6-4985-b9d8-5a58931876dc",
   "metadata": {},
   "outputs": [],
   "source": [
    "num1 = input()\n",
    "type(num1)"
   ]
  },
  {
   "cell_type": "code",
   "execution_count": null,
   "id": "d043005f-5cbb-4564-866f-c0b3aab6acac",
   "metadata": {},
   "outputs": [],
   "source": [
    "num2 = int(input())\n",
    "type(num2)"
   ]
  },
  {
   "cell_type": "code",
   "execution_count": 1,
   "id": "3d6c7264-7fbf-4a89-bcf7-1c72f2d28e3f",
   "metadata": {},
   "outputs": [
    {
     "data": {
      "text/plain": [
       "6"
      ]
     },
     "execution_count": 1,
     "metadata": {},
     "output_type": "execute_result"
    }
   ],
   "source": [
    "sum([1,2,3])"
   ]
  },
  {
   "cell_type": "code",
   "execution_count": 3,
   "id": "f7e761bc-131e-43c2-a4a5-e7656275a1b8",
   "metadata": {},
   "outputs": [
    {
     "data": {
      "text/plain": [
       "29"
      ]
     },
     "execution_count": 3,
     "metadata": {},
     "output_type": "execute_result"
    }
   ],
   "source": [
    "abs(-29)"
   ]
  },
  {
   "cell_type": "code",
   "execution_count": 5,
   "id": "66395a94-4d9d-4c8d-8517-51e248340860",
   "metadata": {},
   "outputs": [
    {
     "data": {
      "text/plain": [
       "[-1, 1, 4, 5, 5, 7]"
      ]
     },
     "execution_count": 5,
     "metadata": {},
     "output_type": "execute_result"
    }
   ],
   "source": [
    "list1= [1,4,-1,5,7,5]\n",
    "sorted(list1) #오름차순"
   ]
  },
  {
   "cell_type": "code",
   "execution_count": 7,
   "id": "ec189fff-8bbd-46cf-96e1-5963f170c479",
   "metadata": {},
   "outputs": [
    {
     "data": {
      "text/plain": [
       "[7, 5, 5, 4, 1, -1]"
      ]
     },
     "execution_count": 7,
     "metadata": {},
     "output_type": "execute_result"
    }
   ],
   "source": [
    "list1= [1,4,-1,5,7,5]\n",
    "sorted(list1, reverse = True) #내림차순"
   ]
  },
  {
   "cell_type": "code",
   "execution_count": 9,
   "id": "d923bfcb-224d-4658-9def-5e2e4306a145",
   "metadata": {},
   "outputs": [
    {
     "name": "stdout",
     "output_type": "stream",
     "text": [
      "Help on built-in function sorted in module builtins:\n",
      "\n",
      "sorted(iterable, /, *, key=None, reverse=False)\n",
      "    Return a new list containing all items from the iterable in ascending order.\n",
      "    \n",
      "    A custom key function can be supplied to customize the sort order, and the\n",
      "    reverse flag can be set to request the result in descending order.\n",
      "\n"
     ]
    }
   ],
   "source": [
    "help(sorted)"
   ]
  },
  {
   "cell_type": "code",
   "execution_count": 11,
   "id": "507cd1b7-3af3-4750-850b-bdf32ede4e15",
   "metadata": {},
   "outputs": [
    {
     "name": "stdout",
     "output_type": "stream",
     "text": [
      "Help on built-in function sum in module builtins:\n",
      "\n",
      "sum(iterable, /, start=0)\n",
      "    Return the sum of a 'start' value (default: 0) plus an iterable of numbers\n",
      "    \n",
      "    When the iterable is empty, return the start value.\n",
      "    This function is intended specifically for use with numeric values and may\n",
      "    reject non-numeric types.\n",
      "\n"
     ]
    }
   ],
   "source": [
    "help(sum)"
   ]
  },
  {
   "cell_type": "code",
   "execution_count": 13,
   "id": "48a6213a-2075-48aa-876d-dde32d59a8dc",
   "metadata": {},
   "outputs": [
    {
     "name": "stdout",
     "output_type": "stream",
     "text": [
      "[0, 1, 2]\n",
      "['a', 'b', 'c']\n"
     ]
    }
   ],
   "source": [
    "#enumerate\n",
    "#인덱스 생성해주는 함수\n",
    "\n",
    "index_list = []\n",
    "value_list = []\n",
    "\n",
    "for i ,j in enumerate(['a','b','c']):\n",
    "    index_list.append(i)\n",
    "    value_list.append(j)\n",
    "\n",
    "print(index_list)\n",
    "print(value_list)"
   ]
  },
  {
   "cell_type": "code",
   "execution_count": 17,
   "id": "f5bd0943-2eed-45ac-83a6-09e4d30363cb",
   "metadata": {},
   "outputs": [
    {
     "data": {
      "text/plain": [
       "{0: 'a', 1: 'b', 2: 'c'}"
      ]
     },
     "execution_count": 17,
     "metadata": {},
     "output_type": "execute_result"
    }
   ],
   "source": [
    "dict(zip(index_list,value_list))"
   ]
  },
  {
   "cell_type": "code",
   "execution_count": 19,
   "id": "eca222f8-8857-46b2-aa29-906f3fd1541b",
   "metadata": {},
   "outputs": [
    {
     "data": {
      "text/plain": [
       "{0: 'a', 1: 'b', 2: 'c'}"
      ]
     },
     "execution_count": 19,
     "metadata": {},
     "output_type": "execute_result"
    }
   ],
   "source": [
    "dict1 = dict(zip(index_list,value_list))\n",
    "\n",
    "dict1"
   ]
  },
  {
   "cell_type": "code",
   "execution_count": 25,
   "id": "3e8e6509-8c1f-4d0c-859c-3b9f305ddf4a",
   "metadata": {},
   "outputs": [],
   "source": [
    "import random\n",
    "#import 항상 사용하지 않고, 필요할 때만 불러오는 함수"
   ]
  },
  {
   "cell_type": "code",
   "execution_count": 23,
   "id": "81938103-384e-4dd8-bc13-3fc87a16601d",
   "metadata": {},
   "outputs": [
    {
     "data": {
      "text/plain": [
       "3"
      ]
     },
     "execution_count": 23,
     "metadata": {},
     "output_type": "execute_result"
    }
   ],
   "source": [
    "sum(index_list) #ex sum은 import하지 않아도 작동함"
   ]
  },
  {
   "cell_type": "code",
   "execution_count": 27,
   "id": "36add963-395c-4059-99d0-431273543a2f",
   "metadata": {},
   "outputs": [
    {
     "data": {
      "text/plain": [
       "2"
      ]
     },
     "execution_count": 27,
     "metadata": {},
     "output_type": "execute_result"
    }
   ],
   "source": [
    "random.randint(0,3) #난수 생성"
   ]
  },
  {
   "cell_type": "code",
   "execution_count": 33,
   "id": "4bdba2ec-7a5f-4b67-bc77-475c3d7593c8",
   "metadata": {
    "scrolled": true
   },
   "outputs": [
    {
     "data": {
      "text/plain": [
       "[2, 1, 4, 1, 3]"
      ]
     },
     "execution_count": 33,
     "metadata": {},
     "output_type": "execute_result"
    }
   ],
   "source": [
    "[random.randint(0,5) for _ in range(5)] #5개 난수를 0~5사이에 생성"
   ]
  },
  {
   "cell_type": "markdown",
   "id": "dbfb3a0b-3dd8-4e58-9567-f69598c0c304",
   "metadata": {},
   "source": [
    "# 패키지(라이브러리)와 모듈\n",
    "- 패키지 : 모듈의 집합\n",
    "- 모듈 : 함수/ 클래스 집합\n",
    "- 함수 : 특정 기능을 수행하기 위한 코드와 집합\n",
    "- 클래스 : 함수를 찍어내는 틀"
   ]
  },
  {
   "cell_type": "code",
   "execution_count": 9,
   "id": "0e457605-52e7-4094-888e-6a28d2f65402",
   "metadata": {},
   "outputs": [],
   "source": [
    "import module1"
   ]
  },
  {
   "cell_type": "code",
   "execution_count": 23,
   "id": "b6816900-1530-4d41-aefc-2fa6626069e4",
   "metadata": {},
   "outputs": [
    {
     "data": {
      "text/plain": [
       "2.0"
      ]
     },
     "execution_count": 23,
     "metadata": {},
     "output_type": "execute_result"
    }
   ],
   "source": [
    "module1.mean_func([1,2,3])"
   ]
  },
  {
   "cell_type": "code",
   "execution_count": 29,
   "id": "baf69fe9-53c1-40e6-baac-39215812cd61",
   "metadata": {},
   "outputs": [
    {
     "data": {
      "text/plain": [
       "6"
      ]
     },
     "execution_count": 29,
     "metadata": {},
     "output_type": "execute_result"
    }
   ],
   "source": [
    "module1.sum_func([1,2,3])"
   ]
  },
  {
   "cell_type": "code",
   "execution_count": 35,
   "id": "bef6bcd4-46a9-40cf-a848-2834c7c1b8a3",
   "metadata": {},
   "outputs": [],
   "source": [
    "from module1 import *"
   ]
  },
  {
   "cell_type": "code",
   "execution_count": 37,
   "id": "10dbcbf1-0be3-47e0-a597-dfcbda7d7bcb",
   "metadata": {},
   "outputs": [
    {
     "data": {
      "text/plain": [
       "6"
      ]
     },
     "execution_count": 37,
     "metadata": {},
     "output_type": "execute_result"
    }
   ],
   "source": [
    "sum_func([1,2,3])"
   ]
  },
  {
   "cell_type": "code",
   "execution_count": 1,
   "id": "28e475a4-f8d5-4981-8a47-1d469c56187e",
   "metadata": {},
   "outputs": [],
   "source": [
    "# 패키지\n",
    "import package1"
   ]
  },
  {
   "cell_type": "code",
   "execution_count": 3,
   "id": "6fa49d9e-3da2-4578-a549-2e39d7b7963f",
   "metadata": {},
   "outputs": [
    {
     "data": {
      "text/plain": [
       "1.0"
      ]
     },
     "execution_count": 3,
     "metadata": {},
     "output_type": "execute_result"
    }
   ],
   "source": [
    "package1.package_version()"
   ]
  },
  {
   "cell_type": "code",
   "execution_count": 17,
   "id": "7e9b605a-b194-4160-96c3-54c73b5da869",
   "metadata": {},
   "outputs": [],
   "source": [
    "from package1 import module2"
   ]
  },
  {
   "cell_type": "code",
   "execution_count": 21,
   "id": "68441b56-bab5-438a-b4c0-b3b852138482",
   "metadata": {},
   "outputs": [
    {
     "name": "stdout",
     "output_type": "stream",
     "text": [
      "hello\n"
     ]
    }
   ],
   "source": [
    "module2.funchello()"
   ]
  },
  {
   "cell_type": "code",
   "execution_count": null,
   "id": "0c654ef4-75da-4a27-b908-9ea6d028fdde",
   "metadata": {},
   "outputs": [],
   "source": []
  }
 ],
 "metadata": {
  "kernelspec": {
   "display_name": "Python 3 (ipykernel)",
   "language": "python",
   "name": "python3"
  },
  "language_info": {
   "codemirror_mode": {
    "name": "ipython",
    "version": 3
   },
   "file_extension": ".py",
   "mimetype": "text/x-python",
   "name": "python",
   "nbconvert_exporter": "python",
   "pygments_lexer": "ipython3",
   "version": "3.11.7"
  }
 },
 "nbformat": 4,
 "nbformat_minor": 5
}
