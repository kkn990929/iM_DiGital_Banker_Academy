{
 "cells": [
  {
   "cell_type": "markdown",
   "id": "df703a82-062e-4d50-a4c7-266cc708bfff",
   "metadata": {},
   "source": [
    "# 미션\n",
    "- Day6_Data.zip 내, 3개의 데이터 파일을 불러와 아래의 분석을 실시하시오."
   ]
  },
  {
   "cell_type": "markdown",
   "id": "030eee09-332f-4ea1-b14c-87a09771cce7",
   "metadata": {},
   "source": [
    "## 1. 3개 데이터를 불러와 아래와 같이 변환 하시오. \n",
    "- 기간은 파일 상단에 적힌 기간월을 작성 \n",
    "- Column 명 '합계'는 앞에 공백이 존재 ' 합계'"
   ]
  },
  {
   "cell_type": "code",
   "execution_count": 12,
   "id": "bce9f486-d2d9-4d28-ab41-c062360bdfa9",
   "metadata": {},
   "outputs": [],
   "source": [
    "import pandas as pd\n",
    "import os"
   ]
  },
  {
   "cell_type": "code",
   "execution_count": 20,
   "id": "225159ca-4eed-46b7-802f-b096a295ee7c",
   "metadata": {},
   "outputs": [
    {
     "data": {
      "text/plain": [
       "['기간별상품매출현황_202306.xlsx', '기간별상품매출현황_202307.xlsx', '기간별상품매출현황_202308.xlsx']"
      ]
     },
     "execution_count": 20,
     "metadata": {},
     "output_type": "execute_result"
    }
   ],
   "source": [
    "list1 = []\n",
    "for i in os.listdir():\n",
    "    if '기간별상품' in i:\n",
    "        list1.append(i)\n",
    "\n",
    "list1"
   ]
  },
  {
   "cell_type": "code",
   "execution_count": 24,
   "id": "647d4c17-56e5-42d3-9bec-f86055e7da40",
   "metadata": {
    "collapsed": true,
    "jupyter": {
     "outputs_hidden": true
    }
   },
   "outputs": [
    {
     "name": "stdout",
     "output_type": "stream",
     "text": [
      "     조회기간-시작  = 20230601     Unnamed: 1                          Unnamed: 2  \\\n",
      "0    조회기간-종료  = 20230630            NaN                                 NaN   \n",
      "1                     순번           상품코드                                 상품명   \n",
      "2                    NaN            NaN                                 NaN   \n",
      "3                    NaN            NaN                                 합 계   \n",
      "4                      1  0000001801828  자연숨결 식약처 허가 초미세먼지 마스크 대형 60매(KF94)   \n",
      "..                   ...            ...                                 ...   \n",
      "114                  111  8801858045289            [닥터오렌지팡팡클리너]1+1+1세트(66종)   \n",
      "115                  112  8801858045319                  [숨]100%천연펄프화장지_90롤   \n",
      "116                  113  8801858133320                  [숨]100%천연펄프화장지_30롤   \n",
      "117                  114  8801858133337                      [한예지]25m_90롤세트   \n",
      "118                  115  8801858133368                      [닥터홀스]변기크리너풀세트   \n",
      "\n",
      "    Unnamed: 3  Unnamed: 4 Unnamed: 5 Unnamed: 6   Unnamed: 7 Unnamed: 8  \\\n",
      "0          NaN         NaN        NaN        NaN          NaN        NaN   \n",
      "1           합계  (1154)의정부점  (1155)별내점  (1156)풍산점  (1157)김포한강점  (1158)세종점   \n",
      "2           수량          수량         수량         수량           수량         수량   \n",
      "3    2,029,096       6,829      8,374     12,626       11,767     10,912   \n",
      "4        65402         174        239        432          199        220   \n",
      "..         ...         ...        ...        ...          ...        ...   \n",
      "114        179           0          9          0            0          0   \n",
      "115        212           0          0          0            0          0   \n",
      "116       6564           0          0          0            0          0   \n",
      "117     125144         365        564        796          948        594   \n",
      "118      22796         113        101        168           93        107   \n",
      "\n",
      "     Unnamed: 9  ... Unnamed: 636 Unnamed: 637 Unnamed: 638 Unnamed: 639  \\\n",
      "0           NaN  ...          NaN          NaN          NaN          NaN   \n",
      "1    (1159)킨텍스점  ...    (L21)위시티점    (L23)걸포동점   (L27)통일동산점     (L35)성대점   \n",
      "2            수량  ...           수량           수량           수량           수량   \n",
      "3         7,062  ...        2,392        1,291        4,506        2,364   \n",
      "4           263  ...            0           25           76           72   \n",
      "..          ...  ...          ...          ...          ...          ...   \n",
      "114           0  ...            0            0            0            0   \n",
      "115           0  ...            0            0            0            0   \n",
      "116           0  ...            0            0            0            0   \n",
      "117         283  ...          241          196          379          120   \n",
      "118          50  ...           36           14           80           29   \n",
      "\n",
      "    Unnamed: 640 Unnamed: 641 Unnamed: 642 Unnamed: 643 Unnamed: 644  \\\n",
      "0            NaN          NaN          NaN          NaN          NaN   \n",
      "1       (L36)병점점     (L38)율전점     (L39)본오점     (L40)검암점     (L44)신길점   \n",
      "2             수량           수량           수량           수량           수량   \n",
      "3          2,739        1,782        3,129        1,712        3,189   \n",
      "4             54           72           15           38           27   \n",
      "..           ...          ...          ...          ...          ...   \n",
      "114            0            0            0            0            0   \n",
      "115            0            0            0            0            0   \n",
      "116            0            0            0            0            0   \n",
      "117          273          128          354          106          242   \n",
      "118           42           54           28            9           28   \n",
      "\n",
      "    Unnamed: 645  \n",
      "0            NaN  \n",
      "1       (L46)용호점  \n",
      "2             수량  \n",
      "3          2,347  \n",
      "4             89  \n",
      "..           ...  \n",
      "114            0  \n",
      "115            0  \n",
      "116            0  \n",
      "117          122  \n",
      "118           24  \n",
      "\n",
      "[119 rows x 646 columns]\n",
      "     조회기간-시작  = 20230701     Unnamed: 1                          Unnamed: 2  \\\n",
      "0    조회기간-종료  = 20230731            NaN                                 NaN   \n",
      "1                     순번           상품코드                                 상품명   \n",
      "2                    NaN            NaN                                 NaN   \n",
      "3                    NaN            NaN                                 합 계   \n",
      "4                      1  0000001801828  자연숨결 식약처 허가 초미세먼지 마스크 대형 60매(KF94)   \n",
      "..                   ...            ...                                 ...   \n",
      "120                  117  8801858045388                     [닥터오렌지팡팡클리너]1세트   \n",
      "121                  118  8801858045401                       [화이트]변기크리너1세트   \n",
      "122                  119  8801858133320                       [화이트]변기크리너풀세트   \n",
      "123                  120  8801858133337                     [네이처브릴랑]세탁세제풀세트   \n",
      "124                  121  8801858133368                      [네이처브릴랑]세탁세제1통   \n",
      "\n",
      "    Unnamed: 3  Unnamed: 4 Unnamed: 5 Unnamed: 6   Unnamed: 7 Unnamed: 8  \\\n",
      "0          NaN         NaN        NaN        NaN          NaN        NaN   \n",
      "1           합계  (1154)의정부점  (1155)별내점  (1156)풍산점  (1157)김포한강점  (1158)세종점   \n",
      "2           수량          수량         수량         수량           수량         수량   \n",
      "3    2,278,594       8,149      9,143     13,270       13,710     12,844   \n",
      "4       111624         440        342        737         1221        646   \n",
      "..         ...         ...        ...        ...          ...        ...   \n",
      "120        819           0          0          0            0          0   \n",
      "121       1209           0          0          0            0          0   \n",
      "122       7982           0          0          0            0          0   \n",
      "123     137349         432        721        836         1040        691   \n",
      "124      25326         126        100        152          134        133   \n",
      "\n",
      "     Unnamed: 9  ... Unnamed: 642 Unnamed: 643 Unnamed: 644 Unnamed: 645  \\\n",
      "0           NaN  ...          NaN          NaN          NaN          NaN   \n",
      "1    (1159)킨텍스점  ...    (L21)위시티점    (L23)걸포동점   (L27)통일동산점     (L35)성대점   \n",
      "2            수량  ...           수량           수량           수량           수량   \n",
      "3         8,899  ...        3,048        1,542        4,564        2,565   \n",
      "4           765  ...            0           47          137           85   \n",
      "..          ...  ...          ...          ...          ...          ...   \n",
      "120           5  ...            0            0            0            0   \n",
      "121          13  ...            0            0            0            0   \n",
      "122           0  ...            0            0            0            0   \n",
      "123         355  ...          346          221          323          146   \n",
      "124          67  ...           46           19           84           27   \n",
      "\n",
      "    Unnamed: 646 Unnamed: 647 Unnamed: 648 Unnamed: 649 Unnamed: 650  \\\n",
      "0            NaN          NaN          NaN          NaN          NaN   \n",
      "1       (L36)병점점     (L38)율전점     (L39)본오점     (L40)검암점     (L44)신길점   \n",
      "2             수량           수량           수량           수량           수량   \n",
      "3          2,910        2,037        2,929        2,423        3,406   \n",
      "4             52           55           61           87           31   \n",
      "..           ...          ...          ...          ...          ...   \n",
      "120            0            0            0            0            0   \n",
      "121            0            0            0            0            0   \n",
      "122            0            0            0            0            0   \n",
      "123          274          188          341          110          219   \n",
      "124           53           58           27           19           25   \n",
      "\n",
      "    Unnamed: 651  \n",
      "0            NaN  \n",
      "1       (L46)용호점  \n",
      "2             수량  \n",
      "3          2,324  \n",
      "4             35  \n",
      "..           ...  \n",
      "120            0  \n",
      "121            0  \n",
      "122            0  \n",
      "123          106  \n",
      "124           19  \n",
      "\n",
      "[125 rows x 652 columns]\n",
      "     조회기간-시작  = 20230801     Unnamed: 1                          Unnamed: 2  \\\n",
      "0    조회기간-종료  = 20230831            NaN                                 NaN   \n",
      "1                     순번           상품코드                                 상품명   \n",
      "2                    NaN            NaN                                 NaN   \n",
      "3                    NaN            NaN                                 합 계   \n",
      "4                      1  0000001801828  자연숨결 식약처 허가 초미세먼지 마스크 대형 60매(KF94)   \n",
      "..                   ...            ...                                 ...   \n",
      "129                  126  8801858045449     [쨍하고해뜰집]제습제풀세트(다용도제습제30통+지시겔1봉)   \n",
      "130                  127  8801858045463                        [리얼뽀송이]제습제세트   \n",
      "131                  128  8801858133320             [미라클워터]다목적세정제17종괴물용량풀세트   \n",
      "132                  129  8801858133337                  [쨍하고해뜰집]지시겔1봉(20개)   \n",
      "133                  130  8801858133368                    [리얼뽀송이]제습제1팩(단품)   \n",
      "\n",
      "    Unnamed: 3  Unnamed: 4 Unnamed: 5 Unnamed: 6   Unnamed: 7 Unnamed: 8  \\\n",
      "0          NaN         NaN        NaN        NaN          NaN        NaN   \n",
      "1           합계  (1154)의정부점  (1155)별내점  (1156)풍산점  (1157)김포한강점  (1158)세종점   \n",
      "2           수량          수량         수량         수량           수량         수량   \n",
      "3    2,389,611      11,856     10,688     13,406       11,825     11,715   \n",
      "4        90488         420        312        593          742        261   \n",
      "..         ...         ...        ...        ...          ...        ...   \n",
      "129        653           8          2          2           12          9   \n",
      "130       3233           0          0          0            0          0   \n",
      "131       8433           0          0          0            0          0   \n",
      "132     135839         494        601        793          877        631   \n",
      "133      28631         188        111        146          134        199   \n",
      "\n",
      "     Unnamed: 9  ... Unnamed: 646 Unnamed: 647 Unnamed: 648 Unnamed: 649  \\\n",
      "0           NaN  ...          NaN          NaN          NaN          NaN   \n",
      "1    (1159)킨텍스점  ...    (L21)위시티점    (L23)걸포동점   (L27)통일동산점     (L35)성대점   \n",
      "2            수량  ...           수량           수량           수량           수량   \n",
      "3         7,933  ...        3,437        2,619        4,476        2,205   \n",
      "4           345  ...            0           45          168          113   \n",
      "..          ...  ...          ...          ...          ...          ...   \n",
      "129           2  ...            0            0            0            0   \n",
      "130           0  ...            0            0            0            0   \n",
      "131           0  ...            0            0            0            0   \n",
      "132         254  ...          309          314          403          209   \n",
      "133         108  ...           70           46           76           22   \n",
      "\n",
      "    Unnamed: 650 Unnamed: 651 Unnamed: 652 Unnamed: 653 Unnamed: 654  \\\n",
      "0            NaN          NaN          NaN          NaN          NaN   \n",
      "1       (L36)병점점     (L38)율전점     (L39)본오점     (L40)검암점     (L44)신길점   \n",
      "2             수량           수량           수량           수량           수량   \n",
      "3          2,853        1,936        2,654        1,959        3,518   \n",
      "4             85           39           33           54           39   \n",
      "..           ...          ...          ...          ...          ...   \n",
      "129            0            0            0            0            0   \n",
      "130            0            0            0            0            0   \n",
      "131            0            0            0            0            0   \n",
      "132          314          189          315          109          187   \n",
      "133           52           56           14           24           36   \n",
      "\n",
      "    Unnamed: 655  \n",
      "0            NaN  \n",
      "1       (L46)용호점  \n",
      "2             수량  \n",
      "3          2,404  \n",
      "4             66  \n",
      "..           ...  \n",
      "129            0  \n",
      "130            0  \n",
      "131            0  \n",
      "132          145  \n",
      "133           29  \n",
      "\n",
      "[134 rows x 656 columns]\n"
     ]
    }
   ],
   "source": [
    "for i in list1:\n",
    "    print(pd.read_excel(i))\n",
    "\n",
    "#가져와서 데이터 전처리용"
   ]
  },
  {
   "cell_type": "code",
   "execution_count": 30,
   "id": "f7bae558-b11f-4887-968c-878fd35efc5b",
   "metadata": {},
   "outputs": [
    {
     "data": {
      "text/html": [
       "<div>\n",
       "<style scoped>\n",
       "    .dataframe tbody tr th:only-of-type {\n",
       "        vertical-align: middle;\n",
       "    }\n",
       "\n",
       "    .dataframe tbody tr th {\n",
       "        vertical-align: top;\n",
       "    }\n",
       "\n",
       "    .dataframe thead th {\n",
       "        text-align: right;\n",
       "    }\n",
       "</style>\n",
       "<table border=\"1\" class=\"dataframe\">\n",
       "  <thead>\n",
       "    <tr style=\"text-align: right;\">\n",
       "      <th></th>\n",
       "      <th>조회기간-시작  = 20230601</th>\n",
       "      <th>Unnamed: 1</th>\n",
       "      <th>Unnamed: 2</th>\n",
       "      <th>Unnamed: 3</th>\n",
       "      <th>Unnamed: 4</th>\n",
       "      <th>Unnamed: 5</th>\n",
       "      <th>Unnamed: 6</th>\n",
       "      <th>Unnamed: 7</th>\n",
       "      <th>Unnamed: 8</th>\n",
       "      <th>Unnamed: 9</th>\n",
       "      <th>...</th>\n",
       "      <th>Unnamed: 636</th>\n",
       "      <th>Unnamed: 637</th>\n",
       "      <th>Unnamed: 638</th>\n",
       "      <th>Unnamed: 639</th>\n",
       "      <th>Unnamed: 640</th>\n",
       "      <th>Unnamed: 641</th>\n",
       "      <th>Unnamed: 642</th>\n",
       "      <th>Unnamed: 643</th>\n",
       "      <th>Unnamed: 644</th>\n",
       "      <th>Unnamed: 645</th>\n",
       "    </tr>\n",
       "  </thead>\n",
       "  <tbody>\n",
       "    <tr>\n",
       "      <th>0</th>\n",
       "      <td>조회기간-종료  = 20230630</td>\n",
       "      <td>NaN</td>\n",
       "      <td>NaN</td>\n",
       "      <td>NaN</td>\n",
       "      <td>NaN</td>\n",
       "      <td>NaN</td>\n",
       "      <td>NaN</td>\n",
       "      <td>NaN</td>\n",
       "      <td>NaN</td>\n",
       "      <td>NaN</td>\n",
       "      <td>...</td>\n",
       "      <td>NaN</td>\n",
       "      <td>NaN</td>\n",
       "      <td>NaN</td>\n",
       "      <td>NaN</td>\n",
       "      <td>NaN</td>\n",
       "      <td>NaN</td>\n",
       "      <td>NaN</td>\n",
       "      <td>NaN</td>\n",
       "      <td>NaN</td>\n",
       "      <td>NaN</td>\n",
       "    </tr>\n",
       "    <tr>\n",
       "      <th>1</th>\n",
       "      <td>순번</td>\n",
       "      <td>상품코드</td>\n",
       "      <td>상품명</td>\n",
       "      <td>합계</td>\n",
       "      <td>(1154)의정부점</td>\n",
       "      <td>(1155)별내점</td>\n",
       "      <td>(1156)풍산점</td>\n",
       "      <td>(1157)김포한강점</td>\n",
       "      <td>(1158)세종점</td>\n",
       "      <td>(1159)킨텍스점</td>\n",
       "      <td>...</td>\n",
       "      <td>(L21)위시티점</td>\n",
       "      <td>(L23)걸포동점</td>\n",
       "      <td>(L27)통일동산점</td>\n",
       "      <td>(L35)성대점</td>\n",
       "      <td>(L36)병점점</td>\n",
       "      <td>(L38)율전점</td>\n",
       "      <td>(L39)본오점</td>\n",
       "      <td>(L40)검암점</td>\n",
       "      <td>(L44)신길점</td>\n",
       "      <td>(L46)용호점</td>\n",
       "    </tr>\n",
       "    <tr>\n",
       "      <th>2</th>\n",
       "      <td>NaN</td>\n",
       "      <td>NaN</td>\n",
       "      <td>NaN</td>\n",
       "      <td>수량</td>\n",
       "      <td>수량</td>\n",
       "      <td>수량</td>\n",
       "      <td>수량</td>\n",
       "      <td>수량</td>\n",
       "      <td>수량</td>\n",
       "      <td>수량</td>\n",
       "      <td>...</td>\n",
       "      <td>수량</td>\n",
       "      <td>수량</td>\n",
       "      <td>수량</td>\n",
       "      <td>수량</td>\n",
       "      <td>수량</td>\n",
       "      <td>수량</td>\n",
       "      <td>수량</td>\n",
       "      <td>수량</td>\n",
       "      <td>수량</td>\n",
       "      <td>수량</td>\n",
       "    </tr>\n",
       "    <tr>\n",
       "      <th>3</th>\n",
       "      <td>NaN</td>\n",
       "      <td>NaN</td>\n",
       "      <td>합 계</td>\n",
       "      <td>2,029,096</td>\n",
       "      <td>6,829</td>\n",
       "      <td>8,374</td>\n",
       "      <td>12,626</td>\n",
       "      <td>11,767</td>\n",
       "      <td>10,912</td>\n",
       "      <td>7,062</td>\n",
       "      <td>...</td>\n",
       "      <td>2,392</td>\n",
       "      <td>1,291</td>\n",
       "      <td>4,506</td>\n",
       "      <td>2,364</td>\n",
       "      <td>2,739</td>\n",
       "      <td>1,782</td>\n",
       "      <td>3,129</td>\n",
       "      <td>1,712</td>\n",
       "      <td>3,189</td>\n",
       "      <td>2,347</td>\n",
       "    </tr>\n",
       "    <tr>\n",
       "      <th>4</th>\n",
       "      <td>1</td>\n",
       "      <td>0000001801828</td>\n",
       "      <td>자연숨결 식약처 허가 초미세먼지 마스크 대형 60매(KF94)</td>\n",
       "      <td>65402</td>\n",
       "      <td>174</td>\n",
       "      <td>239</td>\n",
       "      <td>432</td>\n",
       "      <td>199</td>\n",
       "      <td>220</td>\n",
       "      <td>263</td>\n",
       "      <td>...</td>\n",
       "      <td>0</td>\n",
       "      <td>25</td>\n",
       "      <td>76</td>\n",
       "      <td>72</td>\n",
       "      <td>54</td>\n",
       "      <td>72</td>\n",
       "      <td>15</td>\n",
       "      <td>38</td>\n",
       "      <td>27</td>\n",
       "      <td>89</td>\n",
       "    </tr>\n",
       "  </tbody>\n",
       "</table>\n",
       "<p>5 rows × 646 columns</p>\n",
       "</div>"
      ],
      "text/plain": [
       "   조회기간-시작  = 20230601     Unnamed: 1                          Unnamed: 2  \\\n",
       "0  조회기간-종료  = 20230630            NaN                                 NaN   \n",
       "1                   순번           상품코드                                 상품명   \n",
       "2                  NaN            NaN                                 NaN   \n",
       "3                  NaN            NaN                                 합 계   \n",
       "4                    1  0000001801828  자연숨결 식약처 허가 초미세먼지 마스크 대형 60매(KF94)   \n",
       "\n",
       "  Unnamed: 3  Unnamed: 4 Unnamed: 5 Unnamed: 6   Unnamed: 7 Unnamed: 8  \\\n",
       "0        NaN         NaN        NaN        NaN          NaN        NaN   \n",
       "1         합계  (1154)의정부점  (1155)별내점  (1156)풍산점  (1157)김포한강점  (1158)세종점   \n",
       "2         수량          수량         수량         수량           수량         수량   \n",
       "3  2,029,096       6,829      8,374     12,626       11,767     10,912   \n",
       "4      65402         174        239        432          199        220   \n",
       "\n",
       "   Unnamed: 9  ... Unnamed: 636 Unnamed: 637 Unnamed: 638 Unnamed: 639  \\\n",
       "0         NaN  ...          NaN          NaN          NaN          NaN   \n",
       "1  (1159)킨텍스점  ...    (L21)위시티점    (L23)걸포동점   (L27)통일동산점     (L35)성대점   \n",
       "2          수량  ...           수량           수량           수량           수량   \n",
       "3       7,062  ...        2,392        1,291        4,506        2,364   \n",
       "4         263  ...            0           25           76           72   \n",
       "\n",
       "  Unnamed: 640 Unnamed: 641 Unnamed: 642 Unnamed: 643 Unnamed: 644  \\\n",
       "0          NaN          NaN          NaN          NaN          NaN   \n",
       "1     (L36)병점점     (L38)율전점     (L39)본오점     (L40)검암점     (L44)신길점   \n",
       "2           수량           수량           수량           수량           수량   \n",
       "3        2,739        1,782        3,129        1,712        3,189   \n",
       "4           54           72           15           38           27   \n",
       "\n",
       "  Unnamed: 645  \n",
       "0          NaN  \n",
       "1     (L46)용호점  \n",
       "2           수량  \n",
       "3        2,347  \n",
       "4           89  \n",
       "\n",
       "[5 rows x 646 columns]"
      ]
     },
     "execution_count": 30,
     "metadata": {},
     "output_type": "execute_result"
    }
   ],
   "source": [
    "p1 = pd.read_excel('기간별상품매출현황_202306.xlsx')\n",
    "p1.head()\n",
    "#skiprow를 이용해 위 2행 제거 + 그 다름줄을 col로 사용"
   ]
  },
  {
   "cell_type": "code",
   "execution_count": 34,
   "id": "447abc15-e6fd-4daf-8c37-1957c3266d98",
   "metadata": {},
   "outputs": [
    {
     "data": {
      "text/html": [
       "<div>\n",
       "<style scoped>\n",
       "    .dataframe tbody tr th:only-of-type {\n",
       "        vertical-align: middle;\n",
       "    }\n",
       "\n",
       "    .dataframe tbody tr th {\n",
       "        vertical-align: top;\n",
       "    }\n",
       "\n",
       "    .dataframe thead th {\n",
       "        text-align: right;\n",
       "    }\n",
       "</style>\n",
       "<table border=\"1\" class=\"dataframe\">\n",
       "  <thead>\n",
       "    <tr style=\"text-align: right;\">\n",
       "      <th></th>\n",
       "      <th>순번</th>\n",
       "      <th>상품코드</th>\n",
       "      <th>상품명</th>\n",
       "      <th>합계</th>\n",
       "      <th>(1154)의정부점</th>\n",
       "      <th>(1155)별내점</th>\n",
       "      <th>(1156)풍산점</th>\n",
       "      <th>(1157)김포한강점</th>\n",
       "      <th>(1158)세종점</th>\n",
       "      <th>(1159)킨텍스점</th>\n",
       "      <th>...</th>\n",
       "      <th>(L21)위시티점</th>\n",
       "      <th>(L23)걸포동점</th>\n",
       "      <th>(L27)통일동산점</th>\n",
       "      <th>(L35)성대점</th>\n",
       "      <th>(L36)병점점</th>\n",
       "      <th>(L38)율전점</th>\n",
       "      <th>(L39)본오점</th>\n",
       "      <th>(L40)검암점</th>\n",
       "      <th>(L44)신길점</th>\n",
       "      <th>(L46)용호점</th>\n",
       "    </tr>\n",
       "  </thead>\n",
       "  <tbody>\n",
       "    <tr>\n",
       "      <th>0</th>\n",
       "      <td>NaN</td>\n",
       "      <td>NaN</td>\n",
       "      <td>NaN</td>\n",
       "      <td>수량</td>\n",
       "      <td>수량</td>\n",
       "      <td>수량</td>\n",
       "      <td>수량</td>\n",
       "      <td>수량</td>\n",
       "      <td>수량</td>\n",
       "      <td>수량</td>\n",
       "      <td>...</td>\n",
       "      <td>수량</td>\n",
       "      <td>수량</td>\n",
       "      <td>수량</td>\n",
       "      <td>수량</td>\n",
       "      <td>수량</td>\n",
       "      <td>수량</td>\n",
       "      <td>수량</td>\n",
       "      <td>수량</td>\n",
       "      <td>수량</td>\n",
       "      <td>수량</td>\n",
       "    </tr>\n",
       "    <tr>\n",
       "      <th>1</th>\n",
       "      <td>NaN</td>\n",
       "      <td>NaN</td>\n",
       "      <td>합 계</td>\n",
       "      <td>2,029,096</td>\n",
       "      <td>6,829</td>\n",
       "      <td>8,374</td>\n",
       "      <td>12,626</td>\n",
       "      <td>11,767</td>\n",
       "      <td>10,912</td>\n",
       "      <td>7,062</td>\n",
       "      <td>...</td>\n",
       "      <td>2,392</td>\n",
       "      <td>1,291</td>\n",
       "      <td>4,506</td>\n",
       "      <td>2,364</td>\n",
       "      <td>2,739</td>\n",
       "      <td>1,782</td>\n",
       "      <td>3,129</td>\n",
       "      <td>1,712</td>\n",
       "      <td>3,189</td>\n",
       "      <td>2,347</td>\n",
       "    </tr>\n",
       "    <tr>\n",
       "      <th>2</th>\n",
       "      <td>1.0</td>\n",
       "      <td>1801828.0</td>\n",
       "      <td>자연숨결 식약처 허가 초미세먼지 마스크 대형 60매(KF94)</td>\n",
       "      <td>65402</td>\n",
       "      <td>174</td>\n",
       "      <td>239</td>\n",
       "      <td>432</td>\n",
       "      <td>199</td>\n",
       "      <td>220</td>\n",
       "      <td>263</td>\n",
       "      <td>...</td>\n",
       "      <td>0</td>\n",
       "      <td>25</td>\n",
       "      <td>76</td>\n",
       "      <td>72</td>\n",
       "      <td>54</td>\n",
       "      <td>72</td>\n",
       "      <td>15</td>\n",
       "      <td>38</td>\n",
       "      <td>27</td>\n",
       "      <td>89</td>\n",
       "    </tr>\n",
       "    <tr>\n",
       "      <th>3</th>\n",
       "      <td>2.0</td>\n",
       "      <td>1801859.0</td>\n",
       "      <td>블루방역황사마스크 65매 KF94</td>\n",
       "      <td>1</td>\n",
       "      <td>0</td>\n",
       "      <td>0</td>\n",
       "      <td>0</td>\n",
       "      <td>0</td>\n",
       "      <td>0</td>\n",
       "      <td>0</td>\n",
       "      <td>...</td>\n",
       "      <td>0</td>\n",
       "      <td>0</td>\n",
       "      <td>0</td>\n",
       "      <td>0</td>\n",
       "      <td>0</td>\n",
       "      <td>0</td>\n",
       "      <td>0</td>\n",
       "      <td>0</td>\n",
       "      <td>0</td>\n",
       "      <td>0</td>\n",
       "    </tr>\n",
       "    <tr>\n",
       "      <th>4</th>\n",
       "      <td>3.0</td>\n",
       "      <td>40786179.0</td>\n",
       "      <td>클린위즈 매직클리너 얼룩제거 세트</td>\n",
       "      <td>2158</td>\n",
       "      <td>4</td>\n",
       "      <td>9</td>\n",
       "      <td>10</td>\n",
       "      <td>27</td>\n",
       "      <td>0</td>\n",
       "      <td>11</td>\n",
       "      <td>...</td>\n",
       "      <td>0</td>\n",
       "      <td>0</td>\n",
       "      <td>0</td>\n",
       "      <td>0</td>\n",
       "      <td>0</td>\n",
       "      <td>0</td>\n",
       "      <td>0</td>\n",
       "      <td>0</td>\n",
       "      <td>0</td>\n",
       "      <td>0</td>\n",
       "    </tr>\n",
       "  </tbody>\n",
       "</table>\n",
       "<p>5 rows × 646 columns</p>\n",
       "</div>"
      ],
      "text/plain": [
       "    순번        상품코드                                 상품명         합계 (1154)의정부점  \\\n",
       "0  NaN         NaN                                 NaN         수량         수량   \n",
       "1  NaN         NaN                                 합 계  2,029,096      6,829   \n",
       "2  1.0   1801828.0  자연숨결 식약처 허가 초미세먼지 마스크 대형 60매(KF94)      65402        174   \n",
       "3  2.0   1801859.0                  블루방역황사마스크 65매 KF94          1          0   \n",
       "4  3.0  40786179.0                  클린위즈 매직클리너 얼룩제거 세트       2158          4   \n",
       "\n",
       "  (1155)별내점 (1156)풍산점 (1157)김포한강점 (1158)세종점 (1159)킨텍스점  ... (L21)위시티점  \\\n",
       "0        수량        수량          수량        수량         수량  ...        수량   \n",
       "1     8,374    12,626      11,767    10,912      7,062  ...     2,392   \n",
       "2       239       432         199       220        263  ...         0   \n",
       "3         0         0           0         0          0  ...         0   \n",
       "4         9        10          27         0         11  ...         0   \n",
       "\n",
       "  (L23)걸포동점 (L27)통일동산점 (L35)성대점 (L36)병점점 (L38)율전점 (L39)본오점 (L40)검암점 (L44)신길점  \\\n",
       "0        수량         수량       수량       수량       수량       수량       수량       수량   \n",
       "1     1,291      4,506    2,364    2,739    1,782    3,129    1,712    3,189   \n",
       "2        25         76       72       54       72       15       38       27   \n",
       "3         0          0        0        0        0        0        0        0   \n",
       "4         0          0        0        0        0        0        0        0   \n",
       "\n",
       "  (L46)용호점  \n",
       "0       수량  \n",
       "1    2,347  \n",
       "2       89  \n",
       "3        0  \n",
       "4        0  \n",
       "\n",
       "[5 rows x 646 columns]"
      ]
     },
     "execution_count": 34,
     "metadata": {},
     "output_type": "execute_result"
    }
   ],
   "source": [
    "p2 = pd.read_excel('기간별상품매출현황_202306.xlsx' , skiprows =2)\n",
    "p2.head()\n",
    "# 위에 두 행 필요없음"
   ]
  },
  {
   "cell_type": "code",
   "execution_count": 42,
   "id": "13faa542-a70e-4893-947d-fdf4cc62acb9",
   "metadata": {},
   "outputs": [
    {
     "data": {
      "text/html": [
       "<div>\n",
       "<style scoped>\n",
       "    .dataframe tbody tr th:only-of-type {\n",
       "        vertical-align: middle;\n",
       "    }\n",
       "\n",
       "    .dataframe tbody tr th {\n",
       "        vertical-align: top;\n",
       "    }\n",
       "\n",
       "    .dataframe thead th {\n",
       "        text-align: right;\n",
       "    }\n",
       "</style>\n",
       "<table border=\"1\" class=\"dataframe\">\n",
       "  <thead>\n",
       "    <tr style=\"text-align: right;\">\n",
       "      <th></th>\n",
       "      <th>순번</th>\n",
       "      <th>상품코드</th>\n",
       "      <th>상품명</th>\n",
       "      <th>합계</th>\n",
       "      <th>(1154)의정부점</th>\n",
       "      <th>(1155)별내점</th>\n",
       "      <th>(1156)풍산점</th>\n",
       "      <th>(1157)김포한강점</th>\n",
       "      <th>(1158)세종점</th>\n",
       "      <th>(1159)킨텍스점</th>\n",
       "      <th>...</th>\n",
       "      <th>(L21)위시티점</th>\n",
       "      <th>(L23)걸포동점</th>\n",
       "      <th>(L27)통일동산점</th>\n",
       "      <th>(L35)성대점</th>\n",
       "      <th>(L36)병점점</th>\n",
       "      <th>(L38)율전점</th>\n",
       "      <th>(L39)본오점</th>\n",
       "      <th>(L40)검암점</th>\n",
       "      <th>(L44)신길점</th>\n",
       "      <th>(L46)용호점</th>\n",
       "    </tr>\n",
       "  </thead>\n",
       "  <tbody>\n",
       "    <tr>\n",
       "      <th>2</th>\n",
       "      <td>1.0</td>\n",
       "      <td>1801828.0</td>\n",
       "      <td>자연숨결 식약처 허가 초미세먼지 마스크 대형 60매(KF94)</td>\n",
       "      <td>65402</td>\n",
       "      <td>174</td>\n",
       "      <td>239</td>\n",
       "      <td>432</td>\n",
       "      <td>199</td>\n",
       "      <td>220</td>\n",
       "      <td>263</td>\n",
       "      <td>...</td>\n",
       "      <td>0</td>\n",
       "      <td>25</td>\n",
       "      <td>76</td>\n",
       "      <td>72</td>\n",
       "      <td>54</td>\n",
       "      <td>72</td>\n",
       "      <td>15</td>\n",
       "      <td>38</td>\n",
       "      <td>27</td>\n",
       "      <td>89</td>\n",
       "    </tr>\n",
       "    <tr>\n",
       "      <th>3</th>\n",
       "      <td>2.0</td>\n",
       "      <td>1801859.0</td>\n",
       "      <td>블루방역황사마스크 65매 KF94</td>\n",
       "      <td>1</td>\n",
       "      <td>0</td>\n",
       "      <td>0</td>\n",
       "      <td>0</td>\n",
       "      <td>0</td>\n",
       "      <td>0</td>\n",
       "      <td>0</td>\n",
       "      <td>...</td>\n",
       "      <td>0</td>\n",
       "      <td>0</td>\n",
       "      <td>0</td>\n",
       "      <td>0</td>\n",
       "      <td>0</td>\n",
       "      <td>0</td>\n",
       "      <td>0</td>\n",
       "      <td>0</td>\n",
       "      <td>0</td>\n",
       "      <td>0</td>\n",
       "    </tr>\n",
       "    <tr>\n",
       "      <th>4</th>\n",
       "      <td>3.0</td>\n",
       "      <td>40786179.0</td>\n",
       "      <td>클린위즈 매직클리너 얼룩제거 세트</td>\n",
       "      <td>2158</td>\n",
       "      <td>4</td>\n",
       "      <td>9</td>\n",
       "      <td>10</td>\n",
       "      <td>27</td>\n",
       "      <td>0</td>\n",
       "      <td>11</td>\n",
       "      <td>...</td>\n",
       "      <td>0</td>\n",
       "      <td>0</td>\n",
       "      <td>0</td>\n",
       "      <td>0</td>\n",
       "      <td>0</td>\n",
       "      <td>0</td>\n",
       "      <td>0</td>\n",
       "      <td>0</td>\n",
       "      <td>0</td>\n",
       "      <td>0</td>\n",
       "    </tr>\n",
       "    <tr>\n",
       "      <th>5</th>\n",
       "      <td>4.0</td>\n",
       "      <td>41001356.0</td>\n",
       "      <td>트루마리 순수휴지 30미터 90롤</td>\n",
       "      <td>3649</td>\n",
       "      <td>14</td>\n",
       "      <td>0</td>\n",
       "      <td>17</td>\n",
       "      <td>35</td>\n",
       "      <td>20</td>\n",
       "      <td>2</td>\n",
       "      <td>...</td>\n",
       "      <td>0</td>\n",
       "      <td>0</td>\n",
       "      <td>0</td>\n",
       "      <td>0</td>\n",
       "      <td>0</td>\n",
       "      <td>0</td>\n",
       "      <td>0</td>\n",
       "      <td>0</td>\n",
       "      <td>0</td>\n",
       "      <td>0</td>\n",
       "    </tr>\n",
       "    <tr>\n",
       "      <th>6</th>\n",
       "      <td>5.0</td>\n",
       "      <td>88005324.0</td>\n",
       "      <td>자연숨결 식약처 허가 초미세먼지 마스크 대형30매 + 중형 30매(KF94)</td>\n",
       "      <td>1</td>\n",
       "      <td>0</td>\n",
       "      <td>0</td>\n",
       "      <td>0</td>\n",
       "      <td>0</td>\n",
       "      <td>0</td>\n",
       "      <td>0</td>\n",
       "      <td>...</td>\n",
       "      <td>0</td>\n",
       "      <td>0</td>\n",
       "      <td>0</td>\n",
       "      <td>0</td>\n",
       "      <td>0</td>\n",
       "      <td>0</td>\n",
       "      <td>0</td>\n",
       "      <td>0</td>\n",
       "      <td>0</td>\n",
       "      <td>0</td>\n",
       "    </tr>\n",
       "  </tbody>\n",
       "</table>\n",
       "<p>5 rows × 646 columns</p>\n",
       "</div>"
      ],
      "text/plain": [
       "    순번        상품코드                                         상품명     합계  \\\n",
       "2  1.0   1801828.0          자연숨결 식약처 허가 초미세먼지 마스크 대형 60매(KF94)  65402   \n",
       "3  2.0   1801859.0                          블루방역황사마스크 65매 KF94      1   \n",
       "4  3.0  40786179.0                          클린위즈 매직클리너 얼룩제거 세트   2158   \n",
       "5  4.0  41001356.0                          트루마리 순수휴지 30미터 90롤   3649   \n",
       "6  5.0  88005324.0  자연숨결 식약처 허가 초미세먼지 마스크 대형30매 + 중형 30매(KF94)      1   \n",
       "\n",
       "  (1154)의정부점 (1155)별내점 (1156)풍산점 (1157)김포한강점 (1158)세종점 (1159)킨텍스점  ...  \\\n",
       "2        174       239       432         199       220        263  ...   \n",
       "3          0         0         0           0         0          0  ...   \n",
       "4          4         9        10          27         0         11  ...   \n",
       "5         14         0        17          35        20          2  ...   \n",
       "6          0         0         0           0         0          0  ...   \n",
       "\n",
       "  (L21)위시티점 (L23)걸포동점 (L27)통일동산점 (L35)성대점 (L36)병점점 (L38)율전점 (L39)본오점 (L40)검암점  \\\n",
       "2         0        25         76       72       54       72       15       38   \n",
       "3         0         0          0        0        0        0        0        0   \n",
       "4         0         0          0        0        0        0        0        0   \n",
       "5         0         0          0        0        0        0        0        0   \n",
       "6         0         0          0        0        0        0        0        0   \n",
       "\n",
       "  (L44)신길점 (L46)용호점  \n",
       "2       27       89  \n",
       "3        0        0  \n",
       "4        0        0  \n",
       "5        0        0  \n",
       "6        0        0  \n",
       "\n",
       "[5 rows x 646 columns]"
      ]
     },
     "execution_count": 42,
     "metadata": {},
     "output_type": "execute_result"
    }
   ],
   "source": [
    "p3 = p2.iloc[2:]\n",
    "p3.head()\n",
    "# 인덱스가 2번부터 시작하지만 concat할때 리셋하면 된다"
   ]
  },
  {
   "cell_type": "code",
   "execution_count": 51,
   "id": "3218bb37-c061-44c1-8464-f0dc1d4ce44f",
   "metadata": {},
   "outputs": [
    {
     "data": {
      "text/plain": [
       "Index(['순번', '상품코드', '상품명', ' 합계'], dtype='object')"
      ]
     },
     "execution_count": 51,
     "metadata": {},
     "output_type": "execute_result"
    }
   ],
   "source": [
    "p3.columns[0:4]"
   ]
  },
  {
   "cell_type": "code",
   "execution_count": 65,
   "id": "54174fbc-3f95-4cca-918a-6fc08fd51340",
   "metadata": {},
   "outputs": [
    {
     "data": {
      "text/html": [
       "<div>\n",
       "<style scoped>\n",
       "    .dataframe tbody tr th:only-of-type {\n",
       "        vertical-align: middle;\n",
       "    }\n",
       "\n",
       "    .dataframe tbody tr th {\n",
       "        vertical-align: top;\n",
       "    }\n",
       "\n",
       "    .dataframe thead th {\n",
       "        text-align: right;\n",
       "    }\n",
       "</style>\n",
       "<table border=\"1\" class=\"dataframe\">\n",
       "  <thead>\n",
       "    <tr style=\"text-align: right;\">\n",
       "      <th></th>\n",
       "      <th>순번</th>\n",
       "      <th>상품코드</th>\n",
       "      <th>상품명</th>\n",
       "      <th>합계</th>\n",
       "      <th>지점</th>\n",
       "      <th>판매량</th>\n",
       "    </tr>\n",
       "  </thead>\n",
       "  <tbody>\n",
       "    <tr>\n",
       "      <th>0</th>\n",
       "      <td>1.0</td>\n",
       "      <td>1801828.0</td>\n",
       "      <td>자연숨결 식약처 허가 초미세먼지 마스크 대형 60매(KF94)</td>\n",
       "      <td>65402</td>\n",
       "      <td>(1154)의정부점</td>\n",
       "      <td>174</td>\n",
       "    </tr>\n",
       "    <tr>\n",
       "      <th>1</th>\n",
       "      <td>2.0</td>\n",
       "      <td>1801859.0</td>\n",
       "      <td>블루방역황사마스크 65매 KF94</td>\n",
       "      <td>1</td>\n",
       "      <td>(1154)의정부점</td>\n",
       "      <td>0</td>\n",
       "    </tr>\n",
       "    <tr>\n",
       "      <th>2</th>\n",
       "      <td>3.0</td>\n",
       "      <td>40786179.0</td>\n",
       "      <td>클린위즈 매직클리너 얼룩제거 세트</td>\n",
       "      <td>2158</td>\n",
       "      <td>(1154)의정부점</td>\n",
       "      <td>4</td>\n",
       "    </tr>\n",
       "    <tr>\n",
       "      <th>3</th>\n",
       "      <td>4.0</td>\n",
       "      <td>41001356.0</td>\n",
       "      <td>트루마리 순수휴지 30미터 90롤</td>\n",
       "      <td>3649</td>\n",
       "      <td>(1154)의정부점</td>\n",
       "      <td>14</td>\n",
       "    </tr>\n",
       "    <tr>\n",
       "      <th>4</th>\n",
       "      <td>5.0</td>\n",
       "      <td>88005324.0</td>\n",
       "      <td>자연숨결 식약처 허가 초미세먼지 마스크 대형30매 + 중형 30매(KF94)</td>\n",
       "      <td>1</td>\n",
       "      <td>(1154)의정부점</td>\n",
       "      <td>0</td>\n",
       "    </tr>\n",
       "  </tbody>\n",
       "</table>\n",
       "</div>"
      ],
      "text/plain": [
       "    순번        상품코드                                         상품명     합계  \\\n",
       "0  1.0   1801828.0          자연숨결 식약처 허가 초미세먼지 마스크 대형 60매(KF94)  65402   \n",
       "1  2.0   1801859.0                          블루방역황사마스크 65매 KF94      1   \n",
       "2  3.0  40786179.0                          클린위즈 매직클리너 얼룩제거 세트   2158   \n",
       "3  4.0  41001356.0                          트루마리 순수휴지 30미터 90롤   3649   \n",
       "4  5.0  88005324.0  자연숨결 식약처 허가 초미세먼지 마스크 대형30매 + 중형 30매(KF94)      1   \n",
       "\n",
       "           지점  판매량  \n",
       "0  (1154)의정부점  174  \n",
       "1  (1154)의정부점    0  \n",
       "2  (1154)의정부점    4  \n",
       "3  (1154)의정부점   14  \n",
       "4  (1154)의정부점    0  "
      ]
     },
     "execution_count": 65,
     "metadata": {},
     "output_type": "execute_result"
    }
   ],
   "source": [
    "p4 = p3.melt(id_vars = p3.columns[0:4])\n",
    "p4.rename(columns = {'variable' : '지점' , 'value' : '판매량'} , inplace = True)\n",
    "p4.head()"
   ]
  },
  {
   "cell_type": "code",
   "execution_count": 75,
   "id": "110d50dc-a330-4076-b5dd-f33a8b094934",
   "metadata": {},
   "outputs": [
    {
     "data": {
      "text/html": [
       "<div>\n",
       "<style scoped>\n",
       "    .dataframe tbody tr th:only-of-type {\n",
       "        vertical-align: middle;\n",
       "    }\n",
       "\n",
       "    .dataframe tbody tr th {\n",
       "        vertical-align: top;\n",
       "    }\n",
       "\n",
       "    .dataframe thead th {\n",
       "        text-align: right;\n",
       "    }\n",
       "</style>\n",
       "<table border=\"1\" class=\"dataframe\">\n",
       "  <thead>\n",
       "    <tr style=\"text-align: right;\">\n",
       "      <th></th>\n",
       "      <th>순번</th>\n",
       "      <th>상품코드</th>\n",
       "      <th>상품명</th>\n",
       "      <th>합계</th>\n",
       "      <th>지점</th>\n",
       "      <th>판매량</th>\n",
       "      <th>기간</th>\n",
       "    </tr>\n",
       "  </thead>\n",
       "  <tbody>\n",
       "    <tr>\n",
       "      <th>0</th>\n",
       "      <td>1.0</td>\n",
       "      <td>1801828.0</td>\n",
       "      <td>자연숨결 식약처 허가 초미세먼지 마스크 대형 60매(KF94)</td>\n",
       "      <td>65402</td>\n",
       "      <td>(1154)의정부점</td>\n",
       "      <td>174</td>\n",
       "      <td>06월</td>\n",
       "    </tr>\n",
       "    <tr>\n",
       "      <th>1</th>\n",
       "      <td>2.0</td>\n",
       "      <td>1801859.0</td>\n",
       "      <td>블루방역황사마스크 65매 KF94</td>\n",
       "      <td>1</td>\n",
       "      <td>(1154)의정부점</td>\n",
       "      <td>0</td>\n",
       "      <td>06월</td>\n",
       "    </tr>\n",
       "    <tr>\n",
       "      <th>2</th>\n",
       "      <td>3.0</td>\n",
       "      <td>40786179.0</td>\n",
       "      <td>클린위즈 매직클리너 얼룩제거 세트</td>\n",
       "      <td>2158</td>\n",
       "      <td>(1154)의정부점</td>\n",
       "      <td>4</td>\n",
       "      <td>06월</td>\n",
       "    </tr>\n",
       "    <tr>\n",
       "      <th>3</th>\n",
       "      <td>4.0</td>\n",
       "      <td>41001356.0</td>\n",
       "      <td>트루마리 순수휴지 30미터 90롤</td>\n",
       "      <td>3649</td>\n",
       "      <td>(1154)의정부점</td>\n",
       "      <td>14</td>\n",
       "      <td>06월</td>\n",
       "    </tr>\n",
       "    <tr>\n",
       "      <th>4</th>\n",
       "      <td>5.0</td>\n",
       "      <td>88005324.0</td>\n",
       "      <td>자연숨결 식약처 허가 초미세먼지 마스크 대형30매 + 중형 30매(KF94)</td>\n",
       "      <td>1</td>\n",
       "      <td>(1154)의정부점</td>\n",
       "      <td>0</td>\n",
       "      <td>06월</td>\n",
       "    </tr>\n",
       "  </tbody>\n",
       "</table>\n",
       "</div>"
      ],
      "text/plain": [
       "    순번        상품코드                                         상품명     합계  \\\n",
       "0  1.0   1801828.0          자연숨결 식약처 허가 초미세먼지 마스크 대형 60매(KF94)  65402   \n",
       "1  2.0   1801859.0                          블루방역황사마스크 65매 KF94      1   \n",
       "2  3.0  40786179.0                          클린위즈 매직클리너 얼룩제거 세트   2158   \n",
       "3  4.0  41001356.0                          트루마리 순수휴지 30미터 90롤   3649   \n",
       "4  5.0  88005324.0  자연숨결 식약처 허가 초미세먼지 마스크 대형30매 + 중형 30매(KF94)      1   \n",
       "\n",
       "           지점  판매량   기간  \n",
       "0  (1154)의정부점  174  06월  \n",
       "1  (1154)의정부점    0  06월  \n",
       "2  (1154)의정부점    4  06월  \n",
       "3  (1154)의정부점   14  06월  \n",
       "4  (1154)의정부점    0  06월  "
      ]
     },
     "execution_count": 75,
     "metadata": {},
     "output_type": "execute_result"
    }
   ],
   "source": [
    "i ='기간별상품매출현황_202306.xlsx'\n",
    "p4['기간'] = i[-7:-5] + '월'\n",
    "p4.head()"
   ]
  },
  {
   "cell_type": "code",
   "execution_count": 81,
   "id": "c2b15f2d-ec42-47a8-a00a-cfdbf03d6764",
   "metadata": {},
   "outputs": [
    {
     "data": {
      "text/html": [
       "<div>\n",
       "<style scoped>\n",
       "    .dataframe tbody tr th:only-of-type {\n",
       "        vertical-align: middle;\n",
       "    }\n",
       "\n",
       "    .dataframe tbody tr th {\n",
       "        vertical-align: top;\n",
       "    }\n",
       "\n",
       "    .dataframe thead th {\n",
       "        text-align: right;\n",
       "    }\n",
       "</style>\n",
       "<table border=\"1\" class=\"dataframe\">\n",
       "  <thead>\n",
       "    <tr style=\"text-align: right;\">\n",
       "      <th></th>\n",
       "      <th>순번</th>\n",
       "      <th>상품코드</th>\n",
       "      <th>상품명</th>\n",
       "      <th>합계</th>\n",
       "      <th>지점</th>\n",
       "      <th>판매량</th>\n",
       "      <th>기간</th>\n",
       "    </tr>\n",
       "  </thead>\n",
       "  <tbody>\n",
       "    <tr>\n",
       "      <th>0</th>\n",
       "      <td>1.0</td>\n",
       "      <td>1.801828e+06</td>\n",
       "      <td>자연숨결 식약처 허가 초미세먼지 마스크 대형 60매(KF94)</td>\n",
       "      <td>65402</td>\n",
       "      <td>(1154)의정부점</td>\n",
       "      <td>174</td>\n",
       "      <td>06월</td>\n",
       "    </tr>\n",
       "    <tr>\n",
       "      <th>1</th>\n",
       "      <td>2.0</td>\n",
       "      <td>1.801859e+06</td>\n",
       "      <td>블루방역황사마스크 65매 KF94</td>\n",
       "      <td>1</td>\n",
       "      <td>(1154)의정부점</td>\n",
       "      <td>0</td>\n",
       "      <td>06월</td>\n",
       "    </tr>\n",
       "    <tr>\n",
       "      <th>2</th>\n",
       "      <td>3.0</td>\n",
       "      <td>4.078618e+07</td>\n",
       "      <td>클린위즈 매직클리너 얼룩제거 세트</td>\n",
       "      <td>2158</td>\n",
       "      <td>(1154)의정부점</td>\n",
       "      <td>4</td>\n",
       "      <td>06월</td>\n",
       "    </tr>\n",
       "    <tr>\n",
       "      <th>3</th>\n",
       "      <td>4.0</td>\n",
       "      <td>4.100136e+07</td>\n",
       "      <td>트루마리 순수휴지 30미터 90롤</td>\n",
       "      <td>3649</td>\n",
       "      <td>(1154)의정부점</td>\n",
       "      <td>14</td>\n",
       "      <td>06월</td>\n",
       "    </tr>\n",
       "    <tr>\n",
       "      <th>4</th>\n",
       "      <td>5.0</td>\n",
       "      <td>8.800532e+07</td>\n",
       "      <td>자연숨결 식약처 허가 초미세먼지 마스크 대형30매 + 중형 30매(KF94)</td>\n",
       "      <td>1</td>\n",
       "      <td>(1154)의정부점</td>\n",
       "      <td>0</td>\n",
       "      <td>06월</td>\n",
       "    </tr>\n",
       "    <tr>\n",
       "      <th>...</th>\n",
       "      <td>...</td>\n",
       "      <td>...</td>\n",
       "      <td>...</td>\n",
       "      <td>...</td>\n",
       "      <td>...</td>\n",
       "      <td>...</td>\n",
       "      <td>...</td>\n",
       "    </tr>\n",
       "    <tr>\n",
       "      <th>236993</th>\n",
       "      <td>126.0</td>\n",
       "      <td>8.801858e+12</td>\n",
       "      <td>[쨍하고해뜰집]제습제풀세트(다용도제습제30통+지시겔1봉)</td>\n",
       "      <td>653</td>\n",
       "      <td>(L46)용호점</td>\n",
       "      <td>0</td>\n",
       "      <td>08월</td>\n",
       "    </tr>\n",
       "    <tr>\n",
       "      <th>236994</th>\n",
       "      <td>127.0</td>\n",
       "      <td>8.801858e+12</td>\n",
       "      <td>[리얼뽀송이]제습제세트</td>\n",
       "      <td>3233</td>\n",
       "      <td>(L46)용호점</td>\n",
       "      <td>0</td>\n",
       "      <td>08월</td>\n",
       "    </tr>\n",
       "    <tr>\n",
       "      <th>236995</th>\n",
       "      <td>128.0</td>\n",
       "      <td>8.801858e+12</td>\n",
       "      <td>[미라클워터]다목적세정제17종괴물용량풀세트</td>\n",
       "      <td>8433</td>\n",
       "      <td>(L46)용호점</td>\n",
       "      <td>0</td>\n",
       "      <td>08월</td>\n",
       "    </tr>\n",
       "    <tr>\n",
       "      <th>236996</th>\n",
       "      <td>129.0</td>\n",
       "      <td>8.801858e+12</td>\n",
       "      <td>[쨍하고해뜰집]지시겔1봉(20개)</td>\n",
       "      <td>135839</td>\n",
       "      <td>(L46)용호점</td>\n",
       "      <td>145</td>\n",
       "      <td>08월</td>\n",
       "    </tr>\n",
       "    <tr>\n",
       "      <th>236997</th>\n",
       "      <td>130.0</td>\n",
       "      <td>8.801858e+12</td>\n",
       "      <td>[리얼뽀송이]제습제1팩(단품)</td>\n",
       "      <td>28631</td>\n",
       "      <td>(L46)용호점</td>\n",
       "      <td>29</td>\n",
       "      <td>08월</td>\n",
       "    </tr>\n",
       "  </tbody>\n",
       "</table>\n",
       "<p>236998 rows × 7 columns</p>\n",
       "</div>"
      ],
      "text/plain": [
       "           순번          상품코드                                         상품명  \\\n",
       "0         1.0  1.801828e+06          자연숨결 식약처 허가 초미세먼지 마스크 대형 60매(KF94)   \n",
       "1         2.0  1.801859e+06                          블루방역황사마스크 65매 KF94   \n",
       "2         3.0  4.078618e+07                          클린위즈 매직클리너 얼룩제거 세트   \n",
       "3         4.0  4.100136e+07                          트루마리 순수휴지 30미터 90롤   \n",
       "4         5.0  8.800532e+07  자연숨결 식약처 허가 초미세먼지 마스크 대형30매 + 중형 30매(KF94)   \n",
       "...       ...           ...                                         ...   \n",
       "236993  126.0  8.801858e+12             [쨍하고해뜰집]제습제풀세트(다용도제습제30통+지시겔1봉)   \n",
       "236994  127.0  8.801858e+12                                [리얼뽀송이]제습제세트   \n",
       "236995  128.0  8.801858e+12                     [미라클워터]다목적세정제17종괴물용량풀세트   \n",
       "236996  129.0  8.801858e+12                          [쨍하고해뜰집]지시겔1봉(20개)   \n",
       "236997  130.0  8.801858e+12                            [리얼뽀송이]제습제1팩(단품)   \n",
       "\n",
       "            합계          지점  판매량   기간  \n",
       "0        65402  (1154)의정부점  174  06월  \n",
       "1            1  (1154)의정부점    0  06월  \n",
       "2         2158  (1154)의정부점    4  06월  \n",
       "3         3649  (1154)의정부점   14  06월  \n",
       "4            1  (1154)의정부점    0  06월  \n",
       "...        ...         ...  ...  ...  \n",
       "236993     653    (L46)용호점    0  08월  \n",
       "236994    3233    (L46)용호점    0  08월  \n",
       "236995    8433    (L46)용호점    0  08월  \n",
       "236996  135839    (L46)용호점  145  08월  \n",
       "236997   28631    (L46)용호점   29  08월  \n",
       "\n",
       "[236998 rows x 7 columns]"
      ]
     },
     "execution_count": 81,
     "metadata": {},
     "output_type": "execute_result"
    }
   ],
   "source": [
    "list1 = []\n",
    "concat1 = pd.DataFrame()\n",
    "\n",
    "for i in os.listdir():\n",
    "    if '기간별상품' in i:\n",
    "        list1.append(i)\n",
    "\n",
    "for i in list1:\n",
    "    p2 = pd.read_excel(i , skiprows =2)\n",
    "    p3 = p2.iloc[2:]\n",
    "    p4 = p3.melt(id_vars = p3.columns[0:4])\n",
    "    p4.rename(columns = {'variable' : '지점' , 'value' : '판매량'} , inplace = True)\n",
    "    p4['기간'] = i[-7:-5] + '월'\n",
    "    concat1 = pd.concat([concat1 , p4] , ignore_index = True)\n",
    "\n",
    "concat1"
   ]
  },
  {
   "cell_type": "markdown",
   "id": "3e293c1e-ff71-494c-8172-4ed3f153f13e",
   "metadata": {},
   "source": [
    "## 2. '지점' 중 '판매량'의 합이 가장 높은 2개 지점을 확인하시오."
   ]
  },
  {
   "cell_type": "code",
   "execution_count": 99,
   "id": "e1c2567f-835e-43da-8e44-c3a5133d5d1c",
   "metadata": {},
   "outputs": [
    {
     "name": "stdout",
     "output_type": "stream",
     "text": [
      "<class 'pandas.core.frame.DataFrame'>\n",
      "RangeIndex: 236998 entries, 0 to 236997\n",
      "Data columns (total 7 columns):\n",
      " #   Column  Non-Null Count   Dtype  \n",
      "---  ------  --------------   -----  \n",
      " 0   순번      236998 non-null  float64\n",
      " 1   상품코드    236998 non-null  float64\n",
      " 2   상품명     236998 non-null  object \n",
      " 3    합계     236998 non-null  object \n",
      " 4   지점      236998 non-null  object \n",
      " 5   판매량     236998 non-null  object \n",
      " 6   기간      236998 non-null  object \n",
      "dtypes: float64(2), object(5)\n",
      "memory usage: 12.7+ MB\n"
     ]
    }
   ],
   "source": [
    "concat1.info()"
   ]
  },
  {
   "cell_type": "code",
   "execution_count": 105,
   "id": "4b22b35d-26e2-4c52-9751-8c9c265b0808",
   "metadata": {},
   "outputs": [
    {
     "name": "stdout",
     "output_type": "stream",
     "text": [
      "<class 'pandas.core.frame.DataFrame'>\n",
      "RangeIndex: 236998 entries, 0 to 236997\n",
      "Data columns (total 8 columns):\n",
      " #   Column   Non-Null Count   Dtype  \n",
      "---  ------   --------------   -----  \n",
      " 0   순번       236998 non-null  float64\n",
      " 1   상품코드     236998 non-null  float64\n",
      " 2   상품명      236998 non-null  object \n",
      " 3    합계      236998 non-null  object \n",
      " 4   지점       236998 non-null  object \n",
      " 5   판매량      236998 non-null  object \n",
      " 6   기간       236998 non-null  object \n",
      " 7   판매량_int  236998 non-null  int32  \n",
      "dtypes: float64(2), int32(1), object(5)\n",
      "memory usage: 13.6+ MB\n"
     ]
    }
   ],
   "source": [
    "# 판매량 obj를 int로 바꾸기\n",
    "# .astype( int)\n",
    "concat1['판매량_int'] = concat1['판매량'].astype(int)\n",
    "concat1.info()"
   ]
  },
  {
   "cell_type": "code",
   "execution_count": 123,
   "id": "a90941a2-db7f-4b62-b8ea-8c0e28851805",
   "metadata": {},
   "outputs": [
    {
     "data": {
      "text/html": [
       "<div>\n",
       "<style scoped>\n",
       "    .dataframe tbody tr th:only-of-type {\n",
       "        vertical-align: middle;\n",
       "    }\n",
       "\n",
       "    .dataframe tbody tr th {\n",
       "        vertical-align: top;\n",
       "    }\n",
       "\n",
       "    .dataframe thead th {\n",
       "        text-align: right;\n",
       "    }\n",
       "</style>\n",
       "<table border=\"1\" class=\"dataframe\">\n",
       "  <thead>\n",
       "    <tr style=\"text-align: right;\">\n",
       "      <th></th>\n",
       "      <th>지점</th>\n",
       "      <th>판매량_int</th>\n",
       "    </tr>\n",
       "  </thead>\n",
       "  <tbody>\n",
       "    <tr>\n",
       "      <th>477</th>\n",
       "      <td>(610)부천점</td>\n",
       "      <td>67612</td>\n",
       "    </tr>\n",
       "    <tr>\n",
       "      <th>475</th>\n",
       "      <td>(600)안양점</td>\n",
       "      <td>62987</td>\n",
       "    </tr>\n",
       "    <tr>\n",
       "      <th>491</th>\n",
       "      <td>(740)속초점</td>\n",
       "      <td>61327</td>\n",
       "    </tr>\n",
       "    <tr>\n",
       "      <th>470</th>\n",
       "      <td>(550)은평점</td>\n",
       "      <td>61267</td>\n",
       "    </tr>\n",
       "    <tr>\n",
       "      <th>545</th>\n",
       "      <td>(966)성남점</td>\n",
       "      <td>60450</td>\n",
       "    </tr>\n",
       "    <tr>\n",
       "      <th>...</th>\n",
       "      <td>...</td>\n",
       "      <td>...</td>\n",
       "    </tr>\n",
       "    <tr>\n",
       "      <th>304</th>\n",
       "      <td>(4032)NB서울경동시장점</td>\n",
       "      <td>97</td>\n",
       "    </tr>\n",
       "    <tr>\n",
       "      <th>408</th>\n",
       "      <td>(4168)NBR문경중앙시장점</td>\n",
       "      <td>87</td>\n",
       "    </tr>\n",
       "    <tr>\n",
       "      <th>31</th>\n",
       "      <td>(1601)NB당진어시장점</td>\n",
       "      <td>9</td>\n",
       "    </tr>\n",
       "    <tr>\n",
       "      <th>495</th>\n",
       "      <td>(7717)일렉트로마트 김포점</td>\n",
       "      <td>8</td>\n",
       "    </tr>\n",
       "    <tr>\n",
       "      <th>74</th>\n",
       "      <td>(1650)NB안성시장점</td>\n",
       "      <td>5</td>\n",
       "    </tr>\n",
       "  </tbody>\n",
       "</table>\n",
       "<p>656 rows × 2 columns</p>\n",
       "</div>"
      ],
      "text/plain": [
       "                   지점  판매량_int\n",
       "477          (610)부천점    67612\n",
       "475          (600)안양점    62987\n",
       "491          (740)속초점    61327\n",
       "470          (550)은평점    61267\n",
       "545          (966)성남점    60450\n",
       "..                ...      ...\n",
       "304   (4032)NB서울경동시장점       97\n",
       "408  (4168)NBR문경중앙시장점       87\n",
       "31     (1601)NB당진어시장점        9\n",
       "495  (7717)일렉트로마트 김포점        8\n",
       "74      (1650)NB안성시장점        5\n",
       "\n",
       "[656 rows x 2 columns]"
      ]
     },
     "execution_count": 123,
     "metadata": {},
     "output_type": "execute_result"
    }
   ],
   "source": [
    "p1 = concat1.pivot_table(index = '지점' , values = '판매량_int', aggfunc = 'sum').reset_index()\n",
    "p2 = p1.sort_values(by = '판매량_int' , ascending = False)\n",
    "p2"
   ]
  },
  {
   "cell_type": "code",
   "execution_count": null,
   "id": "5d2907bc-7e04-4cba-b4bf-30cf7b2fa7f0",
   "metadata": {},
   "outputs": [],
   "source": []
  },
  {
   "cell_type": "markdown",
   "id": "60eff68d-af44-4bc8-8083-e22c167bffb8",
   "metadata": {},
   "source": [
    "## 3. 앞서 확인한, 2개의 지점의 '판매량'에 대해 각각 정규성 검정을 수행하고, 결론을 작성하시오. "
   ]
  },
  {
   "cell_type": "code",
   "execution_count": 144,
   "id": "6733d652-372c-46de-ac96-b37c2e5cedf1",
   "metadata": {},
   "outputs": [],
   "source": [
    "import scipy.stats as stats\n",
    "\n",
    "cond1 = (concat1['지점'] == p2.iloc[0,0])\n",
    "cond2 = (concat1['지점'] == p2.iloc[1,0])\n",
    "\n",
    "t1 = concat1.loc[cond1]\n",
    "t2 = concat1.loc[cond2]"
   ]
  },
  {
   "cell_type": "code",
   "execution_count": 145,
   "id": "d242b3a4-456b-438f-ba21-ec3fce1bcaf1",
   "metadata": {},
   "outputs": [],
   "source": [
    "# 귀무가설 : 정규분포를 따른다\n",
    "# 대립가설 : 정규분포를 따르지 않는다"
   ]
  },
  {
   "cell_type": "code",
   "execution_count": 150,
   "id": "80564098-8ef9-499f-a0a2-06338f5f29b0",
   "metadata": {},
   "outputs": [
    {
     "data": {
      "text/plain": [
       "NormaltestResult(statistic=392.59371327162387, pvalue=5.6151110292193245e-86)"
      ]
     },
     "execution_count": 150,
     "metadata": {},
     "output_type": "execute_result"
    }
   ],
   "source": [
    "stats.normaltest(t1['판매량_int'])"
   ]
  },
  {
   "cell_type": "code",
   "execution_count": 152,
   "id": "74f75762-38b1-4813-bd7c-1bea95290fd8",
   "metadata": {},
   "outputs": [
    {
     "data": {
      "text/plain": [
       "NormaltestResult(statistic=291.630042482356, pvalue=4.71347161815466e-64)"
      ]
     },
     "execution_count": 152,
     "metadata": {},
     "output_type": "execute_result"
    }
   ],
   "source": [
    "stats.normaltest(t2['판매량_int'])"
   ]
  },
  {
   "cell_type": "code",
   "execution_count": null,
   "id": "252b902e-55ed-4041-bb35-2a0c8be75f5b",
   "metadata": {},
   "outputs": [],
   "source": [
    "# 두 집단 모두 정규분포를 따르지 않음"
   ]
  },
  {
   "cell_type": "markdown",
   "id": "b0cbe966-4d45-442c-912c-b6057fabd49a",
   "metadata": {},
   "source": [
    "## 4. 앞서 확인한, 2개의 지점의 '판매량'의 대표값(중앙값)의 차이를 계산하고자 한다. 가설을 수립하고, Rank Sum Test를 이용해 가설검정을 수행하시오 ."
   ]
  },
  {
   "cell_type": "code",
   "execution_count": 154,
   "id": "68f082ef-8c9f-4b48-9efa-c531c316b292",
   "metadata": {},
   "outputs": [],
   "source": [
    "# 귀무가설 : 두 집단에는 통계적으로 유의미한 차이가 없다\n",
    "# 대립가설 : 두 집단에는 통계적으로 유의미한 차이가 있다"
   ]
  },
  {
   "cell_type": "code",
   "execution_count": 158,
   "id": "9ee78ddc-654c-4ddf-b315-792ce052f039",
   "metadata": {},
   "outputs": [
    {
     "data": {
      "text/plain": [
       "RanksumsResult(statistic=0.23404972309949237, pvalue=0.8149463770358858)"
      ]
     },
     "execution_count": 158,
     "metadata": {},
     "output_type": "execute_result"
    }
   ],
   "source": [
    "stats.ranksums(t1['판매량'] , t2['판매량'])"
   ]
  },
  {
   "cell_type": "code",
   "execution_count": null,
   "id": "37034b7d-8893-42b5-9f82-cc67570d1b17",
   "metadata": {},
   "outputs": [],
   "source": [
    "# 귀무가설 채택 p-value > 0.05\n",
    "# 부천점 안양점에는 유의미한 차이가 없다"
   ]
  },
  {
   "cell_type": "markdown",
   "id": "322c2892-1fbd-4265-883a-f33cb3b51281",
   "metadata": {},
   "source": [
    "## 5. 앞서 확인한, 2개의 지점의 '판매량'의 Histogram을 Plotly라이브러리로 시각화 하시오. "
   ]
  },
  {
   "cell_type": "code",
   "execution_count": 160,
   "id": "23f606ff-0ec0-4d59-a297-71afc3b15667",
   "metadata": {},
   "outputs": [],
   "source": [
    "import plotly.express as px"
   ]
  },
  {
   "cell_type": "code",
   "execution_count": 164,
   "id": "c7208957-24a1-4f07-b581-eb0fd1b85d98",
   "metadata": {},
   "outputs": [
    {
     "data": {
      "application/vnd.plotly.v1+json": {
       "config": {
        "plotlyServerURL": "https://plot.ly"
       },
       "data": [
        {
         "alignmentgroup": "True",
         "bingroup": "x",
         "hovertemplate": "판매량=%{x}<br>count=%{y}<extra></extra>",
         "legendgroup": "",
         "marker": {
          "color": "#636efa",
          "pattern": {
           "shape": ""
          }
         },
         "name": "",
         "offsetgroup": "",
         "orientation": "v",
         "showlegend": false,
         "type": "histogram",
         "x": [
          835,
          0,
          19,
          6,
          0,
          0,
          1722,
          0,
          0,
          0,
          0,
          0,
          0,
          0,
          0,
          533,
          0,
          0,
          0,
          17,
          58,
          0,
          0,
          63,
          22,
          74,
          747,
          0,
          53,
          0,
          47,
          4,
          11,
          0,
          499,
          0,
          0,
          0,
          0,
          163,
          0,
          0,
          215,
          102,
          107,
          67,
          142,
          120,
          0,
          40,
          0,
          46,
          0,
          0,
          7,
          0,
          0,
          176,
          0,
          0,
          0,
          35,
          110,
          57,
          1,
          0,
          30,
          16,
          0,
          0,
          0,
          0,
          0,
          0,
          0,
          0,
          0,
          0,
          0,
          0,
          9,
          6,
          5,
          0,
          876,
          157,
          0,
          0,
          0,
          0,
          979,
          0,
          1405,
          0,
          69,
          2097,
          0,
          323,
          0,
          120,
          1594,
          0,
          3984,
          472,
          172,
          0,
          0,
          0,
          0,
          0,
          0,
          0,
          0,
          2062,
          120,
          1551,
          124,
          80,
          0,
          0,
          124,
          0,
          0,
          0,
          0,
          0,
          0,
          994,
          0,
          0,
          0,
          136,
          47,
          0,
          0,
          59,
          23,
          54,
          452,
          0,
          102,
          0,
          122,
          133,
          0,
          13,
          0,
          569,
          0,
          0,
          0,
          0,
          235,
          0,
          0,
          0,
          129,
          181,
          44,
          112,
          240,
          0,
          20,
          0,
          0,
          17,
          0,
          30,
          0,
          0,
          83,
          0,
          0,
          0,
          0,
          35,
          272,
          110,
          0,
          0,
          0,
          11,
          12,
          0,
          0,
          0,
          0,
          0,
          0,
          0,
          0,
          150,
          0,
          0,
          0,
          0,
          0,
          37,
          15,
          0,
          60,
          669,
          21,
          34,
          14,
          315,
          0,
          21,
          0,
          0,
          0,
          1483,
          0,
          127,
          2393,
          0,
          533,
          0,
          142,
          2231,
          0,
          4832,
          546,
          213,
          0,
          0,
          0,
          0,
          0,
          0,
          9,
          36,
          12,
          0,
          2176,
          164,
          734,
          55,
          97,
          0,
          0,
          2936,
          0,
          0,
          0,
          0,
          0,
          0,
          639,
          0,
          0,
          0,
          0,
          0,
          0,
          61,
          37,
          0,
          0,
          0,
          68,
          27,
          70,
          33,
          0,
          111,
          0,
          185,
          169,
          0,
          9,
          0,
          594,
          0,
          0,
          129,
          0,
          0,
          202,
          120,
          106,
          106,
          196,
          223,
          0,
          0,
          81,
          0,
          263,
          0,
          28,
          33,
          22,
          0,
          17,
          0,
          25,
          0,
          0,
          100,
          0,
          0,
          0,
          14,
          135,
          99,
          0,
          0,
          7,
          25,
          0,
          0,
          0,
          4,
          0,
          0,
          0,
          509,
          0,
          0,
          0,
          0,
          36,
          0,
          0,
          0,
          167,
          0,
          35,
          46,
          9,
          0,
          98,
          29,
          6,
          37,
          43,
          0,
          1662,
          0,
          1521,
          0,
          151,
          2501,
          0,
          543,
          0,
          0,
          1972,
          0,
          4373,
          640,
          187,
          0,
          0,
          0,
          0,
          13,
          120,
          90,
          123,
          0,
          0,
          0,
          1866,
          134
         ],
         "xaxis": "x",
         "yaxis": "y"
        }
       ],
       "layout": {
        "autosize": true,
        "barmode": "relative",
        "legend": {
         "tracegroupgap": 0
        },
        "margin": {
         "t": 60
        },
        "template": {
         "data": {
          "bar": [
           {
            "error_x": {
             "color": "#2a3f5f"
            },
            "error_y": {
             "color": "#2a3f5f"
            },
            "marker": {
             "line": {
              "color": "#E5ECF6",
              "width": 0.5
             },
             "pattern": {
              "fillmode": "overlay",
              "size": 10,
              "solidity": 0.2
             }
            },
            "type": "bar"
           }
          ],
          "barpolar": [
           {
            "marker": {
             "line": {
              "color": "#E5ECF6",
              "width": 0.5
             },
             "pattern": {
              "fillmode": "overlay",
              "size": 10,
              "solidity": 0.2
             }
            },
            "type": "barpolar"
           }
          ],
          "carpet": [
           {
            "aaxis": {
             "endlinecolor": "#2a3f5f",
             "gridcolor": "white",
             "linecolor": "white",
             "minorgridcolor": "white",
             "startlinecolor": "#2a3f5f"
            },
            "baxis": {
             "endlinecolor": "#2a3f5f",
             "gridcolor": "white",
             "linecolor": "white",
             "minorgridcolor": "white",
             "startlinecolor": "#2a3f5f"
            },
            "type": "carpet"
           }
          ],
          "choropleth": [
           {
            "colorbar": {
             "outlinewidth": 0,
             "ticks": ""
            },
            "type": "choropleth"
           }
          ],
          "contour": [
           {
            "colorbar": {
             "outlinewidth": 0,
             "ticks": ""
            },
            "colorscale": [
             [
              0,
              "#0d0887"
             ],
             [
              0.1111111111111111,
              "#46039f"
             ],
             [
              0.2222222222222222,
              "#7201a8"
             ],
             [
              0.3333333333333333,
              "#9c179e"
             ],
             [
              0.4444444444444444,
              "#bd3786"
             ],
             [
              0.5555555555555556,
              "#d8576b"
             ],
             [
              0.6666666666666666,
              "#ed7953"
             ],
             [
              0.7777777777777778,
              "#fb9f3a"
             ],
             [
              0.8888888888888888,
              "#fdca26"
             ],
             [
              1,
              "#f0f921"
             ]
            ],
            "type": "contour"
           }
          ],
          "contourcarpet": [
           {
            "colorbar": {
             "outlinewidth": 0,
             "ticks": ""
            },
            "type": "contourcarpet"
           }
          ],
          "heatmap": [
           {
            "colorbar": {
             "outlinewidth": 0,
             "ticks": ""
            },
            "colorscale": [
             [
              0,
              "#0d0887"
             ],
             [
              0.1111111111111111,
              "#46039f"
             ],
             [
              0.2222222222222222,
              "#7201a8"
             ],
             [
              0.3333333333333333,
              "#9c179e"
             ],
             [
              0.4444444444444444,
              "#bd3786"
             ],
             [
              0.5555555555555556,
              "#d8576b"
             ],
             [
              0.6666666666666666,
              "#ed7953"
             ],
             [
              0.7777777777777778,
              "#fb9f3a"
             ],
             [
              0.8888888888888888,
              "#fdca26"
             ],
             [
              1,
              "#f0f921"
             ]
            ],
            "type": "heatmap"
           }
          ],
          "heatmapgl": [
           {
            "colorbar": {
             "outlinewidth": 0,
             "ticks": ""
            },
            "colorscale": [
             [
              0,
              "#0d0887"
             ],
             [
              0.1111111111111111,
              "#46039f"
             ],
             [
              0.2222222222222222,
              "#7201a8"
             ],
             [
              0.3333333333333333,
              "#9c179e"
             ],
             [
              0.4444444444444444,
              "#bd3786"
             ],
             [
              0.5555555555555556,
              "#d8576b"
             ],
             [
              0.6666666666666666,
              "#ed7953"
             ],
             [
              0.7777777777777778,
              "#fb9f3a"
             ],
             [
              0.8888888888888888,
              "#fdca26"
             ],
             [
              1,
              "#f0f921"
             ]
            ],
            "type": "heatmapgl"
           }
          ],
          "histogram": [
           {
            "marker": {
             "pattern": {
              "fillmode": "overlay",
              "size": 10,
              "solidity": 0.2
             }
            },
            "type": "histogram"
           }
          ],
          "histogram2d": [
           {
            "colorbar": {
             "outlinewidth": 0,
             "ticks": ""
            },
            "colorscale": [
             [
              0,
              "#0d0887"
             ],
             [
              0.1111111111111111,
              "#46039f"
             ],
             [
              0.2222222222222222,
              "#7201a8"
             ],
             [
              0.3333333333333333,
              "#9c179e"
             ],
             [
              0.4444444444444444,
              "#bd3786"
             ],
             [
              0.5555555555555556,
              "#d8576b"
             ],
             [
              0.6666666666666666,
              "#ed7953"
             ],
             [
              0.7777777777777778,
              "#fb9f3a"
             ],
             [
              0.8888888888888888,
              "#fdca26"
             ],
             [
              1,
              "#f0f921"
             ]
            ],
            "type": "histogram2d"
           }
          ],
          "histogram2dcontour": [
           {
            "colorbar": {
             "outlinewidth": 0,
             "ticks": ""
            },
            "colorscale": [
             [
              0,
              "#0d0887"
             ],
             [
              0.1111111111111111,
              "#46039f"
             ],
             [
              0.2222222222222222,
              "#7201a8"
             ],
             [
              0.3333333333333333,
              "#9c179e"
             ],
             [
              0.4444444444444444,
              "#bd3786"
             ],
             [
              0.5555555555555556,
              "#d8576b"
             ],
             [
              0.6666666666666666,
              "#ed7953"
             ],
             [
              0.7777777777777778,
              "#fb9f3a"
             ],
             [
              0.8888888888888888,
              "#fdca26"
             ],
             [
              1,
              "#f0f921"
             ]
            ],
            "type": "histogram2dcontour"
           }
          ],
          "mesh3d": [
           {
            "colorbar": {
             "outlinewidth": 0,
             "ticks": ""
            },
            "type": "mesh3d"
           }
          ],
          "parcoords": [
           {
            "line": {
             "colorbar": {
              "outlinewidth": 0,
              "ticks": ""
             }
            },
            "type": "parcoords"
           }
          ],
          "pie": [
           {
            "automargin": true,
            "type": "pie"
           }
          ],
          "scatter": [
           {
            "fillpattern": {
             "fillmode": "overlay",
             "size": 10,
             "solidity": 0.2
            },
            "type": "scatter"
           }
          ],
          "scatter3d": [
           {
            "line": {
             "colorbar": {
              "outlinewidth": 0,
              "ticks": ""
             }
            },
            "marker": {
             "colorbar": {
              "outlinewidth": 0,
              "ticks": ""
             }
            },
            "type": "scatter3d"
           }
          ],
          "scattercarpet": [
           {
            "marker": {
             "colorbar": {
              "outlinewidth": 0,
              "ticks": ""
             }
            },
            "type": "scattercarpet"
           }
          ],
          "scattergeo": [
           {
            "marker": {
             "colorbar": {
              "outlinewidth": 0,
              "ticks": ""
             }
            },
            "type": "scattergeo"
           }
          ],
          "scattergl": [
           {
            "marker": {
             "colorbar": {
              "outlinewidth": 0,
              "ticks": ""
             }
            },
            "type": "scattergl"
           }
          ],
          "scattermapbox": [
           {
            "marker": {
             "colorbar": {
              "outlinewidth": 0,
              "ticks": ""
             }
            },
            "type": "scattermapbox"
           }
          ],
          "scatterpolar": [
           {
            "marker": {
             "colorbar": {
              "outlinewidth": 0,
              "ticks": ""
             }
            },
            "type": "scatterpolar"
           }
          ],
          "scatterpolargl": [
           {
            "marker": {
             "colorbar": {
              "outlinewidth": 0,
              "ticks": ""
             }
            },
            "type": "scatterpolargl"
           }
          ],
          "scatterternary": [
           {
            "marker": {
             "colorbar": {
              "outlinewidth": 0,
              "ticks": ""
             }
            },
            "type": "scatterternary"
           }
          ],
          "surface": [
           {
            "colorbar": {
             "outlinewidth": 0,
             "ticks": ""
            },
            "colorscale": [
             [
              0,
              "#0d0887"
             ],
             [
              0.1111111111111111,
              "#46039f"
             ],
             [
              0.2222222222222222,
              "#7201a8"
             ],
             [
              0.3333333333333333,
              "#9c179e"
             ],
             [
              0.4444444444444444,
              "#bd3786"
             ],
             [
              0.5555555555555556,
              "#d8576b"
             ],
             [
              0.6666666666666666,
              "#ed7953"
             ],
             [
              0.7777777777777778,
              "#fb9f3a"
             ],
             [
              0.8888888888888888,
              "#fdca26"
             ],
             [
              1,
              "#f0f921"
             ]
            ],
            "type": "surface"
           }
          ],
          "table": [
           {
            "cells": {
             "fill": {
              "color": "#EBF0F8"
             },
             "line": {
              "color": "white"
             }
            },
            "header": {
             "fill": {
              "color": "#C8D4E3"
             },
             "line": {
              "color": "white"
             }
            },
            "type": "table"
           }
          ]
         },
         "layout": {
          "annotationdefaults": {
           "arrowcolor": "#2a3f5f",
           "arrowhead": 0,
           "arrowwidth": 1
          },
          "autotypenumbers": "strict",
          "coloraxis": {
           "colorbar": {
            "outlinewidth": 0,
            "ticks": ""
           }
          },
          "colorscale": {
           "diverging": [
            [
             0,
             "#8e0152"
            ],
            [
             0.1,
             "#c51b7d"
            ],
            [
             0.2,
             "#de77ae"
            ],
            [
             0.3,
             "#f1b6da"
            ],
            [
             0.4,
             "#fde0ef"
            ],
            [
             0.5,
             "#f7f7f7"
            ],
            [
             0.6,
             "#e6f5d0"
            ],
            [
             0.7,
             "#b8e186"
            ],
            [
             0.8,
             "#7fbc41"
            ],
            [
             0.9,
             "#4d9221"
            ],
            [
             1,
             "#276419"
            ]
           ],
           "sequential": [
            [
             0,
             "#0d0887"
            ],
            [
             0.1111111111111111,
             "#46039f"
            ],
            [
             0.2222222222222222,
             "#7201a8"
            ],
            [
             0.3333333333333333,
             "#9c179e"
            ],
            [
             0.4444444444444444,
             "#bd3786"
            ],
            [
             0.5555555555555556,
             "#d8576b"
            ],
            [
             0.6666666666666666,
             "#ed7953"
            ],
            [
             0.7777777777777778,
             "#fb9f3a"
            ],
            [
             0.8888888888888888,
             "#fdca26"
            ],
            [
             1,
             "#f0f921"
            ]
           ],
           "sequentialminus": [
            [
             0,
             "#0d0887"
            ],
            [
             0.1111111111111111,
             "#46039f"
            ],
            [
             0.2222222222222222,
             "#7201a8"
            ],
            [
             0.3333333333333333,
             "#9c179e"
            ],
            [
             0.4444444444444444,
             "#bd3786"
            ],
            [
             0.5555555555555556,
             "#d8576b"
            ],
            [
             0.6666666666666666,
             "#ed7953"
            ],
            [
             0.7777777777777778,
             "#fb9f3a"
            ],
            [
             0.8888888888888888,
             "#fdca26"
            ],
            [
             1,
             "#f0f921"
            ]
           ]
          },
          "colorway": [
           "#636efa",
           "#EF553B",
           "#00cc96",
           "#ab63fa",
           "#FFA15A",
           "#19d3f3",
           "#FF6692",
           "#B6E880",
           "#FF97FF",
           "#FECB52"
          ],
          "font": {
           "color": "#2a3f5f"
          },
          "geo": {
           "bgcolor": "white",
           "lakecolor": "white",
           "landcolor": "#E5ECF6",
           "showlakes": true,
           "showland": true,
           "subunitcolor": "white"
          },
          "hoverlabel": {
           "align": "left"
          },
          "hovermode": "closest",
          "mapbox": {
           "style": "light"
          },
          "paper_bgcolor": "white",
          "plot_bgcolor": "#E5ECF6",
          "polar": {
           "angularaxis": {
            "gridcolor": "white",
            "linecolor": "white",
            "ticks": ""
           },
           "bgcolor": "#E5ECF6",
           "radialaxis": {
            "gridcolor": "white",
            "linecolor": "white",
            "ticks": ""
           }
          },
          "scene": {
           "xaxis": {
            "backgroundcolor": "#E5ECF6",
            "gridcolor": "white",
            "gridwidth": 2,
            "linecolor": "white",
            "showbackground": true,
            "ticks": "",
            "zerolinecolor": "white"
           },
           "yaxis": {
            "backgroundcolor": "#E5ECF6",
            "gridcolor": "white",
            "gridwidth": 2,
            "linecolor": "white",
            "showbackground": true,
            "ticks": "",
            "zerolinecolor": "white"
           },
           "zaxis": {
            "backgroundcolor": "#E5ECF6",
            "gridcolor": "white",
            "gridwidth": 2,
            "linecolor": "white",
            "showbackground": true,
            "ticks": "",
            "zerolinecolor": "white"
           }
          },
          "shapedefaults": {
           "line": {
            "color": "#2a3f5f"
           }
          },
          "ternary": {
           "aaxis": {
            "gridcolor": "white",
            "linecolor": "white",
            "ticks": ""
           },
           "baxis": {
            "gridcolor": "white",
            "linecolor": "white",
            "ticks": ""
           },
           "bgcolor": "#E5ECF6",
           "caxis": {
            "gridcolor": "white",
            "linecolor": "white",
            "ticks": ""
           }
          },
          "title": {
           "x": 0.05
          },
          "xaxis": {
           "automargin": true,
           "gridcolor": "white",
           "linecolor": "white",
           "ticks": "",
           "title": {
            "standoff": 15
           },
           "zerolinecolor": "white",
           "zerolinewidth": 2
          },
          "yaxis": {
           "automargin": true,
           "gridcolor": "white",
           "linecolor": "white",
           "ticks": "",
           "title": {
            "standoff": 15
           },
           "zerolinecolor": "white",
           "zerolinewidth": 2
          }
         }
        },
        "xaxis": {
         "anchor": "y",
         "autorange": true,
         "domain": [
          0,
          1
         ],
         "range": [
          -0.5,
          4999.5
         ],
         "title": {
          "text": "판매량"
         },
         "type": "linear"
        },
        "yaxis": {
         "anchor": "x",
         "autorange": true,
         "domain": [
          0,
          1
         ],
         "range": [
          0,
          334.7368421052632
         ],
         "title": {
          "text": "count"
         }
        }
       }
      },
      "image/png": "[encoded data removed]",
      "text/html": [
       "<div>                            <div id=\"37f759d6-ed6f-4901-aba7-6454a80e975d\" class=\"plotly-graph-div\" style=\"height:525px; width:100%;\"></div>            <script type=\"text/javascript\">                require([\"plotly\"], function(Plotly) {                    window.PLOTLYENV=window.PLOTLYENV || {};                                    if (document.getElementById(\"37f759d6-ed6f-4901-aba7-6454a80e975d\")) {                    Plotly.newPlot(                        \"37f759d6-ed6f-4901-aba7-6454a80e975d\",                        [{\"alignmentgroup\":\"True\",\"bingroup\":\"x\",\"hovertemplate\":\"\\ud310\\ub9e4\\ub7c9=%{x}<br>count=%{y}<extra></extra>\",\"legendgroup\":\"\",\"marker\":{\"color\":\"#636efa\",\"pattern\":{\"shape\":\"\"}},\"name\":\"\",\"offsetgroup\":\"\",\"orientation\":\"v\",\"showlegend\":false,\"x\":[835,0,19,6,0,0,1722,0,0,0,0,0,0,0,0,533,0,0,0,17,58,0,0,63,22,74,747,0,53,0,47,4,11,0,499,0,0,0,0,163,0,0,215,102,107,67,142,120,0,40,0,46,0,0,7,0,0,176,0,0,0,35,110,57,1,0,30,16,0,0,0,0,0,0,0,0,0,0,0,0,9,6,5,0,876,157,0,0,0,0,979,0,1405,0,69,2097,0,323,0,120,1594,0,3984,472,172,0,0,0,0,0,0,0,0,2062,120,1551,124,80,0,0,124,0,0,0,0,0,0,994,0,0,0,136,47,0,0,59,23,54,452,0,102,0,122,133,0,13,0,569,0,0,0,0,235,0,0,0,129,181,44,112,240,0,20,0,0,17,0,30,0,0,83,0,0,0,0,35,272,110,0,0,0,11,12,0,0,0,0,0,0,0,0,150,0,0,0,0,0,37,15,0,60,669,21,34,14,315,0,21,0,0,0,1483,0,127,2393,0,533,0,142,2231,0,4832,546,213,0,0,0,0,0,0,9,36,12,0,2176,164,734,55,97,0,0,2936,0,0,0,0,0,0,639,0,0,0,0,0,0,61,37,0,0,0,68,27,70,33,0,111,0,185,169,0,9,0,594,0,0,129,0,0,202,120,106,106,196,223,0,0,81,0,263,0,28,33,22,0,17,0,25,0,0,100,0,0,0,14,135,99,0,0,7,25,0,0,0,4,0,0,0,509,0,0,0,0,36,0,0,0,167,0,35,46,9,0,98,29,6,37,43,0,1662,0,1521,0,151,2501,0,543,0,0,1972,0,4373,640,187,0,0,0,0,13,120,90,123,0,0,0,1866,134],\"xaxis\":\"x\",\"yaxis\":\"y\",\"type\":\"histogram\"}],                        {\"template\":{\"data\":{\"histogram2dcontour\":[{\"type\":\"histogram2dcontour\",\"colorbar\":{\"outlinewidth\":0,\"ticks\":\"\"},\"colorscale\":[[0.0,\"#0d0887\"],[0.1111111111111111,\"#46039f\"],[0.2222222222222222,\"#7201a8\"],[0.3333333333333333,\"#9c179e\"],[0.4444444444444444,\"#bd3786\"],[0.5555555555555556,\"#d8576b\"],[0.6666666666666666,\"#ed7953\"],[0.7777777777777778,\"#fb9f3a\"],[0.8888888888888888,\"#fdca26\"],[1.0,\"#f0f921\"]]}],\"choropleth\":[{\"type\":\"choropleth\",\"colorbar\":{\"outlinewidth\":0,\"ticks\":\"\"}}],\"histogram2d\":[{\"type\":\"histogram2d\",\"colorbar\":{\"outlinewidth\":0,\"ticks\":\"\"},\"colorscale\":[[0.0,\"#0d0887\"],[0.1111111111111111,\"#46039f\"],[0.2222222222222222,\"#7201a8\"],[0.3333333333333333,\"#9c179e\"],[0.4444444444444444,\"#bd3786\"],[0.5555555555555556,\"#d8576b\"],[0.6666666666666666,\"#ed7953\"],[0.7777777777777778,\"#fb9f3a\"],[0.8888888888888888,\"#fdca26\"],[1.0,\"#f0f921\"]]}],\"heatmap\":[{\"type\":\"heatmap\",\"colorbar\":{\"outlinewidth\":0,\"ticks\":\"\"},\"colorscale\":[[0.0,\"#0d0887\"],[0.1111111111111111,\"#46039f\"],[0.2222222222222222,\"#7201a8\"],[0.3333333333333333,\"#9c179e\"],[0.4444444444444444,\"#bd3786\"],[0.5555555555555556,\"#d8576b\"],[0.6666666666666666,\"#ed7953\"],[0.7777777777777778,\"#fb9f3a\"],[0.8888888888888888,\"#fdca26\"],[1.0,\"#f0f921\"]]}],\"heatmapgl\":[{\"type\":\"heatmapgl\",\"colorbar\":{\"outlinewidth\":0,\"ticks\":\"\"},\"colorscale\":[[0.0,\"#0d0887\"],[0.1111111111111111,\"#46039f\"],[0.2222222222222222,\"#7201a8\"],[0.3333333333333333,\"#9c179e\"],[0.4444444444444444,\"#bd3786\"],[0.5555555555555556,\"#d8576b\"],[0.6666666666666666,\"#ed7953\"],[0.7777777777777778,\"#fb9f3a\"],[0.8888888888888888,\"#fdca26\"],[1.0,\"#f0f921\"]]}],\"contourcarpet\":[{\"type\":\"contourcarpet\",\"colorbar\":{\"outlinewidth\":0,\"ticks\":\"\"}}],\"contour\":[{\"type\":\"contour\",\"colorbar\":{\"outlinewidth\":0,\"ticks\":\"\"},\"colorscale\":[[0.0,\"#0d0887\"],[0.1111111111111111,\"#46039f\"],[0.2222222222222222,\"#7201a8\"],[0.3333333333333333,\"#9c179e\"],[0.4444444444444444,\"#bd3786\"],[0.5555555555555556,\"#d8576b\"],[0.6666666666666666,\"#ed7953\"],[0.7777777777777778,\"#fb9f3a\"],[0.8888888888888888,\"#fdca26\"],[1.0,\"#f0f921\"]]}],\"surface\":[{\"type\":\"surface\",\"colorbar\":{\"outlinewidth\":0,\"ticks\":\"\"},\"colorscale\":[[0.0,\"#0d0887\"],[0.1111111111111111,\"#46039f\"],[0.2222222222222222,\"#7201a8\"],[0.3333333333333333,\"#9c179e\"],[0.4444444444444444,\"#bd3786\"],[0.5555555555555556,\"#d8576b\"],[0.6666666666666666,\"#ed7953\"],[0.7777777777777778,\"#fb9f3a\"],[0.8888888888888888,\"#fdca26\"],[1.0,\"#f0f921\"]]}],\"mesh3d\":[{\"type\":\"mesh3d\",\"colorbar\":{\"outlinewidth\":0,\"ticks\":\"\"}}],\"scatter\":[{\"fillpattern\":{\"fillmode\":\"overlay\",\"size\":10,\"solidity\":0.2},\"type\":\"scatter\"}],\"parcoords\":[{\"type\":\"parcoords\",\"line\":{\"colorbar\":{\"outlinewidth\":0,\"ticks\":\"\"}}}],\"scatterpolargl\":[{\"type\":\"scatterpolargl\",\"marker\":{\"colorbar\":{\"outlinewidth\":0,\"ticks\":\"\"}}}],\"bar\":[{\"error_x\":{\"color\":\"#2a3f5f\"},\"error_y\":{\"color\":\"#2a3f5f\"},\"marker\":{\"line\":{\"color\":\"#E5ECF6\",\"width\":0.5},\"pattern\":{\"fillmode\":\"overlay\",\"size\":10,\"solidity\":0.2}},\"type\":\"bar\"}],\"scattergeo\":[{\"type\":\"scattergeo\",\"marker\":{\"colorbar\":{\"outlinewidth\":0,\"ticks\":\"\"}}}],\"scatterpolar\":[{\"type\":\"scatterpolar\",\"marker\":{\"colorbar\":{\"outlinewidth\":0,\"ticks\":\"\"}}}],\"histogram\":[{\"marker\":{\"pattern\":{\"fillmode\":\"overlay\",\"size\":10,\"solidity\":0.2}},\"type\":\"histogram\"}],\"scattergl\":[{\"type\":\"scattergl\",\"marker\":{\"colorbar\":{\"outlinewidth\":0,\"ticks\":\"\"}}}],\"scatter3d\":[{\"type\":\"scatter3d\",\"line\":{\"colorbar\":{\"outlinewidth\":0,\"ticks\":\"\"}},\"marker\":{\"colorbar\":{\"outlinewidth\":0,\"ticks\":\"\"}}}],\"scattermapbox\":[{\"type\":\"scattermapbox\",\"marker\":{\"colorbar\":{\"outlinewidth\":0,\"ticks\":\"\"}}}],\"scatterternary\":[{\"type\":\"scatterternary\",\"marker\":{\"colorbar\":{\"outlinewidth\":0,\"ticks\":\"\"}}}],\"scattercarpet\":[{\"type\":\"scattercarpet\",\"marker\":{\"colorbar\":{\"outlinewidth\":0,\"ticks\":\"\"}}}],\"carpet\":[{\"aaxis\":{\"endlinecolor\":\"#2a3f5f\",\"gridcolor\":\"white\",\"linecolor\":\"white\",\"minorgridcolor\":\"white\",\"startlinecolor\":\"#2a3f5f\"},\"baxis\":{\"endlinecolor\":\"#2a3f5f\",\"gridcolor\":\"white\",\"linecolor\":\"white\",\"minorgridcolor\":\"white\",\"startlinecolor\":\"#2a3f5f\"},\"type\":\"carpet\"}],\"table\":[{\"cells\":{\"fill\":{\"color\":\"#EBF0F8\"},\"line\":{\"color\":\"white\"}},\"header\":{\"fill\":{\"color\":\"#C8D4E3\"},\"line\":{\"color\":\"white\"}},\"type\":\"table\"}],\"barpolar\":[{\"marker\":{\"line\":{\"color\":\"#E5ECF6\",\"width\":0.5},\"pattern\":{\"fillmode\":\"overlay\",\"size\":10,\"solidity\":0.2}},\"type\":\"barpolar\"}],\"pie\":[{\"automargin\":true,\"type\":\"pie\"}]},\"layout\":{\"autotypenumbers\":\"strict\",\"colorway\":[\"#636efa\",\"#EF553B\",\"#00cc96\",\"#ab63fa\",\"#FFA15A\",\"#19d3f3\",\"#FF6692\",\"#B6E880\",\"#FF97FF\",\"#FECB52\"],\"font\":{\"color\":\"#2a3f5f\"},\"hovermode\":\"closest\",\"hoverlabel\":{\"align\":\"left\"},\"paper_bgcolor\":\"white\",\"plot_bgcolor\":\"#E5ECF6\",\"polar\":{\"bgcolor\":\"#E5ECF6\",\"angularaxis\":{\"gridcolor\":\"white\",\"linecolor\":\"white\",\"ticks\":\"\"},\"radialaxis\":{\"gridcolor\":\"white\",\"linecolor\":\"white\",\"ticks\":\"\"}},\"ternary\":{\"bgcolor\":\"#E5ECF6\",\"aaxis\":{\"gridcolor\":\"white\",\"linecolor\":\"white\",\"ticks\":\"\"},\"baxis\":{\"gridcolor\":\"white\",\"linecolor\":\"white\",\"ticks\":\"\"},\"caxis\":{\"gridcolor\":\"white\",\"linecolor\":\"white\",\"ticks\":\"\"}},\"coloraxis\":{\"colorbar\":{\"outlinewidth\":0,\"ticks\":\"\"}},\"colorscale\":{\"sequential\":[[0.0,\"#0d0887\"],[0.1111111111111111,\"#46039f\"],[0.2222222222222222,\"#7201a8\"],[0.3333333333333333,\"#9c179e\"],[0.4444444444444444,\"#bd3786\"],[0.5555555555555556,\"#d8576b\"],[0.6666666666666666,\"#ed7953\"],[0.7777777777777778,\"#fb9f3a\"],[0.8888888888888888,\"#fdca26\"],[1.0,\"#f0f921\"]],\"sequentialminus\":[[0.0,\"#0d0887\"],[0.1111111111111111,\"#46039f\"],[0.2222222222222222,\"#7201a8\"],[0.3333333333333333,\"#9c179e\"],[0.4444444444444444,\"#bd3786\"],[0.5555555555555556,\"#d8576b\"],[0.6666666666666666,\"#ed7953\"],[0.7777777777777778,\"#fb9f3a\"],[0.8888888888888888,\"#fdca26\"],[1.0,\"#f0f921\"]],\"diverging\":[[0,\"#8e0152\"],[0.1,\"#c51b7d\"],[0.2,\"#de77ae\"],[0.3,\"#f1b6da\"],[0.4,\"#fde0ef\"],[0.5,\"#f7f7f7\"],[0.6,\"#e6f5d0\"],[0.7,\"#b8e186\"],[0.8,\"#7fbc41\"],[0.9,\"#4d9221\"],[1,\"#276419\"]]},\"xaxis\":{\"gridcolor\":\"white\",\"linecolor\":\"white\",\"ticks\":\"\",\"title\":{\"standoff\":15},\"zerolinecolor\":\"white\",\"automargin\":true,\"zerolinewidth\":2},\"yaxis\":{\"gridcolor\":\"white\",\"linecolor\":\"white\",\"ticks\":\"\",\"title\":{\"standoff\":15},\"zerolinecolor\":\"white\",\"automargin\":true,\"zerolinewidth\":2},\"scene\":{\"xaxis\":{\"backgroundcolor\":\"#E5ECF6\",\"gridcolor\":\"white\",\"linecolor\":\"white\",\"showbackground\":true,\"ticks\":\"\",\"zerolinecolor\":\"white\",\"gridwidth\":2},\"yaxis\":{\"backgroundcolor\":\"#E5ECF6\",\"gridcolor\":\"white\",\"linecolor\":\"white\",\"showbackground\":true,\"ticks\":\"\",\"zerolinecolor\":\"white\",\"gridwidth\":2},\"zaxis\":{\"backgroundcolor\":\"#E5ECF6\",\"gridcolor\":\"white\",\"linecolor\":\"white\",\"showbackground\":true,\"ticks\":\"\",\"zerolinecolor\":\"white\",\"gridwidth\":2}},\"shapedefaults\":{\"line\":{\"color\":\"#2a3f5f\"}},\"annotationdefaults\":{\"arrowcolor\":\"#2a3f5f\",\"arrowhead\":0,\"arrowwidth\":1},\"geo\":{\"bgcolor\":\"white\",\"landcolor\":\"#E5ECF6\",\"subunitcolor\":\"white\",\"showland\":true,\"showlakes\":true,\"lakecolor\":\"white\"},\"title\":{\"x\":0.05},\"mapbox\":{\"style\":\"light\"}}},\"xaxis\":{\"anchor\":\"y\",\"domain\":[0.0,1.0],\"title\":{\"text\":\"\\ud310\\ub9e4\\ub7c9\"}},\"yaxis\":{\"anchor\":\"x\",\"domain\":[0.0,1.0],\"title\":{\"text\":\"count\"}},\"legend\":{\"tracegroupgap\":0},\"margin\":{\"t\":60},\"barmode\":\"relative\"},                        {\"responsive\": true}                    ).then(function(){\n",
       "                            \n",
       "var gd = document.getElementById('37f759d6-ed6f-4901-aba7-6454a80e975d');\n",
       "var x = new MutationObserver(function (mutations, observer) {{\n",
       "        var display = window.getComputedStyle(gd).display;\n",
       "        if (!display || display === 'none') {{\n",
       "            console.log([gd, 'removed!']);\n",
       "            Plotly.purge(gd);\n",
       "            observer.disconnect();\n",
       "        }}\n",
       "}});\n",
       "\n",
       "// Listen for the removal of the full notebook cells\n",
       "var notebookContainer = gd.closest('#notebook-container');\n",
       "if (notebookContainer) {{\n",
       "    x.observe(notebookContainer, {childList: true});\n",
       "}}\n",
       "\n",
       "// Listen for the clearing of the current output cell\n",
       "var outputEl = gd.closest('.output');\n",
       "if (outputEl) {{\n",
       "    x.observe(outputEl, {childList: true});\n",
       "}}\n",
       "\n",
       "                        })                };                });            </script>        </div>"
      ]
     },
     "metadata": {},
     "output_type": "display_data"
    }
   ],
   "source": [
    "px.histogram(t1 , x = '판매량')"
   ]
  },
  {
   "cell_type": "code",
   "execution_count": 170,
   "id": "b142e411-0fa6-4717-bb86-3697b96db495",
   "metadata": {},
   "outputs": [
    {
     "data": {
      "application/vnd.plotly.v1+json": {
       "config": {
        "plotlyServerURL": "https://plot.ly"
       },
       "data": [
        {
         "alignmentgroup": "True",
         "bingroup": "x",
         "hovertemplate": "판매량=%{x}<br>count=%{y}<extra></extra>",
         "legendgroup": "",
         "marker": {
          "color": "#636efa",
          "pattern": {
           "shape": ""
          }
         },
         "name": "",
         "offsetgroup": "",
         "orientation": "v",
         "showlegend": false,
         "type": "histogram",
         "x": [
          106,
          0,
          24,
          0,
          0,
          790,
          598,
          0,
          0,
          0,
          0,
          0,
          0,
          0,
          0,
          1124,
          0,
          0,
          0,
          45,
          209,
          0,
          0,
          55,
          18,
          86,
          758,
          0,
          218,
          0,
          70,
          0,
          0,
          0,
          567,
          0,
          0,
          0,
          0,
          134,
          0,
          0,
          282,
          105,
          138,
          320,
          104,
          64,
          0,
          124,
          0,
          158,
          0,
          0,
          48,
          0,
          0,
          266,
          0,
          0,
          0,
          186,
          150,
          0,
          0,
          0,
          0,
          15,
          0,
          0,
          103,
          0,
          0,
          0,
          0,
          0,
          0,
          0,
          0,
          0,
          0,
          0,
          0,
          0,
          702,
          282,
          0,
          0,
          0,
          0,
          2225,
          0,
          1099,
          0,
          120,
          2637,
          0,
          194,
          0,
          91,
          1079,
          0,
          1536,
          1020,
          224,
          0,
          0,
          0,
          0,
          25,
          0,
          0,
          0,
          1489,
          67,
          1710,
          366,
          0,
          0,
          299,
          80,
          0,
          0,
          0,
          0,
          0,
          0,
          2167,
          0,
          0,
          0,
          359,
          91,
          0,
          0,
          95,
          13,
          114,
          161,
          0,
          119,
          0,
          66,
          671,
          0,
          0,
          0,
          497,
          0,
          0,
          0,
          0,
          142,
          0,
          0,
          0,
          112,
          261,
          277,
          177,
          80,
          0,
          45,
          0,
          0,
          107,
          0,
          52,
          0,
          0,
          141,
          0,
          0,
          0,
          0,
          63,
          541,
          0,
          0,
          0,
          0,
          0,
          6,
          0,
          0,
          0,
          65,
          0,
          0,
          0,
          0,
          100,
          67,
          0,
          0,
          0,
          0,
          0,
          0,
          0,
          12,
          548,
          1,
          34,
          5,
          233,
          0,
          19,
          0,
          2105,
          0,
          1371,
          0,
          135,
          2365,
          0,
          234,
          0,
          149,
          1048,
          0,
          1583,
          985,
          260,
          0,
          0,
          0,
          0,
          0,
          0,
          0,
          3,
          3,
          0,
          1824,
          115,
          839,
          42,
          45,
          0,
          0,
          1125,
          0,
          0,
          0,
          0,
          0,
          0,
          1193,
          0,
          0,
          0,
          0,
          0,
          0,
          117,
          112,
          0,
          0,
          0,
          127,
          16,
          171,
          0,
          0,
          283,
          0,
          150,
          239,
          0,
          0,
          0,
          520,
          0,
          0,
          102,
          0,
          0,
          168,
          85,
          135,
          206,
          201,
          62,
          0,
          0,
          49,
          0,
          0,
          0,
          50,
          56,
          133,
          0,
          118,
          0,
          66,
          0,
          0,
          136,
          0,
          0,
          0,
          48,
          205,
          0,
          0,
          0,
          0,
          0,
          0,
          0,
          0,
          43,
          0,
          0,
          0,
          798,
          0,
          0,
          0,
          0,
          0,
          0,
          0,
          0,
          210,
          0,
          42,
          55,
          0,
          0,
          23,
          19,
          7,
          37,
          35,
          0,
          1757,
          0,
          1426,
          0,
          231,
          2633,
          0,
          476,
          0,
          49,
          1114,
          0,
          2343,
          1072,
          202,
          0,
          0,
          0,
          0,
          25,
          149,
          30,
          192,
          11,
          0,
          0,
          1345,
          133
         ],
         "xaxis": "x",
         "yaxis": "y"
        }
       ],
       "layout": {
        "autosize": true,
        "barmode": "relative",
        "legend": {
         "tracegroupgap": 0
        },
        "margin": {
         "t": 60
        },
        "template": {
         "data": {
          "bar": [
           {
            "error_x": {
             "color": "#2a3f5f"
            },
            "error_y": {
             "color": "#2a3f5f"
            },
            "marker": {
             "line": {
              "color": "#E5ECF6",
              "width": 0.5
             },
             "pattern": {
              "fillmode": "overlay",
              "size": 10,
              "solidity": 0.2
             }
            },
            "type": "bar"
           }
          ],
          "barpolar": [
           {
            "marker": {
             "line": {
              "color": "#E5ECF6",
              "width": 0.5
             },
             "pattern": {
              "fillmode": "overlay",
              "size": 10,
              "solidity": 0.2
             }
            },
            "type": "barpolar"
           }
          ],
          "carpet": [
           {
            "aaxis": {
             "endlinecolor": "#2a3f5f",
             "gridcolor": "white",
             "linecolor": "white",
             "minorgridcolor": "white",
             "startlinecolor": "#2a3f5f"
            },
            "baxis": {
             "endlinecolor": "#2a3f5f",
             "gridcolor": "white",
             "linecolor": "white",
             "minorgridcolor": "white",
             "startlinecolor": "#2a3f5f"
            },
            "type": "carpet"
           }
          ],
          "choropleth": [
           {
            "colorbar": {
             "outlinewidth": 0,
             "ticks": ""
            },
            "type": "choropleth"
           }
          ],
          "contour": [
           {
            "colorbar": {
             "outlinewidth": 0,
             "ticks": ""
            },
            "colorscale": [
             [
              0,
              "#0d0887"
             ],
             [
              0.1111111111111111,
              "#46039f"
             ],
             [
              0.2222222222222222,
              "#7201a8"
             ],
             [
              0.3333333333333333,
              "#9c179e"
             ],
             [
              0.4444444444444444,
              "#bd3786"
             ],
             [
              0.5555555555555556,
              "#d8576b"
             ],
             [
              0.6666666666666666,
              "#ed7953"
             ],
             [
              0.7777777777777778,
              "#fb9f3a"
             ],
             [
              0.8888888888888888,
              "#fdca26"
             ],
             [
              1,
              "#f0f921"
             ]
            ],
            "type": "contour"
           }
          ],
          "contourcarpet": [
           {
            "colorbar": {
             "outlinewidth": 0,
             "ticks": ""
            },
            "type": "contourcarpet"
           }
          ],
          "heatmap": [
           {
            "colorbar": {
             "outlinewidth": 0,
             "ticks": ""
            },
            "colorscale": [
             [
              0,
              "#0d0887"
             ],
             [
              0.1111111111111111,
              "#46039f"
             ],
             [
              0.2222222222222222,
              "#7201a8"
             ],
             [
              0.3333333333333333,
              "#9c179e"
             ],
             [
              0.4444444444444444,
              "#bd3786"
             ],
             [
              0.5555555555555556,
              "#d8576b"
             ],
             [
              0.6666666666666666,
              "#ed7953"
             ],
             [
              0.7777777777777778,
              "#fb9f3a"
             ],
             [
              0.8888888888888888,
              "#fdca26"
             ],
             [
              1,
              "#f0f921"
             ]
            ],
            "type": "heatmap"
           }
          ],
          "heatmapgl": [
           {
            "colorbar": {
             "outlinewidth": 0,
             "ticks": ""
            },
            "colorscale": [
             [
              0,
              "#0d0887"
             ],
             [
              0.1111111111111111,
              "#46039f"
             ],
             [
              0.2222222222222222,
              "#7201a8"
             ],
             [
              0.3333333333333333,
              "#9c179e"
             ],
             [
              0.4444444444444444,
              "#bd3786"
             ],
             [
              0.5555555555555556,
              "#d8576b"
             ],
             [
              0.6666666666666666,
              "#ed7953"
             ],
             [
              0.7777777777777778,
              "#fb9f3a"
             ],
             [
              0.8888888888888888,
              "#fdca26"
             ],
             [
              1,
              "#f0f921"
             ]
            ],
            "type": "heatmapgl"
           }
          ],
          "histogram": [
           {
            "marker": {
             "pattern": {
              "fillmode": "overlay",
              "size": 10,
              "solidity": 0.2
             }
            },
            "type": "histogram"
           }
          ],
          "histogram2d": [
           {
            "colorbar": {
             "outlinewidth": 0,
             "ticks": ""
            },
            "colorscale": [
             [
              0,
              "#0d0887"
             ],
             [
              0.1111111111111111,
              "#46039f"
             ],
             [
              0.2222222222222222,
              "#7201a8"
             ],
             [
              0.3333333333333333,
              "#9c179e"
             ],
             [
              0.4444444444444444,
              "#bd3786"
             ],
             [
              0.5555555555555556,
              "#d8576b"
             ],
             [
              0.6666666666666666,
              "#ed7953"
             ],
             [
              0.7777777777777778,
              "#fb9f3a"
             ],
             [
              0.8888888888888888,
              "#fdca26"
             ],
             [
              1,
              "#f0f921"
             ]
            ],
            "type": "histogram2d"
           }
          ],
          "histogram2dcontour": [
           {
            "colorbar": {
             "outlinewidth": 0,
             "ticks": ""
            },
            "colorscale": [
             [
              0,
              "#0d0887"
             ],
             [
              0.1111111111111111,
              "#46039f"
             ],
             [
              0.2222222222222222,
              "#7201a8"
             ],
             [
              0.3333333333333333,
              "#9c179e"
             ],
             [
              0.4444444444444444,
              "#bd3786"
             ],
             [
              0.5555555555555556,
              "#d8576b"
             ],
             [
              0.6666666666666666,
              "#ed7953"
             ],
             [
              0.7777777777777778,
              "#fb9f3a"
             ],
             [
              0.8888888888888888,
              "#fdca26"
             ],
             [
              1,
              "#f0f921"
             ]
            ],
            "type": "histogram2dcontour"
           }
          ],
          "mesh3d": [
           {
            "colorbar": {
             "outlinewidth": 0,
             "ticks": ""
            },
            "type": "mesh3d"
           }
          ],
          "parcoords": [
           {
            "line": {
             "colorbar": {
              "outlinewidth": 0,
              "ticks": ""
             }
            },
            "type": "parcoords"
           }
          ],
          "pie": [
           {
            "automargin": true,
            "type": "pie"
           }
          ],
          "scatter": [
           {
            "fillpattern": {
             "fillmode": "overlay",
             "size": 10,
             "solidity": 0.2
            },
            "type": "scatter"
           }
          ],
          "scatter3d": [
           {
            "line": {
             "colorbar": {
              "outlinewidth": 0,
              "ticks": ""
             }
            },
            "marker": {
             "colorbar": {
              "outlinewidth": 0,
              "ticks": ""
             }
            },
            "type": "scatter3d"
           }
          ],
          "scattercarpet": [
           {
            "marker": {
             "colorbar": {
              "outlinewidth": 0,
              "ticks": ""
             }
            },
            "type": "scattercarpet"
           }
          ],
          "scattergeo": [
           {
            "marker": {
             "colorbar": {
              "outlinewidth": 0,
              "ticks": ""
             }
            },
            "type": "scattergeo"
           }
          ],
          "scattergl": [
           {
            "marker": {
             "colorbar": {
              "outlinewidth": 0,
              "ticks": ""
             }
            },
            "type": "scattergl"
           }
          ],
          "scattermapbox": [
           {
            "marker": {
             "colorbar": {
              "outlinewidth": 0,
              "ticks": ""
             }
            },
            "type": "scattermapbox"
           }
          ],
          "scatterpolar": [
           {
            "marker": {
             "colorbar": {
              "outlinewidth": 0,
              "ticks": ""
             }
            },
            "type": "scatterpolar"
           }
          ],
          "scatterpolargl": [
           {
            "marker": {
             "colorbar": {
              "outlinewidth": 0,
              "ticks": ""
             }
            },
            "type": "scatterpolargl"
           }
          ],
          "scatterternary": [
           {
            "marker": {
             "colorbar": {
              "outlinewidth": 0,
              "ticks": ""
             }
            },
            "type": "scatterternary"
           }
          ],
          "surface": [
           {
            "colorbar": {
             "outlinewidth": 0,
             "ticks": ""
            },
            "colorscale": [
             [
              0,
              "#0d0887"
             ],
             [
              0.1111111111111111,
              "#46039f"
             ],
             [
              0.2222222222222222,
              "#7201a8"
             ],
             [
              0.3333333333333333,
              "#9c179e"
             ],
             [
              0.4444444444444444,
              "#bd3786"
             ],
             [
              0.5555555555555556,
              "#d8576b"
             ],
             [
              0.6666666666666666,
              "#ed7953"
             ],
             [
              0.7777777777777778,
              "#fb9f3a"
             ],
             [
              0.8888888888888888,
              "#fdca26"
             ],
             [
              1,
              "#f0f921"
             ]
            ],
            "type": "surface"
           }
          ],
          "table": [
           {
            "cells": {
             "fill": {
              "color": "#EBF0F8"
             },
             "line": {
              "color": "white"
             }
            },
            "header": {
             "fill": {
              "color": "#C8D4E3"
             },
             "line": {
              "color": "white"
             }
            },
            "type": "table"
           }
          ]
         },
         "layout": {
          "annotationdefaults": {
           "arrowcolor": "#2a3f5f",
           "arrowhead": 0,
           "arrowwidth": 1
          },
          "autotypenumbers": "strict",
          "coloraxis": {
           "colorbar": {
            "outlinewidth": 0,
            "ticks": ""
           }
          },
          "colorscale": {
           "diverging": [
            [
             0,
             "#8e0152"
            ],
            [
             0.1,
             "#c51b7d"
            ],
            [
             0.2,
             "#de77ae"
            ],
            [
             0.3,
             "#f1b6da"
            ],
            [
             0.4,
             "#fde0ef"
            ],
            [
             0.5,
             "#f7f7f7"
            ],
            [
             0.6,
             "#e6f5d0"
            ],
            [
             0.7,
             "#b8e186"
            ],
            [
             0.8,
             "#7fbc41"
            ],
            [
             0.9,
             "#4d9221"
            ],
            [
             1,
             "#276419"
            ]
           ],
           "sequential": [
            [
             0,
             "#0d0887"
            ],
            [
             0.1111111111111111,
             "#46039f"
            ],
            [
             0.2222222222222222,
             "#7201a8"
            ],
            [
             0.3333333333333333,
             "#9c179e"
            ],
            [
             0.4444444444444444,
             "#bd3786"
            ],
            [
             0.5555555555555556,
             "#d8576b"
            ],
            [
             0.6666666666666666,
             "#ed7953"
            ],
            [
             0.7777777777777778,
             "#fb9f3a"
            ],
            [
             0.8888888888888888,
             "#fdca26"
            ],
            [
             1,
             "#f0f921"
            ]
           ],
           "sequentialminus": [
            [
             0,
             "#0d0887"
            ],
            [
             0.1111111111111111,
             "#46039f"
            ],
            [
             0.2222222222222222,
             "#7201a8"
            ],
            [
             0.3333333333333333,
             "#9c179e"
            ],
            [
             0.4444444444444444,
             "#bd3786"
            ],
            [
             0.5555555555555556,
             "#d8576b"
            ],
            [
             0.6666666666666666,
             "#ed7953"
            ],
            [
             0.7777777777777778,
             "#fb9f3a"
            ],
            [
             0.8888888888888888,
             "#fdca26"
            ],
            [
             1,
             "#f0f921"
            ]
           ]
          },
          "colorway": [
           "#636efa",
           "#EF553B",
           "#00cc96",
           "#ab63fa",
           "#FFA15A",
           "#19d3f3",
           "#FF6692",
           "#B6E880",
           "#FF97FF",
           "#FECB52"
          ],
          "font": {
           "color": "#2a3f5f"
          },
          "geo": {
           "bgcolor": "white",
           "lakecolor": "white",
           "landcolor": "#E5ECF6",
           "showlakes": true,
           "showland": true,
           "subunitcolor": "white"
          },
          "hoverlabel": {
           "align": "left"
          },
          "hovermode": "closest",
          "mapbox": {
           "style": "light"
          },
          "paper_bgcolor": "white",
          "plot_bgcolor": "#E5ECF6",
          "polar": {
           "angularaxis": {
            "gridcolor": "white",
            "linecolor": "white",
            "ticks": ""
           },
           "bgcolor": "#E5ECF6",
           "radialaxis": {
            "gridcolor": "white",
            "linecolor": "white",
            "ticks": ""
           }
          },
          "scene": {
           "xaxis": {
            "backgroundcolor": "#E5ECF6",
            "gridcolor": "white",
            "gridwidth": 2,
            "linecolor": "white",
            "showbackground": true,
            "ticks": "",
            "zerolinecolor": "white"
           },
           "yaxis": {
            "backgroundcolor": "#E5ECF6",
            "gridcolor": "white",
            "gridwidth": 2,
            "linecolor": "white",
            "showbackground": true,
            "ticks": "",
            "zerolinecolor": "white"
           },
           "zaxis": {
            "backgroundcolor": "#E5ECF6",
            "gridcolor": "white",
            "gridwidth": 2,
            "linecolor": "white",
            "showbackground": true,
            "ticks": "",
            "zerolinecolor": "white"
           }
          },
          "shapedefaults": {
           "line": {
            "color": "#2a3f5f"
           }
          },
          "ternary": {
           "aaxis": {
            "gridcolor": "white",
            "linecolor": "white",
            "ticks": ""
           },
           "baxis": {
            "gridcolor": "white",
            "linecolor": "white",
            "ticks": ""
           },
           "bgcolor": "#E5ECF6",
           "caxis": {
            "gridcolor": "white",
            "linecolor": "white",
            "ticks": ""
           }
          },
          "title": {
           "x": 0.05
          },
          "xaxis": {
           "automargin": true,
           "gridcolor": "white",
           "linecolor": "white",
           "ticks": "",
           "title": {
            "standoff": 15
           },
           "zerolinecolor": "white",
           "zerolinewidth": 2
          },
          "yaxis": {
           "automargin": true,
           "gridcolor": "white",
           "linecolor": "white",
           "ticks": "",
           "title": {
            "standoff": 15
           },
           "zerolinecolor": "white",
           "zerolinewidth": 2
          }
         }
        },
        "xaxis": {
         "anchor": "y",
         "autorange": true,
         "domain": [
          0,
          1
         ],
         "range": [
          -0.5,
          2699.5
         ],
         "title": {
          "text": "판매량"
         },
         "type": "linear"
        },
        "yaxis": {
         "anchor": "x",
         "autorange": true,
         "domain": [
          0,
          1
         ],
         "range": [
          0,
          280
         ],
         "title": {
          "text": "count"
         }
        }
       }
      },
      "image/png": "[encoded data removed]",
      "text/html": [
       "<div>                            <div id=\"82d7615b-437b-4009-9950-b0b0c971dbdf\" class=\"plotly-graph-div\" style=\"height:525px; width:100%;\"></div>            <script type=\"text/javascript\">                require([\"plotly\"], function(Plotly) {                    window.PLOTLYENV=window.PLOTLYENV || {};                                    if (document.getElementById(\"82d7615b-437b-4009-9950-b0b0c971dbdf\")) {                    Plotly.newPlot(                        \"82d7615b-437b-4009-9950-b0b0c971dbdf\",                        [{\"alignmentgroup\":\"True\",\"bingroup\":\"x\",\"hovertemplate\":\"\\ud310\\ub9e4\\ub7c9=%{x}<br>count=%{y}<extra></extra>\",\"legendgroup\":\"\",\"marker\":{\"color\":\"#636efa\",\"pattern\":{\"shape\":\"\"}},\"name\":\"\",\"offsetgroup\":\"\",\"orientation\":\"v\",\"showlegend\":false,\"x\":[106,0,24,0,0,790,598,0,0,0,0,0,0,0,0,1124,0,0,0,45,209,0,0,55,18,86,758,0,218,0,70,0,0,0,567,0,0,0,0,134,0,0,282,105,138,320,104,64,0,124,0,158,0,0,48,0,0,266,0,0,0,186,150,0,0,0,0,15,0,0,103,0,0,0,0,0,0,0,0,0,0,0,0,0,702,282,0,0,0,0,2225,0,1099,0,120,2637,0,194,0,91,1079,0,1536,1020,224,0,0,0,0,25,0,0,0,1489,67,1710,366,0,0,299,80,0,0,0,0,0,0,2167,0,0,0,359,91,0,0,95,13,114,161,0,119,0,66,671,0,0,0,497,0,0,0,0,142,0,0,0,112,261,277,177,80,0,45,0,0,107,0,52,0,0,141,0,0,0,0,63,541,0,0,0,0,0,6,0,0,0,65,0,0,0,0,100,67,0,0,0,0,0,0,0,12,548,1,34,5,233,0,19,0,2105,0,1371,0,135,2365,0,234,0,149,1048,0,1583,985,260,0,0,0,0,0,0,0,3,3,0,1824,115,839,42,45,0,0,1125,0,0,0,0,0,0,1193,0,0,0,0,0,0,117,112,0,0,0,127,16,171,0,0,283,0,150,239,0,0,0,520,0,0,102,0,0,168,85,135,206,201,62,0,0,49,0,0,0,50,56,133,0,118,0,66,0,0,136,0,0,0,48,205,0,0,0,0,0,0,0,0,43,0,0,0,798,0,0,0,0,0,0,0,0,210,0,42,55,0,0,23,19,7,37,35,0,1757,0,1426,0,231,2633,0,476,0,49,1114,0,2343,1072,202,0,0,0,0,25,149,30,192,11,0,0,1345,133],\"xaxis\":\"x\",\"yaxis\":\"y\",\"type\":\"histogram\"}],                        {\"template\":{\"data\":{\"histogram2dcontour\":[{\"type\":\"histogram2dcontour\",\"colorbar\":{\"outlinewidth\":0,\"ticks\":\"\"},\"colorscale\":[[0.0,\"#0d0887\"],[0.1111111111111111,\"#46039f\"],[0.2222222222222222,\"#7201a8\"],[0.3333333333333333,\"#9c179e\"],[0.4444444444444444,\"#bd3786\"],[0.5555555555555556,\"#d8576b\"],[0.6666666666666666,\"#ed7953\"],[0.7777777777777778,\"#fb9f3a\"],[0.8888888888888888,\"#fdca26\"],[1.0,\"#f0f921\"]]}],\"choropleth\":[{\"type\":\"choropleth\",\"colorbar\":{\"outlinewidth\":0,\"ticks\":\"\"}}],\"histogram2d\":[{\"type\":\"histogram2d\",\"colorbar\":{\"outlinewidth\":0,\"ticks\":\"\"},\"colorscale\":[[0.0,\"#0d0887\"],[0.1111111111111111,\"#46039f\"],[0.2222222222222222,\"#7201a8\"],[0.3333333333333333,\"#9c179e\"],[0.4444444444444444,\"#bd3786\"],[0.5555555555555556,\"#d8576b\"],[0.6666666666666666,\"#ed7953\"],[0.7777777777777778,\"#fb9f3a\"],[0.8888888888888888,\"#fdca26\"],[1.0,\"#f0f921\"]]}],\"heatmap\":[{\"type\":\"heatmap\",\"colorbar\":{\"outlinewidth\":0,\"ticks\":\"\"},\"colorscale\":[[0.0,\"#0d0887\"],[0.1111111111111111,\"#46039f\"],[0.2222222222222222,\"#7201a8\"],[0.3333333333333333,\"#9c179e\"],[0.4444444444444444,\"#bd3786\"],[0.5555555555555556,\"#d8576b\"],[0.6666666666666666,\"#ed7953\"],[0.7777777777777778,\"#fb9f3a\"],[0.8888888888888888,\"#fdca26\"],[1.0,\"#f0f921\"]]}],\"heatmapgl\":[{\"type\":\"heatmapgl\",\"colorbar\":{\"outlinewidth\":0,\"ticks\":\"\"},\"colorscale\":[[0.0,\"#0d0887\"],[0.1111111111111111,\"#46039f\"],[0.2222222222222222,\"#7201a8\"],[0.3333333333333333,\"#9c179e\"],[0.4444444444444444,\"#bd3786\"],[0.5555555555555556,\"#d8576b\"],[0.6666666666666666,\"#ed7953\"],[0.7777777777777778,\"#fb9f3a\"],[0.8888888888888888,\"#fdca26\"],[1.0,\"#f0f921\"]]}],\"contourcarpet\":[{\"type\":\"contourcarpet\",\"colorbar\":{\"outlinewidth\":0,\"ticks\":\"\"}}],\"contour\":[{\"type\":\"contour\",\"colorbar\":{\"outlinewidth\":0,\"ticks\":\"\"},\"colorscale\":[[0.0,\"#0d0887\"],[0.1111111111111111,\"#46039f\"],[0.2222222222222222,\"#7201a8\"],[0.3333333333333333,\"#9c179e\"],[0.4444444444444444,\"#bd3786\"],[0.5555555555555556,\"#d8576b\"],[0.6666666666666666,\"#ed7953\"],[0.7777777777777778,\"#fb9f3a\"],[0.8888888888888888,\"#fdca26\"],[1.0,\"#f0f921\"]]}],\"surface\":[{\"type\":\"surface\",\"colorbar\":{\"outlinewidth\":0,\"ticks\":\"\"},\"colorscale\":[[0.0,\"#0d0887\"],[0.1111111111111111,\"#46039f\"],[0.2222222222222222,\"#7201a8\"],[0.3333333333333333,\"#9c179e\"],[0.4444444444444444,\"#bd3786\"],[0.5555555555555556,\"#d8576b\"],[0.6666666666666666,\"#ed7953\"],[0.7777777777777778,\"#fb9f3a\"],[0.8888888888888888,\"#fdca26\"],[1.0,\"#f0f921\"]]}],\"mesh3d\":[{\"type\":\"mesh3d\",\"colorbar\":{\"outlinewidth\":0,\"ticks\":\"\"}}],\"scatter\":[{\"fillpattern\":{\"fillmode\":\"overlay\",\"size\":10,\"solidity\":0.2},\"type\":\"scatter\"}],\"parcoords\":[{\"type\":\"parcoords\",\"line\":{\"colorbar\":{\"outlinewidth\":0,\"ticks\":\"\"}}}],\"scatterpolargl\":[{\"type\":\"scatterpolargl\",\"marker\":{\"colorbar\":{\"outlinewidth\":0,\"ticks\":\"\"}}}],\"bar\":[{\"error_x\":{\"color\":\"#2a3f5f\"},\"error_y\":{\"color\":\"#2a3f5f\"},\"marker\":{\"line\":{\"color\":\"#E5ECF6\",\"width\":0.5},\"pattern\":{\"fillmode\":\"overlay\",\"size\":10,\"solidity\":0.2}},\"type\":\"bar\"}],\"scattergeo\":[{\"type\":\"scattergeo\",\"marker\":{\"colorbar\":{\"outlinewidth\":0,\"ticks\":\"\"}}}],\"scatterpolar\":[{\"type\":\"scatterpolar\",\"marker\":{\"colorbar\":{\"outlinewidth\":0,\"ticks\":\"\"}}}],\"histogram\":[{\"marker\":{\"pattern\":{\"fillmode\":\"overlay\",\"size\":10,\"solidity\":0.2}},\"type\":\"histogram\"}],\"scattergl\":[{\"type\":\"scattergl\",\"marker\":{\"colorbar\":{\"outlinewidth\":0,\"ticks\":\"\"}}}],\"scatter3d\":[{\"type\":\"scatter3d\",\"line\":{\"colorbar\":{\"outlinewidth\":0,\"ticks\":\"\"}},\"marker\":{\"colorbar\":{\"outlinewidth\":0,\"ticks\":\"\"}}}],\"scattermapbox\":[{\"type\":\"scattermapbox\",\"marker\":{\"colorbar\":{\"outlinewidth\":0,\"ticks\":\"\"}}}],\"scatterternary\":[{\"type\":\"scatterternary\",\"marker\":{\"colorbar\":{\"outlinewidth\":0,\"ticks\":\"\"}}}],\"scattercarpet\":[{\"type\":\"scattercarpet\",\"marker\":{\"colorbar\":{\"outlinewidth\":0,\"ticks\":\"\"}}}],\"carpet\":[{\"aaxis\":{\"endlinecolor\":\"#2a3f5f\",\"gridcolor\":\"white\",\"linecolor\":\"white\",\"minorgridcolor\":\"white\",\"startlinecolor\":\"#2a3f5f\"},\"baxis\":{\"endlinecolor\":\"#2a3f5f\",\"gridcolor\":\"white\",\"linecolor\":\"white\",\"minorgridcolor\":\"white\",\"startlinecolor\":\"#2a3f5f\"},\"type\":\"carpet\"}],\"table\":[{\"cells\":{\"fill\":{\"color\":\"#EBF0F8\"},\"line\":{\"color\":\"white\"}},\"header\":{\"fill\":{\"color\":\"#C8D4E3\"},\"line\":{\"color\":\"white\"}},\"type\":\"table\"}],\"barpolar\":[{\"marker\":{\"line\":{\"color\":\"#E5ECF6\",\"width\":0.5},\"pattern\":{\"fillmode\":\"overlay\",\"size\":10,\"solidity\":0.2}},\"type\":\"barpolar\"}],\"pie\":[{\"automargin\":true,\"type\":\"pie\"}]},\"layout\":{\"autotypenumbers\":\"strict\",\"colorway\":[\"#636efa\",\"#EF553B\",\"#00cc96\",\"#ab63fa\",\"#FFA15A\",\"#19d3f3\",\"#FF6692\",\"#B6E880\",\"#FF97FF\",\"#FECB52\"],\"font\":{\"color\":\"#2a3f5f\"},\"hovermode\":\"closest\",\"hoverlabel\":{\"align\":\"left\"},\"paper_bgcolor\":\"white\",\"plot_bgcolor\":\"#E5ECF6\",\"polar\":{\"bgcolor\":\"#E5ECF6\",\"angularaxis\":{\"gridcolor\":\"white\",\"linecolor\":\"white\",\"ticks\":\"\"},\"radialaxis\":{\"gridcolor\":\"white\",\"linecolor\":\"white\",\"ticks\":\"\"}},\"ternary\":{\"bgcolor\":\"#E5ECF6\",\"aaxis\":{\"gridcolor\":\"white\",\"linecolor\":\"white\",\"ticks\":\"\"},\"baxis\":{\"gridcolor\":\"white\",\"linecolor\":\"white\",\"ticks\":\"\"},\"caxis\":{\"gridcolor\":\"white\",\"linecolor\":\"white\",\"ticks\":\"\"}},\"coloraxis\":{\"colorbar\":{\"outlinewidth\":0,\"ticks\":\"\"}},\"colorscale\":{\"sequential\":[[0.0,\"#0d0887\"],[0.1111111111111111,\"#46039f\"],[0.2222222222222222,\"#7201a8\"],[0.3333333333333333,\"#9c179e\"],[0.4444444444444444,\"#bd3786\"],[0.5555555555555556,\"#d8576b\"],[0.6666666666666666,\"#ed7953\"],[0.7777777777777778,\"#fb9f3a\"],[0.8888888888888888,\"#fdca26\"],[1.0,\"#f0f921\"]],\"sequentialminus\":[[0.0,\"#0d0887\"],[0.1111111111111111,\"#46039f\"],[0.2222222222222222,\"#7201a8\"],[0.3333333333333333,\"#9c179e\"],[0.4444444444444444,\"#bd3786\"],[0.5555555555555556,\"#d8576b\"],[0.6666666666666666,\"#ed7953\"],[0.7777777777777778,\"#fb9f3a\"],[0.8888888888888888,\"#fdca26\"],[1.0,\"#f0f921\"]],\"diverging\":[[0,\"#8e0152\"],[0.1,\"#c51b7d\"],[0.2,\"#de77ae\"],[0.3,\"#f1b6da\"],[0.4,\"#fde0ef\"],[0.5,\"#f7f7f7\"],[0.6,\"#e6f5d0\"],[0.7,\"#b8e186\"],[0.8,\"#7fbc41\"],[0.9,\"#4d9221\"],[1,\"#276419\"]]},\"xaxis\":{\"gridcolor\":\"white\",\"linecolor\":\"white\",\"ticks\":\"\",\"title\":{\"standoff\":15},\"zerolinecolor\":\"white\",\"automargin\":true,\"zerolinewidth\":2},\"yaxis\":{\"gridcolor\":\"white\",\"linecolor\":\"white\",\"ticks\":\"\",\"title\":{\"standoff\":15},\"zerolinecolor\":\"white\",\"automargin\":true,\"zerolinewidth\":2},\"scene\":{\"xaxis\":{\"backgroundcolor\":\"#E5ECF6\",\"gridcolor\":\"white\",\"linecolor\":\"white\",\"showbackground\":true,\"ticks\":\"\",\"zerolinecolor\":\"white\",\"gridwidth\":2},\"yaxis\":{\"backgroundcolor\":\"#E5ECF6\",\"gridcolor\":\"white\",\"linecolor\":\"white\",\"showbackground\":true,\"ticks\":\"\",\"zerolinecolor\":\"white\",\"gridwidth\":2},\"zaxis\":{\"backgroundcolor\":\"#E5ECF6\",\"gridcolor\":\"white\",\"linecolor\":\"white\",\"showbackground\":true,\"ticks\":\"\",\"zerolinecolor\":\"white\",\"gridwidth\":2}},\"shapedefaults\":{\"line\":{\"color\":\"#2a3f5f\"}},\"annotationdefaults\":{\"arrowcolor\":\"#2a3f5f\",\"arrowhead\":0,\"arrowwidth\":1},\"geo\":{\"bgcolor\":\"white\",\"landcolor\":\"#E5ECF6\",\"subunitcolor\":\"white\",\"showland\":true,\"showlakes\":true,\"lakecolor\":\"white\"},\"title\":{\"x\":0.05},\"mapbox\":{\"style\":\"light\"}}},\"xaxis\":{\"anchor\":\"y\",\"domain\":[0.0,1.0],\"title\":{\"text\":\"\\ud310\\ub9e4\\ub7c9\"}},\"yaxis\":{\"anchor\":\"x\",\"domain\":[0.0,1.0],\"title\":{\"text\":\"count\"}},\"legend\":{\"tracegroupgap\":0},\"margin\":{\"t\":60},\"barmode\":\"relative\"},                        {\"responsive\": true}                    ).then(function(){\n",
       "                            \n",
       "var gd = document.getElementById('82d7615b-437b-4009-9950-b0b0c971dbdf');\n",
       "var x = new MutationObserver(function (mutations, observer) {{\n",
       "        var display = window.getComputedStyle(gd).display;\n",
       "        if (!display || display === 'none') {{\n",
       "            console.log([gd, 'removed!']);\n",
       "            Plotly.purge(gd);\n",
       "            observer.disconnect();\n",
       "        }}\n",
       "}});\n",
       "\n",
       "// Listen for the removal of the full notebook cells\n",
       "var notebookContainer = gd.closest('#notebook-container');\n",
       "if (notebookContainer) {{\n",
       "    x.observe(notebookContainer, {childList: true});\n",
       "}}\n",
       "\n",
       "// Listen for the clearing of the current output cell\n",
       "var outputEl = gd.closest('.output');\n",
       "if (outputEl) {{\n",
       "    x.observe(outputEl, {childList: true});\n",
       "}}\n",
       "\n",
       "                        })                };                });            </script>        </div>"
      ]
     },
     "metadata": {},
     "output_type": "display_data"
    }
   ],
   "source": [
    "px.histogram(t2, x = '판매량')"
   ]
  },
  {
   "cell_type": "code",
   "execution_count": 174,
   "id": "13a3a1ca-7b3a-49bd-b2c7-c085efe07b61",
   "metadata": {},
   "outputs": [
    {
     "name": "stderr",
     "output_type": "stream",
     "text": [
      "C:\\Users\\campus4D037\\anaconda3\\Lib\\site-packages\\plotly\\express\\_core.py:1979: FutureWarning:\n",
      "\n",
      "When grouping with a length-1 list-like, you will need to pass a length-1 tuple to get_group in a future version of pandas. Pass `(name,)` instead of `name` to silence this warning.\n",
      "\n"
     ]
    },
    {
     "data": {
      "application/vnd.plotly.v1+json": {
       "config": {
        "plotlyServerURL": "https://plot.ly"
       },
       "data": [
        {
         "alignmentgroup": "True",
         "bingroup": "x",
         "hovertemplate": "지점=(600)안양점<br>판매량=%{x}<br>count=%{y}<extra></extra>",
         "legendgroup": "(600)안양점",
         "marker": {
          "color": "#636efa",
          "pattern": {
           "shape": ""
          }
         },
         "name": "(600)안양점",
         "offsetgroup": "(600)안양점",
         "orientation": "v",
         "showlegend": true,
         "type": "histogram",
         "x": [
          106,
          0,
          24,
          0,
          0,
          790,
          598,
          0,
          0,
          0,
          0,
          0,
          0,
          0,
          0,
          1124,
          0,
          0,
          0,
          45,
          209,
          0,
          0,
          55,
          18,
          86,
          758,
          0,
          218,
          0,
          70,
          0,
          0,
          0,
          567,
          0,
          0,
          0,
          0,
          134,
          0,
          0,
          282,
          105,
          138,
          320,
          104,
          64,
          0,
          124,
          0,
          158,
          0,
          0,
          48,
          0,
          0,
          266,
          0,
          0,
          0,
          186,
          150,
          0,
          0,
          0,
          0,
          15,
          0,
          0,
          103,
          0,
          0,
          0,
          0,
          0,
          0,
          0,
          0,
          0,
          0,
          0,
          0,
          0,
          702,
          282,
          0,
          0,
          0,
          0,
          2225,
          0,
          1099,
          0,
          120,
          2637,
          0,
          194,
          0,
          91,
          1079,
          0,
          1536,
          1020,
          224,
          0,
          0,
          0,
          0,
          25,
          0,
          0,
          0,
          1489,
          67,
          1710,
          366,
          0,
          0,
          299,
          80,
          0,
          0,
          0,
          0,
          0,
          0,
          2167,
          0,
          0,
          0,
          359,
          91,
          0,
          0,
          95,
          13,
          114,
          161,
          0,
          119,
          0,
          66,
          671,
          0,
          0,
          0,
          497,
          0,
          0,
          0,
          0,
          142,
          0,
          0,
          0,
          112,
          261,
          277,
          177,
          80,
          0,
          45,
          0,
          0,
          107,
          0,
          52,
          0,
          0,
          141,
          0,
          0,
          0,
          0,
          63,
          541,
          0,
          0,
          0,
          0,
          0,
          6,
          0,
          0,
          0,
          65,
          0,
          0,
          0,
          0,
          100,
          67,
          0,
          0,
          0,
          0,
          0,
          0,
          0,
          12,
          548,
          1,
          34,
          5,
          233,
          0,
          19,
          0,
          2105,
          0,
          1371,
          0,
          135,
          2365,
          0,
          234,
          0,
          149,
          1048,
          0,
          1583,
          985,
          260,
          0,
          0,
          0,
          0,
          0,
          0,
          0,
          3,
          3,
          0,
          1824,
          115,
          839,
          42,
          45,
          0,
          0,
          1125,
          0,
          0,
          0,
          0,
          0,
          0,
          1193,
          0,
          0,
          0,
          0,
          0,
          0,
          117,
          112,
          0,
          0,
          0,
          127,
          16,
          171,
          0,
          0,
          283,
          0,
          150,
          239,
          0,
          0,
          0,
          520,
          0,
          0,
          102,
          0,
          0,
          168,
          85,
          135,
          206,
          201,
          62,
          0,
          0,
          49,
          0,
          0,
          0,
          50,
          56,
          133,
          0,
          118,
          0,
          66,
          0,
          0,
          136,
          0,
          0,
          0,
          48,
          205,
          0,
          0,
          0,
          0,
          0,
          0,
          0,
          0,
          43,
          0,
          0,
          0,
          798,
          0,
          0,
          0,
          0,
          0,
          0,
          0,
          0,
          210,
          0,
          42,
          55,
          0,
          0,
          23,
          19,
          7,
          37,
          35,
          0,
          1757,
          0,
          1426,
          0,
          231,
          2633,
          0,
          476,
          0,
          49,
          1114,
          0,
          2343,
          1072,
          202,
          0,
          0,
          0,
          0,
          25,
          149,
          30,
          192,
          11,
          0,
          0,
          1345,
          133
         ],
         "xaxis": "x",
         "yaxis": "y"
        },
        {
         "alignmentgroup": "True",
         "bingroup": "x",
         "hovertemplate": "지점=(610)부천점<br>판매량=%{x}<br>count=%{y}<extra></extra>",
         "legendgroup": "(610)부천점",
         "marker": {
          "color": "#EF553B",
          "pattern": {
           "shape": ""
          }
         },
         "name": "(610)부천점",
         "offsetgroup": "(610)부천점",
         "orientation": "v",
         "showlegend": true,
         "type": "histogram",
         "x": [
          835,
          0,
          19,
          6,
          0,
          0,
          1722,
          0,
          0,
          0,
          0,
          0,
          0,
          0,
          0,
          533,
          0,
          0,
          0,
          17,
          58,
          0,
          0,
          63,
          22,
          74,
          747,
          0,
          53,
          0,
          47,
          4,
          11,
          0,
          499,
          0,
          0,
          0,
          0,
          163,
          0,
          0,
          215,
          102,
          107,
          67,
          142,
          120,
          0,
          40,
          0,
          46,
          0,
          0,
          7,
          0,
          0,
          176,
          0,
          0,
          0,
          35,
          110,
          57,
          1,
          0,
          30,
          16,
          0,
          0,
          0,
          0,
          0,
          0,
          0,
          0,
          0,
          0,
          0,
          0,
          9,
          6,
          5,
          0,
          876,
          157,
          0,
          0,
          0,
          0,
          979,
          0,
          1405,
          0,
          69,
          2097,
          0,
          323,
          0,
          120,
          1594,
          0,
          3984,
          472,
          172,
          0,
          0,
          0,
          0,
          0,
          0,
          0,
          0,
          2062,
          120,
          1551,
          124,
          80,
          0,
          0,
          124,
          0,
          0,
          0,
          0,
          0,
          0,
          994,
          0,
          0,
          0,
          136,
          47,
          0,
          0,
          59,
          23,
          54,
          452,
          0,
          102,
          0,
          122,
          133,
          0,
          13,
          0,
          569,
          0,
          0,
          0,
          0,
          235,
          0,
          0,
          0,
          129,
          181,
          44,
          112,
          240,
          0,
          20,
          0,
          0,
          17,
          0,
          30,
          0,
          0,
          83,
          0,
          0,
          0,
          0,
          35,
          272,
          110,
          0,
          0,
          0,
          11,
          12,
          0,
          0,
          0,
          0,
          0,
          0,
          0,
          0,
          150,
          0,
          0,
          0,
          0,
          0,
          37,
          15,
          0,
          60,
          669,
          21,
          34,
          14,
          315,
          0,
          21,
          0,
          0,
          0,
          1483,
          0,
          127,
          2393,
          0,
          533,
          0,
          142,
          2231,
          0,
          4832,
          546,
          213,
          0,
          0,
          0,
          0,
          0,
          0,
          9,
          36,
          12,
          0,
          2176,
          164,
          734,
          55,
          97,
          0,
          0,
          2936,
          0,
          0,
          0,
          0,
          0,
          0,
          639,
          0,
          0,
          0,
          0,
          0,
          0,
          61,
          37,
          0,
          0,
          0,
          68,
          27,
          70,
          33,
          0,
          111,
          0,
          185,
          169,
          0,
          9,
          0,
          594,
          0,
          0,
          129,
          0,
          0,
          202,
          120,
          106,
          106,
          196,
          223,
          0,
          0,
          81,
          0,
          263,
          0,
          28,
          33,
          22,
          0,
          17,
          0,
          25,
          0,
          0,
          100,
          0,
          0,
          0,
          14,
          135,
          99,
          0,
          0,
          7,
          25,
          0,
          0,
          0,
          4,
          0,
          0,
          0,
          509,
          0,
          0,
          0,
          0,
          36,
          0,
          0,
          0,
          167,
          0,
          35,
          46,
          9,
          0,
          98,
          29,
          6,
          37,
          43,
          0,
          1662,
          0,
          1521,
          0,
          151,
          2501,
          0,
          543,
          0,
          0,
          1972,
          0,
          4373,
          640,
          187,
          0,
          0,
          0,
          0,
          13,
          120,
          90,
          123,
          0,
          0,
          0,
          1866,
          134
         ],
         "xaxis": "x",
         "yaxis": "y"
        }
       ],
       "layout": {
        "autosize": true,
        "barmode": "relative",
        "legend": {
         "title": {
          "text": "지점"
         },
         "tracegroupgap": 0
        },
        "margin": {
         "t": 60
        },
        "template": {
         "data": {
          "bar": [
           {
            "error_x": {
             "color": "#2a3f5f"
            },
            "error_y": {
             "color": "#2a3f5f"
            },
            "marker": {
             "line": {
              "color": "#E5ECF6",
              "width": 0.5
             },
             "pattern": {
              "fillmode": "overlay",
              "size": 10,
              "solidity": 0.2
             }
            },
            "type": "bar"
           }
          ],
          "barpolar": [
           {
            "marker": {
             "line": {
              "color": "#E5ECF6",
              "width": 0.5
             },
             "pattern": {
              "fillmode": "overlay",
              "size": 10,
              "solidity": 0.2
             }
            },
            "type": "barpolar"
           }
          ],
          "carpet": [
           {
            "aaxis": {
             "endlinecolor": "#2a3f5f",
             "gridcolor": "white",
             "linecolor": "white",
             "minorgridcolor": "white",
             "startlinecolor": "#2a3f5f"
            },
            "baxis": {
             "endlinecolor": "#2a3f5f",
             "gridcolor": "white",
             "linecolor": "white",
             "minorgridcolor": "white",
             "startlinecolor": "#2a3f5f"
            },
            "type": "carpet"
           }
          ],
          "choropleth": [
           {
            "colorbar": {
             "outlinewidth": 0,
             "ticks": ""
            },
            "type": "choropleth"
           }
          ],
          "contour": [
           {
            "colorbar": {
             "outlinewidth": 0,
             "ticks": ""
            },
            "colorscale": [
             [
              0,
              "#0d0887"
             ],
             [
              0.1111111111111111,
              "#46039f"
             ],
             [
              0.2222222222222222,
              "#7201a8"
             ],
             [
              0.3333333333333333,
              "#9c179e"
             ],
             [
              0.4444444444444444,
              "#bd3786"
             ],
             [
              0.5555555555555556,
              "#d8576b"
             ],
             [
              0.6666666666666666,
              "#ed7953"
             ],
             [
              0.7777777777777778,
              "#fb9f3a"
             ],
             [
              0.8888888888888888,
              "#fdca26"
             ],
             [
              1,
              "#f0f921"
             ]
            ],
            "type": "contour"
           }
          ],
          "contourcarpet": [
           {
            "colorbar": {
             "outlinewidth": 0,
             "ticks": ""
            },
            "type": "contourcarpet"
           }
          ],
          "heatmap": [
           {
            "colorbar": {
             "outlinewidth": 0,
             "ticks": ""
            },
            "colorscale": [
             [
              0,
              "#0d0887"
             ],
             [
              0.1111111111111111,
              "#46039f"
             ],
             [
              0.2222222222222222,
              "#7201a8"
             ],
             [
              0.3333333333333333,
              "#9c179e"
             ],
             [
              0.4444444444444444,
              "#bd3786"
             ],
             [
              0.5555555555555556,
              "#d8576b"
             ],
             [
              0.6666666666666666,
              "#ed7953"
             ],
             [
              0.7777777777777778,
              "#fb9f3a"
             ],
             [
              0.8888888888888888,
              "#fdca26"
             ],
             [
              1,
              "#f0f921"
             ]
            ],
            "type": "heatmap"
           }
          ],
          "heatmapgl": [
           {
            "colorbar": {
             "outlinewidth": 0,
             "ticks": ""
            },
            "colorscale": [
             [
              0,
              "#0d0887"
             ],
             [
              0.1111111111111111,
              "#46039f"
             ],
             [
              0.2222222222222222,
              "#7201a8"
             ],
             [
              0.3333333333333333,
              "#9c179e"
             ],
             [
              0.4444444444444444,
              "#bd3786"
             ],
             [
              0.5555555555555556,
              "#d8576b"
             ],
             [
              0.6666666666666666,
              "#ed7953"
             ],
             [
              0.7777777777777778,
              "#fb9f3a"
             ],
             [
              0.8888888888888888,
              "#fdca26"
             ],
             [
              1,
              "#f0f921"
             ]
            ],
            "type": "heatmapgl"
           }
          ],
          "histogram": [
           {
            "marker": {
             "pattern": {
              "fillmode": "overlay",
              "size": 10,
              "solidity": 0.2
             }
            },
            "type": "histogram"
           }
          ],
          "histogram2d": [
           {
            "colorbar": {
             "outlinewidth": 0,
             "ticks": ""
            },
            "colorscale": [
             [
              0,
              "#0d0887"
             ],
             [
              0.1111111111111111,
              "#46039f"
             ],
             [
              0.2222222222222222,
              "#7201a8"
             ],
             [
              0.3333333333333333,
              "#9c179e"
             ],
             [
              0.4444444444444444,
              "#bd3786"
             ],
             [
              0.5555555555555556,
              "#d8576b"
             ],
             [
              0.6666666666666666,
              "#ed7953"
             ],
             [
              0.7777777777777778,
              "#fb9f3a"
             ],
             [
              0.8888888888888888,
              "#fdca26"
             ],
             [
              1,
              "#f0f921"
             ]
            ],
            "type": "histogram2d"
           }
          ],
          "histogram2dcontour": [
           {
            "colorbar": {
             "outlinewidth": 0,
             "ticks": ""
            },
            "colorscale": [
             [
              0,
              "#0d0887"
             ],
             [
              0.1111111111111111,
              "#46039f"
             ],
             [
              0.2222222222222222,
              "#7201a8"
             ],
             [
              0.3333333333333333,
              "#9c179e"
             ],
             [
              0.4444444444444444,
              "#bd3786"
             ],
             [
              0.5555555555555556,
              "#d8576b"
             ],
             [
              0.6666666666666666,
              "#ed7953"
             ],
             [
              0.7777777777777778,
              "#fb9f3a"
             ],
             [
              0.8888888888888888,
              "#fdca26"
             ],
             [
              1,
              "#f0f921"
             ]
            ],
            "type": "histogram2dcontour"
           }
          ],
          "mesh3d": [
           {
            "colorbar": {
             "outlinewidth": 0,
             "ticks": ""
            },
            "type": "mesh3d"
           }
          ],
          "parcoords": [
           {
            "line": {
             "colorbar": {
              "outlinewidth": 0,
              "ticks": ""
             }
            },
            "type": "parcoords"
           }
          ],
          "pie": [
           {
            "automargin": true,
            "type": "pie"
           }
          ],
          "scatter": [
           {
            "fillpattern": {
             "fillmode": "overlay",
             "size": 10,
             "solidity": 0.2
            },
            "type": "scatter"
           }
          ],
          "scatter3d": [
           {
            "line": {
             "colorbar": {
              "outlinewidth": 0,
              "ticks": ""
             }
            },
            "marker": {
             "colorbar": {
              "outlinewidth": 0,
              "ticks": ""
             }
            },
            "type": "scatter3d"
           }
          ],
          "scattercarpet": [
           {
            "marker": {
             "colorbar": {
              "outlinewidth": 0,
              "ticks": ""
             }
            },
            "type": "scattercarpet"
           }
          ],
          "scattergeo": [
           {
            "marker": {
             "colorbar": {
              "outlinewidth": 0,
              "ticks": ""
             }
            },
            "type": "scattergeo"
           }
          ],
          "scattergl": [
           {
            "marker": {
             "colorbar": {
              "outlinewidth": 0,
              "ticks": ""
             }
            },
            "type": "scattergl"
           }
          ],
          "scattermapbox": [
           {
            "marker": {
             "colorbar": {
              "outlinewidth": 0,
              "ticks": ""
             }
            },
            "type": "scattermapbox"
           }
          ],
          "scatterpolar": [
           {
            "marker": {
             "colorbar": {
              "outlinewidth": 0,
              "ticks": ""
             }
            },
            "type": "scatterpolar"
           }
          ],
          "scatterpolargl": [
           {
            "marker": {
             "colorbar": {
              "outlinewidth": 0,
              "ticks": ""
             }
            },
            "type": "scatterpolargl"
           }
          ],
          "scatterternary": [
           {
            "marker": {
             "colorbar": {
              "outlinewidth": 0,
              "ticks": ""
             }
            },
            "type": "scatterternary"
           }
          ],
          "surface": [
           {
            "colorbar": {
             "outlinewidth": 0,
             "ticks": ""
            },
            "colorscale": [
             [
              0,
              "#0d0887"
             ],
             [
              0.1111111111111111,
              "#46039f"
             ],
             [
              0.2222222222222222,
              "#7201a8"
             ],
             [
              0.3333333333333333,
              "#9c179e"
             ],
             [
              0.4444444444444444,
              "#bd3786"
             ],
             [
              0.5555555555555556,
              "#d8576b"
             ],
             [
              0.6666666666666666,
              "#ed7953"
             ],
             [
              0.7777777777777778,
              "#fb9f3a"
             ],
             [
              0.8888888888888888,
              "#fdca26"
             ],
             [
              1,
              "#f0f921"
             ]
            ],
            "type": "surface"
           }
          ],
          "table": [
           {
            "cells": {
             "fill": {
              "color": "#EBF0F8"
             },
             "line": {
              "color": "white"
             }
            },
            "header": {
             "fill": {
              "color": "#C8D4E3"
             },
             "line": {
              "color": "white"
             }
            },
            "type": "table"
           }
          ]
         },
         "layout": {
          "annotationdefaults": {
           "arrowcolor": "#2a3f5f",
           "arrowhead": 0,
           "arrowwidth": 1
          },
          "autotypenumbers": "strict",
          "coloraxis": {
           "colorbar": {
            "outlinewidth": 0,
            "ticks": ""
           }
          },
          "colorscale": {
           "diverging": [
            [
             0,
             "#8e0152"
            ],
            [
             0.1,
             "#c51b7d"
            ],
            [
             0.2,
             "#de77ae"
            ],
            [
             0.3,
             "#f1b6da"
            ],
            [
             0.4,
             "#fde0ef"
            ],
            [
             0.5,
             "#f7f7f7"
            ],
            [
             0.6,
             "#e6f5d0"
            ],
            [
             0.7,
             "#b8e186"
            ],
            [
             0.8,
             "#7fbc41"
            ],
            [
             0.9,
             "#4d9221"
            ],
            [
             1,
             "#276419"
            ]
           ],
           "sequential": [
            [
             0,
             "#0d0887"
            ],
            [
             0.1111111111111111,
             "#46039f"
            ],
            [
             0.2222222222222222,
             "#7201a8"
            ],
            [
             0.3333333333333333,
             "#9c179e"
            ],
            [
             0.4444444444444444,
             "#bd3786"
            ],
            [
             0.5555555555555556,
             "#d8576b"
            ],
            [
             0.6666666666666666,
             "#ed7953"
            ],
            [
             0.7777777777777778,
             "#fb9f3a"
            ],
            [
             0.8888888888888888,
             "#fdca26"
            ],
            [
             1,
             "#f0f921"
            ]
           ],
           "sequentialminus": [
            [
             0,
             "#0d0887"
            ],
            [
             0.1111111111111111,
             "#46039f"
            ],
            [
             0.2222222222222222,
             "#7201a8"
            ],
            [
             0.3333333333333333,
             "#9c179e"
            ],
            [
             0.4444444444444444,
             "#bd3786"
            ],
            [
             0.5555555555555556,
             "#d8576b"
            ],
            [
             0.6666666666666666,
             "#ed7953"
            ],
            [
             0.7777777777777778,
             "#fb9f3a"
            ],
            [
             0.8888888888888888,
             "#fdca26"
            ],
            [
             1,
             "#f0f921"
            ]
           ]
          },
          "colorway": [
           "#636efa",
           "#EF553B",
           "#00cc96",
           "#ab63fa",
           "#FFA15A",
           "#19d3f3",
           "#FF6692",
           "#B6E880",
           "#FF97FF",
           "#FECB52"
          ],
          "font": {
           "color": "#2a3f5f"
          },
          "geo": {
           "bgcolor": "white",
           "lakecolor": "white",
           "landcolor": "#E5ECF6",
           "showlakes": true,
           "showland": true,
           "subunitcolor": "white"
          },
          "hoverlabel": {
           "align": "left"
          },
          "hovermode": "closest",
          "mapbox": {
           "style": "light"
          },
          "paper_bgcolor": "white",
          "plot_bgcolor": "#E5ECF6",
          "polar": {
           "angularaxis": {
            "gridcolor": "white",
            "linecolor": "white",
            "ticks": ""
           },
           "bgcolor": "#E5ECF6",
           "radialaxis": {
            "gridcolor": "white",
            "linecolor": "white",
            "ticks": ""
           }
          },
          "scene": {
           "xaxis": {
            "backgroundcolor": "#E5ECF6",
            "gridcolor": "white",
            "gridwidth": 2,
            "linecolor": "white",
            "showbackground": true,
            "ticks": "",
            "zerolinecolor": "white"
           },
           "yaxis": {
            "backgroundcolor": "#E5ECF6",
            "gridcolor": "white",
            "gridwidth": 2,
            "linecolor": "white",
            "showbackground": true,
            "ticks": "",
            "zerolinecolor": "white"
           },
           "zaxis": {
            "backgroundcolor": "#E5ECF6",
            "gridcolor": "white",
            "gridwidth": 2,
            "linecolor": "white",
            "showbackground": true,
            "ticks": "",
            "zerolinecolor": "white"
           }
          },
          "shapedefaults": {
           "line": {
            "color": "#2a3f5f"
           }
          },
          "ternary": {
           "aaxis": {
            "gridcolor": "white",
            "linecolor": "white",
            "ticks": ""
           },
           "baxis": {
            "gridcolor": "white",
            "linecolor": "white",
            "ticks": ""
           },
           "bgcolor": "#E5ECF6",
           "caxis": {
            "gridcolor": "white",
            "linecolor": "white",
            "ticks": ""
           }
          },
          "title": {
           "x": 0.05
          },
          "xaxis": {
           "automargin": true,
           "gridcolor": "white",
           "linecolor": "white",
           "ticks": "",
           "title": {
            "standoff": 15
           },
           "zerolinecolor": "white",
           "zerolinewidth": 2
          },
          "yaxis": {
           "automargin": true,
           "gridcolor": "white",
           "linecolor": "white",
           "ticks": "",
           "title": {
            "standoff": 15
           },
           "zerolinecolor": "white",
           "zerolinewidth": 2
          }
         }
        },
        "xaxis": {
         "anchor": "y",
         "autorange": true,
         "domain": [
          0,
          1
         ],
         "range": [
          -0.5,
          4899.5
         ],
         "title": {
          "text": "판매량"
         },
         "type": "linear"
        },
        "yaxis": {
         "anchor": "x",
         "autorange": true,
         "domain": [
          0,
          1
         ],
         "range": [
          0,
          571.578947368421
         ],
         "title": {
          "text": "count"
         }
        }
       }
      },
      "image/png": "[encoded data removed]",
      "text/html": [
       "<div>                            <div id=\"b3b3a2a1-b662-45a0-b6d0-6e241ab7084a\" class=\"plotly-graph-div\" style=\"height:525px; width:100%;\"></div>            <script type=\"text/javascript\">                require([\"plotly\"], function(Plotly) {                    window.PLOTLYENV=window.PLOTLYENV || {};                                    if (document.getElementById(\"b3b3a2a1-b662-45a0-b6d0-6e241ab7084a\")) {                    Plotly.newPlot(                        \"b3b3a2a1-b662-45a0-b6d0-6e241ab7084a\",                        [{\"alignmentgroup\":\"True\",\"bingroup\":\"x\",\"hovertemplate\":\"\\uc9c0\\uc810=(600)\\uc548\\uc591\\uc810<br>\\ud310\\ub9e4\\ub7c9=%{x}<br>count=%{y}<extra></extra>\",\"legendgroup\":\"(600)\\uc548\\uc591\\uc810\",\"marker\":{\"color\":\"#636efa\",\"pattern\":{\"shape\":\"\"}},\"name\":\"(600)\\uc548\\uc591\\uc810\",\"offsetgroup\":\"(600)\\uc548\\uc591\\uc810\",\"orientation\":\"v\",\"showlegend\":true,\"x\":[106,0,24,0,0,790,598,0,0,0,0,0,0,0,0,1124,0,0,0,45,209,0,0,55,18,86,758,0,218,0,70,0,0,0,567,0,0,0,0,134,0,0,282,105,138,320,104,64,0,124,0,158,0,0,48,0,0,266,0,0,0,186,150,0,0,0,0,15,0,0,103,0,0,0,0,0,0,0,0,0,0,0,0,0,702,282,0,0,0,0,2225,0,1099,0,120,2637,0,194,0,91,1079,0,1536,1020,224,0,0,0,0,25,0,0,0,1489,67,1710,366,0,0,299,80,0,0,0,0,0,0,2167,0,0,0,359,91,0,0,95,13,114,161,0,119,0,66,671,0,0,0,497,0,0,0,0,142,0,0,0,112,261,277,177,80,0,45,0,0,107,0,52,0,0,141,0,0,0,0,63,541,0,0,0,0,0,6,0,0,0,65,0,0,0,0,100,67,0,0,0,0,0,0,0,12,548,1,34,5,233,0,19,0,2105,0,1371,0,135,2365,0,234,0,149,1048,0,1583,985,260,0,0,0,0,0,0,0,3,3,0,1824,115,839,42,45,0,0,1125,0,0,0,0,0,0,1193,0,0,0,0,0,0,117,112,0,0,0,127,16,171,0,0,283,0,150,239,0,0,0,520,0,0,102,0,0,168,85,135,206,201,62,0,0,49,0,0,0,50,56,133,0,118,0,66,0,0,136,0,0,0,48,205,0,0,0,0,0,0,0,0,43,0,0,0,798,0,0,0,0,0,0,0,0,210,0,42,55,0,0,23,19,7,37,35,0,1757,0,1426,0,231,2633,0,476,0,49,1114,0,2343,1072,202,0,0,0,0,25,149,30,192,11,0,0,1345,133],\"xaxis\":\"x\",\"yaxis\":\"y\",\"type\":\"histogram\"},{\"alignmentgroup\":\"True\",\"bingroup\":\"x\",\"hovertemplate\":\"\\uc9c0\\uc810=(610)\\ubd80\\ucc9c\\uc810<br>\\ud310\\ub9e4\\ub7c9=%{x}<br>count=%{y}<extra></extra>\",\"legendgroup\":\"(610)\\ubd80\\ucc9c\\uc810\",\"marker\":{\"color\":\"#EF553B\",\"pattern\":{\"shape\":\"\"}},\"name\":\"(610)\\ubd80\\ucc9c\\uc810\",\"offsetgroup\":\"(610)\\ubd80\\ucc9c\\uc810\",\"orientation\":\"v\",\"showlegend\":true,\"x\":[835,0,19,6,0,0,1722,0,0,0,0,0,0,0,0,533,0,0,0,17,58,0,0,63,22,74,747,0,53,0,47,4,11,0,499,0,0,0,0,163,0,0,215,102,107,67,142,120,0,40,0,46,0,0,7,0,0,176,0,0,0,35,110,57,1,0,30,16,0,0,0,0,0,0,0,0,0,0,0,0,9,6,5,0,876,157,0,0,0,0,979,0,1405,0,69,2097,0,323,0,120,1594,0,3984,472,172,0,0,0,0,0,0,0,0,2062,120,1551,124,80,0,0,124,0,0,0,0,0,0,994,0,0,0,136,47,0,0,59,23,54,452,0,102,0,122,133,0,13,0,569,0,0,0,0,235,0,0,0,129,181,44,112,240,0,20,0,0,17,0,30,0,0,83,0,0,0,0,35,272,110,0,0,0,11,12,0,0,0,0,0,0,0,0,150,0,0,0,0,0,37,15,0,60,669,21,34,14,315,0,21,0,0,0,1483,0,127,2393,0,533,0,142,2231,0,4832,546,213,0,0,0,0,0,0,9,36,12,0,2176,164,734,55,97,0,0,2936,0,0,0,0,0,0,639,0,0,0,0,0,0,61,37,0,0,0,68,27,70,33,0,111,0,185,169,0,9,0,594,0,0,129,0,0,202,120,106,106,196,223,0,0,81,0,263,0,28,33,22,0,17,0,25,0,0,100,0,0,0,14,135,99,0,0,7,25,0,0,0,4,0,0,0,509,0,0,0,0,36,0,0,0,167,0,35,46,9,0,98,29,6,37,43,0,1662,0,1521,0,151,2501,0,543,0,0,1972,0,4373,640,187,0,0,0,0,13,120,90,123,0,0,0,1866,134],\"xaxis\":\"x\",\"yaxis\":\"y\",\"type\":\"histogram\"}],                        {\"template\":{\"data\":{\"histogram2dcontour\":[{\"type\":\"histogram2dcontour\",\"colorbar\":{\"outlinewidth\":0,\"ticks\":\"\"},\"colorscale\":[[0.0,\"#0d0887\"],[0.1111111111111111,\"#46039f\"],[0.2222222222222222,\"#7201a8\"],[0.3333333333333333,\"#9c179e\"],[0.4444444444444444,\"#bd3786\"],[0.5555555555555556,\"#d8576b\"],[0.6666666666666666,\"#ed7953\"],[0.7777777777777778,\"#fb9f3a\"],[0.8888888888888888,\"#fdca26\"],[1.0,\"#f0f921\"]]}],\"choropleth\":[{\"type\":\"choropleth\",\"colorbar\":{\"outlinewidth\":0,\"ticks\":\"\"}}],\"histogram2d\":[{\"type\":\"histogram2d\",\"colorbar\":{\"outlinewidth\":0,\"ticks\":\"\"},\"colorscale\":[[0.0,\"#0d0887\"],[0.1111111111111111,\"#46039f\"],[0.2222222222222222,\"#7201a8\"],[0.3333333333333333,\"#9c179e\"],[0.4444444444444444,\"#bd3786\"],[0.5555555555555556,\"#d8576b\"],[0.6666666666666666,\"#ed7953\"],[0.7777777777777778,\"#fb9f3a\"],[0.8888888888888888,\"#fdca26\"],[1.0,\"#f0f921\"]]}],\"heatmap\":[{\"type\":\"heatmap\",\"colorbar\":{\"outlinewidth\":0,\"ticks\":\"\"},\"colorscale\":[[0.0,\"#0d0887\"],[0.1111111111111111,\"#46039f\"],[0.2222222222222222,\"#7201a8\"],[0.3333333333333333,\"#9c179e\"],[0.4444444444444444,\"#bd3786\"],[0.5555555555555556,\"#d8576b\"],[0.6666666666666666,\"#ed7953\"],[0.7777777777777778,\"#fb9f3a\"],[0.8888888888888888,\"#fdca26\"],[1.0,\"#f0f921\"]]}],\"heatmapgl\":[{\"type\":\"heatmapgl\",\"colorbar\":{\"outlinewidth\":0,\"ticks\":\"\"},\"colorscale\":[[0.0,\"#0d0887\"],[0.1111111111111111,\"#46039f\"],[0.2222222222222222,\"#7201a8\"],[0.3333333333333333,\"#9c179e\"],[0.4444444444444444,\"#bd3786\"],[0.5555555555555556,\"#d8576b\"],[0.6666666666666666,\"#ed7953\"],[0.7777777777777778,\"#fb9f3a\"],[0.8888888888888888,\"#fdca26\"],[1.0,\"#f0f921\"]]}],\"contourcarpet\":[{\"type\":\"contourcarpet\",\"colorbar\":{\"outlinewidth\":0,\"ticks\":\"\"}}],\"contour\":[{\"type\":\"contour\",\"colorbar\":{\"outlinewidth\":0,\"ticks\":\"\"},\"colorscale\":[[0.0,\"#0d0887\"],[0.1111111111111111,\"#46039f\"],[0.2222222222222222,\"#7201a8\"],[0.3333333333333333,\"#9c179e\"],[0.4444444444444444,\"#bd3786\"],[0.5555555555555556,\"#d8576b\"],[0.6666666666666666,\"#ed7953\"],[0.7777777777777778,\"#fb9f3a\"],[0.8888888888888888,\"#fdca26\"],[1.0,\"#f0f921\"]]}],\"surface\":[{\"type\":\"surface\",\"colorbar\":{\"outlinewidth\":0,\"ticks\":\"\"},\"colorscale\":[[0.0,\"#0d0887\"],[0.1111111111111111,\"#46039f\"],[0.2222222222222222,\"#7201a8\"],[0.3333333333333333,\"#9c179e\"],[0.4444444444444444,\"#bd3786\"],[0.5555555555555556,\"#d8576b\"],[0.6666666666666666,\"#ed7953\"],[0.7777777777777778,\"#fb9f3a\"],[0.8888888888888888,\"#fdca26\"],[1.0,\"#f0f921\"]]}],\"mesh3d\":[{\"type\":\"mesh3d\",\"colorbar\":{\"outlinewidth\":0,\"ticks\":\"\"}}],\"scatter\":[{\"fillpattern\":{\"fillmode\":\"overlay\",\"size\":10,\"solidity\":0.2},\"type\":\"scatter\"}],\"parcoords\":[{\"type\":\"parcoords\",\"line\":{\"colorbar\":{\"outlinewidth\":0,\"ticks\":\"\"}}}],\"scatterpolargl\":[{\"type\":\"scatterpolargl\",\"marker\":{\"colorbar\":{\"outlinewidth\":0,\"ticks\":\"\"}}}],\"bar\":[{\"error_x\":{\"color\":\"#2a3f5f\"},\"error_y\":{\"color\":\"#2a3f5f\"},\"marker\":{\"line\":{\"color\":\"#E5ECF6\",\"width\":0.5},\"pattern\":{\"fillmode\":\"overlay\",\"size\":10,\"solidity\":0.2}},\"type\":\"bar\"}],\"scattergeo\":[{\"type\":\"scattergeo\",\"marker\":{\"colorbar\":{\"outlinewidth\":0,\"ticks\":\"\"}}}],\"scatterpolar\":[{\"type\":\"scatterpolar\",\"marker\":{\"colorbar\":{\"outlinewidth\":0,\"ticks\":\"\"}}}],\"histogram\":[{\"marker\":{\"pattern\":{\"fillmode\":\"overlay\",\"size\":10,\"solidity\":0.2}},\"type\":\"histogram\"}],\"scattergl\":[{\"type\":\"scattergl\",\"marker\":{\"colorbar\":{\"outlinewidth\":0,\"ticks\":\"\"}}}],\"scatter3d\":[{\"type\":\"scatter3d\",\"line\":{\"colorbar\":{\"outlinewidth\":0,\"ticks\":\"\"}},\"marker\":{\"colorbar\":{\"outlinewidth\":0,\"ticks\":\"\"}}}],\"scattermapbox\":[{\"type\":\"scattermapbox\",\"marker\":{\"colorbar\":{\"outlinewidth\":0,\"ticks\":\"\"}}}],\"scatterternary\":[{\"type\":\"scatterternary\",\"marker\":{\"colorbar\":{\"outlinewidth\":0,\"ticks\":\"\"}}}],\"scattercarpet\":[{\"type\":\"scattercarpet\",\"marker\":{\"colorbar\":{\"outlinewidth\":0,\"ticks\":\"\"}}}],\"carpet\":[{\"aaxis\":{\"endlinecolor\":\"#2a3f5f\",\"gridcolor\":\"white\",\"linecolor\":\"white\",\"minorgridcolor\":\"white\",\"startlinecolor\":\"#2a3f5f\"},\"baxis\":{\"endlinecolor\":\"#2a3f5f\",\"gridcolor\":\"white\",\"linecolor\":\"white\",\"minorgridcolor\":\"white\",\"startlinecolor\":\"#2a3f5f\"},\"type\":\"carpet\"}],\"table\":[{\"cells\":{\"fill\":{\"color\":\"#EBF0F8\"},\"line\":{\"color\":\"white\"}},\"header\":{\"fill\":{\"color\":\"#C8D4E3\"},\"line\":{\"color\":\"white\"}},\"type\":\"table\"}],\"barpolar\":[{\"marker\":{\"line\":{\"color\":\"#E5ECF6\",\"width\":0.5},\"pattern\":{\"fillmode\":\"overlay\",\"size\":10,\"solidity\":0.2}},\"type\":\"barpolar\"}],\"pie\":[{\"automargin\":true,\"type\":\"pie\"}]},\"layout\":{\"autotypenumbers\":\"strict\",\"colorway\":[\"#636efa\",\"#EF553B\",\"#00cc96\",\"#ab63fa\",\"#FFA15A\",\"#19d3f3\",\"#FF6692\",\"#B6E880\",\"#FF97FF\",\"#FECB52\"],\"font\":{\"color\":\"#2a3f5f\"},\"hovermode\":\"closest\",\"hoverlabel\":{\"align\":\"left\"},\"paper_bgcolor\":\"white\",\"plot_bgcolor\":\"#E5ECF6\",\"polar\":{\"bgcolor\":\"#E5ECF6\",\"angularaxis\":{\"gridcolor\":\"white\",\"linecolor\":\"white\",\"ticks\":\"\"},\"radialaxis\":{\"gridcolor\":\"white\",\"linecolor\":\"white\",\"ticks\":\"\"}},\"ternary\":{\"bgcolor\":\"#E5ECF6\",\"aaxis\":{\"gridcolor\":\"white\",\"linecolor\":\"white\",\"ticks\":\"\"},\"baxis\":{\"gridcolor\":\"white\",\"linecolor\":\"white\",\"ticks\":\"\"},\"caxis\":{\"gridcolor\":\"white\",\"linecolor\":\"white\",\"ticks\":\"\"}},\"coloraxis\":{\"colorbar\":{\"outlinewidth\":0,\"ticks\":\"\"}},\"colorscale\":{\"sequential\":[[0.0,\"#0d0887\"],[0.1111111111111111,\"#46039f\"],[0.2222222222222222,\"#7201a8\"],[0.3333333333333333,\"#9c179e\"],[0.4444444444444444,\"#bd3786\"],[0.5555555555555556,\"#d8576b\"],[0.6666666666666666,\"#ed7953\"],[0.7777777777777778,\"#fb9f3a\"],[0.8888888888888888,\"#fdca26\"],[1.0,\"#f0f921\"]],\"sequentialminus\":[[0.0,\"#0d0887\"],[0.1111111111111111,\"#46039f\"],[0.2222222222222222,\"#7201a8\"],[0.3333333333333333,\"#9c179e\"],[0.4444444444444444,\"#bd3786\"],[0.5555555555555556,\"#d8576b\"],[0.6666666666666666,\"#ed7953\"],[0.7777777777777778,\"#fb9f3a\"],[0.8888888888888888,\"#fdca26\"],[1.0,\"#f0f921\"]],\"diverging\":[[0,\"#8e0152\"],[0.1,\"#c51b7d\"],[0.2,\"#de77ae\"],[0.3,\"#f1b6da\"],[0.4,\"#fde0ef\"],[0.5,\"#f7f7f7\"],[0.6,\"#e6f5d0\"],[0.7,\"#b8e186\"],[0.8,\"#7fbc41\"],[0.9,\"#4d9221\"],[1,\"#276419\"]]},\"xaxis\":{\"gridcolor\":\"white\",\"linecolor\":\"white\",\"ticks\":\"\",\"title\":{\"standoff\":15},\"zerolinecolor\":\"white\",\"automargin\":true,\"zerolinewidth\":2},\"yaxis\":{\"gridcolor\":\"white\",\"linecolor\":\"white\",\"ticks\":\"\",\"title\":{\"standoff\":15},\"zerolinecolor\":\"white\",\"automargin\":true,\"zerolinewidth\":2},\"scene\":{\"xaxis\":{\"backgroundcolor\":\"#E5ECF6\",\"gridcolor\":\"white\",\"linecolor\":\"white\",\"showbackground\":true,\"ticks\":\"\",\"zerolinecolor\":\"white\",\"gridwidth\":2},\"yaxis\":{\"backgroundcolor\":\"#E5ECF6\",\"gridcolor\":\"white\",\"linecolor\":\"white\",\"showbackground\":true,\"ticks\":\"\",\"zerolinecolor\":\"white\",\"gridwidth\":2},\"zaxis\":{\"backgroundcolor\":\"#E5ECF6\",\"gridcolor\":\"white\",\"linecolor\":\"white\",\"showbackground\":true,\"ticks\":\"\",\"zerolinecolor\":\"white\",\"gridwidth\":2}},\"shapedefaults\":{\"line\":{\"color\":\"#2a3f5f\"}},\"annotationdefaults\":{\"arrowcolor\":\"#2a3f5f\",\"arrowhead\":0,\"arrowwidth\":1},\"geo\":{\"bgcolor\":\"white\",\"landcolor\":\"#E5ECF6\",\"subunitcolor\":\"white\",\"showland\":true,\"showlakes\":true,\"lakecolor\":\"white\"},\"title\":{\"x\":0.05},\"mapbox\":{\"style\":\"light\"}}},\"xaxis\":{\"anchor\":\"y\",\"domain\":[0.0,1.0],\"title\":{\"text\":\"\\ud310\\ub9e4\\ub7c9\"}},\"yaxis\":{\"anchor\":\"x\",\"domain\":[0.0,1.0],\"title\":{\"text\":\"count\"}},\"legend\":{\"title\":{\"text\":\"\\uc9c0\\uc810\"},\"tracegroupgap\":0},\"margin\":{\"t\":60},\"barmode\":\"relative\"},                        {\"responsive\": true}                    ).then(function(){\n",
       "                            \n",
       "var gd = document.getElementById('b3b3a2a1-b662-45a0-b6d0-6e241ab7084a');\n",
       "var x = new MutationObserver(function (mutations, observer) {{\n",
       "        var display = window.getComputedStyle(gd).display;\n",
       "        if (!display || display === 'none') {{\n",
       "            console.log([gd, 'removed!']);\n",
       "            Plotly.purge(gd);\n",
       "            observer.disconnect();\n",
       "        }}\n",
       "}});\n",
       "\n",
       "// Listen for the removal of the full notebook cells\n",
       "var notebookContainer = gd.closest('#notebook-container');\n",
       "if (notebookContainer) {{\n",
       "    x.observe(notebookContainer, {childList: true});\n",
       "}}\n",
       "\n",
       "// Listen for the clearing of the current output cell\n",
       "var outputEl = gd.closest('.output');\n",
       "if (outputEl) {{\n",
       "    x.observe(outputEl, {childList: true});\n",
       "}}\n",
       "\n",
       "                        })                };                });            </script>        </div>"
      ]
     },
     "metadata": {},
     "output_type": "display_data"
    }
   ],
   "source": [
    "# 동시에 보기\n",
    "px.histogram(concat1.loc[cond1 | cond2] , x = '판매량' , color = '지점')"
   ]
  },
  {
   "cell_type": "markdown",
   "id": "b92490d3-f7cf-4063-8065-4bf2dea64ff4",
   "metadata": {},
   "source": [
    "## 6. '기간'별 가장 '판매량'의 '합'이 높은 '지점'을 확인하고, 특정 '기간' (월)을 입력했을 때, 해당 월의 '지점' 별 '판매량'의 합을 result_{월}.xlsx로 저장하는 함수를 생성하시오. "
   ]
  },
  {
   "cell_type": "code",
   "execution_count": 205,
   "id": "216829f5-38f5-4845-9653-3b6e23259bc1",
   "metadata": {},
   "outputs": [
    {
     "data": {
      "text/html": [
       "<div>\n",
       "<style scoped>\n",
       "    .dataframe tbody tr th:only-of-type {\n",
       "        vertical-align: middle;\n",
       "    }\n",
       "\n",
       "    .dataframe tbody tr th {\n",
       "        vertical-align: top;\n",
       "    }\n",
       "\n",
       "    .dataframe thead th {\n",
       "        text-align: right;\n",
       "    }\n",
       "</style>\n",
       "<table border=\"1\" class=\"dataframe\">\n",
       "  <thead>\n",
       "    <tr style=\"text-align: right;\">\n",
       "      <th>기간</th>\n",
       "      <th>06월</th>\n",
       "      <th>07월</th>\n",
       "      <th>08월</th>\n",
       "    </tr>\n",
       "    <tr>\n",
       "      <th>지점</th>\n",
       "      <th></th>\n",
       "      <th></th>\n",
       "      <th></th>\n",
       "    </tr>\n",
       "  </thead>\n",
       "  <tbody>\n",
       "    <tr>\n",
       "      <th>(1154)의정부점</th>\n",
       "      <td>6829.0</td>\n",
       "      <td>8149.0</td>\n",
       "      <td>11856.0</td>\n",
       "    </tr>\n",
       "    <tr>\n",
       "      <th>(1155)별내점</th>\n",
       "      <td>8374.0</td>\n",
       "      <td>9143.0</td>\n",
       "      <td>10688.0</td>\n",
       "    </tr>\n",
       "    <tr>\n",
       "      <th>(1156)풍산점</th>\n",
       "      <td>12626.0</td>\n",
       "      <td>13270.0</td>\n",
       "      <td>13406.0</td>\n",
       "    </tr>\n",
       "    <tr>\n",
       "      <th>(1157)김포한강점</th>\n",
       "      <td>11767.0</td>\n",
       "      <td>13710.0</td>\n",
       "      <td>11825.0</td>\n",
       "    </tr>\n",
       "    <tr>\n",
       "      <th>(1158)세종점</th>\n",
       "      <td>10912.0</td>\n",
       "      <td>12844.0</td>\n",
       "      <td>11715.0</td>\n",
       "    </tr>\n",
       "    <tr>\n",
       "      <th>...</th>\n",
       "      <td>...</td>\n",
       "      <td>...</td>\n",
       "      <td>...</td>\n",
       "    </tr>\n",
       "    <tr>\n",
       "      <th>(L38)율전점</th>\n",
       "      <td>1782.0</td>\n",
       "      <td>2037.0</td>\n",
       "      <td>1936.0</td>\n",
       "    </tr>\n",
       "    <tr>\n",
       "      <th>(L39)본오점</th>\n",
       "      <td>3129.0</td>\n",
       "      <td>2929.0</td>\n",
       "      <td>2654.0</td>\n",
       "    </tr>\n",
       "    <tr>\n",
       "      <th>(L40)검암점</th>\n",
       "      <td>1712.0</td>\n",
       "      <td>2423.0</td>\n",
       "      <td>1959.0</td>\n",
       "    </tr>\n",
       "    <tr>\n",
       "      <th>(L44)신길점</th>\n",
       "      <td>3189.0</td>\n",
       "      <td>3406.0</td>\n",
       "      <td>3518.0</td>\n",
       "    </tr>\n",
       "    <tr>\n",
       "      <th>(L46)용호점</th>\n",
       "      <td>2347.0</td>\n",
       "      <td>2324.0</td>\n",
       "      <td>2404.0</td>\n",
       "    </tr>\n",
       "  </tbody>\n",
       "</table>\n",
       "<p>656 rows × 3 columns</p>\n",
       "</div>"
      ],
      "text/plain": [
       "기간               06월      07월      08월\n",
       "지점                                    \n",
       "(1154)의정부점    6829.0   8149.0  11856.0\n",
       "(1155)별내점     8374.0   9143.0  10688.0\n",
       "(1156)풍산점    12626.0  13270.0  13406.0\n",
       "(1157)김포한강점  11767.0  13710.0  11825.0\n",
       "(1158)세종점    10912.0  12844.0  11715.0\n",
       "...              ...      ...      ...\n",
       "(L38)율전점      1782.0   2037.0   1936.0\n",
       "(L39)본오점      3129.0   2929.0   2654.0\n",
       "(L40)검암점      1712.0   2423.0   1959.0\n",
       "(L44)신길점      3189.0   3406.0   3518.0\n",
       "(L46)용호점      2347.0   2324.0   2404.0\n",
       "\n",
       "[656 rows x 3 columns]"
      ]
     },
     "execution_count": 205,
     "metadata": {},
     "output_type": "execute_result"
    }
   ],
   "source": [
    "p1 = concat1.pivot_table(index= '지점' , values = '판매량_int' , columns = '기간', aggfunc = 'sum')\n",
    "p1"
   ]
  },
  {
   "cell_type": "code",
   "execution_count": 219,
   "id": "4f371d4e-1449-4a86-aede-a63962b171e1",
   "metadata": {},
   "outputs": [
    {
     "data": {
      "text/plain": [
       "지점\n",
       "(1154)의정부점      8149.0\n",
       "(1155)별내점       9143.0\n",
       "(1156)풍산점      13270.0\n",
       "(1157)김포한강점    13710.0\n",
       "(1158)세종점      12844.0\n",
       "                ...   \n",
       "(L38)율전점        2037.0\n",
       "(L39)본오점        2929.0\n",
       "(L40)검암점        2423.0\n",
       "(L44)신길점        3406.0\n",
       "(L46)용호점        2324.0\n",
       "Name: 07월, Length: 656, dtype: float64"
      ]
     },
     "execution_count": 219,
     "metadata": {},
     "output_type": "execute_result"
    }
   ],
   "source": [
    "p1['07월']"
   ]
  },
  {
   "cell_type": "code",
   "execution_count": 213,
   "id": "6578c2b8-a60f-4b1e-b024-b7a810efc076",
   "metadata": {},
   "outputs": [
    {
     "name": "stdout",
     "output_type": "stream",
     "text": [
      "(610)부천점\n",
      "(610)부천점\n",
      "(740)속초점\n"
     ]
    }
   ],
   "source": [
    "for i in concat1['기간'].unique():\n",
    "    print(p1[i].sort_values(ascending = False).head(2).index[0])"
   ]
  },
  {
   "cell_type": "code",
   "execution_count": 227,
   "id": "9bbaf57a-2f48-4275-acd9-86ce3ae7b577",
   "metadata": {},
   "outputs": [
    {
     "name": "stdout",
     "output_type": "stream",
     "text": [
      "['06월' '07월' '08월']\n"
     ]
    },
    {
     "name": "stdin",
     "output_type": "stream",
     "text": [
      "월 입력 07월\n"
     ]
    },
    {
     "data": {
      "text/html": [
       "<div>\n",
       "<style scoped>\n",
       "    .dataframe tbody tr th:only-of-type {\n",
       "        vertical-align: middle;\n",
       "    }\n",
       "\n",
       "    .dataframe tbody tr th {\n",
       "        vertical-align: top;\n",
       "    }\n",
       "\n",
       "    .dataframe thead th {\n",
       "        text-align: right;\n",
       "    }\n",
       "</style>\n",
       "<table border=\"1\" class=\"dataframe\">\n",
       "  <thead>\n",
       "    <tr style=\"text-align: right;\">\n",
       "      <th></th>\n",
       "      <th>판매량_int</th>\n",
       "    </tr>\n",
       "    <tr>\n",
       "      <th>기간</th>\n",
       "      <th></th>\n",
       "    </tr>\n",
       "  </thead>\n",
       "  <tbody>\n",
       "    <tr>\n",
       "      <th>07월</th>\n",
       "      <td>2278594</td>\n",
       "    </tr>\n",
       "  </tbody>\n",
       "</table>\n",
       "</div>"
      ],
      "text/plain": [
       "     판매량_int\n",
       "기간          \n",
       "07월  2278594"
      ]
     },
     "execution_count": 227,
     "metadata": {},
     "output_type": "execute_result"
    }
   ],
   "source": [
    "\n",
    "print(concat1['기간'].unique())\n",
    "month_input = input('월 입력')\n",
    "cond1 = (concat1['기간'] == month_input)\n",
    "month_t = concat1.loc[cond1]\n",
    "p1 = month_t.pivot_table(index= '기간' , values = '판매량_int' , aggfunc = 'sum')\n",
    "p1.sort_values(by = '판매량_int' , ascending = False)"
   ]
  },
  {
   "cell_type": "code",
   "execution_count": 225,
   "id": "ae69ca5c-9d70-4af3-a41d-84ecc8e3676d",
   "metadata": {},
   "outputs": [
    {
     "name": "stdout",
     "output_type": "stream",
     "text": [
      "(610)부천점\n",
      "['06월' '07월' '08월']\n"
     ]
    },
    {
     "name": "stdin",
     "output_type": "stream",
     "text": [
      "월 입력 06월\n"
     ]
    },
    {
     "ename": "KeyError",
     "evalue": "'07월'",
     "output_type": "error",
     "traceback": [
      "\u001b[1;31m---------------------------------------------------------------------------\u001b[0m",
      "\u001b[1;31mKeyError\u001b[0m                                  Traceback (most recent call last)",
      "File \u001b[1;32m~\\anaconda3\\Lib\\site-packages\\pandas\\core\\indexes\\base.py:3805\u001b[0m, in \u001b[0;36mIndex.get_loc\u001b[1;34m(self, key)\u001b[0m\n\u001b[0;32m   3804\u001b[0m \u001b[38;5;28;01mtry\u001b[39;00m:\n\u001b[1;32m-> 3805\u001b[0m     \u001b[38;5;28;01mreturn\u001b[39;00m \u001b[38;5;28mself\u001b[39m\u001b[38;5;241m.\u001b[39m_engine\u001b[38;5;241m.\u001b[39mget_loc(casted_key)\n\u001b[0;32m   3806\u001b[0m \u001b[38;5;28;01mexcept\u001b[39;00m \u001b[38;5;167;01mKeyError\u001b[39;00m \u001b[38;5;28;01mas\u001b[39;00m err:\n",
      "File \u001b[1;32mindex.pyx:167\u001b[0m, in \u001b[0;36mpandas._libs.index.IndexEngine.get_loc\u001b[1;34m()\u001b[0m\n",
      "File \u001b[1;32mindex.pyx:196\u001b[0m, in \u001b[0;36mpandas._libs.index.IndexEngine.get_loc\u001b[1;34m()\u001b[0m\n",
      "File \u001b[1;32mpandas\\\\_libs\\\\hashtable_class_helper.pxi:7081\u001b[0m, in \u001b[0;36mpandas._libs.hashtable.PyObjectHashTable.get_item\u001b[1;34m()\u001b[0m\n",
      "File \u001b[1;32mpandas\\\\_libs\\\\hashtable_class_helper.pxi:7089\u001b[0m, in \u001b[0;36mpandas._libs.hashtable.PyObjectHashTable.get_item\u001b[1;34m()\u001b[0m\n",
      "\u001b[1;31mKeyError\u001b[0m: '07월'",
      "\nThe above exception was the direct cause of the following exception:\n",
      "\u001b[1;31mKeyError\u001b[0m                                  Traceback (most recent call last)",
      "Cell \u001b[1;32mIn[225], line 12\u001b[0m\n\u001b[0;32m     10\u001b[0m         p2 \u001b[38;5;241m=\u001b[39m p1\u001b[38;5;241m.\u001b[39msort_values(by \u001b[38;5;241m=\u001b[39m \u001b[38;5;124m'\u001b[39m\u001b[38;5;124m판매량_int\u001b[39m\u001b[38;5;124m'\u001b[39m , ascending \u001b[38;5;241m=\u001b[39m \u001b[38;5;28;01mFalse\u001b[39;00m)\n\u001b[0;32m     11\u001b[0m         p2\u001b[38;5;241m.\u001b[39mto_excel(\u001b[38;5;124mf\u001b[39m\u001b[38;5;124m'\u001b[39m\u001b[38;5;124mresult_\u001b[39m\u001b[38;5;132;01m{\u001b[39;00mmonth_input\u001b[38;5;132;01m}\u001b[39;00m\u001b[38;5;124m.xlsx\u001b[39m\u001b[38;5;124m'\u001b[39m)\n\u001b[1;32m---> 12\u001b[0m func6()\n",
      "Cell \u001b[1;32mIn[225], line 4\u001b[0m, in \u001b[0;36mfunc6\u001b[1;34m()\u001b[0m\n\u001b[0;32m      2\u001b[0m p1 \u001b[38;5;241m=\u001b[39m concat1\u001b[38;5;241m.\u001b[39mpivot_table(index\u001b[38;5;241m=\u001b[39m \u001b[38;5;124m'\u001b[39m\u001b[38;5;124m지점\u001b[39m\u001b[38;5;124m'\u001b[39m , values \u001b[38;5;241m=\u001b[39m \u001b[38;5;124m'\u001b[39m\u001b[38;5;124m판매량_int\u001b[39m\u001b[38;5;124m'\u001b[39m , columns \u001b[38;5;241m=\u001b[39m \u001b[38;5;124m'\u001b[39m\u001b[38;5;124m기간\u001b[39m\u001b[38;5;124m'\u001b[39m, aggfunc \u001b[38;5;241m=\u001b[39m \u001b[38;5;124m'\u001b[39m\u001b[38;5;124msum\u001b[39m\u001b[38;5;124m'\u001b[39m)\n\u001b[0;32m      3\u001b[0m \u001b[38;5;28;01mfor\u001b[39;00m i \u001b[38;5;129;01min\u001b[39;00m concat1[\u001b[38;5;124m'\u001b[39m\u001b[38;5;124m기간\u001b[39m\u001b[38;5;124m'\u001b[39m]\u001b[38;5;241m.\u001b[39munique():\n\u001b[1;32m----> 4\u001b[0m     \u001b[38;5;28mprint\u001b[39m(p1[i]\u001b[38;5;241m.\u001b[39msort_values(ascending \u001b[38;5;241m=\u001b[39m \u001b[38;5;28;01mFalse\u001b[39;00m)\u001b[38;5;241m.\u001b[39mhead(\u001b[38;5;241m2\u001b[39m)\u001b[38;5;241m.\u001b[39mindex[\u001b[38;5;241m0\u001b[39m])\n\u001b[0;32m      5\u001b[0m     \u001b[38;5;28mprint\u001b[39m(concat1[\u001b[38;5;124m'\u001b[39m\u001b[38;5;124m기간\u001b[39m\u001b[38;5;124m'\u001b[39m]\u001b[38;5;241m.\u001b[39munique())\n\u001b[0;32m      6\u001b[0m     month_input \u001b[38;5;241m=\u001b[39m \u001b[38;5;28minput\u001b[39m(\u001b[38;5;124m'\u001b[39m\u001b[38;5;124m월 입력\u001b[39m\u001b[38;5;124m'\u001b[39m)\n",
      "File \u001b[1;32m~\\anaconda3\\Lib\\site-packages\\pandas\\core\\frame.py:4102\u001b[0m, in \u001b[0;36mDataFrame.__getitem__\u001b[1;34m(self, key)\u001b[0m\n\u001b[0;32m   4100\u001b[0m \u001b[38;5;28;01mif\u001b[39;00m \u001b[38;5;28mself\u001b[39m\u001b[38;5;241m.\u001b[39mcolumns\u001b[38;5;241m.\u001b[39mnlevels \u001b[38;5;241m>\u001b[39m \u001b[38;5;241m1\u001b[39m:\n\u001b[0;32m   4101\u001b[0m     \u001b[38;5;28;01mreturn\u001b[39;00m \u001b[38;5;28mself\u001b[39m\u001b[38;5;241m.\u001b[39m_getitem_multilevel(key)\n\u001b[1;32m-> 4102\u001b[0m indexer \u001b[38;5;241m=\u001b[39m \u001b[38;5;28mself\u001b[39m\u001b[38;5;241m.\u001b[39mcolumns\u001b[38;5;241m.\u001b[39mget_loc(key)\n\u001b[0;32m   4103\u001b[0m \u001b[38;5;28;01mif\u001b[39;00m is_integer(indexer):\n\u001b[0;32m   4104\u001b[0m     indexer \u001b[38;5;241m=\u001b[39m [indexer]\n",
      "File \u001b[1;32m~\\anaconda3\\Lib\\site-packages\\pandas\\core\\indexes\\base.py:3812\u001b[0m, in \u001b[0;36mIndex.get_loc\u001b[1;34m(self, key)\u001b[0m\n\u001b[0;32m   3807\u001b[0m     \u001b[38;5;28;01mif\u001b[39;00m \u001b[38;5;28misinstance\u001b[39m(casted_key, \u001b[38;5;28mslice\u001b[39m) \u001b[38;5;129;01mor\u001b[39;00m (\n\u001b[0;32m   3808\u001b[0m         \u001b[38;5;28misinstance\u001b[39m(casted_key, abc\u001b[38;5;241m.\u001b[39mIterable)\n\u001b[0;32m   3809\u001b[0m         \u001b[38;5;129;01mand\u001b[39;00m \u001b[38;5;28many\u001b[39m(\u001b[38;5;28misinstance\u001b[39m(x, \u001b[38;5;28mslice\u001b[39m) \u001b[38;5;28;01mfor\u001b[39;00m x \u001b[38;5;129;01min\u001b[39;00m casted_key)\n\u001b[0;32m   3810\u001b[0m     ):\n\u001b[0;32m   3811\u001b[0m         \u001b[38;5;28;01mraise\u001b[39;00m InvalidIndexError(key)\n\u001b[1;32m-> 3812\u001b[0m     \u001b[38;5;28;01mraise\u001b[39;00m \u001b[38;5;167;01mKeyError\u001b[39;00m(key) \u001b[38;5;28;01mfrom\u001b[39;00m \u001b[38;5;21;01merr\u001b[39;00m\n\u001b[0;32m   3813\u001b[0m \u001b[38;5;28;01mexcept\u001b[39;00m \u001b[38;5;167;01mTypeError\u001b[39;00m:\n\u001b[0;32m   3814\u001b[0m     \u001b[38;5;66;03m# If we have a listlike key, _check_indexing_error will raise\u001b[39;00m\n\u001b[0;32m   3815\u001b[0m     \u001b[38;5;66;03m#  InvalidIndexError. Otherwise we fall through and re-raise\u001b[39;00m\n\u001b[0;32m   3816\u001b[0m     \u001b[38;5;66;03m#  the TypeError.\u001b[39;00m\n\u001b[0;32m   3817\u001b[0m     \u001b[38;5;28mself\u001b[39m\u001b[38;5;241m.\u001b[39m_check_indexing_error(key)\n",
      "\u001b[1;31mKeyError\u001b[0m: '07월'"
     ]
    }
   ],
   "source": [
    "def func6():\n",
    "    p1 = concat1.pivot_table(index= '지점' , values = '판매량_int' , columns = '기간', aggfunc = 'sum')\n",
    "    for i in concat1['기간'].unique():\n",
    "        print(p1[i].sort_values(ascending = False).head(2).index[0])\n",
    "        print(concat1['기간'].unique())\n",
    "        month_input = input('월 입력')\n",
    "        cond1 = (concat1['기간'] == month_input)\n",
    "        month_t = concat1.loc[cond1]\n",
    "        p1 = month_t.pivot_table(index= '기간' , values = '판매량_int' , aggfunc = 'sum')\n",
    "        p2 = p1.sort_values(by = '판매량_int' , ascending = False)\n",
    "        p2.to_excel(f'result_{month_input}.xlsx')\n",
    "func6()   "
   ]
  },
  {
   "cell_type": "markdown",
   "id": "3dd7028f-99b7-4e09-a7b4-aeca2a73f0df",
   "metadata": {},
   "source": [
    "## 7. '상품명'에 '마스크'와'휴지' 제품을 나누어 분석하고자 한다. 상품명을 '휴지'와 '마스크'로 분류한 뒤, (나머지는 '기타') '상품분류'라는 파생변수를 만들어, 두 상품의 '판매량'의 대표값의 차이를 가설 검정 하시오. \n",
    "    - 가설 수립 및 결론도 작성하셔야 합니다."
   ]
  },
  {
   "cell_type": "code",
   "execution_count": 229,
   "id": "e40a6098-6654-4907-bdd0-5876f8640b90",
   "metadata": {
    "collapsed": true,
    "jupyter": {
     "outputs_hidden": true
    }
   },
   "outputs": [
    {
     "data": {
      "text/html": [
       "<div>\n",
       "<style scoped>\n",
       "    .dataframe tbody tr th:only-of-type {\n",
       "        vertical-align: middle;\n",
       "    }\n",
       "\n",
       "    .dataframe tbody tr th {\n",
       "        vertical-align: top;\n",
       "    }\n",
       "\n",
       "    .dataframe thead th {\n",
       "        text-align: right;\n",
       "    }\n",
       "</style>\n",
       "<table border=\"1\" class=\"dataframe\">\n",
       "  <thead>\n",
       "    <tr style=\"text-align: right;\">\n",
       "      <th></th>\n",
       "      <th>순번</th>\n",
       "      <th>상품코드</th>\n",
       "      <th>상품명</th>\n",
       "      <th>합계</th>\n",
       "      <th>지점</th>\n",
       "      <th>판매량</th>\n",
       "      <th>기간</th>\n",
       "      <th>판매량_int</th>\n",
       "    </tr>\n",
       "  </thead>\n",
       "  <tbody>\n",
       "    <tr>\n",
       "      <th>0</th>\n",
       "      <td>1.0</td>\n",
       "      <td>1801828.0</td>\n",
       "      <td>자연숨결 식약처 허가 초미세먼지 마스크 대형 60매(KF94)</td>\n",
       "      <td>65402</td>\n",
       "      <td>(1154)의정부점</td>\n",
       "      <td>174</td>\n",
       "      <td>06월</td>\n",
       "      <td>174</td>\n",
       "    </tr>\n",
       "    <tr>\n",
       "      <th>1</th>\n",
       "      <td>2.0</td>\n",
       "      <td>1801859.0</td>\n",
       "      <td>블루방역황사마스크 65매 KF94</td>\n",
       "      <td>1</td>\n",
       "      <td>(1154)의정부점</td>\n",
       "      <td>0</td>\n",
       "      <td>06월</td>\n",
       "      <td>0</td>\n",
       "    </tr>\n",
       "    <tr>\n",
       "      <th>2</th>\n",
       "      <td>3.0</td>\n",
       "      <td>40786179.0</td>\n",
       "      <td>클린위즈 매직클리너 얼룩제거 세트</td>\n",
       "      <td>2158</td>\n",
       "      <td>(1154)의정부점</td>\n",
       "      <td>4</td>\n",
       "      <td>06월</td>\n",
       "      <td>4</td>\n",
       "    </tr>\n",
       "    <tr>\n",
       "      <th>3</th>\n",
       "      <td>4.0</td>\n",
       "      <td>41001356.0</td>\n",
       "      <td>트루마리 순수휴지 30미터 90롤</td>\n",
       "      <td>3649</td>\n",
       "      <td>(1154)의정부점</td>\n",
       "      <td>14</td>\n",
       "      <td>06월</td>\n",
       "      <td>14</td>\n",
       "    </tr>\n",
       "    <tr>\n",
       "      <th>4</th>\n",
       "      <td>5.0</td>\n",
       "      <td>88005324.0</td>\n",
       "      <td>자연숨결 식약처 허가 초미세먼지 마스크 대형30매 + 중형 30매(KF94)</td>\n",
       "      <td>1</td>\n",
       "      <td>(1154)의정부점</td>\n",
       "      <td>0</td>\n",
       "      <td>06월</td>\n",
       "      <td>0</td>\n",
       "    </tr>\n",
       "  </tbody>\n",
       "</table>\n",
       "</div>"
      ],
      "text/plain": [
       "    순번        상품코드                                         상품명     합계  \\\n",
       "0  1.0   1801828.0          자연숨결 식약처 허가 초미세먼지 마스크 대형 60매(KF94)  65402   \n",
       "1  2.0   1801859.0                          블루방역황사마스크 65매 KF94      1   \n",
       "2  3.0  40786179.0                          클린위즈 매직클리너 얼룩제거 세트   2158   \n",
       "3  4.0  41001356.0                          트루마리 순수휴지 30미터 90롤   3649   \n",
       "4  5.0  88005324.0  자연숨결 식약처 허가 초미세먼지 마스크 대형30매 + 중형 30매(KF94)      1   \n",
       "\n",
       "           지점  판매량   기간  판매량_int  \n",
       "0  (1154)의정부점  174  06월      174  \n",
       "1  (1154)의정부점    0  06월        0  \n",
       "2  (1154)의정부점    4  06월        4  \n",
       "3  (1154)의정부점   14  06월       14  \n",
       "4  (1154)의정부점    0  06월        0  "
      ]
     },
     "execution_count": 229,
     "metadata": {},
     "output_type": "execute_result"
    }
   ],
   "source": [
    "concat1.head()"
   ]
  },
  {
   "cell_type": "code",
   "execution_count": 241,
   "id": "8f4c6013-c444-480b-805f-1a8b272e3a68",
   "metadata": {
    "collapsed": true,
    "jupyter": {
     "outputs_hidden": true
    }
   },
   "outputs": [
    {
     "data": {
      "text/html": [
       "<div>\n",
       "<style scoped>\n",
       "    .dataframe tbody tr th:only-of-type {\n",
       "        vertical-align: middle;\n",
       "    }\n",
       "\n",
       "    .dataframe tbody tr th {\n",
       "        vertical-align: top;\n",
       "    }\n",
       "\n",
       "    .dataframe thead th {\n",
       "        text-align: right;\n",
       "    }\n",
       "</style>\n",
       "<table border=\"1\" class=\"dataframe\">\n",
       "  <thead>\n",
       "    <tr style=\"text-align: right;\">\n",
       "      <th></th>\n",
       "      <th>상품명</th>\n",
       "      <th>상품분류</th>\n",
       "    </tr>\n",
       "  </thead>\n",
       "  <tbody>\n",
       "    <tr>\n",
       "      <th>0</th>\n",
       "      <td>자연숨결 식약처 허가 초미세먼지 마스크 대형 60매(KF94)</td>\n",
       "      <td>마스크</td>\n",
       "    </tr>\n",
       "    <tr>\n",
       "      <th>1</th>\n",
       "      <td>블루방역황사마스크 65매 KF94</td>\n",
       "      <td>마스크</td>\n",
       "    </tr>\n",
       "    <tr>\n",
       "      <th>2</th>\n",
       "      <td>클린위즈 매직클리너 얼룩제거 세트</td>\n",
       "      <td>기타</td>\n",
       "    </tr>\n",
       "    <tr>\n",
       "      <th>3</th>\n",
       "      <td>트루마리 순수휴지 30미터 90롤</td>\n",
       "      <td>휴지</td>\n",
       "    </tr>\n",
       "    <tr>\n",
       "      <th>4</th>\n",
       "      <td>자연숨결 식약처 허가 초미세먼지 마스크 대형30매 + 중형 30매(KF94)</td>\n",
       "      <td>마스크</td>\n",
       "    </tr>\n",
       "    <tr>\n",
       "      <th>...</th>\n",
       "      <td>...</td>\n",
       "      <td>...</td>\n",
       "    </tr>\n",
       "    <tr>\n",
       "      <th>236993</th>\n",
       "      <td>[쨍하고해뜰집]제습제풀세트(다용도제습제30통+지시겔1봉)</td>\n",
       "      <td>기타</td>\n",
       "    </tr>\n",
       "    <tr>\n",
       "      <th>236994</th>\n",
       "      <td>[리얼뽀송이]제습제세트</td>\n",
       "      <td>기타</td>\n",
       "    </tr>\n",
       "    <tr>\n",
       "      <th>236995</th>\n",
       "      <td>[미라클워터]다목적세정제17종괴물용량풀세트</td>\n",
       "      <td>기타</td>\n",
       "    </tr>\n",
       "    <tr>\n",
       "      <th>236996</th>\n",
       "      <td>[쨍하고해뜰집]지시겔1봉(20개)</td>\n",
       "      <td>기타</td>\n",
       "    </tr>\n",
       "    <tr>\n",
       "      <th>236997</th>\n",
       "      <td>[리얼뽀송이]제습제1팩(단품)</td>\n",
       "      <td>기타</td>\n",
       "    </tr>\n",
       "  </tbody>\n",
       "</table>\n",
       "<p>236998 rows × 2 columns</p>\n",
       "</div>"
      ],
      "text/plain": [
       "                                               상품명 상품분류\n",
       "0               자연숨결 식약처 허가 초미세먼지 마스크 대형 60매(KF94)  마스크\n",
       "1                               블루방역황사마스크 65매 KF94  마스크\n",
       "2                               클린위즈 매직클리너 얼룩제거 세트   기타\n",
       "3                               트루마리 순수휴지 30미터 90롤   휴지\n",
       "4       자연숨결 식약처 허가 초미세먼지 마스크 대형30매 + 중형 30매(KF94)  마스크\n",
       "...                                            ...  ...\n",
       "236993             [쨍하고해뜰집]제습제풀세트(다용도제습제30통+지시겔1봉)   기타\n",
       "236994                                [리얼뽀송이]제습제세트   기타\n",
       "236995                     [미라클워터]다목적세정제17종괴물용량풀세트   기타\n",
       "236996                          [쨍하고해뜰집]지시겔1봉(20개)   기타\n",
       "236997                            [리얼뽀송이]제습제1팩(단품)   기타\n",
       "\n",
       "[236998 rows x 2 columns]"
      ]
     },
     "execution_count": 241,
     "metadata": {},
     "output_type": "execute_result"
    }
   ],
   "source": [
    "def func7(x):\n",
    "    if '마스크' in x:\n",
    "        return '마스크'\n",
    "    elif '휴지' in x:\n",
    "        return '휴지'\n",
    "    else:\n",
    "        return '기타'\n",
    "\n",
    "concat1['상품분류'] = concat1['상품명'].apply(func7)\n",
    "concat1[['상품명', '상품분류']]"
   ]
  },
  {
   "cell_type": "code",
   "execution_count": 247,
   "id": "fe8fbd05-678a-4131-b5c7-51bf290d1007",
   "metadata": {},
   "outputs": [],
   "source": [
    "cond1 = (concat1['상품분류'] == '마스크')\n",
    "cond2 = (concat1['상품분류'] == '휴지')\n",
    "\n",
    "t1 = concat1.loc[cond1]\n",
    "t2 = concat1.loc[cond2]\n"
   ]
  },
  {
   "cell_type": "code",
   "execution_count": 249,
   "id": "2231ef5d-16bd-40c2-9b3c-d308182ef849",
   "metadata": {},
   "outputs": [
    {
     "data": {
      "text/plain": [
       "NormaltestResult(statistic=31820.563309226873, pvalue=0.0)"
      ]
     },
     "execution_count": 249,
     "metadata": {},
     "output_type": "execute_result"
    }
   ],
   "source": [
    "# 정규성 확인\n",
    "stats.normaltest(t1['판매량_int'])\n",
    "# 우연이 아님 => 정규분포 X "
   ]
  },
  {
   "cell_type": "code",
   "execution_count": 251,
   "id": "bc8f47a7-ac66-42c4-a36f-14dddf288dbb",
   "metadata": {},
   "outputs": [
    {
     "data": {
      "text/plain": [
       "NormaltestResult(statistic=30664.231154107765, pvalue=0.0)"
      ]
     },
     "execution_count": 251,
     "metadata": {},
     "output_type": "execute_result"
    }
   ],
   "source": [
    "stats.normaltest(t2['판매량_int'])"
   ]
  },
  {
   "cell_type": "code",
   "execution_count": 255,
   "id": "1134549a-acb1-4b91-a6b4-67afbdd0c27b",
   "metadata": {},
   "outputs": [
    {
     "data": {
      "text/plain": [
       "RanksumsResult(statistic=14.193416467479825, pvalue=1.0063403187290814e-45)"
      ]
     },
     "execution_count": 255,
     "metadata": {},
     "output_type": "execute_result"
    }
   ],
   "source": [
    "# 마스크와 휴지는 유의미하게 팔리는가\n",
    "# 귀무가설 : 마스크와 휴지의 판매량은 의미가 없다\n",
    "# 대립가설 : 마스크와 휴지의 판매량은 의미가 있다.\n",
    "stats.ranksums(t1['판매량_int'] , t2['판매량_int'])\n",
    "# pvalue < 0.05 -> 대립가설(마스크와 휴지의 판매량은 의미가 있다.) 채택"
   ]
  },
  {
   "cell_type": "code",
   "execution_count": null,
   "id": "ac10ef3b-9720-42be-b99e-195e853dd204",
   "metadata": {},
   "outputs": [],
   "source": [
    "# 결론 마스크와 휴지는 통계적으로 유의미하게 다른 판매량을 기록한다.\n",
    "# 우연히 두개 사는게 아니다."
   ]
  }
 ],
 "metadata": {
  "kernelspec": {
   "display_name": "Python 3 (ipykernel)",
   "language": "python",
   "name": "python3"
  },
  "language_info": {
   "codemirror_mode": {
    "name": "ipython",
    "version": 3
   },
   "file_extension": ".py",
   "mimetype": "text/x-python",
   "name": "python",
   "nbconvert_exporter": "python",
   "pygments_lexer": "ipython3",
   "version": "3.11.7"
  }
 },
 "nbformat": 4,
 "nbformat_minor": 5
}
