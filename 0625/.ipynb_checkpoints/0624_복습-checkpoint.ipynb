{
 "cells": [
  {
   "cell_type": "markdown",
   "id": "d5ca73bf-52f9-4624-908b-852add797e7f",
   "metadata": {},
   "source": [
    "## 복습"
   ]
  },
  {
   "cell_type": "code",
   "execution_count": 2,
   "id": "c60a9d61-2e0a-49cb-816e-03ddaa8ece93",
   "metadata": {},
   "outputs": [],
   "source": [
    "# 가설검정"
   ]
  },
  {
   "cell_type": "code",
   "execution_count": 8,
   "id": "e4d8068c-8eef-4433-a097-e15ced192760",
   "metadata": {},
   "outputs": [
    {
     "data": {
      "text/html": [
       "<div>\n",
       "<style scoped>\n",
       "    .dataframe tbody tr th:only-of-type {\n",
       "        vertical-align: middle;\n",
       "    }\n",
       "\n",
       "    .dataframe tbody tr th {\n",
       "        vertical-align: top;\n",
       "    }\n",
       "\n",
       "    .dataframe thead th {\n",
       "        text-align: right;\n",
       "    }\n",
       "</style>\n",
       "<table border=\"1\" class=\"dataframe\">\n",
       "  <thead>\n",
       "    <tr style=\"text-align: right;\">\n",
       "      <th></th>\n",
       "      <th>Index</th>\n",
       "      <th>Member_ID</th>\n",
       "      <th>Sales_Type</th>\n",
       "      <th>Contract_Type</th>\n",
       "      <th>Channel</th>\n",
       "      <th>Datetime</th>\n",
       "      <th>Term</th>\n",
       "      <th>Payment_Type</th>\n",
       "      <th>Product_Type</th>\n",
       "      <th>Amount_Month</th>\n",
       "      <th>Customer_Type</th>\n",
       "      <th>Age</th>\n",
       "      <th>Address1</th>\n",
       "      <th>Address2</th>\n",
       "      <th>State</th>\n",
       "      <th>Overdue_count</th>\n",
       "      <th>Overdue_Type</th>\n",
       "      <th>Gender</th>\n",
       "      <th>Credit_Rank</th>\n",
       "      <th>Bank</th>\n",
       "    </tr>\n",
       "  </thead>\n",
       "  <tbody>\n",
       "    <tr>\n",
       "      <th>0</th>\n",
       "      <td>1</td>\n",
       "      <td>66758234</td>\n",
       "      <td>렌탈</td>\n",
       "      <td>일반계약</td>\n",
       "      <td>영업방판</td>\n",
       "      <td>2022-05-05</td>\n",
       "      <td>60</td>\n",
       "      <td>CMS</td>\n",
       "      <td>DES-1</td>\n",
       "      <td>96900</td>\n",
       "      <td>개인</td>\n",
       "      <td>42.0</td>\n",
       "      <td>경기도</td>\n",
       "      <td>경기도</td>\n",
       "      <td>계약확정</td>\n",
       "      <td>0</td>\n",
       "      <td>없음</td>\n",
       "      <td>여자</td>\n",
       "      <td>9.0</td>\n",
       "      <td>새마을금고</td>\n",
       "    </tr>\n",
       "    <tr>\n",
       "      <th>1</th>\n",
       "      <td>2</td>\n",
       "      <td>66755948</td>\n",
       "      <td>렌탈</td>\n",
       "      <td>교체계약</td>\n",
       "      <td>영업방판</td>\n",
       "      <td>2023-02-19</td>\n",
       "      <td>60</td>\n",
       "      <td>카드이체</td>\n",
       "      <td>DES-1</td>\n",
       "      <td>102900</td>\n",
       "      <td>개인</td>\n",
       "      <td>39.0</td>\n",
       "      <td>경기도</td>\n",
       "      <td>경기도</td>\n",
       "      <td>계약확정</td>\n",
       "      <td>0</td>\n",
       "      <td>없음</td>\n",
       "      <td>남자</td>\n",
       "      <td>2.0</td>\n",
       "      <td>현대카드</td>\n",
       "    </tr>\n",
       "    <tr>\n",
       "      <th>2</th>\n",
       "      <td>3</td>\n",
       "      <td>66756657</td>\n",
       "      <td>렌탈</td>\n",
       "      <td>일반계약</td>\n",
       "      <td>홈쇼핑/방송</td>\n",
       "      <td>2022-02-27</td>\n",
       "      <td>60</td>\n",
       "      <td>CMS</td>\n",
       "      <td>DES-1</td>\n",
       "      <td>96900</td>\n",
       "      <td>개인</td>\n",
       "      <td>48.0</td>\n",
       "      <td>경기도</td>\n",
       "      <td>경기도</td>\n",
       "      <td>계약확정</td>\n",
       "      <td>0</td>\n",
       "      <td>없음</td>\n",
       "      <td>여자</td>\n",
       "      <td>8.0</td>\n",
       "      <td>우리은행</td>\n",
       "    </tr>\n",
       "    <tr>\n",
       "      <th>3</th>\n",
       "      <td>4</td>\n",
       "      <td>66423450</td>\n",
       "      <td>멤버십</td>\n",
       "      <td>멤버십3유형</td>\n",
       "      <td>재계약</td>\n",
       "      <td>2022-05-12</td>\n",
       "      <td>12</td>\n",
       "      <td>CMS</td>\n",
       "      <td>DES-1</td>\n",
       "      <td>66900</td>\n",
       "      <td>개인</td>\n",
       "      <td>39.0</td>\n",
       "      <td>경기도</td>\n",
       "      <td>경기도</td>\n",
       "      <td>계약확정</td>\n",
       "      <td>0</td>\n",
       "      <td>없음</td>\n",
       "      <td>남자</td>\n",
       "      <td>5.0</td>\n",
       "      <td>농협회원조합</td>\n",
       "    </tr>\n",
       "    <tr>\n",
       "      <th>4</th>\n",
       "      <td>5</td>\n",
       "      <td>66423204</td>\n",
       "      <td>멤버십</td>\n",
       "      <td>멤버십3유형</td>\n",
       "      <td>재계약</td>\n",
       "      <td>2022-05-09</td>\n",
       "      <td>12</td>\n",
       "      <td>CMS</td>\n",
       "      <td>DES-1</td>\n",
       "      <td>66900</td>\n",
       "      <td>개인</td>\n",
       "      <td>60.0</td>\n",
       "      <td>경기도</td>\n",
       "      <td>경기도</td>\n",
       "      <td>기간만료</td>\n",
       "      <td>12</td>\n",
       "      <td>있음</td>\n",
       "      <td>남자</td>\n",
       "      <td>8.0</td>\n",
       "      <td>농협회원조합</td>\n",
       "    </tr>\n",
       "  </tbody>\n",
       "</table>\n",
       "</div>"
      ],
      "text/plain": [
       "   Index  Member_ID Sales_Type Contract_Type Channel    Datetime  Term  \\\n",
       "0      1   66758234         렌탈          일반계약    영업방판  2022-05-05    60   \n",
       "1      2   66755948         렌탈          교체계약    영업방판  2023-02-19    60   \n",
       "2      3   66756657         렌탈          일반계약  홈쇼핑/방송  2022-02-27    60   \n",
       "3      4   66423450        멤버십        멤버십3유형     재계약  2022-05-12    12   \n",
       "4      5   66423204        멤버십        멤버십3유형     재계약  2022-05-09    12   \n",
       "\n",
       "  Payment_Type Product_Type  Amount_Month Customer_Type   Age Address1  \\\n",
       "0          CMS        DES-1         96900            개인  42.0      경기도   \n",
       "1         카드이체        DES-1        102900            개인  39.0      경기도   \n",
       "2          CMS        DES-1         96900            개인  48.0      경기도   \n",
       "3          CMS        DES-1         66900            개인  39.0      경기도   \n",
       "4          CMS        DES-1         66900            개인  60.0      경기도   \n",
       "\n",
       "  Address2 State  Overdue_count Overdue_Type Gender  Credit_Rank    Bank  \n",
       "0      경기도  계약확정              0           없음     여자          9.0   새마을금고  \n",
       "1      경기도  계약확정              0           없음     남자          2.0    현대카드  \n",
       "2      경기도  계약확정              0           없음     여자          8.0    우리은행  \n",
       "3      경기도  계약확정              0           없음     남자          5.0  농협회원조합  \n",
       "4      경기도  기간만료             12           있음     남자          8.0  농협회원조합  "
      ]
     },
     "execution_count": 8,
     "metadata": {},
     "output_type": "execute_result"
    }
   ],
   "source": [
    "import pandas as pd\n",
    "df1 = pd.read_csv('01_Data.csv')\n",
    "df1.head()"
   ]
  },
  {
   "cell_type": "code",
   "execution_count": 10,
   "id": "0e58d630-1a74-413c-9290-950660113a9c",
   "metadata": {},
   "outputs": [
    {
     "data": {
      "text/plain": [
       "array(['없음', '있음'], dtype=object)"
      ]
     },
     "execution_count": 10,
     "metadata": {},
     "output_type": "execute_result"
    }
   ],
   "source": [
    "# 연체여부에 따른 월 렌탈비용에 차이가 있는가\n",
    "df1['Overdue_Type'].unique() \n",
    "# 범주형"
   ]
  },
  {
   "cell_type": "code",
   "execution_count": 12,
   "id": "51e22a9e-1bda-4761-98cf-d6505f335843",
   "metadata": {},
   "outputs": [],
   "source": [
    "cond1 = (df1['Overdue_Type'] == '있음')\n",
    "\n",
    "df_over = df1.loc[cond1]\n",
    "df_norm = df1.loc[~cond1]"
   ]
  },
  {
   "cell_type": "code",
   "execution_count": 14,
   "id": "fd4f5775-aff0-4d0b-a8b9-c8f49585b67e",
   "metadata": {},
   "outputs": [],
   "source": [
    "# 정규성 확인\n",
    "import scipy.stats as stats\n",
    "# 가설검정 lib"
   ]
  },
  {
   "cell_type": "code",
   "execution_count": 16,
   "id": "c3702ef0-bcfc-447d-b28c-bd4b4c18bab3",
   "metadata": {},
   "outputs": [
    {
     "data": {
      "text/plain": [
       "NormaltestResult(statistic=913.6886264858254, pvalue=3.935824000627175e-199)"
      ]
     },
     "execution_count": 16,
     "metadata": {},
     "output_type": "execute_result"
    }
   ],
   "source": [
    "stats.normaltest(df_over['Amount_Month'])\n",
    "# p-value < 0.05 => 정규성 따르지 않음"
   ]
  },
  {
   "cell_type": "code",
   "execution_count": 18,
   "id": "77cb1557-1ad8-4aa2-841a-ec0a32ff76df",
   "metadata": {},
   "outputs": [
    {
     "data": {
      "text/plain": [
       "NormaltestResult(statistic=5175.1150773834515, pvalue=0.0)"
      ]
     },
     "execution_count": 18,
     "metadata": {},
     "output_type": "execute_result"
    }
   ],
   "source": [
    "stats.normaltest(df_norm['Amount_Month'])\n",
    "# 정규분포에서 멀다 => 5175.115077383451"
   ]
  },
  {
   "cell_type": "code",
   "execution_count": 20,
   "id": "fc313a9f-daad-4d59-a9b6-fb8589bcbaa4",
   "metadata": {},
   "outputs": [],
   "source": [
    "# 둘 중 하나라도 정규분포를 따르지 않을경우 => 순위합 검정\n",
    "# 독립인지 대응인지에 따라 다를수도 \n"
   ]
  },
  {
   "cell_type": "code",
   "execution_count": 22,
   "id": "4ec05379-ba60-44d6-a481-c2b932dca067",
   "metadata": {},
   "outputs": [
    {
     "data": {
      "text/plain": [
       "RanksumsResult(statistic=13.151893506752453, pvalue=1.659655618882019e-39)"
      ]
     },
     "execution_count": 22,
     "metadata": {},
     "output_type": "execute_result"
    }
   ],
   "source": [
    "# 순위합 검정\n",
    "stats.ranksums(df_over['Amount_Month'] , df_norm['Amount_Month'])"
   ]
  },
  {
   "cell_type": "code",
   "execution_count": 24,
   "id": "495a29b6-06e8-4aac-8235-89f6aa65d500",
   "metadata": {},
   "outputs": [],
   "source": [
    "# 귀무가설 : 두 집단의 유의미한 차이가 없을것이다\n",
    "# 대립가설 : 두 집단에 유의미한 차이가 있을것이다\n",
    "\n",
    "# p-value가 0에 가까이 나옴 => 대립가설 채택"
   ]
  },
  {
   "cell_type": "code",
   "execution_count": 32,
   "id": "9f4bb921-80dc-45f4-8ed4-96ddb33d68a2",
   "metadata": {},
   "outputs": [],
   "source": [
    "# 다변수 검정"
   ]
  },
  {
   "cell_type": "code",
   "execution_count": 30,
   "id": "bd3e1627-686a-4971-8184-2514ef5a281f",
   "metadata": {},
   "outputs": [
    {
     "data": {
      "text/plain": [
       "Channel\n",
       "영업방판       23767\n",
       "홈쇼핑/방송     12977\n",
       "대형마트A       4725\n",
       "전문매장H       3227\n",
       "재계약         2193\n",
       "대형마트E       1497\n",
       "전문매장Z       1206\n",
       "전단홍보         560\n",
       "홈쇼핑/인터넷      375\n",
       "대형마트H        225\n",
       "직영유통사        188\n",
       "자체홈페이지       120\n",
       "대형마트C        119\n",
       "대형마트N         83\n",
       "직영계열사A        20\n",
       "직영계열사B        19\n",
       "Name: count, dtype: int64"
      ]
     },
     "execution_count": 30,
     "metadata": {},
     "output_type": "execute_result"
    }
   ],
   "source": [
    "# 채널별 월렌탈비용의 차이\n",
    "df1['Channel'].value_counts()"
   ]
  },
  {
   "cell_type": "code",
   "execution_count": 36,
   "id": "fe0393cc-05f3-41fb-be87-19f9d14850f5",
   "metadata": {},
   "outputs": [
    {
     "data": {
      "text/plain": [
       "Index(['영업방판', '홈쇼핑/방송', '대형마트A'], dtype='object', name='Channel')"
      ]
     },
     "execution_count": 36,
     "metadata": {},
     "output_type": "execute_result"
    }
   ],
   "source": [
    "top3_list = df1['Channel'].value_counts().head(3).index\n",
    "top3_list"
   ]
  },
  {
   "cell_type": "code",
   "execution_count": 38,
   "id": "e9fd9eaf-dd9a-4ca4-a1bc-638016d931fd",
   "metadata": {},
   "outputs": [],
   "source": [
    "cond1 = df1['Channel'] == top3_list[0]\n",
    "cond2 = df1['Channel'] == top3_list[1]\n",
    "cond3 = df1['Channel'] == top3_list[2]\n",
    "\n",
    "# 각각 영업방판/ 홈쇼핑,방송 / 대형마트A"
   ]
  },
  {
   "cell_type": "code",
   "execution_count": 42,
   "id": "6cb2735c-3e0a-466c-b04b-07fa7025d1fa",
   "metadata": {},
   "outputs": [
    {
     "name": "stdout",
     "output_type": "stream",
     "text": [
      "NormaltestResult(statistic=13426.784616830582, pvalue=0.0)\n",
      "NormaltestResult(statistic=721.5700572037006, pvalue=2.0561411505237054e-157)\n",
      "NormaltestResult(statistic=1450.8543571263506, pvalue=0.0)\n"
     ]
    }
   ],
   "source": [
    "print(stats.normaltest(df1.loc[cond1]['Amount_Month']))\n",
    "print(stats.normaltest(df1.loc[cond2]['Amount_Month']))\n",
    "print(stats.normaltest(df1.loc[cond3]['Amount_Month']))\n",
    "\n",
    "# 다 정규분포를 따르지 않음 "
   ]
  },
  {
   "cell_type": "code",
   "execution_count": 48,
   "id": "d89fe0d0-4dda-4dc8-8de9-8538a7855ebe",
   "metadata": {},
   "outputs": [
    {
     "data": {
      "text/plain": [
       "KruskalResult(statistic=8746.944998588246, pvalue=0.0)"
      ]
     },
     "execution_count": 48,
     "metadata": {},
     "output_type": "execute_result"
    }
   ],
   "source": [
    "# 세 집단의 차이를 확인\n",
    "\n",
    "stats.kruskal(df1.loc[cond1]['Amount_Month'] ,df1.loc[cond2]['Amount_Month'], df1.loc[cond3]['Amount_Month'])"
   ]
  },
  {
   "cell_type": "code",
   "execution_count": 50,
   "id": "8a63a174-5b66-4da9-8041-c97038b00f48",
   "metadata": {},
   "outputs": [],
   "source": [
    "# 귀무가설 : 세 집단은 통계적으로 차이가 없다\n",
    "# 대립가설 : 세 지단은 통계적으로 차이가 있다\n",
    "\n",
    "# p-value = 0 => 대립가설 채택"
   ]
  },
  {
   "cell_type": "code",
   "execution_count": null,
   "id": "51db3061-a213-44fb-83a6-9614662e0e03",
   "metadata": {},
   "outputs": [],
   "source": [
    "# kruskaltest => 어느 짇단이 서로 다른지 알려주지는 못한다. 그래서 후속비교를 한번 더 해야함"
   ]
  }
 ],
 "metadata": {
  "kernelspec": {
   "display_name": "Python 3 (ipykernel)",
   "language": "python",
   "name": "python3"
  },
  "language_info": {
   "codemirror_mode": {
    "name": "ipython",
    "version": 3
   },
   "file_extension": ".py",
   "mimetype": "text/x-python",
   "name": "python",
   "nbconvert_exporter": "python",
   "pygments_lexer": "ipython3",
   "version": "3.11.7"
  }
 },
 "nbformat": 4,
 "nbformat_minor": 5
}
