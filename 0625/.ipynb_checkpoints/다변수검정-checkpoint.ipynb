{
 "cells": [
  {
   "cell_type": "markdown",
   "id": "38873740-d845-4b45-aaf3-ac56c393c0cd",
   "metadata": {},
   "source": [
    "# 다변수 검정\n",
    "- 정규분포를 따르는 연속형 자료의 집단 간 비교"
   ]
  },
  {
   "cell_type": "code",
   "execution_count": 28,
   "id": "742d54bb-0432-492c-9e10-c2105e5266a9",
   "metadata": {},
   "outputs": [
    {
     "data": {
      "text/html": [
       "<div>\n",
       "<style scoped>\n",
       "    .dataframe tbody tr th:only-of-type {\n",
       "        vertical-align: middle;\n",
       "    }\n",
       "\n",
       "    .dataframe tbody tr th {\n",
       "        vertical-align: top;\n",
       "    }\n",
       "\n",
       "    .dataframe thead th {\n",
       "        text-align: right;\n",
       "    }\n",
       "</style>\n",
       "<table border=\"1\" class=\"dataframe\">\n",
       "  <thead>\n",
       "    <tr style=\"text-align: right;\">\n",
       "      <th></th>\n",
       "      <th>Unnamed: 0</th>\n",
       "      <th>Code_Num</th>\n",
       "      <th>Datetime</th>\n",
       "      <th>Process_Type</th>\n",
       "      <th>ST</th>\n",
       "      <th>Tube Furnace CP</th>\n",
       "      <th>Tube Furnace1 OP</th>\n",
       "      <th>Tube Furnace1 Temp</th>\n",
       "      <th>Tube Furnace2 OP</th>\n",
       "      <th>Tube Furnace2 Temp</th>\n",
       "      <th>Tube Furnace3 OP</th>\n",
       "      <th>Tube Furnace3 Temp</th>\n",
       "      <th>Tube Furnace4 OP</th>\n",
       "      <th>Tube Furnace4 Temp</th>\n",
       "      <th>Z1-OP1</th>\n",
       "      <th>Z1-OP2</th>\n",
       "      <th>Z1-Temp</th>\n",
       "    </tr>\n",
       "  </thead>\n",
       "  <tbody>\n",
       "    <tr>\n",
       "      <th>0</th>\n",
       "      <td>0</td>\n",
       "      <td>GroupA</td>\n",
       "      <td>2022-01-03 11:22</td>\n",
       "      <td>OP-A</td>\n",
       "      <td>NaN</td>\n",
       "      <td>0.450497</td>\n",
       "      <td>73.527404</td>\n",
       "      <td>NaN</td>\n",
       "      <td>59.989422</td>\n",
       "      <td>868.759544</td>\n",
       "      <td>52.249481</td>\n",
       "      <td>NaN</td>\n",
       "      <td>72.134908</td>\n",
       "      <td>NaN</td>\n",
       "      <td>74.255730</td>\n",
       "      <td>76.879748</td>\n",
       "      <td>NaN</td>\n",
       "    </tr>\n",
       "    <tr>\n",
       "      <th>1</th>\n",
       "      <td>1</td>\n",
       "      <td>GroupA</td>\n",
       "      <td>2022-01-03 11:22</td>\n",
       "      <td>OP-A</td>\n",
       "      <td>NaN</td>\n",
       "      <td>0.457370</td>\n",
       "      <td>79.149174</td>\n",
       "      <td>878.116929</td>\n",
       "      <td>62.027232</td>\n",
       "      <td>883.821264</td>\n",
       "      <td>50.617109</td>\n",
       "      <td>890.740760</td>\n",
       "      <td>71.245235</td>\n",
       "      <td>894.430606</td>\n",
       "      <td>66.323571</td>\n",
       "      <td>71.297720</td>\n",
       "      <td>NaN</td>\n",
       "    </tr>\n",
       "    <tr>\n",
       "      <th>2</th>\n",
       "      <td>2</td>\n",
       "      <td>GroupA</td>\n",
       "      <td>2022-01-03 11:22</td>\n",
       "      <td>OP-A</td>\n",
       "      <td>68.724636</td>\n",
       "      <td>0.454914</td>\n",
       "      <td>78.946336</td>\n",
       "      <td>866.441979</td>\n",
       "      <td>62.235532</td>\n",
       "      <td>882.850031</td>\n",
       "      <td>52.218350</td>\n",
       "      <td>864.373065</td>\n",
       "      <td>72.705558</td>\n",
       "      <td>893.530501</td>\n",
       "      <td>72.909936</td>\n",
       "      <td>71.579322</td>\n",
       "      <td>99.614201</td>\n",
       "    </tr>\n",
       "    <tr>\n",
       "      <th>3</th>\n",
       "      <td>3</td>\n",
       "      <td>GroupA</td>\n",
       "      <td>2022-01-03 11:22</td>\n",
       "      <td>OP-A</td>\n",
       "      <td>69.161116</td>\n",
       "      <td>0.456540</td>\n",
       "      <td>78.445719</td>\n",
       "      <td>876.350472</td>\n",
       "      <td>61.608260</td>\n",
       "      <td>906.208463</td>\n",
       "      <td>52.863552</td>\n",
       "      <td>891.107865</td>\n",
       "      <td>73.975640</td>\n",
       "      <td>896.347636</td>\n",
       "      <td>68.754355</td>\n",
       "      <td>73.537496</td>\n",
       "      <td>99.376221</td>\n",
       "    </tr>\n",
       "    <tr>\n",
       "      <th>4</th>\n",
       "      <td>4</td>\n",
       "      <td>GroupA</td>\n",
       "      <td>2022-01-03 11:22</td>\n",
       "      <td>OP-C</td>\n",
       "      <td>69.181098</td>\n",
       "      <td>0.460100</td>\n",
       "      <td>76.673808</td>\n",
       "      <td>903.587677</td>\n",
       "      <td>61.589311</td>\n",
       "      <td>867.215131</td>\n",
       "      <td>52.297196</td>\n",
       "      <td>893.206883</td>\n",
       "      <td>71.887865</td>\n",
       "      <td>871.594283</td>\n",
       "      <td>69.692302</td>\n",
       "      <td>72.461153</td>\n",
       "      <td>99.809053</td>\n",
       "    </tr>\n",
       "  </tbody>\n",
       "</table>\n",
       "</div>"
      ],
      "text/plain": [
       "   Unnamed: 0 Code_Num          Datetime Process_Type         ST  \\\n",
       "0           0   GroupA  2022-01-03 11:22         OP-A        NaN   \n",
       "1           1   GroupA  2022-01-03 11:22         OP-A        NaN   \n",
       "2           2   GroupA  2022-01-03 11:22         OP-A  68.724636   \n",
       "3           3   GroupA  2022-01-03 11:22         OP-A  69.161116   \n",
       "4           4   GroupA  2022-01-03 11:22         OP-C  69.181098   \n",
       "\n",
       "   Tube Furnace CP  Tube Furnace1 OP  Tube Furnace1 Temp  Tube Furnace2 OP  \\\n",
       "0         0.450497         73.527404                 NaN         59.989422   \n",
       "1         0.457370         79.149174          878.116929         62.027232   \n",
       "2         0.454914         78.946336          866.441979         62.235532   \n",
       "3         0.456540         78.445719          876.350472         61.608260   \n",
       "4         0.460100         76.673808          903.587677         61.589311   \n",
       "\n",
       "   Tube Furnace2 Temp  Tube Furnace3 OP  Tube Furnace3 Temp  Tube Furnace4 OP  \\\n",
       "0          868.759544         52.249481                 NaN         72.134908   \n",
       "1          883.821264         50.617109          890.740760         71.245235   \n",
       "2          882.850031         52.218350          864.373065         72.705558   \n",
       "3          906.208463         52.863552          891.107865         73.975640   \n",
       "4          867.215131         52.297196          893.206883         71.887865   \n",
       "\n",
       "   Tube Furnace4 Temp     Z1-OP1     Z1-OP2    Z1-Temp  \n",
       "0                 NaN  74.255730  76.879748        NaN  \n",
       "1          894.430606  66.323571  71.297720        NaN  \n",
       "2          893.530501  72.909936  71.579322  99.614201  \n",
       "3          896.347636  68.754355  73.537496  99.376221  \n",
       "4          871.594283  69.692302  72.461153  99.809053  "
      ]
     },
     "execution_count": 28,
     "metadata": {},
     "output_type": "execute_result"
    }
   ],
   "source": [
    "import pandas as pd\n",
    "import scipy.stats as stats\n",
    "df1 = pd.read_csv('08_Data.csv')\n",
    "df1.head()"
   ]
  },
  {
   "cell_type": "markdown",
   "id": "8859e069-459a-4546-909a-b2d572138e7b",
   "metadata": {},
   "source": [
    "## 정규분포를 따르는 두 집단의 평균비교\n",
    "- 각 Code_Num (공장배치그룹) 별 Z1-OP1(공정 건조온도 출력량) 평균의 차이가 있는가"
   ]
  },
  {
   "cell_type": "code",
   "execution_count": 31,
   "id": "93b445f5-23d9-42e0-915f-ccd396cb5987",
   "metadata": {},
   "outputs": [
    {
     "data": {
      "text/plain": [
       "Code_Num\n",
       "GroupD    31729\n",
       "GroupC    26982\n",
       "GroupB    13299\n",
       "GroupF     7473\n",
       "GroupA     7342\n",
       "GroupE     6218\n",
       "Name: count, dtype: int64"
      ]
     },
     "execution_count": 31,
     "metadata": {},
     "output_type": "execute_result"
    }
   ],
   "source": [
    "df1['Code_Num'].value_counts()"
   ]
  },
  {
   "cell_type": "code",
   "execution_count": 33,
   "id": "e031475d-dddf-4eb3-8b61-94c4431438a1",
   "metadata": {},
   "outputs": [],
   "source": [
    "cond1 = (df1['Code_Num'] == df1['Code_Num'].value_counts().head(2).index[0])\n",
    "cond2 = (df1['Code_Num'] == df1['Code_Num'].value_counts().head(2).index[1])"
   ]
  },
  {
   "cell_type": "code",
   "execution_count": 35,
   "id": "8927f25f-03e2-4d8a-9016-9dcfbd4d8448",
   "metadata": {},
   "outputs": [],
   "source": [
    "t1 = df1.loc[cond1] # GroupD\n",
    "t2 = df1.loc[cond2] # GroupC\n"
   ]
  },
  {
   "cell_type": "code",
   "execution_count": 37,
   "id": "a32a649d-1681-4f37-8bdf-05e1e451f87e",
   "metadata": {},
   "outputs": [
    {
     "data": {
      "text/plain": [
       "NormaltestResult(statistic=0.45941327604808013, pvalue=0.7947667226435516)"
      ]
     },
     "execution_count": 37,
     "metadata": {},
     "output_type": "execute_result"
    }
   ],
   "source": [
    "stats.normaltest(t1['Z1-OP1']) # 정규분포를 따름"
   ]
  },
  {
   "cell_type": "code",
   "execution_count": 43,
   "id": "615ec354-1c15-4986-8e1d-977bc3de1ccc",
   "metadata": {},
   "outputs": [
    {
     "data": {
      "text/plain": [
       "NormaltestResult(statistic=2.8668515001589796, pvalue=0.23849051231867696)"
      ]
     },
     "execution_count": 43,
     "metadata": {},
     "output_type": "execute_result"
    }
   ],
   "source": [
    "stats.normaltest(t2['Z1-OP1']) # 정규분포를 따름"
   ]
  },
  {
   "cell_type": "code",
   "execution_count": 47,
   "id": "3ce65d5d-89ca-48d4-bfc9-f260960ffab9",
   "metadata": {},
   "outputs": [
    {
     "data": {
      "text/plain": [
       "BartlettResult(statistic=0.15980353542672476, pvalue=0.6893374613172697)"
      ]
     },
     "execution_count": 47,
     "metadata": {},
     "output_type": "execute_result"
    }
   ],
   "source": [
    "# 두 집단 모두 정규분폴르 따르므로 등분산 검정을 수행한다\n",
    "\n",
    "# 등분산 검정\n",
    "stats.bartlett(t1['Z1-OP1'] , t2['Z1-OP1'])\n",
    "\n",
    "# 귀무가설 : 두 집단의 분산은 같다고 볼 수 있다.\n",
    "# 대립가설 : 두 집단의 분산은 다르다고 볼 수 있다.\n",
    "\n"
   ]
  },
  {
   "cell_type": "code",
   "execution_count": 49,
   "id": "5a4fa783-893d-4426-907b-8e0ca8b60c18",
   "metadata": {},
   "outputs": [],
   "source": [
    "# p-value > 0.05 => 귀무가설 채택"
   ]
  },
  {
   "cell_type": "code",
   "execution_count": 51,
   "id": "9f87e3d6-2e0b-42a4-90dd-ec5561f6d963",
   "metadata": {},
   "outputs": [],
   "source": [
    "# 따라서 t-test를 수행"
   ]
  },
  {
   "cell_type": "code",
   "execution_count": 57,
   "id": "d3339549-5e0e-4bbe-b2c6-06716c02431a",
   "metadata": {},
   "outputs": [
    {
     "data": {
      "text/plain": [
       "TtestResult(statistic=-0.08592110963765062, pvalue=0.9315294234984884, df=58709.0)"
      ]
     },
     "execution_count": 57,
     "metadata": {},
     "output_type": "execute_result"
    }
   ],
   "source": [
    "stats.ttest_ind(t1['Z1-OP1'], t2['Z1-OP1'], equal_var = True )\n",
    "# 등분산인 경우 eqal_val = True\n",
    "# 등분산인 아닌경우 eqal_val = False\n"
   ]
  },
  {
   "cell_type": "code",
   "execution_count": 59,
   "id": "1df5f1ba-7e1f-4b58-ab9f-d41ece819e9b",
   "metadata": {},
   "outputs": [],
   "source": [
    "# 귀무가설을 채택 p-value > 0.05\n",
    "# 따라서 Group D / C 의 건조온도출력량은 통계적으로 유의미한 차이가 없다"
   ]
  },
  {
   "cell_type": "code",
   "execution_count": 61,
   "id": "fb9c8ad2-47ae-40a6-b2a5-9f0c1de5a791",
   "metadata": {},
   "outputs": [],
   "source": [
    "# Code_Num : A / E /F\n",
    "cond1 = (df1['Code_Num'] == 'GroupA')\n",
    "cond2 = (df1['Code_Num'] == 'GroupE')\n",
    "cond3 = (df1['Code_Num'] == 'GroupF')\n",
    "\n",
    "t1 = df1.loc[cond1] # GroupA\n",
    "t2 = df1.loc[cond2] # GroupE\n",
    "t3 = df1.loc[cond3] # GroupF"
   ]
  },
  {
   "cell_type": "code",
   "execution_count": 128,
   "id": "ad6a861b-d1ea-48a4-a381-ec7d8009e3d5",
   "metadata": {},
   "outputs": [
    {
     "name": "stdout",
     "output_type": "stream",
     "text": [
      "NormaltestResult(statistic=3.671411795679153, pvalue=0.1595008706997435)\n",
      "NormaltestResult(statistic=3.1395858023119314, pvalue=0.20808827273562336)\n",
      "NormaltestResult(statistic=0.37943212967748347, pvalue=0.8271939700559496)\n",
      "\n"
     ]
    }
   ],
   "source": [
    "# Z1_OP1\n",
    "# 각 그룹의 정규성 확인\n",
    "print(stats.normaltest(t1['Z1-OP1']))\n",
    "print(stats.normaltest(t2['Z1-OP1']))\n",
    "print(stats.normaltest(t3['Z1-OP1']))\n",
    "\n",
    "print('')"
   ]
  },
  {
   "cell_type": "code",
   "execution_count": 65,
   "id": "c6e47979-f28f-4a15-8df1-74902369b6aa",
   "metadata": {},
   "outputs": [
    {
     "data": {
      "text/plain": [
       "BartlettResult(statistic=0.18947012176777617, pvalue=0.9096138948482111)"
      ]
     },
     "execution_count": 65,
     "metadata": {},
     "output_type": "execute_result"
    }
   ],
   "source": [
    "# 등분산 검정\n",
    "stats.bartlett(t1['Z1-OP1'] , t2['Z1-OP1'] , t3['Z1-OP1'])"
   ]
  },
  {
   "cell_type": "code",
   "execution_count": 67,
   "id": "c65a4c20-6956-44d6-b859-d3931d0e67fe",
   "metadata": {},
   "outputs": [],
   "source": [
    "# 귀무가설 : 집단 간 분산이 같다\n",
    "# p-value > 0.05\n",
    "# 따라서 귀무가설 채택\n",
    "# 결론 : A/E/F 그룹의 Z1-OP1의 분산은 통계적으로 같다"
   ]
  },
  {
   "cell_type": "code",
   "execution_count": 69,
   "id": "382f975d-cf93-41f4-9455-bb0e188d94f3",
   "metadata": {},
   "outputs": [
    {
     "data": {
      "text/plain": [
       "F_onewayResult(statistic=2.778701379940653, pvalue=0.06214337886623043)"
      ]
     },
     "execution_count": 69,
     "metadata": {},
     "output_type": "execute_result"
    }
   ],
   "source": [
    "# 세 집단 모두 등분산 \n",
    "# 세 집단이 통계적으로 유의미하게 다른가?\n",
    "stats.f_oneway(t1['Z1-OP1'] , t2['Z1-OP1'],t2['Z1-OP1'])\n",
    "\n",
    "# p-value > 0.05"
   ]
  },
  {
   "cell_type": "code",
   "execution_count": 71,
   "id": "fd1fcb6d-9096-42ce-9ba0-1356df9b4546",
   "metadata": {},
   "outputs": [],
   "source": [
    "# 결론 : A/E/F 그룹의 건조온도출력량에는 차이가 없다."
   ]
  },
  {
   "cell_type": "code",
   "execution_count": 73,
   "id": "63f82f52-9d02-4d30-9b4e-5df46ae88b7e",
   "metadata": {},
   "outputs": [],
   "source": [
    "# X Y의 상관성을 확인\n",
    "# X 연속형 / Y 연속형인 경우 상관성 확인\n",
    "# 두 개의 공정건조온도출력량은 서로 상관성이 있는가?"
   ]
  },
  {
   "cell_type": "code",
   "execution_count": 78,
   "id": "e6a75c0c-148e-4a84-bf8d-12d39862ba3a",
   "metadata": {},
   "outputs": [],
   "source": [
    "import plotly.express as px"
   ]
  },
  {
   "cell_type": "code",
   "execution_count": 122,
   "id": "39affd57-1647-46e5-a7c6-dedf5490e4ee",
   "metadata": {},
   "outputs": [],
   "source": [
    "# px.scatter(df1, x = 'Z1-OP1' , y = 'Z1-OP2' , trendline = 'ols')"
   ]
  },
  {
   "cell_type": "code",
   "execution_count": 82,
   "id": "114735a0-2a57-4de4-b504-d656895d9c3e",
   "metadata": {},
   "outputs": [
    {
     "data": {
      "text/plain": [
       "NormaltestResult(statistic=3.671411795679153, pvalue=0.1595008706997435)"
      ]
     },
     "execution_count": 82,
     "metadata": {},
     "output_type": "execute_result"
    }
   ],
   "source": [
    "# 가설검정\n",
    "stats.normaltest(t1['Z1-OP1'])"
   ]
  },
  {
   "cell_type": "code",
   "execution_count": 84,
   "id": "95c31ba2-b54d-453b-b650-f371e1eb6c56",
   "metadata": {},
   "outputs": [
    {
     "data": {
      "text/plain": [
       "NormaltestResult(statistic=1.6611632984801585, pvalue=0.43579573233240065)"
      ]
     },
     "execution_count": 84,
     "metadata": {},
     "output_type": "execute_result"
    }
   ],
   "source": [
    "stats.normaltest(t1['Z1-OP2'])"
   ]
  },
  {
   "cell_type": "code",
   "execution_count": 88,
   "id": "cc24ba21-027b-46ad-9b29-4b883be17244",
   "metadata": {},
   "outputs": [
    {
     "data": {
      "text/plain": [
       "PearsonRResult(statistic=-0.00242340319097993, pvalue=0.4597851757502812)"
      ]
     },
     "execution_count": 88,
     "metadata": {},
     "output_type": "execute_result"
    }
   ],
   "source": [
    "# 두 집단 모두 정규분포를 따름\n",
    "# 두 집단 모두 정규분포를 따를경우\n",
    "# pearson test 수행\n",
    "\n",
    "stats.pearsonr(df1['Z1-OP1'] , df1['Z1-OP2'])"
   ]
  },
  {
   "cell_type": "code",
   "execution_count": 90,
   "id": "813b3007-d67d-4de6-a06c-d6ad25197112",
   "metadata": {},
   "outputs": [],
   "source": [
    "# 귀무가설 : 상관성이 없다\n",
    "# 대립가설 : 상관성이 있다"
   ]
  },
  {
   "cell_type": "code",
   "execution_count": 92,
   "id": "da767724-8d32-4f16-bbd9-cae2dc86efb9",
   "metadata": {},
   "outputs": [
    {
     "data": {
      "text/plain": [
       "NormaltestResult(statistic=46072.55461165357, pvalue=0.0)"
      ]
     },
     "execution_count": 92,
     "metadata": {},
     "output_type": "execute_result"
    }
   ],
   "source": [
    "# 상관성 확인 2\n",
    "# Tube_Furnace CP : 가스 침탄량\n",
    "# ST : 세정기 온도값\n",
    "\n",
    "stats.normaltest(df1['Tube Furnace CP'])\n",
    "# 정규분포를 따르지 않음"
   ]
  },
  {
   "cell_type": "code",
   "execution_count": 94,
   "id": "e05ae7c1-23a9-4e83-ac04-05995716df0f",
   "metadata": {},
   "outputs": [
    {
     "data": {
      "text/plain": [
       "NormaltestResult(statistic=nan, pvalue=nan)"
      ]
     },
     "execution_count": 94,
     "metadata": {},
     "output_type": "execute_result"
    }
   ],
   "source": [
    "stats.normaltest(df1['ST'])\n",
    "# nan은 결측값이 있다."
   ]
  },
  {
   "cell_type": "code",
   "execution_count": 100,
   "id": "f3ee7749-d021-4ae8-bdd3-d4c26849e29c",
   "metadata": {},
   "outputs": [
    {
     "data": {
      "text/plain": [
       "15"
      ]
     },
     "execution_count": 100,
     "metadata": {},
     "output_type": "execute_result"
    }
   ],
   "source": [
    "df1['ST'].isnull().sum()"
   ]
  },
  {
   "cell_type": "code",
   "execution_count": 102,
   "id": "bcec6414-4ddf-4eca-a54f-00626d5ff86e",
   "metadata": {},
   "outputs": [],
   "source": [
    "df1_clean = df1.dropna()"
   ]
  },
  {
   "cell_type": "code",
   "execution_count": 104,
   "id": "162c68b0-ee80-4962-af1c-8cf5de8ea3b2",
   "metadata": {},
   "outputs": [
    {
     "data": {
      "text/plain": [
       "NormaltestResult(statistic=45980.21679557492, pvalue=0.0)"
      ]
     },
     "execution_count": 104,
     "metadata": {},
     "output_type": "execute_result"
    }
   ],
   "source": [
    "# 결측값 제거후 가설검정\n",
    "stats.normaltest(df1_clean['Tube Furnace CP'])"
   ]
  },
  {
   "cell_type": "code",
   "execution_count": 108,
   "id": "fee202e1-3a6c-4e86-bdcc-92cdb099e01f",
   "metadata": {},
   "outputs": [
    {
     "data": {
      "text/plain": [
       "NormaltestResult(statistic=3427.6390518307962, pvalue=0.0)"
      ]
     },
     "execution_count": 108,
     "metadata": {},
     "output_type": "execute_result"
    }
   ],
   "source": [
    "stats.normaltest(df1_clean['ST'])\n",
    "# 정규화 따르지 않음"
   ]
  },
  {
   "cell_type": "code",
   "execution_count": 124,
   "id": "ac09d9d7-ceb3-4474-a6d7-def5be45b710",
   "metadata": {},
   "outputs": [],
   "source": [
    "# px.scatter(df1_clean, x = 'Tube Furnace CP' , y ='ST' , trendline = 'ols')\n",
    "# 시각적으로 봤을땐 상관성이 있어보인다 => 기울기가 있으니까"
   ]
  },
  {
   "cell_type": "code",
   "execution_count": 114,
   "id": "956680e5-ed00-47a6-8182-bd4f7621297e",
   "metadata": {},
   "outputs": [
    {
     "data": {
      "text/plain": [
       "SignificanceResult(statistic=-0.0083096008162668, pvalue=0.011341012934082387)"
      ]
     },
     "execution_count": 114,
     "metadata": {},
     "output_type": "execute_result"
    }
   ],
   "source": [
    "# 두 집단이 정규분포를 따르지 안흥ㄹ 경우의 상관성\n",
    "# spearman\n",
    "stats.spearmanr(df1_clean['Tube Furnace CP'] , df1_clean['ST'])\n",
    "# 상관성 -0.008 , p-value < 0.05"
   ]
  },
  {
   "cell_type": "code",
   "execution_count": 116,
   "id": "404458f3-118b-44c1-98d3-3852d66f0610",
   "metadata": {},
   "outputs": [],
   "source": [
    "# 두 연속형 자료는 상관성이 있음 "
   ]
  },
  {
   "cell_type": "markdown",
   "id": "793d9f66-9098-4cf0-8719-0dcd7f79cc8f",
   "metadata": {},
   "source": [
    "# 두 집단 비교 과정\n",
    "1. 정규성 검증 (normaltest)\n",
    "2. p-value > 0.05 => 정규분포 O (귀무가설 채택)\n",
    "3. p-value < 0.05 => 정규분포 X (대립가설 채택)\n",
    "4. 두 집단 모두 정규분포 pearson\n",
    "5. 두 집단 모두 정규분포가 아닐경우 Spearman\n",
    "6. 상관성을 보고싶을때 (자료가 연속형/연속형 일경우) Spearman\n",
    "7. 두 자료간의 유의미한 관계가 있는지 보고싶을경우 Ranksum"
   ]
  },
  {
   "cell_type": "code",
   "execution_count": null,
   "id": "1adc4330-6d62-462f-8cc3-671de59ccb01",
   "metadata": {},
   "outputs": [],
   "source": []
  }
 ],
 "metadata": {
  "kernelspec": {
   "display_name": "Python 3 (ipykernel)",
   "language": "python",
   "name": "python3"
  },
  "language_info": {
   "codemirror_mode": {
    "name": "ipython",
    "version": 3
   },
   "file_extension": ".py",
   "mimetype": "text/x-python",
   "name": "python",
   "nbconvert_exporter": "python",
   "pygments_lexer": "ipython3",
   "version": "3.11.7"
  }
 },
 "nbformat": 4,
 "nbformat_minor": 5
}
