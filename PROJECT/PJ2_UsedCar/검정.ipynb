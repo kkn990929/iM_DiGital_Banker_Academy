{
 "cells": [
  {
   "cell_type": "markdown",
   "id": "d4a4edcd-a5fa-4741-ae78-760ef12b5aab",
   "metadata": {},
   "source": [
    "# 검정"
   ]
  },
  {
   "cell_type": "code",
   "execution_count": 10,
   "id": "1bff06cb-12c8-49b3-ae84-e9e1bbd25d5c",
   "metadata": {},
   "outputs": [],
   "source": [
    "# df1 = df[df['SHEARinLT_label'] == 'high']['temp']\n",
    "# df2 = df[df['SHEARinLT_label'] == 'low']['temp']\n",
    "# # ttest를 위한 등분산성 검정\n",
    "# stats, p = bartlett(df1, df2)\n",
    "# print('등분산성')\n",
    "# print(f'통계량 : {stats.round(3)}')\n",
    "# print(f'p-value : {p.round(3)}') # 이분산이다.\n",
    "# t_result = ttest_ind(df1,df2, equal_var = False)\n",
    "# t,p = t_result\n",
    "# print('2-sample t-test')\n",
    "# print(f't통계량 : {t}')\n",
    "# print(f'p-value : {p}') # 시간이 적게 걸리면 온도가 높음."
   ]
  },
  {
   "cell_type": "code",
   "execution_count": 12,
   "id": "259dc631-c240-4c27-90dd-7016d38690f3",
   "metadata": {},
   "outputs": [],
   "source": [
    "import pandas as pd\n",
    "import numpy as np\n",
    "import matplotlib\n",
    "%matplotlib inline\n",
    "import matplotlib.pyplot as plt\n",
    "import seaborn as sns\n",
    "import warnings\n",
    "matplotlib.rc('font', family = 'Malgun Gothic')\n",
    "matplotlib.rc('axes', unicode_minus=False)\n",
    "warnings.filterwarnings('ignore')"
   ]
  },
  {
   "cell_type": "code",
   "execution_count": 21,
   "id": "714f05b4-ee8d-4c6f-9ecd-fb45ff6fd0da",
   "metadata": {},
   "outputs": [],
   "source": [
    "df = pd.read_csv('data_dummies.csv')"
   ]
  },
  {
   "cell_type": "code",
   "execution_count": 23,
   "id": "cce0ba35-a096-40d6-948e-a287f1408d9c",
   "metadata": {},
   "outputs": [
    {
     "data": {
      "text/html": [
       "<div>\n",
       "<style scoped>\n",
       "    .dataframe tbody tr th:only-of-type {\n",
       "        vertical-align: middle;\n",
       "    }\n",
       "\n",
       "    .dataframe tbody tr th {\n",
       "        vertical-align: top;\n",
       "    }\n",
       "\n",
       "    .dataframe thead th {\n",
       "        text-align: right;\n",
       "    }\n",
       "</style>\n",
       "<table border=\"1\" class=\"dataframe\">\n",
       "  <thead>\n",
       "    <tr style=\"text-align: right;\">\n",
       "      <th></th>\n",
       "      <th>Unnamed: 0.1</th>\n",
       "      <th>Unnamed: 0</th>\n",
       "      <th>Name</th>\n",
       "      <th>Location</th>\n",
       "      <th>Price</th>\n",
       "      <th>Year</th>\n",
       "      <th>Kilometers_Driven</th>\n",
       "      <th>Fuel_Type</th>\n",
       "      <th>Transmission</th>\n",
       "      <th>Owner_Type</th>\n",
       "      <th>Mileage</th>\n",
       "      <th>Engine</th>\n",
       "      <th>Power</th>\n",
       "      <th>Seats</th>\n",
       "      <th>Mileage_new</th>\n",
       "      <th>Brand</th>\n",
       "      <th>Name_new</th>\n",
       "      <th>Brand_new</th>\n",
       "      <th>location_label</th>\n",
       "    </tr>\n",
       "  </thead>\n",
       "  <tbody>\n",
       "    <tr>\n",
       "      <th>0</th>\n",
       "      <td>0</td>\n",
       "      <td>0</td>\n",
       "      <td>Maruti Wagon R LXI CNG</td>\n",
       "      <td>Mumbai</td>\n",
       "      <td>2682.68</td>\n",
       "      <td>2007_2012</td>\n",
       "      <td>72000</td>\n",
       "      <td>Others</td>\n",
       "      <td>Manual</td>\n",
       "      <td>First</td>\n",
       "      <td>26.60</td>\n",
       "      <td>998</td>\n",
       "      <td>58.16</td>\n",
       "      <td>Others</td>\n",
       "      <td>38.00</td>\n",
       "      <td>Maruti</td>\n",
       "      <td>Wagon R LXI CNG</td>\n",
       "      <td>1</td>\n",
       "      <td>location_big</td>\n",
       "    </tr>\n",
       "    <tr>\n",
       "      <th>1</th>\n",
       "      <td>1</td>\n",
       "      <td>1</td>\n",
       "      <td>Hyundai Creta 1.6 CRDi SX Option</td>\n",
       "      <td>Pune</td>\n",
       "      <td>19162.00</td>\n",
       "      <td>2014_2016</td>\n",
       "      <td>41000</td>\n",
       "      <td>Diesel</td>\n",
       "      <td>Manual</td>\n",
       "      <td>First</td>\n",
       "      <td>19.67</td>\n",
       "      <td>1582</td>\n",
       "      <td>126.20</td>\n",
       "      <td>Others</td>\n",
       "      <td>19.67</td>\n",
       "      <td>Hyundai</td>\n",
       "      <td>Creta 1.6 CRDi SX Option</td>\n",
       "      <td>1</td>\n",
       "      <td>location_small</td>\n",
       "    </tr>\n",
       "    <tr>\n",
       "      <th>2</th>\n",
       "      <td>2</td>\n",
       "      <td>2</td>\n",
       "      <td>Honda Jazz V</td>\n",
       "      <td>Chennai</td>\n",
       "      <td>6898.32</td>\n",
       "      <td>2007_2012</td>\n",
       "      <td>46000</td>\n",
       "      <td>Others</td>\n",
       "      <td>Manual</td>\n",
       "      <td>First</td>\n",
       "      <td>18.20</td>\n",
       "      <td>1199</td>\n",
       "      <td>88.70</td>\n",
       "      <td>Others</td>\n",
       "      <td>18.20</td>\n",
       "      <td>Honda</td>\n",
       "      <td>Jazz V</td>\n",
       "      <td>1</td>\n",
       "      <td>location_small</td>\n",
       "    </tr>\n",
       "    <tr>\n",
       "      <th>3</th>\n",
       "      <td>3</td>\n",
       "      <td>3</td>\n",
       "      <td>Maruti Ertiga VDI</td>\n",
       "      <td>Chennai</td>\n",
       "      <td>9197.76</td>\n",
       "      <td>2007_2012</td>\n",
       "      <td>87000</td>\n",
       "      <td>Diesel</td>\n",
       "      <td>Manual</td>\n",
       "      <td>First</td>\n",
       "      <td>20.77</td>\n",
       "      <td>1248</td>\n",
       "      <td>88.76</td>\n",
       "      <td>7</td>\n",
       "      <td>20.77</td>\n",
       "      <td>Maruti</td>\n",
       "      <td>Ertiga VDI</td>\n",
       "      <td>1</td>\n",
       "      <td>location_small</td>\n",
       "    </tr>\n",
       "    <tr>\n",
       "      <th>4</th>\n",
       "      <td>4</td>\n",
       "      <td>4</td>\n",
       "      <td>Audi A4 New 2.0 TDI Multitronic</td>\n",
       "      <td>Coimbatore</td>\n",
       "      <td>27194.71</td>\n",
       "      <td>2013_2014</td>\n",
       "      <td>40670</td>\n",
       "      <td>Diesel</td>\n",
       "      <td>Automatic</td>\n",
       "      <td>Other</td>\n",
       "      <td>15.20</td>\n",
       "      <td>1968</td>\n",
       "      <td>140.80</td>\n",
       "      <td>Others</td>\n",
       "      <td>15.20</td>\n",
       "      <td>Audi</td>\n",
       "      <td>A4 New 2.0 TDI Multitronic</td>\n",
       "      <td>3</td>\n",
       "      <td>location_big</td>\n",
       "    </tr>\n",
       "  </tbody>\n",
       "</table>\n",
       "</div>"
      ],
      "text/plain": [
       "   Unnamed: 0.1  Unnamed: 0                              Name    Location  \\\n",
       "0             0           0            Maruti Wagon R LXI CNG      Mumbai   \n",
       "1             1           1  Hyundai Creta 1.6 CRDi SX Option        Pune   \n",
       "2             2           2                      Honda Jazz V     Chennai   \n",
       "3             3           3                 Maruti Ertiga VDI     Chennai   \n",
       "4             4           4   Audi A4 New 2.0 TDI Multitronic  Coimbatore   \n",
       "\n",
       "      Price       Year  Kilometers_Driven Fuel_Type Transmission Owner_Type  \\\n",
       "0   2682.68  2007_2012              72000    Others       Manual      First   \n",
       "1  19162.00  2014_2016              41000    Diesel       Manual      First   \n",
       "2   6898.32  2007_2012              46000    Others       Manual      First   \n",
       "3   9197.76  2007_2012              87000    Diesel       Manual      First   \n",
       "4  27194.71  2013_2014              40670    Diesel    Automatic      Other   \n",
       "\n",
       "   Mileage  Engine   Power   Seats  Mileage_new    Brand  \\\n",
       "0    26.60     998   58.16  Others        38.00   Maruti   \n",
       "1    19.67    1582  126.20  Others        19.67  Hyundai   \n",
       "2    18.20    1199   88.70  Others        18.20    Honda   \n",
       "3    20.77    1248   88.76       7        20.77   Maruti   \n",
       "4    15.20    1968  140.80  Others        15.20     Audi   \n",
       "\n",
       "                     Name_new  Brand_new  location_label  \n",
       "0             Wagon R LXI CNG          1    location_big  \n",
       "1    Creta 1.6 CRDi SX Option          1  location_small  \n",
       "2                      Jazz V          1  location_small  \n",
       "3                  Ertiga VDI          1  location_small  \n",
       "4  A4 New 2.0 TDI Multitronic          3    location_big  "
      ]
     },
     "execution_count": 23,
     "metadata": {},
     "output_type": "execute_result"
    }
   ],
   "source": [
    "df.head()"
   ]
  },
  {
   "cell_type": "code",
   "execution_count": 49,
   "id": "b4b93454-3886-4de7-bd77-1612ddcc9642",
   "metadata": {},
   "outputs": [],
   "source": [
    "import pandas as pd\n",
    "import numpy as np\n",
    "import matplotlib.pyplot as plt\n",
    "from scipy import stats\n",
    "import seaborn as sns\n",
    "from statsmodels.stats.proportion import proportions_ztest\n",
    "from scipy.stats import ttest_ind\n",
    "from scipy.stats import bartlett\n",
    "from scipy.stats import f_oneway\n",
    "from scipy.stats import chi2_contingency\n",
    "from scipy.stats import pearsonr"
   ]
  },
  {
   "cell_type": "code",
   "execution_count": 128,
   "id": "ed7270f6-2a1a-4e15-bd14-d2d6d9d55f66",
   "metadata": {},
   "outputs": [
    {
     "name": "stdout",
     "output_type": "stream",
     "text": [
      "등분산성\n",
      "통계량 : 3305.635\n",
      "p값 : 0.0\n",
      "2-sample t-test\n",
      "t통계량 : -78.41741158229438\n",
      "p값 : 0.0\n"
     ]
    }
   ],
   "source": [
    "# Price와 Kilometers_Driven\n",
    "\n",
    "df1 = df['Price']\n",
    "df2 = df['Kilometers_Driven']\n",
    "stats, p = bartlett(df1, df2)\n",
    "# ttest 등분산 검정\n",
    "print('등분산성')\n",
    "print(f'통계량 : {stats.round(3)}')\n",
    "print(f'p값 : {p.round(3)}') # 이분산이다.\n",
    "t_result = ttest_ind(df1,df2, equal_var = False)\n",
    "t,p = t_result\n",
    "print('2-sample t-test')\n",
    "print(f't통계량 : {t}')\n",
    "print(f'p값 : {p}')\n",
    "\n",
    "# Price의 평균 과 Kilometers_Driven의 평균에는 차이가 있다\n",
    "# t 통계량이 음수가 나왔으므로, Kilometers_Driven의 값이 작아지면 Price의 값이 커진다"
   ]
  },
  {
   "cell_type": "code",
   "execution_count": 166,
   "id": "35390ddf-a9f3-42b8-94c1-9e770b9010ba",
   "metadata": {},
   "outputs": [
    {
     "data": {
      "text/plain": [
       "<Axes: xlabel='Location', ylabel='Kilometers_Driven'>"
      ]
     },
     "execution_count": 166,
     "metadata": {},
     "output_type": "execute_result"
    },
    {
     "data": {
      "image/png": "[encoded data removed]",
      "text/plain": [
       "<Figure size 640x480 with 1 Axes>"
      ]
     },
     "metadata": {},
     "output_type": "display_data"
    }
   ],
   "source": []
  },
  {
   "cell_type": "code",
   "execution_count": 45,
   "id": "c1a250f5-3bab-47ea-b743-4589983ba9df",
   "metadata": {},
   "outputs": [
    {
     "name": "stdout",
     "output_type": "stream",
     "text": [
      "카이제곱 통계량:  206.44008251916318\n",
      "p-값:  3.068676808382549e-28\n",
      "자유도:  30\n",
      "기대 빈도표: \n",
      " [[2.13119650e+02 1.18920840e+01 1.76317964e+00 2.25086763e-01]\n",
      " [3.32353991e+02 1.85453644e+01 2.74962816e+00 3.51016361e-01]\n",
      " [4.59099157e+02 2.56177491e+01 3.79821517e+00 4.84878532e-01]\n",
      " [6.15887622e+02 3.43665510e+01 5.09535614e+00 6.50470997e-01]\n",
      " [5.29513138e+02 2.95468518e+01 4.38076351e+00 5.59246406e-01]\n",
      " [6.87240456e+02 3.83480416e+01 5.68567179e+00 7.25830441e-01]\n",
      " [3.87746323e+02 2.16362585e+01 3.20789952e+00 4.09519088e-01]\n",
      " [6.27153859e+02 3.49952074e+01 5.18856387e+00 6.62369856e-01]\n",
      " [5.06980664e+02 2.82895389e+01 4.19434804e+00 5.35448686e-01]\n",
      " [7.52960172e+02 4.20152041e+01 6.22938357e+00 7.95240456e-01]\n",
      " [5.68944968e+02 3.17471492e+01 4.70699058e+00 6.00892414e-01]]\n",
      "귀무 가설 기각: Location과 Price는 유의미한 관계가 있습니다.\n"
     ]
    }
   ],
   "source": [
    "# Price와 Location \n",
    "# Price를 4단계로 나누어서 검정\n",
    "\n",
    "price_labels = ['Low', 'Mid-Low', 'Mid-High', 'High']\n",
    "df['Price_Category'] = pd.cut(df['Price'], bins=4, labels=price_labels)\n",
    "\n",
    "# 피벗 테이블 생성 (Location과 Price_Category)\n",
    "contingency_table = pd.crosstab(df['Location'], df['Price_Category'])\n",
    "\n",
    "# 카이제곱 검정 수행\n",
    "chi2, p, dof, expected = stats.chi2_contingency(contingency_table)\n",
    "\n",
    "# 결과 출력\n",
    "print(\"카이제곱 통계량: \", chi2)\n",
    "print(\"p-값: \", p)\n",
    "print(\"자유도: \", dof)\n",
    "print(\"기대 빈도표: \\n\", expected)\n",
    "\n",
    "# 결과 해석\n",
    "if p < 0.05:\n",
    "    print(\"귀무 가설 기각: Location과 Price는 유의미한 관계가 있습니다.\")\n",
    "else:\n",
    "    print(\"귀무 가설 채택: Location과 Price는 유의미한 관계가 없습니다.\")"
   ]
  },
  {
   "cell_type": "code",
   "execution_count": 168,
   "id": "8711e5ed-6302-42ee-be23-f51254860f74",
   "metadata": {},
   "outputs": [
    {
     "name": "stdout",
     "output_type": "stream",
     "text": [
      "등분산성\n",
      "통계량 : 91442.209\n",
      "p값 : 0.0\n",
      "2-sample t-test\n",
      "t통계량 : 66.74986963061438\n",
      "p값 : 0.0\n"
     ]
    }
   ],
   "source": [
    "# Price와 Mileage_new\n",
    "\n",
    "df1 = df['Price']\n",
    "df2 = df['Mileage_new']\n",
    "stats, p = bartlett(df1, df2)\n",
    "# ttest 등분산 검정\n",
    "print('등분산성')\n",
    "print(f'통계량 : {stats.round(3)}')\n",
    "print(f'p값 : {p.round(3)}') # 이분산이다.\n",
    "t_result = ttest_ind(df1,df2, equal_var = False)\n",
    "t,p = t_result\n",
    "print('2-sample t-test')\n",
    "print(f't통계량 : {t}')\n",
    "print(f'p값 : {p}')\n",
    "\n",
    "# Price의 평균 과 Mileage_new의 평균에는 차이가 있다\n",
    "# t 통계량이 양수가 나왔으므로, Mileage_new의 값이 커질수록 Price가 높아진다"
   ]
  },
  {
   "cell_type": "code",
   "execution_count": 230,
   "id": "1862a169-7af6-4527-910f-563eb0b9d560",
   "metadata": {},
   "outputs": [
    {
     "ename": "KeyboardInterrupt",
     "evalue": "",
     "output_type": "error",
     "traceback": [
      "\u001b[1;31m---------------------------------------------------------------------------\u001b[0m",
      "\u001b[1;31mKeyboardInterrupt\u001b[0m                         Traceback (most recent call last)",
      "Cell \u001b[1;32mIn[230], line 1\u001b[0m\n\u001b[1;32m----> 1\u001b[0m crosstab\u001b[38;5;241m.\u001b[39mplot(kind\u001b[38;5;241m=\u001b[39m\u001b[38;5;124m'\u001b[39m\u001b[38;5;124mbar\u001b[39m\u001b[38;5;124m'\u001b[39m, width\u001b[38;5;241m=\u001b[39m\u001b[38;5;241m0.8\u001b[39m)\n",
      "File \u001b[1;32m~\\anaconda3\\Lib\\site-packages\\pandas\\plotting\\_core.py:1030\u001b[0m, in \u001b[0;36mPlotAccessor.__call__\u001b[1;34m(self, *args, **kwargs)\u001b[0m\n\u001b[0;32m   1027\u001b[0m             label_name \u001b[38;5;241m=\u001b[39m label_kw \u001b[38;5;129;01mor\u001b[39;00m data\u001b[38;5;241m.\u001b[39mcolumns\n\u001b[0;32m   1028\u001b[0m             data\u001b[38;5;241m.\u001b[39mcolumns \u001b[38;5;241m=\u001b[39m label_name\n\u001b[1;32m-> 1030\u001b[0m \u001b[38;5;28;01mreturn\u001b[39;00m plot_backend\u001b[38;5;241m.\u001b[39mplot(data, kind\u001b[38;5;241m=\u001b[39mkind, \u001b[38;5;241m*\u001b[39m\u001b[38;5;241m*\u001b[39mkwargs)\n",
      "File \u001b[1;32m~\\anaconda3\\Lib\\site-packages\\pandas\\plotting\\_matplotlib\\__init__.py:71\u001b[0m, in \u001b[0;36mplot\u001b[1;34m(data, kind, **kwargs)\u001b[0m\n\u001b[0;32m     69\u001b[0m         kwargs[\u001b[38;5;124m\"\u001b[39m\u001b[38;5;124max\u001b[39m\u001b[38;5;124m\"\u001b[39m] \u001b[38;5;241m=\u001b[39m \u001b[38;5;28mgetattr\u001b[39m(ax, \u001b[38;5;124m\"\u001b[39m\u001b[38;5;124mleft_ax\u001b[39m\u001b[38;5;124m\"\u001b[39m, ax)\n\u001b[0;32m     70\u001b[0m plot_obj \u001b[38;5;241m=\u001b[39m PLOT_CLASSES[kind](data, \u001b[38;5;241m*\u001b[39m\u001b[38;5;241m*\u001b[39mkwargs)\n\u001b[1;32m---> 71\u001b[0m plot_obj\u001b[38;5;241m.\u001b[39mgenerate()\n\u001b[0;32m     72\u001b[0m plot_obj\u001b[38;5;241m.\u001b[39mdraw()\n\u001b[0;32m     73\u001b[0m \u001b[38;5;28;01mreturn\u001b[39;00m plot_obj\u001b[38;5;241m.\u001b[39mresult\n",
      "File \u001b[1;32m~\\anaconda3\\Lib\\site-packages\\pandas\\plotting\\_matplotlib\\core.py:501\u001b[0m, in \u001b[0;36mMPLPlot.generate\u001b[1;34m(self)\u001b[0m\n\u001b[0;32m    499\u001b[0m \u001b[38;5;28mself\u001b[39m\u001b[38;5;241m.\u001b[39m_compute_plot_data()\n\u001b[0;32m    500\u001b[0m fig \u001b[38;5;241m=\u001b[39m \u001b[38;5;28mself\u001b[39m\u001b[38;5;241m.\u001b[39mfig\n\u001b[1;32m--> 501\u001b[0m \u001b[38;5;28mself\u001b[39m\u001b[38;5;241m.\u001b[39m_make_plot(fig)\n\u001b[0;32m    502\u001b[0m \u001b[38;5;28mself\u001b[39m\u001b[38;5;241m.\u001b[39m_add_table()\n\u001b[0;32m    503\u001b[0m \u001b[38;5;28mself\u001b[39m\u001b[38;5;241m.\u001b[39m_make_legend()\n",
      "File \u001b[1;32m~\\anaconda3\\Lib\\site-packages\\pandas\\plotting\\_matplotlib\\core.py:1948\u001b[0m, in \u001b[0;36mBarPlot._make_plot\u001b[1;34m(self, fig)\u001b[0m\n\u001b[0;32m   1946\u001b[0m \u001b[38;5;28;01melse\u001b[39;00m:\n\u001b[0;32m   1947\u001b[0m     w \u001b[38;5;241m=\u001b[39m \u001b[38;5;28mself\u001b[39m\u001b[38;5;241m.\u001b[39mbar_width \u001b[38;5;241m/\u001b[39m K\n\u001b[1;32m-> 1948\u001b[0m     rect \u001b[38;5;241m=\u001b[39m \u001b[38;5;28mself\u001b[39m\u001b[38;5;241m.\u001b[39m_plot(\n\u001b[0;32m   1949\u001b[0m         ax,\n\u001b[0;32m   1950\u001b[0m         \u001b[38;5;28mself\u001b[39m\u001b[38;5;241m.\u001b[39max_pos \u001b[38;5;241m+\u001b[39m (i \u001b[38;5;241m+\u001b[39m \u001b[38;5;241m0.5\u001b[39m) \u001b[38;5;241m*\u001b[39m w,\n\u001b[0;32m   1951\u001b[0m         y,\n\u001b[0;32m   1952\u001b[0m         w,\n\u001b[0;32m   1953\u001b[0m         start\u001b[38;5;241m=\u001b[39mstart,\n\u001b[0;32m   1954\u001b[0m         label\u001b[38;5;241m=\u001b[39mlabel,\n\u001b[0;32m   1955\u001b[0m         log\u001b[38;5;241m=\u001b[39m\u001b[38;5;28mself\u001b[39m\u001b[38;5;241m.\u001b[39mlog,\n\u001b[0;32m   1956\u001b[0m         \u001b[38;5;241m*\u001b[39m\u001b[38;5;241m*\u001b[39mkwds,\n\u001b[0;32m   1957\u001b[0m     )\n\u001b[0;32m   1958\u001b[0m \u001b[38;5;28mself\u001b[39m\u001b[38;5;241m.\u001b[39m_append_legend_handles_labels(rect, label)\n",
      "File \u001b[1;32m~\\anaconda3\\Lib\\site-packages\\pandas\\plotting\\_matplotlib\\core.py:1878\u001b[0m, in \u001b[0;36mBarPlot._plot\u001b[1;34m(cls, ax, x, y, w, start, log, **kwds)\u001b[0m\n\u001b[0;32m   1867\u001b[0m \u001b[38;5;129m@classmethod\u001b[39m\n\u001b[0;32m   1868\u001b[0m \u001b[38;5;28;01mdef\u001b[39;00m \u001b[38;5;21m_plot\u001b[39m(  \u001b[38;5;66;03m# type: ignore[override]\u001b[39;00m\n\u001b[0;32m   1869\u001b[0m     \u001b[38;5;28mcls\u001b[39m,\n\u001b[1;32m   (...)\u001b[0m\n\u001b[0;32m   1876\u001b[0m     \u001b[38;5;241m*\u001b[39m\u001b[38;5;241m*\u001b[39mkwds,\n\u001b[0;32m   1877\u001b[0m ):\n\u001b[1;32m-> 1878\u001b[0m     \u001b[38;5;28;01mreturn\u001b[39;00m ax\u001b[38;5;241m.\u001b[39mbar(x, y, w, bottom\u001b[38;5;241m=\u001b[39mstart, log\u001b[38;5;241m=\u001b[39mlog, \u001b[38;5;241m*\u001b[39m\u001b[38;5;241m*\u001b[39mkwds)\n",
      "File \u001b[1;32m~\\anaconda3\\Lib\\site-packages\\matplotlib\\__init__.py:1465\u001b[0m, in \u001b[0;36m_preprocess_data.<locals>.inner\u001b[1;34m(ax, data, *args, **kwargs)\u001b[0m\n\u001b[0;32m   1462\u001b[0m \u001b[38;5;129m@functools\u001b[39m\u001b[38;5;241m.\u001b[39mwraps(func)\n\u001b[0;32m   1463\u001b[0m \u001b[38;5;28;01mdef\u001b[39;00m \u001b[38;5;21minner\u001b[39m(ax, \u001b[38;5;241m*\u001b[39margs, data\u001b[38;5;241m=\u001b[39m\u001b[38;5;28;01mNone\u001b[39;00m, \u001b[38;5;241m*\u001b[39m\u001b[38;5;241m*\u001b[39mkwargs):\n\u001b[0;32m   1464\u001b[0m     \u001b[38;5;28;01mif\u001b[39;00m data \u001b[38;5;129;01mis\u001b[39;00m \u001b[38;5;28;01mNone\u001b[39;00m:\n\u001b[1;32m-> 1465\u001b[0m         \u001b[38;5;28;01mreturn\u001b[39;00m func(ax, \u001b[38;5;241m*\u001b[39m\u001b[38;5;28mmap\u001b[39m(sanitize_sequence, args), \u001b[38;5;241m*\u001b[39m\u001b[38;5;241m*\u001b[39mkwargs)\n\u001b[0;32m   1467\u001b[0m     bound \u001b[38;5;241m=\u001b[39m new_sig\u001b[38;5;241m.\u001b[39mbind(ax, \u001b[38;5;241m*\u001b[39margs, \u001b[38;5;241m*\u001b[39m\u001b[38;5;241m*\u001b[39mkwargs)\n\u001b[0;32m   1468\u001b[0m     auto_label \u001b[38;5;241m=\u001b[39m (bound\u001b[38;5;241m.\u001b[39marguments\u001b[38;5;241m.\u001b[39mget(label_namer)\n\u001b[0;32m   1469\u001b[0m                   \u001b[38;5;129;01mor\u001b[39;00m bound\u001b[38;5;241m.\u001b[39mkwargs\u001b[38;5;241m.\u001b[39mget(label_namer))\n",
      "File \u001b[1;32m~\\anaconda3\\Lib\\site-packages\\matplotlib\\axes\\_axes.py:2534\u001b[0m, in \u001b[0;36mAxes.bar\u001b[1;34m(self, x, height, width, bottom, align, **kwargs)\u001b[0m\n\u001b[0;32m   2532\u001b[0m     \u001b[38;5;28;01melse\u001b[39;00m:  \u001b[38;5;66;03m# horizontal\u001b[39;00m\n\u001b[0;32m   2533\u001b[0m         r\u001b[38;5;241m.\u001b[39msticky_edges\u001b[38;5;241m.\u001b[39mx\u001b[38;5;241m.\u001b[39mappend(l)\n\u001b[1;32m-> 2534\u001b[0m     \u001b[38;5;28mself\u001b[39m\u001b[38;5;241m.\u001b[39madd_patch(r)\n\u001b[0;32m   2535\u001b[0m     patches\u001b[38;5;241m.\u001b[39mappend(r)\n\u001b[0;32m   2537\u001b[0m \u001b[38;5;28;01mif\u001b[39;00m xerr \u001b[38;5;129;01mis\u001b[39;00m \u001b[38;5;129;01mnot\u001b[39;00m \u001b[38;5;28;01mNone\u001b[39;00m \u001b[38;5;129;01mor\u001b[39;00m yerr \u001b[38;5;129;01mis\u001b[39;00m \u001b[38;5;129;01mnot\u001b[39;00m \u001b[38;5;28;01mNone\u001b[39;00m:\n",
      "File \u001b[1;32m~\\anaconda3\\Lib\\site-packages\\matplotlib\\axes\\_base.py:2383\u001b[0m, in \u001b[0;36m_AxesBase.add_patch\u001b[1;34m(self, p)\u001b[0m\n\u001b[0;32m   2381\u001b[0m \u001b[38;5;28mself\u001b[39m\u001b[38;5;241m.\u001b[39m_set_artist_props(p)\n\u001b[0;32m   2382\u001b[0m \u001b[38;5;28;01mif\u001b[39;00m p\u001b[38;5;241m.\u001b[39mget_clip_path() \u001b[38;5;129;01mis\u001b[39;00m \u001b[38;5;28;01mNone\u001b[39;00m:\n\u001b[1;32m-> 2383\u001b[0m     p\u001b[38;5;241m.\u001b[39mset_clip_path(\u001b[38;5;28mself\u001b[39m\u001b[38;5;241m.\u001b[39mpatch)\n\u001b[0;32m   2384\u001b[0m \u001b[38;5;28mself\u001b[39m\u001b[38;5;241m.\u001b[39m_update_patch_limits(p)\n\u001b[0;32m   2385\u001b[0m \u001b[38;5;28mself\u001b[39m\u001b[38;5;241m.\u001b[39m_children\u001b[38;5;241m.\u001b[39mappend(p)\n",
      "File \u001b[1;32m~\\anaconda3\\Lib\\site-packages\\matplotlib\\artist.py:803\u001b[0m, in \u001b[0;36mArtist.set_clip_path\u001b[1;34m(self, path, transform)\u001b[0m\n\u001b[0;32m    800\u001b[0m \u001b[38;5;28;01mif\u001b[39;00m transform \u001b[38;5;129;01mis\u001b[39;00m \u001b[38;5;28;01mNone\u001b[39;00m:\n\u001b[0;32m    801\u001b[0m     \u001b[38;5;28;01mif\u001b[39;00m \u001b[38;5;28misinstance\u001b[39m(path, Rectangle):\n\u001b[0;32m    802\u001b[0m         \u001b[38;5;28mself\u001b[39m\u001b[38;5;241m.\u001b[39mclipbox \u001b[38;5;241m=\u001b[39m TransformedBbox(Bbox\u001b[38;5;241m.\u001b[39munit(),\n\u001b[1;32m--> 803\u001b[0m                                        path\u001b[38;5;241m.\u001b[39mget_transform())\n\u001b[0;32m    804\u001b[0m         \u001b[38;5;28mself\u001b[39m\u001b[38;5;241m.\u001b[39m_clippath \u001b[38;5;241m=\u001b[39m \u001b[38;5;28;01mNone\u001b[39;00m\n\u001b[0;32m    805\u001b[0m         success \u001b[38;5;241m=\u001b[39m \u001b[38;5;28;01mTrue\u001b[39;00m\n",
      "File \u001b[1;32m~\\anaconda3\\Lib\\site-packages\\matplotlib\\patches.py:261\u001b[0m, in \u001b[0;36mPatch.get_transform\u001b[1;34m(self)\u001b[0m\n\u001b[0;32m    259\u001b[0m \u001b[38;5;28;01mdef\u001b[39;00m \u001b[38;5;21mget_transform\u001b[39m(\u001b[38;5;28mself\u001b[39m):\n\u001b[0;32m    260\u001b[0m \u001b[38;5;250m    \u001b[39m\u001b[38;5;124;03m\"\"\"Return the `~.transforms.Transform` applied to the `Patch`.\"\"\"\u001b[39;00m\n\u001b[1;32m--> 261\u001b[0m     \u001b[38;5;28;01mreturn\u001b[39;00m \u001b[38;5;28mself\u001b[39m\u001b[38;5;241m.\u001b[39mget_patch_transform() \u001b[38;5;241m+\u001b[39m artist\u001b[38;5;241m.\u001b[39mArtist\u001b[38;5;241m.\u001b[39mget_transform(\u001b[38;5;28mself\u001b[39m)\n",
      "File \u001b[1;32m~\\anaconda3\\Lib\\site-packages\\matplotlib\\patches.py:760\u001b[0m, in \u001b[0;36mRectangle.get_patch_transform\u001b[1;34m(self)\u001b[0m\n\u001b[0;32m    757\u001b[0m \u001b[38;5;28;01melse\u001b[39;00m:\n\u001b[0;32m    758\u001b[0m     rotation_point \u001b[38;5;241m=\u001b[39m \u001b[38;5;28mself\u001b[39m\u001b[38;5;241m.\u001b[39mrotation_point\n\u001b[0;32m    759\u001b[0m \u001b[38;5;28;01mreturn\u001b[39;00m transforms\u001b[38;5;241m.\u001b[39mBboxTransformTo(bbox) \\\n\u001b[1;32m--> 760\u001b[0m         \u001b[38;5;241m+\u001b[39m transforms\u001b[38;5;241m.\u001b[39mAffine2D() \\\n\u001b[0;32m    761\u001b[0m         \u001b[38;5;241m.\u001b[39mtranslate(\u001b[38;5;241m-\u001b[39mrotation_point[\u001b[38;5;241m0\u001b[39m], \u001b[38;5;241m-\u001b[39mrotation_point[\u001b[38;5;241m1\u001b[39m]) \\\n\u001b[0;32m    762\u001b[0m         \u001b[38;5;241m.\u001b[39mscale(\u001b[38;5;241m1\u001b[39m, \u001b[38;5;28mself\u001b[39m\u001b[38;5;241m.\u001b[39m_aspect_ratio_correction) \\\n\u001b[0;32m    763\u001b[0m         \u001b[38;5;241m.\u001b[39mrotate_deg(\u001b[38;5;28mself\u001b[39m\u001b[38;5;241m.\u001b[39mangle) \\\n\u001b[0;32m    764\u001b[0m         \u001b[38;5;241m.\u001b[39mscale(\u001b[38;5;241m1\u001b[39m, \u001b[38;5;241m1\u001b[39m \u001b[38;5;241m/\u001b[39m \u001b[38;5;28mself\u001b[39m\u001b[38;5;241m.\u001b[39m_aspect_ratio_correction) \\\n\u001b[0;32m    765\u001b[0m         \u001b[38;5;241m.\u001b[39mtranslate(\u001b[38;5;241m*\u001b[39mrotation_point)\n",
      "File \u001b[1;32m~\\anaconda3\\Lib\\site-packages\\matplotlib\\transforms.py:1903\u001b[0m, in \u001b[0;36mAffine2D.__init__\u001b[1;34m(self, matrix, **kwargs)\u001b[0m\n\u001b[0;32m   1900\u001b[0m \u001b[38;5;28;01mif\u001b[39;00m matrix \u001b[38;5;129;01mis\u001b[39;00m \u001b[38;5;28;01mNone\u001b[39;00m:\n\u001b[0;32m   1901\u001b[0m     \u001b[38;5;66;03m# A bit faster than np.identity(3).\u001b[39;00m\n\u001b[0;32m   1902\u001b[0m     matrix \u001b[38;5;241m=\u001b[39m IdentityTransform\u001b[38;5;241m.\u001b[39m_mtx\n\u001b[1;32m-> 1903\u001b[0m \u001b[38;5;28mself\u001b[39m\u001b[38;5;241m.\u001b[39m_mtx \u001b[38;5;241m=\u001b[39m matrix\u001b[38;5;241m.\u001b[39mcopy()\n\u001b[0;32m   1904\u001b[0m \u001b[38;5;28mself\u001b[39m\u001b[38;5;241m.\u001b[39m_invalid \u001b[38;5;241m=\u001b[39m \u001b[38;5;241m0\u001b[39m\n",
      "\u001b[1;31mKeyboardInterrupt\u001b[0m: "
     ]
    },
    {
     "data": {
      "image/png": "[encoded data removed]",
      "text/plain": [
       "<Figure size 640x480 with 1 Axes>"
      ]
     },
     "metadata": {},
     "output_type": "display_data"
    }
   ],
   "source": [
    "crosstab.plot(kind='bar', width=0.8)"
   ]
  },
  {
   "cell_type": "code",
   "execution_count": 242,
   "id": "03ea727a-c26d-407a-b285-4906c929d1c0",
   "metadata": {},
   "outputs": [
    {
     "name": "stdout",
     "output_type": "stream",
     "text": [
      "카이제곱 통계량:  191.75943332361\n",
      "p-값:  8.413365028011642e-36\n",
      "자유도:  10\n",
      "기대 빈도표: \n",
      " [[121.95951082 105.04048918]\n",
      " [190.1923649  163.8076351 ]\n",
      " [262.72335151 226.27664849]\n",
      " [352.44686829 303.55313171]\n",
      " [303.01834408 260.98165592]\n",
      " [393.27912742 338.72087258]\n",
      " [221.89109238 191.10890762]\n",
      " [358.8940671  309.1059329 ]\n",
      " [290.12394646 249.87605354]\n",
      " [430.88778714 371.11221286]\n",
      " [325.58353991 280.41646009]]\n",
      "귀무 가설 기각: Location과 Fuel_Type는 유의미한 관계가 있습니다.\n"
     ]
    }
   ],
   "source": [
    "# Location과 Fuel_Type\n",
    "\n",
    "crosstab = pd.crosstab(df['Location'], df['Fuel_Type'])\n",
    "\n",
    "chi2, p, dof, expected = chi2_contingency(crosstab)\n",
    "\n",
    "print(\"카이제곱 통계량: \", chi2)\n",
    "print(\"p-값: \", p)\n",
    "print(\"자유도: \", dof)\n",
    "print(\"기대 빈도표: \\n\", expected)\n",
    "\n",
    "# 결과 해석\n",
    "if p < 0.05:\n",
    "    print(\"귀무 가설 기각: Location과 Fuel_Type는 유의미한 관계가 있습니다.\")\n",
    "else:\n",
    "    print(\"귀무 가설 채택: Location과 Fuel_Type는 유의미한 관계가 없습니다.\")"
   ]
  },
  {
   "cell_type": "code",
   "execution_count": 244,
   "id": "bda266a2-d8e2-49fe-8ab2-141031063471",
   "metadata": {},
   "outputs": [
    {
     "data": {
      "text/html": [
       "<div>\n",
       "<style scoped>\n",
       "    .dataframe tbody tr th:only-of-type {\n",
       "        vertical-align: middle;\n",
       "    }\n",
       "\n",
       "    .dataframe tbody tr th {\n",
       "        vertical-align: top;\n",
       "    }\n",
       "\n",
       "    .dataframe thead th {\n",
       "        text-align: right;\n",
       "    }\n",
       "</style>\n",
       "<table border=\"1\" class=\"dataframe\">\n",
       "  <thead>\n",
       "    <tr style=\"text-align: right;\">\n",
       "      <th>Fuel_Type</th>\n",
       "      <th>Diesel</th>\n",
       "      <th>Others</th>\n",
       "    </tr>\n",
       "    <tr>\n",
       "      <th>Location</th>\n",
       "      <th></th>\n",
       "      <th></th>\n",
       "    </tr>\n",
       "  </thead>\n",
       "  <tbody>\n",
       "    <tr>\n",
       "      <th>Ahmedabad</th>\n",
       "      <td>141</td>\n",
       "      <td>86</td>\n",
       "    </tr>\n",
       "    <tr>\n",
       "      <th>Bangalore</th>\n",
       "      <td>218</td>\n",
       "      <td>136</td>\n",
       "    </tr>\n",
       "    <tr>\n",
       "      <th>Chennai</th>\n",
       "      <td>292</td>\n",
       "      <td>197</td>\n",
       "    </tr>\n",
       "    <tr>\n",
       "      <th>Coimbatore</th>\n",
       "      <td>370</td>\n",
       "      <td>286</td>\n",
       "    </tr>\n",
       "    <tr>\n",
       "      <th>Delhi</th>\n",
       "      <td>313</td>\n",
       "      <td>251</td>\n",
       "    </tr>\n",
       "    <tr>\n",
       "      <th>Hyderabad</th>\n",
       "      <td>508</td>\n",
       "      <td>224</td>\n",
       "    </tr>\n",
       "    <tr>\n",
       "      <th>Jaipur</th>\n",
       "      <td>233</td>\n",
       "      <td>180</td>\n",
       "    </tr>\n",
       "    <tr>\n",
       "      <th>Kochi</th>\n",
       "      <td>309</td>\n",
       "      <td>359</td>\n",
       "    </tr>\n",
       "    <tr>\n",
       "      <th>Kolkata</th>\n",
       "      <td>261</td>\n",
       "      <td>279</td>\n",
       "    </tr>\n",
       "    <tr>\n",
       "      <th>Mumbai</th>\n",
       "      <td>320</td>\n",
       "      <td>482</td>\n",
       "    </tr>\n",
       "    <tr>\n",
       "      <th>Pune</th>\n",
       "      <td>286</td>\n",
       "      <td>320</td>\n",
       "    </tr>\n",
       "  </tbody>\n",
       "</table>\n",
       "</div>"
      ],
      "text/plain": [
       "Fuel_Type   Diesel  Others\n",
       "Location                  \n",
       "Ahmedabad      141      86\n",
       "Bangalore      218     136\n",
       "Chennai        292     197\n",
       "Coimbatore     370     286\n",
       "Delhi          313     251\n",
       "Hyderabad      508     224\n",
       "Jaipur         233     180\n",
       "Kochi          309     359\n",
       "Kolkata        261     279\n",
       "Mumbai         320     482\n",
       "Pune           286     320"
      ]
     },
     "execution_count": 244,
     "metadata": {},
     "output_type": "execute_result"
    }
   ],
   "source": [
    "crosstab"
   ]
  },
  {
   "cell_type": "code",
   "execution_count": 236,
   "id": "6ff0fdd0-7de8-465e-9c9b-8f242f3105b2",
   "metadata": {},
   "outputs": [
    {
     "data": {
      "text/plain": [
       "<Axes: xlabel='Location'>"
      ]
     },
     "execution_count": 236,
     "metadata": {},
     "output_type": "execute_result"
    },
    {
     "data": {
      "image/png": "[encoded data removed]",
      "text/plain": [
       "<Figure size 640x480 with 1 Axes>"
      ]
     },
     "metadata": {},
     "output_type": "display_data"
    }
   ],
   "source": [
    "crosstab.plot(kind='bar', width=0.8)"
   ]
  },
  {
   "cell_type": "code",
   "execution_count": 206,
   "id": "859f65ab-6941-414a-a1a5-1bc8b7535786",
   "metadata": {},
   "outputs": [
    {
     "name": "stdout",
     "output_type": "stream",
     "text": [
      "카이제곱 통계량:  217.9427413272588\n",
      "p-값:  2.880450358329784e-41\n",
      "자유도:  10\n",
      "기대 빈도표: \n",
      " [[ 65.38770451 161.61229549]\n",
      " [101.97025285 252.02974715]\n",
      " [140.85721368 348.14278632]\n",
      " [188.96182449 467.03817551]\n",
      " [162.46108081 401.53891919]\n",
      " [210.85374318 521.14625682]\n",
      " [118.96529499 294.03470501]\n",
      " [192.41844323 475.58155677]\n",
      " [155.54784333 384.45215667]\n",
      " [231.0173525  570.9826475 ]\n",
      " [174.55924641 431.44075359]]\n",
      "귀무 가설 기각: Location과 Transmission는 유의미한 관계가 있습니다.\n"
     ]
    }
   ],
   "source": [
    "# Location과 Seats\n",
    "\n",
    "crosstab = pd.crosstab(df['Location'], df['Transmission'])\n",
    "\n",
    "chi2, p, dof, expected = chi2_contingency(crosstab)\n",
    "\n",
    "print(\"카이제곱 통계량: \", chi2)\n",
    "print(\"p-값: \", p)\n",
    "print(\"자유도: \", dof)\n",
    "print(\"기대 빈도표: \\n\", expected)\n",
    "\n",
    "# 결과 해석\n",
    "if p < 0.05:\n",
    "    print(\"귀무 가설 기각: Location과 Transmission는 유의미한 관계가 있습니다.\")\n",
    "else:\n",
    "    print(\"귀무 가설 채택: Location과 Transmission는 유의미한 관계가 없습니다.\")"
   ]
  },
  {
   "cell_type": "code",
   "execution_count": 208,
   "id": "1fc35511-b79a-4c13-8b45-7b1e9dc8dce5",
   "metadata": {},
   "outputs": [
    {
     "data": {
      "text/plain": [
       "<Axes: xlabel='Location'>"
      ]
     },
     "execution_count": 208,
     "metadata": {},
     "output_type": "execute_result"
    },
    {
     "data": {
      "image/png": "[encoded data removed]",
      "text/plain": [
       "<Figure size 640x480 with 1 Axes>"
      ]
     },
     "metadata": {},
     "output_type": "display_data"
    }
   ],
   "source": [
    "crosstab.plot(kind='bar', width=0.8)"
   ]
  },
  {
   "cell_type": "code",
   "execution_count": 210,
   "id": "3b5e11fb-ebe5-4aa8-8d25-3b8ab9141943",
   "metadata": {},
   "outputs": [
    {
     "name": "stdout",
     "output_type": "stream",
     "text": [
      "카이제곱 통계량:  417.265264045144\n",
      "p-값:  1.984646416818297e-83\n",
      "자유도:  10\n",
      "기대 빈도표: \n",
      " [[187.68484548  39.31515452]\n",
      " [292.68914229  61.31085771]\n",
      " [404.30788299  84.69211701]\n",
      " [542.38439927 113.61560073]\n",
      " [466.3182945   97.6817055 ]\n",
      " [605.22161626 126.77838374]\n",
      " [341.47066601  71.52933399]\n",
      " [552.30606511 115.69393489]\n",
      " [446.47496282  93.52503718]\n",
      " [663.09800033 138.90199967]\n",
      " [501.04412494 104.95587506]]\n",
      "귀무 가설 기각: Location과 Owner_Type은 유의미한 관계가 있습니다.\n"
     ]
    }
   ],
   "source": [
    "# Location과 Owner_Type\n",
    "\n",
    "crosstab = pd.crosstab(df['Location'], df['Owner_Type'])\n",
    "\n",
    "chi2, p, dof, expected = chi2_contingency(crosstab)\n",
    "\n",
    "print(\"카이제곱 통계량: \", chi2)\n",
    "print(\"p-값: \", p)\n",
    "print(\"자유도: \", dof)\n",
    "print(\"기대 빈도표: \\n\", expected)\n",
    "\n",
    "# 결과 해석\n",
    "if p < 0.05:\n",
    "    print(\"귀무 가설 기각: Location과 Owner_Type은 유의미한 관계가 있습니다.\")\n",
    "else:\n",
    "    print(\"귀무 가설 채택: Location과 Owner_Type은 유의미한 관계가 없습니다.\")"
   ]
  },
  {
   "cell_type": "code",
   "execution_count": 212,
   "id": "1b7a622a-c415-44ce-b656-1a69adc9a630",
   "metadata": {},
   "outputs": [
    {
     "data": {
      "text/plain": [
       "<Axes: xlabel='Location'>"
      ]
     },
     "execution_count": 212,
     "metadata": {},
     "output_type": "execute_result"
    },
    {
     "data": {
      "image/png": "[encoded data removed]",
      "text/plain": [
       "<Figure size 640x480 with 1 Axes>"
      ]
     },
     "metadata": {},
     "output_type": "display_data"
    }
   ],
   "source": [
    "crosstab.plot(kind='bar', width=0.8)"
   ]
  },
  {
   "cell_type": "code",
   "execution_count": null,
   "id": "6ee6581f-9a08-410f-b27f-303db3506075",
   "metadata": {},
   "outputs": [],
   "source": []
  },
  {
   "cell_type": "code",
   "execution_count": 232,
   "id": "25768e75-6187-4d5b-804c-2e61ff62a21b",
   "metadata": {},
   "outputs": [
    {
     "name": "stdout",
     "output_type": "stream",
     "text": [
      "카이제곱 통계량:  61.56160895415952\n",
      "p-값:  0.0005932692777440208\n",
      "자유도:  30\n",
      "기대 빈도표: \n",
      " [[5.25202446e-01 3.82647496e+00 2.61475789e+01 1.96500744e+02]\n",
      " [8.19038176e-01 5.96727814e+00 4.07764006e+01 3.06437283e+02]\n",
      " [1.13138324e+00 8.24293505e+00 5.63267229e+01 4.23298959e+02]\n",
      " [1.51776566e+00 1.10580069e+01 7.55630474e+01 5.67861180e+02]\n",
      " [1.30490828e+00 9.50718889e+00 6.49657908e+01 4.88222112e+02]\n",
      " [1.69360436e+00 1.23391175e+01 8.43173029e+01 6.33649975e+02]\n",
      " [9.55544538e-01 6.96182449e+00 4.75724674e+01 3.57510164e+02]\n",
      " [1.54552966e+00 1.12602876e+01 7.69452983e+01 5.78248884e+02]\n",
      " [1.24938027e+00 9.10262766e+00 6.22012890e+01 4.67446703e+02]\n",
      " [1.85556106e+00 1.35190878e+01 9.23804330e+01 6.94244918e+02]\n",
      " [1.40208230e+00 1.02151710e+01 6.98036688e+01 5.24579078e+02]]\n",
      "귀무 가설 기각: Location과 Price는 유의미한 관계가 있습니다.\n"
     ]
    }
   ],
   "source": [
    "# Location과 Seats\n",
    "\n",
    "crosstab = pd.crosstab(df['Location'], df['Seats'])\n",
    "\n",
    "chi2, p, dof, expected = chi2_contingency(crosstab)\n",
    "\n",
    "print(\"카이제곱 통계량: \", chi2)\n",
    "print(\"p-값: \", p)\n",
    "print(\"자유도: \", dof)\n",
    "print(\"기대 빈도표: \\n\", expected)\n",
    "\n",
    "# 결과 해석\n",
    "if p < 0.05:\n",
    "    print(\"귀무 가설 기각: Location과 Price는 유의미한 관계가 있습니다.\")\n",
    "else:\n",
    "    print(\"귀무 가설 채택: Location과 Price는 유의미한 관계가 없습니다.\")\n",
    "\n",
    "# 근데 카이제곱 61이라 그렇게 독립적이지는 않은듯?"
   ]
  },
  {
   "cell_type": "code",
   "execution_count": 234,
   "id": "f510a311-fbfd-490a-ad49-d42e00c6df93",
   "metadata": {},
   "outputs": [
    {
     "data": {
      "text/html": [
       "<div>\n",
       "<style scoped>\n",
       "    .dataframe tbody tr th:only-of-type {\n",
       "        vertical-align: middle;\n",
       "    }\n",
       "\n",
       "    .dataframe tbody tr th {\n",
       "        vertical-align: top;\n",
       "    }\n",
       "\n",
       "    .dataframe thead th {\n",
       "        text-align: right;\n",
       "    }\n",
       "</style>\n",
       "<table border=\"1\" class=\"dataframe\">\n",
       "  <thead>\n",
       "    <tr style=\"text-align: right;\">\n",
       "      <th>Seats</th>\n",
       "      <th>2</th>\n",
       "      <th>4</th>\n",
       "      <th>7</th>\n",
       "      <th>Others</th>\n",
       "    </tr>\n",
       "    <tr>\n",
       "      <th>Location</th>\n",
       "      <th></th>\n",
       "      <th></th>\n",
       "      <th></th>\n",
       "      <th></th>\n",
       "    </tr>\n",
       "  </thead>\n",
       "  <tbody>\n",
       "    <tr>\n",
       "      <th>Ahmedabad</th>\n",
       "      <td>0</td>\n",
       "      <td>3</td>\n",
       "      <td>27</td>\n",
       "      <td>197</td>\n",
       "    </tr>\n",
       "    <tr>\n",
       "      <th>Bangalore</th>\n",
       "      <td>2</td>\n",
       "      <td>5</td>\n",
       "      <td>50</td>\n",
       "      <td>297</td>\n",
       "    </tr>\n",
       "    <tr>\n",
       "      <th>Chennai</th>\n",
       "      <td>0</td>\n",
       "      <td>5</td>\n",
       "      <td>51</td>\n",
       "      <td>433</td>\n",
       "    </tr>\n",
       "    <tr>\n",
       "      <th>Coimbatore</th>\n",
       "      <td>3</td>\n",
       "      <td>14</td>\n",
       "      <td>93</td>\n",
       "      <td>546</td>\n",
       "    </tr>\n",
       "    <tr>\n",
       "      <th>Delhi</th>\n",
       "      <td>3</td>\n",
       "      <td>10</td>\n",
       "      <td>90</td>\n",
       "      <td>461</td>\n",
       "    </tr>\n",
       "    <tr>\n",
       "      <th>Hyderabad</th>\n",
       "      <td>1</td>\n",
       "      <td>8</td>\n",
       "      <td>91</td>\n",
       "      <td>632</td>\n",
       "    </tr>\n",
       "    <tr>\n",
       "      <th>Jaipur</th>\n",
       "      <td>0</td>\n",
       "      <td>11</td>\n",
       "      <td>41</td>\n",
       "      <td>361</td>\n",
       "    </tr>\n",
       "    <tr>\n",
       "      <th>Kochi</th>\n",
       "      <td>2</td>\n",
       "      <td>16</td>\n",
       "      <td>69</td>\n",
       "      <td>581</td>\n",
       "    </tr>\n",
       "    <tr>\n",
       "      <th>Kolkata</th>\n",
       "      <td>3</td>\n",
       "      <td>5</td>\n",
       "      <td>34</td>\n",
       "      <td>498</td>\n",
       "    </tr>\n",
       "    <tr>\n",
       "      <th>Mumbai</th>\n",
       "      <td>0</td>\n",
       "      <td>15</td>\n",
       "      <td>86</td>\n",
       "      <td>701</td>\n",
       "    </tr>\n",
       "    <tr>\n",
       "      <th>Pune</th>\n",
       "      <td>0</td>\n",
       "      <td>10</td>\n",
       "      <td>65</td>\n",
       "      <td>531</td>\n",
       "    </tr>\n",
       "  </tbody>\n",
       "</table>\n",
       "</div>"
      ],
      "text/plain": [
       "Seats       2   4   7  Others\n",
       "Location                     \n",
       "Ahmedabad   0   3  27     197\n",
       "Bangalore   2   5  50     297\n",
       "Chennai     0   5  51     433\n",
       "Coimbatore  3  14  93     546\n",
       "Delhi       3  10  90     461\n",
       "Hyderabad   1   8  91     632\n",
       "Jaipur      0  11  41     361\n",
       "Kochi       2  16  69     581\n",
       "Kolkata     3   5  34     498\n",
       "Mumbai      0  15  86     701\n",
       "Pune        0  10  65     531"
      ]
     },
     "execution_count": 234,
     "metadata": {},
     "output_type": "execute_result"
    }
   ],
   "source": [
    "crosstab"
   ]
  },
  {
   "cell_type": "code",
   "execution_count": 217,
   "id": "1075d53d-a666-4316-be1c-5e21b589674b",
   "metadata": {},
   "outputs": [
    {
     "data": {
      "text/plain": [
       "<Axes: xlabel='Location'>"
      ]
     },
     "execution_count": 217,
     "metadata": {},
     "output_type": "execute_result"
    },
    {
     "data": {
      "image/png": "[encoded data removed]",
      "text/plain": [
       "<Figure size 640x480 with 1 Axes>"
      ]
     },
     "metadata": {},
     "output_type": "display_data"
    }
   ],
   "source": [
    "crosstab.plot(kind='bar', width=0.8)"
   ]
  },
  {
   "cell_type": "code",
   "execution_count": 250,
   "id": "362b326f-5b15-4753-9810-3fb36caee62d",
   "metadata": {},
   "outputs": [
    {
     "name": "stdout",
     "output_type": "stream",
     "text": [
      "카이제곱 통계량:  201.7473421343046\n",
      "p-값:  5.07566887189691e-32\n",
      "자유도:  20\n",
      "기대 빈도표: \n",
      " [[143.94298463  47.11816229  35.93885308]\n",
      " [224.47496282  73.47942489  56.0456123 ]\n",
      " [310.07982152 101.50123946  77.41893902]\n",
      " [415.97620228 136.16526194 103.85853578]\n",
      " [357.63807635 117.06891423  89.29300942]\n",
      " [464.16856718 151.9405057  115.89092712]\n",
      " [261.88745662  85.7259957   65.38654768]\n",
      " [423.58552305 138.6560899  105.75838704]\n",
      " [342.4194348  112.0872583   85.49330689]\n",
      " [508.55627169 166.47033548 126.97339283]\n",
      " [384.27069906 125.7868121   95.94248884]]\n",
      "귀무 가설 기각: Location과 Brand_new는 유의미한 관계가 있습니다.\n"
     ]
    }
   ],
   "source": [
    "# Location과 Brand_new\n",
    "\n",
    "crosstab = pd.crosstab(df['Location'], df['Brand_new'])\n",
    "\n",
    "chi2, p, dof, expected = chi2_contingency(crosstab)\n",
    "\n",
    "print(\"카이제곱 통계량: \", chi2)\n",
    "print(\"p-값: \", p)\n",
    "print(\"자유도: \", dof)\n",
    "print(\"기대 빈도표: \\n\", expected)\n",
    "\n",
    "# 결과 해석\n",
    "if p < 0.05:\n",
    "    print(\"귀무 가설 기각: Location과 Brand_new는 유의미한 관계가 있습니다.\")\n",
    "else:\n",
    "    print(\"귀무 가설 채택: Location과 Brand_new는 유의미한 관계가 없습니다.\")"
   ]
  },
  {
   "cell_type": "code",
   "execution_count": 223,
   "id": "f9d28d64-b24e-4163-825a-ed360e08be21",
   "metadata": {},
   "outputs": [
    {
     "data": {
      "text/plain": [
       "<Axes: xlabel='Location'>"
      ]
     },
     "execution_count": 223,
     "metadata": {},
     "output_type": "execute_result"
    },
    {
     "data": {
      "image/png": "[encoded data removed]",
      "text/plain": [
       "<Figure size 640x480 with 1 Axes>"
      ]
     },
     "metadata": {},
     "output_type": "display_data"
    }
   ],
   "source": [
    "crosstab.plot(kind='bar', width=0.8)"
   ]
  },
  {
   "cell_type": "code",
   "execution_count": 225,
   "id": "19759a9d-c866-4a57-91ac-921e4d56ceea",
   "metadata": {},
   "outputs": [
    {
     "name": "stdout",
     "output_type": "stream",
     "text": [
      "카이제곱 통계량:  20262.20428774366\n",
      "p-값:  2.9787721761253396e-20\n",
      "자유도:  18450\n",
      "기대 빈도표: \n",
      " [[0.07502892 0.03751446 0.11254338 ... 0.03751446 0.03751446 0.1875723 ]\n",
      " [0.11700545 0.05850273 0.17550818 ... 0.05850273 0.05850273 0.29251363]\n",
      " [0.16162618 0.08081309 0.24243927 ... 0.08081309 0.08081309 0.40406544]\n",
      " ...\n",
      " [0.1784829  0.08924145 0.26772434 ... 0.08924145 0.08924145 0.44620724]\n",
      " [0.26508015 0.13254008 0.39762023 ... 0.13254008 0.13254008 0.66270038]\n",
      " [0.20029747 0.10014874 0.30044621 ... 0.10014874 0.10014874 0.50074368]]\n",
      "귀무 가설 기각: Location과 Name_new는 유의미한 관계가 있습니다.\n"
     ]
    }
   ],
   "source": [
    "# Location과 Name_new\n",
    "\n",
    "crosstab = pd.crosstab(df['Location'], df['Name_new'])\n",
    "\n",
    "chi2, p, dof, expected = chi2_contingency(crosstab)\n",
    "\n",
    "print(\"카이제곱 통계량: \", chi2)\n",
    "print(\"p-값: \", p)\n",
    "print(\"자유도: \", dof)\n",
    "print(\"기대 빈도표: \\n\", expected)\n",
    "\n",
    "# 결과 해석\n",
    "if p < 0.05:\n",
    "    print(\"귀무 가설 기각: Location과 Name_new는 유의미한 관계가 있습니다.\")\n",
    "else:\n",
    "    print(\"귀무 가설 채택: Location과 Name_new는 유의미한 관계가 없습니다.\")"
   ]
  },
  {
   "cell_type": "code",
   "execution_count": null,
   "id": "250757c7-9498-4607-b138-8326856e7aee",
   "metadata": {},
   "outputs": [],
   "source": []
  },
  {
   "cell_type": "code",
   "execution_count": null,
   "id": "d85efc2d-7cee-48e4-8acf-ebc392df2b25",
   "metadata": {},
   "outputs": [],
   "source": [
    "\n",
    "# Location과 location_label\n",
    "\n",
    "crosstab = pd.crosstab(df['Location'], df['location_label'])\n",
    "\n",
    "chi2, p, dof, expected = chi2_contingency(crosstab)\n",
    "\n",
    "print(\"카이제곱 통계량: \", chi2)\n",
    "print(\"p-값: \", p)\n",
    "print(\"자유도: \", dof)\n",
    "print(\"기대 빈도표: \\n\", expected)\n",
    "\n",
    "# 결과 해석\n",
    "if p < 0.05:\n",
    "    print(\"귀무 가설 기각: Location과 location_label는 유의미한 관계가 있습니다.\")\n",
    "else:\n",
    "    print(\"귀무 가설 채택: Location과 location_label는유의미한 관계가 없습니다.\")"
   ]
  },
  {
   "cell_type": "code",
   "execution_count": null,
   "id": "14581ba4-894e-433e-9c25-0d8d7045f303",
   "metadata": {},
   "outputs": [],
   "source": [
    "crosstab.plot(kind='bar', width=0.8)"
   ]
  },
  {
   "cell_type": "code",
   "execution_count": null,
   "id": "38e68e01-51ac-4601-aa31-be7fb01ffa21",
   "metadata": {},
   "outputs": [],
   "source": []
  },
  {
   "cell_type": "code",
   "execution_count": null,
   "id": "b7b45408-882c-4d0c-a67f-73c984c7d6d0",
   "metadata": {},
   "outputs": [],
   "source": []
  }
 ],
 "metadata": {
  "kernelspec": {
   "display_name": "Python 3 (ipykernel)",
   "language": "python",
   "name": "python3"
  },
  "language_info": {
   "codemirror_mode": {
    "name": "ipython",
    "version": 3
   },
   "file_extension": ".py",
   "mimetype": "text/x-python",
   "name": "python",
   "nbconvert_exporter": "python",
   "pygments_lexer": "ipython3",
   "version": "3.11.7"
  }
 },
 "nbformat": 4,
 "nbformat_minor": 5
}
