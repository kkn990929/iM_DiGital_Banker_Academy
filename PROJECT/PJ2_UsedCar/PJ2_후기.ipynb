{
 "cells": [
  {
   "cell_type": "markdown",
   "id": "aa534bc4-1e09-4164-9006-f5b7621d07b5",
   "metadata": {},
   "source": [
    "### 추진배경 -> 이러이러하니까 시장 진입해서 수익성 확보하겠\n",
    "### 검정 결과값 제시후 유의미함 제시\n",
    "### 그래프 가시성\n",
    "### 데이터 분석결과 페이지에\n",
    "### 데이터 분석결과 ~ 하기 때문에 ~ 해야한다\n",
    "### 가독성 결과를 상위로 근거를 아래로\n",
    "### 현황, 배경에서 필요성 느낀 점은 개선안에 도출되어야 함\n"
   ]
  },
  {
   "cell_type": "code",
   "execution_count": 4,
   "id": "a0058f57-9f9b-4d06-afb9-0f56f450cace",
   "metadata": {},
   "outputs": [],
   "source": [
    "import pandas as pd"
   ]
  },
  {
   "cell_type": "code",
   "execution_count": null,
   "id": "060c732c-3577-4fcd-9164-67e32e357e8f",
   "metadata": {},
   "outputs": [],
   "source": []
  },
  {
   "cell_type": "code",
   "execution_count": null,
   "id": "25e96918-3d68-4e17-972f-7b421351e111",
   "metadata": {},
   "outputs": [],
   "source": []
  },
  {
   "cell_type": "code",
   "execution_count": 12,
   "id": "574272b1-f856-4a84-9612-8fb316321eb8",
   "metadata": {},
   "outputs": [
    {
     "data": {
      "text/plain": [
       "array(['CNG', 'Diesel', 'Petrol', 'LPG', 'Electric'], dtype=object)"
      ]
     },
     "execution_count": 12,
     "metadata": {},
     "output_type": "execute_result"
    }
   ],
   "source": []
  },
  {
   "cell_type": "code",
   "execution_count": null,
   "id": "3125e232-d5b4-44a3-9402-31832815a645",
   "metadata": {},
   "outputs": [],
   "source": []
  }
 ],
 "metadata": {
  "kernelspec": {
   "display_name": "Python 3 (ipykernel)",
   "language": "python",
   "name": "python3"
  },
  "language_info": {
   "codemirror_mode": {
    "name": "ipython",
    "version": 3
   },
   "file_extension": ".py",
   "mimetype": "text/x-python",
   "name": "python",
   "nbconvert_exporter": "python",
   "pygments_lexer": "ipython3",
   "version": "3.11.7"
  }
 },
 "nbformat": 4,
 "nbformat_minor": 5
}
