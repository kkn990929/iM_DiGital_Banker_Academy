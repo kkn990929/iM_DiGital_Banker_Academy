{
 "cells": [
  {
   "cell_type": "markdown",
   "id": "aa534bc4-1e09-4164-9006-f5b7621d07b5",
   "metadata": {},
   "source": [
    "### 추진배경 -> 이러이러하니까 시장 진입해서 수익성 확보하겠\n",
    "### 검정 결과값 제시후 유의미함 제시\n",
    "### 그래프 가시성\n",
    "### 데이터 분석결과 페이지에\n",
    "### 데이터 분석결과 ~ 하기 때문에 ~ 해야한다\n",
    "### 가독성 결과를 상위로 근거를 아래로\n"
   ]
  },
  {
   "cell_type": "code",
   "execution_count": 5,
   "id": "a0058f57-9f9b-4d06-afb9-0f56f450cace",
   "metadata": {},
   "outputs": [],
   "source": [
    "import pandas as pd"
   ]
  },
  {
   "cell_type": "code",
   "execution_count": 7,
   "id": "060c732c-3577-4fcd-9164-67e32e357e8f",
   "metadata": {},
   "outputs": [],
   "source": [
    "df = pd.read_csv('car_data.csv')"
   ]
  },
  {
   "cell_type": "code",
   "execution_count": 11,
   "id": "25e96918-3d68-4e17-972f-7b421351e111",
   "metadata": {},
   "outputs": [
    {
     "data": {
      "text/plain": [
       "Name                    0\n",
       "Location                0\n",
       "Price                1053\n",
       "Year                    0\n",
       "Kilometers_Driven       0\n",
       "Fuel_Type               0\n",
       "Transmission            0\n",
       "Owner_Type              0\n",
       "Mileage                 2\n",
       "Engine                 46\n",
       "Power                  46\n",
       "Seats                  53\n",
       "New_Price            6247\n",
       "dtype: int64"
      ]
     },
     "execution_count": 11,
     "metadata": {},
     "output_type": "execute_result"
    }
   ],
   "source": [
    "df.isnull().sum()"
   ]
  },
  {
   "cell_type": "code",
   "execution_count": null,
   "id": "574272b1-f856-4a84-9612-8fb316321eb8",
   "metadata": {},
   "outputs": [],
   "source": []
  }
 ],
 "metadata": {
  "kernelspec": {
   "display_name": "Python 3 (ipykernel)",
   "language": "python",
   "name": "python3"
  },
  "language_info": {
   "codemirror_mode": {
    "name": "ipython",
    "version": 3
   },
   "file_extension": ".py",
   "mimetype": "text/x-python",
   "name": "python",
   "nbconvert_exporter": "python",
   "pygments_lexer": "ipython3",
   "version": "3.11.7"
  }
 },
 "nbformat": 4,
 "nbformat_minor": 5
}
