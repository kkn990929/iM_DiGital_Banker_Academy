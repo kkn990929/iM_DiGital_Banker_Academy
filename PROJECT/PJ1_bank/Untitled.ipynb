{
 "cells": [
  {
   "cell_type": "markdown",
   "id": "928ec3b6-d409-401e-a709-9877130fd588",
   "metadata": {},
   "source": [
    "- 과제명, 추진배경, 현황 및 개선 기획(계획), 목표\n",
    "- 토론\n",
    "- 발표자료 생성(PPT) -> 발표\n",
    "\n",
    "\n",
    "- DATA set 특성 확인\n",
    "- 정제 방향 설정\n",
    "- 분석계획 작성 (개인학습 -> 조별토론 -> 발표자료 작성) -> 발표\n",
    "\n",
    "- 분석계획 작성 이후 \n",
    "- 분석 작업\n",
    "- 결과작성\n",
    "- 개선안 작성\n",
    "- 최종 발표 자료 작성(전 단계 수정 사항 포함)\n"
   ]
  }
 ],
 "metadata": {
  "kernelspec": {
   "display_name": "Python 3 (ipykernel)",
   "language": "python",
   "name": "python3"
  },
  "language_info": {
   "codemirror_mode": {
    "name": "ipython",
    "version": 3
   },
   "file_extension": ".py",
   "mimetype": "text/x-python",
   "name": "python",
   "nbconvert_exporter": "python",
   "pygments_lexer": "ipython3",
   "version": "3.11.7"
  }
 },
 "nbformat": 4,
 "nbformat_minor": 5
}
