{
 "cells": [
  {
   "cell_type": "code",
   "execution_count": 2,
   "id": "a734ae2c-1d9a-4706-8645-c2d080db7f80",
   "metadata": {},
   "outputs": [],
   "source": [
    "import pandas as pd\n",
    "import numpy as np\n",
    "import matplotlib\n",
    "%matplotlib inline\n",
    "import matplotlib.pyplot as plt\n",
    "import seaborn as sns\n",
    "import warnings\n",
    "matplotlib.rc('font', family = 'Malgun Gothic')\n",
    "matplotlib.rc('axes', unicode_minus=False)\n",
    "warnings.filterwarnings('ignore')\n",
    "import matplotlib.ticker as ticker"
   ]
  },
  {
   "cell_type": "code",
   "execution_count": 5,
   "id": "22373cca-8611-4841-bc76-a9654f4bb952",
   "metadata": {},
   "outputs": [
    {
     "data": {
      "text/plain": [
       "Index(['Unnamed: 0', '회원번호', '회원상태', '구매수량', '구매금액', '주문일시', '배송시작일', '배송완료일',\n",
       "       '사용 적립금', '사용 포인트 네이버', '주문취소여부', '주문시간', '제품번호', '회원상태_new', '주문일시dt',\n",
       "       '주문요일', '주문월', '주문일', '주문주', '배송시작일dt', '배송완료일dt', '소요일', '주문시간_오전오후',\n",
       "       '주문시간_24시', '주문시간_분', '단가', '배송기간', '성별', '나이', '등록카드', '결혼', '구독여부',\n",
       "       '주소지', '세부주소지', '나이대', '물품명', '물품대분류', '물품중분류', '상품중량', '제품군', '가격대',\n",
       "       '관심물품중분류'],\n",
       "      dtype='object')"
      ]
     },
     "execution_count": 5,
     "metadata": {},
     "output_type": "execute_result"
    }
   ],
   "source": [
    "df = pd.read_csv('data_total.csv')\n",
    "df.columns"
   ]
  },
  {
   "cell_type": "code",
   "execution_count": 7,
   "id": "b1759cf3-8ebb-4337-8d33-aa47224da9b0",
   "metadata": {},
   "outputs": [
    {
     "data": {
      "text/plain": [
       "0         False\n",
       "1         False\n",
       "2         False\n",
       "3         False\n",
       "4         False\n",
       "          ...  \n",
       "662690    False\n",
       "662691    False\n",
       "662692    False\n",
       "662693    False\n",
       "662694    False\n",
       "Name: 제품군, Length: 662695, dtype: bool"
      ]
     },
     "execution_count": 7,
     "metadata": {},
     "output_type": "execute_result"
    }
   ],
   "source": [
    "df[df['제품군'] =='과일/채소']"
   ]
  },
  {
   "cell_type": "code",
   "execution_count": null,
   "id": "5a6360b9-f50f-4649-b6c5-e743f6c793a6",
   "metadata": {},
   "outputs": [],
   "source": []
  }
 ],
 "metadata": {
  "kernelspec": {
   "display_name": "Python 3 (ipykernel)",
   "language": "python",
   "name": "python3"
  },
  "language_info": {
   "codemirror_mode": {
    "name": "ipython",
    "version": 3
   },
   "file_extension": ".py",
   "mimetype": "text/x-python",
   "name": "python",
   "nbconvert_exporter": "python",
   "pygments_lexer": "ipython3",
   "version": "3.11.7"
  }
 },
 "nbformat": 4,
 "nbformat_minor": 5
}
