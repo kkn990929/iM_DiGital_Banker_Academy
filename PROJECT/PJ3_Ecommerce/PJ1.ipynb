{
 "cells": [
  {
   "cell_type": "code",
   "execution_count": null,
   "id": "af6dcdf3-0c5d-4f99-b01f-a126cfe97275",
   "metadata": {},
   "outputs": [],
   "source": [
    "# merge 분석"
   ]
  },
  {
   "cell_type": "markdown",
   "id": "2cb6b710-bff2-4470-9c9c-65772fc930ad",
   "metadata": {},
   "source": [
    "### RFM 분석\n",
    "### 기간 설정 해서 VIP고객 선정 \n",
    "### 기준을 잘 잡아야\n",
    "### VIP 고객 구매 물품 vs 일반 고객 구매 물품\n",
    "### VIP구매 고객 구매영향 분석 \n",
    "### ex)고객 ID별 최신 주문 -> 날짜의 MAX값"
   ]
  },
  {
   "cell_type": "code",
   "execution_count": null,
   "id": "15bfd7d0-44a3-49b5-881d-b82e685a64c2",
   "metadata": {},
   "outputs": [],
   "source": [
    "# 시계열 분석 (ARMIMA) 분석\n",
    "# for 공급사 서비스\n",
    "# 너희회사 곧 500개 주문 할테니 대비해라 -> 배송기간 단축 유도\n",
    "# "
   ]
  },
  {
   "cell_type": "code",
   "execution_count": 7,
   "id": "b31ee34f-9883-4fde-afd6-acd0898b3a17",
   "metadata": {},
   "outputs": [],
   "source": [
    "# 고객별 평균 구매금액\n",
    "# 신성도 관리 품목\n",
    "# 저가 중가 고가 품목 기준"
   ]
  },
  {
   "cell_type": "markdown",
   "id": "387a19fb-acc8-4926-bbe0-aca511b6f15b",
   "metadata": {},
   "source": [
    "## BC분석\n",
    "- 친환경 제품 판매하는 스타트업\n",
    "- 정부의 지원정책과 판매활동으로 월 매출 15억 이상 및 성장세 지속\n",
    "- 그러나, 금리인상 + 원자재 가격 상승으로 인한 공급비용 증가가 매출하락으로 이어짐\n",
    "- 소비자의 친황경 유기농 상품 관심과 수요가 증가함으로 특성을 살리고 차별화된 판매전략 수립\n",
    "- 현재의 경영상황 극복 및 매출 증대 목표\n",
    "- 친환경 제품 및 신선품 판매데이터 활용\n",
    "1. 소비자의 구매특성 및 소비자 니즈 파악\n",
    "2. 소비자의 구매 트렌드 변화를 고려한 차별화된 서비스 제공\n",
    "3. 판매확대를 위한 차별화된 홍보전략 수립\n",
    "4. 회사의 경영활동 확인, 사전에 RISK 확인 방안 수립"
   ]
  },
  {
   "cell_type": "code",
   "execution_count": 12,
   "id": "db81c1f9-ed3b-4e63-9bae-a2ca07fa8488",
   "metadata": {},
   "outputs": [],
   "source": [
    "# KPI 매출 성장률 = 당기 매출액 / 전기 매출액\n",
    "# 활성고객 비율 = /전체고객수 \n"
   ]
  },
  {
   "cell_type": "code",
   "execution_count": null,
   "id": "5585412e-bb44-4c4d-8848-e653c7aae94a",
   "metadata": {},
   "outputs": [],
   "source": []
  },
  {
   "cell_type": "code",
   "execution_count": null,
   "id": "cf2a0834-191d-4127-9e13-f595ba5b7ff2",
   "metadata": {},
   "outputs": [],
   "source": []
  }
 ],
 "metadata": {
  "kernelspec": {
   "display_name": "Python 3 (ipykernel)",
   "language": "python",
   "name": "python3"
  },
  "language_info": {
   "codemirror_mode": {
    "name": "ipython",
    "version": 3
   },
   "file_extension": ".py",
   "mimetype": "text/x-python",
   "name": "python",
   "nbconvert_exporter": "python",
   "pygments_lexer": "ipython3",
   "version": "3.11.7"
  }
 },
 "nbformat": 4,
 "nbformat_minor": 5
}
