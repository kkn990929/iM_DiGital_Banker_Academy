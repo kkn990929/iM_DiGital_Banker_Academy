{
 "cells": [
  {
   "cell_type": "markdown",
   "id": "dbe950b7-0198-4778-b639-d450f12f06e0",
   "metadata": {},
   "source": [
    "# 코딩테스트 버블정렬"
   ]
  },
  {
   "cell_type": "code",
   "execution_count": 3,
   "id": "bfb6fd68-a476-4ce4-91e6-becef58650cc",
   "metadata": {},
   "outputs": [
    {
     "name": "stdout",
     "output_type": "stream",
     "text": [
      "정렬 전: [7, 8, 9, 6, 3, 4, 5, 2, 1]\n",
      "[7, 8, 9, 6, 3, 4, 5, 2, 1]\n",
      "[7, 8, 9, 6, 3, 4, 5, 2, 1]\n",
      "[7, 8, 6, 9, 3, 4, 5, 2, 1]\n",
      "[7, 8, 6, 3, 9, 4, 5, 2, 1]\n",
      "[7, 8, 6, 3, 4, 9, 5, 2, 1]\n",
      "[7, 8, 6, 3, 4, 5, 9, 2, 1]\n",
      "[7, 8, 6, 3, 4, 5, 2, 9, 1]\n",
      "[7, 8, 6, 3, 4, 5, 2, 1, 9]\n",
      "[7, 8, 6, 3, 4, 5, 2, 1, 9]\n",
      "[7, 6, 8, 3, 4, 5, 2, 1, 9]\n",
      "[7, 6, 3, 8, 4, 5, 2, 1, 9]\n",
      "[7, 6, 3, 4, 8, 5, 2, 1, 9]\n",
      "[7, 6, 3, 4, 5, 8, 2, 1, 9]\n",
      "[7, 6, 3, 4, 5, 2, 8, 1, 9]\n",
      "[7, 6, 3, 4, 5, 2, 1, 8, 9]\n",
      "[6, 7, 3, 4, 5, 2, 1, 8, 9]\n",
      "[6, 3, 7, 4, 5, 2, 1, 8, 9]\n",
      "[6, 3, 4, 7, 5, 2, 1, 8, 9]\n",
      "[6, 3, 4, 5, 7, 2, 1, 8, 9]\n",
      "[6, 3, 4, 5, 2, 7, 1, 8, 9]\n",
      "[6, 3, 4, 5, 2, 1, 7, 8, 9]\n",
      "[3, 6, 4, 5, 2, 1, 7, 8, 9]\n",
      "[3, 4, 6, 5, 2, 1, 7, 8, 9]\n",
      "[3, 4, 5, 6, 2, 1, 7, 8, 9]\n",
      "[3, 4, 5, 2, 6, 1, 7, 8, 9]\n",
      "[3, 4, 5, 2, 1, 6, 7, 8, 9]\n",
      "[3, 4, 5, 2, 1, 6, 7, 8, 9]\n",
      "[3, 4, 5, 2, 1, 6, 7, 8, 9]\n",
      "[3, 4, 2, 5, 1, 6, 7, 8, 9]\n",
      "[3, 4, 2, 1, 5, 6, 7, 8, 9]\n",
      "[3, 4, 2, 1, 5, 6, 7, 8, 9]\n",
      "[3, 2, 4, 1, 5, 6, 7, 8, 9]\n",
      "[3, 2, 1, 4, 5, 6, 7, 8, 9]\n",
      "[2, 3, 1, 4, 5, 6, 7, 8, 9]\n",
      "[2, 1, 3, 4, 5, 6, 7, 8, 9]\n",
      "[1, 2, 3, 4, 5, 6, 7, 8, 9]\n",
      "정렬 후  [1, 2, 3, 4, 5, 6, 7, 8, 9]\n"
     ]
    }
   ],
   "source": [
    "array = [7,8,9,6,3,4,5,2,1]\n",
    "\n",
    "print('정렬 전:', array)\n",
    "\n",
    "n = len(array)\n",
    "for i in range(n-1):\n",
    "    for j in range(n - i - 1):\n",
    "        if array[j] > array[j+1]:\n",
    "            array[j], array[j+1] = array[j+1], array[j]\n",
    "        print(array)\n",
    "\n",
    "print('정렬 후 ' , array)"
   ]
  },
  {
   "cell_type": "markdown",
   "id": "a87c4921-0990-49da-817a-5e91314c7912",
   "metadata": {},
   "source": [
    "## 인공신경망\n",
    "- 인공지능  인간의 사고를 대신해주는 computing 능력\n",
    "- ML : 데이터의 패턴을 수학적 model에 학습시켜 인간의 사고를 대신해주는 sys \n",
    "- DL : 데이터의 패턴을 인공신경망에 학습시켜 인간의 사고를 대신해주는 sys \n",
    "- 강화학습 : PC sys에 data의 pattern을 학습시키며 panelty 와 reward를 지급\n",
    "- 활성함수 => 입력 신호의 임계치 정도에 따라 활성/비활성 결정\n"
   ]
  },
  {
   "cell_type": "markdown",
   "id": "20b2a4c4-6346-49a9-b5d5-61919b3cbd02",
   "metadata": {},
   "source": [
    "## 선형회귀와 딥러닝 이론 1\n",
    "- 회귀 : featrue를 이용해 수치를 예측\n",
    "- 분류 : 데이터가 어디에 속하는지 결정\n",
    "- 군집 : 여러속성의 data를 비교해서 유사한 속성을 갖는 data를 함께 그룹화 시키는 것\n",
    "- HOLD OUT : Train / TEST 로 나눔\n",
    "- 손실함수 : LOSS FUNCTION = COST FUNCTION 모델이 틀ㄹ린정도를 측정한느 함수 LOSS는 정답과 예측값의 거리"
   ]
  },
  {
   "cell_type": "markdown",
   "id": "b4fef21e-0a51-4a07-9000-f82add1854f1",
   "metadata": {},
   "source": [
    "### 오차역전파\n",
    "- 전역최저손실(비용)쪽으로 WEIGHT를 조절해야 함\n",
    "- 역전파가 1회 시행 될 때, '모델이 데이터에 대해 1번 학습했다' 라고 함.\n",
    "- 경사하강법 수식 -> W = W - 학습률 * 기울기"
   ]
  },
  {
   "cell_type": "markdown",
   "id": "4e1b0197-fcbb-4c92-9d5c-f8a5c35ac9ac",
   "metadata": {},
   "source": [
    "### 선형회귀 오차역전파 코드실습"
   ]
  },
  {
   "cell_type": "code",
   "execution_count": 4,
   "id": "5928f673-5b2a-4e6b-a70c-0bc3a58e7e64",
   "metadata": {},
   "outputs": [
    {
     "name": "stdout",
     "output_type": "stream",
     "text": [
      "Epoch 1: Cost = 6600.0000, w = 5.2000, b = 1.6000\n",
      "Epoch 11: Cost = 355.5166, w = 20.5692, b = 7.4245\n",
      "Epoch 21: Cost = 305.9810, w = 21.2394, b = 9.1253\n",
      "Epoch 31: Cost = 285.8235, w = 20.9338, b = 10.5055\n",
      "Epoch 41: Cost = 267.1042, w = 20.5743, b = 11.8219\n",
      "Epoch 51: Cost = 249.6113, w = 20.2225, b = 13.0933\n",
      "Epoch 61: Cost = 233.2640, w = 19.8821, b = 14.3223\n",
      "Epoch 71: Cost = 217.9874, w = 19.5531, b = 15.5104\n",
      "Epoch 81: Cost = 203.7112, w = 19.2350, b = 16.6589\n",
      "Epoch 91: Cost = 190.3700, w = 18.9274, b = 17.7691\n",
      "\n",
      "최종 가중치와 절편 값은: w = 18.6594, b = 18.7367\n",
      "예측 값: [ 37.39614963  56.05557597  74.71500231  93.37442865 112.03385499]\n"
     ]
    }
   ],
   "source": [
    "import numpy as np\n",
    "\n",
    "# 공부시간(h)을 x로 넣고 시험점수(y)를 예측\n",
    "X = np.array([1, 2, 3, 4, 5]) # 학생 별 시험 공부 시간\n",
    "y = np.array([60, 70, 80, 90, 100]) # 학생 별 시험 점수\n",
    "\n",
    "# 평균 계산을 위한 데이터 갯수를 미리 구함\n",
    "m = len(X) # 학생 수\n",
    "\n",
    "# 파라미터 초기화\n",
    "w = 0\n",
    "b = 0\n",
    "\n",
    "# 학습률, 반복 횟수\n",
    "learning_rate = 0.01 # 경사하강법에서 접선의 기울기에 곱하는 값\n",
    "epochs = 100 # 학습 횟수 \n",
    "\n",
    "for epoch in range(epochs): # 학습횟수 만큼 for문 반복\n",
    "    # 선형 모델\n",
    "    # y_pred    =  [0,0,0,0,0] = 0 * [1,2,3,4,5] + 0\n",
    "    y_pred = w * X + b\n",
    "\n",
    "    # Mean Squared Error\n",
    "    cost = (1/m) * sum((y - y_pred)**2) \n",
    "\n",
    "    # 기울기 계산\n",
    "    dw = -(2/m) * sum(X * (y - y_pred))  # 가중치에 대한 편미분\n",
    "    db = -(2/m) * sum(y - y_pred)        # 절편에 대한 편미분\n",
    "\n",
    "    # 경사하강법 수행\n",
    "    w = w - learning_rate * dw \n",
    "    b = b - learning_rate * db\n",
    "\n",
    "    # 매 10회마다 print\n",
    "    if epoch % 10 == 0:\n",
    "        print(f'Epoch {epoch+1}: Cost = {cost:.4f}, w = {w:.4f}, b = {b:.4f}') # 성과측정\n",
    "\n",
    "# 학습이 끝난 후 최종 가중치와 절편 출력\n",
    "print(f'\\n최종 가중치와 절편 값은: w = {w:.4f}, b = {b:.4f}') # for 문 끝난 뒤의 최종 w,b값\n",
    "\n",
    "# 모델 예측\n",
    "y_pred = w * X + b # fitting 된 params\n",
    "print(f'예측 값: {y_pred}')\n"
   ]
  },
  {
   "cell_type": "markdown",
   "id": "4a5ba76e-97c1-456f-93be-48a0629bdf6c",
   "metadata": {},
   "source": [
    "1. ML\n",
    "  - 분류: logistic regression, KnearstNeighbor,  SVMClassifier, DecisionClassifier, RandomforestClassifier, XGboostClassifier, GradientBoostClassifier, AdaBoostClassifier, lightGBMClassifier, CatboostClassifier, VotingClassifier, StackingClassifier\n",
    "  - 회귀: LinearRegressor, SVMRegressor, DecisionRegressor, RandomforestRegressor, XGboostRegressor, GradientBoostRegressor, AdaBoostRegressor, lightGBMRegressor, CatboostRegressor, VotingRegressor, StackingRegressor\n",
    "군집: Kmeans, Kmeans++, DBScan, hierarchical Clustering\n",
    "2. DL\n",
    " - (고객분류, 대출여부)정형 분류 : MLP, DNN, TabNet, Tab-Transformer\n",
    " - (주식, 매출) 회귀: MLP, DNN, RNN(n:1형태) , LSTM(n:1형태), Transformer(n:1) , 1D CNN regression\n",
    " - (챗봇, 요약, 번역) 텍스트: RNN, LSTM, Transformer, Bert, Kobert,KoEelectra, T5 ,GPT(2,3,4), gemma, lamma\n",
    " - (이상행동CCTV) 이미지 분류: CNN, Resnet, DenseNet, VGGNet, GoogleNet, Vision transformer, ResNext, ResNextX, ResNextY\n",
    " - (카드디자인, 은행원 키오스크 인물생성) 이미지 생성형: Auto Encoder, Variational Auto Encoder, GAN, DALLE(웹서비스), 미드저니(웹서비스), Stable diffusion(코드) + 드림부스\n",
    " - (시각장애인)사운드: Tacotron, VITS, Wavenet\n",
    " - (이상행동, OCR)객체 탐지: RCNN, FastRCNN, FasterRCNN, MaskRCNN, YoloV(5,6,7,8,9,10)\n",
    " - (이상행동)관절 탐지: blaze Pose, media Pipe, openpose, yolo pose\n"
   ]
  },
  {
   "cell_type": "code",
   "execution_count": null,
   "id": "63dd3b31-5e84-4c38-8ca8-f68b2647f3d4",
   "metadata": {},
   "outputs": [],
   "source": []
  }
 ],
 "metadata": {
  "kernelspec": {
   "display_name": "Python 3 (ipykernel)",
   "language": "python",
   "name": "python3"
  },
  "language_info": {
   "codemirror_mode": {
    "name": "ipython",
    "version": 3
   },
   "file_extension": ".py",
   "mimetype": "text/x-python",
   "name": "python",
   "nbconvert_exporter": "python",
   "pygments_lexer": "ipython3",
   "version": "3.12.4"
  }
 },
 "nbformat": 4,
 "nbformat_minor": 5
}
