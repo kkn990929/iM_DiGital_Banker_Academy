{
 "cells": [
  {
   "cell_type": "markdown",
   "id": "55e05871-47d9-498a-b17d-85341b460b31",
   "metadata": {},
   "source": [
    "# 미션\n",
    "-"
   ]
  },
  {
   "cell_type": "code",
   "execution_count": 30,
   "id": "10d087d2-42ad-4678-ac20-322af34d3b43",
   "metadata": {},
   "outputs": [
    {
     "data": {
      "text/html": [
       "<div>\n",
       "<style scoped>\n",
       "    .dataframe tbody tr th:only-of-type {\n",
       "        vertical-align: middle;\n",
       "    }\n",
       "\n",
       "    .dataframe tbody tr th {\n",
       "        vertical-align: top;\n",
       "    }\n",
       "\n",
       "    .dataframe thead th {\n",
       "        text-align: right;\n",
       "    }\n",
       "</style>\n",
       "<table border=\"1\" class=\"dataframe\">\n",
       "  <thead>\n",
       "    <tr style=\"text-align: right;\">\n",
       "      <th></th>\n",
       "      <th>Unnamed: 0</th>\n",
       "      <th>날짜</th>\n",
       "      <th>SKU ID</th>\n",
       "      <th>SKU 명</th>\n",
       "      <th>바코드</th>\n",
       "      <th>발주가능상태</th>\n",
       "      <th>입고수량</th>\n",
       "      <th>쿠팡출고수량</th>\n",
       "      <th>쿠팡현재재고수량</th>\n",
       "      <th>자재번호</th>\n",
       "      <th>자재명</th>\n",
       "      <th>카테고리</th>\n",
       "      <th>입수</th>\n",
       "      <th>출고수량</th>\n",
       "      <th>재고수량</th>\n",
       "    </tr>\n",
       "  </thead>\n",
       "  <tbody>\n",
       "    <tr>\n",
       "      <th>0</th>\n",
       "      <td>0</td>\n",
       "      <td>2019-05-16</td>\n",
       "      <td>29349</td>\n",
       "      <td>리큐진한겔일반 3LNEW</td>\n",
       "      <td>8801046893111</td>\n",
       "      <td>발주가능</td>\n",
       "      <td>384</td>\n",
       "      <td>287</td>\n",
       "      <td>5788</td>\n",
       "      <td>6077374</td>\n",
       "      <td>19리큐 진한겔 알카2.7용기(일)</td>\n",
       "      <td>세탁세제</td>\n",
       "      <td>4</td>\n",
       "      <td>71.750000</td>\n",
       "      <td>80.668990</td>\n",
       "    </tr>\n",
       "    <tr>\n",
       "      <th>1</th>\n",
       "      <td>1</td>\n",
       "      <td>2019-05-16</td>\n",
       "      <td>29350</td>\n",
       "      <td>리큐 진한겔드럼 3L NEW</td>\n",
       "      <td>8801046893128</td>\n",
       "      <td>발주가능</td>\n",
       "      <td>0</td>\n",
       "      <td>235</td>\n",
       "      <td>2772</td>\n",
       "      <td>6077394</td>\n",
       "      <td>19리큐 진한겔 알카2.7용기(드)</td>\n",
       "      <td>세탁세제</td>\n",
       "      <td>4</td>\n",
       "      <td>58.750000</td>\n",
       "      <td>47.182979</td>\n",
       "    </tr>\n",
       "    <tr>\n",
       "      <th>2</th>\n",
       "      <td>2</td>\n",
       "      <td>2019-05-16</td>\n",
       "      <td>29351</td>\n",
       "      <td>울샴푸아웃도어 800ml 용기</td>\n",
       "      <td>8801046878934</td>\n",
       "      <td>발주가능</td>\n",
       "      <td>0</td>\n",
       "      <td>2</td>\n",
       "      <td>35</td>\n",
       "      <td>6077406</td>\n",
       "      <td>19울샴푸아웃도 800ml(리뉴얼)</td>\n",
       "      <td>세탁세제</td>\n",
       "      <td>9</td>\n",
       "      <td>0.222222</td>\n",
       "      <td>157.500000</td>\n",
       "    </tr>\n",
       "    <tr>\n",
       "      <th>3</th>\n",
       "      <td>3</td>\n",
       "      <td>2019-05-16</td>\n",
       "      <td>29352</td>\n",
       "      <td>울샴푸아웃도어 1L 일자형 리필</td>\n",
       "      <td>8801046878941</td>\n",
       "      <td>발주가능</td>\n",
       "      <td>207</td>\n",
       "      <td>41</td>\n",
       "      <td>2083</td>\n",
       "      <td>6077404</td>\n",
       "      <td>19울샴푸아웃도 1L(리뉴얼)</td>\n",
       "      <td>세탁세제</td>\n",
       "      <td>9</td>\n",
       "      <td>4.555556</td>\n",
       "      <td>457.243902</td>\n",
       "    </tr>\n",
       "    <tr>\n",
       "      <th>4</th>\n",
       "      <td>4</td>\n",
       "      <td>2019-05-16</td>\n",
       "      <td>29359</td>\n",
       "      <td>Pack 2080오리지날칫솔 5+5입_탄력모</td>\n",
       "      <td>8801046888858</td>\n",
       "      <td>발주가능</td>\n",
       "      <td>288</td>\n",
       "      <td>312</td>\n",
       "      <td>3411</td>\n",
       "      <td>5009109</td>\n",
       "      <td>182080오리지날칫솔 5+5입(탄력모)</td>\n",
       "      <td>덴탈케어</td>\n",
       "      <td>8</td>\n",
       "      <td>39.000000</td>\n",
       "      <td>87.461538</td>\n",
       "    </tr>\n",
       "  </tbody>\n",
       "</table>\n",
       "</div>"
      ],
      "text/plain": [
       "   Unnamed: 0          날짜  SKU ID                     SKU 명            바코드  \\\n",
       "0           0  2019-05-16   29349             리큐진한겔일반 3LNEW  8801046893111   \n",
       "1           1  2019-05-16   29350           리큐 진한겔드럼 3L NEW  8801046893128   \n",
       "2           2  2019-05-16   29351          울샴푸아웃도어 800ml 용기  8801046878934   \n",
       "3           3  2019-05-16   29352         울샴푸아웃도어 1L 일자형 리필  8801046878941   \n",
       "4           4  2019-05-16   29359  Pack 2080오리지날칫솔 5+5입_탄력모  8801046888858   \n",
       "\n",
       "  발주가능상태  입고수량  쿠팡출고수량  쿠팡현재재고수량     자재번호                     자재명  카테고리  입수  \\\n",
       "0   발주가능   384     287      5788  6077374     19리큐 진한겔 알카2.7용기(일)  세탁세제   4   \n",
       "1   발주가능     0     235      2772  6077394     19리큐 진한겔 알카2.7용기(드)  세탁세제   4   \n",
       "2   발주가능     0       2        35  6077406     19울샴푸아웃도 800ml(리뉴얼)  세탁세제   9   \n",
       "3   발주가능   207      41      2083  6077404        19울샴푸아웃도 1L(리뉴얼)  세탁세제   9   \n",
       "4   발주가능   288     312      3411  5009109  182080오리지날칫솔 5+5입(탄력모)  덴탈케어   8   \n",
       "\n",
       "        출고수량        재고수량  \n",
       "0  71.750000   80.668990  \n",
       "1  58.750000   47.182979  \n",
       "2   0.222222  157.500000  \n",
       "3   4.555556  457.243902  \n",
       "4  39.000000   87.461538  "
      ]
     },
     "execution_count": 30,
     "metadata": {},
     "output_type": "execute_result"
    }
   ],
   "source": [
    "import pandas as pd\n",
    "df1 = pd.read_csv('06_Data.csv')\n",
    "df1.head()\n"
   ]
  },
  {
   "cell_type": "markdown",
   "id": "c1f5563a-cf28-4e16-8d08-cae5e313eb8c",
   "metadata": {},
   "source": [
    "## 1. 2019년 5월 대비 8월의 \"쿠팡출고수량\"이 몇 퍼센트 증가했는지 계산하시오."
   ]
  },
  {
   "cell_type": "code",
   "execution_count": 55,
   "id": "17af828d-f603-462e-a818-5444d6a9ded6",
   "metadata": {},
   "outputs": [
    {
     "data": {
      "text/plain": [
       "0.467435830355694"
      ]
     },
     "execution_count": 55,
     "metadata": {},
     "output_type": "execute_result"
    }
   ],
   "source": [
    "df1['날짜_dt'] = pd.to_datetime(df1['날짜'])\n",
    "df1['month'] = df1['날짜_dt'].dt.month\n",
    "df1.head()\n",
    "\n",
    "cond1 = (df1['month'] == 5)\n",
    "p1 = df1.loc[cond1]\n",
    "month_5 = p1['쿠팡출고수량'].sum()\n",
    "\n",
    "cond2 = (df1['month'] == 8)\n",
    "p2 = df1.loc[cond2]\n",
    "month_8 = p2['쿠팡출고수량'].sum()\n",
    "\n",
    "month_8 / month_5"
   ]
  },
  {
   "cell_type": "markdown",
   "id": "6f51d632-8156-4587-a108-3ecbfdbdccbc",
   "metadata": {},
   "source": [
    "## 2. 각 카테고리 별 5월 대비 8월의 \"쿠팡출고수량\"의 증감율을 계산하시오. "
   ]
  },
  {
   "cell_type": "code",
   "execution_count": 63,
   "id": "3aec39f9-530b-4695-9856-e875a459b505",
   "metadata": {},
   "outputs": [
    {
     "data": {
      "text/plain": [
       "array(['세탁세제', '덴탈케어', '헤어케어', '주방세제', 'ST', 'F&B', '기타', '매입브랜드'],\n",
       "      dtype=object)"
      ]
     },
     "execution_count": 63,
     "metadata": {},
     "output_type": "execute_result"
    }
   ],
   "source": [
    "df1['카테고리'].unique()"
   ]
  },
  {
   "cell_type": "code",
   "execution_count": 114,
   "id": "151c6748-3b28-4c75-befd-aaca6950c255",
   "metadata": {},
   "outputs": [
    {
     "data": {
      "text/plain": [
       "array([ True, False, False, False])"
      ]
     },
     "execution_count": 114,
     "metadata": {},
     "output_type": "execute_result"
    }
   ],
   "source": [
    "p1 = df1.pivot_table(index = '카테고리' , values = '쿠팡출고수량', aggfunc = 'sum' ,columns = 'month')\n",
    "\n",
    "cond3 = (p1.columns == 5)\n",
    "cond3"
   ]
  },
  {
   "cell_type": "markdown",
   "id": "cbdf862e-c07e-4c98-a62e-adb245745c39",
   "metadata": {},
   "source": [
    "## 3. '발주가능상태'에서 '발주중단' 된 데이터의 특성을 파악하고자 한다. '발주중단' 데이터만 추출하여, 카테고리의 빈도수를 확인하고, 연속형 자료의 기술통계량을 계산하시오. "
   ]
  },
  {
   "cell_type": "code",
   "execution_count": 228,
   "id": "fd00f7be-a824-4df2-8d06-7f0a8a8f9f0c",
   "metadata": {},
   "outputs": [
    {
     "data": {
      "text/plain": [
       "count       95\n",
       "unique       3\n",
       "top       헤어케어\n",
       "freq        78\n",
       "mean       NaN\n",
       "min        NaN\n",
       "25%        NaN\n",
       "50%        NaN\n",
       "75%        NaN\n",
       "max        NaN\n",
       "std        NaN\n",
       "Name: 카테고리, dtype: object"
      ]
     },
     "execution_count": 228,
     "metadata": {},
     "output_type": "execute_result"
    }
   ],
   "source": [
    "import numpy as np\n",
    "cond1 = (df1['발주가능상태'] == '발주중단')\n",
    "p1 = df1.loc[cond1]\n",
    "p2 = p1.describe(include = 'all')\n",
    "p2\n",
    "p2['카테고리']"
   ]
  },
  {
   "cell_type": "markdown",
   "id": "353cad75-1a00-49f2-9fb6-16f01cc531f4",
   "metadata": {},
   "source": [
    "## 4.19년도 7월 2번째 주에 '쿠팡출고수량'이 가장 많은 '카테고리'는 무엇인지 확인하시오."
   ]
  },
  {
   "cell_type": "code",
   "execution_count": 289,
   "id": "7816f7ad-9b7a-4060-86fc-6f2c9d5bfd84",
   "metadata": {
    "collapsed": true,
    "jupyter": {
     "outputs_hidden": true
    }
   },
   "outputs": [
    {
     "data": {
      "text/html": [
       "<div>\n",
       "<style scoped>\n",
       "    .dataframe tbody tr th:only-of-type {\n",
       "        vertical-align: middle;\n",
       "    }\n",
       "\n",
       "    .dataframe tbody tr th {\n",
       "        vertical-align: top;\n",
       "    }\n",
       "\n",
       "    .dataframe thead th {\n",
       "        text-align: right;\n",
       "    }\n",
       "</style>\n",
       "<table border=\"1\" class=\"dataframe\">\n",
       "  <thead>\n",
       "    <tr style=\"text-align: right;\">\n",
       "      <th></th>\n",
       "      <th>Unnamed: 0</th>\n",
       "      <th>날짜</th>\n",
       "      <th>SKU ID</th>\n",
       "      <th>SKU 명</th>\n",
       "      <th>바코드</th>\n",
       "      <th>발주가능상태</th>\n",
       "      <th>입고수량</th>\n",
       "      <th>쿠팡출고수량</th>\n",
       "      <th>쿠팡현재재고수량</th>\n",
       "      <th>자재번호</th>\n",
       "      <th>자재명</th>\n",
       "      <th>카테고리</th>\n",
       "      <th>입수</th>\n",
       "      <th>출고수량</th>\n",
       "      <th>재고수량</th>\n",
       "      <th>날짜_dt</th>\n",
       "      <th>month</th>\n",
       "      <th>등급분류</th>\n",
       "    </tr>\n",
       "  </thead>\n",
       "  <tbody>\n",
       "    <tr>\n",
       "      <th>0</th>\n",
       "      <td>0</td>\n",
       "      <td>2019-05-16</td>\n",
       "      <td>29349</td>\n",
       "      <td>리큐진한겔일반 3LNEW</td>\n",
       "      <td>8801046893111</td>\n",
       "      <td>발주가능</td>\n",
       "      <td>384</td>\n",
       "      <td>287</td>\n",
       "      <td>5788</td>\n",
       "      <td>6077374</td>\n",
       "      <td>19리큐 진한겔 알카2.7용기(일)</td>\n",
       "      <td>세탁세제</td>\n",
       "      <td>4</td>\n",
       "      <td>71.75</td>\n",
       "      <td>80.668990</td>\n",
       "      <td>2019-05-16</td>\n",
       "      <td>5</td>\n",
       "      <td>NaN</td>\n",
       "    </tr>\n",
       "    <tr>\n",
       "      <th>1</th>\n",
       "      <td>1</td>\n",
       "      <td>2019-05-16</td>\n",
       "      <td>29350</td>\n",
       "      <td>리큐 진한겔드럼 3L NEW</td>\n",
       "      <td>8801046893128</td>\n",
       "      <td>발주가능</td>\n",
       "      <td>0</td>\n",
       "      <td>235</td>\n",
       "      <td>2772</td>\n",
       "      <td>6077394</td>\n",
       "      <td>19리큐 진한겔 알카2.7용기(드)</td>\n",
       "      <td>세탁세제</td>\n",
       "      <td>4</td>\n",
       "      <td>58.75</td>\n",
       "      <td>47.182979</td>\n",
       "      <td>2019-05-16</td>\n",
       "      <td>5</td>\n",
       "      <td>NaN</td>\n",
       "    </tr>\n",
       "  </tbody>\n",
       "</table>\n",
       "</div>"
      ],
      "text/plain": [
       "   Unnamed: 0          날짜  SKU ID            SKU 명            바코드 발주가능상태  \\\n",
       "0           0  2019-05-16   29349    리큐진한겔일반 3LNEW  8801046893111   발주가능   \n",
       "1           1  2019-05-16   29350  리큐 진한겔드럼 3L NEW  8801046893128   발주가능   \n",
       "\n",
       "   입고수량  쿠팡출고수량  쿠팡현재재고수량     자재번호                  자재명  카테고리  입수   출고수량  \\\n",
       "0   384     287      5788  6077374  19리큐 진한겔 알카2.7용기(일)  세탁세제   4  71.75   \n",
       "1     0     235      2772  6077394  19리큐 진한겔 알카2.7용기(드)  세탁세제   4  58.75   \n",
       "\n",
       "        재고수량      날짜_dt  month 등급분류  \n",
       "0  80.668990 2019-05-16      5  NaN  \n",
       "1  47.182979 2019-05-16      5  NaN  "
      ]
     },
     "execution_count": 289,
     "metadata": {},
     "output_type": "execute_result"
    }
   ],
   "source": [
    "df1.head(2)"
   ]
  },
  {
   "cell_type": "code",
   "execution_count": 352,
   "id": "30642f73-c15e-44eb-8490-c72858c34e1d",
   "metadata": {},
   "outputs": [
    {
     "data": {
      "text/html": [
       "<div>\n",
       "<style scoped>\n",
       "    .dataframe tbody tr th:only-of-type {\n",
       "        vertical-align: middle;\n",
       "    }\n",
       "\n",
       "    .dataframe tbody tr th {\n",
       "        vertical-align: top;\n",
       "    }\n",
       "\n",
       "    .dataframe thead th {\n",
       "        text-align: right;\n",
       "    }\n",
       "</style>\n",
       "<table border=\"1\" class=\"dataframe\">\n",
       "  <thead>\n",
       "    <tr style=\"text-align: right;\">\n",
       "      <th></th>\n",
       "      <th>Unnamed: 0</th>\n",
       "      <th>날짜</th>\n",
       "      <th>SKU ID</th>\n",
       "      <th>SKU 명</th>\n",
       "      <th>바코드</th>\n",
       "      <th>발주가능상태</th>\n",
       "      <th>입고수량</th>\n",
       "      <th>쿠팡출고수량</th>\n",
       "      <th>쿠팡현재재고수량</th>\n",
       "      <th>자재번호</th>\n",
       "      <th>자재명</th>\n",
       "      <th>카테고리</th>\n",
       "      <th>입수</th>\n",
       "      <th>출고수량</th>\n",
       "      <th>재고수량</th>\n",
       "      <th>날짜_dt</th>\n",
       "      <th>month</th>\n",
       "      <th>등급분류</th>\n",
       "      <th>주차</th>\n",
       "      <th>Day_of_week</th>\n",
       "    </tr>\n",
       "  </thead>\n",
       "  <tbody>\n",
       "    <tr>\n",
       "      <th>22167</th>\n",
       "      <td>22167</td>\n",
       "      <td>2019-07-01</td>\n",
       "      <td>3031368</td>\n",
       "      <td>Box_리큐 진한겔 액체세제 일반용 리필형 2.1L * 4입</td>\n",
       "      <td>18801046294762</td>\n",
       "      <td>발주가능</td>\n",
       "      <td>0</td>\n",
       "      <td>1221</td>\n",
       "      <td>9010</td>\n",
       "      <td>6067098</td>\n",
       "      <td>17리큐 진한겔 2.1L온라인4입(화)</td>\n",
       "      <td>세탁세제</td>\n",
       "      <td>4</td>\n",
       "      <td>305.25</td>\n",
       "      <td>29.51679</td>\n",
       "      <td>2019-07-01</td>\n",
       "      <td>7</td>\n",
       "      <td>NaN</td>\n",
       "      <td>27</td>\n",
       "      <td>Monday</td>\n",
       "    </tr>\n",
       "  </tbody>\n",
       "</table>\n",
       "</div>"
      ],
      "text/plain": [
       "       Unnamed: 0          날짜   SKU ID                              SKU 명  \\\n",
       "22167       22167  2019-07-01  3031368  Box_리큐 진한겔 액체세제 일반용 리필형 2.1L * 4입   \n",
       "\n",
       "                  바코드 발주가능상태  입고수량  쿠팡출고수량  쿠팡현재재고수량     자재번호  \\\n",
       "22167  18801046294762   발주가능     0    1221      9010  6067098   \n",
       "\n",
       "                         자재명  카테고리  입수    출고수량      재고수량      날짜_dt  month  \\\n",
       "22167  17리큐 진한겔 2.1L온라인4입(화)  세탁세제   4  305.25  29.51679 2019-07-01      7   \n",
       "\n",
       "      등급분류  주차 Day_of_week  \n",
       "22167  NaN  27      Monday  "
      ]
     },
     "execution_count": 352,
     "metadata": {},
     "output_type": "execute_result"
    }
   ],
   "source": [
    "# df1['Day_of_week'] = df1['Datetime_dt'].dt.day_name()\n",
    "# df1['Week'] = df1['Datetime_dt'].dt.isocalendar().week\n",
    "\n",
    "df1['Day_of_week'] = df1['날짜_dt'].dt.day_name()\n",
    "df1['주차'] = df1['날짜_dt'].dt.isocalendar().week\n",
    "cond1 = (df1['주차'] == 27)\n",
    "cond1\n",
    "p1 = df1.loc[cond1]\n",
    "p1\n",
    "p2 = p1.sort_values(by = '쿠팡출고수량' , ascending = False)\n",
    "p2.head(1)\n",
    "# top_1 = p1.sort_values(by = '쿠팡출고수량' , ascending = False)\n",
    "# top_1['카테고리']"
   ]
  },
  {
   "cell_type": "markdown",
   "id": "bcaf7421-f745-4c34-9242-827104e2151c",
   "metadata": {},
   "source": [
    "## 5. 각 '자재명' 별 '쿠팡출고수량', '입고수량'의 평균을 계산하고, 계산된 결과에서 '쿠팡출고수량'의 상위 10% '자재명'을 'A' / 상위 30%를 'B' / 상위 60%를 'C' / 나머지를 'D'로 '등급분류'라는 파생변수를 생성하고, 각 등급에서 가장 많이 등장한 '카테고리'항목이 무엇인지 확인하시오. "
   ]
  },
  {
   "cell_type": "code",
   "execution_count": 615,
   "id": "9f57aea7-0ed9-467b-982d-9196fb9839a7",
   "metadata": {},
   "outputs": [
    {
     "data": {
      "text/html": [
       "<div>\n",
       "<style scoped>\n",
       "    .dataframe tbody tr th:only-of-type {\n",
       "        vertical-align: middle;\n",
       "    }\n",
       "\n",
       "    .dataframe tbody tr th {\n",
       "        vertical-align: top;\n",
       "    }\n",
       "\n",
       "    .dataframe thead th {\n",
       "        text-align: right;\n",
       "    }\n",
       "</style>\n",
       "<table border=\"1\" class=\"dataframe\">\n",
       "  <thead>\n",
       "    <tr style=\"text-align: right;\">\n",
       "      <th></th>\n",
       "      <th>입고수량</th>\n",
       "      <th>쿠팡출고수량</th>\n",
       "    </tr>\n",
       "    <tr>\n",
       "      <th>자재명</th>\n",
       "      <th></th>\n",
       "      <th></th>\n",
       "    </tr>\n",
       "  </thead>\n",
       "  <tbody>\n",
       "    <tr>\n",
       "      <th>10순샘BubbleOlive 350ml용기</th>\n",
       "      <td>50.349650</td>\n",
       "      <td>40.524476</td>\n",
       "    </tr>\n",
       "    <tr>\n",
       "      <th>14New바세린리프팅 450ml로션</th>\n",
       "      <td>17.840000</td>\n",
       "      <td>30.246667</td>\n",
       "    </tr>\n",
       "    <tr>\n",
       "      <th>14순샘제로만다린.M 1.0L파우치-친환경</th>\n",
       "      <td>0.000000</td>\n",
       "      <td>0.000000</td>\n",
       "    </tr>\n",
       "    <tr>\n",
       "      <th>162080 스마트케어웨이브 4입</th>\n",
       "      <td>21.450331</td>\n",
       "      <td>19.112583</td>\n",
       "    </tr>\n",
       "    <tr>\n",
       "      <th>162080 스마트케어칫솔_4입</th>\n",
       "      <td>96.000000</td>\n",
       "      <td>34.220779</td>\n",
       "    </tr>\n",
       "    <tr>\n",
       "      <th>...</th>\n",
       "      <td>...</td>\n",
       "      <td>...</td>\n",
       "    </tr>\n",
       "    <tr>\n",
       "      <th>외2080팔레트 30gx6입(세트)</th>\n",
       "      <td>26.857143</td>\n",
       "      <td>4.471429</td>\n",
       "    </tr>\n",
       "    <tr>\n",
       "      <th>전2080덴티스트리 나이트리페어 100g(스티</th>\n",
       "      <td>0.423529</td>\n",
       "      <td>0.117647</td>\n",
       "    </tr>\n",
       "    <tr>\n",
       "      <th>전2080진지발리스K 진저민트120+20gx3입</th>\n",
       "      <td>0.000000</td>\n",
       "      <td>0.065574</td>\n",
       "    </tr>\n",
       "    <tr>\n",
       "      <th>전2080플라워가글 가글재스민 250ml</th>\n",
       "      <td>0.000000</td>\n",
       "      <td>0.017241</td>\n",
       "    </tr>\n",
       "    <tr>\n",
       "      <th>전2080후레쉬톡 100오렌지</th>\n",
       "      <td>0.000000</td>\n",
       "      <td>0.000000</td>\n",
       "    </tr>\n",
       "  </tbody>\n",
       "</table>\n",
       "<p>351 rows × 2 columns</p>\n",
       "</div>"
      ],
      "text/plain": [
       "                                 입고수량     쿠팡출고수량\n",
       "자재명                                             \n",
       "10순샘BubbleOlive 350ml용기     50.349650  40.524476\n",
       "14New바세린리프팅 450ml로션         17.840000  30.246667\n",
       "14순샘제로만다린.M 1.0L파우치-친환경      0.000000   0.000000\n",
       "162080 스마트케어웨이브 4입          21.450331  19.112583\n",
       "162080 스마트케어칫솔_4입           96.000000  34.220779\n",
       "...                               ...        ...\n",
       "외2080팔레트 30gx6입(세트)         26.857143   4.471429\n",
       "전2080덴티스트리 나이트리페어 100g(스티    0.423529   0.117647\n",
       "전2080진지발리스K 진저민트120+20gx3입   0.000000   0.065574\n",
       "전2080플라워가글 가글재스민 250ml       0.000000   0.017241\n",
       "전2080후레쉬톡 100오렌지             0.000000   0.000000\n",
       "\n",
       "[351 rows x 2 columns]"
      ]
     },
     "execution_count": 615,
     "metadata": {},
     "output_type": "execute_result"
    }
   ],
   "source": [
    "p1 = df1.pivot_table(index = '자재명' , values = ['쿠팡출고수량' , '입고수량'] , aggfunc = 'mean') \n",
    "top_10 = p1['쿠팡출고수량'].quantile(0.9) \n",
    "top_30 = p1['쿠팡출고수량'].quantile(0.7) \n",
    "top_60 = p1['쿠팡출고수량'].quantile(0.4) \n",
    "# list1 = p1['쿠팡출고수량'].values\n",
    "p1\n"
   ]
  },
  {
   "cell_type": "code",
   "execution_count": 617,
   "id": "9835265a-a55f-4ec5-bbf4-34c1434b9dd9",
   "metadata": {},
   "outputs": [
    {
     "data": {
      "text/plain": [
       "array(['D', 'A', 'C'], dtype=object)"
      ]
     },
     "execution_count": 617,
     "metadata": {},
     "output_type": "execute_result"
    }
   ],
   "source": [
    "\n",
    "def grade_classify(row):\n",
    "    if row == top_10:\n",
    "        return 'A'\n",
    "    elif row == top_30:\n",
    "        return 'B'\n",
    "    elif row == top_60:\n",
    "        return 'C'\n",
    "    else:\n",
    "        return 'D'\n",
    "p1['등급분류'] = p1['쿠팡출고수량'].apply(grade_classify)\n",
    "p1['등급분류'].unique()"
   ]
  },
  {
   "cell_type": "code",
   "execution_count": null,
   "id": "14a2f502-3b45-4bfc-9382-5acbe90026f4",
   "metadata": {},
   "outputs": [],
   "source": [
    "# 각 등급에서 가장 많이 등장한 '카테고리'항목이 무엇인지 확인하시오\n"
   ]
  },
  {
   "cell_type": "markdown",
   "id": "458ba10f-6812-4afe-ba48-fde8e00f573a",
   "metadata": {},
   "source": [
    "## 6. '카테고리'를 사용자로부터 입력받아, '발주가능상태'에 따른 '월'(날짜로 부터 계산) 별 '쿠팡출고수량'의 합을 계산하여 시각화 하고 해당 그래프를 '카테고리명_월별_쿠팡출고량.png'파일 형태로 저장하는 함수를 만드시오. "
   ]
  },
  {
   "cell_type": "code",
   "execution_count": 374,
   "id": "fca692fb-b2da-43a3-8742-681f50a439dc",
   "metadata": {},
   "outputs": [],
   "source": [
    "import matplotlib as mpl\n",
    "import matplotlib.pyplot as plt\n",
    "import seaborn as sns\n",
    "import warnings\n",
    "mpl.rc('font' , family = 'Malgun Gothic')"
   ]
  },
  {
   "cell_type": "code",
   "execution_count": 390,
   "id": "61188940-8773-4702-b8a1-b0bcad8c3ebc",
   "metadata": {},
   "outputs": [
    {
     "data": {
      "text/plain": [
       "Index(['Unnamed: 0', '날짜', 'SKU ID', 'SKU 명', '바코드', '발주가능상태', '입고수량',\n",
       "       '쿠팡출고수량', '쿠팡현재재고수량', '자재번호', '자재명', '카테고리', '입수', '출고수량', '재고수량',\n",
       "       '날짜_dt', 'month', '등급분류', '주차', 'Day_of_week'],\n",
       "      dtype='object')"
      ]
     },
     "execution_count": 390,
     "metadata": {},
     "output_type": "execute_result"
    }
   ],
   "source": [
    "df1.columns"
   ]
  },
  {
   "cell_type": "code",
   "execution_count": 410,
   "id": "3e0e80b3-a5b5-4cf5-810f-a0a18498a3b7",
   "metadata": {},
   "outputs": [],
   "source": [
    "# category_data = input('카테고리 입력')"
   ]
  },
  {
   "cell_type": "code",
   "execution_count": 408,
   "id": "53fcd8b0-37d4-45b3-be44-b02cab09a73b",
   "metadata": {},
   "outputs": [
    {
     "data": {
      "text/html": [
       "<div>\n",
       "<style scoped>\n",
       "    .dataframe tbody tr th:only-of-type {\n",
       "        vertical-align: middle;\n",
       "    }\n",
       "\n",
       "    .dataframe tbody tr th {\n",
       "        vertical-align: top;\n",
       "    }\n",
       "\n",
       "    .dataframe thead th {\n",
       "        text-align: right;\n",
       "    }\n",
       "</style>\n",
       "<table border=\"1\" class=\"dataframe\">\n",
       "  <thead>\n",
       "    <tr style=\"text-align: right;\">\n",
       "      <th>발주가능상태</th>\n",
       "      <th>month</th>\n",
       "      <th>단종</th>\n",
       "      <th>발주가능</th>\n",
       "      <th>발주중단</th>\n",
       "    </tr>\n",
       "  </thead>\n",
       "  <tbody>\n",
       "    <tr>\n",
       "      <th>0</th>\n",
       "      <td>5</td>\n",
       "      <td>NaN</td>\n",
       "      <td>301973.0</td>\n",
       "      <td>NaN</td>\n",
       "    </tr>\n",
       "    <tr>\n",
       "      <th>1</th>\n",
       "      <td>6</td>\n",
       "      <td>252.0</td>\n",
       "      <td>608295.0</td>\n",
       "      <td>10.0</td>\n",
       "    </tr>\n",
       "    <tr>\n",
       "      <th>2</th>\n",
       "      <td>7</td>\n",
       "      <td>170.0</td>\n",
       "      <td>616237.0</td>\n",
       "      <td>922.0</td>\n",
       "    </tr>\n",
       "    <tr>\n",
       "      <th>3</th>\n",
       "      <td>8</td>\n",
       "      <td>21.0</td>\n",
       "      <td>141020.0</td>\n",
       "      <td>112.0</td>\n",
       "    </tr>\n",
       "  </tbody>\n",
       "</table>\n",
       "</div>"
      ],
      "text/plain": [
       "발주가능상태  month     단종      발주가능   발주중단\n",
       "0           5    NaN  301973.0    NaN\n",
       "1           6  252.0  608295.0   10.0\n",
       "2           7  170.0  616237.0  922.0\n",
       "3           8   21.0  141020.0  112.0"
      ]
     },
     "execution_count": 408,
     "metadata": {},
     "output_type": "execute_result"
    }
   ],
   "source": [
    "df2 = df1.pivot_table(index = 'month' , values = '쿠팡출고수량' , columns = '발주가능상태' , aggfunc = 'sum').reset_index()\n",
    "# sns.barplot (df2, x = 'month' , y = '발주가능상태')\n",
    "df2"
   ]
  },
  {
   "cell_type": "markdown",
   "id": "4e438ed7-e070-433b-a88b-d639b3798000",
   "metadata": {},
   "source": [
    "## 7. '카테고리'빈도수가 가장 많은 항목의 '입고수량'이 높은 상위 100개 데이터를 result_category.xlsx로 저장하시오."
   ]
  },
  {
   "cell_type": "code",
   "execution_count": 426,
   "id": "2b85e112-4349-4ea9-87bc-29763ce03868",
   "metadata": {},
   "outputs": [
    {
     "data": {
      "text/plain": [
       "count     36833\n",
       "unique        8\n",
       "top        세탁세제\n",
       "freq      10339\n",
       "Name: 카테고리, dtype: object"
      ]
     },
     "execution_count": 426,
     "metadata": {},
     "output_type": "execute_result"
    }
   ],
   "source": [
    "df1['카테고리'].describe()"
   ]
  },
  {
   "cell_type": "code",
   "execution_count": 444,
   "id": "6a047384-0774-442b-a008-cb346625e08e",
   "metadata": {},
   "outputs": [],
   "source": [
    "cond1 = (df1['카테고리'] == '세탁세제')\n",
    "df2 = df1.loc[cond1]\n",
    "df2\n",
    "df2.sort_values(by = '입고수량' , ascending = False).head(100).to_excel('result_category.xlsx')"
   ]
  },
  {
   "cell_type": "markdown",
   "id": "a24f401f-ab48-455b-9b8f-cf31a527537f",
   "metadata": {},
   "source": [
    "## 8. 각 '카테고리'별 7월과 8월의 쿠팡출고수량 '평균'과 '합'의 차이를 계산하시오. "
   ]
  },
  {
   "cell_type": "code",
   "execution_count": 582,
   "id": "224d067f-5336-4757-b6d4-24420b0a4de0",
   "metadata": {},
   "outputs": [
    {
     "data": {
      "text/html": [
       "<div>\n",
       "<style scoped>\n",
       "    .dataframe tbody tr th:only-of-type {\n",
       "        vertical-align: middle;\n",
       "    }\n",
       "\n",
       "    .dataframe tbody tr th {\n",
       "        vertical-align: top;\n",
       "    }\n",
       "\n",
       "    .dataframe thead th {\n",
       "        text-align: right;\n",
       "    }\n",
       "</style>\n",
       "<table border=\"1\" class=\"dataframe\">\n",
       "  <thead>\n",
       "    <tr style=\"text-align: right;\">\n",
       "      <th></th>\n",
       "      <th>쿠팡출고수량</th>\n",
       "    </tr>\n",
       "    <tr>\n",
       "      <th>카테고리</th>\n",
       "      <th></th>\n",
       "    </tr>\n",
       "  </thead>\n",
       "  <tbody>\n",
       "    <tr>\n",
       "      <th>F&amp;B</th>\n",
       "      <td>32668</td>\n",
       "    </tr>\n",
       "    <tr>\n",
       "      <th>ST</th>\n",
       "      <td>6768</td>\n",
       "    </tr>\n",
       "    <tr>\n",
       "      <th>기타</th>\n",
       "      <td>2341</td>\n",
       "    </tr>\n",
       "    <tr>\n",
       "      <th>덴탈케어</th>\n",
       "      <td>114295</td>\n",
       "    </tr>\n",
       "    <tr>\n",
       "      <th>매입브랜드</th>\n",
       "      <td>2160</td>\n",
       "    </tr>\n",
       "    <tr>\n",
       "      <th>세탁세제</th>\n",
       "      <td>139922</td>\n",
       "    </tr>\n",
       "    <tr>\n",
       "      <th>주방세제</th>\n",
       "      <td>83841</td>\n",
       "    </tr>\n",
       "    <tr>\n",
       "      <th>헤어케어</th>\n",
       "      <td>94181</td>\n",
       "    </tr>\n",
       "  </tbody>\n",
       "</table>\n",
       "</div>"
      ],
      "text/plain": [
       "       쿠팡출고수량\n",
       "카테고리         \n",
       "F&B     32668\n",
       "ST       6768\n",
       "기타       2341\n",
       "덴탈케어   114295\n",
       "매입브랜드    2160\n",
       "세탁세제   139922\n",
       "주방세제    83841\n",
       "헤어케어    94181"
      ]
     },
     "execution_count": 582,
     "metadata": {},
     "output_type": "execute_result"
    }
   ],
   "source": [
    "cond1 = (df1['month'] == 7) \n",
    "cond2 = (df1['month'] == 8)\n",
    "p1 = df1.loc[cond1]\n",
    "p2 = df1.loc[cond2]\n",
    "# print(p1['쿠팡출고수량'].mean() - p2['쿠팡출고수량'].mean() , p1['쿠팡출고수량'].sum() - p2['쿠팡출고수량'].sum())\n",
    "\n",
    "month7_sum = p1.pivot_table(index = '카테고리' , values = '쿠팡출고수량' , aggfunc = 'sum')\n",
    "month8_sum = p2.pivot_table(index = '카테고리' , values = '쿠팡출고수량' , aggfunc = 'sum')\n",
    "month7_sum - month8_sum"
   ]
  },
  {
   "cell_type": "code",
   "execution_count": 584,
   "id": "4164063a-d74f-4e62-9fc0-a2c43af3f6f1",
   "metadata": {},
   "outputs": [
    {
     "data": {
      "text/html": [
       "<div>\n",
       "<style scoped>\n",
       "    .dataframe tbody tr th:only-of-type {\n",
       "        vertical-align: middle;\n",
       "    }\n",
       "\n",
       "    .dataframe tbody tr th {\n",
       "        vertical-align: top;\n",
       "    }\n",
       "\n",
       "    .dataframe thead th {\n",
       "        text-align: right;\n",
       "    }\n",
       "</style>\n",
       "<table border=\"1\" class=\"dataframe\">\n",
       "  <thead>\n",
       "    <tr style=\"text-align: right;\">\n",
       "      <th></th>\n",
       "      <th>쿠팡출고수량</th>\n",
       "    </tr>\n",
       "    <tr>\n",
       "      <th>카테고리</th>\n",
       "      <th></th>\n",
       "    </tr>\n",
       "  </thead>\n",
       "  <tbody>\n",
       "    <tr>\n",
       "      <th>F&amp;B</th>\n",
       "      <td>-12.470227</td>\n",
       "    </tr>\n",
       "    <tr>\n",
       "      <th>ST</th>\n",
       "      <td>-3.915237</td>\n",
       "    </tr>\n",
       "    <tr>\n",
       "      <th>기타</th>\n",
       "      <td>-3.223365</td>\n",
       "    </tr>\n",
       "    <tr>\n",
       "      <th>덴탈케어</th>\n",
       "      <td>-21.115412</td>\n",
       "    </tr>\n",
       "    <tr>\n",
       "      <th>매입브랜드</th>\n",
       "      <td>-2.594365</td>\n",
       "    </tr>\n",
       "    <tr>\n",
       "      <th>세탁세제</th>\n",
       "      <td>-10.547251</td>\n",
       "    </tr>\n",
       "    <tr>\n",
       "      <th>주방세제</th>\n",
       "      <td>-17.291145</td>\n",
       "    </tr>\n",
       "    <tr>\n",
       "      <th>헤어케어</th>\n",
       "      <td>-15.699809</td>\n",
       "    </tr>\n",
       "  </tbody>\n",
       "</table>\n",
       "</div>"
      ],
      "text/plain": [
       "          쿠팡출고수량\n",
       "카테고리            \n",
       "F&B   -12.470227\n",
       "ST     -3.915237\n",
       "기타     -3.223365\n",
       "덴탈케어  -21.115412\n",
       "매입브랜드  -2.594365\n",
       "세탁세제  -10.547251\n",
       "주방세제  -17.291145\n",
       "헤어케어  -15.699809"
      ]
     },
     "execution_count": 584,
     "metadata": {},
     "output_type": "execute_result"
    }
   ],
   "source": [
    "month7_mean = p1.pivot_table(index = '카테고리' , values = '쿠팡출고수량' , aggfunc = 'mean')\n",
    "month8_mean = p2.pivot_table(index = '카테고리' , values = '쿠팡출고수량' , aggfunc = 'mean')\n",
    "month7_mean - month8_mean"
   ]
  },
  {
   "cell_type": "markdown",
   "id": "c8eaa8b7-8fc7-4c77-a50c-50b52c7136a7",
   "metadata": {},
   "source": [
    "## 9. '입고수량'과 '쿠팡출고수량'의 상관관계를 산점도를 이용해 시각화 하시오. "
   ]
  },
  {
   "cell_type": "code",
   "execution_count": 534,
   "id": "25f9b68c-5311-4be2-9fae-687b57094f44",
   "metadata": {},
   "outputs": [
    {
     "data": {
      "text/plain": [
       "<Axes: xlabel='입고수량', ylabel='쿠팡출고수량'>"
      ]
     },
     "execution_count": 534,
     "metadata": {},
     "output_type": "execute_result"
    },
    {
     "data": {
      "image/png": "[encoded data removed]",
      "text/plain": [
       "<Figure size 640x480 with 1 Axes>"
      ]
     },
     "metadata": {},
     "output_type": "display_data"
    }
   ],
   "source": [
    "sns.scatterplot(df1, x= '입고수량' , y = '쿠팡출고수량')"
   ]
  },
  {
   "cell_type": "code",
   "execution_count": null,
   "id": "9521dffe-ecd7-4324-b1fd-95ae3b67e953",
   "metadata": {},
   "outputs": [],
   "source": []
  }
 ],
 "metadata": {
  "kernelspec": {
   "display_name": "Python 3 (ipykernel)",
   "language": "python",
   "name": "python3"
  },
  "language_info": {
   "codemirror_mode": {
    "name": "ipython",
    "version": 3
   },
   "file_extension": ".py",
   "mimetype": "text/x-python",
   "name": "python",
   "nbconvert_exporter": "python",
   "pygments_lexer": "ipython3",
   "version": "3.11.7"
  }
 },
 "nbformat": 4,
 "nbformat_minor": 5
}
