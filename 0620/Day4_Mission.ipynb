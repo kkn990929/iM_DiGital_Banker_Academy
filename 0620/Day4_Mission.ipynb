{
 "cells": [
  {
   "cell_type": "markdown",
   "id": "7d0a3c52-a16a-4066-a9e2-0df2fd7b3b97",
   "metadata": {},
   "source": [
    "# 미션풀이\n",
    "\n",
    "- 데이터가 병합된 Merge_Data.csv 를 df2로 선언해 사용\n",
    "- 시각화는 seaborn를 사용하여 시각화\n",
    "\n",
    "- 소매점 판매 데이터의 고객에 대한 분석을 수행하고자 한다."
   ]
  },
  {
   "cell_type": "code",
   "execution_count": 2,
   "id": "87a53d92-10c3-4932-8f1f-1d087faf0fc7",
   "metadata": {},
   "outputs": [],
   "source": [
    "df2 = pd.read_csv('Merge_Data.csv')"
   ]
  },
  {
   "cell_type": "markdown",
   "id": "74a18109-8e08-44a3-aeff-55026c54c7ff",
   "metadata": {},
   "source": [
    "## 1. 앞서 병합한 df2 데이터를 이용해, '총구매금액'이 높은 상위 100명의 고객 명단을 추출하여, result_member_vip.xlsx로 저장 하시오. "
   ]
  },
  {
   "cell_type": "code",
   "execution_count": null,
   "id": "a945b3ce-8ce4-4e36-b109-8ef0e0a49863",
   "metadata": {},
   "outputs": [],
   "source": []
  },
  {
   "cell_type": "markdown",
   "id": "2acf5ad9-646c-4feb-859c-824b61f99b90",
   "metadata": {},
   "source": [
    "## 2. 회원 '성별'에 따른 '총구매금액'의 합을 비교하고자 한다. '성별' 별 '총구매금액'의 합을 Table로 계산하시오."
   ]
  },
  {
   "cell_type": "code",
   "execution_count": null,
   "id": "510db772-e611-4c71-9e8b-5ccd69833d85",
   "metadata": {},
   "outputs": [],
   "source": []
  },
  {
   "cell_type": "markdown",
   "id": "23617f80-0880-4844-a617-b03096b8d524",
   "metadata": {},
   "source": [
    "## 3. '결혼유무'에서 '기혼'에 해당하는 고객들 중 '총방문횟수'가 높은 상위 30명의 고객명단을 확인 하시오."
   ]
  },
  {
   "cell_type": "code",
   "execution_count": null,
   "id": "66a5e6fe-fc56-41ec-b07a-86cea7094c4f",
   "metadata": {},
   "outputs": [],
   "source": []
  },
  {
   "cell_type": "markdown",
   "id": "1b7e4e79-06d1-4a81-8ba3-1579e26d20ad",
   "metadata": {},
   "source": [
    "## 4. '연령'을 이용해, 고객 '연령대'를 계산하고, '총구매금액'의 합이 가장 높은 2개의 '연령대'를 확인하여, 두 연령대 간의 '총구매금액'의 평균의 차이를 계산 하시오."
   ]
  },
  {
   "cell_type": "code",
   "execution_count": null,
   "id": "2c5ff9da-3c64-4fc4-81fa-44ba3ade7afe",
   "metadata": {},
   "outputs": [],
   "source": []
  },
  {
   "cell_type": "markdown",
   "id": "73f45a84-f25c-47f9-bb76-b4a4f5caac24",
   "metadata": {},
   "source": [
    "## 5. '회원상태'에 따른 '총구매금액'의 평균을 시각화 하시오."
   ]
  },
  {
   "cell_type": "code",
   "execution_count": null,
   "id": "0b8660ca-6c6f-46d0-b191-59cebd6085d8",
   "metadata": {},
   "outputs": [],
   "source": []
  },
  {
   "cell_type": "markdown",
   "id": "082b743b-323c-4e38-8e16-4e7a59d999d1",
   "metadata": {},
   "source": [
    "## 6. '총구매금액'을 '총방문횟수'로 나누어, '1회방문구매평균'을 계산하고, 생성된 파생변수를 바탕으로 아래와 같이 고객등급을 분류하시오.\n",
    "- '1회방문구매평균'이 10만원 이상 고객은 A / 5만원 이상은 B / 2만원 이상 C / 나머지는 D 등급으로 분류\n",
    "- 분류된 고객 등급은 '고객등급'이라는 새로운 파생변수로 생성 "
   ]
  },
  {
   "cell_type": "code",
   "execution_count": null,
   "id": "5e226b12-7533-424e-9420-6496b4522e4d",
   "metadata": {},
   "outputs": [],
   "source": []
  },
  {
   "cell_type": "markdown",
   "id": "40335211-8ec3-4c84-8beb-049ba0a95ca0",
   "metadata": {},
   "source": [
    "## 7. 새로 생성된 파생변수 '고객등급'에서 '기혼'자가 가장 많은 그룹은 어디 그룹인지 확인하시오."
   ]
  },
  {
   "cell_type": "code",
   "execution_count": null,
   "id": "bfffd5d5-c9b0-4a70-8b12-9660e126a00d",
   "metadata": {},
   "outputs": [],
   "source": []
  },
  {
   "cell_type": "markdown",
   "id": "c23e0d30-4b0a-4f5e-8dd3-e79d2adeec9f",
   "metadata": {},
   "source": [
    "## 8. df2 데이터에서 '주소'데이터를 바탕으로, \"시\" 별 '지역(시)'이라는 이름의 새로운 파생변수를 생성 하시오.\n",
    "- 서울시 / 용인시 / 성남시 /수원시 /광주시 / 나머지 지역은 기타로 분류 "
   ]
  },
  {
   "cell_type": "code",
   "execution_count": null,
   "id": "ca5de027-9f5a-4cb5-b121-0e5def713a5e",
   "metadata": {},
   "outputs": [],
   "source": []
  },
  {
   "cell_type": "markdown",
   "id": "a95520d9-da8c-4fc2-9215-372d6f9597d8",
   "metadata": {},
   "source": [
    "## 9. '고객등급'을 입력했을 때, 해당 고객등급에서 '성별'에 따른 '총구매금액' 기술통계량을 계산하여 'result9_등급명.xlsx'저장하는 프로그램을 구성 하시오."
   ]
  },
  {
   "cell_type": "code",
   "execution_count": null,
   "id": "5213d8ba-7129-4500-bf53-3cce23def53b",
   "metadata": {},
   "outputs": [],
   "source": []
  },
  {
   "cell_type": "markdown",
   "id": "06e7113e-f8be-4f67-be98-a32804f7bb09",
   "metadata": {},
   "source": [
    "## - 판매 품목에 대한 분석을 수행하고자 한다."
   ]
  },
  {
   "cell_type": "markdown",
   "id": "236390da-7a3a-40f3-b80c-e3406ed6481d",
   "metadata": {},
   "source": [
    "## 10. df_product데이터의 구조와 타입을 확인 하시오."
   ]
  },
  {
   "cell_type": "code",
   "execution_count": null,
   "id": "9ac36ab3-01be-46aa-82b9-c1ada2a278f6",
   "metadata": {},
   "outputs": [],
   "source": []
  },
  {
   "cell_type": "markdown",
   "id": "2a010e1b-8e5b-4565-be31-26ea53e52660",
   "metadata": {},
   "source": [
    "## 11. df_product데이터의'물품대분류' 중 가장 많이 판매되는(수량)3가지 항목을 추출하여, df_product_top이라는 변수로 선언하고, df_product_top에서 '구매매장'별 '구매금액'의 합과 평균을 계산 하시오."
   ]
  },
  {
   "cell_type": "code",
   "execution_count": null,
   "id": "6399a98e-c38b-4e59-8f2f-8d77066f25cb",
   "metadata": {},
   "outputs": [],
   "source": []
  },
  {
   "cell_type": "markdown",
   "id": "80756385-9b50-4abd-a679-62cef40ca0df",
   "metadata": {},
   "source": [
    "## 12. 공급일자'데이터를 날짜형식으로 변환하여, '연도' / '월' / '요일' 항목을 새로운 파생변수로 생성하시오."
   ]
  },
  {
   "cell_type": "code",
   "execution_count": null,
   "id": "efe9c8bf-35ab-484f-b0a2-16ec6bf7b0a0",
   "metadata": {},
   "outputs": [],
   "source": []
  },
  {
   "cell_type": "markdown",
   "id": "0bd7436a-6a8d-4ecd-8465-824cd931aba1",
   "metadata": {},
   "source": [
    "## 13. '월'에 따른'물품대분류'별 '구매금액'의 합을 게산하여 result8.xlsx저장 하시오."
   ]
  },
  {
   "cell_type": "code",
   "execution_count": null,
   "id": "02b964af-4e71-4620-9e88-fcd9c00b57ef",
   "metadata": {},
   "outputs": [],
   "source": []
  },
  {
   "cell_type": "markdown",
   "id": "b109b530-eb76-4e09-b7f3-6a890b7e732f",
   "metadata": {},
   "source": [
    "## 14. '요일'에서 '주말'과'주중'을 구분하여, '주중'과 '주말'의 구매수량의 합을 확인하시오."
   ]
  },
  {
   "cell_type": "code",
   "execution_count": null,
   "id": "331f9b2c-f6e0-4122-a85a-7e56e4905e9b",
   "metadata": {},
   "outputs": [],
   "source": []
  }
 ],
 "metadata": {
  "kernelspec": {
   "display_name": "Python 3 (ipykernel)",
   "language": "python",
   "name": "python3"
  },
  "language_info": {
   "codemirror_mode": {
    "name": "ipython",
    "version": 3
   },
   "file_extension": ".py",
   "mimetype": "text/x-python",
   "name": "python",
   "nbconvert_exporter": "python",
   "pygments_lexer": "ipython3",
   "version": "3.11.7"
  }
 },
 "nbformat": 4,
 "nbformat_minor": 5
}
