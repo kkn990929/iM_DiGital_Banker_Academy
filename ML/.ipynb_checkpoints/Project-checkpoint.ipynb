{
 "cells": [
  {
   "cell_type": "code",
   "execution_count": 1,
   "id": "96cee109-74cb-4b12-b508-be0cd37ae8f2",
   "metadata": {},
   "outputs": [],
   "source": [
    "import pandas as pd\n",
    "df = pd.read_excel(\"C:/Users/campus4D037/Documents/GitHub/iM_DiGitlal_Banker_Academy/ML/datas/Project_Data1.xlsx\")"
   ]
  },
  {
   "cell_type": "code",
   "execution_count": 3,
   "id": "0762b7b2-775e-4753-ab07-b04a4c5c72c0",
   "metadata": {},
   "outputs": [
    {
     "data": {
      "text/html": [
       "<div>\n",
       "<style scoped>\n",
       "    .dataframe tbody tr th:only-of-type {\n",
       "        vertical-align: middle;\n",
       "    }\n",
       "\n",
       "    .dataframe tbody tr th {\n",
       "        vertical-align: top;\n",
       "    }\n",
       "\n",
       "    .dataframe thead th {\n",
       "        text-align: right;\n",
       "    }\n",
       "</style>\n",
       "<table border=\"1\" class=\"dataframe\">\n",
       "  <thead>\n",
       "    <tr style=\"text-align: right;\">\n",
       "      <th></th>\n",
       "      <th>위치</th>\n",
       "      <th>일자</th>\n",
       "      <th>현재발전출력</th>\n",
       "      <th>수평일사량1</th>\n",
       "      <th>수평일사량2</th>\n",
       "      <th>경사일사량1</th>\n",
       "      <th>경사일사량2</th>\n",
       "      <th>외기온도1</th>\n",
       "      <th>외기온도2</th>\n",
       "    </tr>\n",
       "  </thead>\n",
       "  <tbody>\n",
       "    <tr>\n",
       "      <th>0</th>\n",
       "      <td>A</td>\n",
       "      <td>2019-01-01</td>\n",
       "      <td>110.657369</td>\n",
       "      <td>126.177314</td>\n",
       "      <td>154.397648</td>\n",
       "      <td>132.259603</td>\n",
       "      <td>160.382978</td>\n",
       "      <td>14.841146</td>\n",
       "      <td>15.428378</td>\n",
       "    </tr>\n",
       "    <tr>\n",
       "      <th>1</th>\n",
       "      <td>A</td>\n",
       "      <td>2019-01-02</td>\n",
       "      <td>328.857233</td>\n",
       "      <td>352.846093</td>\n",
       "      <td>372.683510</td>\n",
       "      <td>382.959001</td>\n",
       "      <td>406.382636</td>\n",
       "      <td>15.685417</td>\n",
       "      <td>14.837355</td>\n",
       "    </tr>\n",
       "    <tr>\n",
       "      <th>2</th>\n",
       "      <td>A</td>\n",
       "      <td>2019-01-03</td>\n",
       "      <td>344.740215</td>\n",
       "      <td>388.097375</td>\n",
       "      <td>424.301904</td>\n",
       "      <td>421.362986</td>\n",
       "      <td>459.246443</td>\n",
       "      <td>15.189286</td>\n",
       "      <td>16.407851</td>\n",
       "    </tr>\n",
       "    <tr>\n",
       "      <th>3</th>\n",
       "      <td>A</td>\n",
       "      <td>2019-01-04</td>\n",
       "      <td>359.595589</td>\n",
       "      <td>358.813102</td>\n",
       "      <td>383.930114</td>\n",
       "      <td>380.419512</td>\n",
       "      <td>407.340175</td>\n",
       "      <td>15.935537</td>\n",
       "      <td>16.102201</td>\n",
       "    </tr>\n",
       "    <tr>\n",
       "      <th>4</th>\n",
       "      <td>A</td>\n",
       "      <td>2019-01-05</td>\n",
       "      <td>358.737685</td>\n",
       "      <td>319.165867</td>\n",
       "      <td>355.007110</td>\n",
       "      <td>338.567568</td>\n",
       "      <td>379.146572</td>\n",
       "      <td>16.579135</td>\n",
       "      <td>16.859500</td>\n",
       "    </tr>\n",
       "  </tbody>\n",
       "</table>\n",
       "</div>"
      ],
      "text/plain": [
       "  위치         일자      현재발전출력      수평일사량1      수평일사량2      경사일사량1      경사일사량2  \\\n",
       "0  A 2019-01-01  110.657369  126.177314  154.397648  132.259603  160.382978   \n",
       "1  A 2019-01-02  328.857233  352.846093  372.683510  382.959001  406.382636   \n",
       "2  A 2019-01-03  344.740215  388.097375  424.301904  421.362986  459.246443   \n",
       "3  A 2019-01-04  359.595589  358.813102  383.930114  380.419512  407.340175   \n",
       "4  A 2019-01-05  358.737685  319.165867  355.007110  338.567568  379.146572   \n",
       "\n",
       "       외기온도1      외기온도2  \n",
       "0  14.841146  15.428378  \n",
       "1  15.685417  14.837355  \n",
       "2  15.189286  16.407851  \n",
       "3  15.935537  16.102201  \n",
       "4  16.579135  16.859500  "
      ]
     },
     "execution_count": 3,
     "metadata": {},
     "output_type": "execute_result"
    }
   ],
   "source": [
    "df.head()"
   ]
  },
  {
   "cell_type": "code",
   "execution_count": 5,
   "id": "f87b39ea-3cbc-4dee-a4ba-3982a67df79a",
   "metadata": {},
   "outputs": [
    {
     "data": {
      "text/plain": [
       "위치\n",
       "A    2190\n",
       "B    2190\n",
       "C    2190\n",
       "D    2190\n",
       "E    2190\n",
       "Name: count, dtype: int64"
      ]
     },
     "execution_count": 5,
     "metadata": {},
     "output_type": "execute_result"
    }
   ],
   "source": [
    "df['위치'].value_counts()"
   ]
  },
  {
   "cell_type": "code",
   "execution_count": 10,
   "id": "6073314f-f0f8-423e-8db7-2dd10f28cba9",
   "metadata": {},
   "outputs": [
    {
     "name": "stdout",
     "output_type": "stream",
     "text": [
      "<class 'pandas.core.frame.DataFrame'>\n",
      "RangeIndex: 10950 entries, 0 to 10949\n",
      "Data columns (total 9 columns):\n",
      " #   Column  Non-Null Count  Dtype         \n",
      "---  ------  --------------  -----         \n",
      " 0   위치      10950 non-null  object        \n",
      " 1   일자      10950 non-null  datetime64[ns]\n",
      " 2   현재발전출력  10950 non-null  float64       \n",
      " 3   수평일사량1  10950 non-null  float64       \n",
      " 4   수평일사량2  10950 non-null  float64       \n",
      " 5   경사일사량1  10950 non-null  float64       \n",
      " 6   경사일사량2  10950 non-null  float64       \n",
      " 7   외기온도1   10950 non-null  float64       \n",
      " 8   외기온도2   10950 non-null  float64       \n",
      "dtypes: datetime64[ns](1), float64(7), object(1)\n",
      "memory usage: 770.1+ KB\n"
     ]
    }
   ],
   "source": [
    "df.info()"
   ]
  },
  {
   "cell_type": "code",
   "execution_count": 18,
   "id": "44c22fa9-e3ba-4c46-9b37-8f2b897df8a1",
   "metadata": {},
   "outputs": [
    {
     "data": {
      "image/png": "[encoded data removed]",
      "text/plain": [
       "<Figure size 800x600 with 1 Axes>"
      ]
     },
     "metadata": {},
     "output_type": "display_data"
    }
   ],
   "source": [
    "import matplotlib.pyplot as plt\n",
    "plt.rcParams['font.family'] ='Malgun Gothic'\n",
    "plt.rcParams['axes.unicode_minus'] =False\n",
    "\n",
    "# Boxplot 그리기\n",
    "plt.figure(figsize=(8, 6))\n",
    "df.boxplot(column='수평일사량1')\n",
    "plt.show()"
   ]
  },
  {
   "cell_type": "code",
   "execution_count": null,
   "id": "b6bec144-5f87-4a68-927f-71df00945938",
   "metadata": {},
   "outputs": [],
   "source": []
  }
 ],
 "metadata": {
  "kernelspec": {
   "display_name": "Python 3 (ipykernel)",
   "language": "python",
   "name": "python3"
  },
  "language_info": {
   "codemirror_mode": {
    "name": "ipython",
    "version": 3
   },
   "file_extension": ".py",
   "mimetype": "text/x-python",
   "name": "python",
   "nbconvert_exporter": "python",
   "pygments_lexer": "ipython3",
   "version": "3.11.7"
  }
 },
 "nbformat": 4,
 "nbformat_minor": 5
}
