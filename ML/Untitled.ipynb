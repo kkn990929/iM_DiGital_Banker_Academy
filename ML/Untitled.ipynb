{
 "cells": [
  {
   "cell_type": "code",
   "execution_count": 3,
   "id": "d23f50b6-8575-41a2-a386-2911e2d3408b",
   "metadata": {},
   "outputs": [
    {
     "name": "stderr",
     "output_type": "stream",
     "text": [
      "C:\\Users\\campus4D037\\AppData\\Local\\Temp\\ipykernel_26604\\980596272.py:18: SettingWithCopyWarning: \n",
      "A value is trying to be set on a copy of a slice from a DataFrame.\n",
      "Try using .loc[row_indexer,col_indexer] = value instead\n",
      "\n",
      "See the caveats in the documentation: https://pandas.pydata.org/pandas-docs/stable/user_guide/indexing.html#returning-a-view-versus-a-copy\n",
      "  df2['일자'] = pd.to_datetime(df['일자'])\n",
      "C:\\Users\\campus4D037\\AppData\\Local\\Temp\\ipykernel_26604\\980596272.py:19: SettingWithCopyWarning: \n",
      "A value is trying to be set on a copy of a slice from a DataFrame.\n",
      "Try using .loc[row_indexer,col_indexer] = value instead\n",
      "\n",
      "See the caveats in the documentation: https://pandas.pydata.org/pandas-docs/stable/user_guide/indexing.html#returning-a-view-versus-a-copy\n",
      "  df2['월'] = df2['일자'].dt.month\n"
     ]
    },
    {
     "ename": "NameError",
     "evalue": "name 'add_constant' is not defined",
     "output_type": "error",
     "traceback": [
      "\u001b[1;31m---------------------------------------------------------------------------\u001b[0m",
      "\u001b[1;31mNameError\u001b[0m                                 Traceback (most recent call last)",
      "Cell \u001b[1;32mIn[3], line 31\u001b[0m\n\u001b[0;32m     29\u001b[0m \u001b[38;5;66;03m# 스케일링된 데이터를 DataFrame으로 변환\u001b[39;00m\n\u001b[0;32m     30\u001b[0m X_scaled_df \u001b[38;5;241m=\u001b[39m pd\u001b[38;5;241m.\u001b[39mDataFrame(X_scaled, columns\u001b[38;5;241m=\u001b[39mfeatures, index\u001b[38;5;241m=\u001b[39mdf2\u001b[38;5;241m.\u001b[39mindex)\n\u001b[1;32m---> 31\u001b[0m X_scaled_df_with_const \u001b[38;5;241m=\u001b[39m add_constant(X_scaled_df)\n\u001b[0;32m     32\u001b[0m \u001b[38;5;66;03m# VIF 계산\u001b[39;00m\n\u001b[0;32m     33\u001b[0m vif_data \u001b[38;5;241m=\u001b[39m pd\u001b[38;5;241m.\u001b[39mDataFrame()\n",
      "\u001b[1;31mNameError\u001b[0m: name 'add_constant' is not defined"
     ]
    }
   ],
   "source": [
    "import pandas as pd\n",
    "import numpy as np\n",
    "import matplotlib.pyplot as plt\n",
    "import seaborn as sns\n",
    "from sklearn.model_selection import train_test_split\n",
    "from sklearn.linear_model import LinearRegression\n",
    "from sklearn.metrics import mean_squared_error, r2_score\n",
    "from sklearn.preprocessing import MinMaxScaler\n",
    "from sklearn.preprocessing import RobustScaler\n",
    "from sklearn.preprocessing import RobustScaler\n",
    "# 데이터 불러오기\n",
    "df = pd.read_excel(\"C:/Users/campus4D037/iM DiGital Bank/ML/datas/Project_Data1.xlsx\")\n",
    "pd.set_option('display.precision', 8)\n",
    "cond1 = df['위치'] == 'C'\n",
    "df2 = df.loc[cond1]\n",
    "df2\n",
    "# '일자' 컬럼을 datetime 형식으로 변환\n",
    "df2['일자'] = pd.to_datetime(df['일자'])\n",
    "df2['월'] = df2['일자'].dt.month\n",
    "# 필요한 열만 선택\n",
    "features = ['수평일사량1', '수평일사량2', '경사일사량1', '경사일사량2', '외기온도1', '외기온도2','월']\n",
    "target = '현재발전출력'\n",
    "# 독립 변수와 종속 변수 설정\n",
    "X = df2[features]\n",
    "y = df2[target]\n",
    "# Min-Max 스케일링\n",
    "scaler = RobustScaler()\n",
    "X_scaled = scaler.fit_transform(X)\n",
    "# 스케일링된 데이터를 DataFrame으로 변환\n",
    "X_scaled_df = pd.DataFrame(X_scaled, columns=features, index=df2.index)\n",
    "X_scaled_df_with_const = add_constant(X_scaled_df)\n",
    "# VIF 계산\n",
    "vif_data = pd.DataFrame()\n",
    "vif_data['Feature'] = X_scaled_df_with_const.columns\n",
    "vif_data['VIF'] = [variance_inflation_factor(X_scaled_df_with_const.values, i) for i in range(X_scaled_df_with_const.shape[1])]\n",
    "print(\"\\nVIF 값:\")\n",
    "print(vif_data)\n",
    "# 데이터 분할 (훈련 세트: 70%, 테스트 세트: 30%)\n",
    "X_train, X_test, y_train, y_test = train_test_split(X_scaled_df, y, test_size=0.3, random_state=42)\n",
    "# 선형 회귀 모델 초기화 및 학습\n",
    "model = LinearRegression()\n",
    "model.fit(X_train, y_train)\n",
    "# 예측\n",
    "y_pred = model.predict(X_test)\n",
    "# 성능 평가\n",
    "mse = mean_squared_error(y_test, y_pred)\n",
    "rmse = np.sqrt(mse)\n",
    "r2 = r2_score(y_test, y_pred)\n",
    "print(f'RMSE: {rmse:.2f}')\n",
    "print(f'R^2: {r2:.2f}')\n",
    "# 회귀 계수와 절편\n",
    "coefficients = model.coef_\n",
    "intercept = model.intercept_\n",
    "# 결과 출력\n",
    "for feature, coef in zip(features, coefficients):\n",
    "    print(f'{feature}: {coef:.2f}')\n",
    "print(f'Intercept: {intercept:.2f}')"
   ]
  },
  {
   "cell_type": "code",
   "execution_count": null,
   "id": "20e8b45c-caa5-4f0c-b487-33602165528a",
   "metadata": {},
   "outputs": [],
   "source": []
  }
 ],
 "metadata": {
  "kernelspec": {
   "display_name": "Python 3 (ipykernel)",
   "language": "python",
   "name": "python3"
  },
  "language_info": {
   "codemirror_mode": {
    "name": "ipython",
    "version": 3
   },
   "file_extension": ".py",
   "mimetype": "text/x-python",
   "name": "python",
   "nbconvert_exporter": "python",
   "pygments_lexer": "ipython3",
   "version": "3.11.7"
  }
 },
 "nbformat": 4,
 "nbformat_minor": 5
}
