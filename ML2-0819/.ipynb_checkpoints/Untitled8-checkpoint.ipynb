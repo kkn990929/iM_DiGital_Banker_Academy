{
 "cells": [
  {
   "cell_type": "code",
   "execution_count": 3,
   "id": "a33d8fc9-89fc-4ff2-9a9b-0b95d8ea2108",
   "metadata": {},
   "outputs": [],
   "source": [
    "import numpy as np\n",
    "import pandas as pd\n",
    "from sklearn.model_selection import train_test_split\n",
    "from sklearn.linear_model import LinearRegression\n",
    "from sklearn.metrics import mean_squared_error\n",
    "import matplotlib.pyplot as plt\n",
    "import FinanceDataReader as fdr\n",
    "from sklearn.ensemble import RandomForestClassifier\n",
    "# from xgboost import XGBClassifier"
   ]
  },
  {
   "cell_type": "code",
   "execution_count": 5,
   "id": "1904b35d-8081-46b2-a9b7-a1c88990e05a",
   "metadata": {},
   "outputs": [
    {
     "name": "stdout",
     "output_type": "stream",
     "text": [
      "042660\n",
      "012330\n"
     ]
    }
   ],
   "source": [
    "kos_df = fdr.StockListing('KOSPI')\n",
    "print(kos_df[kos_df['Name'] == '한화오션'][['Code']].iloc[0,0])\n",
    "print(kos_df[kos_df['Name'] == '현대모비스'][['Code']].iloc[0,0])"
   ]
  },
  {
   "cell_type": "code",
   "execution_count": 11,
   "id": "63fed7df-83b7-43f4-8317-c431b363112c",
   "metadata": {},
   "outputs": [],
   "source": [
    "HHO_df = fdr.DataReader('042660')\n",
    "cars_df = fdr.DataReader('012330')"
   ]
  },
  {
   "cell_type": "code",
   "execution_count": 13,
   "id": "8db3e319-9ae6-4667-92e6-613fe89297a5",
   "metadata": {},
   "outputs": [
    {
     "name": "stdout",
     "output_type": "stream",
     "text": [
      "(5819, 6)\n",
      "(6000, 6)\n",
      "Open      0\n",
      "High      0\n",
      "Low       0\n",
      "Close     0\n",
      "Volume    0\n",
      "Change    1\n",
      "dtype: int64\n",
      "Open      0\n",
      "High      0\n",
      "Low       0\n",
      "Close     0\n",
      "Volume    0\n",
      "Change    1\n",
      "dtype: int64\n"
     ]
    }
   ],
   "source": [
    "print(HHO_df.shape)\n",
    "print(cars_df.shape)\n",
    "print(HHO_df.isnull().sum())\n",
    "print(cars_df.isnull().sum())"
   ]
  },
  {
   "cell_type": "code",
   "execution_count": null,
   "id": "3a26ab49-645c-42ea-991c-4c60b6d4e52e",
   "metadata": {},
   "outputs": [],
   "source": []
  },
  {
   "cell_type": "code",
   "execution_count": 6,
   "id": "eafaf551-90ba-4e51-8b40-2bde6ca989a1",
   "metadata": {},
   "outputs": [],
   "source": [
    "cars_df = HHO_df.reset_index()\n",
    "cars_df_train = HHO_df[HHO_df['Date'] <= '2023-08-19']\n",
    "cars_df_test = HHO_df[HHO_df['Date'] > '2023-08-19']"
   ]
  },
  {
   "cell_type": "code",
   "execution_count": null,
   "id": "e146aab3-b3f8-40b0-9a8a-d85fcb80177a",
   "metadata": {},
   "outputs": [],
   "source": [
    "import pandas as pd\n",
    "import numpy as np\n",
    "from sklearn.model_selection import train_test_split\n",
    "from xgboost import XGBRegressor\n",
    "from sklearn.metrics import mean_squared_error\n",
    "\n",
    "n_days = 5\n",
    "train_features = []\n",
    "train_target = []\n",
    "\n",
    "test_features = []\n",
    "test_target = []\n",
    "for i in range(n_days, len(cars_df_train)):\n",
    "    train_features.append(cars_df_train[['Open', 'High', 'Low', 'Volume', 'Change']].iloc[i-n_days:i].values.flatten())\n",
    "    train_target.append(cars_df_train['Close'].iloc[i])\n",
    "\n",
    "X_train = np.array(train_features)\n",
    "y_train = np.array(train_target)\n",
    "\n",
    "for i in range(n_days, len(cars_df_test)):\n",
    "    test_features.append(cars_df_test[['Open', 'High', 'Low', 'Volume', 'Change']].iloc[i-n_days:i].values.flatten())\n",
    "    test_target.append(cars_df_test['Close'].iloc[i])\n",
    "\n",
    "X_test = np.array(test_features)\n",
    "y_test = np.array(test_target)\n",
    "\n",
    "from sklearn.preprocessing import StandardScaler, RobustScaler\n",
    "scaler = RobustScaler()\n",
    "\n",
    "\n",
    "X_train_scaled = scaler.fit_transform(X_train)\n",
    "X_test_scaled = scaler.transform(X_test)\n",
    "\n",
    "model_movis = XGBRegressor(n_estimators=100, max_depth=3, learning_rate=0.1)\n",
    "model_movis.fit(X_train_scaled, y)\n",
    "\n",
    "y_pred = model_movis.predict(X_test_scaled)\n",
    "\n",
    "mse = mean_squared_error(y_test, y_pred)\n",
    "socre = model_movis.score(X_test_scaled, y_test)\n",
    "print(f'mse : {mse}', f'R2 : {socre}')"
   ]
  }
 ],
 "metadata": {
  "kernelspec": {
   "display_name": "Python 3 (ipykernel)",
   "language": "python",
   "name": "python3"
  },
  "language_info": {
   "codemirror_mode": {
    "name": "ipython",
    "version": 3
   },
   "file_extension": ".py",
   "mimetype": "text/x-python",
   "name": "python",
   "nbconvert_exporter": "python",
   "pygments_lexer": "ipython3",
   "version": "3.11.7"
  }
 },
 "nbformat": 4,
 "nbformat_minor": 5
}
