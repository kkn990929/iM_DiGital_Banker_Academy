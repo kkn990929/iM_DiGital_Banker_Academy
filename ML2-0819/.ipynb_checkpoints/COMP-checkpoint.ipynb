{
 "cells": [
  {
   "cell_type": "code",
   "execution_count": 1,
   "id": "820320cf-1b00-495c-baf1-da7fcd9af0d5",
   "metadata": {},
   "outputs": [],
   "source": [
    "import pandas as pd\n",
    "import numpy as np"
   ]
  },
  {
   "cell_type": "code",
   "execution_count": 2,
   "id": "2b7c5296-e3ec-426c-a1ee-e1a78f14136f",
   "metadata": {},
   "outputs": [
    {
     "data": {
      "text/html": [
       "<div>\n",
       "<style scoped>\n",
       "    .dataframe tbody tr th:only-of-type {\n",
       "        vertical-align: middle;\n",
       "    }\n",
       "\n",
       "    .dataframe tbody tr th {\n",
       "        vertical-align: top;\n",
       "    }\n",
       "\n",
       "    .dataframe thead th {\n",
       "        text-align: right;\n",
       "    }\n",
       "</style>\n",
       "<table border=\"1\" class=\"dataframe\">\n",
       "  <thead>\n",
       "    <tr style=\"text-align: right;\">\n",
       "      <th></th>\n",
       "      <th>Date</th>\n",
       "      <th>Open</th>\n",
       "      <th>High</th>\n",
       "      <th>Low</th>\n",
       "      <th>Close</th>\n",
       "      <th>Volume</th>\n",
       "      <th>Change</th>\n",
       "    </tr>\n",
       "  </thead>\n",
       "  <tbody>\n",
       "    <tr>\n",
       "      <th>0</th>\n",
       "      <td>2001-02-02</td>\n",
       "      <td>1553</td>\n",
       "      <td>1787</td>\n",
       "      <td>1553</td>\n",
       "      <td>1787</td>\n",
       "      <td>9723154</td>\n",
       "      <td>NaN</td>\n",
       "    </tr>\n",
       "    <tr>\n",
       "      <th>1</th>\n",
       "      <td>2001-02-05</td>\n",
       "      <td>1860</td>\n",
       "      <td>1864</td>\n",
       "      <td>1562</td>\n",
       "      <td>1776</td>\n",
       "      <td>7686628</td>\n",
       "      <td>-0.006156</td>\n",
       "    </tr>\n",
       "    <tr>\n",
       "      <th>2</th>\n",
       "      <td>2001-02-06</td>\n",
       "      <td>2042</td>\n",
       "      <td>2042</td>\n",
       "      <td>1869</td>\n",
       "      <td>1994</td>\n",
       "      <td>7714656</td>\n",
       "      <td>0.122748</td>\n",
       "    </tr>\n",
       "    <tr>\n",
       "      <th>3</th>\n",
       "      <td>2001-02-07</td>\n",
       "      <td>1975</td>\n",
       "      <td>1975</td>\n",
       "      <td>1802</td>\n",
       "      <td>1807</td>\n",
       "      <td>3855729</td>\n",
       "      <td>-0.093781</td>\n",
       "    </tr>\n",
       "    <tr>\n",
       "      <th>4</th>\n",
       "      <td>2001-02-08</td>\n",
       "      <td>1687</td>\n",
       "      <td>1812</td>\n",
       "      <td>1687</td>\n",
       "      <td>1719</td>\n",
       "      <td>4004511</td>\n",
       "      <td>-0.048700</td>\n",
       "    </tr>\n",
       "  </tbody>\n",
       "</table>\n",
       "</div>"
      ],
      "text/plain": [
       "         Date  Open  High   Low  Close   Volume    Change\n",
       "0  2001-02-02  1553  1787  1553   1787  9723154       NaN\n",
       "1  2001-02-05  1860  1864  1562   1776  7686628 -0.006156\n",
       "2  2001-02-06  2042  2042  1869   1994  7714656  0.122748\n",
       "3  2001-02-07  1975  1975  1802   1807  3855729 -0.093781\n",
       "4  2001-02-08  1687  1812  1687   1719  4004511 -0.048700"
      ]
     },
     "execution_count": 2,
     "metadata": {},
     "output_type": "execute_result"
    }
   ],
   "source": [
    "HHO = pd.read_csv(\"C:/Users/campus4D037/iM DiGital Bank/ML2-0819/datas/COMP/한화오션.csv\")\n",
    "HHO.head()"
   ]
  },
  {
   "cell_type": "code",
   "execution_count": 3,
   "id": "30e911c7-f669-4a69-a126-40033b8c384b",
   "metadata": {},
   "outputs": [
    {
     "name": "stdout",
     "output_type": "stream",
     "text": [
      "<class 'pandas.core.frame.DataFrame'>\n",
      "RangeIndex: 5817 entries, 0 to 5816\n",
      "Data columns (total 7 columns):\n",
      " #   Column  Non-Null Count  Dtype  \n",
      "---  ------  --------------  -----  \n",
      " 0   Date    5817 non-null   object \n",
      " 1   Open    5817 non-null   int64  \n",
      " 2   High    5817 non-null   int64  \n",
      " 3   Low     5817 non-null   int64  \n",
      " 4   Close   5817 non-null   int64  \n",
      " 5   Volume  5817 non-null   int64  \n",
      " 6   Change  5816 non-null   float64\n",
      "dtypes: float64(1), int64(5), object(1)\n",
      "memory usage: 318.2+ KB\n"
     ]
    }
   ],
   "source": [
    "HHO.info()"
   ]
  },
  {
   "cell_type": "code",
   "execution_count": 4,
   "id": "d487932e-2ac4-4e00-ac8e-b22a1792541e",
   "metadata": {},
   "outputs": [],
   "source": [
    "HHO['Date'] = pd.to_datetime(HHO['Date'])"
   ]
  },
  {
   "cell_type": "code",
   "execution_count": 5,
   "id": "c74ba5b8-dad4-49d9-943c-a34f6e43826c",
   "metadata": {},
   "outputs": [],
   "source": [
    "HHO['Year'] = HHO['Date'].dt.year\n"
   ]
  },
  {
   "cell_type": "code",
   "execution_count": 6,
   "id": "2a359481-b8a3-4747-b7e3-2f85e77d0535",
   "metadata": {},
   "outputs": [
    {
     "name": "stdout",
     "output_type": "stream",
     "text": [
      "<class 'pandas.core.frame.DataFrame'>\n",
      "RangeIndex: 5817 entries, 0 to 5816\n",
      "Data columns (total 8 columns):\n",
      " #   Column  Non-Null Count  Dtype         \n",
      "---  ------  --------------  -----         \n",
      " 0   Date    5817 non-null   datetime64[ns]\n",
      " 1   Open    5817 non-null   int64         \n",
      " 2   High    5817 non-null   int64         \n",
      " 3   Low     5817 non-null   int64         \n",
      " 4   Close   5817 non-null   int64         \n",
      " 5   Volume  5817 non-null   int64         \n",
      " 6   Change  5816 non-null   float64       \n",
      " 7   Year    5817 non-null   int32         \n",
      "dtypes: datetime64[ns](1), float64(1), int32(1), int64(5)\n",
      "memory usage: 341.0 KB\n"
     ]
    }
   ],
   "source": [
    "HHO.info()"
   ]
  },
  {
   "cell_type": "code",
   "execution_count": 7,
   "id": "e265a92e-93f3-4950-b38b-d20dd15e88d8",
   "metadata": {},
   "outputs": [
    {
     "data": {
      "text/plain": [
       "Year\n",
       "2009    253\n",
       "2010    251\n",
       "2004    249\n",
       "2005    249\n",
       "2012    248\n",
       "2011    248\n",
       "2021    248\n",
       "2020    248\n",
       "2015    248\n",
       "2008    248\n",
       "2013    247\n",
       "2006    247\n",
       "2003    247\n",
       "2007    246\n",
       "2016    246\n",
       "2019    246\n",
       "2022    246\n",
       "2023    245\n",
       "2014    245\n",
       "2002    244\n",
       "2018    244\n",
       "2017    243\n",
       "2001    226\n",
       "2024    155\n",
       "Name: count, dtype: int64"
      ]
     },
     "execution_count": 7,
     "metadata": {},
     "output_type": "execute_result"
    }
   ],
   "source": [
    "HHO['Year'].value_counts()"
   ]
  },
  {
   "cell_type": "code",
   "execution_count": 8,
   "id": "97707ba9-c42f-4f2e-aaca-009d553b634c",
   "metadata": {},
   "outputs": [
    {
     "data": {
      "text/plain": [
       "Year\n",
       "2009    253\n",
       "2010    251\n",
       "2004    249\n",
       "2005    249\n",
       "2015    248\n",
       "2021    248\n",
       "2011    248\n",
       "2012    248\n",
       "2008    248\n",
       "2020    248\n",
       "2013    247\n",
       "2006    247\n",
       "2003    247\n",
       "2019    246\n",
       "2007    246\n",
       "2022    246\n",
       "2016    246\n",
       "2023    245\n",
       "2014    245\n",
       "2018    244\n",
       "2002    244\n",
       "2017    243\n",
       "2001    226\n",
       "Name: count, dtype: int64"
      ]
     },
     "execution_count": 8,
     "metadata": {},
     "output_type": "execute_result"
    }
   ],
   "source": [
    "train_HHO = HHO[HHO['Year'] != 2024]\n",
    "train_HHO['Year'].value_counts()"
   ]
  },
  {
   "cell_type": "code",
   "execution_count": 9,
   "id": "1a84e962-0a0a-4437-bb99-491c2c054034",
   "metadata": {},
   "outputs": [],
   "source": [
    "test_HHO = HHO[HHO['Year'] == 2024]\n",
    "test_HHO['Year'].value_counts()"
   ]
  },
  {
   "cell_type": "code",
   "execution_count": 11,
   "id": "9deccba2-8827-4831-a551-dd0dd632bdc8",
   "metadata": {},
   "outputs": [
    {
     "name": "stdout",
     "output_type": "stream",
     "text": [
      "<class 'pandas.core.frame.DataFrame'>\n",
      "Index: 5662 entries, 0 to 5661\n",
      "Data columns (total 8 columns):\n",
      " #   Column  Non-Null Count  Dtype         \n",
      "---  ------  --------------  -----         \n",
      " 0   Date    5662 non-null   datetime64[ns]\n",
      " 1   Open    5662 non-null   int64         \n",
      " 2   High    5662 non-null   int64         \n",
      " 3   Low     5662 non-null   int64         \n",
      " 4   Close   5662 non-null   int64         \n",
      " 5   Volume  5662 non-null   int64         \n",
      " 6   Change  5661 non-null   float64       \n",
      " 7   Year    5662 non-null   int32         \n",
      "dtypes: datetime64[ns](1), float64(1), int32(1), int64(5)\n",
      "memory usage: 376.0 KB\n"
     ]
    }
   ],
   "source": [
    "train_HHO.info()"
   ]
  },
  {
   "cell_type": "code",
   "execution_count": 12,
   "id": "f26ecbfc-1316-4c31-bde0-00b0928f45e6",
   "metadata": {},
   "outputs": [
    {
     "name": "stdout",
     "output_type": "stream",
     "text": [
      "<class 'pandas.core.frame.DataFrame'>\n",
      "Index: 155 entries, 5662 to 5816\n",
      "Data columns (total 8 columns):\n",
      " #   Column  Non-Null Count  Dtype         \n",
      "---  ------  --------------  -----         \n",
      " 0   Date    155 non-null    datetime64[ns]\n",
      " 1   Open    155 non-null    int64         \n",
      " 2   High    155 non-null    int64         \n",
      " 3   Low     155 non-null    int64         \n",
      " 4   Close   155 non-null    int64         \n",
      " 5   Volume  155 non-null    int64         \n",
      " 6   Change  155 non-null    float64       \n",
      " 7   Year    155 non-null    int32         \n",
      "dtypes: datetime64[ns](1), float64(1), int32(1), int64(5)\n",
      "memory usage: 10.3 KB\n"
     ]
    }
   ],
   "source": [
    "test_HHO.info()"
   ]
  },
  {
   "cell_type": "code",
   "execution_count": 84,
   "id": "56d2b937-91e2-4dca-85db-5de0514ed763",
   "metadata": {},
   "outputs": [
    {
     "data": {
      "text/html": [
       "<div>\n",
       "<style scoped>\n",
       "    .dataframe tbody tr th:only-of-type {\n",
       "        vertical-align: middle;\n",
       "    }\n",
       "\n",
       "    .dataframe tbody tr th {\n",
       "        vertical-align: top;\n",
       "    }\n",
       "\n",
       "    .dataframe thead th {\n",
       "        text-align: right;\n",
       "    }\n",
       "</style>\n",
       "<table border=\"1\" class=\"dataframe\">\n",
       "  <thead>\n",
       "    <tr style=\"text-align: right;\">\n",
       "      <th></th>\n",
       "      <th>Date</th>\n",
       "      <th>Open</th>\n",
       "      <th>High</th>\n",
       "      <th>Low</th>\n",
       "      <th>Close</th>\n",
       "      <th>Volume</th>\n",
       "      <th>Change</th>\n",
       "      <th>Year</th>\n",
       "    </tr>\n",
       "  </thead>\n",
       "  <tbody>\n",
       "    <tr>\n",
       "      <th>0</th>\n",
       "      <td>2001-02-02</td>\n",
       "      <td>1553</td>\n",
       "      <td>1787</td>\n",
       "      <td>1553</td>\n",
       "      <td>1787</td>\n",
       "      <td>9723154</td>\n",
       "      <td>NaN</td>\n",
       "      <td>2001</td>\n",
       "    </tr>\n",
       "    <tr>\n",
       "      <th>1</th>\n",
       "      <td>2001-02-05</td>\n",
       "      <td>1860</td>\n",
       "      <td>1864</td>\n",
       "      <td>1562</td>\n",
       "      <td>1776</td>\n",
       "      <td>7686628</td>\n",
       "      <td>-0.006156</td>\n",
       "      <td>2001</td>\n",
       "    </tr>\n",
       "    <tr>\n",
       "      <th>2</th>\n",
       "      <td>2001-02-06</td>\n",
       "      <td>2042</td>\n",
       "      <td>2042</td>\n",
       "      <td>1869</td>\n",
       "      <td>1994</td>\n",
       "      <td>7714656</td>\n",
       "      <td>0.122748</td>\n",
       "      <td>2001</td>\n",
       "    </tr>\n",
       "    <tr>\n",
       "      <th>3</th>\n",
       "      <td>2001-02-07</td>\n",
       "      <td>1975</td>\n",
       "      <td>1975</td>\n",
       "      <td>1802</td>\n",
       "      <td>1807</td>\n",
       "      <td>3855729</td>\n",
       "      <td>-0.093781</td>\n",
       "      <td>2001</td>\n",
       "    </tr>\n",
       "    <tr>\n",
       "      <th>4</th>\n",
       "      <td>2001-02-08</td>\n",
       "      <td>1687</td>\n",
       "      <td>1812</td>\n",
       "      <td>1687</td>\n",
       "      <td>1719</td>\n",
       "      <td>4004511</td>\n",
       "      <td>-0.048700</td>\n",
       "      <td>2001</td>\n",
       "    </tr>\n",
       "    <tr>\n",
       "      <th>...</th>\n",
       "      <td>...</td>\n",
       "      <td>...</td>\n",
       "      <td>...</td>\n",
       "      <td>...</td>\n",
       "      <td>...</td>\n",
       "      <td>...</td>\n",
       "      <td>...</td>\n",
       "      <td>...</td>\n",
       "    </tr>\n",
       "    <tr>\n",
       "      <th>5657</th>\n",
       "      <td>2023-12-21</td>\n",
       "      <td>25100</td>\n",
       "      <td>25150</td>\n",
       "      <td>24100</td>\n",
       "      <td>24500</td>\n",
       "      <td>1676641</td>\n",
       "      <td>-0.039216</td>\n",
       "      <td>2023</td>\n",
       "    </tr>\n",
       "    <tr>\n",
       "      <th>5658</th>\n",
       "      <td>2023-12-22</td>\n",
       "      <td>24650</td>\n",
       "      <td>24850</td>\n",
       "      <td>24400</td>\n",
       "      <td>24550</td>\n",
       "      <td>795156</td>\n",
       "      <td>0.002041</td>\n",
       "      <td>2023</td>\n",
       "    </tr>\n",
       "    <tr>\n",
       "      <th>5659</th>\n",
       "      <td>2023-12-26</td>\n",
       "      <td>25100</td>\n",
       "      <td>25100</td>\n",
       "      <td>24300</td>\n",
       "      <td>24600</td>\n",
       "      <td>793350</td>\n",
       "      <td>0.002037</td>\n",
       "      <td>2023</td>\n",
       "    </tr>\n",
       "    <tr>\n",
       "      <th>5660</th>\n",
       "      <td>2023-12-27</td>\n",
       "      <td>24700</td>\n",
       "      <td>24950</td>\n",
       "      <td>24300</td>\n",
       "      <td>24950</td>\n",
       "      <td>680279</td>\n",
       "      <td>0.014228</td>\n",
       "      <td>2023</td>\n",
       "    </tr>\n",
       "    <tr>\n",
       "      <th>5661</th>\n",
       "      <td>2023-12-28</td>\n",
       "      <td>24950</td>\n",
       "      <td>25400</td>\n",
       "      <td>24700</td>\n",
       "      <td>25100</td>\n",
       "      <td>834015</td>\n",
       "      <td>0.006012</td>\n",
       "      <td>2023</td>\n",
       "    </tr>\n",
       "  </tbody>\n",
       "</table>\n",
       "<p>5662 rows × 8 columns</p>\n",
       "</div>"
      ],
      "text/plain": [
       "           Date   Open   High    Low  Close   Volume    Change  Year\n",
       "0    2001-02-02   1553   1787   1553   1787  9723154       NaN  2001\n",
       "1    2001-02-05   1860   1864   1562   1776  7686628 -0.006156  2001\n",
       "2    2001-02-06   2042   2042   1869   1994  7714656  0.122748  2001\n",
       "3    2001-02-07   1975   1975   1802   1807  3855729 -0.093781  2001\n",
       "4    2001-02-08   1687   1812   1687   1719  4004511 -0.048700  2001\n",
       "...         ...    ...    ...    ...    ...      ...       ...   ...\n",
       "5657 2023-12-21  25100  25150  24100  24500  1676641 -0.039216  2023\n",
       "5658 2023-12-22  24650  24850  24400  24550   795156  0.002041  2023\n",
       "5659 2023-12-26  25100  25100  24300  24600   793350  0.002037  2023\n",
       "5660 2023-12-27  24700  24950  24300  24950   680279  0.014228  2023\n",
       "5661 2023-12-28  24950  25400  24700  25100   834015  0.006012  2023\n",
       "\n",
       "[5662 rows x 8 columns]"
      ]
     },
     "execution_count": 84,
     "metadata": {},
     "output_type": "execute_result"
    }
   ],
   "source": [
    "\n"
   ]
  },
  {
   "cell_type": "code",
   "execution_count": 74,
   "id": "306d2a96-7e92-4031-9011-0b5bf3d154d4",
   "metadata": {},
   "outputs": [
    {
     "name": "stdout",
     "output_type": "stream",
     "text": [
      "Mean Squared Error: 236941.61870548388\n",
      "R² (결정계수): 0.9841064839625443\n"
     ]
    }
   ],
   "source": [
    "from sklearn.model_selection import train_test_split\n",
    "from sklearn.ensemble import RandomForestRegressor\n",
    "from sklearn.metrics import mean_squared_error,r2_score\n",
    "# from sklearn.metrics import mean_squared_error, r2_score\n",
    "# 예시 데이터셋 (X: 특성, y: 타겟 값)\n",
    "\n",
    "X_train = train_HHO[['Open','High','Low','Volume']]\n",
    "X_test = test_HHO[['Open','High','Low','Volume']]\n",
    "y_train = train_HHO['Close']\n",
    "y_test = test_HHO['Close']\n",
    "# y = HHO['Close']\n",
    "# 데이터셋을 학습용과 테스트용으로 분리\n",
    "# X_train, X_test, y_train, y_test = train_test_split(X, y, test_size=0.2, random_state=42)\n",
    "\n",
    "from sklearn.preprocessing import StandardScaler, RobustScaler\n",
    "scaler = RobustScaler()\n",
    "\n",
    "X_train_scaled = scaler.fit_transform(X_train)\n",
    "X_test_scaled = scaler.transform(X_test)\n",
    "\n",
    "# RandomForestRegressor 모델 생성\n",
    "rf = RandomForestRegressor(n_estimators=200, random_state=0)\n",
    "\n",
    "# 모델 학습\n",
    "rf.fit(X_train, y_train)\n",
    "\n",
    "# 테스트 데이터에 대한 예측\n",
    "y_pred = rf.predict(X_test)\n",
    "\n",
    "# 성능 평가 (MSE - Mean Squared Error)\n",
    "mse = mean_squared_error(y_test, y_pred)\n",
    "r2 = r2_score(y_test, y_pred)\n",
    "print(f'Mean Squared Error: {mse}')\n",
    "print(f'R² (결정계수): {r2}')\n",
    "\n"
   ]
  },
  {
   "cell_type": "code",
   "execution_count": 76,
   "id": "3d10a84f-6286-448a-be7f-ce1480509e1e",
   "metadata": {},
   "outputs": [
    {
     "data": {
      "text/plain": [
       "(5662, 4)"
      ]
     },
     "execution_count": 76,
     "metadata": {},
     "output_type": "execute_result"
    }
   ],
   "source": [
    "X_train.shape"
   ]
  },
  {
   "cell_type": "code",
   "execution_count": 78,
   "id": "3dc59def-4f57-4add-98dc-c6d2b54dc213",
   "metadata": {},
   "outputs": [
    {
     "data": {
      "text/plain": [
       "(155, 4)"
      ]
     },
     "execution_count": 78,
     "metadata": {},
     "output_type": "execute_result"
    }
   ],
   "source": [
    "X_test.shape"
   ]
  },
  {
   "cell_type": "code",
   "execution_count": 80,
   "id": "8e34b5a4-a1b2-43ea-a505-b65e67f0b03e",
   "metadata": {},
   "outputs": [
    {
     "data": {
      "text/plain": [
       "(5662,)"
      ]
     },
     "execution_count": 80,
     "metadata": {},
     "output_type": "execute_result"
    }
   ],
   "source": [
    "y_train.shape"
   ]
  },
  {
   "cell_type": "code",
   "execution_count": 82,
   "id": "6df16123-6559-414d-8e55-7c7a49fbc28a",
   "metadata": {},
   "outputs": [
    {
     "data": {
      "text/plain": [
       "(155,)"
      ]
     },
     "execution_count": 82,
     "metadata": {},
     "output_type": "execute_result"
    }
   ],
   "source": [
    "y_test.shape"
   ]
  },
  {
   "cell_type": "code",
   "execution_count": null,
   "id": "9990b582-99f1-4066-be3d-2beecb21d3ed",
   "metadata": {},
   "outputs": [],
   "source": []
  }
 ],
 "metadata": {
  "kernelspec": {
   "display_name": "Python 3 (ipykernel)",
   "language": "python",
   "name": "python3"
  },
  "language_info": {
   "codemirror_mode": {
    "name": "ipython",
    "version": 3
   },
   "file_extension": ".py",
   "mimetype": "text/x-python",
   "name": "python",
   "nbconvert_exporter": "python",
   "pygments_lexer": "ipython3",
   "version": "3.11.7"
  }
 },
 "nbformat": 4,
 "nbformat_minor": 5
}
