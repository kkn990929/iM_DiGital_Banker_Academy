{
 "cells": [
  {
   "cell_type": "code",
   "execution_count": 3,
   "id": "e8d5ebee-a84c-45ec-bd8d-e80f3a322274",
   "metadata": {},
   "outputs": [],
   "source": [
    "import numpy as np\n",
    "import pandas as pd"
   ]
  },
  {
   "cell_type": "code",
   "execution_count": 17,
   "id": "ad347896-3f01-46fc-91cc-82ee43b20fac",
   "metadata": {},
   "outputs": [],
   "source": [
    "df=pd.read_csv(\"C:/Users/campus4D037/iM DiGital Bank/ML2-0819/datas/krx/stocks/BGF.csv\")\n",
    "df['Date']=pd.to_datetime(df['Date'])\n",
    "\n",
    "for i in range(1, 5):\n",
    "    \n",
    "    df[f'Open_{i}']=df['Open'].shift(i)\n",
    "    df[f'High_{i}']=df['High'].shift(i)\n",
    "    df[f'Low_{i}']=df['Low'].shift(i)\n",
    "    df[f'Close_{i}']=df['Close'].shift(i)\n",
    "    df[f'Volume_{i}']=df['Volume'].shift(i)\n",
    "    df[f'Change_{i}']=df['Change'].shift(i)\n",
    "\n",
    "\n",
    "for i in range(df.shape[0]):\n",
    "    df['P_Close']=df['Close'].shift(-1)\n"
   ]
  },
  {
   "cell_type": "code",
   "execution_count": 18,
   "id": "99584193-7261-457b-9de3-5b7bd875a7b2",
   "metadata": {},
   "outputs": [],
   "source": [
    "stock=df.iloc[6:df.shape[0]-1, :].reset_index()\n",
    "stock=stock.drop(columns='index')\n",
    "\n",
    "col_list1=stock.columns[7:12]\n",
    "col_list2=stock.columns[13:18]\n",
    "col_list3=stock.columns[19:24]\n",
    "col_list4=stock.columns[25:30]\n",
    "\n",
    "col_list=[]\n",
    "c_list=[col_list1, col_list2, col_list3, col_list4]\n",
    "\n",
    "for i in c_list:\n",
    "    col_list.append(i)\n",
    "\n",
    "for i in col_list:\n",
    "    stock[i]=stock[i].astype(int)\n",
    "\n",
    "stock['P_Close']=stock['P_Close'].astype(int)"
   ]
  },
  {
   "cell_type": "code",
   "execution_count": 19,
   "id": "6b838dc4-48d7-4745-ba85-66d74a0de5c1",
   "metadata": {},
   "outputs": [],
   "source": [
    "train=stock[stock['Date']<='2023-08-16']\n",
    "test=stock[stock['Date']>'2023-08-16']\n",
    "\n",
    "x_col=train.columns[1:-1]\n",
    "\n",
    "train_x=train[x_col].to_numpy()\n",
    "train_y=train['P_Close'].to_numpy()\n",
    "test_x=test[x_col].to_numpy()\n",
    "test_y=test['P_Close'].to_numpy()\n",
    "\n"
   ]
  },
  {
   "cell_type": "code",
   "execution_count": 20,
   "id": "86fda04e-6212-4359-aba7-c6fe3181a1a4",
   "metadata": {},
   "outputs": [
    {
     "data": {
      "text/plain": [
       "0.7076288704381548"
      ]
     },
     "execution_count": 20,
     "metadata": {},
     "output_type": "execute_result"
    }
   ],
   "source": [
    "from xgboost import XGBRegressor\n",
    "from sklearn.ensemble import RandomForestClassifier\n",
    "\n",
    "# rf_model = RandomForestClassifier()\n",
    "xgbm=XGBRegressor(random_state=240813, max_depth = 10)\n",
    "# rf_model.fit(train_x, train_y)\n",
    "# rf_model.score(test_x, test_y)\n",
    "\n",
    "xgbm.fit(train_x, train_y)\n",
    "xgbm.score(test_x, test_y)\n",
    "\n"
   ]
  },
  {
   "cell_type": "code",
   "execution_count": 21,
   "id": "7c46035c-604b-41c6-940f-df939b1e41a3",
   "metadata": {},
   "outputs": [
    {
     "data": {
      "text/plain": [
       "67.65276599321209"
      ]
     },
     "execution_count": 21,
     "metadata": {},
     "output_type": "execute_result"
    }
   ],
   "source": [
    "from sklearn.metrics import mean_absolute_error, mean_squared_error\n",
    "pred_y=xgbm.predict(test_x)\n",
    "\n",
    "mean_absolute_error(test_y, pred_y)\n"
   ]
  },
  {
   "cell_type": "code",
   "execution_count": 15,
   "id": "811ce111-304f-4958-b02c-ab65e58f6672",
   "metadata": {},
   "outputs": [
    {
     "name": "stderr",
     "output_type": "stream",
     "text": [
      "C:\\Users\\campus4D037\\anaconda4\\Lib\\site-packages\\sklearn\\metrics\\_regression.py:483: FutureWarning: 'squared' is deprecated in version 1.4 and will be removed in 1.6. To calculate the root mean squared error, use the function'root_mean_squared_error'.\n",
      "  warnings.warn(\n"
     ]
    },
    {
     "data": {
      "text/plain": [
       "215.7840399705138"
      ]
     },
     "execution_count": 15,
     "metadata": {},
     "output_type": "execute_result"
    }
   ],
   "source": [
    "mean_squared_error(test_y, pred_y, squared=False)"
   ]
  },
  {
   "cell_type": "code",
   "execution_count": 16,
   "id": "b9a31f8f-8f7c-4dad-8bf9-f7e946f72a5f",
   "metadata": {
    "scrolled": true
   },
   "outputs": [
    {
     "name": "stderr",
     "output_type": "stream",
     "text": [
      "C:\\Users\\campus4D037\\AppData\\Local\\Temp\\ipykernel_11704\\1365507835.py:7: SettingWithCopyWarning: \n",
      "A value is trying to be set on a copy of a slice from a DataFrame.\n",
      "Try using .loc[row_indexer,col_indexer] = value instead\n",
      "\n",
      "See the caveats in the documentation: https://pandas.pydata.org/pandas-docs/stable/user_guide/indexing.html#returning-a-view-versus-a-copy\n",
      "  dfb[f'Open_{i}']=dfb['Open'].shift(i)\n",
      "C:\\Users\\campus4D037\\AppData\\Local\\Temp\\ipykernel_11704\\1365507835.py:8: SettingWithCopyWarning: \n",
      "A value is trying to be set on a copy of a slice from a DataFrame.\n",
      "Try using .loc[row_indexer,col_indexer] = value instead\n",
      "\n",
      "See the caveats in the documentation: https://pandas.pydata.org/pandas-docs/stable/user_guide/indexing.html#returning-a-view-versus-a-copy\n",
      "  dfb[f'High_{i}']=dfb['High'].shift(i)\n",
      "C:\\Users\\campus4D037\\AppData\\Local\\Temp\\ipykernel_11704\\1365507835.py:9: SettingWithCopyWarning: \n",
      "A value is trying to be set on a copy of a slice from a DataFrame.\n",
      "Try using .loc[row_indexer,col_indexer] = value instead\n",
      "\n",
      "See the caveats in the documentation: https://pandas.pydata.org/pandas-docs/stable/user_guide/indexing.html#returning-a-view-versus-a-copy\n",
      "  dfb[f'Low_{i}']=dfb['Low'].shift(i)\n",
      "C:\\Users\\campus4D037\\AppData\\Local\\Temp\\ipykernel_11704\\1365507835.py:10: SettingWithCopyWarning: \n",
      "A value is trying to be set on a copy of a slice from a DataFrame.\n",
      "Try using .loc[row_indexer,col_indexer] = value instead\n",
      "\n",
      "See the caveats in the documentation: https://pandas.pydata.org/pandas-docs/stable/user_guide/indexing.html#returning-a-view-versus-a-copy\n",
      "  dfb[f'Close_{i}']=dfb['Close'].shift(i)\n",
      "C:\\Users\\campus4D037\\AppData\\Local\\Temp\\ipykernel_11704\\1365507835.py:11: SettingWithCopyWarning: \n",
      "A value is trying to be set on a copy of a slice from a DataFrame.\n",
      "Try using .loc[row_indexer,col_indexer] = value instead\n",
      "\n",
      "See the caveats in the documentation: https://pandas.pydata.org/pandas-docs/stable/user_guide/indexing.html#returning-a-view-versus-a-copy\n",
      "  dfb[f'Volume_{i}']=dfb['Volume'].shift(i)\n",
      "C:\\Users\\campus4D037\\AppData\\Local\\Temp\\ipykernel_11704\\1365507835.py:12: SettingWithCopyWarning: \n",
      "A value is trying to be set on a copy of a slice from a DataFrame.\n",
      "Try using .loc[row_indexer,col_indexer] = value instead\n",
      "\n",
      "See the caveats in the documentation: https://pandas.pydata.org/pandas-docs/stable/user_guide/indexing.html#returning-a-view-versus-a-copy\n",
      "  dfb[f'Change_{i}']=dfb['Change'].shift(i)\n",
      "C:\\Users\\campus4D037\\AppData\\Local\\Temp\\ipykernel_11704\\1365507835.py:7: SettingWithCopyWarning: \n",
      "A value is trying to be set on a copy of a slice from a DataFrame.\n",
      "Try using .loc[row_indexer,col_indexer] = value instead\n",
      "\n",
      "See the caveats in the documentation: https://pandas.pydata.org/pandas-docs/stable/user_guide/indexing.html#returning-a-view-versus-a-copy\n",
      "  dfb[f'Open_{i}']=dfb['Open'].shift(i)\n",
      "C:\\Users\\campus4D037\\AppData\\Local\\Temp\\ipykernel_11704\\1365507835.py:8: SettingWithCopyWarning: \n",
      "A value is trying to be set on a copy of a slice from a DataFrame.\n",
      "Try using .loc[row_indexer,col_indexer] = value instead\n",
      "\n",
      "See the caveats in the documentation: https://pandas.pydata.org/pandas-docs/stable/user_guide/indexing.html#returning-a-view-versus-a-copy\n",
      "  dfb[f'High_{i}']=dfb['High'].shift(i)\n",
      "C:\\Users\\campus4D037\\AppData\\Local\\Temp\\ipykernel_11704\\1365507835.py:9: SettingWithCopyWarning: \n",
      "A value is trying to be set on a copy of a slice from a DataFrame.\n",
      "Try using .loc[row_indexer,col_indexer] = value instead\n",
      "\n",
      "See the caveats in the documentation: https://pandas.pydata.org/pandas-docs/stable/user_guide/indexing.html#returning-a-view-versus-a-copy\n",
      "  dfb[f'Low_{i}']=dfb['Low'].shift(i)\n",
      "C:\\Users\\campus4D037\\AppData\\Local\\Temp\\ipykernel_11704\\1365507835.py:10: SettingWithCopyWarning: \n",
      "A value is trying to be set on a copy of a slice from a DataFrame.\n",
      "Try using .loc[row_indexer,col_indexer] = value instead\n",
      "\n",
      "See the caveats in the documentation: https://pandas.pydata.org/pandas-docs/stable/user_guide/indexing.html#returning-a-view-versus-a-copy\n",
      "  dfb[f'Close_{i}']=dfb['Close'].shift(i)\n",
      "C:\\Users\\campus4D037\\AppData\\Local\\Temp\\ipykernel_11704\\1365507835.py:11: SettingWithCopyWarning: \n",
      "A value is trying to be set on a copy of a slice from a DataFrame.\n",
      "Try using .loc[row_indexer,col_indexer] = value instead\n",
      "\n",
      "See the caveats in the documentation: https://pandas.pydata.org/pandas-docs/stable/user_guide/indexing.html#returning-a-view-versus-a-copy\n",
      "  dfb[f'Volume_{i}']=dfb['Volume'].shift(i)\n",
      "C:\\Users\\campus4D037\\AppData\\Local\\Temp\\ipykernel_11704\\1365507835.py:12: SettingWithCopyWarning: \n",
      "A value is trying to be set on a copy of a slice from a DataFrame.\n",
      "Try using .loc[row_indexer,col_indexer] = value instead\n",
      "\n",
      "See the caveats in the documentation: https://pandas.pydata.org/pandas-docs/stable/user_guide/indexing.html#returning-a-view-versus-a-copy\n",
      "  dfb[f'Change_{i}']=dfb['Change'].shift(i)\n",
      "C:\\Users\\campus4D037\\AppData\\Local\\Temp\\ipykernel_11704\\1365507835.py:7: SettingWithCopyWarning: \n",
      "A value is trying to be set on a copy of a slice from a DataFrame.\n",
      "Try using .loc[row_indexer,col_indexer] = value instead\n",
      "\n",
      "See the caveats in the documentation: https://pandas.pydata.org/pandas-docs/stable/user_guide/indexing.html#returning-a-view-versus-a-copy\n",
      "  dfb[f'Open_{i}']=dfb['Open'].shift(i)\n",
      "C:\\Users\\campus4D037\\AppData\\Local\\Temp\\ipykernel_11704\\1365507835.py:8: SettingWithCopyWarning: \n",
      "A value is trying to be set on a copy of a slice from a DataFrame.\n",
      "Try using .loc[row_indexer,col_indexer] = value instead\n",
      "\n",
      "See the caveats in the documentation: https://pandas.pydata.org/pandas-docs/stable/user_guide/indexing.html#returning-a-view-versus-a-copy\n",
      "  dfb[f'High_{i}']=dfb['High'].shift(i)\n",
      "C:\\Users\\campus4D037\\AppData\\Local\\Temp\\ipykernel_11704\\1365507835.py:9: SettingWithCopyWarning: \n",
      "A value is trying to be set on a copy of a slice from a DataFrame.\n",
      "Try using .loc[row_indexer,col_indexer] = value instead\n",
      "\n",
      "See the caveats in the documentation: https://pandas.pydata.org/pandas-docs/stable/user_guide/indexing.html#returning-a-view-versus-a-copy\n",
      "  dfb[f'Low_{i}']=dfb['Low'].shift(i)\n",
      "C:\\Users\\campus4D037\\AppData\\Local\\Temp\\ipykernel_11704\\1365507835.py:10: SettingWithCopyWarning: \n",
      "A value is trying to be set on a copy of a slice from a DataFrame.\n",
      "Try using .loc[row_indexer,col_indexer] = value instead\n",
      "\n",
      "See the caveats in the documentation: https://pandas.pydata.org/pandas-docs/stable/user_guide/indexing.html#returning-a-view-versus-a-copy\n",
      "  dfb[f'Close_{i}']=dfb['Close'].shift(i)\n",
      "C:\\Users\\campus4D037\\AppData\\Local\\Temp\\ipykernel_11704\\1365507835.py:11: SettingWithCopyWarning: \n",
      "A value is trying to be set on a copy of a slice from a DataFrame.\n",
      "Try using .loc[row_indexer,col_indexer] = value instead\n",
      "\n",
      "See the caveats in the documentation: https://pandas.pydata.org/pandas-docs/stable/user_guide/indexing.html#returning-a-view-versus-a-copy\n",
      "  dfb[f'Volume_{i}']=dfb['Volume'].shift(i)\n",
      "C:\\Users\\campus4D037\\AppData\\Local\\Temp\\ipykernel_11704\\1365507835.py:12: SettingWithCopyWarning: \n",
      "A value is trying to be set on a copy of a slice from a DataFrame.\n",
      "Try using .loc[row_indexer,col_indexer] = value instead\n",
      "\n",
      "See the caveats in the documentation: https://pandas.pydata.org/pandas-docs/stable/user_guide/indexing.html#returning-a-view-versus-a-copy\n",
      "  dfb[f'Change_{i}']=dfb['Change'].shift(i)\n",
      "C:\\Users\\campus4D037\\AppData\\Local\\Temp\\ipykernel_11704\\1365507835.py:7: SettingWithCopyWarning: \n",
      "A value is trying to be set on a copy of a slice from a DataFrame.\n",
      "Try using .loc[row_indexer,col_indexer] = value instead\n",
      "\n",
      "See the caveats in the documentation: https://pandas.pydata.org/pandas-docs/stable/user_guide/indexing.html#returning-a-view-versus-a-copy\n",
      "  dfb[f'Open_{i}']=dfb['Open'].shift(i)\n",
      "C:\\Users\\campus4D037\\AppData\\Local\\Temp\\ipykernel_11704\\1365507835.py:8: SettingWithCopyWarning: \n",
      "A value is trying to be set on a copy of a slice from a DataFrame.\n",
      "Try using .loc[row_indexer,col_indexer] = value instead\n",
      "\n",
      "See the caveats in the documentation: https://pandas.pydata.org/pandas-docs/stable/user_guide/indexing.html#returning-a-view-versus-a-copy\n",
      "  dfb[f'High_{i}']=dfb['High'].shift(i)\n",
      "C:\\Users\\campus4D037\\AppData\\Local\\Temp\\ipykernel_11704\\1365507835.py:9: SettingWithCopyWarning: \n",
      "A value is trying to be set on a copy of a slice from a DataFrame.\n",
      "Try using .loc[row_indexer,col_indexer] = value instead\n",
      "\n",
      "See the caveats in the documentation: https://pandas.pydata.org/pandas-docs/stable/user_guide/indexing.html#returning-a-view-versus-a-copy\n",
      "  dfb[f'Low_{i}']=dfb['Low'].shift(i)\n",
      "C:\\Users\\campus4D037\\AppData\\Local\\Temp\\ipykernel_11704\\1365507835.py:10: SettingWithCopyWarning: \n",
      "A value is trying to be set on a copy of a slice from a DataFrame.\n",
      "Try using .loc[row_indexer,col_indexer] = value instead\n",
      "\n",
      "See the caveats in the documentation: https://pandas.pydata.org/pandas-docs/stable/user_guide/indexing.html#returning-a-view-versus-a-copy\n",
      "  dfb[f'Close_{i}']=dfb['Close'].shift(i)\n",
      "C:\\Users\\campus4D037\\AppData\\Local\\Temp\\ipykernel_11704\\1365507835.py:11: SettingWithCopyWarning: \n",
      "A value is trying to be set on a copy of a slice from a DataFrame.\n",
      "Try using .loc[row_indexer,col_indexer] = value instead\n",
      "\n",
      "See the caveats in the documentation: https://pandas.pydata.org/pandas-docs/stable/user_guide/indexing.html#returning-a-view-versus-a-copy\n",
      "  dfb[f'Volume_{i}']=dfb['Volume'].shift(i)\n",
      "C:\\Users\\campus4D037\\AppData\\Local\\Temp\\ipykernel_11704\\1365507835.py:12: SettingWithCopyWarning: \n",
      "A value is trying to be set on a copy of a slice from a DataFrame.\n",
      "Try using .loc[row_indexer,col_indexer] = value instead\n",
      "\n",
      "See the caveats in the documentation: https://pandas.pydata.org/pandas-docs/stable/user_guide/indexing.html#returning-a-view-versus-a-copy\n",
      "  dfb[f'Change_{i}']=dfb['Change'].shift(i)\n"
     ]
    },
    {
     "data": {
      "text/plain": [
       "array([25189.805], dtype=float32)"
      ]
     },
     "execution_count": 16,
     "metadata": {},
     "output_type": "execute_result"
    }
   ],
   "source": [
    "import FinanceDataReader as fdr\n",
    "dfa=fdr.DataReader('023910')\n",
    "dfb=dfa.tail(6)\n",
    "\n",
    "for i in range(1, 5):\n",
    "    \n",
    "    dfb[f'Open_{i}']=dfb['Open'].shift(i)\n",
    "    dfb[f'High_{i}']=dfb['High'].shift(i)\n",
    "    dfb[f'Low_{i}']=dfb['Low'].shift(i)\n",
    "    dfb[f'Close_{i}']=dfb['Close'].shift(i)\n",
    "    dfb[f'Volume_{i}']=dfb['Volume'].shift(i)\n",
    "    dfb[f'Change_{i}']=dfb['Change'].shift(i)\n",
    "\n",
    "stock=dfb.iloc[6:dfb.shape[0]-1, :].reset_index()\n",
    "\n",
    "col_list1=stock.columns[7:12]\n",
    "col_list2=stock.columns[13:18]\n",
    "col_list3=stock.columns[19:24]\n",
    "col_list4=stock.columns[25:30]\n",
    "\n",
    "col_list=[]\n",
    "c_list=[col_list1, col_list2, col_list3, col_list4]\n",
    "for i in c_list:\n",
    "    col_list.append(i)\n",
    "\n",
    "for i in col_list:\n",
    "    stock[i]=stock[i].astype(int)\n",
    "\n",
    "test20=dfb.loc['2024-08-19'].to_numpy()\n",
    "xgbm.predict([test20])"
   ]
  },
  {
   "cell_type": "code",
   "execution_count": null,
   "id": "1350446d-ce79-41ba-a27e-4aeb67ee8140",
   "metadata": {},
   "outputs": [],
   "source": []
  },
  {
   "cell_type": "code",
   "execution_count": null,
   "id": "ec68c070-5494-4c52-a97d-5f6ac4b39ffb",
   "metadata": {},
   "outputs": [],
   "source": [
    "df=pd.read_csv(\"C:\\Users\\campus4D037\\iM DiGital Bank\\ML2-0819\\datas\\krx\\stocks\\NAVER.csv\")\n",
    "\n",
    "df.describe"
   ]
  },
  {
   "cell_type": "code",
   "execution_count": null,
   "id": "49a2c92d-2da9-4c73-a0fd-fed4a0f8e5ea",
   "metadata": {},
   "outputs": [],
   "source": []
  }
 ],
 "metadata": {
  "kernelspec": {
   "display_name": "Python 3 (ipykernel)",
   "language": "python",
   "name": "python3"
  },
  "language_info": {
   "codemirror_mode": {
    "name": "ipython",
    "version": 3
   },
   "file_extension": ".py",
   "mimetype": "text/x-python",
   "name": "python",
   "nbconvert_exporter": "python",
   "pygments_lexer": "ipython3",
   "version": "3.12.4"
  }
 },
 "nbformat": 4,
 "nbformat_minor": 5
}
