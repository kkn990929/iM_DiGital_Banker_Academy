{
 "cells": [
  {
   "cell_type": "code",
   "execution_count": 41,
   "id": "71e3702c-26ee-4e63-ab6d-4c1d7485acb1",
   "metadata": {},
   "outputs": [],
   "source": [
    "import pandas as pd\n",
    "import numpy as np"
   ]
  },
  {
   "cell_type": "code",
   "execution_count": 43,
   "id": "6e9ed32e-0c5d-4240-9f1f-03787e33d847",
   "metadata": {},
   "outputs": [
    {
     "data": {
      "text/html": [
       "<div>\n",
       "<style scoped>\n",
       "    .dataframe tbody tr th:only-of-type {\n",
       "        vertical-align: middle;\n",
       "    }\n",
       "\n",
       "    .dataframe tbody tr th {\n",
       "        vertical-align: top;\n",
       "    }\n",
       "\n",
       "    .dataframe thead th {\n",
       "        text-align: right;\n",
       "    }\n",
       "</style>\n",
       "<table border=\"1\" class=\"dataframe\">\n",
       "  <thead>\n",
       "    <tr style=\"text-align: right;\">\n",
       "      <th></th>\n",
       "      <th>Date</th>\n",
       "      <th>Open</th>\n",
       "      <th>High</th>\n",
       "      <th>Low</th>\n",
       "      <th>Close</th>\n",
       "      <th>Volume</th>\n",
       "      <th>Change</th>\n",
       "    </tr>\n",
       "  </thead>\n",
       "  <tbody>\n",
       "    <tr>\n",
       "      <th>0</th>\n",
       "      <td>2001-02-02</td>\n",
       "      <td>1553</td>\n",
       "      <td>1787</td>\n",
       "      <td>1553</td>\n",
       "      <td>1787</td>\n",
       "      <td>9723154</td>\n",
       "      <td>NaN</td>\n",
       "    </tr>\n",
       "    <tr>\n",
       "      <th>1</th>\n",
       "      <td>2001-02-05</td>\n",
       "      <td>1860</td>\n",
       "      <td>1864</td>\n",
       "      <td>1562</td>\n",
       "      <td>1776</td>\n",
       "      <td>7686628</td>\n",
       "      <td>-0.006156</td>\n",
       "    </tr>\n",
       "    <tr>\n",
       "      <th>2</th>\n",
       "      <td>2001-02-06</td>\n",
       "      <td>2042</td>\n",
       "      <td>2042</td>\n",
       "      <td>1869</td>\n",
       "      <td>1994</td>\n",
       "      <td>7714656</td>\n",
       "      <td>0.122748</td>\n",
       "    </tr>\n",
       "    <tr>\n",
       "      <th>3</th>\n",
       "      <td>2001-02-07</td>\n",
       "      <td>1975</td>\n",
       "      <td>1975</td>\n",
       "      <td>1802</td>\n",
       "      <td>1807</td>\n",
       "      <td>3855729</td>\n",
       "      <td>-0.093781</td>\n",
       "    </tr>\n",
       "    <tr>\n",
       "      <th>4</th>\n",
       "      <td>2001-02-08</td>\n",
       "      <td>1687</td>\n",
       "      <td>1812</td>\n",
       "      <td>1687</td>\n",
       "      <td>1719</td>\n",
       "      <td>4004511</td>\n",
       "      <td>-0.048700</td>\n",
       "    </tr>\n",
       "  </tbody>\n",
       "</table>\n",
       "</div>"
      ],
      "text/plain": [
       "         Date  Open  High   Low  Close   Volume    Change\n",
       "0  2001-02-02  1553  1787  1553   1787  9723154       NaN\n",
       "1  2001-02-05  1860  1864  1562   1776  7686628 -0.006156\n",
       "2  2001-02-06  2042  2042  1869   1994  7714656  0.122748\n",
       "3  2001-02-07  1975  1975  1802   1807  3855729 -0.093781\n",
       "4  2001-02-08  1687  1812  1687   1719  4004511 -0.048700"
      ]
     },
     "execution_count": 43,
     "metadata": {},
     "output_type": "execute_result"
    }
   ],
   "source": [
    "HHO = pd.read_csv(\"C:/Users/campus4D037/iM DiGital Bank/ML2-0819/datas/COMP/한화오션.csv\")\n",
    "HHO.head()"
   ]
  },
  {
   "cell_type": "code",
   "execution_count": 47,
   "id": "e479dfe8-f79b-435e-bc52-dab6bb5fc459",
   "metadata": {},
   "outputs": [],
   "source": [
    "HHO['Date'] = pd.to_datetime(HHO['Date'])"
   ]
  },
  {
   "cell_type": "code",
   "execution_count": 49,
   "id": "7d282af1-2a7b-4931-b290-37199a56e2e1",
   "metadata": {},
   "outputs": [],
   "source": [
    "HHO['Year'] = HHO['Date'].dt.year"
   ]
  },
  {
   "cell_type": "code",
   "execution_count": null,
   "id": "5143ff1f-55e4-478f-8ed5-907471560a3a",
   "metadata": {},
   "outputs": [],
   "source": []
  },
  {
   "cell_type": "code",
   "execution_count": 51,
   "id": "395a4006-9165-46e9-84a6-20b1b5ab486b",
   "metadata": {},
   "outputs": [
    {
     "data": {
      "text/plain": [
       "Year\n",
       "2009    253\n",
       "2010    251\n",
       "2004    249\n",
       "2005    249\n",
       "2015    248\n",
       "2021    248\n",
       "2011    248\n",
       "2012    248\n",
       "2008    248\n",
       "2020    248\n",
       "2013    247\n",
       "2006    247\n",
       "2003    247\n",
       "2019    246\n",
       "2007    246\n",
       "2022    246\n",
       "2016    246\n",
       "2023    245\n",
       "2014    245\n",
       "2018    244\n",
       "2002    244\n",
       "2017    243\n",
       "2001    226\n",
       "Name: count, dtype: int64"
      ]
     },
     "execution_count": 51,
     "metadata": {},
     "output_type": "execute_result"
    }
   ],
   "source": [
    "train_HHO = HHO[HHO['Year'] != 2024]\n",
    "train_HHO['Year'].value_counts()"
   ]
  },
  {
   "cell_type": "code",
   "execution_count": 53,
   "id": "c79fa309-a25d-48ac-8b64-c0e38e99acb7",
   "metadata": {},
   "outputs": [
    {
     "data": {
      "text/plain": [
       "Year\n",
       "2024    155\n",
       "Name: count, dtype: int64"
      ]
     },
     "execution_count": 53,
     "metadata": {},
     "output_type": "execute_result"
    }
   ],
   "source": [
    "test_HHO = HHO[HHO['Year'] == 2024]\n",
    "test_HHO['Year'].value_counts()"
   ]
  },
  {
   "cell_type": "code",
   "execution_count": null,
   "id": "381ca857-7b9c-45f7-b653-3594e3f91012",
   "metadata": {},
   "outputs": [],
   "source": []
  },
  {
   "cell_type": "code",
   "execution_count": null,
   "id": "d33a1bb8-2158-43eb-9db1-e96afbf73f54",
   "metadata": {},
   "outputs": [],
   "source": []
  }
 ],
 "metadata": {
  "kernelspec": {
   "display_name": "Python 3 (ipykernel)",
   "language": "python",
   "name": "python3"
  },
  "language_info": {
   "codemirror_mode": {
    "name": "ipython",
    "version": 3
   },
   "file_extension": ".py",
   "mimetype": "text/x-python",
   "name": "python",
   "nbconvert_exporter": "python",
   "pygments_lexer": "ipython3",
   "version": "3.11.7"
  }
 },
 "nbformat": 4,
 "nbformat_minor": 5
}
