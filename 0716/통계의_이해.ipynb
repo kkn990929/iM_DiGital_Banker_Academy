{
 "cells": [
  {
   "cell_type": "markdown",
   "id": "68f5dc63-053f-4f1a-adeb-3fd5e6c1d21d",
   "metadata": {},
   "source": [
    "# 통계의 이해"
   ]
  },
  {
   "cell_type": "code",
   "execution_count": 31,
   "id": "6405947b-eda6-4d2d-b37b-db92404ca423",
   "metadata": {},
   "outputs": [],
   "source": [
    "import numpy as np\n",
    "from scipy import stats\n",
    "import pandas as pd\n",
    "import matplotlib.pyplot as plt\n",
    "import seaborn as sns\n",
    "from statsmodels.stats.proportion import proportions_ztest"
   ]
  },
  {
   "cell_type": "code",
   "execution_count": 3,
   "id": "64a38aaa-0719-4c2a-bb5a-43aae461bb90",
   "metadata": {},
   "outputs": [],
   "source": [
    "import matplotlib\n",
    "matplotlib.rc('font', family = 'Malgun Gothic')\n",
    "matplotlib.rc('axes', unicode_minus = False)\n",
    "%matplotlib inline\n",
    "import warnings\n",
    "warnings.filterwarnings('ignore')"
   ]
  },
  {
   "cell_type": "code",
   "execution_count": 5,
   "id": "2436d98d-6064-4be4-ac46-72e9153283e9",
   "metadata": {},
   "outputs": [
    {
     "data": {
      "text/html": [
       "<div>\n",
       "<style scoped>\n",
       "    .dataframe tbody tr th:only-of-type {\n",
       "        vertical-align: middle;\n",
       "    }\n",
       "\n",
       "    .dataframe tbody tr th {\n",
       "        vertical-align: top;\n",
       "    }\n",
       "\n",
       "    .dataframe thead th {\n",
       "        text-align: right;\n",
       "    }\n",
       "</style>\n",
       "<table border=\"1\" class=\"dataframe\">\n",
       "  <thead>\n",
       "    <tr style=\"text-align: right;\">\n",
       "      <th></th>\n",
       "      <th>manufacturer</th>\n",
       "      <th>model</th>\n",
       "      <th>displacement</th>\n",
       "      <th>year</th>\n",
       "      <th>cylinder</th>\n",
       "      <th>automatic</th>\n",
       "      <th>driving</th>\n",
       "      <th>mpg</th>\n",
       "      <th>highway_mileage</th>\n",
       "      <th>fuel</th>\n",
       "      <th>class</th>\n",
       "    </tr>\n",
       "  </thead>\n",
       "  <tbody>\n",
       "    <tr>\n",
       "      <th>0</th>\n",
       "      <td>audi</td>\n",
       "      <td>a4</td>\n",
       "      <td>1.8</td>\n",
       "      <td>1999</td>\n",
       "      <td>4</td>\n",
       "      <td>auto</td>\n",
       "      <td>f</td>\n",
       "      <td>18</td>\n",
       "      <td>29</td>\n",
       "      <td>p</td>\n",
       "      <td>compact</td>\n",
       "    </tr>\n",
       "    <tr>\n",
       "      <th>1</th>\n",
       "      <td>audi</td>\n",
       "      <td>a4</td>\n",
       "      <td>1.8</td>\n",
       "      <td>1999</td>\n",
       "      <td>4</td>\n",
       "      <td>manual</td>\n",
       "      <td>f</td>\n",
       "      <td>21</td>\n",
       "      <td>29</td>\n",
       "      <td>p</td>\n",
       "      <td>compact</td>\n",
       "    </tr>\n",
       "    <tr>\n",
       "      <th>2</th>\n",
       "      <td>audi</td>\n",
       "      <td>a4</td>\n",
       "      <td>2.0</td>\n",
       "      <td>2008</td>\n",
       "      <td>4</td>\n",
       "      <td>manual</td>\n",
       "      <td>f</td>\n",
       "      <td>20</td>\n",
       "      <td>31</td>\n",
       "      <td>p</td>\n",
       "      <td>compact</td>\n",
       "    </tr>\n",
       "    <tr>\n",
       "      <th>3</th>\n",
       "      <td>audi</td>\n",
       "      <td>a4</td>\n",
       "      <td>2.0</td>\n",
       "      <td>2008</td>\n",
       "      <td>4</td>\n",
       "      <td>auto</td>\n",
       "      <td>f</td>\n",
       "      <td>21</td>\n",
       "      <td>30</td>\n",
       "      <td>p</td>\n",
       "      <td>compact</td>\n",
       "    </tr>\n",
       "    <tr>\n",
       "      <th>4</th>\n",
       "      <td>audi</td>\n",
       "      <td>a4</td>\n",
       "      <td>2.8</td>\n",
       "      <td>1999</td>\n",
       "      <td>6</td>\n",
       "      <td>auto</td>\n",
       "      <td>f</td>\n",
       "      <td>16</td>\n",
       "      <td>26</td>\n",
       "      <td>p</td>\n",
       "      <td>compact</td>\n",
       "    </tr>\n",
       "  </tbody>\n",
       "</table>\n",
       "</div>"
      ],
      "text/plain": [
       "  manufacturer model  displacement  year  cylinder automatic driving  mpg  \\\n",
       "0         audi    a4           1.8  1999         4      auto       f   18   \n",
       "1         audi    a4           1.8  1999         4    manual       f   21   \n",
       "2         audi    a4           2.0  2008         4    manual       f   20   \n",
       "3         audi    a4           2.0  2008         4      auto       f   21   \n",
       "4         audi    a4           2.8  1999         6      auto       f   16   \n",
       "\n",
       "   highway_mileage fuel    class  \n",
       "0               29    p  compact  \n",
       "1               29    p  compact  \n",
       "2               31    p  compact  \n",
       "3               30    p  compact  \n",
       "4               26    p  compact  "
      ]
     },
     "execution_count": 5,
     "metadata": {},
     "output_type": "execute_result"
    }
   ],
   "source": [
    "mycars = pd.read_csv('mycars.csv')\n",
    "mycars.head()"
   ]
  },
  {
   "cell_type": "code",
   "execution_count": 7,
   "id": "1d6e2157-e497-4aba-8ae8-d0dc1363447d",
   "metadata": {},
   "outputs": [
    {
     "data": {
      "text/html": [
       "<div>\n",
       "<style scoped>\n",
       "    .dataframe tbody tr th:only-of-type {\n",
       "        vertical-align: middle;\n",
       "    }\n",
       "\n",
       "    .dataframe tbody tr th {\n",
       "        vertical-align: top;\n",
       "    }\n",
       "\n",
       "    .dataframe thead th {\n",
       "        text-align: right;\n",
       "    }\n",
       "</style>\n",
       "<table border=\"1\" class=\"dataframe\">\n",
       "  <thead>\n",
       "    <tr style=\"text-align: right;\">\n",
       "      <th></th>\n",
       "      <th>displacement</th>\n",
       "      <th>year</th>\n",
       "      <th>cylinder</th>\n",
       "      <th>mpg</th>\n",
       "      <th>highway_mileage</th>\n",
       "    </tr>\n",
       "  </thead>\n",
       "  <tbody>\n",
       "    <tr>\n",
       "      <th>count</th>\n",
       "      <td>234.000</td>\n",
       "      <td>234.00</td>\n",
       "      <td>234.000</td>\n",
       "      <td>234.000</td>\n",
       "      <td>234.000</td>\n",
       "    </tr>\n",
       "    <tr>\n",
       "      <th>mean</th>\n",
       "      <td>3.472</td>\n",
       "      <td>2003.50</td>\n",
       "      <td>5.889</td>\n",
       "      <td>16.859</td>\n",
       "      <td>23.440</td>\n",
       "    </tr>\n",
       "    <tr>\n",
       "      <th>std</th>\n",
       "      <td>1.292</td>\n",
       "      <td>4.51</td>\n",
       "      <td>1.612</td>\n",
       "      <td>4.256</td>\n",
       "      <td>5.955</td>\n",
       "    </tr>\n",
       "    <tr>\n",
       "      <th>min</th>\n",
       "      <td>1.600</td>\n",
       "      <td>1999.00</td>\n",
       "      <td>4.000</td>\n",
       "      <td>9.000</td>\n",
       "      <td>12.000</td>\n",
       "    </tr>\n",
       "    <tr>\n",
       "      <th>25%</th>\n",
       "      <td>2.400</td>\n",
       "      <td>1999.00</td>\n",
       "      <td>4.000</td>\n",
       "      <td>14.000</td>\n",
       "      <td>18.000</td>\n",
       "    </tr>\n",
       "    <tr>\n",
       "      <th>50%</th>\n",
       "      <td>3.300</td>\n",
       "      <td>2003.50</td>\n",
       "      <td>6.000</td>\n",
       "      <td>17.000</td>\n",
       "      <td>24.000</td>\n",
       "    </tr>\n",
       "    <tr>\n",
       "      <th>75%</th>\n",
       "      <td>4.600</td>\n",
       "      <td>2008.00</td>\n",
       "      <td>8.000</td>\n",
       "      <td>19.000</td>\n",
       "      <td>27.000</td>\n",
       "    </tr>\n",
       "    <tr>\n",
       "      <th>max</th>\n",
       "      <td>7.000</td>\n",
       "      <td>2008.00</td>\n",
       "      <td>8.000</td>\n",
       "      <td>35.000</td>\n",
       "      <td>44.000</td>\n",
       "    </tr>\n",
       "  </tbody>\n",
       "</table>\n",
       "</div>"
      ],
      "text/plain": [
       "       displacement     year  cylinder      mpg  highway_mileage\n",
       "count       234.000   234.00   234.000  234.000          234.000\n",
       "mean          3.472  2003.50     5.889   16.859           23.440\n",
       "std           1.292     4.51     1.612    4.256            5.955\n",
       "min           1.600  1999.00     4.000    9.000           12.000\n",
       "25%           2.400  1999.00     4.000   14.000           18.000\n",
       "50%           3.300  2003.50     6.000   17.000           24.000\n",
       "75%           4.600  2008.00     8.000   19.000           27.000\n",
       "max           7.000  2008.00     8.000   35.000           44.000"
      ]
     },
     "execution_count": 7,
     "metadata": {},
     "output_type": "execute_result"
    }
   ],
   "source": [
    "# 요약 통계량\n",
    "mycars.describe().round(3)"
   ]
  },
  {
   "cell_type": "code",
   "execution_count": 9,
   "id": "0bfa8402-e619-4a1c-80a6-7f93cf382694",
   "metadata": {},
   "outputs": [
    {
     "data": {
      "text/html": [
       "<div>\n",
       "<style scoped>\n",
       "    .dataframe tbody tr th:only-of-type {\n",
       "        vertical-align: middle;\n",
       "    }\n",
       "\n",
       "    .dataframe tbody tr th {\n",
       "        vertical-align: top;\n",
       "    }\n",
       "\n",
       "    .dataframe thead tr th {\n",
       "        text-align: left;\n",
       "    }\n",
       "\n",
       "    .dataframe thead tr:last-of-type th {\n",
       "        text-align: right;\n",
       "    }\n",
       "</style>\n",
       "<table border=\"1\" class=\"dataframe\">\n",
       "  <thead>\n",
       "    <tr>\n",
       "      <th></th>\n",
       "      <th colspan=\"8\" halign=\"left\">mpg</th>\n",
       "    </tr>\n",
       "    <tr>\n",
       "      <th></th>\n",
       "      <th>count</th>\n",
       "      <th>mean</th>\n",
       "      <th>std</th>\n",
       "      <th>min</th>\n",
       "      <th>25%</th>\n",
       "      <th>50%</th>\n",
       "      <th>75%</th>\n",
       "      <th>max</th>\n",
       "    </tr>\n",
       "    <tr>\n",
       "      <th>model</th>\n",
       "      <th></th>\n",
       "      <th></th>\n",
       "      <th></th>\n",
       "      <th></th>\n",
       "      <th></th>\n",
       "      <th></th>\n",
       "      <th></th>\n",
       "      <th></th>\n",
       "    </tr>\n",
       "  </thead>\n",
       "  <tbody>\n",
       "    <tr>\n",
       "      <th>4runner 4wd</th>\n",
       "      <td>6.0</td>\n",
       "      <td>15.166667</td>\n",
       "      <td>0.752773</td>\n",
       "      <td>14.0</td>\n",
       "      <td>15.00</td>\n",
       "      <td>15.0</td>\n",
       "      <td>15.75</td>\n",
       "      <td>16.0</td>\n",
       "    </tr>\n",
       "    <tr>\n",
       "      <th>a4</th>\n",
       "      <td>7.0</td>\n",
       "      <td>18.857143</td>\n",
       "      <td>1.864454</td>\n",
       "      <td>16.0</td>\n",
       "      <td>18.00</td>\n",
       "      <td>18.0</td>\n",
       "      <td>20.50</td>\n",
       "      <td>21.0</td>\n",
       "    </tr>\n",
       "    <tr>\n",
       "      <th>a4 quattro</th>\n",
       "      <td>8.0</td>\n",
       "      <td>17.125000</td>\n",
       "      <td>1.807722</td>\n",
       "      <td>15.0</td>\n",
       "      <td>15.75</td>\n",
       "      <td>17.0</td>\n",
       "      <td>18.25</td>\n",
       "      <td>20.0</td>\n",
       "    </tr>\n",
       "    <tr>\n",
       "      <th>a6 quattro</th>\n",
       "      <td>3.0</td>\n",
       "      <td>16.000000</td>\n",
       "      <td>1.000000</td>\n",
       "      <td>15.0</td>\n",
       "      <td>15.50</td>\n",
       "      <td>16.0</td>\n",
       "      <td>16.50</td>\n",
       "      <td>17.0</td>\n",
       "    </tr>\n",
       "    <tr>\n",
       "      <th>altima</th>\n",
       "      <td>6.0</td>\n",
       "      <td>20.666667</td>\n",
       "      <td>1.966384</td>\n",
       "      <td>19.0</td>\n",
       "      <td>19.00</td>\n",
       "      <td>20.0</td>\n",
       "      <td>22.50</td>\n",
       "      <td>23.0</td>\n",
       "    </tr>\n",
       "    <tr>\n",
       "      <th>c1500 suburban 2wd</th>\n",
       "      <td>5.0</td>\n",
       "      <td>12.800000</td>\n",
       "      <td>1.303840</td>\n",
       "      <td>11.0</td>\n",
       "      <td>12.00</td>\n",
       "      <td>13.0</td>\n",
       "      <td>14.00</td>\n",
       "      <td>14.0</td>\n",
       "    </tr>\n",
       "    <tr>\n",
       "      <th>camry</th>\n",
       "      <td>7.0</td>\n",
       "      <td>19.857143</td>\n",
       "      <td>1.463850</td>\n",
       "      <td>18.0</td>\n",
       "      <td>18.50</td>\n",
       "      <td>21.0</td>\n",
       "      <td>21.00</td>\n",
       "      <td>21.0</td>\n",
       "    </tr>\n",
       "    <tr>\n",
       "      <th>camry solara</th>\n",
       "      <td>7.0</td>\n",
       "      <td>19.857143</td>\n",
       "      <td>1.772811</td>\n",
       "      <td>18.0</td>\n",
       "      <td>18.00</td>\n",
       "      <td>21.0</td>\n",
       "      <td>21.00</td>\n",
       "      <td>22.0</td>\n",
       "    </tr>\n",
       "    <tr>\n",
       "      <th>caravan 2wd</th>\n",
       "      <td>11.0</td>\n",
       "      <td>15.818182</td>\n",
       "      <td>1.834022</td>\n",
       "      <td>11.0</td>\n",
       "      <td>15.50</td>\n",
       "      <td>16.0</td>\n",
       "      <td>17.00</td>\n",
       "      <td>18.0</td>\n",
       "    </tr>\n",
       "    <tr>\n",
       "      <th>civic</th>\n",
       "      <td>9.0</td>\n",
       "      <td>24.444444</td>\n",
       "      <td>1.943651</td>\n",
       "      <td>21.0</td>\n",
       "      <td>24.00</td>\n",
       "      <td>24.0</td>\n",
       "      <td>25.00</td>\n",
       "      <td>28.0</td>\n",
       "    </tr>\n",
       "    <tr>\n",
       "      <th>corolla</th>\n",
       "      <td>5.0</td>\n",
       "      <td>25.600000</td>\n",
       "      <td>1.673320</td>\n",
       "      <td>24.0</td>\n",
       "      <td>24.00</td>\n",
       "      <td>26.0</td>\n",
       "      <td>26.00</td>\n",
       "      <td>28.0</td>\n",
       "    </tr>\n",
       "    <tr>\n",
       "      <th>corvette</th>\n",
       "      <td>5.0</td>\n",
       "      <td>15.400000</td>\n",
       "      <td>0.547723</td>\n",
       "      <td>15.0</td>\n",
       "      <td>15.00</td>\n",
       "      <td>15.0</td>\n",
       "      <td>16.00</td>\n",
       "      <td>16.0</td>\n",
       "    </tr>\n",
       "    <tr>\n",
       "      <th>dakota pickup 4wd</th>\n",
       "      <td>9.0</td>\n",
       "      <td>12.777778</td>\n",
       "      <td>1.986063</td>\n",
       "      <td>9.0</td>\n",
       "      <td>11.00</td>\n",
       "      <td>14.0</td>\n",
       "      <td>14.00</td>\n",
       "      <td>15.0</td>\n",
       "    </tr>\n",
       "    <tr>\n",
       "      <th>durango 4wd</th>\n",
       "      <td>7.0</td>\n",
       "      <td>11.857143</td>\n",
       "      <td>1.573592</td>\n",
       "      <td>9.0</td>\n",
       "      <td>11.00</td>\n",
       "      <td>13.0</td>\n",
       "      <td>13.00</td>\n",
       "      <td>13.0</td>\n",
       "    </tr>\n",
       "    <tr>\n",
       "      <th>expedition 2wd</th>\n",
       "      <td>3.0</td>\n",
       "      <td>11.333333</td>\n",
       "      <td>0.577350</td>\n",
       "      <td>11.0</td>\n",
       "      <td>11.00</td>\n",
       "      <td>11.0</td>\n",
       "      <td>11.50</td>\n",
       "      <td>12.0</td>\n",
       "    </tr>\n",
       "    <tr>\n",
       "      <th>explorer 4wd</th>\n",
       "      <td>6.0</td>\n",
       "      <td>13.666667</td>\n",
       "      <td>0.816497</td>\n",
       "      <td>13.0</td>\n",
       "      <td>13.00</td>\n",
       "      <td>13.5</td>\n",
       "      <td>14.00</td>\n",
       "      <td>15.0</td>\n",
       "    </tr>\n",
       "    <tr>\n",
       "      <th>f150 pickup 4wd</th>\n",
       "      <td>7.0</td>\n",
       "      <td>13.000000</td>\n",
       "      <td>1.000000</td>\n",
       "      <td>11.0</td>\n",
       "      <td>13.00</td>\n",
       "      <td>13.0</td>\n",
       "      <td>13.50</td>\n",
       "      <td>14.0</td>\n",
       "    </tr>\n",
       "    <tr>\n",
       "      <th>forester awd</th>\n",
       "      <td>6.0</td>\n",
       "      <td>18.833333</td>\n",
       "      <td>0.983192</td>\n",
       "      <td>18.0</td>\n",
       "      <td>18.00</td>\n",
       "      <td>18.5</td>\n",
       "      <td>19.75</td>\n",
       "      <td>20.0</td>\n",
       "    </tr>\n",
       "    <tr>\n",
       "      <th>grand cherokee 4wd</th>\n",
       "      <td>8.0</td>\n",
       "      <td>13.500000</td>\n",
       "      <td>2.507133</td>\n",
       "      <td>9.0</td>\n",
       "      <td>12.50</td>\n",
       "      <td>14.0</td>\n",
       "      <td>15.00</td>\n",
       "      <td>17.0</td>\n",
       "    </tr>\n",
       "    <tr>\n",
       "      <th>grand prix</th>\n",
       "      <td>5.0</td>\n",
       "      <td>17.000000</td>\n",
       "      <td>1.000000</td>\n",
       "      <td>16.0</td>\n",
       "      <td>16.00</td>\n",
       "      <td>17.0</td>\n",
       "      <td>18.00</td>\n",
       "      <td>18.0</td>\n",
       "    </tr>\n",
       "    <tr>\n",
       "      <th>gti</th>\n",
       "      <td>5.0</td>\n",
       "      <td>20.000000</td>\n",
       "      <td>2.000000</td>\n",
       "      <td>17.0</td>\n",
       "      <td>19.00</td>\n",
       "      <td>21.0</td>\n",
       "      <td>21.00</td>\n",
       "      <td>22.0</td>\n",
       "    </tr>\n",
       "    <tr>\n",
       "      <th>impreza awd</th>\n",
       "      <td>8.0</td>\n",
       "      <td>19.625000</td>\n",
       "      <td>0.744024</td>\n",
       "      <td>19.0</td>\n",
       "      <td>19.00</td>\n",
       "      <td>19.5</td>\n",
       "      <td>20.00</td>\n",
       "      <td>21.0</td>\n",
       "    </tr>\n",
       "    <tr>\n",
       "      <th>jetta</th>\n",
       "      <td>9.0</td>\n",
       "      <td>21.222222</td>\n",
       "      <td>4.867694</td>\n",
       "      <td>16.0</td>\n",
       "      <td>19.00</td>\n",
       "      <td>21.0</td>\n",
       "      <td>21.00</td>\n",
       "      <td>33.0</td>\n",
       "    </tr>\n",
       "    <tr>\n",
       "      <th>k1500 tahoe 4wd</th>\n",
       "      <td>4.0</td>\n",
       "      <td>12.500000</td>\n",
       "      <td>1.732051</td>\n",
       "      <td>11.0</td>\n",
       "      <td>11.00</td>\n",
       "      <td>12.5</td>\n",
       "      <td>14.00</td>\n",
       "      <td>14.0</td>\n",
       "    </tr>\n",
       "    <tr>\n",
       "      <th>land cruiser wagon 4wd</th>\n",
       "      <td>2.0</td>\n",
       "      <td>12.000000</td>\n",
       "      <td>1.414214</td>\n",
       "      <td>11.0</td>\n",
       "      <td>11.50</td>\n",
       "      <td>12.0</td>\n",
       "      <td>12.50</td>\n",
       "      <td>13.0</td>\n",
       "    </tr>\n",
       "    <tr>\n",
       "      <th>malibu</th>\n",
       "      <td>5.0</td>\n",
       "      <td>18.800000</td>\n",
       "      <td>1.923538</td>\n",
       "      <td>17.0</td>\n",
       "      <td>18.00</td>\n",
       "      <td>18.0</td>\n",
       "      <td>19.00</td>\n",
       "      <td>22.0</td>\n",
       "    </tr>\n",
       "    <tr>\n",
       "      <th>maxima</th>\n",
       "      <td>3.0</td>\n",
       "      <td>18.666667</td>\n",
       "      <td>0.577350</td>\n",
       "      <td>18.0</td>\n",
       "      <td>18.50</td>\n",
       "      <td>19.0</td>\n",
       "      <td>19.00</td>\n",
       "      <td>19.0</td>\n",
       "    </tr>\n",
       "    <tr>\n",
       "      <th>mountaineer 4wd</th>\n",
       "      <td>4.0</td>\n",
       "      <td>13.250000</td>\n",
       "      <td>0.500000</td>\n",
       "      <td>13.0</td>\n",
       "      <td>13.00</td>\n",
       "      <td>13.0</td>\n",
       "      <td>13.25</td>\n",
       "      <td>14.0</td>\n",
       "    </tr>\n",
       "    <tr>\n",
       "      <th>mustang</th>\n",
       "      <td>9.0</td>\n",
       "      <td>15.888889</td>\n",
       "      <td>1.452966</td>\n",
       "      <td>14.0</td>\n",
       "      <td>15.00</td>\n",
       "      <td>15.0</td>\n",
       "      <td>17.00</td>\n",
       "      <td>18.0</td>\n",
       "    </tr>\n",
       "    <tr>\n",
       "      <th>navigator 2wd</th>\n",
       "      <td>3.0</td>\n",
       "      <td>11.333333</td>\n",
       "      <td>0.577350</td>\n",
       "      <td>11.0</td>\n",
       "      <td>11.00</td>\n",
       "      <td>11.0</td>\n",
       "      <td>11.50</td>\n",
       "      <td>12.0</td>\n",
       "    </tr>\n",
       "    <tr>\n",
       "      <th>new beetle</th>\n",
       "      <td>6.0</td>\n",
       "      <td>24.000000</td>\n",
       "      <td>6.511528</td>\n",
       "      <td>19.0</td>\n",
       "      <td>20.00</td>\n",
       "      <td>20.5</td>\n",
       "      <td>27.00</td>\n",
       "      <td>35.0</td>\n",
       "    </tr>\n",
       "    <tr>\n",
       "      <th>passat</th>\n",
       "      <td>7.0</td>\n",
       "      <td>18.571429</td>\n",
       "      <td>1.902379</td>\n",
       "      <td>16.0</td>\n",
       "      <td>17.50</td>\n",
       "      <td>18.0</td>\n",
       "      <td>20.00</td>\n",
       "      <td>21.0</td>\n",
       "    </tr>\n",
       "    <tr>\n",
       "      <th>pathfinder 4wd</th>\n",
       "      <td>4.0</td>\n",
       "      <td>13.750000</td>\n",
       "      <td>1.258306</td>\n",
       "      <td>12.0</td>\n",
       "      <td>13.50</td>\n",
       "      <td>14.0</td>\n",
       "      <td>14.25</td>\n",
       "      <td>15.0</td>\n",
       "    </tr>\n",
       "    <tr>\n",
       "      <th>ram 1500 pickup 4wd</th>\n",
       "      <td>10.0</td>\n",
       "      <td>11.400000</td>\n",
       "      <td>1.505545</td>\n",
       "      <td>9.0</td>\n",
       "      <td>11.00</td>\n",
       "      <td>11.5</td>\n",
       "      <td>12.75</td>\n",
       "      <td>13.0</td>\n",
       "    </tr>\n",
       "    <tr>\n",
       "      <th>range rover</th>\n",
       "      <td>4.0</td>\n",
       "      <td>11.500000</td>\n",
       "      <td>0.577350</td>\n",
       "      <td>11.0</td>\n",
       "      <td>11.00</td>\n",
       "      <td>11.5</td>\n",
       "      <td>12.00</td>\n",
       "      <td>12.0</td>\n",
       "    </tr>\n",
       "    <tr>\n",
       "      <th>sonata</th>\n",
       "      <td>7.0</td>\n",
       "      <td>19.000000</td>\n",
       "      <td>1.414214</td>\n",
       "      <td>18.0</td>\n",
       "      <td>18.00</td>\n",
       "      <td>18.0</td>\n",
       "      <td>20.00</td>\n",
       "      <td>21.0</td>\n",
       "    </tr>\n",
       "    <tr>\n",
       "      <th>tiburon</th>\n",
       "      <td>7.0</td>\n",
       "      <td>18.285714</td>\n",
       "      <td>1.603567</td>\n",
       "      <td>16.0</td>\n",
       "      <td>17.00</td>\n",
       "      <td>19.0</td>\n",
       "      <td>19.50</td>\n",
       "      <td>20.0</td>\n",
       "    </tr>\n",
       "    <tr>\n",
       "      <th>toyota tacoma 4wd</th>\n",
       "      <td>7.0</td>\n",
       "      <td>15.571429</td>\n",
       "      <td>0.786796</td>\n",
       "      <td>15.0</td>\n",
       "      <td>15.00</td>\n",
       "      <td>15.0</td>\n",
       "      <td>16.00</td>\n",
       "      <td>17.0</td>\n",
       "    </tr>\n",
       "  </tbody>\n",
       "</table>\n",
       "</div>"
      ],
      "text/plain": [
       "                         mpg                                                 \\\n",
       "                       count       mean       std   min    25%   50%    75%   \n",
       "model                                                                         \n",
       "4runner 4wd              6.0  15.166667  0.752773  14.0  15.00  15.0  15.75   \n",
       "a4                       7.0  18.857143  1.864454  16.0  18.00  18.0  20.50   \n",
       "a4 quattro               8.0  17.125000  1.807722  15.0  15.75  17.0  18.25   \n",
       "a6 quattro               3.0  16.000000  1.000000  15.0  15.50  16.0  16.50   \n",
       "altima                   6.0  20.666667  1.966384  19.0  19.00  20.0  22.50   \n",
       "c1500 suburban 2wd       5.0  12.800000  1.303840  11.0  12.00  13.0  14.00   \n",
       "camry                    7.0  19.857143  1.463850  18.0  18.50  21.0  21.00   \n",
       "camry solara             7.0  19.857143  1.772811  18.0  18.00  21.0  21.00   \n",
       "caravan 2wd             11.0  15.818182  1.834022  11.0  15.50  16.0  17.00   \n",
       "civic                    9.0  24.444444  1.943651  21.0  24.00  24.0  25.00   \n",
       "corolla                  5.0  25.600000  1.673320  24.0  24.00  26.0  26.00   \n",
       "corvette                 5.0  15.400000  0.547723  15.0  15.00  15.0  16.00   \n",
       "dakota pickup 4wd        9.0  12.777778  1.986063   9.0  11.00  14.0  14.00   \n",
       "durango 4wd              7.0  11.857143  1.573592   9.0  11.00  13.0  13.00   \n",
       "expedition 2wd           3.0  11.333333  0.577350  11.0  11.00  11.0  11.50   \n",
       "explorer 4wd             6.0  13.666667  0.816497  13.0  13.00  13.5  14.00   \n",
       "f150 pickup 4wd          7.0  13.000000  1.000000  11.0  13.00  13.0  13.50   \n",
       "forester awd             6.0  18.833333  0.983192  18.0  18.00  18.5  19.75   \n",
       "grand cherokee 4wd       8.0  13.500000  2.507133   9.0  12.50  14.0  15.00   \n",
       "grand prix               5.0  17.000000  1.000000  16.0  16.00  17.0  18.00   \n",
       "gti                      5.0  20.000000  2.000000  17.0  19.00  21.0  21.00   \n",
       "impreza awd              8.0  19.625000  0.744024  19.0  19.00  19.5  20.00   \n",
       "jetta                    9.0  21.222222  4.867694  16.0  19.00  21.0  21.00   \n",
       "k1500 tahoe 4wd          4.0  12.500000  1.732051  11.0  11.00  12.5  14.00   \n",
       "land cruiser wagon 4wd   2.0  12.000000  1.414214  11.0  11.50  12.0  12.50   \n",
       "malibu                   5.0  18.800000  1.923538  17.0  18.00  18.0  19.00   \n",
       "maxima                   3.0  18.666667  0.577350  18.0  18.50  19.0  19.00   \n",
       "mountaineer 4wd          4.0  13.250000  0.500000  13.0  13.00  13.0  13.25   \n",
       "mustang                  9.0  15.888889  1.452966  14.0  15.00  15.0  17.00   \n",
       "navigator 2wd            3.0  11.333333  0.577350  11.0  11.00  11.0  11.50   \n",
       "new beetle               6.0  24.000000  6.511528  19.0  20.00  20.5  27.00   \n",
       "passat                   7.0  18.571429  1.902379  16.0  17.50  18.0  20.00   \n",
       "pathfinder 4wd           4.0  13.750000  1.258306  12.0  13.50  14.0  14.25   \n",
       "ram 1500 pickup 4wd     10.0  11.400000  1.505545   9.0  11.00  11.5  12.75   \n",
       "range rover              4.0  11.500000  0.577350  11.0  11.00  11.5  12.00   \n",
       "sonata                   7.0  19.000000  1.414214  18.0  18.00  18.0  20.00   \n",
       "tiburon                  7.0  18.285714  1.603567  16.0  17.00  19.0  19.50   \n",
       "toyota tacoma 4wd        7.0  15.571429  0.786796  15.0  15.00  15.0  16.00   \n",
       "\n",
       "                              \n",
       "                         max  \n",
       "model                         \n",
       "4runner 4wd             16.0  \n",
       "a4                      21.0  \n",
       "a4 quattro              20.0  \n",
       "a6 quattro              17.0  \n",
       "altima                  23.0  \n",
       "c1500 suburban 2wd      14.0  \n",
       "camry                   21.0  \n",
       "camry solara            22.0  \n",
       "caravan 2wd             18.0  \n",
       "civic                   28.0  \n",
       "corolla                 28.0  \n",
       "corvette                16.0  \n",
       "dakota pickup 4wd       15.0  \n",
       "durango 4wd             13.0  \n",
       "expedition 2wd          12.0  \n",
       "explorer 4wd            15.0  \n",
       "f150 pickup 4wd         14.0  \n",
       "forester awd            20.0  \n",
       "grand cherokee 4wd      17.0  \n",
       "grand prix              18.0  \n",
       "gti                     22.0  \n",
       "impreza awd             21.0  \n",
       "jetta                   33.0  \n",
       "k1500 tahoe 4wd         14.0  \n",
       "land cruiser wagon 4wd  13.0  \n",
       "malibu                  22.0  \n",
       "maxima                  19.0  \n",
       "mountaineer 4wd         14.0  \n",
       "mustang                 18.0  \n",
       "navigator 2wd           12.0  \n",
       "new beetle              35.0  \n",
       "passat                  21.0  \n",
       "pathfinder 4wd          15.0  \n",
       "ram 1500 pickup 4wd     13.0  \n",
       "range rover             12.0  \n",
       "sonata                  21.0  \n",
       "tiburon                 20.0  \n",
       "toyota tacoma 4wd       17.0  "
      ]
     },
     "execution_count": 9,
     "metadata": {},
     "output_type": "execute_result"
    }
   ],
   "source": [
    "# 자동차 모델별 , mpg데이터 subset\n",
    "df = mycars[['model','mpg']]\n",
    "# 모델별 데이터수 평균, 표준편차\n",
    "df.groupby('model').describe()"
   ]
  },
  {
   "cell_type": "markdown",
   "id": "6b306349-9ba7-4be1-9514-a98a39053a52",
   "metadata": {},
   "source": [
    "# civic\t9.0\t24.444444\t1.943651\t21.0\t24.00\t24.0\t25.00\t28.0"
   ]
  },
  {
   "cell_type": "code",
   "execution_count": 22,
   "id": "b98adf64-bd7c-4692-9590-0bed731ded09",
   "metadata": {},
   "outputs": [
    {
     "data": {
      "text/html": [
       "<div>\n",
       "<style scoped>\n",
       "    .dataframe tbody tr th:only-of-type {\n",
       "        vertical-align: middle;\n",
       "    }\n",
       "\n",
       "    .dataframe tbody tr th {\n",
       "        vertical-align: top;\n",
       "    }\n",
       "\n",
       "    .dataframe thead th {\n",
       "        text-align: right;\n",
       "    }\n",
       "</style>\n",
       "<table border=\"1\" class=\"dataframe\">\n",
       "  <thead>\n",
       "    <tr style=\"text-align: right;\">\n",
       "      <th></th>\n",
       "      <th>mpg</th>\n",
       "    </tr>\n",
       "    <tr>\n",
       "      <th>model</th>\n",
       "      <th></th>\n",
       "    </tr>\n",
       "  </thead>\n",
       "  <tbody>\n",
       "    <tr>\n",
       "      <th>navigator 2wd</th>\n",
       "      <td>11.333333</td>\n",
       "    </tr>\n",
       "    <tr>\n",
       "      <th>expedition 2wd</th>\n",
       "      <td>11.333333</td>\n",
       "    </tr>\n",
       "    <tr>\n",
       "      <th>ram 1500 pickup 4wd</th>\n",
       "      <td>11.400000</td>\n",
       "    </tr>\n",
       "    <tr>\n",
       "      <th>range rover</th>\n",
       "      <td>11.500000</td>\n",
       "    </tr>\n",
       "    <tr>\n",
       "      <th>durango 4wd</th>\n",
       "      <td>11.857143</td>\n",
       "    </tr>\n",
       "    <tr>\n",
       "      <th>land cruiser wagon 4wd</th>\n",
       "      <td>12.000000</td>\n",
       "    </tr>\n",
       "    <tr>\n",
       "      <th>k1500 tahoe 4wd</th>\n",
       "      <td>12.500000</td>\n",
       "    </tr>\n",
       "    <tr>\n",
       "      <th>dakota pickup 4wd</th>\n",
       "      <td>12.777778</td>\n",
       "    </tr>\n",
       "    <tr>\n",
       "      <th>c1500 suburban 2wd</th>\n",
       "      <td>12.800000</td>\n",
       "    </tr>\n",
       "    <tr>\n",
       "      <th>f150 pickup 4wd</th>\n",
       "      <td>13.000000</td>\n",
       "    </tr>\n",
       "    <tr>\n",
       "      <th>mountaineer 4wd</th>\n",
       "      <td>13.250000</td>\n",
       "    </tr>\n",
       "    <tr>\n",
       "      <th>grand cherokee 4wd</th>\n",
       "      <td>13.500000</td>\n",
       "    </tr>\n",
       "    <tr>\n",
       "      <th>explorer 4wd</th>\n",
       "      <td>13.666667</td>\n",
       "    </tr>\n",
       "    <tr>\n",
       "      <th>pathfinder 4wd</th>\n",
       "      <td>13.750000</td>\n",
       "    </tr>\n",
       "    <tr>\n",
       "      <th>4runner 4wd</th>\n",
       "      <td>15.166667</td>\n",
       "    </tr>\n",
       "    <tr>\n",
       "      <th>corvette</th>\n",
       "      <td>15.400000</td>\n",
       "    </tr>\n",
       "    <tr>\n",
       "      <th>toyota tacoma 4wd</th>\n",
       "      <td>15.571429</td>\n",
       "    </tr>\n",
       "    <tr>\n",
       "      <th>caravan 2wd</th>\n",
       "      <td>15.818182</td>\n",
       "    </tr>\n",
       "    <tr>\n",
       "      <th>mustang</th>\n",
       "      <td>15.888889</td>\n",
       "    </tr>\n",
       "    <tr>\n",
       "      <th>a6 quattro</th>\n",
       "      <td>16.000000</td>\n",
       "    </tr>\n",
       "    <tr>\n",
       "      <th>grand prix</th>\n",
       "      <td>17.000000</td>\n",
       "    </tr>\n",
       "    <tr>\n",
       "      <th>a4 quattro</th>\n",
       "      <td>17.125000</td>\n",
       "    </tr>\n",
       "    <tr>\n",
       "      <th>tiburon</th>\n",
       "      <td>18.285714</td>\n",
       "    </tr>\n",
       "    <tr>\n",
       "      <th>passat</th>\n",
       "      <td>18.571429</td>\n",
       "    </tr>\n",
       "    <tr>\n",
       "      <th>maxima</th>\n",
       "      <td>18.666667</td>\n",
       "    </tr>\n",
       "    <tr>\n",
       "      <th>malibu</th>\n",
       "      <td>18.800000</td>\n",
       "    </tr>\n",
       "    <tr>\n",
       "      <th>forester awd</th>\n",
       "      <td>18.833333</td>\n",
       "    </tr>\n",
       "    <tr>\n",
       "      <th>a4</th>\n",
       "      <td>18.857143</td>\n",
       "    </tr>\n",
       "    <tr>\n",
       "      <th>sonata</th>\n",
       "      <td>19.000000</td>\n",
       "    </tr>\n",
       "    <tr>\n",
       "      <th>impreza awd</th>\n",
       "      <td>19.625000</td>\n",
       "    </tr>\n",
       "    <tr>\n",
       "      <th>camry</th>\n",
       "      <td>19.857143</td>\n",
       "    </tr>\n",
       "    <tr>\n",
       "      <th>camry solara</th>\n",
       "      <td>19.857143</td>\n",
       "    </tr>\n",
       "    <tr>\n",
       "      <th>gti</th>\n",
       "      <td>20.000000</td>\n",
       "    </tr>\n",
       "    <tr>\n",
       "      <th>altima</th>\n",
       "      <td>20.666667</td>\n",
       "    </tr>\n",
       "    <tr>\n",
       "      <th>jetta</th>\n",
       "      <td>21.222222</td>\n",
       "    </tr>\n",
       "    <tr>\n",
       "      <th>new beetle</th>\n",
       "      <td>24.000000</td>\n",
       "    </tr>\n",
       "    <tr>\n",
       "      <th>civic</th>\n",
       "      <td>24.444444</td>\n",
       "    </tr>\n",
       "    <tr>\n",
       "      <th>corolla</th>\n",
       "      <td>25.600000</td>\n",
       "    </tr>\n",
       "  </tbody>\n",
       "</table>\n",
       "</div>"
      ],
      "text/plain": [
       "                              mpg\n",
       "model                            \n",
       "navigator 2wd           11.333333\n",
       "expedition 2wd          11.333333\n",
       "ram 1500 pickup 4wd     11.400000\n",
       "range rover             11.500000\n",
       "durango 4wd             11.857143\n",
       "land cruiser wagon 4wd  12.000000\n",
       "k1500 tahoe 4wd         12.500000\n",
       "dakota pickup 4wd       12.777778\n",
       "c1500 suburban 2wd      12.800000\n",
       "f150 pickup 4wd         13.000000\n",
       "mountaineer 4wd         13.250000\n",
       "grand cherokee 4wd      13.500000\n",
       "explorer 4wd            13.666667\n",
       "pathfinder 4wd          13.750000\n",
       "4runner 4wd             15.166667\n",
       "corvette                15.400000\n",
       "toyota tacoma 4wd       15.571429\n",
       "caravan 2wd             15.818182\n",
       "mustang                 15.888889\n",
       "a6 quattro              16.000000\n",
       "grand prix              17.000000\n",
       "a4 quattro              17.125000\n",
       "tiburon                 18.285714\n",
       "passat                  18.571429\n",
       "maxima                  18.666667\n",
       "malibu                  18.800000\n",
       "forester awd            18.833333\n",
       "a4                      18.857143\n",
       "sonata                  19.000000\n",
       "impreza awd             19.625000\n",
       "camry                   19.857143\n",
       "camry solara            19.857143\n",
       "gti                     20.000000\n",
       "altima                  20.666667\n",
       "jetta                   21.222222\n",
       "new beetle              24.000000\n",
       "civic                   24.444444\n",
       "corolla                 25.600000"
      ]
     },
     "execution_count": 22,
     "metadata": {},
     "output_type": "execute_result"
    }
   ],
   "source": [
    "df_mean=df.groupby('model').mean()\n",
    "df_mean.sort_values(by = 'mpg' , ascending = True)"
   ]
  },
  {
   "cell_type": "code",
   "execution_count": 20,
   "id": "08609cd7-b0c0-4567-b9a0-3db170f03fa4",
   "metadata": {},
   "outputs": [
    {
     "data": {
      "text/html": [
       "<div>\n",
       "<style scoped>\n",
       "    .dataframe tbody tr th:only-of-type {\n",
       "        vertical-align: middle;\n",
       "    }\n",
       "\n",
       "    .dataframe tbody tr th {\n",
       "        vertical-align: top;\n",
       "    }\n",
       "\n",
       "    .dataframe thead th {\n",
       "        text-align: right;\n",
       "    }\n",
       "</style>\n",
       "<table border=\"1\" class=\"dataframe\">\n",
       "  <thead>\n",
       "    <tr style=\"text-align: right;\">\n",
       "      <th></th>\n",
       "      <th>mpg</th>\n",
       "    </tr>\n",
       "    <tr>\n",
       "      <th>model</th>\n",
       "      <th></th>\n",
       "    </tr>\n",
       "  </thead>\n",
       "  <tbody>\n",
       "    <tr>\n",
       "      <th>new beetle</th>\n",
       "      <td>6.511528</td>\n",
       "    </tr>\n",
       "    <tr>\n",
       "      <th>jetta</th>\n",
       "      <td>4.867694</td>\n",
       "    </tr>\n",
       "    <tr>\n",
       "      <th>grand cherokee 4wd</th>\n",
       "      <td>2.507133</td>\n",
       "    </tr>\n",
       "    <tr>\n",
       "      <th>gti</th>\n",
       "      <td>2.000000</td>\n",
       "    </tr>\n",
       "    <tr>\n",
       "      <th>dakota pickup 4wd</th>\n",
       "      <td>1.986063</td>\n",
       "    </tr>\n",
       "    <tr>\n",
       "      <th>altima</th>\n",
       "      <td>1.966384</td>\n",
       "    </tr>\n",
       "    <tr>\n",
       "      <th>civic</th>\n",
       "      <td>1.943651</td>\n",
       "    </tr>\n",
       "    <tr>\n",
       "      <th>malibu</th>\n",
       "      <td>1.923538</td>\n",
       "    </tr>\n",
       "    <tr>\n",
       "      <th>passat</th>\n",
       "      <td>1.902379</td>\n",
       "    </tr>\n",
       "    <tr>\n",
       "      <th>a4</th>\n",
       "      <td>1.864454</td>\n",
       "    </tr>\n",
       "    <tr>\n",
       "      <th>caravan 2wd</th>\n",
       "      <td>1.834022</td>\n",
       "    </tr>\n",
       "    <tr>\n",
       "      <th>a4 quattro</th>\n",
       "      <td>1.807722</td>\n",
       "    </tr>\n",
       "    <tr>\n",
       "      <th>camry solara</th>\n",
       "      <td>1.772811</td>\n",
       "    </tr>\n",
       "    <tr>\n",
       "      <th>k1500 tahoe 4wd</th>\n",
       "      <td>1.732051</td>\n",
       "    </tr>\n",
       "    <tr>\n",
       "      <th>corolla</th>\n",
       "      <td>1.673320</td>\n",
       "    </tr>\n",
       "    <tr>\n",
       "      <th>tiburon</th>\n",
       "      <td>1.603567</td>\n",
       "    </tr>\n",
       "    <tr>\n",
       "      <th>durango 4wd</th>\n",
       "      <td>1.573592</td>\n",
       "    </tr>\n",
       "    <tr>\n",
       "      <th>ram 1500 pickup 4wd</th>\n",
       "      <td>1.505545</td>\n",
       "    </tr>\n",
       "    <tr>\n",
       "      <th>camry</th>\n",
       "      <td>1.463850</td>\n",
       "    </tr>\n",
       "    <tr>\n",
       "      <th>mustang</th>\n",
       "      <td>1.452966</td>\n",
       "    </tr>\n",
       "    <tr>\n",
       "      <th>land cruiser wagon 4wd</th>\n",
       "      <td>1.414214</td>\n",
       "    </tr>\n",
       "    <tr>\n",
       "      <th>sonata</th>\n",
       "      <td>1.414214</td>\n",
       "    </tr>\n",
       "    <tr>\n",
       "      <th>c1500 suburban 2wd</th>\n",
       "      <td>1.303840</td>\n",
       "    </tr>\n",
       "    <tr>\n",
       "      <th>pathfinder 4wd</th>\n",
       "      <td>1.258306</td>\n",
       "    </tr>\n",
       "    <tr>\n",
       "      <th>f150 pickup 4wd</th>\n",
       "      <td>1.000000</td>\n",
       "    </tr>\n",
       "    <tr>\n",
       "      <th>a6 quattro</th>\n",
       "      <td>1.000000</td>\n",
       "    </tr>\n",
       "    <tr>\n",
       "      <th>grand prix</th>\n",
       "      <td>1.000000</td>\n",
       "    </tr>\n",
       "    <tr>\n",
       "      <th>forester awd</th>\n",
       "      <td>0.983192</td>\n",
       "    </tr>\n",
       "    <tr>\n",
       "      <th>explorer 4wd</th>\n",
       "      <td>0.816497</td>\n",
       "    </tr>\n",
       "    <tr>\n",
       "      <th>toyota tacoma 4wd</th>\n",
       "      <td>0.786796</td>\n",
       "    </tr>\n",
       "    <tr>\n",
       "      <th>4runner 4wd</th>\n",
       "      <td>0.752773</td>\n",
       "    </tr>\n",
       "    <tr>\n",
       "      <th>impreza awd</th>\n",
       "      <td>0.744024</td>\n",
       "    </tr>\n",
       "    <tr>\n",
       "      <th>range rover</th>\n",
       "      <td>0.577350</td>\n",
       "    </tr>\n",
       "    <tr>\n",
       "      <th>navigator 2wd</th>\n",
       "      <td>0.577350</td>\n",
       "    </tr>\n",
       "    <tr>\n",
       "      <th>maxima</th>\n",
       "      <td>0.577350</td>\n",
       "    </tr>\n",
       "    <tr>\n",
       "      <th>expedition 2wd</th>\n",
       "      <td>0.577350</td>\n",
       "    </tr>\n",
       "    <tr>\n",
       "      <th>corvette</th>\n",
       "      <td>0.547723</td>\n",
       "    </tr>\n",
       "    <tr>\n",
       "      <th>mountaineer 4wd</th>\n",
       "      <td>0.500000</td>\n",
       "    </tr>\n",
       "  </tbody>\n",
       "</table>\n",
       "</div>"
      ],
      "text/plain": [
       "                             mpg\n",
       "model                           \n",
       "new beetle              6.511528\n",
       "jetta                   4.867694\n",
       "grand cherokee 4wd      2.507133\n",
       "gti                     2.000000\n",
       "dakota pickup 4wd       1.986063\n",
       "altima                  1.966384\n",
       "civic                   1.943651\n",
       "malibu                  1.923538\n",
       "passat                  1.902379\n",
       "a4                      1.864454\n",
       "caravan 2wd             1.834022\n",
       "a4 quattro              1.807722\n",
       "camry solara            1.772811\n",
       "k1500 tahoe 4wd         1.732051\n",
       "corolla                 1.673320\n",
       "tiburon                 1.603567\n",
       "durango 4wd             1.573592\n",
       "ram 1500 pickup 4wd     1.505545\n",
       "camry                   1.463850\n",
       "mustang                 1.452966\n",
       "land cruiser wagon 4wd  1.414214\n",
       "sonata                  1.414214\n",
       "c1500 suburban 2wd      1.303840\n",
       "pathfinder 4wd          1.258306\n",
       "f150 pickup 4wd         1.000000\n",
       "a6 quattro              1.000000\n",
       "grand prix              1.000000\n",
       "forester awd            0.983192\n",
       "explorer 4wd            0.816497\n",
       "toyota tacoma 4wd       0.786796\n",
       "4runner 4wd             0.752773\n",
       "impreza awd             0.744024\n",
       "range rover             0.577350\n",
       "navigator 2wd           0.577350\n",
       "maxima                  0.577350\n",
       "expedition 2wd          0.577350\n",
       "corvette                0.547723\n",
       "mountaineer 4wd         0.500000"
      ]
     },
     "execution_count": 20,
     "metadata": {},
     "output_type": "execute_result"
    }
   ],
   "source": [
    "df_std=df.groupby('model').std()\n",
    "df_std.sort_values(by = 'mpg' , ascending = False)"
   ]
  },
  {
   "cell_type": "markdown",
   "id": "868b8098-f819-4caf-971a-4e384973db9c",
   "metadata": {},
   "source": [
    "## 결과분석 \n",
    "- 평균 연비가 가장 좋지 않은 차량 navigator 2wd , expedition 2wd\n",
    "- 평균 연비가 가장 좋은 차량 corolla, civic\n",
    "- 연비에 대해 표준편차가 가장 큰 차량 new beetle, jetta\n",
    "- 연비에 대해 표준편차가 가장 작은 차량 mountaineer 4wd, corvette3"
   ]
  },
  {
   "cell_type": "code",
   "execution_count": 56,
   "id": "796374a7-7890-4784-a471-917b7cd7565c",
   "metadata": {
    "scrolled": true
   },
   "outputs": [
    {
     "data": {
      "text/html": [
       "<div>\n",
       "<style scoped>\n",
       "    .dataframe tbody tr th:only-of-type {\n",
       "        vertical-align: middle;\n",
       "    }\n",
       "\n",
       "    .dataframe tbody tr th {\n",
       "        vertical-align: top;\n",
       "    }\n",
       "\n",
       "    .dataframe thead th {\n",
       "        text-align: right;\n",
       "    }\n",
       "</style>\n",
       "<table border=\"1\" class=\"dataframe\">\n",
       "  <thead>\n",
       "    <tr style=\"text-align: right;\">\n",
       "      <th></th>\n",
       "      <th>Flaws</th>\n",
       "      <th>Period</th>\n",
       "    </tr>\n",
       "  </thead>\n",
       "  <tbody>\n",
       "    <tr>\n",
       "      <th>0</th>\n",
       "      <td>Scratch</td>\n",
       "      <td>Day</td>\n",
       "    </tr>\n",
       "    <tr>\n",
       "      <th>1</th>\n",
       "      <td>Scratch</td>\n",
       "      <td>Day</td>\n",
       "    </tr>\n",
       "    <tr>\n",
       "      <th>2</th>\n",
       "      <td>Peel</td>\n",
       "      <td>Day</td>\n",
       "    </tr>\n",
       "    <tr>\n",
       "      <th>3</th>\n",
       "      <td>Peel</td>\n",
       "      <td>Day</td>\n",
       "    </tr>\n",
       "    <tr>\n",
       "      <th>4</th>\n",
       "      <td>Smudge</td>\n",
       "      <td>Day</td>\n",
       "    </tr>\n",
       "    <tr>\n",
       "      <th>5</th>\n",
       "      <td>Scratch</td>\n",
       "      <td>Day</td>\n",
       "    </tr>\n",
       "    <tr>\n",
       "      <th>6</th>\n",
       "      <td>Other</td>\n",
       "      <td>Day</td>\n",
       "    </tr>\n",
       "    <tr>\n",
       "      <th>7</th>\n",
       "      <td>Other</td>\n",
       "      <td>Evening</td>\n",
       "    </tr>\n",
       "    <tr>\n",
       "      <th>8</th>\n",
       "      <td>Peel</td>\n",
       "      <td>Evening</td>\n",
       "    </tr>\n",
       "    <tr>\n",
       "      <th>9</th>\n",
       "      <td>Peel</td>\n",
       "      <td>Evening</td>\n",
       "    </tr>\n",
       "    <tr>\n",
       "      <th>10</th>\n",
       "      <td>Peel</td>\n",
       "      <td>Evening</td>\n",
       "    </tr>\n",
       "    <tr>\n",
       "      <th>11</th>\n",
       "      <td>Peel</td>\n",
       "      <td>Evening</td>\n",
       "    </tr>\n",
       "    <tr>\n",
       "      <th>12</th>\n",
       "      <td>Scratch</td>\n",
       "      <td>Evening</td>\n",
       "    </tr>\n",
       "    <tr>\n",
       "      <th>13</th>\n",
       "      <td>Scratch</td>\n",
       "      <td>Evening</td>\n",
       "    </tr>\n",
       "    <tr>\n",
       "      <th>14</th>\n",
       "      <td>Peel</td>\n",
       "      <td>Night</td>\n",
       "    </tr>\n",
       "    <tr>\n",
       "      <th>15</th>\n",
       "      <td>Scratch</td>\n",
       "      <td>Night</td>\n",
       "    </tr>\n",
       "    <tr>\n",
       "      <th>16</th>\n",
       "      <td>Smudge</td>\n",
       "      <td>Night</td>\n",
       "    </tr>\n",
       "    <tr>\n",
       "      <th>17</th>\n",
       "      <td>Scratch</td>\n",
       "      <td>Night</td>\n",
       "    </tr>\n",
       "    <tr>\n",
       "      <th>18</th>\n",
       "      <td>Peel</td>\n",
       "      <td>Night</td>\n",
       "    </tr>\n",
       "    <tr>\n",
       "      <th>19</th>\n",
       "      <td>Peel</td>\n",
       "      <td>Night</td>\n",
       "    </tr>\n",
       "    <tr>\n",
       "      <th>20</th>\n",
       "      <td>Peel</td>\n",
       "      <td>Night</td>\n",
       "    </tr>\n",
       "    <tr>\n",
       "      <th>21</th>\n",
       "      <td>Peel</td>\n",
       "      <td>Night</td>\n",
       "    </tr>\n",
       "    <tr>\n",
       "      <th>22</th>\n",
       "      <td>Other</td>\n",
       "      <td>Night</td>\n",
       "    </tr>\n",
       "    <tr>\n",
       "      <th>23</th>\n",
       "      <td>Other</td>\n",
       "      <td>Night</td>\n",
       "    </tr>\n",
       "    <tr>\n",
       "      <th>24</th>\n",
       "      <td>Scratch</td>\n",
       "      <td>Night</td>\n",
       "    </tr>\n",
       "    <tr>\n",
       "      <th>25</th>\n",
       "      <td>Scratch</td>\n",
       "      <td>Night</td>\n",
       "    </tr>\n",
       "    <tr>\n",
       "      <th>26</th>\n",
       "      <td>Peel</td>\n",
       "      <td>Night</td>\n",
       "    </tr>\n",
       "    <tr>\n",
       "      <th>27</th>\n",
       "      <td>Scratch</td>\n",
       "      <td>Night</td>\n",
       "    </tr>\n",
       "    <tr>\n",
       "      <th>28</th>\n",
       "      <td>Smudge</td>\n",
       "      <td>Night</td>\n",
       "    </tr>\n",
       "    <tr>\n",
       "      <th>29</th>\n",
       "      <td>Scratch</td>\n",
       "      <td>Night</td>\n",
       "    </tr>\n",
       "    <tr>\n",
       "      <th>30</th>\n",
       "      <td>Other</td>\n",
       "      <td>Night</td>\n",
       "    </tr>\n",
       "    <tr>\n",
       "      <th>31</th>\n",
       "      <td>Scratch</td>\n",
       "      <td>Night</td>\n",
       "    </tr>\n",
       "    <tr>\n",
       "      <th>32</th>\n",
       "      <td>Scratch</td>\n",
       "      <td>Night</td>\n",
       "    </tr>\n",
       "    <tr>\n",
       "      <th>33</th>\n",
       "      <td>Peel</td>\n",
       "      <td>Weekend</td>\n",
       "    </tr>\n",
       "    <tr>\n",
       "      <th>34</th>\n",
       "      <td>Peel</td>\n",
       "      <td>Weekend</td>\n",
       "    </tr>\n",
       "    <tr>\n",
       "      <th>35</th>\n",
       "      <td>Peel</td>\n",
       "      <td>Weekend</td>\n",
       "    </tr>\n",
       "    <tr>\n",
       "      <th>36</th>\n",
       "      <td>Smudge</td>\n",
       "      <td>Weekend</td>\n",
       "    </tr>\n",
       "    <tr>\n",
       "      <th>37</th>\n",
       "      <td>Smudge</td>\n",
       "      <td>Weekend</td>\n",
       "    </tr>\n",
       "    <tr>\n",
       "      <th>38</th>\n",
       "      <td>Smudge</td>\n",
       "      <td>Weekend</td>\n",
       "    </tr>\n",
       "    <tr>\n",
       "      <th>39</th>\n",
       "      <td>Other</td>\n",
       "      <td>Weekend</td>\n",
       "    </tr>\n",
       "  </tbody>\n",
       "</table>\n",
       "</div>"
      ],
      "text/plain": [
       "      Flaws   Period\n",
       "0   Scratch      Day\n",
       "1   Scratch      Day\n",
       "2      Peel      Day\n",
       "3      Peel      Day\n",
       "4    Smudge      Day\n",
       "5   Scratch      Day\n",
       "6     Other      Day\n",
       "7     Other  Evening\n",
       "8      Peel  Evening\n",
       "9      Peel  Evening\n",
       "10     Peel  Evening\n",
       "11     Peel  Evening\n",
       "12  Scratch  Evening\n",
       "13  Scratch  Evening\n",
       "14     Peel    Night\n",
       "15  Scratch    Night\n",
       "16   Smudge    Night\n",
       "17  Scratch    Night\n",
       "18     Peel    Night\n",
       "19     Peel    Night\n",
       "20     Peel    Night\n",
       "21     Peel    Night\n",
       "22    Other    Night\n",
       "23    Other    Night\n",
       "24  Scratch    Night\n",
       "25  Scratch    Night\n",
       "26     Peel    Night\n",
       "27  Scratch    Night\n",
       "28   Smudge    Night\n",
       "29  Scratch    Night\n",
       "30    Other    Night\n",
       "31  Scratch    Night\n",
       "32  Scratch    Night\n",
       "33     Peel  Weekend\n",
       "34     Peel  Weekend\n",
       "35     Peel  Weekend\n",
       "36   Smudge  Weekend\n",
       "37   Smudge  Weekend\n",
       "38   Smudge  Weekend\n",
       "39    Other  Weekend"
      ]
     },
     "execution_count": 56,
     "metadata": {},
     "output_type": "execute_result"
    }
   ],
   "source": [
    "QC1 = pd.read_csv('EXH_QC1.csv')\n",
    "df = QC1[['Flaws','Period']]\n",
    "df"
   ]
  },
  {
   "cell_type": "code",
   "execution_count": 27,
   "id": "dc54958e-0baa-44eb-99dc-85d75ee4f797",
   "metadata": {},
   "outputs": [
    {
     "data": {
      "text/plain": [
       "Flaws\n",
       "Other       6\n",
       "Peel       15\n",
       "Scratch    13\n",
       "Smudge      6\n",
       "Name: count, dtype: int64"
      ]
     },
     "execution_count": 27,
     "metadata": {},
     "output_type": "execute_result"
    }
   ],
   "source": [
    "count = df['Flaws'].value_counts().sort_index()\n",
    "count.head()"
   ]
  },
  {
   "cell_type": "code",
   "execution_count": 39,
   "id": "d426c6e9-d34d-4716-baaf-a6be6755a774",
   "metadata": {},
   "outputs": [
    {
     "data": {
      "text/plain": [
       "Flaws\n",
       "Other       6\n",
       "Peel       21\n",
       "Scratch    34\n",
       "Smudge     40\n",
       "Name: count, dtype: int64"
      ]
     },
     "execution_count": 39,
     "metadata": {},
     "output_type": "execute_result"
    }
   ],
   "source": [
    "# cumsum은 배열에서 주어진 축에 따라 누적되는 원소들의 누적 합을 계산\n",
    "cumcnt = np.cumsum(count)\n",
    "cumcnt"
   ]
  },
  {
   "cell_type": "code",
   "execution_count": 41,
   "id": "fdb92918-6bd4-4acc-8a5b-e1b181e50cd4",
   "metadata": {},
   "outputs": [],
   "source": [
    "percent = count / sum(count) * 100"
   ]
  },
  {
   "cell_type": "code",
   "execution_count": 43,
   "id": "710e9639-409f-468c-b8e3-82cc1a1bc55a",
   "metadata": {},
   "outputs": [],
   "source": [
    "# 누적 합계량의 비율\n",
    "cumpct = np.cumsum(percent)"
   ]
  },
  {
   "cell_type": "code",
   "execution_count": 47,
   "id": "761ee786-fa27-450b-81b8-c74aa219d646",
   "metadata": {},
   "outputs": [
    {
     "data": {
      "text/html": [
       "<div>\n",
       "<style scoped>\n",
       "    .dataframe tbody tr th:only-of-type {\n",
       "        vertical-align: middle;\n",
       "    }\n",
       "\n",
       "    .dataframe tbody tr th {\n",
       "        vertical-align: top;\n",
       "    }\n",
       "\n",
       "    .dataframe thead th {\n",
       "        text-align: right;\n",
       "    }\n",
       "</style>\n",
       "<table border=\"1\" class=\"dataframe\">\n",
       "  <thead>\n",
       "    <tr style=\"text-align: right;\">\n",
       "      <th>Flaws</th>\n",
       "      <th>Count</th>\n",
       "      <th>CumCnt</th>\n",
       "      <th>Percent</th>\n",
       "      <th>CumPct</th>\n",
       "    </tr>\n",
       "    <tr>\n",
       "      <th>Flaws</th>\n",
       "      <th></th>\n",
       "      <th></th>\n",
       "      <th></th>\n",
       "      <th></th>\n",
       "    </tr>\n",
       "  </thead>\n",
       "  <tbody>\n",
       "    <tr>\n",
       "      <th>Other</th>\n",
       "      <td>6</td>\n",
       "      <td>6</td>\n",
       "      <td>15.0</td>\n",
       "      <td>15.0</td>\n",
       "    </tr>\n",
       "    <tr>\n",
       "      <th>Peel</th>\n",
       "      <td>15</td>\n",
       "      <td>21</td>\n",
       "      <td>37.5</td>\n",
       "      <td>52.5</td>\n",
       "    </tr>\n",
       "    <tr>\n",
       "      <th>Scratch</th>\n",
       "      <td>13</td>\n",
       "      <td>34</td>\n",
       "      <td>32.5</td>\n",
       "      <td>85.0</td>\n",
       "    </tr>\n",
       "    <tr>\n",
       "      <th>Smudge</th>\n",
       "      <td>6</td>\n",
       "      <td>40</td>\n",
       "      <td>15.0</td>\n",
       "      <td>100.0</td>\n",
       "    </tr>\n",
       "  </tbody>\n",
       "</table>\n",
       "</div>"
      ],
      "text/plain": [
       "Flaws    Count  CumCnt  Percent  CumPct\n",
       "Flaws                                  \n",
       "Other        6       6     15.0    15.0\n",
       "Peel        15      21     37.5    52.5\n",
       "Scratch     13      34     32.5    85.0\n",
       "Smudge       6      40     15.0   100.0"
      ]
     },
     "execution_count": 47,
     "metadata": {},
     "output_type": "execute_result"
    }
   ],
   "source": [
    "count_data = pd.DataFrame({'Count' : count, 'CumCnt' : cumcnt, 'Percent':percent, 'CumPct' : cumpct})\n",
    "count_data.columns.name = 'Flaws'\n",
    "count_data"
   ]
  },
  {
   "cell_type": "code",
   "execution_count": null,
   "id": "90b628fa-c68c-4318-95f7-290d672a30b9",
   "metadata": {},
   "outputs": [],
   "source": []
  },
  {
   "cell_type": "code",
   "execution_count": 52,
   "id": "bf47d5da-be62-4ffe-ad59-f84d662d9c38",
   "metadata": {},
   "outputs": [
    {
     "data": {
      "text/html": [
       "<div>\n",
       "<style scoped>\n",
       "    .dataframe tbody tr th:only-of-type {\n",
       "        vertical-align: middle;\n",
       "    }\n",
       "\n",
       "    .dataframe tbody tr th {\n",
       "        vertical-align: top;\n",
       "    }\n",
       "\n",
       "    .dataframe thead th {\n",
       "        text-align: right;\n",
       "    }\n",
       "</style>\n",
       "<table border=\"1\" class=\"dataframe\">\n",
       "  <thead>\n",
       "    <tr style=\"text-align: right;\">\n",
       "      <th></th>\n",
       "      <th>manufacturer</th>\n",
       "      <th>model</th>\n",
       "      <th>displacement</th>\n",
       "      <th>year</th>\n",
       "      <th>cylinder</th>\n",
       "      <th>automatic</th>\n",
       "      <th>driving</th>\n",
       "      <th>mpg</th>\n",
       "      <th>highway_mileage</th>\n",
       "      <th>fuel</th>\n",
       "      <th>class</th>\n",
       "    </tr>\n",
       "  </thead>\n",
       "  <tbody>\n",
       "    <tr>\n",
       "      <th>0</th>\n",
       "      <td>audi</td>\n",
       "      <td>a4</td>\n",
       "      <td>1.8</td>\n",
       "      <td>1999</td>\n",
       "      <td>4</td>\n",
       "      <td>auto</td>\n",
       "      <td>f</td>\n",
       "      <td>18</td>\n",
       "      <td>29</td>\n",
       "      <td>p</td>\n",
       "      <td>compact</td>\n",
       "    </tr>\n",
       "    <tr>\n",
       "      <th>1</th>\n",
       "      <td>audi</td>\n",
       "      <td>a4</td>\n",
       "      <td>1.8</td>\n",
       "      <td>1999</td>\n",
       "      <td>4</td>\n",
       "      <td>manual</td>\n",
       "      <td>f</td>\n",
       "      <td>21</td>\n",
       "      <td>29</td>\n",
       "      <td>p</td>\n",
       "      <td>compact</td>\n",
       "    </tr>\n",
       "    <tr>\n",
       "      <th>2</th>\n",
       "      <td>audi</td>\n",
       "      <td>a4</td>\n",
       "      <td>2.0</td>\n",
       "      <td>2008</td>\n",
       "      <td>4</td>\n",
       "      <td>manual</td>\n",
       "      <td>f</td>\n",
       "      <td>20</td>\n",
       "      <td>31</td>\n",
       "      <td>p</td>\n",
       "      <td>compact</td>\n",
       "    </tr>\n",
       "    <tr>\n",
       "      <th>3</th>\n",
       "      <td>audi</td>\n",
       "      <td>a4</td>\n",
       "      <td>2.0</td>\n",
       "      <td>2008</td>\n",
       "      <td>4</td>\n",
       "      <td>auto</td>\n",
       "      <td>f</td>\n",
       "      <td>21</td>\n",
       "      <td>30</td>\n",
       "      <td>p</td>\n",
       "      <td>compact</td>\n",
       "    </tr>\n",
       "    <tr>\n",
       "      <th>4</th>\n",
       "      <td>audi</td>\n",
       "      <td>a4</td>\n",
       "      <td>2.8</td>\n",
       "      <td>1999</td>\n",
       "      <td>6</td>\n",
       "      <td>auto</td>\n",
       "      <td>f</td>\n",
       "      <td>16</td>\n",
       "      <td>26</td>\n",
       "      <td>p</td>\n",
       "      <td>compact</td>\n",
       "    </tr>\n",
       "    <tr>\n",
       "      <th>...</th>\n",
       "      <td>...</td>\n",
       "      <td>...</td>\n",
       "      <td>...</td>\n",
       "      <td>...</td>\n",
       "      <td>...</td>\n",
       "      <td>...</td>\n",
       "      <td>...</td>\n",
       "      <td>...</td>\n",
       "      <td>...</td>\n",
       "      <td>...</td>\n",
       "      <td>...</td>\n",
       "    </tr>\n",
       "    <tr>\n",
       "      <th>229</th>\n",
       "      <td>volkswagen</td>\n",
       "      <td>passat</td>\n",
       "      <td>2.0</td>\n",
       "      <td>2008</td>\n",
       "      <td>4</td>\n",
       "      <td>auto</td>\n",
       "      <td>f</td>\n",
       "      <td>19</td>\n",
       "      <td>28</td>\n",
       "      <td>p</td>\n",
       "      <td>midsize</td>\n",
       "    </tr>\n",
       "    <tr>\n",
       "      <th>230</th>\n",
       "      <td>volkswagen</td>\n",
       "      <td>passat</td>\n",
       "      <td>2.0</td>\n",
       "      <td>2008</td>\n",
       "      <td>4</td>\n",
       "      <td>manual</td>\n",
       "      <td>f</td>\n",
       "      <td>21</td>\n",
       "      <td>29</td>\n",
       "      <td>p</td>\n",
       "      <td>midsize</td>\n",
       "    </tr>\n",
       "    <tr>\n",
       "      <th>231</th>\n",
       "      <td>volkswagen</td>\n",
       "      <td>passat</td>\n",
       "      <td>2.8</td>\n",
       "      <td>1999</td>\n",
       "      <td>6</td>\n",
       "      <td>auto</td>\n",
       "      <td>f</td>\n",
       "      <td>16</td>\n",
       "      <td>26</td>\n",
       "      <td>p</td>\n",
       "      <td>midsize</td>\n",
       "    </tr>\n",
       "    <tr>\n",
       "      <th>232</th>\n",
       "      <td>volkswagen</td>\n",
       "      <td>passat</td>\n",
       "      <td>2.8</td>\n",
       "      <td>1999</td>\n",
       "      <td>6</td>\n",
       "      <td>manual</td>\n",
       "      <td>f</td>\n",
       "      <td>18</td>\n",
       "      <td>26</td>\n",
       "      <td>p</td>\n",
       "      <td>midsize</td>\n",
       "    </tr>\n",
       "    <tr>\n",
       "      <th>233</th>\n",
       "      <td>volkswagen</td>\n",
       "      <td>passat</td>\n",
       "      <td>3.6</td>\n",
       "      <td>2008</td>\n",
       "      <td>6</td>\n",
       "      <td>auto</td>\n",
       "      <td>f</td>\n",
       "      <td>17</td>\n",
       "      <td>26</td>\n",
       "      <td>p</td>\n",
       "      <td>midsize</td>\n",
       "    </tr>\n",
       "  </tbody>\n",
       "</table>\n",
       "<p>234 rows × 11 columns</p>\n",
       "</div>"
      ],
      "text/plain": [
       "    manufacturer   model  displacement  year  cylinder automatic driving  mpg  \\\n",
       "0           audi      a4           1.8  1999         4      auto       f   18   \n",
       "1           audi      a4           1.8  1999         4    manual       f   21   \n",
       "2           audi      a4           2.0  2008         4    manual       f   20   \n",
       "3           audi      a4           2.0  2008         4      auto       f   21   \n",
       "4           audi      a4           2.8  1999         6      auto       f   16   \n",
       "..           ...     ...           ...   ...       ...       ...     ...  ...   \n",
       "229   volkswagen  passat           2.0  2008         4      auto       f   19   \n",
       "230   volkswagen  passat           2.0  2008         4    manual       f   21   \n",
       "231   volkswagen  passat           2.8  1999         6      auto       f   16   \n",
       "232   volkswagen  passat           2.8  1999         6    manual       f   18   \n",
       "233   volkswagen  passat           3.6  2008         6      auto       f   17   \n",
       "\n",
       "     highway_mileage fuel    class  \n",
       "0                 29    p  compact  \n",
       "1                 29    p  compact  \n",
       "2                 31    p  compact  \n",
       "3                 30    p  compact  \n",
       "4                 26    p  compact  \n",
       "..               ...  ...      ...  \n",
       "229               28    p  midsize  \n",
       "230               29    p  midsize  \n",
       "231               26    p  midsize  \n",
       "232               26    p  midsize  \n",
       "233               26    p  midsize  \n",
       "\n",
       "[234 rows x 11 columns]"
      ]
     },
     "execution_count": 52,
     "metadata": {},
     "output_type": "execute_result"
    }
   ],
   "source": [
    "my_car = pd.read_csv('mycars.csv')\n",
    "my_car"
   ]
  },
  {
   "cell_type": "code",
   "execution_count": 64,
   "id": "3c5e3716-a38a-4cfb-bfae-60a4624b40f4",
   "metadata": {},
   "outputs": [
    {
     "data": {
      "text/plain": [
       "0    f\n",
       "1    f\n",
       "2    f\n",
       "3    f\n",
       "4    f\n",
       "Name: driving, dtype: object"
      ]
     },
     "execution_count": 64,
     "metadata": {},
     "output_type": "execute_result"
    }
   ],
   "source": [
    "# 구동방식별 구분\n",
    "df = my_car['driving']\n",
    "df.head()"
   ]
  },
  {
   "cell_type": "code",
   "execution_count": 66,
   "id": "6060d7f4-b73d-4b34-8722-b9681e4a647d",
   "metadata": {},
   "outputs": [
    {
     "data": {
      "text/plain": [
       "driving\n",
       "4    103\n",
       "f    106\n",
       "r     25\n",
       "Name: count, dtype: int64"
      ]
     },
     "execution_count": 66,
     "metadata": {},
     "output_type": "execute_result"
    }
   ],
   "source": [
    "df_count = df.value_counts().sort_index()\n",
    "df_count"
   ]
  },
  {
   "cell_type": "code",
   "execution_count": 84,
   "id": "6bf1895e-c5b4-4ba1-a4ce-68d54b9b6ea9",
   "metadata": {},
   "outputs": [
    {
     "data": {
      "text/plain": [
       "driving\n",
       "4    103\n",
       "f    209\n",
       "r    234\n",
       "Name: count, dtype: int64"
      ]
     },
     "execution_count": 84,
     "metadata": {},
     "output_type": "execute_result"
    }
   ],
   "source": [
    "# 누적 집계량\n",
    "df_cumcnt = np.cumsum(df_count)\n",
    "df_cumcnt"
   ]
  },
  {
   "cell_type": "code",
   "execution_count": 76,
   "id": "a363ff81-a8e4-4a36-ad67-65437f84906e",
   "metadata": {},
   "outputs": [
    {
     "data": {
      "text/plain": [
       "driving\n",
       "4    44.02\n",
       "f    45.30\n",
       "r    10.68\n",
       "Name: count, dtype: float64"
      ]
     },
     "execution_count": 76,
     "metadata": {},
     "output_type": "execute_result"
    }
   ],
   "source": [
    "# 비율\n",
    "df_percent = df_count / sum(df_count) * 100\n",
    "df_percent_round = round(df_percent,2)\n",
    "df_percent_round"
   ]
  },
  {
   "cell_type": "code",
   "execution_count": 80,
   "id": "ecd6fc01-1c81-4fe8-ab0c-eec12fec36b3",
   "metadata": {},
   "outputs": [
    {
     "data": {
      "text/plain": [
       "driving\n",
       "4     44.02\n",
       "f     89.32\n",
       "r    100.00\n",
       "Name: count, dtype: float64"
      ]
     },
     "execution_count": 80,
     "metadata": {},
     "output_type": "execute_result"
    }
   ],
   "source": [
    "# 누적비율\n",
    "df_cumpct = np.cumsum(df_percent_round)\n",
    "df_cumpct"
   ]
  },
  {
   "cell_type": "code",
   "execution_count": 88,
   "id": "bbb54259-5195-405f-b8a7-c39b1f226ac9",
   "metadata": {},
   "outputs": [
    {
     "data": {
      "text/html": [
       "<div>\n",
       "<style scoped>\n",
       "    .dataframe tbody tr th:only-of-type {\n",
       "        vertical-align: middle;\n",
       "    }\n",
       "\n",
       "    .dataframe tbody tr th {\n",
       "        vertical-align: top;\n",
       "    }\n",
       "\n",
       "    .dataframe thead th {\n",
       "        text-align: right;\n",
       "    }\n",
       "</style>\n",
       "<table border=\"1\" class=\"dataframe\">\n",
       "  <thead>\n",
       "    <tr style=\"text-align: right;\">\n",
       "      <th>Driving</th>\n",
       "      <th>Count</th>\n",
       "      <th>CumCnt</th>\n",
       "      <th>Percent</th>\n",
       "      <th>CumPct</th>\n",
       "    </tr>\n",
       "    <tr>\n",
       "      <th>driving</th>\n",
       "      <th></th>\n",
       "      <th></th>\n",
       "      <th></th>\n",
       "      <th></th>\n",
       "    </tr>\n",
       "  </thead>\n",
       "  <tbody>\n",
       "    <tr>\n",
       "      <th>4</th>\n",
       "      <td>103</td>\n",
       "      <td>103</td>\n",
       "      <td>44.02</td>\n",
       "      <td>44.02</td>\n",
       "    </tr>\n",
       "    <tr>\n",
       "      <th>f</th>\n",
       "      <td>106</td>\n",
       "      <td>209</td>\n",
       "      <td>45.30</td>\n",
       "      <td>89.32</td>\n",
       "    </tr>\n",
       "    <tr>\n",
       "      <th>r</th>\n",
       "      <td>25</td>\n",
       "      <td>234</td>\n",
       "      <td>10.68</td>\n",
       "      <td>100.00</td>\n",
       "    </tr>\n",
       "  </tbody>\n",
       "</table>\n",
       "</div>"
      ],
      "text/plain": [
       "Driving  Count  CumCnt  Percent  CumPct\n",
       "driving                                \n",
       "4          103     103    44.02   44.02\n",
       "f          106     209    45.30   89.32\n",
       "r           25     234    10.68  100.00"
      ]
     },
     "execution_count": 88,
     "metadata": {},
     "output_type": "execute_result"
    }
   ],
   "source": [
    "df_data = pd.DataFrame({'Count' : df_count, 'CumCnt' : df_cumcnt, 'Percent':df_percent_round, 'CumPct' : df_cumpct})\n",
    "df_data.columns.name = 'Driving'\n",
    "df_data"
   ]
  },
  {
   "cell_type": "code",
   "execution_count": 90,
   "id": "26b119a4-97c0-4bea-9cbe-b6a012595705",
   "metadata": {},
   "outputs": [
    {
     "data": {
      "text/plain": [
       "0    a4\n",
       "1    a4\n",
       "2    a4\n",
       "3    a4\n",
       "4    a4\n",
       "Name: model, dtype: object"
      ]
     },
     "execution_count": 90,
     "metadata": {},
     "output_type": "execute_result"
    }
   ],
   "source": [
    "# 모델별 구분\n",
    "df = my_car['model']\n",
    "df.head()"
   ]
  },
  {
   "cell_type": "code",
   "execution_count": 92,
   "id": "f4f143a1-ee25-4b8d-ade6-85c094c099ab",
   "metadata": {},
   "outputs": [
    {
     "data": {
      "text/plain": [
       "model\n",
       "4runner 4wd                6\n",
       "a4                         7\n",
       "a4 quattro                 8\n",
       "a6 quattro                 3\n",
       "altima                     6\n",
       "c1500 suburban 2wd         5\n",
       "camry                      7\n",
       "camry solara               7\n",
       "caravan 2wd               11\n",
       "civic                      9\n",
       "corolla                    5\n",
       "corvette                   5\n",
       "dakota pickup 4wd          9\n",
       "durango 4wd                7\n",
       "expedition 2wd             3\n",
       "explorer 4wd               6\n",
       "f150 pickup 4wd            7\n",
       "forester awd               6\n",
       "grand cherokee 4wd         8\n",
       "grand prix                 5\n",
       "gti                        5\n",
       "impreza awd                8\n",
       "jetta                      9\n",
       "k1500 tahoe 4wd            4\n",
       "land cruiser wagon 4wd     2\n",
       "malibu                     5\n",
       "maxima                     3\n",
       "mountaineer 4wd            4\n",
       "mustang                    9\n",
       "navigator 2wd              3\n",
       "new beetle                 6\n",
       "passat                     7\n",
       "pathfinder 4wd             4\n",
       "ram 1500 pickup 4wd       10\n",
       "range rover                4\n",
       "sonata                     7\n",
       "tiburon                    7\n",
       "toyota tacoma 4wd          7\n",
       "Name: count, dtype: int64"
      ]
     },
     "execution_count": 92,
     "metadata": {},
     "output_type": "execute_result"
    }
   ],
   "source": [
    "df_count = df.value_counts().sort_index()\n",
    "df_count"
   ]
  },
  {
   "cell_type": "code",
   "execution_count": 95,
   "id": "e147dc39-0519-44c0-a7bf-e3a2976c24af",
   "metadata": {},
   "outputs": [
    {
     "data": {
      "text/plain": [
       "model\n",
       "4runner 4wd                 6\n",
       "a4                         13\n",
       "a4 quattro                 21\n",
       "a6 quattro                 24\n",
       "altima                     30\n",
       "c1500 suburban 2wd         35\n",
       "camry                      42\n",
       "camry solara               49\n",
       "caravan 2wd                60\n",
       "civic                      69\n",
       "corolla                    74\n",
       "corvette                   79\n",
       "dakota pickup 4wd          88\n",
       "durango 4wd                95\n",
       "expedition 2wd             98\n",
       "explorer 4wd              104\n",
       "f150 pickup 4wd           111\n",
       "forester awd              117\n",
       "grand cherokee 4wd        125\n",
       "grand prix                130\n",
       "gti                       135\n",
       "impreza awd               143\n",
       "jetta                     152\n",
       "k1500 tahoe 4wd           156\n",
       "land cruiser wagon 4wd    158\n",
       "malibu                    163\n",
       "maxima                    166\n",
       "mountaineer 4wd           170\n",
       "mustang                   179\n",
       "navigator 2wd             182\n",
       "new beetle                188\n",
       "passat                    195\n",
       "pathfinder 4wd            199\n",
       "ram 1500 pickup 4wd       209\n",
       "range rover               213\n",
       "sonata                    220\n",
       "tiburon                   227\n",
       "toyota tacoma 4wd         234\n",
       "Name: count, dtype: int64"
      ]
     },
     "execution_count": 95,
     "metadata": {},
     "output_type": "execute_result"
    }
   ],
   "source": [
    "# 누적 집계량\n",
    "df_cumcnt = np.cumsum(df_count)\n",
    "df_cumcnt"
   ]
  },
  {
   "cell_type": "code",
   "execution_count": 97,
   "id": "ba80d3db-42b6-44ae-9628-4f31753f7d08",
   "metadata": {},
   "outputs": [
    {
     "data": {
      "text/plain": [
       "model\n",
       "4runner 4wd               2.56\n",
       "a4                        2.99\n",
       "a4 quattro                3.42\n",
       "a6 quattro                1.28\n",
       "altima                    2.56\n",
       "c1500 suburban 2wd        2.14\n",
       "camry                     2.99\n",
       "camry solara              2.99\n",
       "caravan 2wd               4.70\n",
       "civic                     3.85\n",
       "corolla                   2.14\n",
       "corvette                  2.14\n",
       "dakota pickup 4wd         3.85\n",
       "durango 4wd               2.99\n",
       "expedition 2wd            1.28\n",
       "explorer 4wd              2.56\n",
       "f150 pickup 4wd           2.99\n",
       "forester awd              2.56\n",
       "grand cherokee 4wd        3.42\n",
       "grand prix                2.14\n",
       "gti                       2.14\n",
       "impreza awd               3.42\n",
       "jetta                     3.85\n",
       "k1500 tahoe 4wd           1.71\n",
       "land cruiser wagon 4wd    0.85\n",
       "malibu                    2.14\n",
       "maxima                    1.28\n",
       "mountaineer 4wd           1.71\n",
       "mustang                   3.85\n",
       "navigator 2wd             1.28\n",
       "new beetle                2.56\n",
       "passat                    2.99\n",
       "pathfinder 4wd            1.71\n",
       "ram 1500 pickup 4wd       4.27\n",
       "range rover               1.71\n",
       "sonata                    2.99\n",
       "tiburon                   2.99\n",
       "toyota tacoma 4wd         2.99\n",
       "Name: count, dtype: float64"
      ]
     },
     "execution_count": 97,
     "metadata": {},
     "output_type": "execute_result"
    }
   ],
   "source": [
    "# 비율\n",
    "df_percent = df_count / sum(df_count) * 100\n",
    "df_percent_round = round(df_percent,2)\n",
    "df_percent_round"
   ]
  },
  {
   "cell_type": "code",
   "execution_count": 99,
   "id": "adfda23a-4336-4222-a2fd-6bd4d1bdf84e",
   "metadata": {},
   "outputs": [
    {
     "data": {
      "text/plain": [
       "model\n",
       "4runner 4wd                2.56\n",
       "a4                         5.55\n",
       "a4 quattro                 8.97\n",
       "a6 quattro                10.25\n",
       "altima                    12.81\n",
       "c1500 suburban 2wd        14.95\n",
       "camry                     17.94\n",
       "camry solara              20.93\n",
       "caravan 2wd               25.63\n",
       "civic                     29.48\n",
       "corolla                   31.62\n",
       "corvette                  33.76\n",
       "dakota pickup 4wd         37.61\n",
       "durango 4wd               40.60\n",
       "expedition 2wd            41.88\n",
       "explorer 4wd              44.44\n",
       "f150 pickup 4wd           47.43\n",
       "forester awd              49.99\n",
       "grand cherokee 4wd        53.41\n",
       "grand prix                55.55\n",
       "gti                       57.69\n",
       "impreza awd               61.11\n",
       "jetta                     64.96\n",
       "k1500 tahoe 4wd           66.67\n",
       "land cruiser wagon 4wd    67.52\n",
       "malibu                    69.66\n",
       "maxima                    70.94\n",
       "mountaineer 4wd           72.65\n",
       "mustang                   76.50\n",
       "navigator 2wd             77.78\n",
       "new beetle                80.34\n",
       "passat                    83.33\n",
       "pathfinder 4wd            85.04\n",
       "ram 1500 pickup 4wd       89.31\n",
       "range rover               91.02\n",
       "sonata                    94.01\n",
       "tiburon                   97.00\n",
       "toyota tacoma 4wd         99.99\n",
       "Name: count, dtype: float64"
      ]
     },
     "execution_count": 99,
     "metadata": {},
     "output_type": "execute_result"
    }
   ],
   "source": [
    "# 누적비율\n",
    "df_cumpct = np.cumsum(df_percent_round)\n",
    "df_cumpct"
   ]
  },
  {
   "cell_type": "code",
   "execution_count": 169,
   "id": "835ede14-cac6-43cc-8c70-7d759d89fd95",
   "metadata": {
    "scrolled": true
   },
   "outputs": [
    {
     "data": {
      "text/html": [
       "<div>\n",
       "<style scoped>\n",
       "    .dataframe tbody tr th:only-of-type {\n",
       "        vertical-align: middle;\n",
       "    }\n",
       "\n",
       "    .dataframe tbody tr th {\n",
       "        vertical-align: top;\n",
       "    }\n",
       "\n",
       "    .dataframe thead th {\n",
       "        text-align: right;\n",
       "    }\n",
       "</style>\n",
       "<table border=\"1\" class=\"dataframe\">\n",
       "  <thead>\n",
       "    <tr style=\"text-align: right;\">\n",
       "      <th>Model</th>\n",
       "      <th>Count</th>\n",
       "      <th>CumCnt</th>\n",
       "      <th>Percent</th>\n",
       "      <th>CumPct</th>\n",
       "    </tr>\n",
       "    <tr>\n",
       "      <th>model</th>\n",
       "      <th></th>\n",
       "      <th></th>\n",
       "      <th></th>\n",
       "      <th></th>\n",
       "    </tr>\n",
       "  </thead>\n",
       "  <tbody>\n",
       "    <tr>\n",
       "      <th>4runner 4wd</th>\n",
       "      <td>6</td>\n",
       "      <td>6</td>\n",
       "      <td>2.56</td>\n",
       "      <td>2.56</td>\n",
       "    </tr>\n",
       "    <tr>\n",
       "      <th>a4</th>\n",
       "      <td>7</td>\n",
       "      <td>13</td>\n",
       "      <td>2.99</td>\n",
       "      <td>5.55</td>\n",
       "    </tr>\n",
       "    <tr>\n",
       "      <th>a4 quattro</th>\n",
       "      <td>8</td>\n",
       "      <td>21</td>\n",
       "      <td>3.42</td>\n",
       "      <td>8.97</td>\n",
       "    </tr>\n",
       "    <tr>\n",
       "      <th>a6 quattro</th>\n",
       "      <td>3</td>\n",
       "      <td>24</td>\n",
       "      <td>1.28</td>\n",
       "      <td>10.25</td>\n",
       "    </tr>\n",
       "    <tr>\n",
       "      <th>altima</th>\n",
       "      <td>6</td>\n",
       "      <td>30</td>\n",
       "      <td>2.56</td>\n",
       "      <td>12.81</td>\n",
       "    </tr>\n",
       "    <tr>\n",
       "      <th>c1500 suburban 2wd</th>\n",
       "      <td>5</td>\n",
       "      <td>35</td>\n",
       "      <td>2.14</td>\n",
       "      <td>14.95</td>\n",
       "    </tr>\n",
       "    <tr>\n",
       "      <th>camry</th>\n",
       "      <td>7</td>\n",
       "      <td>42</td>\n",
       "      <td>2.99</td>\n",
       "      <td>17.94</td>\n",
       "    </tr>\n",
       "    <tr>\n",
       "      <th>camry solara</th>\n",
       "      <td>7</td>\n",
       "      <td>49</td>\n",
       "      <td>2.99</td>\n",
       "      <td>20.93</td>\n",
       "    </tr>\n",
       "    <tr>\n",
       "      <th>caravan 2wd</th>\n",
       "      <td>11</td>\n",
       "      <td>60</td>\n",
       "      <td>4.70</td>\n",
       "      <td>25.63</td>\n",
       "    </tr>\n",
       "    <tr>\n",
       "      <th>civic</th>\n",
       "      <td>9</td>\n",
       "      <td>69</td>\n",
       "      <td>3.85</td>\n",
       "      <td>29.48</td>\n",
       "    </tr>\n",
       "    <tr>\n",
       "      <th>corolla</th>\n",
       "      <td>5</td>\n",
       "      <td>74</td>\n",
       "      <td>2.14</td>\n",
       "      <td>31.62</td>\n",
       "    </tr>\n",
       "    <tr>\n",
       "      <th>corvette</th>\n",
       "      <td>5</td>\n",
       "      <td>79</td>\n",
       "      <td>2.14</td>\n",
       "      <td>33.76</td>\n",
       "    </tr>\n",
       "    <tr>\n",
       "      <th>dakota pickup 4wd</th>\n",
       "      <td>9</td>\n",
       "      <td>88</td>\n",
       "      <td>3.85</td>\n",
       "      <td>37.61</td>\n",
       "    </tr>\n",
       "    <tr>\n",
       "      <th>durango 4wd</th>\n",
       "      <td>7</td>\n",
       "      <td>95</td>\n",
       "      <td>2.99</td>\n",
       "      <td>40.60</td>\n",
       "    </tr>\n",
       "    <tr>\n",
       "      <th>expedition 2wd</th>\n",
       "      <td>3</td>\n",
       "      <td>98</td>\n",
       "      <td>1.28</td>\n",
       "      <td>41.88</td>\n",
       "    </tr>\n",
       "    <tr>\n",
       "      <th>explorer 4wd</th>\n",
       "      <td>6</td>\n",
       "      <td>104</td>\n",
       "      <td>2.56</td>\n",
       "      <td>44.44</td>\n",
       "    </tr>\n",
       "    <tr>\n",
       "      <th>f150 pickup 4wd</th>\n",
       "      <td>7</td>\n",
       "      <td>111</td>\n",
       "      <td>2.99</td>\n",
       "      <td>47.43</td>\n",
       "    </tr>\n",
       "    <tr>\n",
       "      <th>forester awd</th>\n",
       "      <td>6</td>\n",
       "      <td>117</td>\n",
       "      <td>2.56</td>\n",
       "      <td>49.99</td>\n",
       "    </tr>\n",
       "    <tr>\n",
       "      <th>grand cherokee 4wd</th>\n",
       "      <td>8</td>\n",
       "      <td>125</td>\n",
       "      <td>3.42</td>\n",
       "      <td>53.41</td>\n",
       "    </tr>\n",
       "    <tr>\n",
       "      <th>grand prix</th>\n",
       "      <td>5</td>\n",
       "      <td>130</td>\n",
       "      <td>2.14</td>\n",
       "      <td>55.55</td>\n",
       "    </tr>\n",
       "    <tr>\n",
       "      <th>gti</th>\n",
       "      <td>5</td>\n",
       "      <td>135</td>\n",
       "      <td>2.14</td>\n",
       "      <td>57.69</td>\n",
       "    </tr>\n",
       "    <tr>\n",
       "      <th>impreza awd</th>\n",
       "      <td>8</td>\n",
       "      <td>143</td>\n",
       "      <td>3.42</td>\n",
       "      <td>61.11</td>\n",
       "    </tr>\n",
       "    <tr>\n",
       "      <th>jetta</th>\n",
       "      <td>9</td>\n",
       "      <td>152</td>\n",
       "      <td>3.85</td>\n",
       "      <td>64.96</td>\n",
       "    </tr>\n",
       "    <tr>\n",
       "      <th>k1500 tahoe 4wd</th>\n",
       "      <td>4</td>\n",
       "      <td>156</td>\n",
       "      <td>1.71</td>\n",
       "      <td>66.67</td>\n",
       "    </tr>\n",
       "    <tr>\n",
       "      <th>land cruiser wagon 4wd</th>\n",
       "      <td>2</td>\n",
       "      <td>158</td>\n",
       "      <td>0.85</td>\n",
       "      <td>67.52</td>\n",
       "    </tr>\n",
       "    <tr>\n",
       "      <th>malibu</th>\n",
       "      <td>5</td>\n",
       "      <td>163</td>\n",
       "      <td>2.14</td>\n",
       "      <td>69.66</td>\n",
       "    </tr>\n",
       "    <tr>\n",
       "      <th>maxima</th>\n",
       "      <td>3</td>\n",
       "      <td>166</td>\n",
       "      <td>1.28</td>\n",
       "      <td>70.94</td>\n",
       "    </tr>\n",
       "    <tr>\n",
       "      <th>mountaineer 4wd</th>\n",
       "      <td>4</td>\n",
       "      <td>170</td>\n",
       "      <td>1.71</td>\n",
       "      <td>72.65</td>\n",
       "    </tr>\n",
       "    <tr>\n",
       "      <th>mustang</th>\n",
       "      <td>9</td>\n",
       "      <td>179</td>\n",
       "      <td>3.85</td>\n",
       "      <td>76.50</td>\n",
       "    </tr>\n",
       "    <tr>\n",
       "      <th>navigator 2wd</th>\n",
       "      <td>3</td>\n",
       "      <td>182</td>\n",
       "      <td>1.28</td>\n",
       "      <td>77.78</td>\n",
       "    </tr>\n",
       "    <tr>\n",
       "      <th>new beetle</th>\n",
       "      <td>6</td>\n",
       "      <td>188</td>\n",
       "      <td>2.56</td>\n",
       "      <td>80.34</td>\n",
       "    </tr>\n",
       "    <tr>\n",
       "      <th>passat</th>\n",
       "      <td>7</td>\n",
       "      <td>195</td>\n",
       "      <td>2.99</td>\n",
       "      <td>83.33</td>\n",
       "    </tr>\n",
       "    <tr>\n",
       "      <th>pathfinder 4wd</th>\n",
       "      <td>4</td>\n",
       "      <td>199</td>\n",
       "      <td>1.71</td>\n",
       "      <td>85.04</td>\n",
       "    </tr>\n",
       "    <tr>\n",
       "      <th>ram 1500 pickup 4wd</th>\n",
       "      <td>10</td>\n",
       "      <td>209</td>\n",
       "      <td>4.27</td>\n",
       "      <td>89.31</td>\n",
       "    </tr>\n",
       "    <tr>\n",
       "      <th>range rover</th>\n",
       "      <td>4</td>\n",
       "      <td>213</td>\n",
       "      <td>1.71</td>\n",
       "      <td>91.02</td>\n",
       "    </tr>\n",
       "    <tr>\n",
       "      <th>sonata</th>\n",
       "      <td>7</td>\n",
       "      <td>220</td>\n",
       "      <td>2.99</td>\n",
       "      <td>94.01</td>\n",
       "    </tr>\n",
       "    <tr>\n",
       "      <th>tiburon</th>\n",
       "      <td>7</td>\n",
       "      <td>227</td>\n",
       "      <td>2.99</td>\n",
       "      <td>97.00</td>\n",
       "    </tr>\n",
       "    <tr>\n",
       "      <th>toyota tacoma 4wd</th>\n",
       "      <td>7</td>\n",
       "      <td>234</td>\n",
       "      <td>2.99</td>\n",
       "      <td>99.99</td>\n",
       "    </tr>\n",
       "  </tbody>\n",
       "</table>\n",
       "</div>"
      ],
      "text/plain": [
       "Model                   Count  CumCnt  Percent  CumPct\n",
       "model                                                 \n",
       "4runner 4wd                 6       6     2.56    2.56\n",
       "a4                          7      13     2.99    5.55\n",
       "a4 quattro                  8      21     3.42    8.97\n",
       "a6 quattro                  3      24     1.28   10.25\n",
       "altima                      6      30     2.56   12.81\n",
       "c1500 suburban 2wd          5      35     2.14   14.95\n",
       "camry                       7      42     2.99   17.94\n",
       "camry solara                7      49     2.99   20.93\n",
       "caravan 2wd                11      60     4.70   25.63\n",
       "civic                       9      69     3.85   29.48\n",
       "corolla                     5      74     2.14   31.62\n",
       "corvette                    5      79     2.14   33.76\n",
       "dakota pickup 4wd           9      88     3.85   37.61\n",
       "durango 4wd                 7      95     2.99   40.60\n",
       "expedition 2wd              3      98     1.28   41.88\n",
       "explorer 4wd                6     104     2.56   44.44\n",
       "f150 pickup 4wd             7     111     2.99   47.43\n",
       "forester awd                6     117     2.56   49.99\n",
       "grand cherokee 4wd          8     125     3.42   53.41\n",
       "grand prix                  5     130     2.14   55.55\n",
       "gti                         5     135     2.14   57.69\n",
       "impreza awd                 8     143     3.42   61.11\n",
       "jetta                       9     152     3.85   64.96\n",
       "k1500 tahoe 4wd             4     156     1.71   66.67\n",
       "land cruiser wagon 4wd      2     158     0.85   67.52\n",
       "malibu                      5     163     2.14   69.66\n",
       "maxima                      3     166     1.28   70.94\n",
       "mountaineer 4wd             4     170     1.71   72.65\n",
       "mustang                     9     179     3.85   76.50\n",
       "navigator 2wd               3     182     1.28   77.78\n",
       "new beetle                  6     188     2.56   80.34\n",
       "passat                      7     195     2.99   83.33\n",
       "pathfinder 4wd              4     199     1.71   85.04\n",
       "ram 1500 pickup 4wd        10     209     4.27   89.31\n",
       "range rover                 4     213     1.71   91.02\n",
       "sonata                      7     220     2.99   94.01\n",
       "tiburon                     7     227     2.99   97.00\n",
       "toyota tacoma 4wd           7     234     2.99   99.99"
      ]
     },
     "execution_count": 169,
     "metadata": {},
     "output_type": "execute_result"
    }
   ],
   "source": [
    "df_data = pd.DataFrame({'Count' : df_count, 'CumCnt' : df_cumcnt, 'Percent':df_percent_round, 'CumPct' : df_cumpct})\n",
    "df_data.columns.name = 'Model'\n",
    "df_data"
   ]
  },
  {
   "cell_type": "markdown",
   "id": "ce7bdf65-7817-4dd0-b4d1-7a2d1ca3a125",
   "metadata": {},
   "source": [
    "# 정규분포"
   ]
  },
  {
   "cell_type": "code",
   "execution_count": 113,
   "id": "67cec62e-bd27-4ef9-aedc-4ff08e478370",
   "metadata": {},
   "outputs": [
    {
     "name": "stdout",
     "output_type": "stream",
     "text": [
      "0.15865525393145707\n"
     ]
    }
   ],
   "source": [
    "# 내키가 180 cm이고 평균은 175cm 표준편차가 5일때의 정규분포 안의 내 키의 범위\n",
    "mu = 175\n",
    "sigma = 5\n",
    "X = 180\n",
    "prob = stats.norm.cdf(X,mu,sigma)\n",
    "print(1-prob)"
   ]
  },
  {
   "cell_type": "code",
   "execution_count": 120,
   "id": "bbeae3bb-dd63-4b36-9a7a-e66d1182c21e",
   "metadata": {},
   "outputs": [
    {
     "name": "stdout",
     "output_type": "stream",
     "text": [
      "12KM 이상 15KM이하를 달릴 확률은 0.341345에 해당함\n"
     ]
    }
   ],
   "source": [
    "# 어떤 자동차 1리터당 주행 거리가 평균 12KM, 표준편차가 3KM인 정규분포를 따를때\n",
    "# 1L를 가지고 12KM이상 15KM이하를 달릴 확률\n",
    "mu = 12\n",
    "sigma = 3 \n",
    "X1 = 15\n",
    "prob1 = stats.norm.cdf(X1,mu,sigma)\n",
    "print(\"{0}KM 이상 {1}KM이하를 달릴 확률은 {2:3f}에 해당함\".format(mu,X1,(prob1-0.5)))"
   ]
  },
  {
   "cell_type": "code",
   "execution_count": 126,
   "id": "3c2eee04-76e5-4324-9c9c-b35f33d27758",
   "metadata": {},
   "outputs": [
    {
     "name": "stdout",
     "output_type": "stream",
     "text": [
      "9KM 이상 15KM이하를 달릴 확률은 0.477250에 해당함\n"
     ]
    }
   ],
   "source": [
    "# 어떤 자동차 1리터당 주행 거리가 평균 12KM, 표준편차가 3KM인 정규분포를 따를때\n",
    "# 1L를 가지고 9KM이상 15KM이하를 달릴 확률\n",
    "mu = 9\n",
    "sigma = 3 \n",
    "X1 = 15\n",
    "prob1 = stats.norm.cdf(X1,mu,sigma)\n",
    "print(\"{0}KM 이상 {1}KM이하를 달릴 확률은 {2:3f}에 해당함\".format(mu,X1,(prob1-0.5)))"
   ]
  },
  {
   "cell_type": "code",
   "execution_count": 146,
   "id": "f05cec87-a7e9-4b9b-837d-5a0ee345ddf3",
   "metadata": {},
   "outputs": [
    {
     "name": "stdout",
     "output_type": "stream",
     "text": [
      "12KM 이상 15KM이하를 달릴 확률은 0.341345에 해당함\n"
     ]
    }
   ],
   "source": [
    "# 어떤 자동차 1리터당 주행 거리가 평균 12KM, 표준편차가 3KM인 정규분포를 따를때\n",
    "# 1L를 가지고 15KM이상을 달릴 확률\n",
    "mu = 12\n",
    "sigma = 3 \n",
    "X1 = 15\n",
    "prob1 = stats.norm.cdf(X1,mu,sigma)\n",
    "print(\"{0}KM 이상 {1}KM이하를 달릴 확률은 {2:3f}에 해당함\".format(mu,X1,(prob1-0.5)))"
   ]
  },
  {
   "cell_type": "code",
   "execution_count": 164,
   "id": "f954733c-aa09-4555-8c17-5624a52b6707",
   "metadata": {},
   "outputs": [
    {
     "name": "stdout",
     "output_type": "stream",
     "text": [
      "1L로 15KM 이상 주행할 확률은 0.158655입니다.\n"
     ]
    }
   ],
   "source": [
    "# 주어진 값\n",
    "mu = 12  # 평균\n",
    "sigma = 3  # 표준편차\n",
    "X = 15  # 우리가 구하고자 하는 값\n",
    "\n",
    "# Z값 구하기\n",
    "Z = (X - mu) / sigma\n",
    "\n",
    "# CDF를 사용하여 누적 분포 함수 값을 구하고, 1에서 빼서 원하는 확률을 구합니다.\n",
    "prob = 1 - stats.norm.cdf(Z)\n",
    "\n",
    "print(f\"1L로 15KM 이상 주행할 확률은 {prob:.6f}입니다.\")"
   ]
  },
  {
   "cell_type": "markdown",
   "id": "eb3e8c3c-5397-40d7-9aa8-f8a5cd898822",
   "metadata": {},
   "source": [
    "## t - 분포"
   ]
  },
  {
   "cell_type": "code",
   "execution_count": 158,
   "id": "1e5085fe-df7a-41af-af79-4d2e3cee2137",
   "metadata": {},
   "outputs": [
    {
     "name": "stdout",
     "output_type": "stream",
     "text": [
      "P(T =<t): 0.907\n"
     ]
    }
   ],
   "source": [
    "# 확률변수 t는 자유도가 5인 t-분포를 따른다 t 값이 1.53일때 P(T =<t)을 계산하시오\n",
    "t = 1.53\n",
    "df = 5\n",
    "prob = stats.t.cdf(t,df)\n",
    "prob\n",
    "print(\"P(T=<t): {:.3f}\".format(prob))"
   ]
  },
  {
   "cell_type": "code",
   "execution_count": 162,
   "id": "ac7644f8-d4ab-4161-a960-d893b0e40333",
   "metadata": {},
   "outputs": [
    {
     "name": "stdout",
     "output_type": "stream",
     "text": [
      "P(T=<t): 0.976\n"
     ]
    }
   ],
   "source": [
    "# 확률변수 t는 자유도가 100인 t-분포를 따른다 t 값이 2.0일때 P(T =<t)을 계산하시오\n",
    "t = 2.0\n",
    "df = 100\n",
    "prob = stats.t.cdf(t,df)\n",
    "print(\"P(T=<t): {:.3f}\".format(prob))"
   ]
  },
  {
   "cell_type": "markdown",
   "id": "b461e26d-7f8f-40c7-b664-f4dcfc2be34b",
   "metadata": {},
   "source": [
    "# Chi2 검정"
   ]
  },
  {
   "cell_type": "code",
   "execution_count": 175,
   "id": "d29d6ac1-ae4d-4491-820a-f5fb10bd7da2",
   "metadata": {},
   "outputs": [
    {
     "data": {
      "text/plain": [
       "0.00022625367617675488"
      ]
     },
     "execution_count": 175,
     "metadata": {},
     "output_type": "execute_result"
    }
   ],
   "source": [
    "# 확률변수 x^는 자유도가 30인 x^ 분포를 따른다. x^이 10일때 P(X<=x^)을 계산하시오\n",
    "chisq = 10\n",
    "df = 30\n",
    "prob = stats.chi2.cdf(chisq,df)\n",
    "prob"
   ]
  },
  {
   "cell_type": "code",
   "execution_count": 177,
   "id": "f8260e44-a102-4c79-8394-2cc98d748f24",
   "metadata": {},
   "outputs": [
    {
     "data": {
      "text/plain": [
       "0.9997886214965332"
      ]
     },
     "execution_count": 177,
     "metadata": {},
     "output_type": "execute_result"
    }
   ],
   "source": [
    "# 확률변수 x^는 자유도가 8인 x^ 분포를 따른다. x^이 30일때 P(X<=x^)을 계산하시오\n",
    "chisq = 30\n",
    "df = 8\n",
    "prob = stats.chi2.cdf(chisq,df)\n",
    "prob"
   ]
  },
  {
   "cell_type": "markdown",
   "id": "c88ed4e1-c8ea-4961-8bd0-dc8865973bd3",
   "metadata": {},
   "source": [
    "# F 분포"
   ]
  },
  {
   "cell_type": "code",
   "execution_count": 180,
   "id": "3d4205b6-0302-4e41-bda7-282586b0671c",
   "metadata": {},
   "outputs": [
    {
     "data": {
      "text/plain": [
       "0.9044711863270478"
      ]
     },
     "execution_count": 180,
     "metadata": {},
     "output_type": "execute_result"
    }
   ],
   "source": [
    "# 확률변수 F는 각각 자유도가 15, 15인 F-분포를 따른다\n",
    "# F값이 2.0일때 P(X<=F)을 계산하시오\n",
    "f = 2.0\n",
    "dfnum = 15\n",
    "dfden = 15\n",
    "prob = stats.f.cdf(x=f, dfn = dfnum, dfd = dfden)\n",
    "prob"
   ]
  },
  {
   "cell_type": "code",
   "execution_count": 182,
   "id": "b7908340-b84c-4418-bc1c-24ecdfbd3c52",
   "metadata": {},
   "outputs": [
    {
     "data": {
      "text/plain": [
       "0.8495702459436559"
      ]
     },
     "execution_count": 182,
     "metadata": {},
     "output_type": "execute_result"
    }
   ],
   "source": [
    "# 확률변수 F는 각각 자유도가 10, 100인 F-분포를 따른다\n",
    "# F값이 1.5일때 P(X<=F)을 계산하시오\n",
    "f = 1.5\n",
    "dfnum = 10\n",
    "dfden = 100\n",
    "prob = stats.f.cdf(x=f, dfn = dfnum, dfd = dfden)\n",
    "prob"
   ]
  },
  {
   "cell_type": "markdown",
   "id": "96f86402-671b-4b05-9996-34185d7528d7",
   "metadata": {},
   "source": [
    "# 이항분포"
   ]
  },
  {
   "cell_type": "code",
   "execution_count": 189,
   "id": "195bb4cd-c6dd-4ebd-99ba-ef3000aa6cbd",
   "metadata": {},
   "outputs": [
    {
     "name": "stdout",
     "output_type": "stream",
     "text": [
      "P(X=0) = 0.216\n",
      "P(X=1) = 0.432\n",
      "P(X=2) = 0.288\n",
      "P(X=3) = 0.064\n"
     ]
    }
   ],
   "source": [
    "# 도장공정에서 불량률이 40% 3대의 차량을 임의로 선택했을때 불량대수가 각각 0,1,2,3 대가 나올 확률\n",
    "n = 3\n",
    "for i in range(n+1):\n",
    "    prob = stats.binom.pmf(k = i, n = n, p = 0.4)\n",
    "    print(\"P(X={0}) = {1:.3f}\".format(i,prob))"
   ]
  },
  {
   "cell_type": "code",
   "execution_count": 191,
   "id": "43c69aaf-6d79-4f31-8912-c2c2b5be8cea",
   "metadata": {},
   "outputs": [
    {
     "name": "stdout",
     "output_type": "stream",
     "text": [
      "P(X=0) = 0.168\n",
      "P(X=1) = 0.360\n",
      "P(X=2) = 0.309\n",
      "P(X=3) = 0.132\n",
      "P(X=4) = 0.028\n",
      "P(X=5) = 0.002\n"
     ]
    }
   ],
   "source": [
    "# 도장공정에서 불량률이 30% 5대의 차량을 임의로 선택했을때 불량대수가 각각 0,1,2,3,4,5 대가 나올 확률\n",
    "n = 5\n",
    "for i in range(n+1):\n",
    "    prob = stats.binom.pmf(k = i, n = n, p = 0.3) ;                                               \n",
    "    print(\"P(X={0}) = {1:.3f}\".format(i,prob))"
   ]
  },
  {
   "cell_type": "markdown",
   "id": "80e8fd30-4d72-4f66-a8d8-63737af23f15",
   "metadata": {},
   "source": [
    "# 주청_구간추정_모표준편차를 알때"
   ]
  },
  {
   "cell_type": "code",
   "execution_count": 195,
   "id": "bf83cbf5-8f87-459b-9245-e7538f566dc2",
   "metadata": {},
   "outputs": [
    {
     "data": {
      "text/html": [
       "<div>\n",
       "<style scoped>\n",
       "    .dataframe tbody tr th:only-of-type {\n",
       "        vertical-align: middle;\n",
       "    }\n",
       "\n",
       "    .dataframe tbody tr th {\n",
       "        vertical-align: top;\n",
       "    }\n",
       "\n",
       "    .dataframe thead th {\n",
       "        text-align: right;\n",
       "    }\n",
       "</style>\n",
       "<table border=\"1\" class=\"dataframe\">\n",
       "  <thead>\n",
       "    <tr style=\"text-align: right;\">\n",
       "      <th></th>\n",
       "      <th>sample</th>\n",
       "    </tr>\n",
       "  </thead>\n",
       "  <tbody>\n",
       "    <tr>\n",
       "      <th>0</th>\n",
       "      <td>3.6</td>\n",
       "    </tr>\n",
       "    <tr>\n",
       "      <th>1</th>\n",
       "      <td>2.9</td>\n",
       "    </tr>\n",
       "    <tr>\n",
       "      <th>2</th>\n",
       "      <td>2.8</td>\n",
       "    </tr>\n",
       "    <tr>\n",
       "      <th>3</th>\n",
       "      <td>2.6</td>\n",
       "    </tr>\n",
       "    <tr>\n",
       "      <th>4</th>\n",
       "      <td>3.4</td>\n",
       "    </tr>\n",
       "  </tbody>\n",
       "</table>\n",
       "</div>"
      ],
      "text/plain": [
       "   sample\n",
       "0     3.6\n",
       "1     2.9\n",
       "2     2.8\n",
       "3     2.6\n",
       "4     3.4"
      ]
     },
     "execution_count": 195,
     "metadata": {},
     "output_type": "execute_result"
    }
   ],
   "source": [
    "# 새로운 품종의 배추 40통을 랜덤추출하여 무게를 측정한 결과가 있다. (모 표준표차는 0.397)\n",
    "# 이 자료로 부터 신품종 배추의 평균 무게에 대한 95%의 신뢰구간\n",
    "df = pd.DataFrame({'sample' : [3.6,2.9,2.8,2.6,3.4,3.2,2.2,2.6,2.6,2.4,2.4,2.6,3.4,2.4,2.1,2.6,3.0,2.4,2.7,2.4,2.6,2.9,2.9,2.0,2.7,2.2,2.8,2.7,1.8,2.5,3.0,3.2,2.8,2.6,3.2,3.1,2.9,2.7,2.7,2.2]})\n",
    "df.head()"
   ]
  },
  {
   "cell_type": "code",
   "execution_count": 199,
   "id": "a96fb788-74a8-40a4-a59b-dcf5cb11e2ec",
   "metadata": {},
   "outputs": [
    {
     "name": "stdout",
     "output_type": "stream",
     "text": [
      "신뢰구간 : (2.57,2.82)\n"
     ]
    }
   ],
   "source": [
    "# 정규분포구간 추정 함수 실행\n",
    "lower,upper = stats.norm.interval(0.95 ,loc = np.mean(df),scale = 0.397/np.sqrt(40))\n",
    "print('신뢰구간 : ({0},{1})'.format(lower.round(2), upper.round(2)))"
   ]
  },
  {
   "cell_type": "code",
   "execution_count": 201,
   "id": "fcede569-f121-4628-acfb-45efc55d3ceb",
   "metadata": {},
   "outputs": [
    {
     "data": {
      "text/html": [
       "<div>\n",
       "<style scoped>\n",
       "    .dataframe tbody tr th:only-of-type {\n",
       "        vertical-align: middle;\n",
       "    }\n",
       "\n",
       "    .dataframe tbody tr th {\n",
       "        vertical-align: top;\n",
       "    }\n",
       "\n",
       "    .dataframe thead th {\n",
       "        text-align: right;\n",
       "    }\n",
       "</style>\n",
       "<table border=\"1\" class=\"dataframe\">\n",
       "  <thead>\n",
       "    <tr style=\"text-align: right;\">\n",
       "      <th></th>\n",
       "      <th>sample</th>\n",
       "    </tr>\n",
       "  </thead>\n",
       "  <tbody>\n",
       "    <tr>\n",
       "      <th>0</th>\n",
       "      <td>18</td>\n",
       "    </tr>\n",
       "    <tr>\n",
       "      <th>1</th>\n",
       "      <td>18</td>\n",
       "    </tr>\n",
       "    <tr>\n",
       "      <th>2</th>\n",
       "      <td>20</td>\n",
       "    </tr>\n",
       "    <tr>\n",
       "      <th>3</th>\n",
       "      <td>21</td>\n",
       "    </tr>\n",
       "    <tr>\n",
       "      <th>4</th>\n",
       "      <td>20</td>\n",
       "    </tr>\n",
       "  </tbody>\n",
       "</table>\n",
       "</div>"
      ],
      "text/plain": [
       "   sample\n",
       "0      18\n",
       "1      18\n",
       "2      20\n",
       "3      21\n",
       "4      20"
      ]
     },
     "execution_count": 201,
     "metadata": {},
     "output_type": "execute_result"
    }
   ],
   "source": [
    "# 새로운 품종의 감자 20박스를 랜덤추출하여 무게를 측정한 결과가 있다. (모 표준표차는 3.8)\n",
    "# 이 자료로 부터 신품종 감자 상자 무게에 대한 95%의 신뢰구간\n",
    "df = pd.DataFrame({'sample' : [18,18,20,21,20,23,19,18,17,21,22,20,20,21,20,19,19,18,17,19]})\n",
    "df.head()"
   ]
  },
  {
   "cell_type": "code",
   "execution_count": 203,
   "id": "3cc86e14-ecb5-4683-86af-341865124e87",
   "metadata": {},
   "outputs": [
    {
     "name": "stdout",
     "output_type": "stream",
     "text": [
      "신뢰구간 : (18.32,20.68)\n"
     ]
    }
   ],
   "source": [
    "lower,upper = stats.norm.interval(0.95, loc = np.mean(df),scale = 3.8/np.sqrt(40))\n",
    "print('신뢰구간 : ({0},{1})'.format(lower.round(2), upper.round(2)))"
   ]
  },
  {
   "cell_type": "markdown",
   "id": "d37b16cf-f76a-4439-81e1-60437d35a536",
   "metadata": {},
   "source": [
    "# 주청_구간추정_모표준편차를 모를때"
   ]
  },
  {
   "cell_type": "code",
   "execution_count": 215,
   "id": "bcb33bad-b701-43dd-9b7a-c8728ac04d62",
   "metadata": {},
   "outputs": [
    {
     "name": "stdout",
     "output_type": "stream",
     "text": [
      "신뢰구간 : ([54.39],[55.33])\n"
     ]
    }
   ],
   "source": [
    "# 새로 개발한 강종의 평균 인장강도를 55kg/mm^로 기대중 이를위해 임의로 선정한 20개의 코일 대상으로 인장강도 추출\n",
    "# 표본평균은 54.860kg/mm^ 표본표준편차는 1.0081kg/mm^\n",
    "# 모평균값의 95% 신뢰구간 추출\n",
    "df = pd.DataFrame({'sample':[54.1,53.3,56.1,55.7,54.0,54.1,54.5,57.1,55.2,53.8,54.1,54.1,56.1,55.0,55.9,56.0,54.9,54.3,53.9,55.0]})\n",
    "lower, upper = stats.t.interval(0.95, len(df)-1, loc = np.mean(df), scale = stats.sem(df))\n",
    "print('신뢰구간 : ({0},{1})'.format(lower.round(2), upper.round(2)))\n",
    "# led(df)-1 : 자유도 / np.mean(df) : 평균 / sem(df) : standard error of mean"
   ]
  },
  {
   "cell_type": "code",
   "execution_count": 217,
   "id": "90789143-973e-4973-9e52-fafc81ee56a9",
   "metadata": {},
   "outputs": [
    {
     "name": "stdout",
     "output_type": "stream",
     "text": [
      "신뢰구간 : ([70.6],[72.4])\n"
     ]
    }
   ],
   "source": [
    "# 새로 개발한 강종의 평균 인장강도를 70kg/mm^로 기대중 이를위해 임의로 선정한 20개의 코일 대상으로 인장강도 추출\n",
    "# 표본평균은 71.50kg/mm^ 표본표준편차는 1.933kg/mm^\n",
    "# 모평균값의 95% 신뢰구간 추출\n",
    "df = pd.DataFrame({'sample':[73,71,74,69,70,73,70,68,75,72,70,72,73,70,70,72,71,70,75,72]})\n",
    "lower, upper = stats.t.interval(0.95, len(df)-1, loc = np.mean(df), scale = stats.sem(df))\n",
    "print('신뢰구간 : ({0},{1})'.format(lower.round(2), upper.round(2)))"
   ]
  },
  {
   "cell_type": "markdown",
   "id": "8ea9c2d2-766d-4f8c-a710-3897f7941f6f",
   "metadata": {},
   "source": [
    "# 정규성 검정"
   ]
  },
  {
   "cell_type": "code",
   "execution_count": 220,
   "id": "21023f65-f252-4c50-9f1e-b574454e0506",
   "metadata": {},
   "outputs": [
    {
     "data": {
      "text/plain": [
       "(0.9788166284561157, 0.1074606254696846)"
      ]
     },
     "execution_count": 220,
     "metadata": {},
     "output_type": "execute_result"
    }
   ],
   "source": [
    "df = pd.read_csv('camshaft.csv')\n",
    "df.head()\n",
    "\n",
    "# 정규성 검정 :shapiro wilk test\n",
    "statistic, p = stats.shapiro(df['Supp1'])\n",
    "statistic,p"
   ]
  },
  {
   "cell_type": "code",
   "execution_count": 222,
   "id": "e80b1170-ea75-4444-abdb-ca4a09d0173d",
   "metadata": {},
   "outputs": [
    {
     "name": "stdout",
     "output_type": "stream",
     "text": [
      "Shapiro-Wilk Test : statistic = 0.9788166284561157, p-value=0.1074606254696846\n"
     ]
    }
   ],
   "source": [
    "print('Shapiro-Wilk Test : statistic = {}, p-value={}'.format(statistic,p))"
   ]
  },
  {
   "cell_type": "code",
   "execution_count": 224,
   "id": "93c60507-6cbc-4305-87df-c868d7dd2b5a",
   "metadata": {},
   "outputs": [],
   "source": [
    "# 결과 p-value가 0.05보다 크므로 정규분포를 따른다 할 수 있다."
   ]
  },
  {
   "cell_type": "code",
   "execution_count": 232,
   "id": "df01e893-8cf1-4fca-96ff-817268c8bcba",
   "metadata": {},
   "outputs": [
    {
     "data": {
      "text/plain": [
       "(0.986788809299469, 0.42358332872390747)"
      ]
     },
     "execution_count": 232,
     "metadata": {},
     "output_type": "execute_result"
    }
   ],
   "source": [
    "df2 = pd.read_csv('camshaft.csv')\n",
    "\n",
    "# 정규성 검정 :shapiro wilk test\n",
    "statistic2, p2 = stats.shapiro(df2['Supp2'])\n",
    "statistic2,p2"
   ]
  },
  {
   "cell_type": "code",
   "execution_count": 234,
   "id": "41572760-7fbc-4244-96b4-160ab6e9b50e",
   "metadata": {},
   "outputs": [
    {
     "name": "stdout",
     "output_type": "stream",
     "text": [
      "Shapiro-Wilk Test : statistic = 0.986788809299469, p-value=0.42358332872390747\n"
     ]
    }
   ],
   "source": [
    "print('Shapiro-Wilk Test : statistic = {}, p-value={}'.format(statistic2,p2))"
   ]
  },
  {
   "cell_type": "code",
   "execution_count": 236,
   "id": "0917318c-f8c1-4113-8ef0-6a0be15dc3b1",
   "metadata": {},
   "outputs": [],
   "source": [
    "# 결과 p-value가 0.05보다 크므로 정규분포를 따른다 할 수 있다."
   ]
  },
  {
   "cell_type": "code",
   "execution_count": 240,
   "id": "265d60b9-56bd-4934-8279-5d693b368965",
   "metadata": {},
   "outputs": [
    {
     "data": {
      "text/html": [
       "<div>\n",
       "<style scoped>\n",
       "    .dataframe tbody tr th:only-of-type {\n",
       "        vertical-align: middle;\n",
       "    }\n",
       "\n",
       "    .dataframe tbody tr th {\n",
       "        vertical-align: top;\n",
       "    }\n",
       "\n",
       "    .dataframe thead th {\n",
       "        text-align: right;\n",
       "    }\n",
       "</style>\n",
       "<table border=\"1\" class=\"dataframe\">\n",
       "  <thead>\n",
       "    <tr style=\"text-align: right;\">\n",
       "      <th></th>\n",
       "      <th>Mat_A</th>\n",
       "      <th>Mat_B</th>\n",
       "      <th>Total</th>\n",
       "      <th>Sub</th>\n",
       "    </tr>\n",
       "  </thead>\n",
       "  <tbody>\n",
       "    <tr>\n",
       "      <th>0</th>\n",
       "      <td>73.4</td>\n",
       "      <td>68.7</td>\n",
       "      <td>73.4</td>\n",
       "      <td>1</td>\n",
       "    </tr>\n",
       "    <tr>\n",
       "      <th>1</th>\n",
       "      <td>77.0</td>\n",
       "      <td>71.4</td>\n",
       "      <td>77.0</td>\n",
       "      <td>1</td>\n",
       "    </tr>\n",
       "    <tr>\n",
       "      <th>2</th>\n",
       "      <td>73.7</td>\n",
       "      <td>69.8</td>\n",
       "      <td>73.7</td>\n",
       "      <td>1</td>\n",
       "    </tr>\n",
       "    <tr>\n",
       "      <th>3</th>\n",
       "      <td>73.3</td>\n",
       "      <td>75.3</td>\n",
       "      <td>73.3</td>\n",
       "      <td>1</td>\n",
       "    </tr>\n",
       "    <tr>\n",
       "      <th>4</th>\n",
       "      <td>73.1</td>\n",
       "      <td>71.3</td>\n",
       "      <td>73.1</td>\n",
       "      <td>1</td>\n",
       "    </tr>\n",
       "  </tbody>\n",
       "</table>\n",
       "</div>"
      ],
      "text/plain": [
       "   Mat_A  Mat_B  Total  Sub\n",
       "0   73.4   68.7   73.4    1\n",
       "1   77.0   71.4   77.0    1\n",
       "2   73.7   69.8   73.7    1\n",
       "3   73.3   75.3   73.3    1\n",
       "4   73.1   71.3   73.1    1"
      ]
     },
     "execution_count": 240,
     "metadata": {},
     "output_type": "execute_result"
    }
   ],
   "source": [
    "# 변수, Mat_A와 Mat_B에 대해 각각 정규성을 검정한다\n",
    "df = pd.read_csv('2sample_t_test.csv')\n",
    "df2 = df.dropna()\n",
    "df2.head()"
   ]
  },
  {
   "cell_type": "code",
   "execution_count": 256,
   "id": "111f5f8b-2f4c-44be-9d5b-d306c78eb21f",
   "metadata": {},
   "outputs": [
    {
     "data": {
      "text/plain": [
       "(0.906264066696167, 0.2563020884990692)"
      ]
     },
     "execution_count": 256,
     "metadata": {},
     "output_type": "execute_result"
    }
   ],
   "source": [
    "statistic, p = stats.shapiro(df2['Mat_A'])\n",
    "statistic,p"
   ]
  },
  {
   "cell_type": "code",
   "execution_count": 258,
   "id": "3d525a79-c596-49e8-90fa-aa2b3fbc9433",
   "metadata": {},
   "outputs": [
    {
     "name": "stdout",
     "output_type": "stream",
     "text": [
      "Shapiro-Wilk Test : statistic = 0.906264066696167, p-value=0.2563020884990692\n"
     ]
    }
   ],
   "source": [
    "print('Shapiro-Wilk Test : statistic = {}, p-value={}'.format(statistic,p))"
   ]
  },
  {
   "cell_type": "code",
   "execution_count": 252,
   "id": "261f8e76-c286-481e-82ea-4de6f5b7cabf",
   "metadata": {},
   "outputs": [],
   "source": [
    "# 결과 p-value가 0.05보다 크므로 정규분포를 따른다 할 수 있다."
   ]
  },
  {
   "cell_type": "code",
   "execution_count": 260,
   "id": "aec6bd2a-e213-4989-ae85-2187f3494be9",
   "metadata": {},
   "outputs": [
    {
     "data": {
      "text/plain": [
       "(0.9729753732681274, 0.9169775247573853)"
      ]
     },
     "execution_count": 260,
     "metadata": {},
     "output_type": "execute_result"
    }
   ],
   "source": [
    "statistic, p = stats.shapiro(df2['Mat_B'])\n",
    "statistic,p"
   ]
  },
  {
   "cell_type": "code",
   "execution_count": 262,
   "id": "75929142-5b85-41f9-9960-07cab94c84d9",
   "metadata": {},
   "outputs": [
    {
     "name": "stdout",
     "output_type": "stream",
     "text": [
      "Shapiro-Wilk Test : statistic = 0.9729753732681274, p-value=0.9169775247573853\n"
     ]
    }
   ],
   "source": [
    "print('Shapiro-Wilk Test : statistic = {}, p-value={}'.format(statistic,p))"
   ]
  },
  {
   "cell_type": "code",
   "execution_count": 254,
   "id": "6563c71f-c5fe-488c-b8c9-45917719bb08",
   "metadata": {},
   "outputs": [],
   "source": [
    "# 결과 p-value가 0.05보다 크므로 정규분포를 따른다 할 수 있다."
   ]
  },
  {
   "cell_type": "markdown",
   "id": "34b53c90-f806-45fc-a2c3-b5a98753704b",
   "metadata": {},
   "source": [
    "# 평균 검정 _연습"
   ]
  },
  {
   "cell_type": "code",
   "execution_count": 267,
   "id": "3d2f1a0e-4036-4bde-8895-091f963d472e",
   "metadata": {},
   "outputs": [
    {
     "data": {
      "image/png": "[encoded data removed]",
      "text/plain": [
       "<Figure size 640x480 with 1 Axes>"
      ]
     },
     "metadata": {},
     "output_type": "display_data"
    }
   ],
   "source": [
    "# 고객서비스센터의 고객 만족도의 평균은 76.7 개선활동후 10개의 고객만족도 데이터를 얻었다. 개선활동이 유의미했는가?\n",
    "df = pd.DataFrame({'satisfaction' : [74.5,81.2,73.8,82.0,76.3,75.7,80.2,72.6,77.9,82.8]})\n",
    "df.boxplot();"
   ]
  },
  {
   "cell_type": "code",
   "execution_count": 271,
   "id": "920ead3a-5a42-489d-b215-d22eb0aef6ed",
   "metadata": {},
   "outputs": [
    {
     "name": "stdout",
     "output_type": "stream",
     "text": [
      "satisfaction = 0.9331594705581665, p-value=0.4796782433986664\n"
     ]
    }
   ],
   "source": [
    "# satisfaction 정규성 검정\n",
    "statistic, p = stats.shapiro(df['satisfaction'])\n",
    "print('satisfaction = {}, p-value={}'.format(statistic,p))"
   ]
  },
  {
   "cell_type": "code",
   "execution_count": 275,
   "id": "739cd6c8-6f72-45cb-9658-6bc87f8222f2",
   "metadata": {},
   "outputs": [],
   "source": [
    "# 1-sample t-test\n",
    "t_result = stats.ttest_1samp(df,76.7)\n",
    "# TtestResult(statistic=array([0.86437028]), pvalue=array([0.40983028]), df=array([9]))\n",
    "# 1-sample t-test의 t값 p값 저장\n",
    "t , p = t_result.statistic.round(3), t_result.pvalue.round(3)"
   ]
  },
  {
   "cell_type": "code",
   "execution_count": 277,
   "id": "5d1b650a-6ed0-4851-bdcc-0bac6c1550d4",
   "metadata": {},
   "outputs": [
    {
     "name": "stdout",
     "output_type": "stream",
     "text": [
      "1_Sample t-test\n",
      "t 통계량 : [0.864]\n",
      "p-value : [0.41]\n"
     ]
    }
   ],
   "source": [
    "# 1-sample t-test의 t값 p값 출력\n",
    "print('1_Sample t-test')\n",
    "print('t 통계량 : {}'.format(t))\n",
    "print('p-value : {}'.format(p))"
   ]
  },
  {
   "cell_type": "code",
   "execution_count": 279,
   "id": "66f3adce-90bd-4dbf-baa2-6a74518ecdf1",
   "metadata": {},
   "outputs": [],
   "source": [
    "# 결론 유의수준 5%내에서 P값이 0.41이므로 개선활동이 고객만족도를 변화시켰다고 할 수 없다(대립가설 기각, 귀무가설 채택)"
   ]
  },
  {
   "cell_type": "code",
   "execution_count": 281,
   "id": "de9931e0-df8e-4022-8223-d6a2c9aa7015",
   "metadata": {},
   "outputs": [
    {
     "data": {
      "text/html": [
       "<div>\n",
       "<style scoped>\n",
       "    .dataframe tbody tr th:only-of-type {\n",
       "        vertical-align: middle;\n",
       "    }\n",
       "\n",
       "    .dataframe tbody tr th {\n",
       "        vertical-align: top;\n",
       "    }\n",
       "\n",
       "    .dataframe thead th {\n",
       "        text-align: right;\n",
       "    }\n",
       "</style>\n",
       "<table border=\"1\" class=\"dataframe\">\n",
       "  <thead>\n",
       "    <tr style=\"text-align: right;\">\n",
       "      <th></th>\n",
       "      <th>satisfaction</th>\n",
       "    </tr>\n",
       "  </thead>\n",
       "  <tbody>\n",
       "    <tr>\n",
       "      <th>0</th>\n",
       "      <td>85.0</td>\n",
       "    </tr>\n",
       "    <tr>\n",
       "      <th>1</th>\n",
       "      <td>79.0</td>\n",
       "    </tr>\n",
       "    <tr>\n",
       "      <th>2</th>\n",
       "      <td>79.1</td>\n",
       "    </tr>\n",
       "    <tr>\n",
       "      <th>3</th>\n",
       "      <td>79.9</td>\n",
       "    </tr>\n",
       "    <tr>\n",
       "      <th>4</th>\n",
       "      <td>81.6</td>\n",
       "    </tr>\n",
       "  </tbody>\n",
       "</table>\n",
       "</div>"
      ],
      "text/plain": [
       "   satisfaction\n",
       "0          85.0\n",
       "1          79.0\n",
       "2          79.1\n",
       "3          79.9\n",
       "4          81.6"
      ]
     },
     "execution_count": 281,
     "metadata": {},
     "output_type": "execute_result"
    }
   ],
   "source": [
    "# 고객서비스센터의 고객 만족도의 평균은 78.0 개선활동후 10개의 고객만족도 데이터를 얻었다. 개선활동이 유의미했는가?\n",
    "df = pd.DataFrame({'satisfaction' : [85.0,79.0,79.1,79.9,81.6,78.6,85.4,83.4,78.1,79.2]})\n",
    "\n",
    "df.head()"
   ]
  },
  {
   "cell_type": "code",
   "execution_count": 283,
   "id": "d5a6ad5d-a624-40fd-b5ba-74a12808e050",
   "metadata": {},
   "outputs": [
    {
     "name": "stdout",
     "output_type": "stream",
     "text": [
      "satisfaction = 0.8473217487335205, p-value=0.0539751797914505\n"
     ]
    }
   ],
   "source": [
    "# satisfaction 정규성 검정\n",
    "statistic, p = stats.shapiro(df['satisfaction'])\n",
    "print('satisfaction = {}, p-value={}'.format(statistic,p))"
   ]
  },
  {
   "cell_type": "code",
   "execution_count": 289,
   "id": "b72b5a48-4d2e-4451-bf4f-840a8754d523",
   "metadata": {},
   "outputs": [],
   "source": [
    "# 1-sample t-test\n",
    "t_result = stats.ttest_1samp(df,78.0)\n",
    "# TtestResult(statistic=array([3.37924492]), pvalue=array([0.00813672]), df=array([9]))\n",
    "# 1-sample t-test의 t값 p값 저장\n",
    "t , p = t_result.statistic.round(3), t_result.pvalue.round(3)"
   ]
  },
  {
   "cell_type": "code",
   "execution_count": 291,
   "id": "53fe4f04-1a28-4a9e-9165-2360e7e9f15a",
   "metadata": {},
   "outputs": [
    {
     "name": "stdout",
     "output_type": "stream",
     "text": [
      "1_Sample t-test\n",
      "t 통계량 : [3.379]\n",
      "p-value : [0.008]\n"
     ]
    }
   ],
   "source": [
    "# 1-sample t-test의 t값 p값 출력\n",
    "print('1_Sample t-test')\n",
    "print('t 통계량 : {}'.format(t))\n",
    "print('p-value : {}'.format(p))"
   ]
  },
  {
   "cell_type": "code",
   "execution_count": 293,
   "id": "d9940e38-5cd2-4fc2-a785-a81f9256817a",
   "metadata": {},
   "outputs": [],
   "source": [
    "# 결론 유의수준 5%내에서 P값이 0.08이므로 개선활동이 고객만족도를 변화시켰다고 할 수 있다(대립가설 채택, 귀무가설 기각)"
   ]
  },
  {
   "cell_type": "markdown",
   "id": "21ab4e3d-1abe-4297-948b-6fc65b80436d",
   "metadata": {},
   "source": [
    "# 2 sample t-test"
   ]
  },
  {
   "cell_type": "code",
   "execution_count": 303,
   "id": "9177ae89-7862-44d6-b07f-135c66a41bd9",
   "metadata": {},
   "outputs": [
    {
     "data": {
      "image/png": "[encoded data removed]",
      "text/plain": [
       "<Figure size 640x480 with 1 Axes>"
      ]
     },
     "metadata": {},
     "output_type": "display_data"
    }
   ],
   "source": [
    "# A 고객과 B 고객의 모평균에 차이가 있다고 할 수 있는가\n",
    "# 유의수준 0.05\n",
    "df = pd.DataFrame({'A' :[6,5,5,4,6,7,6,4,5,6,4,5,5,6,4,8,6,5,6,7] , 'B':[7,6,7,8,7,8,8,5,7,6,5,5,6,6,5,7,9,7,7,8]})\n",
    "# group별 boxplot\n",
    "df.boxplot(['A','B']);"
   ]
  },
  {
   "cell_type": "code",
   "execution_count": 305,
   "id": "c5b8e1a0-678d-44a7-a62e-23e4b1f61c3d",
   "metadata": {},
   "outputs": [
    {
     "name": "stdout",
     "output_type": "stream",
     "text": [
      "statistic = 0.9094840288162231, P-value = 0.06230909377336502\n"
     ]
    }
   ],
   "source": [
    "# 정규성 검정\n",
    "statistic, p = stats.shapiro(df['A'])\n",
    "print('statistic = {}, P-value = {}'.format(statistic,p))"
   ]
  },
  {
   "cell_type": "code",
   "execution_count": 307,
   "id": "36044658-da25-4f94-a169-939880d489a9",
   "metadata": {},
   "outputs": [
    {
     "name": "stdout",
     "output_type": "stream",
     "text": [
      "statistic = 0.914249062538147, P-value = 0.07683517038822174\n"
     ]
    }
   ],
   "source": [
    "statistic, p = stats.shapiro(df['B'])\n",
    "print('statistic = {}, P-value = {}'.format(statistic,p))"
   ]
  },
  {
   "cell_type": "code",
   "execution_count": 309,
   "id": "2f6cef72-f0d2-4b01-9614-aa849612822d",
   "metadata": {},
   "outputs": [
    {
     "data": {
      "text/plain": [
       "BartlettResult(statistic=0.0784806443146898, pvalue=0.7793670509889603)"
      ]
     },
     "execution_count": 309,
     "metadata": {},
     "output_type": "execute_result"
    }
   ],
   "source": [
    "# 등분산성 검정\n",
    "stats.bartlett(df['A'], df['B'])"
   ]
  },
  {
   "cell_type": "code",
   "execution_count": 311,
   "id": "23998a07-fa3a-497c-8acf-cef9ef6a42df",
   "metadata": {},
   "outputs": [],
   "source": [
    "# 2-sample t-test\n",
    "t_result = stats.ttest_ind(df['A'], df['B'])\n",
    "\n",
    "t,p = t_result.statistic.round(3), t_result.pvalue.round(3)"
   ]
  },
  {
   "cell_type": "code",
   "execution_count": 315,
   "id": "50bad483-0d80-41d4-aa14-00cfdb7a4e03",
   "metadata": {},
   "outputs": [
    {
     "name": "stdout",
     "output_type": "stream",
     "text": [
      "2 Sample t-test\n",
      " t : -3.335\n",
      " p-value : 0.002\n"
     ]
    }
   ],
   "source": [
    "# t,p값 출력\n",
    "print('2 Sample t-test')\n",
    "print(' t : {}'.format(t))\n",
    "print(' p-value : {}'.format(p))"
   ]
  },
  {
   "cell_type": "code",
   "execution_count": 317,
   "id": "994f6396-73cf-4822-a1ba-37a60a4a45f0",
   "metadata": {},
   "outputs": [],
   "source": [
    "# 유의수준 0.05에서 검정결과값이 0.02이므로 고객간의 고객만족도에 차이가 있다\n",
    "# 또한 T 값이 음수이므로 B고객의 만족도가 더 높다"
   ]
  },
  {
   "cell_type": "code",
   "execution_count": 325,
   "id": "11b69191-47cc-4f4b-af33-10bf07d1ac72",
   "metadata": {},
   "outputs": [
    {
     "data": {
      "image/png": "[encoded data removed]",
      "text/plain": [
       "<Figure size 640x480 with 1 Axes>"
      ]
     },
     "metadata": {},
     "output_type": "display_data"
    }
   ],
   "source": [
    "# 공급자별 제품의 두께 공급자간의 모평균에 차이가 있는가?\n",
    "# 유의수준 0.05\n",
    "df = pd.DataFrame({'A' :[1.883,1.715,1.799,1.768,1.711,1.832,1.427,1.344] , 'B':[1.435,1.572,1.486,1.511,1.457,1.548,1.404,1.800]})\n",
    "# group별 boxplot\n",
    "df.boxplot(['A','B']);"
   ]
  },
  {
   "cell_type": "code",
   "execution_count": 327,
   "id": "e66728f5-3986-403f-95dc-ce516379eafe",
   "metadata": {},
   "outputs": [
    {
     "name": "stdout",
     "output_type": "stream",
     "text": [
      "statistic = 0.8425754904747009, P-value = 0.08004532009363174\n"
     ]
    }
   ],
   "source": [
    "# 정규성 검정\n",
    "statistic, p = stats.shapiro(df['A'])\n",
    "print('statistic = {}, P-value = {}'.format(statistic,p))"
   ]
  },
  {
   "cell_type": "code",
   "execution_count": 329,
   "id": "c2751bf5-8a14-4f55-9896-ef71a29c3e95",
   "metadata": {},
   "outputs": [
    {
     "name": "stdout",
     "output_type": "stream",
     "text": [
      "statistic = 0.8393934369087219, P-value = 0.07424874603748322\n"
     ]
    }
   ],
   "source": [
    "statistic, p = stats.shapiro(df['B'])\n",
    "print('statistic = {}, P-value = {}'.format(statistic,p))"
   ]
  },
  {
   "cell_type": "code",
   "execution_count": 331,
   "id": "0a5029d6-73f5-499c-8505-6402a8589941",
   "metadata": {},
   "outputs": [
    {
     "data": {
      "text/plain": [
       "BartlettResult(statistic=1.2899966318541203, pvalue=0.25604857136527204)"
      ]
     },
     "execution_count": 331,
     "metadata": {},
     "output_type": "execute_result"
    }
   ],
   "source": [
    "# 등분산성 검정\n",
    "stats.bartlett(df['A'], df['B'])"
   ]
  },
  {
   "cell_type": "code",
   "execution_count": 333,
   "id": "e4761581-8dd6-4d56-b50d-4af5e4b1f95f",
   "metadata": {},
   "outputs": [],
   "source": [
    "# 2-sample t-test\n",
    "t_result = stats.ttest_ind(df['A'], df['B'])\n",
    "\n",
    "t,p = t_result.statistic.round(3), t_result.pvalue.round(3)"
   ]
  },
  {
   "cell_type": "code",
   "execution_count": 336,
   "id": "25ac2bd0-a05f-42a3-8368-87a570480179",
   "metadata": {},
   "outputs": [
    {
     "name": "stdout",
     "output_type": "stream",
     "text": [
      "2 Sample t-test\n",
      " t : 1.94\n",
      " p-value : 0.073\n"
     ]
    }
   ],
   "source": [
    "# t,p값 출력\n",
    "print('2 Sample t-test')\n",
    "print(' t : {}'.format(t))\n",
    "print(' p-value : {}'.format(p))"
   ]
  },
  {
   "cell_type": "code",
   "execution_count": 338,
   "id": "f356f0b5-daf9-4cab-a133-c03e83a2085b",
   "metadata": {},
   "outputs": [],
   "source": [
    "# 유의수준 0.05에서 검정결과값이 0.073이므로 공급자간의 모평균에 차이가 없다\n",
    "# 또한 T 값이 양수이므로 A두께가 더 두껍다"
   ]
  },
  {
   "cell_type": "markdown",
   "id": "be9a4dad-7045-48d8-aed4-1721f72b036e",
   "metadata": {},
   "source": [
    "# Paired t-test"
   ]
  },
  {
   "cell_type": "code",
   "execution_count": 346,
   "id": "b658b94d-fdd5-405b-9bf2-9385b3956149",
   "metadata": {},
   "outputs": [
    {
     "name": "stdout",
     "output_type": "stream",
     "text": [
      "2 Sample t-test\n",
      " t : [-5.324]\n",
      " p-value : [0.]\n"
     ]
    }
   ],
   "source": [
    "# 영어학원가기 전 후 에 대해 차이\n",
    "df1 = pd.DataFrame({'before' : [720,589,780,648,720,589,780,648,780,648]})\n",
    "df2 = pd.DataFrame({'after' : [810,670,790,712,810,670,790,712,790,712]})\n",
    "\n",
    "# Paried t-test\n",
    "t_result = stats.ttest_rel(df1,df2)\n",
    "# TtestResult(statistic=array([-5.3239145]), pvalue=array([0.00047851]), df=array([9]))\n",
    "\n",
    "# Paried t-test의 t값 p값 저장\n",
    "t , p = t_result.statistic.round(3), t_result.pvalue.round(3)\n",
    "\n",
    "# Paried t-test의 t값 p 값 출력\n",
    "print('2 Sample t-test')\n",
    "print(' t : {}'.format(t))\n",
    "print(' p-value : {}'.format(p))"
   ]
  },
  {
   "cell_type": "code",
   "execution_count": 348,
   "id": "05ad838d-1c1a-4048-9985-d30c26d9a77d",
   "metadata": {},
   "outputs": [],
   "source": [
    "# 유의수준 5%에서 검정결과 p값이 0.000이므로 학원 수강 전후의 차이는 있다. 대립가설 채택, 귀무가설 기각"
   ]
  },
  {
   "cell_type": "code",
   "execution_count": 350,
   "id": "4d8e216e-489f-4c3e-bf08-996991c18a6e",
   "metadata": {},
   "outputs": [
    {
     "name": "stdout",
     "output_type": "stream",
     "text": [
      "2 Sample t-test\n",
      " t : [-2.266]\n",
      " p-value : [0.05]\n"
     ]
    }
   ],
   "source": [
    "# 영어학원가기 전 후 에 대해 차이 \n",
    "df1 = pd.DataFrame({'before' : [720,589,780,648,720,589,780,648,780,648]})\n",
    "df2 = pd.DataFrame({'after' : [710,580,787,712,750,600,782,670,790,680]})\n",
    "\n",
    "# Paried t-test\n",
    "t_result = stats.ttest_rel(df1,df2)\n",
    "# TtestResult(statistic=array([-5.3239145]), pvalue=array([0.00047851]), df=array([9]))\n",
    "\n",
    "# Paried t-test의 t값 p값 저장\n",
    "t , p = t_result.statistic.round(3), t_result.pvalue.round(3)\n",
    "\n",
    "# Paried t-test의 t값 p 값 출력\n",
    "print('2 Sample t-test')\n",
    "print(' t : {}'.format(t))\n",
    "print(' p-value : {}'.format(p))"
   ]
  },
  {
   "cell_type": "code",
   "execution_count": null,
   "id": "6c124922-45b3-4943-be8a-6d20c26a1ce6",
   "metadata": {},
   "outputs": [],
   "source": [
    "# 유의수준 5%에서 검정결과 p값이 0.05이므로 학원 수강 전후의 차이는 있다. 대립가설 채택, 귀무가설 기각\n",
    "# 또한 t값이 음수이므로 after의 diff평균이 더 크다"
   ]
  }
 ],
 "metadata": {
  "kernelspec": {
   "display_name": "Python 3 (ipykernel)",
   "language": "python",
   "name": "python3"
  },
  "language_info": {
   "codemirror_mode": {
    "name": "ipython",
    "version": 3
   },
   "file_extension": ".py",
   "mimetype": "text/x-python",
   "name": "python",
   "nbconvert_exporter": "python",
   "pygments_lexer": "ipython3",
   "version": "3.11.7"
  }
 },
 "nbformat": 4,
 "nbformat_minor": 5
}
