{
 "cells": [
  {
   "cell_type": "code",
   "execution_count": 1,
   "id": "4c23216d-47f8-413a-aab6-675382e6730e",
   "metadata": {},
   "outputs": [],
   "source": [
    "# 설비 이상 유무 파악 -> 회귀분석 필요 X\n",
    "# y 가 없다 x로 y만들어서 영향을 주는 거 찾는다 \n",
    "# 시간데이터 있음 -> 설비이상이 발생하는 특정 주기 파악 가능 ex) 오전, 오후, 새벽, \n",
    "#  연속형 변수 많음 -> 이상여부y값 만들어 내야함 어떻게? \n",
    "# y를 0(정상) 1(이상)으로 만들자 어떻게?\n",
    "# 어제한것에 정답이 있다.\n",
    "# 각 x변수중 튀는기준을 어떻게 볼것인가 with IQR\n",
    "# 기준을 잡아야해 at 연속형 data에 각 x인자를 가지고 +_30 벗어나는값 counting가능 각 x에 누적합을 해서 x 변수 벗어나는 값 counting -> \n",
    "\n",
    "# 행단위 계산 후 Iqr넘어가면 파생변수 X1 -> p > 1 => 1 or 0\n",
    "# 해서 1 값들을 sum\n",
    "# sum한 값들을 기준으로 n개 이상 넘어가면 얘는 고장!(1)\n",
    "# counting값 기준으로 \n",
    "# x(inputs)값들 기준으로 이상치 넘어가는거 갯수 파악해서 3개이상 넘어가면 이상치 ex)\n"
   ]
  },
  {
   "cell_type": "markdown",
   "id": "c6ab92a2-a040-4cdd-b810-1c084c85988d",
   "metadata": {},
   "source": [
    "## 설비이상 유무 파악\n",
    "### "
   ]
  },
  {
   "cell_type": "code",
   "execution_count": 10,
   "id": "7023d38c-b5da-4974-8433-415c17f339ae",
   "metadata": {},
   "outputs": [],
   "source": [
    "import pandas as pd\n",
    "import numpy as np\n",
    "from scipy import stats\n",
    "import matplotlib \n",
    "import matplotlib.pyplot as plt\n",
    "import seaborn as sns\n",
    "# 데이터 분할\n",
    "from sklearn.model_selection import train_test_split\n",
    "# qq plot , 회귀분석 상수항 추가\n",
    "from statsmodels.api import qqplot, add_constant\n",
    "# 선형모델\n",
    "import statsmodels.formula.api as smf\n",
    "# 평가함수\n",
    "from statsmodels.tools.eval_measures import rmse\n",
    "# 결정계수 평가지표\n",
    "from sklearn.metrics import r2_score\n",
    "# 다중공선성 확인\n",
    "from statsmodels.stats.outliers_influence import variance_inflation_factor"
   ]
  },
  {
   "cell_type": "code",
   "execution_count": 45,
   "id": "9cde15b2-db60-452c-9bbc-edd6b66d0855",
   "metadata": {},
   "outputs": [],
   "source": [
    "matplotlib.rc('font',family = 'Malgun Gothic')\n",
    "matplotlib.rc('axes', unicode_minus = False)\n",
    "%matplotlib inline\n",
    "import warnings\n",
    "warnings.filterwarnings('ignore')"
   ]
  },
  {
   "cell_type": "code",
   "execution_count": 47,
   "id": "d7930046-9d99-479b-a946-6fa4b05e93f0",
   "metadata": {},
   "outputs": [
    {
     "data": {
      "text/html": [
       "<div>\n",
       "<style scoped>\n",
       "    .dataframe tbody tr th:only-of-type {\n",
       "        vertical-align: middle;\n",
       "    }\n",
       "\n",
       "    .dataframe tbody tr th {\n",
       "        vertical-align: top;\n",
       "    }\n",
       "\n",
       "    .dataframe thead th {\n",
       "        text-align: right;\n",
       "    }\n",
       "</style>\n",
       "<table border=\"1\" class=\"dataframe\">\n",
       "  <thead>\n",
       "    <tr style=\"text-align: right;\">\n",
       "      <th></th>\n",
       "      <th>Process_Type</th>\n",
       "      <th>Datetime</th>\n",
       "      <th>Code_Num</th>\n",
       "      <th>Z1_Temp</th>\n",
       "      <th>Z1_OP1</th>\n",
       "      <th>ST</th>\n",
       "      <th>Tube_Furnace1_OP</th>\n",
       "      <th>Tube_Furnace2_OP</th>\n",
       "      <th>Tube_Furnace3_OP</th>\n",
       "      <th>Tube_Furnace4_OP</th>\n",
       "      <th>Tube_Furnace_CP</th>\n",
       "      <th>Tube_Furnace1_Temp</th>\n",
       "      <th>Tube_Furnace2_Temp</th>\n",
       "      <th>Tube_Furnace3_Temp</th>\n",
       "      <th>Tube_Furnace4_Temp</th>\n",
       "    </tr>\n",
       "  </thead>\n",
       "  <tbody>\n",
       "    <tr>\n",
       "      <th>0</th>\n",
       "      <td>OP-A</td>\n",
       "      <td>2022-01-03 11:22</td>\n",
       "      <td>GroupA</td>\n",
       "      <td>NaN</td>\n",
       "      <td>75.6648</td>\n",
       "      <td>NaN</td>\n",
       "      <td>73.527404</td>\n",
       "      <td>59.989422</td>\n",
       "      <td>52.249481</td>\n",
       "      <td>72.134908</td>\n",
       "      <td>0.450497</td>\n",
       "      <td>NaN</td>\n",
       "      <td>868.759544</td>\n",
       "      <td>NaN</td>\n",
       "      <td>NaN</td>\n",
       "    </tr>\n",
       "    <tr>\n",
       "      <th>1</th>\n",
       "      <td>OP-A</td>\n",
       "      <td>2022-01-03 11:22</td>\n",
       "      <td>GroupA</td>\n",
       "      <td>NaN</td>\n",
       "      <td>75.6706</td>\n",
       "      <td>NaN</td>\n",
       "      <td>79.149174</td>\n",
       "      <td>62.027232</td>\n",
       "      <td>50.617109</td>\n",
       "      <td>71.245235</td>\n",
       "      <td>0.457370</td>\n",
       "      <td>878.116929</td>\n",
       "      <td>883.821264</td>\n",
       "      <td>890.740760</td>\n",
       "      <td>894.430606</td>\n",
       "    </tr>\n",
       "    <tr>\n",
       "      <th>2</th>\n",
       "      <td>OP-A</td>\n",
       "      <td>2022-01-03 11:22</td>\n",
       "      <td>GroupA</td>\n",
       "      <td>99.614201</td>\n",
       "      <td>75.6776</td>\n",
       "      <td>68.724636</td>\n",
       "      <td>78.946336</td>\n",
       "      <td>62.235532</td>\n",
       "      <td>52.218350</td>\n",
       "      <td>72.705558</td>\n",
       "      <td>0.454914</td>\n",
       "      <td>866.441979</td>\n",
       "      <td>882.850031</td>\n",
       "      <td>864.373065</td>\n",
       "      <td>893.530501</td>\n",
       "    </tr>\n",
       "    <tr>\n",
       "      <th>3</th>\n",
       "      <td>OP-A</td>\n",
       "      <td>2022-01-03 11:22</td>\n",
       "      <td>GroupA</td>\n",
       "      <td>99.376221</td>\n",
       "      <td>75.8656</td>\n",
       "      <td>69.161116</td>\n",
       "      <td>78.445719</td>\n",
       "      <td>61.608260</td>\n",
       "      <td>52.863552</td>\n",
       "      <td>73.975640</td>\n",
       "      <td>0.456540</td>\n",
       "      <td>876.350472</td>\n",
       "      <td>906.208463</td>\n",
       "      <td>891.107865</td>\n",
       "      <td>896.347636</td>\n",
       "    </tr>\n",
       "    <tr>\n",
       "      <th>4</th>\n",
       "      <td>OP-C</td>\n",
       "      <td>2022-01-03 11:22</td>\n",
       "      <td>GroupA</td>\n",
       "      <td>99.809053</td>\n",
       "      <td>73.6468</td>\n",
       "      <td>69.181098</td>\n",
       "      <td>76.673808</td>\n",
       "      <td>61.589311</td>\n",
       "      <td>52.297196</td>\n",
       "      <td>71.887865</td>\n",
       "      <td>0.460100</td>\n",
       "      <td>903.587678</td>\n",
       "      <td>867.215131</td>\n",
       "      <td>893.206883</td>\n",
       "      <td>871.594283</td>\n",
       "    </tr>\n",
       "  </tbody>\n",
       "</table>\n",
       "</div>"
      ],
      "text/plain": [
       "  Process_Type          Datetime Code_Num    Z1_Temp   Z1_OP1         ST  \\\n",
       "0         OP-A  2022-01-03 11:22   GroupA        NaN  75.6648        NaN   \n",
       "1         OP-A  2022-01-03 11:22   GroupA        NaN  75.6706        NaN   \n",
       "2         OP-A  2022-01-03 11:22   GroupA  99.614201  75.6776  68.724636   \n",
       "3         OP-A  2022-01-03 11:22   GroupA  99.376221  75.8656  69.161116   \n",
       "4         OP-C  2022-01-03 11:22   GroupA  99.809053  73.6468  69.181098   \n",
       "\n",
       "   Tube_Furnace1_OP  Tube_Furnace2_OP  Tube_Furnace3_OP  Tube_Furnace4_OP  \\\n",
       "0         73.527404         59.989422         52.249481         72.134908   \n",
       "1         79.149174         62.027232         50.617109         71.245235   \n",
       "2         78.946336         62.235532         52.218350         72.705558   \n",
       "3         78.445719         61.608260         52.863552         73.975640   \n",
       "4         76.673808         61.589311         52.297196         71.887865   \n",
       "\n",
       "   Tube_Furnace_CP  Tube_Furnace1_Temp  Tube_Furnace2_Temp  \\\n",
       "0         0.450497                 NaN          868.759544   \n",
       "1         0.457370          878.116929          883.821264   \n",
       "2         0.454914          866.441979          882.850031   \n",
       "3         0.456540          876.350472          906.208463   \n",
       "4         0.460100          903.587678          867.215131   \n",
       "\n",
       "   Tube_Furnace3_Temp  Tube_Furnace4_Temp  \n",
       "0                 NaN                 NaN  \n",
       "1          890.740760          894.430606  \n",
       "2          864.373065          893.530501  \n",
       "3          891.107865          896.347636  \n",
       "4          893.206883          871.594283  "
      ]
     },
     "execution_count": 47,
     "metadata": {},
     "output_type": "execute_result"
    }
   ],
   "source": [
    "# 데이터 불러오기\n",
    "df = pd.read_csv('machine.csv')\n",
    "df.head()"
   ]
  },
  {
   "cell_type": "code",
   "execution_count": 48,
   "id": "751d727d-b3dd-4abb-8dc9-14cdb9a534ce",
   "metadata": {},
   "outputs": [
    {
     "name": "stdout",
     "output_type": "stream",
     "text": [
      "<class 'pandas.core.frame.DataFrame'>\n",
      "RangeIndex: 231123 entries, 0 to 231122\n",
      "Data columns (total 15 columns):\n",
      " #   Column              Non-Null Count   Dtype  \n",
      "---  ------              --------------   -----  \n",
      " 0   Process_Type        231123 non-null  object \n",
      " 1   Datetime            231123 non-null  object \n",
      " 2   Code_Num            231123 non-null  object \n",
      " 3   Z1_Temp             231098 non-null  float64\n",
      " 4   Z1_OP1              231123 non-null  float64\n",
      " 5   ST                  231098 non-null  float64\n",
      " 6   Tube_Furnace1_OP    230869 non-null  float64\n",
      " 7   Tube_Furnace2_OP    231123 non-null  float64\n",
      " 8   Tube_Furnace3_OP    231123 non-null  float64\n",
      " 9   Tube_Furnace4_OP    231123 non-null  float64\n",
      " 10  Tube_Furnace_CP     231123 non-null  float64\n",
      " 11  Tube_Furnace1_Temp  231118 non-null  float64\n",
      " 12  Tube_Furnace2_Temp  231113 non-null  float64\n",
      " 13  Tube_Furnace3_Temp  231114 non-null  float64\n",
      " 14  Tube_Furnace4_Temp  231108 non-null  float64\n",
      "dtypes: float64(12), object(3)\n",
      "memory usage: 26.5+ MB\n"
     ]
    }
   ],
   "source": [
    "# data 타입 확인\n",
    "df.info()"
   ]
  },
  {
   "cell_type": "code",
   "execution_count": 59,
   "id": "53a3ca62-49e1-4f57-ae91-d6a79d0f38bc",
   "metadata": {},
   "outputs": [
    {
     "data": {
      "text/html": [
       "<div>\n",
       "<style scoped>\n",
       "    .dataframe tbody tr th:only-of-type {\n",
       "        vertical-align: middle;\n",
       "    }\n",
       "\n",
       "    .dataframe tbody tr th {\n",
       "        vertical-align: top;\n",
       "    }\n",
       "\n",
       "    .dataframe thead th {\n",
       "        text-align: right;\n",
       "    }\n",
       "</style>\n",
       "<table border=\"1\" class=\"dataframe\">\n",
       "  <thead>\n",
       "    <tr style=\"text-align: right;\">\n",
       "      <th></th>\n",
       "      <th>Z1_Temp</th>\n",
       "      <th>Z1_OP1</th>\n",
       "      <th>ST</th>\n",
       "      <th>Tube_Furnace1_OP</th>\n",
       "      <th>Tube_Furnace2_OP</th>\n",
       "      <th>Tube_Furnace3_OP</th>\n",
       "      <th>Tube_Furnace4_OP</th>\n",
       "      <th>Tube_Furnace_CP</th>\n",
       "      <th>Tube_Furnace1_Temp</th>\n",
       "      <th>Tube_Furnace2_Temp</th>\n",
       "      <th>Tube_Furnace3_Temp</th>\n",
       "      <th>Tube_Furnace4_Temp</th>\n",
       "    </tr>\n",
       "  </thead>\n",
       "  <tbody>\n",
       "    <tr>\n",
       "      <th>count</th>\n",
       "      <td>231098.000000</td>\n",
       "      <td>231123.000000</td>\n",
       "      <td>231098.000000</td>\n",
       "      <td>230869.000000</td>\n",
       "      <td>231123.000000</td>\n",
       "      <td>231123.000000</td>\n",
       "      <td>231123.000000</td>\n",
       "      <td>231123.000000</td>\n",
       "      <td>231118.000000</td>\n",
       "      <td>231113.000000</td>\n",
       "      <td>231114.000000</td>\n",
       "      <td>231108.000000</td>\n",
       "    </tr>\n",
       "    <tr>\n",
       "      <th>mean</th>\n",
       "      <td>100.509681</td>\n",
       "      <td>72.622572</td>\n",
       "      <td>69.092959</td>\n",
       "      <td>75.309558</td>\n",
       "      <td>47.572004</td>\n",
       "      <td>50.532954</td>\n",
       "      <td>70.247528</td>\n",
       "      <td>0.449687</td>\n",
       "      <td>884.538184</td>\n",
       "      <td>885.041544</td>\n",
       "      <td>885.025677</td>\n",
       "      <td>884.987706</td>\n",
       "    </tr>\n",
       "    <tr>\n",
       "      <th>std</th>\n",
       "      <td>0.427198</td>\n",
       "      <td>3.009119</td>\n",
       "      <td>1.078253</td>\n",
       "      <td>20.663091</td>\n",
       "      <td>4.413487</td>\n",
       "      <td>1.965125</td>\n",
       "      <td>2.281762</td>\n",
       "      <td>0.044180</td>\n",
       "      <td>14.605636</td>\n",
       "      <td>14.418405</td>\n",
       "      <td>14.439180</td>\n",
       "      <td>14.431341</td>\n",
       "    </tr>\n",
       "    <tr>\n",
       "      <th>min</th>\n",
       "      <td>98.370946</td>\n",
       "      <td>52.981600</td>\n",
       "      <td>64.991438</td>\n",
       "      <td>0.005366</td>\n",
       "      <td>35.201679</td>\n",
       "      <td>37.519408</td>\n",
       "      <td>56.748502</td>\n",
       "      <td>0.097992</td>\n",
       "      <td>848.284519</td>\n",
       "      <td>858.669661</td>\n",
       "      <td>858.665411</td>\n",
       "      <td>858.352659</td>\n",
       "    </tr>\n",
       "    <tr>\n",
       "      <th>25%</th>\n",
       "      <td>100.234014</td>\n",
       "      <td>71.319050</td>\n",
       "      <td>68.253179</td>\n",
       "      <td>68.880077</td>\n",
       "      <td>45.219167</td>\n",
       "      <td>49.419740</td>\n",
       "      <td>68.875604</td>\n",
       "      <td>0.451953</td>\n",
       "      <td>872.057405</td>\n",
       "      <td>872.561376</td>\n",
       "      <td>872.534710</td>\n",
       "      <td>872.527927</td>\n",
       "    </tr>\n",
       "    <tr>\n",
       "      <th>50%</th>\n",
       "      <td>100.506511</td>\n",
       "      <td>72.903600</td>\n",
       "      <td>69.084741</td>\n",
       "      <td>78.708391</td>\n",
       "      <td>46.734401</td>\n",
       "      <td>50.646872</td>\n",
       "      <td>70.269142</td>\n",
       "      <td>0.454912</td>\n",
       "      <td>884.527439</td>\n",
       "      <td>885.047402</td>\n",
       "      <td>885.057021</td>\n",
       "      <td>884.954480</td>\n",
       "    </tr>\n",
       "    <tr>\n",
       "      <th>75%</th>\n",
       "      <td>100.779431</td>\n",
       "      <td>74.405000</td>\n",
       "      <td>69.996097</td>\n",
       "      <td>87.697873</td>\n",
       "      <td>48.412866</td>\n",
       "      <td>51.799096</td>\n",
       "      <td>71.554405</td>\n",
       "      <td>0.457826</td>\n",
       "      <td>896.960869</td>\n",
       "      <td>897.537632</td>\n",
       "      <td>897.535983</td>\n",
       "      <td>897.440629</td>\n",
       "    </tr>\n",
       "    <tr>\n",
       "      <th>max</th>\n",
       "      <td>102.663995</td>\n",
       "      <td>84.591100</td>\n",
       "      <td>71.527025</td>\n",
       "      <td>100.999998</td>\n",
       "      <td>66.825322</td>\n",
       "      <td>59.490855</td>\n",
       "      <td>83.410766</td>\n",
       "      <td>0.916338</td>\n",
       "      <td>920.832651</td>\n",
       "      <td>911.358760</td>\n",
       "      <td>910.976126</td>\n",
       "      <td>911.762271</td>\n",
       "    </tr>\n",
       "  </tbody>\n",
       "</table>\n",
       "</div>"
      ],
      "text/plain": [
       "             Z1_Temp         Z1_OP1             ST  Tube_Furnace1_OP  \\\n",
       "count  231098.000000  231123.000000  231098.000000     230869.000000   \n",
       "mean      100.509681      72.622572      69.092959         75.309558   \n",
       "std         0.427198       3.009119       1.078253         20.663091   \n",
       "min        98.370946      52.981600      64.991438          0.005366   \n",
       "25%       100.234014      71.319050      68.253179         68.880077   \n",
       "50%       100.506511      72.903600      69.084741         78.708391   \n",
       "75%       100.779431      74.405000      69.996097         87.697873   \n",
       "max       102.663995      84.591100      71.527025        100.999998   \n",
       "\n",
       "       Tube_Furnace2_OP  Tube_Furnace3_OP  Tube_Furnace4_OP  Tube_Furnace_CP  \\\n",
       "count     231123.000000     231123.000000     231123.000000    231123.000000   \n",
       "mean          47.572004         50.532954         70.247528         0.449687   \n",
       "std            4.413487          1.965125          2.281762         0.044180   \n",
       "min           35.201679         37.519408         56.748502         0.097992   \n",
       "25%           45.219167         49.419740         68.875604         0.451953   \n",
       "50%           46.734401         50.646872         70.269142         0.454912   \n",
       "75%           48.412866         51.799096         71.554405         0.457826   \n",
       "max           66.825322         59.490855         83.410766         0.916338   \n",
       "\n",
       "       Tube_Furnace1_Temp  Tube_Furnace2_Temp  Tube_Furnace3_Temp  \\\n",
       "count       231118.000000       231113.000000       231114.000000   \n",
       "mean           884.538184          885.041544          885.025677   \n",
       "std             14.605636           14.418405           14.439180   \n",
       "min            848.284519          858.669661          858.665411   \n",
       "25%            872.057405          872.561376          872.534710   \n",
       "50%            884.527439          885.047402          885.057021   \n",
       "75%            896.960869          897.537632          897.535983   \n",
       "max            920.832651          911.358760          910.976126   \n",
       "\n",
       "       Tube_Furnace4_Temp  \n",
       "count       231108.000000  \n",
       "mean           884.987706  \n",
       "std             14.431341  \n",
       "min            858.352659  \n",
       "25%            872.527927  \n",
       "50%            884.954480  \n",
       "75%            897.440629  \n",
       "max            911.762271  "
      ]
     },
     "execution_count": 59,
     "metadata": {},
     "output_type": "execute_result"
    }
   ],
   "source": [
    "df.describe()"
   ]
  },
  {
   "cell_type": "code",
   "execution_count": 60,
   "id": "49a03901-7e0e-4537-94ec-15dbd2b9fde7",
   "metadata": {},
   "outputs": [
    {
     "data": {
      "text/plain": [
       "Process_Type            0\n",
       "Datetime                0\n",
       "Code_Num                0\n",
       "Z1_Temp                25\n",
       "Z1_OP1                  0\n",
       "ST                     25\n",
       "Tube_Furnace1_OP      254\n",
       "Tube_Furnace2_OP        0\n",
       "Tube_Furnace3_OP        0\n",
       "Tube_Furnace4_OP        0\n",
       "Tube_Furnace_CP         0\n",
       "Tube_Furnace1_Temp      5\n",
       "Tube_Furnace2_Temp     10\n",
       "Tube_Furnace3_Temp      9\n",
       "Tube_Furnace4_Temp     15\n",
       "dtype: int64"
      ]
     },
     "execution_count": 60,
     "metadata": {},
     "output_type": "execute_result"
    }
   ],
   "source": [
    "df.isnull().sum()"
   ]
  },
  {
   "cell_type": "code",
   "execution_count": 112,
   "id": "1ed75332-5ebd-41e5-b37d-334cf2175cba",
   "metadata": {},
   "outputs": [
    {
     "data": {
      "text/plain": [
       "75.3132929761873"
      ]
     },
     "execution_count": 112,
     "metadata": {},
     "output_type": "execute_result"
    }
   ],
   "source": [
    "np.mean(df['Tube_Furnace1_OP'])"
   ]
  },
  {
   "cell_type": "code",
   "execution_count": 114,
   "id": "9dee422a-9e43-44e8-8d09-acba37fda029",
   "metadata": {},
   "outputs": [
    {
     "data": {
      "text/html": [
       "<div>\n",
       "<style scoped>\n",
       "    .dataframe tbody tr th:only-of-type {\n",
       "        vertical-align: middle;\n",
       "    }\n",
       "\n",
       "    .dataframe tbody tr th {\n",
       "        vertical-align: top;\n",
       "    }\n",
       "\n",
       "    .dataframe thead th {\n",
       "        text-align: right;\n",
       "    }\n",
       "</style>\n",
       "<table border=\"1\" class=\"dataframe\">\n",
       "  <thead>\n",
       "    <tr style=\"text-align: right;\">\n",
       "      <th></th>\n",
       "      <th>Process_Type</th>\n",
       "      <th>Datetime</th>\n",
       "      <th>Code_Num</th>\n",
       "      <th>Z1_Temp</th>\n",
       "      <th>Z1_OP1</th>\n",
       "      <th>ST</th>\n",
       "      <th>Tube_Furnace1_OP</th>\n",
       "      <th>Tube_Furnace2_OP</th>\n",
       "      <th>Tube_Furnace3_OP</th>\n",
       "      <th>Tube_Furnace4_OP</th>\n",
       "      <th>Tube_Furnace_CP</th>\n",
       "      <th>Tube_Furnace1_Temp</th>\n",
       "      <th>Tube_Furnace2_Temp</th>\n",
       "      <th>Tube_Furnace3_Temp</th>\n",
       "      <th>Tube_Furnace4_Temp</th>\n",
       "      <th>Z1_Temp_p</th>\n",
       "    </tr>\n",
       "  </thead>\n",
       "  <tbody>\n",
       "    <tr>\n",
       "      <th>0</th>\n",
       "      <td>OP-A</td>\n",
       "      <td>2022-01-03 11:22</td>\n",
       "      <td>GroupA</td>\n",
       "      <td>100.506511</td>\n",
       "      <td>75.6648</td>\n",
       "      <td>69.084741</td>\n",
       "      <td>73.527404</td>\n",
       "      <td>59.989422</td>\n",
       "      <td>52.249481</td>\n",
       "      <td>72.134908</td>\n",
       "      <td>0.450497</td>\n",
       "      <td>884.527439</td>\n",
       "      <td>868.759544</td>\n",
       "      <td>885.057021</td>\n",
       "      <td>884.954480</td>\n",
       "      <td>0</td>\n",
       "    </tr>\n",
       "    <tr>\n",
       "      <th>1</th>\n",
       "      <td>OP-A</td>\n",
       "      <td>2022-01-03 11:22</td>\n",
       "      <td>GroupA</td>\n",
       "      <td>100.506511</td>\n",
       "      <td>75.6706</td>\n",
       "      <td>69.084741</td>\n",
       "      <td>79.149174</td>\n",
       "      <td>62.027232</td>\n",
       "      <td>50.617109</td>\n",
       "      <td>71.245235</td>\n",
       "      <td>0.457370</td>\n",
       "      <td>878.116929</td>\n",
       "      <td>883.821264</td>\n",
       "      <td>890.740760</td>\n",
       "      <td>894.430606</td>\n",
       "      <td>0</td>\n",
       "    </tr>\n",
       "    <tr>\n",
       "      <th>2</th>\n",
       "      <td>OP-A</td>\n",
       "      <td>2022-01-03 11:22</td>\n",
       "      <td>GroupA</td>\n",
       "      <td>99.614201</td>\n",
       "      <td>75.6776</td>\n",
       "      <td>68.724636</td>\n",
       "      <td>78.946336</td>\n",
       "      <td>62.235532</td>\n",
       "      <td>52.218350</td>\n",
       "      <td>72.705558</td>\n",
       "      <td>0.454914</td>\n",
       "      <td>866.441979</td>\n",
       "      <td>882.850031</td>\n",
       "      <td>864.373065</td>\n",
       "      <td>893.530501</td>\n",
       "      <td>0</td>\n",
       "    </tr>\n",
       "    <tr>\n",
       "      <th>3</th>\n",
       "      <td>OP-A</td>\n",
       "      <td>2022-01-03 11:22</td>\n",
       "      <td>GroupA</td>\n",
       "      <td>99.376221</td>\n",
       "      <td>75.8656</td>\n",
       "      <td>69.161116</td>\n",
       "      <td>78.445719</td>\n",
       "      <td>61.608260</td>\n",
       "      <td>52.863552</td>\n",
       "      <td>73.975640</td>\n",
       "      <td>0.456540</td>\n",
       "      <td>876.350472</td>\n",
       "      <td>906.208463</td>\n",
       "      <td>891.107865</td>\n",
       "      <td>896.347636</td>\n",
       "      <td>0</td>\n",
       "    </tr>\n",
       "    <tr>\n",
       "      <th>4</th>\n",
       "      <td>OP-C</td>\n",
       "      <td>2022-01-03 11:22</td>\n",
       "      <td>GroupA</td>\n",
       "      <td>99.809053</td>\n",
       "      <td>73.6468</td>\n",
       "      <td>69.181098</td>\n",
       "      <td>76.673808</td>\n",
       "      <td>61.589311</td>\n",
       "      <td>52.297196</td>\n",
       "      <td>71.887865</td>\n",
       "      <td>0.460100</td>\n",
       "      <td>903.587678</td>\n",
       "      <td>867.215131</td>\n",
       "      <td>893.206883</td>\n",
       "      <td>871.594283</td>\n",
       "      <td>0</td>\n",
       "    </tr>\n",
       "  </tbody>\n",
       "</table>\n",
       "</div>"
      ],
      "text/plain": [
       "  Process_Type          Datetime Code_Num     Z1_Temp   Z1_OP1         ST  \\\n",
       "0         OP-A  2022-01-03 11:22   GroupA  100.506511  75.6648  69.084741   \n",
       "1         OP-A  2022-01-03 11:22   GroupA  100.506511  75.6706  69.084741   \n",
       "2         OP-A  2022-01-03 11:22   GroupA   99.614201  75.6776  68.724636   \n",
       "3         OP-A  2022-01-03 11:22   GroupA   99.376221  75.8656  69.161116   \n",
       "4         OP-C  2022-01-03 11:22   GroupA   99.809053  73.6468  69.181098   \n",
       "\n",
       "   Tube_Furnace1_OP  Tube_Furnace2_OP  Tube_Furnace3_OP  Tube_Furnace4_OP  \\\n",
       "0         73.527404         59.989422         52.249481         72.134908   \n",
       "1         79.149174         62.027232         50.617109         71.245235   \n",
       "2         78.946336         62.235532         52.218350         72.705558   \n",
       "3         78.445719         61.608260         52.863552         73.975640   \n",
       "4         76.673808         61.589311         52.297196         71.887865   \n",
       "\n",
       "   Tube_Furnace_CP  Tube_Furnace1_Temp  Tube_Furnace2_Temp  \\\n",
       "0         0.450497          884.527439          868.759544   \n",
       "1         0.457370          878.116929          883.821264   \n",
       "2         0.454914          866.441979          882.850031   \n",
       "3         0.456540          876.350472          906.208463   \n",
       "4         0.460100          903.587678          867.215131   \n",
       "\n",
       "   Tube_Furnace3_Temp  Tube_Furnace4_Temp  Z1_Temp_p  \n",
       "0          885.057021          884.954480          0  \n",
       "1          890.740760          894.430606          0  \n",
       "2          864.373065          893.530501          0  \n",
       "3          891.107865          896.347636          0  \n",
       "4          893.206883          871.594283          0  "
      ]
     },
     "execution_count": 114,
     "metadata": {},
     "output_type": "execute_result"
    }
   ],
   "source": [
    "# 결측치 평균으로 바꾸자 4분위 사이에 큰 차이가 없으니\n",
    "df['Z1_Temp'] = df['Z1_Temp'].fillna(df['Z1_Temp'].median())\n",
    "df.head()"
   ]
  },
  {
   "cell_type": "code",
   "execution_count": 116,
   "id": "3dbe93ae-1394-490a-8d31-e2066c8ce695",
   "metadata": {},
   "outputs": [],
   "source": [
    "df['ST'] = df['ST'].fillna(df['ST'].median())\n",
    "df['Tube_Furnace1_OP'] = df['Tube_Furnace1_OP'].fillna(df['Tube_Furnace1_OP'].median())\n",
    "df['Tube_Furnace1_Temp'] = df['Tube_Furnace1_Temp'].fillna(df['Tube_Furnace1_Temp'].median())\n",
    "df['Tube_Furnace2_Temp'] = df['Tube_Furnace2_Temp'].fillna(df['Tube_Furnace2_Temp'].median())\n",
    "df['Tube_Furnace3_Temp'] = df['Tube_Furnace3_Temp'].fillna(df['Tube_Furnace3_Temp'].median())\n",
    "df['Tube_Furnace4_Temp'] = df['Tube_Furnace4_Temp'].fillna(df['Tube_Furnace4_Temp'].median())\n",
    "\n",
    "# 결측치 평균으로 바꾸기"
   ]
  },
  {
   "cell_type": "code",
   "execution_count": 118,
   "id": "7043f361-9af6-4365-a42f-2c580b587fa4",
   "metadata": {},
   "outputs": [
    {
     "data": {
      "text/plain": [
       "Process_Type          0\n",
       "Datetime              0\n",
       "Code_Num              0\n",
       "Z1_Temp               0\n",
       "Z1_OP1                0\n",
       "ST                    0\n",
       "Tube_Furnace1_OP      0\n",
       "Tube_Furnace2_OP      0\n",
       "Tube_Furnace3_OP      0\n",
       "Tube_Furnace4_OP      0\n",
       "Tube_Furnace_CP       0\n",
       "Tube_Furnace1_Temp    0\n",
       "Tube_Furnace2_Temp    0\n",
       "Tube_Furnace3_Temp    0\n",
       "Tube_Furnace4_Temp    0\n",
       "Z1_Temp_p             0\n",
       "dtype: int64"
      ]
     },
     "execution_count": 118,
     "metadata": {},
     "output_type": "execute_result"
    }
   ],
   "source": [
    "df.isnull().sum()"
   ]
  },
  {
   "cell_type": "code",
   "execution_count": 120,
   "id": "96340535-c688-410f-b5ef-1c43f0d7fcbf",
   "metadata": {},
   "outputs": [
    {
     "data": {
      "image/png": "[encoded data removed]",
      "text/plain": [
       "<Figure size 500x500 with 1 Axes>"
      ]
     },
     "metadata": {},
     "output_type": "display_data"
    }
   ],
   "source": [
    "sns.displot(df, x = 'Z1_Temp');"
   ]
  },
  {
   "cell_type": "code",
   "execution_count": 122,
   "id": "0e8dd17e-0f03-4b1c-b9bc-aac06112fe0e",
   "metadata": {},
   "outputs": [
    {
     "data": {
      "image/png": "[encoded data removed]",
      "text/plain": [
       "<Figure size 500x500 with 1 Axes>"
      ]
     },
     "metadata": {},
     "output_type": "display_data"
    }
   ],
   "source": [
    "sns.displot(df, x = 'Z1_OP1');"
   ]
  },
  {
   "cell_type": "code",
   "execution_count": 94,
   "id": "f9d9a528-e6a3-4872-a3db-ab72391d7a07",
   "metadata": {},
   "outputs": [],
   "source": [
    "# y값 만들어 보자\n",
    "# 각 행별로 이상치들을 찾아서 count한 뒤에 더하자\n",
    "# 그럼 boxplot 부터?\n",
    "# boxplot 그리려면 결국 y값이 있어야하네\n",
    "\n",
    "\n",
    "# Z1_Temp_mean = df['Z1_Temp'].mean()\n",
    "# Z1_Temp_3sigma = df['Z1_Temp'].std()*3\n",
    "\n",
    "# df['Z1_Temp_p'] = 0\n",
    "# df.loc[(df['Z1_Temp'] > =  Z1_Temp_mean + Z1_Temp_3sigma) & (df['Z1_Temp'] <=  Z1_Temp_mean - Z1_Temp_3sigma),'Z1_Temp_p'] =1\n",
    "\n"
   ]
  },
  {
   "cell_type": "code",
   "execution_count": 108,
   "id": "91c3e791-50d4-4e1f-8dff-15162109b193",
   "metadata": {},
   "outputs": [],
   "source": [
    "# Z1_Temp_mean = df['Z1_Temp'].mean()\n",
    "# Z1_Temp_3sigma = df['Z1_Temp'].std()*3\n",
    "# df['Z1_Temp_p'] = 0\n",
    "# df.loc[(df['Z1_Temp'] >=  Z1_Temp_mean + Z1_Temp_3sigma) & (df['Z1_Temp'] <=  Z1_Temp_mean - Z1_Temp_3sigma),'Z1_Temp_p'] =1\n",
    "\n",
    "# df['Z1_Temp_p'].value_counts()"
   ]
  },
  {
   "cell_type": "code",
   "execution_count": 124,
   "id": "bf8dfc93-4cc5-4665-8e2f-540f16793003",
   "metadata": {},
   "outputs": [
    {
     "data": {
      "text/html": [
       "<div>\n",
       "<style scoped>\n",
       "    .dataframe tbody tr th:only-of-type {\n",
       "        vertical-align: middle;\n",
       "    }\n",
       "\n",
       "    .dataframe tbody tr th {\n",
       "        vertical-align: top;\n",
       "    }\n",
       "\n",
       "    .dataframe thead th {\n",
       "        text-align: right;\n",
       "    }\n",
       "</style>\n",
       "<table border=\"1\" class=\"dataframe\">\n",
       "  <thead>\n",
       "    <tr style=\"text-align: right;\">\n",
       "      <th></th>\n",
       "      <th>Process_Type</th>\n",
       "      <th>Datetime</th>\n",
       "      <th>Code_Num</th>\n",
       "      <th>Z1_Temp</th>\n",
       "      <th>Z1_OP1</th>\n",
       "      <th>ST</th>\n",
       "      <th>Tube_Furnace1_OP</th>\n",
       "      <th>Tube_Furnace2_OP</th>\n",
       "      <th>Tube_Furnace3_OP</th>\n",
       "      <th>Tube_Furnace4_OP</th>\n",
       "      <th>Tube_Furnace_CP</th>\n",
       "      <th>Tube_Furnace1_Temp</th>\n",
       "      <th>Tube_Furnace2_Temp</th>\n",
       "      <th>Tube_Furnace3_Temp</th>\n",
       "      <th>Tube_Furnace4_Temp</th>\n",
       "      <th>Z1_Temp_p</th>\n",
       "    </tr>\n",
       "  </thead>\n",
       "  <tbody>\n",
       "    <tr>\n",
       "      <th>0</th>\n",
       "      <td>OP-A</td>\n",
       "      <td>2022-01-03 11:22</td>\n",
       "      <td>GroupA</td>\n",
       "      <td>100.506511</td>\n",
       "      <td>75.6648</td>\n",
       "      <td>69.084741</td>\n",
       "      <td>73.527404</td>\n",
       "      <td>59.989422</td>\n",
       "      <td>52.249481</td>\n",
       "      <td>72.134908</td>\n",
       "      <td>0.450497</td>\n",
       "      <td>884.527439</td>\n",
       "      <td>868.759544</td>\n",
       "      <td>885.057021</td>\n",
       "      <td>884.954480</td>\n",
       "      <td>0</td>\n",
       "    </tr>\n",
       "    <tr>\n",
       "      <th>1</th>\n",
       "      <td>OP-A</td>\n",
       "      <td>2022-01-03 11:22</td>\n",
       "      <td>GroupA</td>\n",
       "      <td>100.506511</td>\n",
       "      <td>75.6706</td>\n",
       "      <td>69.084741</td>\n",
       "      <td>79.149174</td>\n",
       "      <td>62.027232</td>\n",
       "      <td>50.617109</td>\n",
       "      <td>71.245235</td>\n",
       "      <td>0.457370</td>\n",
       "      <td>878.116929</td>\n",
       "      <td>883.821264</td>\n",
       "      <td>890.740760</td>\n",
       "      <td>894.430606</td>\n",
       "      <td>0</td>\n",
       "    </tr>\n",
       "    <tr>\n",
       "      <th>2</th>\n",
       "      <td>OP-A</td>\n",
       "      <td>2022-01-03 11:22</td>\n",
       "      <td>GroupA</td>\n",
       "      <td>99.614201</td>\n",
       "      <td>75.6776</td>\n",
       "      <td>68.724636</td>\n",
       "      <td>78.946336</td>\n",
       "      <td>62.235532</td>\n",
       "      <td>52.218350</td>\n",
       "      <td>72.705558</td>\n",
       "      <td>0.454914</td>\n",
       "      <td>866.441979</td>\n",
       "      <td>882.850031</td>\n",
       "      <td>864.373065</td>\n",
       "      <td>893.530501</td>\n",
       "      <td>0</td>\n",
       "    </tr>\n",
       "    <tr>\n",
       "      <th>3</th>\n",
       "      <td>OP-A</td>\n",
       "      <td>2022-01-03 11:22</td>\n",
       "      <td>GroupA</td>\n",
       "      <td>99.376221</td>\n",
       "      <td>75.8656</td>\n",
       "      <td>69.161116</td>\n",
       "      <td>78.445719</td>\n",
       "      <td>61.608260</td>\n",
       "      <td>52.863552</td>\n",
       "      <td>73.975640</td>\n",
       "      <td>0.456540</td>\n",
       "      <td>876.350472</td>\n",
       "      <td>906.208463</td>\n",
       "      <td>891.107865</td>\n",
       "      <td>896.347636</td>\n",
       "      <td>0</td>\n",
       "    </tr>\n",
       "    <tr>\n",
       "      <th>4</th>\n",
       "      <td>OP-C</td>\n",
       "      <td>2022-01-03 11:22</td>\n",
       "      <td>GroupA</td>\n",
       "      <td>99.809053</td>\n",
       "      <td>73.6468</td>\n",
       "      <td>69.181098</td>\n",
       "      <td>76.673808</td>\n",
       "      <td>61.589311</td>\n",
       "      <td>52.297196</td>\n",
       "      <td>71.887865</td>\n",
       "      <td>0.460100</td>\n",
       "      <td>903.587678</td>\n",
       "      <td>867.215131</td>\n",
       "      <td>893.206883</td>\n",
       "      <td>871.594283</td>\n",
       "      <td>0</td>\n",
       "    </tr>\n",
       "  </tbody>\n",
       "</table>\n",
       "</div>"
      ],
      "text/plain": [
       "  Process_Type          Datetime Code_Num     Z1_Temp   Z1_OP1         ST  \\\n",
       "0         OP-A  2022-01-03 11:22   GroupA  100.506511  75.6648  69.084741   \n",
       "1         OP-A  2022-01-03 11:22   GroupA  100.506511  75.6706  69.084741   \n",
       "2         OP-A  2022-01-03 11:22   GroupA   99.614201  75.6776  68.724636   \n",
       "3         OP-A  2022-01-03 11:22   GroupA   99.376221  75.8656  69.161116   \n",
       "4         OP-C  2022-01-03 11:22   GroupA   99.809053  73.6468  69.181098   \n",
       "\n",
       "   Tube_Furnace1_OP  Tube_Furnace2_OP  Tube_Furnace3_OP  Tube_Furnace4_OP  \\\n",
       "0         73.527404         59.989422         52.249481         72.134908   \n",
       "1         79.149174         62.027232         50.617109         71.245235   \n",
       "2         78.946336         62.235532         52.218350         72.705558   \n",
       "3         78.445719         61.608260         52.863552         73.975640   \n",
       "4         76.673808         61.589311         52.297196         71.887865   \n",
       "\n",
       "   Tube_Furnace_CP  Tube_Furnace1_Temp  Tube_Furnace2_Temp  \\\n",
       "0         0.450497          884.527439          868.759544   \n",
       "1         0.457370          878.116929          883.821264   \n",
       "2         0.454914          866.441979          882.850031   \n",
       "3         0.456540          876.350472          906.208463   \n",
       "4         0.460100          903.587678          867.215131   \n",
       "\n",
       "   Tube_Furnace3_Temp  Tube_Furnace4_Temp  Z1_Temp_p  \n",
       "0          885.057021          884.954480          0  \n",
       "1          890.740760          894.430606          0  \n",
       "2          864.373065          893.530501          0  \n",
       "3          891.107865          896.347636          0  \n",
       "4          893.206883          871.594283          0  "
      ]
     },
     "execution_count": 124,
     "metadata": {},
     "output_type": "execute_result"
    }
   ],
   "source": [
    "df.head()"
   ]
  },
  {
   "cell_type": "code",
   "execution_count": 127,
   "id": "13f443b0-9658-4964-8b99-980678a658f9",
   "metadata": {},
   "outputs": [],
   "source": [
    "df = df.drop(['Z1_Temp_p'] , axis = 1)"
   ]
  },
  {
   "cell_type": "code",
   "execution_count": 171,
   "id": "1a2b1280-493a-4489-88a2-669d9c7840bc",
   "metadata": {},
   "outputs": [
    {
     "data": {
      "text/html": [
       "<div>\n",
       "<style scoped>\n",
       "    .dataframe tbody tr th:only-of-type {\n",
       "        vertical-align: middle;\n",
       "    }\n",
       "\n",
       "    .dataframe tbody tr th {\n",
       "        vertical-align: top;\n",
       "    }\n",
       "\n",
       "    .dataframe thead th {\n",
       "        text-align: right;\n",
       "    }\n",
       "</style>\n",
       "<table border=\"1\" class=\"dataframe\">\n",
       "  <thead>\n",
       "    <tr style=\"text-align: right;\">\n",
       "      <th></th>\n",
       "      <th>Process_Type</th>\n",
       "      <th>Datetime</th>\n",
       "      <th>Code_Num</th>\n",
       "      <th>Z1_Temp</th>\n",
       "      <th>Z1_OP1</th>\n",
       "      <th>ST</th>\n",
       "      <th>Tube_Furnace1_OP</th>\n",
       "      <th>Tube_Furnace2_OP</th>\n",
       "      <th>Tube_Furnace3_OP</th>\n",
       "      <th>Tube_Furnace4_OP</th>\n",
       "      <th>Tube_Furnace_CP</th>\n",
       "      <th>Tube_Furnace1_Temp</th>\n",
       "      <th>Tube_Furnace2_Temp</th>\n",
       "      <th>Tube_Furnace3_Temp</th>\n",
       "      <th>Tube_Furnace4_Temp</th>\n",
       "    </tr>\n",
       "  </thead>\n",
       "  <tbody>\n",
       "    <tr>\n",
       "      <th>0</th>\n",
       "      <td>OP-A</td>\n",
       "      <td>2022-01-03 11:22</td>\n",
       "      <td>GroupA</td>\n",
       "      <td>100.506511</td>\n",
       "      <td>75.6648</td>\n",
       "      <td>69.084741</td>\n",
       "      <td>73.527404</td>\n",
       "      <td>59.989422</td>\n",
       "      <td>52.249481</td>\n",
       "      <td>72.134908</td>\n",
       "      <td>0.450497</td>\n",
       "      <td>884.527439</td>\n",
       "      <td>868.759544</td>\n",
       "      <td>885.057021</td>\n",
       "      <td>884.954480</td>\n",
       "    </tr>\n",
       "    <tr>\n",
       "      <th>1</th>\n",
       "      <td>OP-A</td>\n",
       "      <td>2022-01-03 11:22</td>\n",
       "      <td>GroupA</td>\n",
       "      <td>100.506511</td>\n",
       "      <td>75.6706</td>\n",
       "      <td>69.084741</td>\n",
       "      <td>79.149174</td>\n",
       "      <td>62.027232</td>\n",
       "      <td>50.617109</td>\n",
       "      <td>71.245235</td>\n",
       "      <td>0.457370</td>\n",
       "      <td>878.116929</td>\n",
       "      <td>883.821264</td>\n",
       "      <td>890.740760</td>\n",
       "      <td>894.430606</td>\n",
       "    </tr>\n",
       "    <tr>\n",
       "      <th>2</th>\n",
       "      <td>OP-A</td>\n",
       "      <td>2022-01-03 11:22</td>\n",
       "      <td>GroupA</td>\n",
       "      <td>99.614201</td>\n",
       "      <td>75.6776</td>\n",
       "      <td>68.724636</td>\n",
       "      <td>78.946336</td>\n",
       "      <td>62.235532</td>\n",
       "      <td>52.218350</td>\n",
       "      <td>72.705558</td>\n",
       "      <td>0.454914</td>\n",
       "      <td>866.441979</td>\n",
       "      <td>882.850031</td>\n",
       "      <td>864.373065</td>\n",
       "      <td>893.530501</td>\n",
       "    </tr>\n",
       "    <tr>\n",
       "      <th>3</th>\n",
       "      <td>OP-A</td>\n",
       "      <td>2022-01-03 11:22</td>\n",
       "      <td>GroupA</td>\n",
       "      <td>99.376221</td>\n",
       "      <td>75.8656</td>\n",
       "      <td>69.161116</td>\n",
       "      <td>78.445719</td>\n",
       "      <td>61.608260</td>\n",
       "      <td>52.863552</td>\n",
       "      <td>73.975640</td>\n",
       "      <td>0.456540</td>\n",
       "      <td>876.350472</td>\n",
       "      <td>906.208463</td>\n",
       "      <td>891.107865</td>\n",
       "      <td>896.347636</td>\n",
       "    </tr>\n",
       "    <tr>\n",
       "      <th>4</th>\n",
       "      <td>OP-C</td>\n",
       "      <td>2022-01-03 11:22</td>\n",
       "      <td>GroupA</td>\n",
       "      <td>99.809053</td>\n",
       "      <td>73.6468</td>\n",
       "      <td>69.181098</td>\n",
       "      <td>76.673808</td>\n",
       "      <td>61.589311</td>\n",
       "      <td>52.297196</td>\n",
       "      <td>71.887865</td>\n",
       "      <td>0.460100</td>\n",
       "      <td>903.587678</td>\n",
       "      <td>867.215131</td>\n",
       "      <td>893.206883</td>\n",
       "      <td>871.594283</td>\n",
       "    </tr>\n",
       "  </tbody>\n",
       "</table>\n",
       "</div>"
      ],
      "text/plain": [
       "  Process_Type          Datetime Code_Num     Z1_Temp   Z1_OP1         ST  \\\n",
       "0         OP-A  2022-01-03 11:22   GroupA  100.506511  75.6648  69.084741   \n",
       "1         OP-A  2022-01-03 11:22   GroupA  100.506511  75.6706  69.084741   \n",
       "2         OP-A  2022-01-03 11:22   GroupA   99.614201  75.6776  68.724636   \n",
       "3         OP-A  2022-01-03 11:22   GroupA   99.376221  75.8656  69.161116   \n",
       "4         OP-C  2022-01-03 11:22   GroupA   99.809053  73.6468  69.181098   \n",
       "\n",
       "   Tube_Furnace1_OP  Tube_Furnace2_OP  Tube_Furnace3_OP  Tube_Furnace4_OP  \\\n",
       "0         73.527404         59.989422         52.249481         72.134908   \n",
       "1         79.149174         62.027232         50.617109         71.245235   \n",
       "2         78.946336         62.235532         52.218350         72.705558   \n",
       "3         78.445719         61.608260         52.863552         73.975640   \n",
       "4         76.673808         61.589311         52.297196         71.887865   \n",
       "\n",
       "   Tube_Furnace_CP  Tube_Furnace1_Temp  Tube_Furnace2_Temp  \\\n",
       "0         0.450497          884.527439          868.759544   \n",
       "1         0.457370          878.116929          883.821264   \n",
       "2         0.454914          866.441979          882.850031   \n",
       "3         0.456540          876.350472          906.208463   \n",
       "4         0.460100          903.587678          867.215131   \n",
       "\n",
       "   Tube_Furnace3_Temp  Tube_Furnace4_Temp  \n",
       "0          885.057021          884.954480  \n",
       "1          890.740760          894.430606  \n",
       "2          864.373065          893.530501  \n",
       "3          891.107865          896.347636  \n",
       "4          893.206883          871.594283  "
      ]
     },
     "execution_count": 171,
     "metadata": {},
     "output_type": "execute_result"
    }
   ],
   "source": [
    "df.head()"
   ]
  },
  {
   "cell_type": "code",
   "execution_count": 258,
   "id": "f258bc77-dd3f-4651-8c2c-c5419fb9e9b8",
   "metadata": {},
   "outputs": [
    {
     "data": {
      "image/png": "[encoded data removed]",
      "text/plain": [
       "<Figure size 1000x500 with 1 Axes>"
      ]
     },
     "metadata": {},
     "output_type": "display_data"
    }
   ],
   "source": [
    "plt.figure(figsize = (10, 5))\n",
    "plt.boxplot(df['ST'])\n",
    "plt.show()"
   ]
  },
  {
   "cell_type": "code",
   "execution_count": 264,
   "id": "676cab52-5d8d-4401-b98e-fb14ba34a909",
   "metadata": {},
   "outputs": [
    {
     "data": {
      "text/plain": [
       "0         False\n",
       "1         False\n",
       "2         False\n",
       "3         False\n",
       "4         False\n",
       "          ...  \n",
       "231118    False\n",
       "231119    False\n",
       "231120    False\n",
       "231121    False\n",
       "231122    False\n",
       "Name: ST, Length: 231123, dtype: bool"
      ]
     },
     "execution_count": 264,
     "metadata": {},
     "output_type": "execute_result"
    }
   ],
   "source": [
    "df['ST'] <= 67"
   ]
  },
  {
   "cell_type": "code",
   "execution_count": 241,
   "id": "6e059bc4-547f-44da-a16c-8ccdb355b04e",
   "metadata": {},
   "outputs": [
    {
     "data": {
      "text/plain": [
       "<Axes: >"
      ]
     },
     "execution_count": 241,
     "metadata": {},
     "output_type": "execute_result"
    },
    {
     "data": {
      "image/png": "[encoded data removed]",
      "text/plain": [
       "<Figure size 640x480 with 1 Axes>"
      ]
     },
     "metadata": {},
     "output_type": "display_data"
    }
   ],
   "source": [
    "df_num.boxplot()"
   ]
  },
  {
   "cell_type": "code",
   "execution_count": 211,
   "id": "2e7df056-718e-4998-b380-989895c22fcd",
   "metadata": {},
   "outputs": [
    {
     "data": {
      "text/plain": [
       "Index(['Z1_Temp', 'Z1_OP1', 'ST', 'Tube_Furnace1_OP', 'Tube_Furnace2_OP',\n",
       "       'Tube_Furnace3_OP', 'Tube_Furnace4_OP', 'Tube_Furnace_CP',\n",
       "       'Tube_Furnace1_Temp', 'Tube_Furnace2_Temp', 'Tube_Furnace3_Temp',\n",
       "       'Tube_Furnace4_Temp', 'Z1_Temp_p', 'ST_p'],\n",
       "      dtype='object')"
      ]
     },
     "execution_count": 211,
     "metadata": {},
     "output_type": "execute_result"
    }
   ],
   "source": [
    "df_num = df.drop(['Process_Type', 'Datetime' , 'Code_Num'] , axis = 1)\n",
    "df_num_columns = df_num.columns\n",
    "df_num_columns"
   ]
  },
  {
   "cell_type": "code",
   "execution_count": null,
   "id": "75686da7-1f5c-4d7b-b72c-b8581b4f1fea",
   "metadata": {},
   "outputs": [],
   "source": [
    "# Z1_Temp_mean = df['Z1_Temp'].mean()\n",
    "# Z1_Temp_3sigma = df['Z1_Temp'].std()*3\n",
    "# df['Z1_Temp_p'] = 0\n",
    "# # df.loc[(df['Z1_Temp'] >=  Z1_Temp_mean + Z1_Temp_3sigma) & (df['Z1_Temp'] <=  Z1_Temp_mean - Z1_Temp_3sigma),'Z1_Temp_p'] =1\n",
    "\n",
    "# # df['Z1_Temp_p'].value_counts()\n",
    "# for i in df_num:\n",
    "#     if df.loc[(df['Z1_Temp'] >= Z1_Temp_mean + Z1_Temp_3sigma) "
   ]
  },
  {
   "cell_type": "code",
   "execution_count": 336,
   "id": "d6cd496a-9de4-43d3-ac7b-cd360ece652a",
   "metadata": {},
   "outputs": [
    {
     "data": {
      "text/plain": [
       "Tube_Furnace2_Temp_p\n",
       "0    231123\n",
       "Name: count, dtype: int64"
      ]
     },
     "execution_count": 336,
     "metadata": {},
     "output_type": "execute_result"
    }
   ],
   "source": [
    "for i in df_num_columns:\n",
    "    ST_mean = df[i].mean()\n",
    "    ST_3sigma = df[i].std()*3\n",
    "    df[f\"{i}_p\"] = 0\n",
    "    df.loc[(df[i] >=  ST_mean + ST_3sigma) | (df[i] <=  ST_mean - ST_3sigma),f\"{i}_p\"] = 1\n",
    "        \n",
    "\n",
    "\n",
    "\n",
    "df['Tube_Furnace2_Temp_p'].value_counts()\n"
   ]
  },
  {
   "cell_type": "code",
   "execution_count": 227,
   "id": "c4d500cf-28fd-404d-b103-99fc84eb1d5f",
   "metadata": {},
   "outputs": [
    {
     "data": {
      "text/plain": [
       "Index(['Process_Type', 'Datetime', 'Code_Num', 'Z1_Temp', 'Z1_OP1', 'ST',\n",
       "       'Tube_Furnace1_OP', 'Tube_Furnace2_OP', 'Tube_Furnace3_OP',\n",
       "       'Tube_Furnace4_OP', 'Tube_Furnace_CP', 'Tube_Furnace1_Temp',\n",
       "       'Tube_Furnace2_Temp', 'Tube_Furnace3_Temp', 'Tube_Furnace4_Temp',\n",
       "       'Z1_Temp_p', 'ST_p', 'Z1_OP1_p', 'Tube_Furnace1_OP_p',\n",
       "       'Tube_Furnace2_OP_p', 'Tube_Furnace3_OP_p', 'Tube_Furnace4_OP_p',\n",
       "       'Tube_Furnace_CP_p', 'Tube_Furnace1_Temp_p', 'Tube_Furnace2_Temp_p',\n",
       "       'Tube_Furnace3_Temp_p', 'Tube_Furnace4_Temp_p', 'Z1_Temp_p_p',\n",
       "       'ST_p_p'],\n",
       "      dtype='object')"
      ]
     },
     "execution_count": 227,
     "metadata": {},
     "output_type": "execute_result"
    }
   ],
   "source": [
    "df.columns"
   ]
  },
  {
   "cell_type": "code",
   "execution_count": 231,
   "id": "7667106d-230d-41e6-95fd-10f36fa60cd6",
   "metadata": {},
   "outputs": [],
   "source": [
    "df = df.drop(['Z1_Temp_p_p','ST_p_p' ] , axis = 1)"
   ]
  },
  {
   "cell_type": "code",
   "execution_count": 233,
   "id": "a9ba3484-e396-4000-a100-f915c45bdd9b",
   "metadata": {},
   "outputs": [
    {
     "data": {
      "text/plain": [
       "Index(['Process_Type', 'Datetime', 'Code_Num', 'Z1_Temp', 'Z1_OP1', 'ST',\n",
       "       'Tube_Furnace1_OP', 'Tube_Furnace2_OP', 'Tube_Furnace3_OP',\n",
       "       'Tube_Furnace4_OP', 'Tube_Furnace_CP', 'Tube_Furnace1_Temp',\n",
       "       'Tube_Furnace2_Temp', 'Tube_Furnace3_Temp', 'Tube_Furnace4_Temp',\n",
       "       'Z1_Temp_p', 'ST_p', 'Z1_OP1_p', 'Tube_Furnace1_OP_p',\n",
       "       'Tube_Furnace2_OP_p', 'Tube_Furnace3_OP_p', 'Tube_Furnace4_OP_p',\n",
       "       'Tube_Furnace_CP_p', 'Tube_Furnace1_Temp_p', 'Tube_Furnace2_Temp_p',\n",
       "       'Tube_Furnace3_Temp_p', 'Tube_Furnace4_Temp_p'],\n",
       "      dtype='object')"
      ]
     },
     "execution_count": 233,
     "metadata": {},
     "output_type": "execute_result"
    }
   ],
   "source": [
    "df.columns"
   ]
  },
  {
   "cell_type": "code",
   "execution_count": 274,
   "id": "03033042-80db-44eb-81ba-7e701701f214",
   "metadata": {},
   "outputs": [
    {
     "data": {
      "text/plain": [
       "Z1_Temp_p\n",
       "0    227067\n",
       "1      4056\n",
       "Name: count, dtype: int64"
      ]
     },
     "execution_count": 274,
     "metadata": {},
     "output_type": "execute_result"
    }
   ],
   "source": [
    "df['Z1_Temp_p'].value_counts()"
   ]
  },
  {
   "cell_type": "code",
   "execution_count": 286,
   "id": "404a545f-d377-47a4-a807-85025f0f4327",
   "metadata": {},
   "outputs": [
    {
     "name": "stdout",
     "output_type": "stream",
     "text": [
      "<class 'pandas.core.frame.DataFrame'>\n",
      "RangeIndex: 231123 entries, 0 to 231122\n",
      "Data columns (total 27 columns):\n",
      " #   Column                Non-Null Count   Dtype  \n",
      "---  ------                --------------   -----  \n",
      " 0   Process_Type          231123 non-null  object \n",
      " 1   Datetime              231123 non-null  object \n",
      " 2   Code_Num              231123 non-null  object \n",
      " 3   Z1_Temp               231123 non-null  float64\n",
      " 4   Z1_OP1                231123 non-null  float64\n",
      " 5   ST                    231123 non-null  float64\n",
      " 6   Tube_Furnace1_OP      231123 non-null  float64\n",
      " 7   Tube_Furnace2_OP      231123 non-null  float64\n",
      " 8   Tube_Furnace3_OP      231123 non-null  float64\n",
      " 9   Tube_Furnace4_OP      231123 non-null  float64\n",
      " 10  Tube_Furnace_CP       231123 non-null  float64\n",
      " 11  Tube_Furnace1_Temp    231123 non-null  float64\n",
      " 12  Tube_Furnace2_Temp    231123 non-null  float64\n",
      " 13  Tube_Furnace3_Temp    231123 non-null  float64\n",
      " 14  Tube_Furnace4_Temp    231123 non-null  float64\n",
      " 15  Z1_Temp_p             231123 non-null  int64  \n",
      " 16  ST_p                  231123 non-null  int64  \n",
      " 17  Z1_OP1_p              231123 non-null  int64  \n",
      " 18  Tube_Furnace1_OP_p    231123 non-null  int64  \n",
      " 19  Tube_Furnace2_OP_p    231123 non-null  int64  \n",
      " 20  Tube_Furnace3_OP_p    231123 non-null  int64  \n",
      " 21  Tube_Furnace4_OP_p    231123 non-null  int64  \n",
      " 22  Tube_Furnace_CP_p     231123 non-null  int64  \n",
      " 23  Tube_Furnace1_Temp_p  231123 non-null  int64  \n",
      " 24  Tube_Furnace2_Temp_p  231123 non-null  int64  \n",
      " 25  Tube_Furnace3_Temp_p  231123 non-null  int64  \n",
      " 26  Tube_Furnace4_Temp_p  231123 non-null  int64  \n",
      "dtypes: float64(12), int64(12), object(3)\n",
      "memory usage: 47.6+ MB\n"
     ]
    }
   ],
   "source": [
    "df.info()"
   ]
  },
  {
   "cell_type": "code",
   "execution_count": 410,
   "id": "1b666881-d41c-4459-9172-4d9fca3f1e9a",
   "metadata": {},
   "outputs": [
    {
     "name": "stdout",
     "output_type": "stream",
     "text": [
      "<class 'pandas.core.frame.DataFrame'>\n",
      "RangeIndex: 231123 entries, 0 to 231122\n",
      "Data columns (total 12 columns):\n",
      " #   Column                Non-Null Count   Dtype\n",
      "---  ------                --------------   -----\n",
      " 0   Z1_Temp_p             231123 non-null  int64\n",
      " 1   ST_p                  231123 non-null  int64\n",
      " 2   Z1_OP1_p              231123 non-null  int64\n",
      " 3   Tube_Furnace1_OP_p    231123 non-null  int64\n",
      " 4   Tube_Furnace2_OP_p    231123 non-null  int64\n",
      " 5   Tube_Furnace3_OP_p    231123 non-null  int64\n",
      " 6   Tube_Furnace4_OP_p    231123 non-null  int64\n",
      " 7   Tube_Furnace_CP_p     231123 non-null  int64\n",
      " 8   Tube_Furnace1_Temp_p  231123 non-null  int64\n",
      " 9   Tube_Furnace2_Temp_p  231123 non-null  int64\n",
      " 10  Tube_Furnace3_Temp_p  231123 non-null  int64\n",
      " 11  Tube_Furnace4_Temp_p  231123 non-null  int64\n",
      "dtypes: int64(12)\n",
      "memory usage: 21.2 MB\n"
     ]
    }
   ],
   "source": [
    "columns_to_extract = ['Z1_Temp_p', 'ST_p', 'Z1_OP1_p', 'Tube_Furnace1_OP_p',\n",
    "       'Tube_Furnace2_OP_p', 'Tube_Furnace3_OP_p', 'Tube_Furnace4_OP_p',\n",
    "       'Tube_Furnace_CP_p', 'Tube_Furnace1_Temp_p', 'Tube_Furnace2_Temp_p',\n",
    "       'Tube_Furnace3_Temp_p', 'Tube_Furnace4_Temp_p']\n",
    "df_p = df[columns_to_extract]\n",
    "df_p.info()"
   ]
  },
  {
   "cell_type": "code",
   "execution_count": 412,
   "id": "db365ade-071a-4e40-a44c-b1dce05ba42b",
   "metadata": {},
   "outputs": [
    {
     "data": {
      "text/plain": [
       "sums\n",
       "0    204223\n",
       "1     21519\n",
       "2      4876\n",
       "3       435\n",
       "4        70\n",
       "Name: count, dtype: int64"
      ]
     },
     "execution_count": 412,
     "metadata": {},
     "output_type": "execute_result"
    }
   ],
   "source": [
    "df_p['sums'] = df_p.sum(axis=1)\n",
    "df_p['sums'].value_counts()"
   ]
  },
  {
   "cell_type": "code",
   "execution_count": 414,
   "id": "453fe24a-abf2-4947-83f8-630a840abda0",
   "metadata": {},
   "outputs": [
    {
     "data": {
      "text/plain": [
       "<seaborn.axisgrid.FacetGrid at 0x20c10860a50>"
      ]
     },
     "execution_count": 414,
     "metadata": {},
     "output_type": "execute_result"
    },
    {
     "data": {
      "image/png": "[encoded data removed]",
      "text/plain": [
       "<Figure size 500x500 with 1 Axes>"
      ]
     },
     "metadata": {},
     "output_type": "display_data"
    }
   ],
   "source": [
    "sns.displot(df_p, x = 'sums')"
   ]
  },
  {
   "cell_type": "code",
   "execution_count": 416,
   "id": "746a87f5-d1c0-4414-9ef4-c6e4587b1a95",
   "metadata": {},
   "outputs": [
    {
     "data": {
      "text/plain": [
       "sums\n",
       "0    204223\n",
       "1     21519\n",
       "2      4876\n",
       "3       435\n",
       "4        70\n",
       "Name: count, dtype: int64"
      ]
     },
     "execution_count": 416,
     "metadata": {},
     "output_type": "execute_result"
    }
   ],
   "source": [
    "df['sums'] = df_p['sums']\n",
    "df['sums'].value_counts()"
   ]
  },
  {
   "cell_type": "code",
   "execution_count": 438,
   "id": "b6843552-4f40-4e7d-9028-d053b0c2b16c",
   "metadata": {},
   "outputs": [
    {
     "data": {
      "text/plain": [
       "state\n",
       "1    204223\n",
       "0     26900\n",
       "Name: count, dtype: int64"
      ]
     },
     "execution_count": 438,
     "metadata": {},
     "output_type": "execute_result"
    }
   ],
   "source": [
    "# df['sums']의 값이 1 이상이면 0(설비이상) 미만이면 1(설비정상)\n",
    "df['state'] = df['sums'].apply(lambda x: 0 if x >= 1 else 1)\n",
    "df['state'].value_counts()"
   ]
  },
  {
   "cell_type": "code",
   "execution_count": 440,
   "id": "47c1cea6-1cb0-4697-bb11-cae968cc99b6",
   "metadata": {},
   "outputs": [],
   "source": [
    "# 0은 설비이상 1은 설비정상"
   ]
  },
  {
   "cell_type": "code",
   "execution_count": 442,
   "id": "1dcf64d8-cf08-461b-ac76-65938572e524",
   "metadata": {},
   "outputs": [
    {
     "data": {
      "text/html": [
       "<div>\n",
       "<style scoped>\n",
       "    .dataframe tbody tr th:only-of-type {\n",
       "        vertical-align: middle;\n",
       "    }\n",
       "\n",
       "    .dataframe tbody tr th {\n",
       "        vertical-align: top;\n",
       "    }\n",
       "\n",
       "    .dataframe thead th {\n",
       "        text-align: right;\n",
       "    }\n",
       "</style>\n",
       "<table border=\"1\" class=\"dataframe\">\n",
       "  <thead>\n",
       "    <tr style=\"text-align: right;\">\n",
       "      <th></th>\n",
       "      <th>Process_Type</th>\n",
       "      <th>Datetime</th>\n",
       "      <th>Code_Num</th>\n",
       "      <th>Z1_Temp</th>\n",
       "      <th>Z1_OP1</th>\n",
       "      <th>ST</th>\n",
       "      <th>Tube_Furnace1_OP</th>\n",
       "      <th>Tube_Furnace2_OP</th>\n",
       "      <th>Tube_Furnace3_OP</th>\n",
       "      <th>Tube_Furnace4_OP</th>\n",
       "      <th>...</th>\n",
       "      <th>Tube_Furnace4_OP_p</th>\n",
       "      <th>Tube_Furnace_CP_p</th>\n",
       "      <th>Tube_Furnace1_Temp_p</th>\n",
       "      <th>Tube_Furnace2_Temp_p</th>\n",
       "      <th>Tube_Furnace3_Temp_p</th>\n",
       "      <th>Tube_Furnace4_Temp_p</th>\n",
       "      <th>sums</th>\n",
       "      <th>Z1_Temp_p_p</th>\n",
       "      <th>ST_p_p</th>\n",
       "      <th>state</th>\n",
       "    </tr>\n",
       "  </thead>\n",
       "  <tbody>\n",
       "    <tr>\n",
       "      <th>0</th>\n",
       "      <td>OP-A</td>\n",
       "      <td>2022-01-03 11:22</td>\n",
       "      <td>GroupA</td>\n",
       "      <td>100.506511</td>\n",
       "      <td>75.6648</td>\n",
       "      <td>69.084741</td>\n",
       "      <td>73.527404</td>\n",
       "      <td>59.989422</td>\n",
       "      <td>52.249481</td>\n",
       "      <td>72.134908</td>\n",
       "      <td>...</td>\n",
       "      <td>0</td>\n",
       "      <td>0</td>\n",
       "      <td>0</td>\n",
       "      <td>0</td>\n",
       "      <td>0</td>\n",
       "      <td>0</td>\n",
       "      <td>0</td>\n",
       "      <td>0</td>\n",
       "      <td>0</td>\n",
       "      <td>1</td>\n",
       "    </tr>\n",
       "    <tr>\n",
       "      <th>1</th>\n",
       "      <td>OP-A</td>\n",
       "      <td>2022-01-03 11:22</td>\n",
       "      <td>GroupA</td>\n",
       "      <td>100.506511</td>\n",
       "      <td>75.6706</td>\n",
       "      <td>69.084741</td>\n",
       "      <td>79.149174</td>\n",
       "      <td>62.027232</td>\n",
       "      <td>50.617109</td>\n",
       "      <td>71.245235</td>\n",
       "      <td>...</td>\n",
       "      <td>0</td>\n",
       "      <td>0</td>\n",
       "      <td>0</td>\n",
       "      <td>0</td>\n",
       "      <td>0</td>\n",
       "      <td>0</td>\n",
       "      <td>1</td>\n",
       "      <td>0</td>\n",
       "      <td>0</td>\n",
       "      <td>0</td>\n",
       "    </tr>\n",
       "    <tr>\n",
       "      <th>2</th>\n",
       "      <td>OP-A</td>\n",
       "      <td>2022-01-03 11:22</td>\n",
       "      <td>GroupA</td>\n",
       "      <td>99.614201</td>\n",
       "      <td>75.6776</td>\n",
       "      <td>68.724636</td>\n",
       "      <td>78.946336</td>\n",
       "      <td>62.235532</td>\n",
       "      <td>52.218350</td>\n",
       "      <td>72.705558</td>\n",
       "      <td>...</td>\n",
       "      <td>0</td>\n",
       "      <td>0</td>\n",
       "      <td>0</td>\n",
       "      <td>0</td>\n",
       "      <td>0</td>\n",
       "      <td>0</td>\n",
       "      <td>1</td>\n",
       "      <td>0</td>\n",
       "      <td>0</td>\n",
       "      <td>0</td>\n",
       "    </tr>\n",
       "    <tr>\n",
       "      <th>3</th>\n",
       "      <td>OP-A</td>\n",
       "      <td>2022-01-03 11:22</td>\n",
       "      <td>GroupA</td>\n",
       "      <td>99.376221</td>\n",
       "      <td>75.8656</td>\n",
       "      <td>69.161116</td>\n",
       "      <td>78.445719</td>\n",
       "      <td>61.608260</td>\n",
       "      <td>52.863552</td>\n",
       "      <td>73.975640</td>\n",
       "      <td>...</td>\n",
       "      <td>0</td>\n",
       "      <td>0</td>\n",
       "      <td>0</td>\n",
       "      <td>0</td>\n",
       "      <td>0</td>\n",
       "      <td>0</td>\n",
       "      <td>1</td>\n",
       "      <td>0</td>\n",
       "      <td>0</td>\n",
       "      <td>0</td>\n",
       "    </tr>\n",
       "    <tr>\n",
       "      <th>4</th>\n",
       "      <td>OP-C</td>\n",
       "      <td>2022-01-03 11:22</td>\n",
       "      <td>GroupA</td>\n",
       "      <td>99.809053</td>\n",
       "      <td>73.6468</td>\n",
       "      <td>69.181098</td>\n",
       "      <td>76.673808</td>\n",
       "      <td>61.589311</td>\n",
       "      <td>52.297196</td>\n",
       "      <td>71.887865</td>\n",
       "      <td>...</td>\n",
       "      <td>0</td>\n",
       "      <td>0</td>\n",
       "      <td>0</td>\n",
       "      <td>0</td>\n",
       "      <td>0</td>\n",
       "      <td>0</td>\n",
       "      <td>1</td>\n",
       "      <td>0</td>\n",
       "      <td>0</td>\n",
       "      <td>0</td>\n",
       "    </tr>\n",
       "  </tbody>\n",
       "</table>\n",
       "<p>5 rows × 31 columns</p>\n",
       "</div>"
      ],
      "text/plain": [
       "  Process_Type          Datetime Code_Num     Z1_Temp   Z1_OP1         ST  \\\n",
       "0         OP-A  2022-01-03 11:22   GroupA  100.506511  75.6648  69.084741   \n",
       "1         OP-A  2022-01-03 11:22   GroupA  100.506511  75.6706  69.084741   \n",
       "2         OP-A  2022-01-03 11:22   GroupA   99.614201  75.6776  68.724636   \n",
       "3         OP-A  2022-01-03 11:22   GroupA   99.376221  75.8656  69.161116   \n",
       "4         OP-C  2022-01-03 11:22   GroupA   99.809053  73.6468  69.181098   \n",
       "\n",
       "   Tube_Furnace1_OP  Tube_Furnace2_OP  Tube_Furnace3_OP  Tube_Furnace4_OP  \\\n",
       "0         73.527404         59.989422         52.249481         72.134908   \n",
       "1         79.149174         62.027232         50.617109         71.245235   \n",
       "2         78.946336         62.235532         52.218350         72.705558   \n",
       "3         78.445719         61.608260         52.863552         73.975640   \n",
       "4         76.673808         61.589311         52.297196         71.887865   \n",
       "\n",
       "   ...  Tube_Furnace4_OP_p  Tube_Furnace_CP_p  Tube_Furnace1_Temp_p  \\\n",
       "0  ...                   0                  0                     0   \n",
       "1  ...                   0                  0                     0   \n",
       "2  ...                   0                  0                     0   \n",
       "3  ...                   0                  0                     0   \n",
       "4  ...                   0                  0                     0   \n",
       "\n",
       "   Tube_Furnace2_Temp_p  Tube_Furnace3_Temp_p  Tube_Furnace4_Temp_p  sums  \\\n",
       "0                     0                     0                     0     0   \n",
       "1                     0                     0                     0     1   \n",
       "2                     0                     0                     0     1   \n",
       "3                     0                     0                     0     1   \n",
       "4                     0                     0                     0     1   \n",
       "\n",
       "   Z1_Temp_p_p  ST_p_p  state  \n",
       "0            0       0      1  \n",
       "1            0       0      0  \n",
       "2            0       0      0  \n",
       "3            0       0      0  \n",
       "4            0       0      0  \n",
       "\n",
       "[5 rows x 31 columns]"
      ]
     },
     "execution_count": 442,
     "metadata": {},
     "output_type": "execute_result"
    }
   ],
   "source": [
    "df.head()"
   ]
  },
  {
   "cell_type": "code",
   "execution_count": 444,
   "id": "fbf59636-a6ae-4243-8ef7-cc14feae7340",
   "metadata": {},
   "outputs": [
    {
     "data": {
      "text/plain": [
       "Datetime\n",
       "2022-01-15 19:49    60\n",
       "2022-01-15 16:13    60\n",
       "2022-01-15 16:07    60\n",
       "2022-01-12 17:58    60\n",
       "2022-01-12 17:56    60\n",
       "                    ..\n",
       "2022-01-12 23:08     1\n",
       "2022-01-05 2:07      1\n",
       "2022-01-14 13:32     1\n",
       "2022-01-11 0:36      1\n",
       "2022-01-05 4:42      1\n",
       "Name: count, Length: 3769, dtype: int64"
      ]
     },
     "execution_count": 444,
     "metadata": {},
     "output_type": "execute_result"
    }
   ],
   "source": [
    "df_datetime = df[df['state'] == 1]['Datetime']\n",
    "df_datetime.value_counts()"
   ]
  },
  {
   "cell_type": "code",
   "execution_count": 446,
   "id": "0ecb8c8c-4aeb-4fba-8d39-29f0b66edf3f",
   "metadata": {},
   "outputs": [
    {
     "data": {
      "text/plain": [
       "<seaborn.axisgrid.FacetGrid at 0x20bc3c2ab90>"
      ]
     },
     "execution_count": 446,
     "metadata": {},
     "output_type": "execute_result"
    },
    {
     "data": {
      "image/png": "[encoded data removed]",
      "text/plain": [
       "<Figure size 500x500 with 1 Axes>"
      ]
     },
     "metadata": {},
     "output_type": "display_data"
    }
   ],
   "source": [
    "sns.displot(df, x =  'Tube_Furnace1_OP')"
   ]
  },
  {
   "cell_type": "code",
   "execution_count": 447,
   "id": "bec73bd7-386d-41e8-88be-bca8cf457c5d",
   "metadata": {},
   "outputs": [
    {
     "data": {
      "text/plain": [
       "<seaborn.axisgrid.FacetGrid at 0x20c16c55410>"
      ]
     },
     "execution_count": 447,
     "metadata": {},
     "output_type": "execute_result"
    },
    {
     "data": {
      "image/png": "[encoded data removed]",
      "text/plain": [
       "<Figure size 500x500 with 1 Axes>"
      ]
     },
     "metadata": {},
     "output_type": "display_data"
    }
   ],
   "source": [
    "sns.displot(df, x =  'Tube_Furnace2_OP') # 얘는 범주화 해도 될듯?"
   ]
  },
  {
   "cell_type": "code",
   "execution_count": 448,
   "id": "637114fa-affb-46b0-a525-fa696d17369f",
   "metadata": {},
   "outputs": [
    {
     "data": {
      "text/plain": [
       "<seaborn.axisgrid.FacetGrid at 0x20c1a733690>"
      ]
     },
     "execution_count": 448,
     "metadata": {},
     "output_type": "execute_result"
    },
    {
     "data": {
      "image/png": "[encoded data removed]",
      "text/plain": [
       "<Figure size 500x500 with 1 Axes>"
      ]
     },
     "metadata": {},
     "output_type": "display_data"
    }
   ],
   "source": [
    "sns.displot(df, x =  'Tube_Furnace3_OP')"
   ]
  },
  {
   "cell_type": "code",
   "execution_count": 450,
   "id": "15b8ae35-1c47-4c72-91a0-5a36e8bc0952",
   "metadata": {},
   "outputs": [
    {
     "data": {
      "text/plain": [
       "<Axes: >"
      ]
     },
     "execution_count": 450,
     "metadata": {},
     "output_type": "execute_result"
    },
    {
     "data": {
      "image/png": "[encoded data removed]",
      "text/plain": [
       "<Figure size 640x480 with 1 Axes>"
      ]
     },
     "metadata": {},
     "output_type": "display_data"
    }
   ],
   "source": [
    "df.boxplot(column = 'Tube_Furnace2_OP')"
   ]
  },
  {
   "cell_type": "markdown",
   "id": "6559d36f-0e28-40e2-b3fe-612fd1bde0c2",
   "metadata": {},
   "source": [
    "# 그래프 분석 + 통계검정"
   ]
  },
  {
   "cell_type": "markdown",
   "id": "e27c7637-2647-49ec-83cb-ab2f1637298b",
   "metadata": {},
   "source": [
    "## state가 0인거랑 inputs 와 영향을 미치는지"
   ]
  },
  {
   "cell_type": "markdown",
   "id": "efdddcfb-8805-491c-a3dd-8f0281d75a32",
   "metadata": {},
   "source": [
    "## 2 Sample Ttest\n",
    "### State가 0 (설비이상)와 Z_1 Temp와의 차이"
   ]
  },
  {
   "cell_type": "code",
   "execution_count": 485,
   "id": "afb85f5a-ed81-42f6-b5dd-757807408fc0",
   "metadata": {},
   "outputs": [],
   "source": [
    "import pandas as pd\n",
    "import numpy as np\n",
    "import matplotlib.pyplot as plt\n",
    "from scipy import stats\n",
    "import seaborn as sns\n",
    "from statsmodels.stats.proportion import proportions_ztest\n",
    "from scipy.stats import ttest_ind\n",
    "from scipy.stats import bartlett\n",
    "from scipy.stats import f_oneway"
   ]
  },
  {
   "cell_type": "code",
   "execution_count": 534,
   "id": "7ee24459-ae81-4c14-b361-884de0e6c286",
   "metadata": {},
   "outputs": [
    {
     "name": "stdout",
     "output_type": "stream",
     "text": [
      "통계량 : 47623.149\n",
      "p-value : 0.0\n",
      "2 Sample ttest\n",
      "t통계량 : -111.194\n",
      "p-value : 0.0\n"
     ]
    }
   ],
   "source": [
    "# 귀무가설 : 이상이 발생했을 경우의 Tube_Furnace1_OP값과 이상이 없을 경우의 Tube_Furnace1_OP값에는 평균에 차이가 없다\n",
    "# 대립가설 : 이상이 발생했을 경우의 Tube_Furnace1_OP값과 이상이 없을 경우의 Tube_Furnace1_OP값에는 평균에 차이가 있다\n",
    "\n",
    "df1 = df[df['state']  == 0]['Tube_Furnace1_OP']\n",
    "df2 = df[df['state']  == 1]['Tube_Furnace1_OP']\n",
    "# ttest를 위한 등분상성 검정\n",
    "stats, p = bartlett(df1, df2)\n",
    "print(f'통계량 : {stats.round(3)}')\n",
    "print(f'p-value : {p.round(3)}')\n",
    "# 2 sample Ttest\n",
    "t_result = ttest_ind(df1,df2  , equal_var = False)\n",
    "t , p = t_result.statistic.round(3), t_result.pvalue\n",
    "print('2 Sample ttest')\n",
    "print(f\"t통계량 : {t}\")\n",
    "print(f'p-value : {p}')\n",
    "# p-value가 0.05보다 작으므로, 대립가설(차이가 있다)\n",
    "# t 통계량이 음수이므로 Tube_Furnace1_OP의 값이 클수록 이상발생 가능성이 크다"
   ]
  },
  {
   "cell_type": "code",
   "execution_count": 536,
   "id": "e05319a1-fc0a-4bcb-afe2-b46d963842f8",
   "metadata": {},
   "outputs": [
    {
     "data": {
      "text/plain": [
       "<Axes: xlabel='state', ylabel='Tube_Furnace1_OP'>"
      ]
     },
     "execution_count": 536,
     "metadata": {},
     "output_type": "execute_result"
    },
    {
     "data": {
      "image/png": "[encoded data removed]",
      "text/plain": [
       "<Figure size 640x480 with 1 Axes>"
      ]
     },
     "metadata": {},
     "output_type": "display_data"
    }
   ],
   "source": [
    "sns.boxplot(x= 'state', y = 'Tube_Furnace1_OP', data = df)"
   ]
  },
  {
   "cell_type": "code",
   "execution_count": 532,
   "id": "b29ba7a7-3661-499c-8628-4bf83f2bfcda",
   "metadata": {},
   "outputs": [
    {
     "name": "stdout",
     "output_type": "stream",
     "text": [
      "통계량 : 35775.198\n",
      "p-value : 0.0\n",
      "2 Sample ttest\n",
      "t통계량 : 47.451\n",
      "p-value : 0.0\n"
     ]
    }
   ],
   "source": [
    "# 귀무가설 : 이상이 발생했을 경우의 Tube_Furnace2_OP값과 이상이 없을 경우의 Tube_Furnace2_OP값에는 평균에 차이가 없다\n",
    "# 대립가설 : 이상이 발생했을 경우의 Tube_Furnace2_OP값과 이상이 없을 경우의 Tube_Furnace2_OP값에는 평균에 차이가 있다\n",
    "\n",
    "df1 = df[df['state']  == 0]['Tube_Furnace2_OP']\n",
    "df2 = df[df['state']  == 1]['Tube_Furnace2_OP']\n",
    "# ttest를 위한 등분상성 검정\n",
    "stats, p = bartlett(df1, df2)\n",
    "print(f'통계량 : {stats.round(3)}')\n",
    "print(f'p-value : {p.round(3)}')\n",
    "# 2 sample Ttest\n",
    "t_result = ttest_ind(df1,df2  , equal_var = False)\n",
    "t , p = t_result.statistic.round(3), t_result.pvalue\n",
    "print('2 Sample ttest')\n",
    "print(f\"t통계량 : {t}\")\n",
    "print(f'p-value : {p}')\n",
    "# p-value가 0.05보다 작으므로, 대립가설(차이가 있다)\n",
    "# t 통계량이 양수이므로 Tube_Furnace2_OP의 값이 작을수록 이상발생 가능성이 크다"
   ]
  },
  {
   "cell_type": "code",
   "execution_count": 538,
   "id": "7e1a77ae-62b2-488b-ba9f-fb284653565e",
   "metadata": {},
   "outputs": [
    {
     "data": {
      "text/plain": [
       "<Axes: xlabel='state', ylabel='Tube_Furnace2_OP'>"
      ]
     },
     "execution_count": 538,
     "metadata": {},
     "output_type": "execute_result"
    },
    {
     "data": {
      "image/png": "[encoded data removed]",
      "text/plain": [
       "<Figure size 640x480 with 1 Axes>"
      ]
     },
     "metadata": {},
     "output_type": "display_data"
    }
   ],
   "source": [
    "sns.boxplot(x= 'state', y = 'Tube_Furnace2_OP', data = df)"
   ]
  },
  {
   "cell_type": "code",
   "execution_count": 540,
   "id": "08b55f46-dac9-4e37-b9de-9fa52463896f",
   "metadata": {},
   "outputs": [
    {
     "name": "stdout",
     "output_type": "stream",
     "text": [
      "통계량 : 26460.777\n",
      "p-value : 0.0\n",
      "2 Sample ttest\n",
      "t통계량 : -46.87\n",
      "p-value : 0.0\n"
     ]
    }
   ],
   "source": [
    "# 귀무가설 : 이상이 발생했을 경우의 Tube_Furnace3_OP값과 이상이 없을 경우의 Tube_Furnace3_OP값에는 평균에 차이가 없다\n",
    "# 대립가설 : 이상이 발생했을 경우의 Tube_Furnace3_OP값과 이상이 없을 경우의 Tube_Furnace3_OP값에는 평균에 차이가 있다\n",
    "df1 = df[df['state']  == 0]['Tube_Furnace3_OP']\n",
    "df2 = df[df['state']  == 1]['Tube_Furnace3_OP']\n",
    "# ttest를 위한 등분상성 검정\n",
    "stats, p = bartlett(df1, df2)\n",
    "print(f'통계량 : {stats.round(3)}')\n",
    "print(f'p-value : {p.round(3)}')\n",
    "# 2 sample Ttest\n",
    "t_result = ttest_ind(df1,df2  , equal_var = False)\n",
    "t , p = t_result.statistic.round(3), t_result.pvalue\n",
    "print('2 Sample ttest')\n",
    "print(f\"t통계량 : {t}\")\n",
    "print(f'p-value : {p}')\n",
    "\n",
    "# p-value가 0.05보다 작으므로, 대립가설(차이가 있다)\n",
    "# t 통계량이 음수이므로 Tube_Furnace3_OP의 값이 클수록 이상발생 가능성이 크다"
   ]
  },
  {
   "cell_type": "code",
   "execution_count": 542,
   "id": "82b15668-da04-4ccb-b6e3-55a246e06a3f",
   "metadata": {},
   "outputs": [
    {
     "data": {
      "text/plain": [
       "<Axes: xlabel='state', ylabel='Tube_Furnace3_OP'>"
      ]
     },
     "execution_count": 542,
     "metadata": {},
     "output_type": "execute_result"
    },
    {
     "data": {
      "image/png": "[encoded data removed]",
      "text/plain": [
       "<Figure size 640x480 with 1 Axes>"
      ]
     },
     "metadata": {},
     "output_type": "display_data"
    }
   ],
   "source": [
    "sns.boxplot(x= 'state', y = 'Tube_Furnace3_OP', data = df)"
   ]
  },
  {
   "cell_type": "code",
   "execution_count": 580,
   "id": "6ae871dc-0085-4046-b7ae-0732222c8549",
   "metadata": {},
   "outputs": [
    {
     "name": "stdout",
     "output_type": "stream",
     "text": [
      "통계량 : 14985.211\n",
      "p-value : 0.0\n",
      "2 Sample ttest\n",
      "t통계량 : 33.714\n",
      "p-value : 0.0\n"
     ]
    }
   ],
   "source": [
    "# 귀무가설 : 이상이 발생했을 경우의 Tube_Furnace4_OP값과 이상이 없을 경우의 Tube_Furnace4_OP값에는 평균에 차이가 없다\n",
    "# 대립가설 : 이상이 발생했을 경우의 Tube_Furnace4_OP값과 이상이 없을 경우의 Tube_Furnace4_OP값에는 평균에 차이가 있다\n",
    "df1 = df[df['state']  == 0]['Tube_Furnace4_OP']\n",
    "df2 = df[df['state']  == 1]['Tube_Furnace4_OP']\n",
    "# ttest를 위한 등분상성 검정\n",
    "stats, p = bartlett(df1, df2)\n",
    "print(f'통계량 : {stats.round(3)}')\n",
    "print(f'p-value : {p.round(3)}')\n",
    "# 2 sample Ttest\n",
    "t_result = ttest_ind(df1,df2  , equal_var = False)\n",
    "t , p = t_result.statistic.round(3), t_result.pvalue\n",
    "print('2 Sample ttest')\n",
    "print(f\"t통계량 : {t}\")\n",
    "print(f'p-value : {p.round(3)}')\n",
    "# p-value가 0.05보다 작으므로, 대립가설(차이가 있다)\n",
    "# t 통계량이 양수이므로 Tube_Furnace4_OP의 값이 작을수록 이상발생 가능성이 크다"
   ]
  },
  {
   "cell_type": "code",
   "execution_count": 547,
   "id": "bc53f7bc-e4f5-4d07-bbdc-4e3bfb08fd7f",
   "metadata": {},
   "outputs": [
    {
     "data": {
      "text/plain": [
       "<Axes: xlabel='state', ylabel='Tube_Furnace4_OP'>"
      ]
     },
     "execution_count": 547,
     "metadata": {},
     "output_type": "execute_result"
    },
    {
     "data": {
      "image/png": "[encoded data removed]",
      "text/plain": [
       "<Figure size 640x480 with 1 Axes>"
      ]
     },
     "metadata": {},
     "output_type": "display_data"
    }
   ],
   "source": [
    "sns.boxplot(x= 'state', y = 'Tube_Furnace4_OP', data = df)"
   ]
  },
  {
   "cell_type": "code",
   "execution_count": 582,
   "id": "5ae27d03-9154-412e-9f7a-9a384995b786",
   "metadata": {},
   "outputs": [
    {
     "name": "stdout",
     "output_type": "stream",
     "text": [
      "통계량 : 632342.69\n",
      "p-value : 0.0\n",
      "2 Sample ttest\n",
      "t통계량 : -59.695\n",
      "p-value : 0.0\n"
     ]
    }
   ],
   "source": [
    "# 귀무가설 : 이상이 발생했을 경우의 Tube_Furnace_CP값과 이상이 없을 경우의 Tube_Furnace_CP값에는 평균에 차이가 없다\n",
    "# 대립가설 : 이상이 발생했을 경우의 Tube_Furnace_CP값과 이상이 없을 경우의 Tube_Furnace_CP값에는 평균에 차이가 있다\n",
    "df1 = df[df['state']  == 0]['Tube_Furnace_CP']\n",
    "df2 = df[df['state']  == 1]['Tube_Furnace_CP']\n",
    "# ttest를 위한 등분상성 검정\n",
    "stats, p = bartlett(df1, df2)\n",
    "print(f'통계량 : {stats.round(3)}')\n",
    "print(f'p-value : {p.round(3)}')\n",
    "# 2 sample Ttest\n",
    "t_result = ttest_ind(df1,df2  , equal_var = False)\n",
    "t , p = t_result.statistic.round(3), t_result.pvalue\n",
    "print('2 Sample ttest')\n",
    "print(f\"t통계량 : {t}\")\n",
    "print(f'p-value : {p}')\n",
    "# p-value가 0.05보다 작으므로, 대립가설(차이가 있다)\n",
    "# t 통계량이 음수이므로 Tube_Furnace_CP의 값이 클수록 이상발생 가능성이 크다"
   ]
  },
  {
   "cell_type": "code",
   "execution_count": 552,
   "id": "10f56098-8361-4008-a8c9-caae9ead59b9",
   "metadata": {},
   "outputs": [
    {
     "data": {
      "text/plain": [
       "<Axes: xlabel='state', ylabel='Tube_Furnace_CP'>"
      ]
     },
     "execution_count": 552,
     "metadata": {},
     "output_type": "execute_result"
    },
    {
     "data": {
      "image/png": "[encoded data removed]",
      "text/plain": [
       "<Figure size 640x480 with 1 Axes>"
      ]
     },
     "metadata": {},
     "output_type": "display_data"
    }
   ],
   "source": [
    "sns.boxplot(x= 'state', y = 'Tube_Furnace_CP', data = df)"
   ]
  },
  {
   "cell_type": "code",
   "execution_count": 558,
   "id": "31e6cea1-c13c-4181-a1af-53a8c534946d",
   "metadata": {},
   "outputs": [
    {
     "name": "stdout",
     "output_type": "stream",
     "text": [
      "통계량 : 93.295\n",
      "p-value : 0.0\n",
      "2 Sample ttest\n",
      "t통계량 : 15.068\n",
      "p-value : 0.0\n"
     ]
    }
   ],
   "source": [
    "# 귀무가설 : 이상이 발생했을 경우의 Tube_Furnace1_Temp값과 이상이 없을 경우의 Tube_Furnace1_Temp값에는 평균에 차이가 없다\n",
    "# 대립가설 : 이상이 발생했을 경우의 Tube_Furnace1_Temp값과 이상이 없을 경우의 Tube_Furnace1_Temp값에는 평균에 차이가 있다\n",
    "df1 = df[df['state']  == 0]['Tube_Furnace1_Temp']\n",
    "df2 = df[df['state']  == 1]['Tube_Furnace1_Temp']\n",
    "# ttest를 위한 등분상성 검정\n",
    "stats, p = bartlett(df1, df2)\n",
    "print(f'통계량 : {stats.round(3)}')\n",
    "print(f'p-value : {p.round(3)}')\n",
    "# 2 sample Ttest\n",
    "t_result = ttest_ind(df1,df2  , equal_var = False)\n",
    "t , p = t_result.statistic.round(3), t_result.pvalue\n",
    "print('2 Sample ttest')\n",
    "print(f\"t통계량 : {t}\")\n",
    "print(f'p-value : {p.round(3)}')\n",
    "# p-value가 0.05보다 크므로, 귀무가설(차이가 없다)\n",
    "# t 통계량이 양수이므로 Tube_Furnace1_Temp의 값이 작을수록 이상발생 가능성이 크다"
   ]
  },
  {
   "cell_type": "code",
   "execution_count": 560,
   "id": "ffc64fcf-465e-462f-853b-52e2f19afcaf",
   "metadata": {},
   "outputs": [
    {
     "data": {
      "text/plain": [
       "<Axes: xlabel='state', ylabel='Tube_Furnace1_Temp'>"
      ]
     },
     "execution_count": 560,
     "metadata": {},
     "output_type": "execute_result"
    },
    {
     "data": {
      "image/png": "[encoded data removed]",
      "text/plain": [
       "<Figure size 640x480 with 1 Axes>"
      ]
     },
     "metadata": {},
     "output_type": "display_data"
    }
   ],
   "source": [
    "sns.boxplot(x= 'state', y = 'Tube_Furnace1_Temp', data = df)"
   ]
  },
  {
   "cell_type": "code",
   "execution_count": 562,
   "id": "af7e0758-0348-4754-ba12-f25113366785",
   "metadata": {},
   "outputs": [
    {
     "name": "stdout",
     "output_type": "stream",
     "text": [
      "통계량 : 0.001\n",
      "p-value : 0.973\n",
      "2 Sample ttest\n",
      "t통계량 : -0.015\n",
      "p-value : 0.988\n"
     ]
    }
   ],
   "source": [
    "# 귀무가설 : 이상이 발생했을 경우의 Tube_Furnace2_Temp값과 이상이 없을 경우의 Tube_Furnace2_Temp값에는 평균에 차이가 없다\n",
    "# 대립가설 : 이상이 발생했을 경우의 Tube_Furnace2_Temp값과 이상이 없을 경우의 Tube_Furnace2_Temp값에는 평균에 차이가 있다\n",
    "df1 = df[df['state']  == 0]['Tube_Furnace2_Temp']\n",
    "df2 = df[df['state']  == 1]['Tube_Furnace2_Temp']\n",
    "# ttest를 위한 등분상성 검정\n",
    "stats, p = bartlett(df1, df2)\n",
    "print(f'통계량 : {stats.round(3)}')\n",
    "print(f'p-value : {p.round(3)}')\n",
    "# 2 sample Ttest\n",
    "t_result = ttest_ind(df1,df2  , equal_var = False)\n",
    "t , p = t_result.statistic.round(3), t_result.pvalue\n",
    "print('2 Sample ttest')\n",
    "print(f\"t통계량 : {t}\")\n",
    "print(f'p-value : {p.round(3)}')\n",
    "# p-value가 0.05보다 크므로, 귀무가설(차이가 없다)\n",
    "# t 통계량이 음수이므로 Tube_Furnace1_Temp의 값이 클수록 이상발생 가능성이 크다"
   ]
  },
  {
   "cell_type": "code",
   "execution_count": 566,
   "id": "42d294cc-2e21-4bec-8a76-3fad7adba796",
   "metadata": {},
   "outputs": [
    {
     "data": {
      "text/plain": [
       "<Axes: xlabel='state', ylabel='Tube_Furnace2_Temp'>"
      ]
     },
     "execution_count": 566,
     "metadata": {},
     "output_type": "execute_result"
    },
    {
     "data": {
      "image/png": "[encoded data removed]",
      "text/plain": [
       "<Figure size 640x480 with 1 Axes>"
      ]
     },
     "metadata": {},
     "output_type": "display_data"
    }
   ],
   "source": [
    "sns.boxplot(x= 'state', y = 'Tube_Furnace2_Temp', data = df)"
   ]
  },
  {
   "cell_type": "code",
   "execution_count": 569,
   "id": "c0600e35-732c-4bea-96eb-a54b7aef6148",
   "metadata": {},
   "outputs": [
    {
     "name": "stdout",
     "output_type": "stream",
     "text": [
      "통계량 : 0.054\n",
      "p-value : 0.817\n",
      "2 Sample ttest\n",
      "t통계량 : 1.372\n",
      "p-value : 0.17\n"
     ]
    }
   ],
   "source": [
    "df1 = df[df['state']  == 0]['Tube_Furnace3_Temp']\n",
    "df2 = df[df['state']  == 1]['Tube_Furnace3_Temp']\n",
    "# ttest를 위한 등분상성 검정\n",
    "stats, p = bartlett(df1, df2)\n",
    "print(f'통계량 : {stats.round(3)}')\n",
    "print(f'p-value : {p.round(3)}')\n",
    "# 2 sample Ttest\n",
    "t_result = ttest_ind(df1,df2  , equal_var = False)\n",
    "t , p = t_result.statistic.round(3), t_result.pvalue\n",
    "print('2 Sample ttest')\n",
    "print(f\"t통계량 : {t}\")\n",
    "print(f'p-value : {p.round(3)}')"
   ]
  },
  {
   "cell_type": "code",
   "execution_count": 571,
   "id": "e8a6f466-8c14-4931-87fa-83a286bc8229",
   "metadata": {},
   "outputs": [
    {
     "data": {
      "text/plain": [
       "<Axes: xlabel='state', ylabel='Tube_Furnace3_Temp'>"
      ]
     },
     "execution_count": 571,
     "metadata": {},
     "output_type": "execute_result"
    },
    {
     "data": {
      "image/png": "[encoded data removed]",
      "text/plain": [
       "<Figure size 640x480 with 1 Axes>"
      ]
     },
     "metadata": {},
     "output_type": "display_data"
    }
   ],
   "source": [
    "sns.boxplot(x= 'state', y = 'Tube_Furnace3_Temp', data = df)"
   ]
  },
  {
   "cell_type": "code",
   "execution_count": 573,
   "id": "388d6ef0-403f-494a-a33e-cdb43e896f71",
   "metadata": {},
   "outputs": [
    {
     "name": "stdout",
     "output_type": "stream",
     "text": [
      "통계량 : 0.0\n",
      "p-value : 0.995\n",
      "2 Sample ttest\n",
      "t통계량 : -1.228\n",
      "p-value : 0.219\n"
     ]
    }
   ],
   "source": [
    "df1 = df[df['state']  == 0]['Tube_Furnace4_Temp']\n",
    "df2 = df[df['state']  == 1]['Tube_Furnace4_Temp']\n",
    "# ttest를 위한 등분상성 검정\n",
    "stats, p = bartlett(df1, df2)\n",
    "print(f'통계량 : {stats.round(3)}')\n",
    "print(f'p-value : {p.round(3)}')\n",
    "# 2 sample Ttest\n",
    "t_result = ttest_ind(df1,df2  , equal_var = False)\n",
    "t , p = t_result.statistic.round(3), t_result.pvalue\n",
    "print('2 Sample ttest')\n",
    "print(f\"t통계량 : {t}\")\n",
    "print(f'p-value : {p.round(3)}')"
   ]
  },
  {
   "cell_type": "code",
   "execution_count": 577,
   "id": "56a73959-5e22-4516-914a-bda479d6d386",
   "metadata": {},
   "outputs": [
    {
     "data": {
      "image/png": "[encoded data removed]",
      "text/plain": [
       "<Figure size 640x480 with 1 Axes>"
      ]
     },
     "metadata": {},
     "output_type": "display_data"
    }
   ],
   "source": [
    "sns.boxplot(x= 'state', y = 'Tube_Furnace4_Temp', data = df);"
   ]
  },
  {
   "cell_type": "code",
   "execution_count": null,
   "id": "7b3a21b1-c9b7-4bf5-a7ab-d1627baee87f",
   "metadata": {},
   "outputs": [],
   "source": []
  }
 ],
 "metadata": {
  "kernelspec": {
   "display_name": "Python 3 (ipykernel)",
   "language": "python",
   "name": "python3"
  },
  "language_info": {
   "codemirror_mode": {
    "name": "ipython",
    "version": 3
   },
   "file_extension": ".py",
   "mimetype": "text/x-python",
   "name": "python",
   "nbconvert_exporter": "python",
   "pygments_lexer": "ipython3",
   "version": "3.11.7"
  }
 },
 "nbformat": 4,
 "nbformat_minor": 5
}
