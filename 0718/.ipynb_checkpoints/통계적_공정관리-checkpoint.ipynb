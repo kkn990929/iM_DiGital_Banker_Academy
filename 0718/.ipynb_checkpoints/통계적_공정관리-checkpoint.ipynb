{
 "cells": [
  {
   "cell_type": "markdown",
   "id": "d3967a1b-a7ea-4289-a912-5e2d7ac8bc6c",
   "metadata": {},
   "source": [
    "# 통계적 공정관리"
   ]
  },
  {
   "cell_type": "markdown",
   "id": "e5fa3d3a-6219-4a13-b78e-8280bfd5a9c6",
   "metadata": {},
   "source": [
    "- Statistical Process Control\n",
    "- 품질특정치를 목표치 주위에서 분포를 최소화 하는것\n",
    "- 통계적 자료 기법의 도움을 받아(Statistical)\n",
    "- 원인과 프로세스의 능력상태를 파악하여\n",
    "- 주어진 품질 목표 달성을 위해 PDCA 사이클(Plan, Do, Check, Action)을 적용"
   ]
  },
  {
   "cell_type": "markdown",
   "id": "dd2fa488-dbc5-48c8-972f-61034d2f6887",
   "metadata": {},
   "source": [
    "## 관리도를 통한 공정관리\n",
    "- 이상원인의 출현을 감지해서 이상원인을 제거하는것\n",
    "- 규격상한, 규격하한 at 관리도 -> 고객의 요구에 따라 지정 (UCL, LCL과 다름)"
   ]
  },
  {
   "cell_type": "markdown",
   "id": "801a4011-145e-4fac-9b27-4286de8ceb4f",
   "metadata": {},
   "source": [
    "## 공정능력지수(Procss Capability Index)\n",
    "- 공정의 산포를 규격의 크기와 비교하는것\n",
    "- 공정이 안정화된 상태에서 측정 -> UCL, LCL 벗어나는 DATA 없음\n",
    "- VoP(프로세스에서 발생한 산포, 6*표준편차) / VoC(USL(규격상한) - LSL(규격하한)\n"
   ]
  },
  {
   "cell_type": "markdown",
   "id": "cfaba025-35aa-4a8e-b799-4feb35cb0102",
   "metadata": {},
   "source": [
    "### 단기 공정 능력 (공정능력지수 Cp,Cpk)\n",
    "- 현장의 조건이 안정화된 상태에서 단기에 측정한 값\n",
    "- 데이터가 치우치면 k?\n",
    "### 장기 공정 능력 (공정성능지수 Pp, Ppk)\n",
    "- 장기에 측정한값\n",
    "- 데이터가 치우치면 k?\n",
    "\n",
    "- 항상 Cp>Pp"
   ]
  },
  {
   "cell_type": "markdown",
   "id": "e8c72320-6836-466f-ad0b-a883caba371a",
   "metadata": {},
   "source": [
    "## 관리도\n",
    "- 이미 발생한 불량 감지보다 불량 발생 이전의 공정의 이상상태를 감지 목적"
   ]
  },
  {
   "cell_type": "markdown",
   "id": "db3e6349-1e50-4b14-8449-c6eade7ad8ee",
   "metadata": {},
   "source": [
    "## 산포\n",
    "### 산포의 종류\n",
    "- 총 산포 = 우연산포 + 이상산포"
   ]
  },
  {
   "cell_type": "markdown",
   "id": "fadbb1c5-4a7d-46cb-a288-0fc803478c1b",
   "metadata": {},
   "source": [
    "- moving range = 0 index -  1 index \n",
    "- .diff"
   ]
  },
  {
   "cell_type": "code",
   "execution_count": null,
   "id": "0506166d-2bfb-4228-ad95-10004996e68d",
   "metadata": {},
   "outputs": [],
   "source": []
  }
 ],
 "metadata": {
  "kernelspec": {
   "display_name": "Python 3 (ipykernel)",
   "language": "python",
   "name": "python3"
  },
  "language_info": {
   "codemirror_mode": {
    "name": "ipython",
    "version": 3
   },
   "file_extension": ".py",
   "mimetype": "text/x-python",
   "name": "python",
   "nbconvert_exporter": "python",
   "pygments_lexer": "ipython3",
   "version": "3.11.7"
  }
 },
 "nbformat": 4,
 "nbformat_minor": 5
}
