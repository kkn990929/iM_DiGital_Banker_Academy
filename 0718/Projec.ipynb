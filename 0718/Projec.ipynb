{
 "cells": [
  {
   "cell_type": "markdown",
   "id": "570d7e0c-686a-47d0-b09b-2dc1a724c648",
   "metadata": {},
   "source": [
    "슬라브\n",
    "고로\n",
    "연주공장 - > 고로에서 나온 쇳물을 슬라브로 만드는 과정\n",
    "온도가 적당히 떨어졌을때 롤링?\n",
    "뜨거운 상태에서 핫차지롤링?\n",
    "온도가 300이상 HCR\n",
    "온다가 300미만 CCR\n",
    "슬라브에서 나온게 1시간 넘었거나 온도가 350이상 cold차지 롤링\n",
    "->\n",
    "finishing mill 더 얇게 만듬\n",
    "\n",
    "\n",
    "\n",
    "HRC만 들어가면 \n",
    "\n",
    "\n",
    "at 가열설비\n",
    "슬라브가 여러개 들어감\n",
    "슬라브의 온도가 다르면 낮은거에 맞춰서 온도 올려야함 => 가스(열원)사용량 과다발생 -> 비용증가\n",
    "\n",
    "과제 목적\n",
    "어떻게 온도를 잘 체크해서 HCR만 집어 넣을 것인가\\\n",
    "\n",
    "리드타임 -> \n",
    "input => 두께 폭, 길이 , 리드타임\n",
    "y,output = 장입온도\n",
    "\n",
    "가열해서 들어가는 슬라브가 많은데 그것들만 넣겠다\n",
    "온도(장입온도) 예측\n",
    "\n",
    "가설 : 두께, 폭, 길이가 클수록 장입온도가 클 것이다.\n",
    "\n",
    "\n",
    "input all 연속형 -> 이산형으로 변경\n",
    "무게 기준 설정 후 중량 높으면 1, 중량 낮으면 0 with boxplot\n",
    "\n"
   ]
  },
  {
   "cell_type": "markdown",
   "id": "46bd518f-7089-4648-901b-1e30e6690812",
   "metadata": {},
   "source": [
    "for chi^\n",
    "\n",
    "파생변수 기준으로 구분한 파생변수 생성후\n",
    "\n",
    "크로스탭 생성\n"
   ]
  },
  {
   "cell_type": "markdown",
   "id": "9abf70df-ffdd-48ff-8d54-19f917a1cf8b",
   "metadata": {},
   "source": [
    "관리도는 온도에 대해서만"
   ]
  }
 ],
 "metadata": {
  "kernelspec": {
   "display_name": "Python 3 (ipykernel)",
   "language": "python",
   "name": "python3"
  },
  "language_info": {
   "codemirror_mode": {
    "name": "ipython",
    "version": 3
   },
   "file_extension": ".py",
   "mimetype": "text/x-python",
   "name": "python",
   "nbconvert_exporter": "python",
   "pygments_lexer": "ipython3",
   "version": "3.11.7"
  }
 },
 "nbformat": 4,
 "nbformat_minor": 5
}
