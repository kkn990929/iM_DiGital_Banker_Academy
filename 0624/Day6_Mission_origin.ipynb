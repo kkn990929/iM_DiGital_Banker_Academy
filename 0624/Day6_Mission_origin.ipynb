{
 "cells": [
  {
   "cell_type": "markdown",
   "id": "df703a82-062e-4d50-a4c7-266cc708bfff",
   "metadata": {},
   "source": [
    "# 미션\n",
    "- Day6_Data.zip 내, 3개의 데이터 파일을 불러와 아래의 분석을 실시하시오."
   ]
  },
  {
   "cell_type": "markdown",
   "id": "030eee09-332f-4ea1-b14c-87a09771cce7",
   "metadata": {},
   "source": [
    "## 1. 3개 데이터를 불러와 아래와 같이 변환 하시오. \n",
    "- 기간은 파일 상단에 적힌 기간월을 작성 \n",
    "- Column 명 '합계'는 앞에 공백이 존재 ' 합계'"
   ]
  },
  {
   "cell_type": "code",
   "execution_count": 36,
   "id": "bce9f486-d2d9-4d28-ab41-c062360bdfa9",
   "metadata": {},
   "outputs": [
    {
     "data": {
      "text/html": [
       "<div>\n",
       "<style scoped>\n",
       "    .dataframe tbody tr th:only-of-type {\n",
       "        vertical-align: middle;\n",
       "    }\n",
       "\n",
       "    .dataframe tbody tr th {\n",
       "        vertical-align: top;\n",
       "    }\n",
       "\n",
       "    .dataframe thead th {\n",
       "        text-align: right;\n",
       "    }\n",
       "</style>\n",
       "<table border=\"1\" class=\"dataframe\">\n",
       "  <thead>\n",
       "    <tr style=\"text-align: right;\">\n",
       "      <th></th>\n",
       "      <th>순번</th>\n",
       "      <th>상품코드</th>\n",
       "      <th>상품명</th>\n",
       "      <th>합계</th>\n",
       "      <th>지점</th>\n",
       "      <th>판매량</th>\n",
       "      <th>기간</th>\n",
       "    </tr>\n",
       "  </thead>\n",
       "  <tbody>\n",
       "    <tr>\n",
       "      <th>0</th>\n",
       "      <td>1.0</td>\n",
       "      <td>1801828.0</td>\n",
       "      <td>자연숨결 식약처 허가 초미세먼지 마스크 대형 60매(KF94)</td>\n",
       "      <td>65402</td>\n",
       "      <td>(1154)의정부점</td>\n",
       "      <td>174</td>\n",
       "      <td>6월</td>\n",
       "    </tr>\n",
       "    <tr>\n",
       "      <th>1</th>\n",
       "      <td>2.0</td>\n",
       "      <td>1801859.0</td>\n",
       "      <td>블루방역황사마스크 65매 KF94</td>\n",
       "      <td>1</td>\n",
       "      <td>(1154)의정부점</td>\n",
       "      <td>0</td>\n",
       "      <td>6월</td>\n",
       "    </tr>\n",
       "    <tr>\n",
       "      <th>2</th>\n",
       "      <td>3.0</td>\n",
       "      <td>40786179.0</td>\n",
       "      <td>클린위즈 매직클리너 얼룩제거 세트</td>\n",
       "      <td>2158</td>\n",
       "      <td>(1154)의정부점</td>\n",
       "      <td>4</td>\n",
       "      <td>6월</td>\n",
       "    </tr>\n",
       "    <tr>\n",
       "      <th>3</th>\n",
       "      <td>4.0</td>\n",
       "      <td>41001356.0</td>\n",
       "      <td>트루마리 순수휴지 30미터 90롤</td>\n",
       "      <td>3649</td>\n",
       "      <td>(1154)의정부점</td>\n",
       "      <td>14</td>\n",
       "      <td>6월</td>\n",
       "    </tr>\n",
       "    <tr>\n",
       "      <th>4</th>\n",
       "      <td>5.0</td>\n",
       "      <td>88005324.0</td>\n",
       "      <td>자연숨결 식약처 허가 초미세먼지 마스크 대형30매 + 중형 30매(KF94)</td>\n",
       "      <td>1</td>\n",
       "      <td>(1154)의정부점</td>\n",
       "      <td>0</td>\n",
       "      <td>6월</td>\n",
       "    </tr>\n",
       "  </tbody>\n",
       "</table>\n",
       "</div>"
      ],
      "text/plain": [
       "    순번        상품코드                                         상품명     합계  \\\n",
       "0  1.0   1801828.0          자연숨결 식약처 허가 초미세먼지 마스크 대형 60매(KF94)  65402   \n",
       "1  2.0   1801859.0                          블루방역황사마스크 65매 KF94      1   \n",
       "2  3.0  40786179.0                          클린위즈 매직클리너 얼룩제거 세트   2158   \n",
       "3  4.0  41001356.0                          트루마리 순수휴지 30미터 90롤   3649   \n",
       "4  5.0  88005324.0  자연숨결 식약처 허가 초미세먼지 마스크 대형30매 + 중형 30매(KF94)      1   \n",
       "\n",
       "           지점  판매량  기간  \n",
       "0  (1154)의정부점  174  6월  \n",
       "1  (1154)의정부점    0  6월  \n",
       "2  (1154)의정부점    4  6월  \n",
       "3  (1154)의정부점   14  6월  \n",
       "4  (1154)의정부점    0  6월  "
      ]
     },
     "execution_count": 36,
     "metadata": {},
     "output_type": "execute_result"
    }
   ],
   "source": []
  },
  {
   "cell_type": "markdown",
   "id": "3e293c1e-ff71-494c-8172-4ed3f153f13e",
   "metadata": {},
   "source": [
    "## 2. '지점' 중 '판매량'의 합이 가장 높은 2개 지점을 확인하시오."
   ]
  },
  {
   "cell_type": "code",
   "execution_count": null,
   "id": "e1c2567f-835e-43da-8e44-c3a5133d5d1c",
   "metadata": {},
   "outputs": [],
   "source": []
  },
  {
   "cell_type": "markdown",
   "id": "60eff68d-af44-4bc8-8083-e22c167bffb8",
   "metadata": {},
   "source": [
    "## 3. 앞서 확인한, 2개의 지점의 '판매량'에 대해 각각 정규성 검정을 수행하고, 결론을 작성하시오. "
   ]
  },
  {
   "cell_type": "code",
   "execution_count": null,
   "id": "6733d652-372c-46de-ac96-b37c2e5cedf1",
   "metadata": {},
   "outputs": [],
   "source": []
  },
  {
   "cell_type": "markdown",
   "id": "b0cbe966-4d45-442c-912c-b6057fabd49a",
   "metadata": {},
   "source": [
    "## 4. 앞서 확인한, 2개의 지점의 '판매량'의 대표값(중앙값)의 차이를 계산하고자 한다. 가설을 수립하고, Rank Sum Test를 이용해 가설검정을 수행하시오 ."
   ]
  },
  {
   "cell_type": "code",
   "execution_count": null,
   "id": "68f082ef-8c9f-4b48-9efa-c531c316b292",
   "metadata": {},
   "outputs": [],
   "source": []
  },
  {
   "cell_type": "markdown",
   "id": "322c2892-1fbd-4265-883a-f33cb3b51281",
   "metadata": {},
   "source": [
    "## 5. 앞서 확인한, 2개의 지점의 '판매량'의 Histogram을 Plotly라이브러리로 시각화 하시오. "
   ]
  },
  {
   "cell_type": "code",
   "execution_count": null,
   "id": "23f606ff-0ec0-4d59-a297-71afc3b15667",
   "metadata": {},
   "outputs": [],
   "source": []
  },
  {
   "cell_type": "markdown",
   "id": "b92490d3-f7cf-4063-8065-4bf2dea64ff4",
   "metadata": {},
   "source": [
    "## 6. '기간'별 가장 '판매량'의 '합'이 높은 '지점'을 확인하고, 특정 '기간' (월)을 입력했을 때, 해당 월의 '지점' 별 '판매량'의 합을 result_{월}.xlsx로 저장하는 함수를 생성하시오. "
   ]
  },
  {
   "cell_type": "code",
   "execution_count": null,
   "id": "216829f5-38f5-4845-9653-3b6e23259bc1",
   "metadata": {},
   "outputs": [],
   "source": []
  },
  {
   "cell_type": "markdown",
   "id": "3dd7028f-99b7-4e09-a7b4-aeca2a73f0df",
   "metadata": {},
   "source": [
    "## 7. '상품명'에 '마스크'와'휴지' 제품을 나누어 분석하고자 한다. 상품명을 '휴지'와 '마스크'로 분류한 뒤, (나머지는 '기타') '상품분류'라는 파생변수를 만들어, 두 상품의 '판매량'의 대표값의 차이를 가설 검정 하시오. \n",
    "    - 가설 수립 및 결론도 작성하셔야 합니다."
   ]
  },
  {
   "cell_type": "code",
   "execution_count": null,
   "id": "e40a6098-6654-4907-bdd0-5876f8640b90",
   "metadata": {},
   "outputs": [],
   "source": []
  }
 ],
 "metadata": {
  "kernelspec": {
   "display_name": "Python 3 (ipykernel)",
   "language": "python",
   "name": "python3"
  },
  "language_info": {
   "codemirror_mode": {
    "name": "ipython",
    "version": 3
   },
   "file_extension": ".py",
   "mimetype": "text/x-python",
   "name": "python",
   "nbconvert_exporter": "python",
   "pygments_lexer": "ipython3",
   "version": "3.11.7"
  }
 },
 "nbformat": 4,
 "nbformat_minor": 5
}
