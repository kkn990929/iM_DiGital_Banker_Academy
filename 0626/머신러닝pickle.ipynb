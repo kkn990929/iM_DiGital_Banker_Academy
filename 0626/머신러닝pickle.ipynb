{
 "cells": [
  {
   "cell_type": "code",
   "execution_count": 1,
   "id": "ff37bada-37c8-42ab-800e-f300ee6f844d",
   "metadata": {},
   "outputs": [],
   "source": [
    "# pickle로 파일 저장 후 읽어오기\n",
    "\n",
    "import pickle\n",
    "import pandas as pd"
   ]
  },
  {
   "cell_type": "code",
   "execution_count": 12,
   "id": "01bb8ff0-81c8-4bf3-8680-bea76b72bd9b",
   "metadata": {},
   "outputs": [],
   "source": [
    "# 불러오기\n",
    "model = pickle.load(open('model.sav' , 'rb'))"
   ]
  },
  {
   "cell_type": "code",
   "execution_count": 14,
   "id": "5e06f7c7-8eb6-444d-8fa0-591275403e59",
   "metadata": {},
   "outputs": [
    {
     "name": "stdin",
     "output_type": "stream",
     "text": [
      "Term 12\n",
      "Amount_Month 100000\n",
      "Age 45\n",
      "Credit_Rank 3\n"
     ]
    }
   ],
   "source": [
    "x1 = input('Term')\n",
    "x2 = input('Amount_Month')\n",
    "x3 = input('Age')\n",
    "x4 = input('Credit_Rank')\n",
    "\n",
    "input_data = [x1, x2, x3, x4]"
   ]
  },
  {
   "cell_type": "code",
   "execution_count": 16,
   "id": "6e5db6aa-33b2-4a76-aeae-e14bf59b5364",
   "metadata": {},
   "outputs": [
    {
     "data": {
      "text/html": [
       "<div>\n",
       "<style scoped>\n",
       "    .dataframe tbody tr th:only-of-type {\n",
       "        vertical-align: middle;\n",
       "    }\n",
       "\n",
       "    .dataframe tbody tr th {\n",
       "        vertical-align: top;\n",
       "    }\n",
       "\n",
       "    .dataframe thead th {\n",
       "        text-align: right;\n",
       "    }\n",
       "</style>\n",
       "<table border=\"1\" class=\"dataframe\">\n",
       "  <thead>\n",
       "    <tr style=\"text-align: right;\">\n",
       "      <th></th>\n",
       "      <th>0</th>\n",
       "      <th>1</th>\n",
       "      <th>2</th>\n",
       "      <th>3</th>\n",
       "    </tr>\n",
       "  </thead>\n",
       "  <tbody>\n",
       "    <tr>\n",
       "      <th>0</th>\n",
       "      <td>12</td>\n",
       "      <td>100000</td>\n",
       "      <td>45</td>\n",
       "      <td>3</td>\n",
       "    </tr>\n",
       "  </tbody>\n",
       "</table>\n",
       "</div>"
      ],
      "text/plain": [
       "    0       1   2  3\n",
       "0  12  100000  45  3"
      ]
     },
     "execution_count": 16,
     "metadata": {},
     "output_type": "execute_result"
    }
   ],
   "source": [
    "input_df = pd.DataFrame(data = [input_data])\n",
    "input_df"
   ]
  },
  {
   "cell_type": "code",
   "execution_count": 18,
   "id": "23c4bf74-6b20-42ae-a220-90f43e38dc7d",
   "metadata": {},
   "outputs": [
    {
     "name": "stderr",
     "output_type": "stream",
     "text": [
      "C:\\Users\\campus4D037\\anaconda3\\Lib\\site-packages\\sklearn\\base.py:439: UserWarning: X does not have valid feature names, but DecisionTreeClassifier was fitted with feature names\n",
      "  warnings.warn(\n"
     ]
    },
    {
     "data": {
      "text/plain": [
       "array([0], dtype=int64)"
      ]
     },
     "execution_count": 18,
     "metadata": {},
     "output_type": "execute_result"
    }
   ],
   "source": [
    "# 예측\n",
    "model.predict(input_df)\n",
    "# 0은 계약 -> 계약할 것이다."
   ]
  },
  {
   "cell_type": "code",
   "execution_count": 20,
   "id": "9f722be9-0522-4f77-b143-84f8fcbb2626",
   "metadata": {},
   "outputs": [],
   "source": [
    "input_df2 = pd.DataFrame(data = [input_data], columns = ['Term', 'Amount_Month' , 'Age' , 'Credit_Rank'])"
   ]
  },
  {
   "cell_type": "code",
   "execution_count": 22,
   "id": "88587d42-ee6d-4a68-999c-913d37b65099",
   "metadata": {},
   "outputs": [
    {
     "data": {
      "text/plain": [
       "array([0], dtype=int64)"
      ]
     },
     "execution_count": 22,
     "metadata": {},
     "output_type": "execute_result"
    }
   ],
   "source": [
    "model.predict(input_df2)"
   ]
  },
  {
   "cell_type": "code",
   "execution_count": null,
   "id": "153455d8-f2eb-4e20-a4da-d3332726f765",
   "metadata": {},
   "outputs": [],
   "source": []
  }
 ],
 "metadata": {
  "kernelspec": {
   "display_name": "Python 3 (ipykernel)",
   "language": "python",
   "name": "python3"
  },
  "language_info": {
   "codemirror_mode": {
    "name": "ipython",
    "version": 3
   },
   "file_extension": ".py",
   "mimetype": "text/x-python",
   "name": "python",
   "nbconvert_exporter": "python",
   "pygments_lexer": "ipython3",
   "version": "3.11.7"
  }
 },
 "nbformat": 4,
 "nbformat_minor": 5
}
