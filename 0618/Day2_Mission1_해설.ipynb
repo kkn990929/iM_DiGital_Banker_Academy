{
 "cells": [
  {
   "cell_type": "markdown",
   "id": "2c27da38-82b0-4c2f-8295-bd6dd1045b8c",
   "metadata": {},
   "source": [
    "# Day2 오전미션\n",
    "- 아래의 미션을 Jupyter Notebook으로 푼 후 [File] - [Download as] - [HTML] 저장 제출\n",
    "- birdland1903@gmail.com\n",
    "- 제출양식 : Day1_Mission_반복문_홍길동\n",
    "- 처음 풀이 시, 30분 정도 구글링이나 Chat GPT 없이 풀이"
   ]
  },
  {
   "cell_type": "markdown",
   "id": "ea9526f3-d858-4e5d-ab3c-fd1ddbad1e0c",
   "metadata": {},
   "source": [
    "## 1. 하나의 리스트를 입력받았을 때, 중복값을 제거하고 출력하는 함수를 만드시오."
   ]
  },
  {
   "cell_type": "code",
   "execution_count": null,
   "id": "fba400ce-f483-4ce8-ad64-11f00d623530",
   "metadata": {},
   "outputs": [],
   "source": []
  },
  {
   "cell_type": "markdown",
   "id": "df9a4300-2328-4052-8e60-8944eaa86d30",
   "metadata": {},
   "source": [
    "## 2. 입력받은 튜플을 오름차순으로 정렬하는 함수를 만드시오."
   ]
  },
  {
   "cell_type": "code",
   "execution_count": null,
   "id": "e6ed40c5-a5f1-46f7-9ab2-c0254a0e7ed8",
   "metadata": {},
   "outputs": [],
   "source": []
  },
  {
   "cell_type": "markdown",
   "id": "885e83b8-f72a-4932-a7f7-7e3bbaf56383",
   "metadata": {},
   "source": [
    "## 3. 1부터 100까지의 숫자 중 6개의 숫자를 중복없이 임의로 생성하는 함수를 만드시오."
   ]
  },
  {
   "cell_type": "code",
   "execution_count": null,
   "id": "6208a870-494b-4d39-883f-ac8d84b809c0",
   "metadata": {},
   "outputs": [],
   "source": []
  },
  {
   "cell_type": "markdown",
   "id": "b3c14d38-be5e-42e8-8580-36ff835375a4",
   "metadata": {},
   "source": [
    "## 4. 숫자를 입력받아 짝/홀수를 판별하는 프로그램을 if문 없이 만드시오. "
   ]
  },
  {
   "cell_type": "code",
   "execution_count": null,
   "id": "2f4d3215-9476-4af0-85a0-d67fa6b6b10d",
   "metadata": {},
   "outputs": [],
   "source": []
  },
  {
   "cell_type": "markdown",
   "id": "58891279-b2f9-41ff-b4cd-cb1273f2bf9b",
   "metadata": {},
   "source": [
    "## 5. 1부터 30의 숫자 중 홀수만 갖는 리스트를 만드시오"
   ]
  },
  {
   "cell_type": "code",
   "execution_count": null,
   "id": "8b81d5bd-1f2b-4ba5-9fb0-1f899950a187",
   "metadata": {},
   "outputs": [],
   "source": []
  },
  {
   "cell_type": "markdown",
   "id": "6d152605-34b6-406a-8eaa-74e34423faa7",
   "metadata": {},
   "source": [
    "## 6. 1부터 30의 숫자 중 3의 배수이지만 4의 배수는 아닌 숫자를 출력하시오"
   ]
  },
  {
   "cell_type": "code",
   "execution_count": null,
   "id": "2027529d-e933-4ed4-92c1-db2cb7b3d0b1",
   "metadata": {},
   "outputs": [],
   "source": []
  },
  {
   "cell_type": "markdown",
   "id": "94cc1735-0737-4444-a958-c2d7ab88b549",
   "metadata": {},
   "source": [
    "## 7. 아래 두 리스트의 중복값을 제거한 후 오름차순으로 하나의 리스트로 출력하는 함수를 만드시오\n",
    "- list1 = [100,200,500,600,700]\n",
    "- list2 = [500,600,700,800,900]"
   ]
  },
  {
   "cell_type": "code",
   "execution_count": null,
   "id": "406e4b45-5d01-4f8e-8708-12387223f680",
   "metadata": {},
   "outputs": [],
   "source": []
  },
  {
   "cell_type": "markdown",
   "id": "c1d4e7d8-a798-4099-ae6e-dbc997b79f1a",
   "metadata": {},
   "source": [
    "## 8. 1~50 사이의 숫자를 랜덤으로 생성한 후, 숫자를 맞출 때까지 값을 입력해서 맞추는 프로그램을 생성. (업다운 게임)\n",
    "\n",
    "- 숙련자 : 시도한 횟수도 표시"
   ]
  },
  {
   "cell_type": "code",
   "execution_count": null,
   "id": "f8fc5f8b-eabd-4e05-bf93-10f4b6083729",
   "metadata": {},
   "outputs": [],
   "source": []
  }
 ],
 "metadata": {
  "kernelspec": {
   "display_name": "Python 3 (ipykernel)",
   "language": "python",
   "name": "python3"
  },
  "language_info": {
   "codemirror_mode": {
    "name": "ipython",
    "version": 3
   },
   "file_extension": ".py",
   "mimetype": "text/x-python",
   "name": "python",
   "nbconvert_exporter": "python",
   "pygments_lexer": "ipython3",
   "version": "3.11.7"
  }
 },
 "nbformat": 4,
 "nbformat_minor": 5
}
