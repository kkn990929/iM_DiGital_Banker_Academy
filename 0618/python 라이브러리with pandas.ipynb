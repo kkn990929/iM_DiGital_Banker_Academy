{
 "cells": [
  {
   "cell_type": "markdown",
   "id": "5a67530f-7d34-4693-9518-2a29db7b8c8e",
   "metadata": {},
   "source": [
    "# Pandas\n",
    "- panel + dataset\n",
    "- series -> numpy array를 기반으로 만든 정형데이터 분석을 위해 구성된 index - value형식의 자료구조"
   ]
  },
  {
   "cell_type": "code",
   "execution_count": 2,
   "id": "6dd82976-62bd-427e-ae90-347288e0a56a",
   "metadata": {},
   "outputs": [],
   "source": [
    "import pandas as pd"
   ]
  },
  {
   "cell_type": "code",
   "execution_count": 18,
   "id": "c2e6e49f-697d-4e14-a040-309a5f06ff3c",
   "metadata": {},
   "outputs": [
    {
     "data": {
      "text/plain": [
       "0    1\n",
       "1    2\n",
       "2    3\n",
       "3    4\n",
       "dtype: int64"
      ]
     },
     "execution_count": 18,
     "metadata": {},
     "output_type": "execute_result"
    }
   ],
   "source": [
    "s1 = pd.Series([1,2,3,4])\n",
    "s1"
   ]
  },
  {
   "cell_type": "code",
   "execution_count": 14,
   "id": "7462812c-2c73-4f9c-88b7-ad929411a756",
   "metadata": {},
   "outputs": [
    {
     "data": {
      "text/plain": [
       "0    a\n",
       "1    b\n",
       "2    c\n",
       "3    4\n",
       "dtype: object"
      ]
     },
     "execution_count": 14,
     "metadata": {},
     "output_type": "execute_result"
    }
   ],
   "source": [
    "s2 = pd.Series(['a','b','c',4])\n",
    "s2\n",
    "# obj는 문자형 \n",
    "#series는 하나의 datatype만 올 수 있다"
   ]
  },
  {
   "cell_type": "code",
   "execution_count": 20,
   "id": "f2895fb8-c7c4-4586-baee-507b539a4e90",
   "metadata": {},
   "outputs": [
    {
     "data": {
      "text/plain": [
       "RangeIndex(start=0, stop=4, step=1)"
      ]
     },
     "execution_count": 20,
     "metadata": {},
     "output_type": "execute_result"
    }
   ],
   "source": [
    "s2.index #0 부터 4까지 1칸씩"
   ]
  },
  {
   "cell_type": "code",
   "execution_count": 22,
   "id": "220f724c-4223-4a8c-b715-174eab5c4f98",
   "metadata": {},
   "outputs": [
    {
     "data": {
      "text/plain": [
       "array(['a', 'b', 'c', 4], dtype=object)"
      ]
     },
     "execution_count": 22,
     "metadata": {},
     "output_type": "execute_result"
    }
   ],
   "source": [
    "s2.values"
   ]
  },
  {
   "cell_type": "code",
   "execution_count": 28,
   "id": "de022a37-e276-4026-a607-457c1c36b681",
   "metadata": {},
   "outputs": [
    {
     "data": {
      "text/plain": [
       "pandas.core.series.Series"
      ]
     },
     "execution_count": 28,
     "metadata": {},
     "output_type": "execute_result"
    }
   ],
   "source": [
    "type(s2) #데이터 타입을 자주 확인하는 것이 좋다\n"
   ]
  },
  {
   "cell_type": "code",
   "execution_count": 32,
   "id": "f94a2a8a-7748-44a5-8a88-ce6e415a0292",
   "metadata": {},
   "outputs": [
    {
     "data": {
      "text/plain": [
       "numpy.ndarray"
      ]
     },
     "execution_count": 32,
     "metadata": {},
     "output_type": "execute_result"
    }
   ],
   "source": [
    "type(s1.values) #numpy lib array를 기반"
   ]
  },
  {
   "cell_type": "code",
   "execution_count": 34,
   "id": "dee22c0e-4d22-4835-a8b1-3e3133ce08fb",
   "metadata": {},
   "outputs": [
    {
     "data": {
      "text/plain": [
       "'a'"
      ]
     },
     "execution_count": 34,
     "metadata": {},
     "output_type": "execute_result"
    }
   ],
   "source": [
    "# series indexing slicing\n",
    "s2[0]"
   ]
  },
  {
   "cell_type": "code",
   "execution_count": 36,
   "id": "e5dea4ed-b656-4aeb-959c-6d589f3a753d",
   "metadata": {},
   "outputs": [
    {
     "data": {
      "text/plain": [
       "0    a\n",
       "1    b\n",
       "dtype: object"
      ]
     },
     "execution_count": 36,
     "metadata": {},
     "output_type": "execute_result"
    }
   ],
   "source": [
    "s2[0:2] #[n:m] n부터 m-1까지"
   ]
  },
  {
   "cell_type": "code",
   "execution_count": 40,
   "id": "f8cdb2cd-7626-426e-b0b1-e83651b8d666",
   "metadata": {},
   "outputs": [
    {
     "data": {
      "text/plain": [
       "0    99\n",
       "1     2\n",
       "2     3\n",
       "3     4\n",
       "dtype: int64"
      ]
     },
     "execution_count": 40,
     "metadata": {},
     "output_type": "execute_result"
    }
   ],
   "source": [
    "# 값 대체\n",
    "s1[0] = 99\n",
    "s1"
   ]
  },
  {
   "cell_type": "code",
   "execution_count": 54,
   "id": "31d7fc33-82b6-4a46-a062-e5096de5fe9c",
   "metadata": {},
   "outputs": [
    {
     "data": {
      "text/plain": [
       "2    3\n",
       "3    4\n",
       "dtype: int64"
      ]
     },
     "execution_count": 54,
     "metadata": {},
     "output_type": "execute_result"
    }
   ],
   "source": [
    "# 값 삭제\n",
    "s1.drop([1])"
   ]
  },
  {
   "cell_type": "code",
   "execution_count": 56,
   "id": "2e82413d-5058-4bc8-93bb-bd486460b9cd",
   "metadata": {},
   "outputs": [
    {
     "data": {
      "text/plain": [
       "1    2\n",
       "2    3\n",
       "3    4\n",
       "dtype: int64"
      ]
     },
     "execution_count": 56,
     "metadata": {},
     "output_type": "execute_result"
    }
   ],
   "source": [
    "s1 #원본 변수 변동 없음"
   ]
  },
  {
   "cell_type": "code",
   "execution_count": 52,
   "id": "e7d5eddc-b4ab-4977-b7d1-6d773edafdad",
   "metadata": {},
   "outputs": [
    {
     "data": {
      "text/plain": [
       "1    2\n",
       "2    3\n",
       "3    4\n",
       "dtype: int64"
      ]
     },
     "execution_count": 52,
     "metadata": {},
     "output_type": "execute_result"
    }
   ],
   "source": [
    "s1.drop(0, inplace = True) #원본변수에 수정\n",
    "s1"
   ]
  },
  {
   "cell_type": "code",
   "execution_count": 66,
   "id": "1e354419-a3a2-4805-8666-f3bd40f0346b",
   "metadata": {},
   "outputs": [
    {
     "data": {
      "text/plain": [
       "a    1\n",
       "b    2\n",
       "c    3\n",
       "d    4\n",
       "e    5\n",
       "dtype: int64"
      ]
     },
     "execution_count": 66,
     "metadata": {},
     "output_type": "execute_result"
    }
   ],
   "source": [
    "# index 이름 지정\n",
    "s4 = pd.Series([1,2,3,4,5], index = ['a','b','c','d','e'])\n",
    "s4"
   ]
  },
  {
   "cell_type": "code",
   "execution_count": 68,
   "id": "0abc21db-b6dc-4abc-9394-4988b87a29bf",
   "metadata": {},
   "outputs": [
    {
     "data": {
      "text/plain": [
       "Index(['a', 'b', 'c', 'd', 'e'], dtype='object')"
      ]
     },
     "execution_count": 68,
     "metadata": {},
     "output_type": "execute_result"
    }
   ],
   "source": [
    "s4.index"
   ]
  },
  {
   "cell_type": "code",
   "execution_count": 70,
   "id": "6f98766f-a556-421a-9c69-71639966beb0",
   "metadata": {},
   "outputs": [
    {
     "name": "stderr",
     "output_type": "stream",
     "text": [
      "C:\\Users\\campus4D037\\AppData\\Local\\Temp\\ipykernel_22000\\3490946278.py:1: FutureWarning: Series.__getitem__ treating keys as positions is deprecated. In a future version, integer keys will always be treated as labels (consistent with DataFrame behavior). To access a value by position, use `ser.iloc[pos]`\n",
      "  s4[4]\n"
     ]
    },
    {
     "data": {
      "text/plain": [
       "5"
      ]
     },
     "execution_count": 70,
     "metadata": {},
     "output_type": "execute_result"
    }
   ],
   "source": [
    "s4[4]"
   ]
  },
  {
   "cell_type": "code",
   "execution_count": 72,
   "id": "48bad7d8-9e87-42d5-923c-e44e8b8fddee",
   "metadata": {},
   "outputs": [
    {
     "data": {
      "text/plain": [
       "3"
      ]
     },
     "execution_count": 72,
     "metadata": {},
     "output_type": "execute_result"
    }
   ],
   "source": [
    "s4['c'] #인덱싱의 이름으로 indexing"
   ]
  },
  {
   "cell_type": "code",
   "execution_count": 78,
   "id": "90957cae-e1bc-4eb4-900c-bd2944204f83",
   "metadata": {},
   "outputs": [
    {
     "data": {
      "text/plain": [
       "name    둘리\n",
       "age     34\n",
       "area    서울\n",
       "dtype: object"
      ]
     },
     "execution_count": 78,
     "metadata": {},
     "output_type": "execute_result"
    }
   ],
   "source": [
    "# dictionary 로 series구성\n",
    "s5 = pd.Series({'name' : '둘리', 'age': 34, 'area': '서울'})\n",
    "s5"
   ]
  },
  {
   "cell_type": "code",
   "execution_count": 84,
   "id": "adf2164c-5a7b-42a2-9454-4715740c64da",
   "metadata": {},
   "outputs": [
    {
     "data": {
      "text/plain": [
       "이름      둘리\n",
       "age     34\n",
       "area    서울\n",
       "dtype: object"
      ]
     },
     "execution_count": 84,
     "metadata": {},
     "output_type": "execute_result"
    }
   ],
   "source": [
    "s6 = s5.rename(index = {'name' : '이름'})\n",
    "s6"
   ]
  },
  {
   "cell_type": "code",
   "execution_count": 102,
   "id": "68f67d5e-88a1-4aa5-b5d3-99093d55a94e",
   "metadata": {},
   "outputs": [
    {
     "name": "stdout",
     "output_type": "stream",
     "text": [
      "이름       둘리\n",
      "age      34\n",
      "area     서울\n",
      "친구      희동이\n",
      "dtype: object\n",
      "이름      둘리\n",
      "age     34\n",
      "area    서울\n",
      "dtype: object\n"
     ]
    }
   ],
   "source": [
    "s5.rename(index = {'name' : '이름'}, inplace = True)\n",
    "print(s5)\n",
    "print(s6)"
   ]
  },
  {
   "cell_type": "code",
   "execution_count": 92,
   "id": "88ab4059-eb59-4f41-9bd9-966652aa3278",
   "metadata": {},
   "outputs": [
    {
     "data": {
      "text/plain": [
       "name     둘리\n",
       "age      34\n",
       "area     서울\n",
       "친구      희동이\n",
       "dtype: object"
      ]
     },
     "execution_count": 92,
     "metadata": {},
     "output_type": "execute_result"
    }
   ],
   "source": [
    "#새로운 값(인덱스)추가\n",
    "s5['친구'] = '희동이'\n",
    "s5"
   ]
  },
  {
   "cell_type": "code",
   "execution_count": null,
   "id": "5a55bc48-20c4-418c-8f91-37c6609db258",
   "metadata": {},
   "outputs": [],
   "source": []
  }
 ],
 "metadata": {
  "kernelspec": {
   "display_name": "Python 3 (ipykernel)",
   "language": "python",
   "name": "python3"
  },
  "language_info": {
   "codemirror_mode": {
    "name": "ipython",
    "version": 3
   },
   "file_extension": ".py",
   "mimetype": "text/x-python",
   "name": "python",
   "nbconvert_exporter": "python",
   "pygments_lexer": "ipython3",
   "version": "3.11.7"
  }
 },
 "nbformat": 4,
 "nbformat_minor": 5
}
