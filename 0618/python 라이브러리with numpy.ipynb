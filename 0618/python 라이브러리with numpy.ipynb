{
 "cells": [
  {
   "cell_type": "markdown",
   "id": "3b49ad57-d054-4cd5-b60a-3ec15e7391a0",
   "metadata": {},
   "source": [
    "# 데이터 분석 라이브러리\n",
    "\n",
    "- numpy : 연속형, 수치형 자료 과학/수학/통계 연산을 수행하는 라이브러리 for 딥러닝/비정형 data 다루는 데 쓰임\n",
    "- pandas : 정형데이터(excle, csv, sQL)등 을 다룸\n",
    "- matplot : for 시각화\n",
    "- seaborn : 정형데이터 통계 분석 시각화 lib\n",
    "- plotlly : 정형데이터 동적(반응형) 시각화 lib\n",
    "- missingno : 별측치 패턴, 수, 시각화 lib\n",
    "- scipy : science + python 응용통계 (가설검정/ 회귀분석 / 시계열) lib\n",
    "- scikit : science + python + toolkit + learning 정형데이터를 이용한 머신러닝 lib\n",
    "- tenserflow : 딥러닝용 비정형 데이터 lib\n",
    "- keras : tenserflow기반 딥러닝 lib\n",
    "- pytorch : 비정형 데이터 관련 lib\n",
    "- konlpy : 한국어 자연어 처리 lib"
   ]
  },
  {
   "cell_type": "markdown",
   "id": "c425cc7d-0b18-4033-ab20-4999e45329c4",
   "metadata": {},
   "source": [
    "# numpy\n",
    "- numeric + python\n",
    "- 정형데이터의 기본이 되는 초기 data 분석에 쓰임 지금은 비정형데이터 분석에 쓰임"
   ]
  },
  {
   "cell_type": "code",
   "execution_count": 3,
   "id": "5a059c1e-1cc3-4aff-8f8e-baa9bba64dcf",
   "metadata": {},
   "outputs": [],
   "source": [
    "import numpy as np"
   ]
  },
  {
   "cell_type": "code",
   "execution_count": 5,
   "id": "ca19c8d3-8946-4d71-8ca0-9282b50e8a76",
   "metadata": {},
   "outputs": [
    {
     "ename": "AttributeError",
     "evalue": "'list' object has no attribute 'mean'",
     "output_type": "error",
     "traceback": [
      "\u001b[1;31m---------------------------------------------------------------------------\u001b[0m",
      "\u001b[1;31mAttributeError\u001b[0m                            Traceback (most recent call last)",
      "Cell \u001b[1;32mIn[5], line 2\u001b[0m\n\u001b[0;32m      1\u001b[0m \u001b[38;5;28mlist\u001b[39m\u001b[38;5;241m=\u001b[39m [\u001b[38;5;241m1\u001b[39m,\u001b[38;5;241m1\u001b[39m,\u001b[38;5;241m2\u001b[39m]\n\u001b[1;32m----> 2\u001b[0m \u001b[38;5;28mlist\u001b[39m\u001b[38;5;241m.\u001b[39mmean()\n",
      "\u001b[1;31mAttributeError\u001b[0m: 'list' object has no attribute 'mean'"
     ]
    }
   ],
   "source": [
    "list= [1,1,2]\n",
    "list.mean()\n",
    "#error"
   ]
  },
  {
   "cell_type": "code",
   "execution_count": 23,
   "id": "04d98461-ab49-472f-addd-343619b9e577",
   "metadata": {},
   "outputs": [
    {
     "data": {
      "text/plain": [
       "numpy.ndarray"
      ]
     },
     "execution_count": 23,
     "metadata": {},
     "output_type": "execute_result"
    }
   ],
   "source": [
    "data1= np.array([1,2,3])\n",
    "type(data1)\n",
    "\n",
    "#ndarray 몇 차원인지 n-dimensional"
   ]
  },
  {
   "cell_type": "code",
   "execution_count": 25,
   "id": "bbbd1ed6-e36b-4ae3-a318-81c76a9cfcb9",
   "metadata": {},
   "outputs": [
    {
     "data": {
      "text/plain": [
       "1"
      ]
     },
     "execution_count": 25,
     "metadata": {},
     "output_type": "execute_result"
    }
   ],
   "source": [
    "data1.ndim"
   ]
  },
  {
   "cell_type": "code",
   "execution_count": 31,
   "id": "bc6ac432-c389-4f0e-80f7-3b0e90ae3eea",
   "metadata": {},
   "outputs": [
    {
     "data": {
      "text/plain": [
       "1"
      ]
     },
     "execution_count": 31,
     "metadata": {},
     "output_type": "execute_result"
    }
   ],
   "source": [
    "np.array([1]).ndim"
   ]
  },
  {
   "cell_type": "code",
   "execution_count": 33,
   "id": "7d9ab198-30d7-405c-96b3-7cdcfb33c5da",
   "metadata": {},
   "outputs": [
    {
     "data": {
      "text/plain": [
       "1"
      ]
     },
     "execution_count": 33,
     "metadata": {},
     "output_type": "execute_result"
    }
   ],
   "source": [
    "np.array([1,2]).ndim"
   ]
  },
  {
   "cell_type": "code",
   "execution_count": 39,
   "id": "983f9469-3082-4df6-9c0f-1fb6ec2eb7fb",
   "metadata": {},
   "outputs": [],
   "source": [
    "# 0 : scala\n",
    "# 1 : vector\n",
    "# 2 : matrix"
   ]
  },
  {
   "cell_type": "code",
   "execution_count": 9,
   "id": "0d12e499-7640-4c4e-bc94-6a8b32e82be9",
   "metadata": {},
   "outputs": [
    {
     "data": {
      "text/plain": [
       "2.0"
      ]
     },
     "execution_count": 9,
     "metadata": {},
     "output_type": "execute_result"
    }
   ],
   "source": [
    "data1.mean()"
   ]
  },
  {
   "cell_type": "code",
   "execution_count": 11,
   "id": "b8ac0ac4-8d77-4b77-843b-56bc2a4b9cc5",
   "metadata": {},
   "outputs": [
    {
     "data": {
      "text/plain": [
       "0.6666666666666666"
      ]
     },
     "execution_count": 11,
     "metadata": {},
     "output_type": "execute_result"
    }
   ],
   "source": [
    "data1.var()"
   ]
  },
  {
   "cell_type": "code",
   "execution_count": 13,
   "id": "785e29e3-7e05-4d1b-b0d7-884dcf603a56",
   "metadata": {},
   "outputs": [
    {
     "data": {
      "text/plain": [
       "[0, 1, 2, 3, 4, 5, 6, 7, 8, 9, 10]"
      ]
     },
     "execution_count": 13,
     "metadata": {},
     "output_type": "execute_result"
    }
   ],
   "source": [
    "[x for x in range(0, 11)]"
   ]
  },
  {
   "cell_type": "code",
   "execution_count": 17,
   "id": "1f93050d-c9b9-4161-a067-d1b282d89e6d",
   "metadata": {},
   "outputs": [
    {
     "data": {
      "text/plain": [
       "array([0, 1, 2, 3, 4, 5, 6, 7, 8, 9])"
      ]
     },
     "execution_count": 17,
     "metadata": {},
     "output_type": "execute_result"
    }
   ],
   "source": [
    "np.arange(10)"
   ]
  },
  {
   "cell_type": "code",
   "execution_count": 19,
   "id": "d0852a35-5d23-4a15-8929-dd7725fdddb4",
   "metadata": {},
   "outputs": [
    {
     "data": {
      "text/plain": [
       "array([ 1,  4,  7, 10, 13, 16, 19])"
      ]
     },
     "execution_count": 19,
     "metadata": {},
     "output_type": "execute_result"
    }
   ],
   "source": [
    "np.arange(1, 20 ,3) #1부터 20까지 3의 간격으로 출력"
   ]
  },
  {
   "cell_type": "code",
   "execution_count": 41,
   "id": "aa55552f-94ea-46aa-90ae-8231ad53a1c5",
   "metadata": {},
   "outputs": [
    {
     "data": {
      "text/plain": [
       "array([ 1. ,  2.5,  4. ,  5.5,  7. ,  8.5, 10. ])"
      ]
     },
     "execution_count": 41,
     "metadata": {},
     "output_type": "execute_result"
    }
   ],
   "source": [
    "np.linspace(1,10,7)# 1부터 10 까지 7개로 쪼갬"
   ]
  },
  {
   "cell_type": "markdown",
   "id": "4353be90-1465-4606-839d-f780d0658a32",
   "metadata": {},
   "source": [
    "# 행렬"
   ]
  },
  {
   "cell_type": "code",
   "execution_count": 44,
   "id": "d517459f-3951-4cbb-b96d-9ec033d4873f",
   "metadata": {},
   "outputs": [
    {
     "data": {
      "text/plain": [
       "[[0, 0, 1], [0, 1, 0], [1, 0, 0]]"
      ]
     },
     "execution_count": 44,
     "metadata": {},
     "output_type": "execute_result"
    }
   ],
   "source": [
    "m1 = [ [0,0,1] , [0,1,0] , [1,0,0]]\n",
    "m1"
   ]
  },
  {
   "cell_type": "code",
   "execution_count": 46,
   "id": "7143acdb-8b13-4120-af3a-b152b70bb46a",
   "metadata": {},
   "outputs": [
    {
     "data": {
      "text/plain": [
       "array([[0, 0, 1],\n",
       "       [0, 1, 0],\n",
       "       [1, 0, 0]])"
      ]
     },
     "execution_count": 46,
     "metadata": {},
     "output_type": "execute_result"
    }
   ],
   "source": [
    "data1 = np.array(m1)\n",
    "data1"
   ]
  },
  {
   "cell_type": "code",
   "execution_count": 48,
   "id": "7bd9f394-d320-42cd-ba3b-7c5e8ce8d2af",
   "metadata": {},
   "outputs": [
    {
     "data": {
      "text/plain": [
       "numpy.ndarray"
      ]
     },
     "execution_count": 48,
     "metadata": {},
     "output_type": "execute_result"
    }
   ],
   "source": [
    "type(data1)"
   ]
  },
  {
   "cell_type": "code",
   "execution_count": 52,
   "id": "236ba2b8-0451-4775-aadb-789689fdfcc8",
   "metadata": {},
   "outputs": [
    {
     "data": {
      "text/plain": [
       "2"
      ]
     },
     "execution_count": 52,
     "metadata": {},
     "output_type": "execute_result"
    }
   ],
   "source": [
    "data1.ndim  # 2 = matrix"
   ]
  },
  {
   "cell_type": "code",
   "execution_count": 56,
   "id": "0a92c62a-72ef-4b54-b9bd-9a9bca80e251",
   "metadata": {},
   "outputs": [
    {
     "data": {
      "text/plain": [
       "array([[ 2,  4],\n",
       "       [ 6,  8],\n",
       "       [ 8, 10],\n",
       "       [10, 12]])"
      ]
     },
     "execution_count": 56,
     "metadata": {},
     "output_type": "execute_result"
    }
   ],
   "source": [
    "# 행렬의 연산\n",
    "\n",
    "data4 = np.array( [[1,2] , [3,4] , [4,5], [5,6]])\n",
    "data5 = np.array( [[1,2] , [3,4] , [4,5], [5,6]])\n",
    "\n",
    "data4 + data5"
   ]
  },
  {
   "cell_type": "code",
   "execution_count": 60,
   "id": "e6e90f20-2673-418e-abd2-e97f87987942",
   "metadata": {},
   "outputs": [
    {
     "name": "stdout",
     "output_type": "stream",
     "text": [
      "[[1 2]\n",
      " [3 4]\n",
      " [5 6]]\n",
      "[[1 2 3]\n",
      " [4 5 6]]\n"
     ]
    },
    {
     "data": {
      "text/plain": [
       "array([[ 9, 12, 15],\n",
       "       [19, 26, 33],\n",
       "       [29, 40, 51]])"
      ]
     },
     "execution_count": 60,
     "metadata": {},
     "output_type": "execute_result"
    }
   ],
   "source": [
    "# 행렬의 곱\n",
    "\n",
    "#앞 행과 뒷 행이 같아야 계산가능\n",
    "\n",
    "data6 = np.array( [[1,2] , [3,4] , [5,6]])\n",
    "data7 = np.array( [[1,2,3] , [4,5,6]])\n",
    "\n",
    "print(data6)\n",
    "print(data7)\n",
    "data6@data7\n"
   ]
  },
  {
   "cell_type": "code",
   "execution_count": 68,
   "id": "07f1cef7-a1be-4f2d-be5d-5e6266de1ec9",
   "metadata": {},
   "outputs": [
    {
     "data": {
      "text/plain": [
       "array([['a', 'b', 'c'],\n",
       "       ['d', 'e', 'f'],\n",
       "       ['g', 'h', 'f']], dtype='<U1')"
      ]
     },
     "execution_count": 68,
     "metadata": {},
     "output_type": "execute_result"
    }
   ],
   "source": [
    "# 매트릭스 인덱싱\n",
    "data9 = np.array( [['a','b','c'], ['d','e','f'] ,['g','h','f']])\n",
    "data9"
   ]
  },
  {
   "cell_type": "code",
   "execution_count": 72,
   "id": "18331492-76a8-4ef5-a820-458458a567a4",
   "metadata": {},
   "outputs": [
    {
     "data": {
      "text/plain": [
       "array(['a', 'b', 'c'], dtype='<U1')"
      ]
     },
     "execution_count": 72,
     "metadata": {},
     "output_type": "execute_result"
    }
   ],
   "source": [
    "data9[0]"
   ]
  },
  {
   "cell_type": "code",
   "execution_count": 74,
   "id": "003cceaa-b808-43a3-950c-90e0a116577a",
   "metadata": {},
   "outputs": [
    {
     "data": {
      "text/plain": [
       "array([['a', 'b', 'c']], dtype='<U1')"
      ]
     },
     "execution_count": 74,
     "metadata": {},
     "output_type": "execute_result"
    }
   ],
   "source": [
    "data9[:1]"
   ]
  },
  {
   "cell_type": "code",
   "execution_count": 78,
   "id": "471e14c6-d99f-4e60-91ba-313d49b4a7e8",
   "metadata": {},
   "outputs": [
    {
     "data": {
      "text/plain": [
       "array([['a', 'b', 'z'],\n",
       "       ['d', 'e', 'f'],\n",
       "       ['g', 'h', 'f']], dtype='<U2')"
      ]
     },
     "execution_count": 78,
     "metadata": {},
     "output_type": "execute_result"
    }
   ],
   "source": [
    "data9[0,2] = 'z'\n",
    "data9"
   ]
  },
  {
   "cell_type": "code",
   "execution_count": 76,
   "id": "66f5ad5d-df0a-4433-9a82-9230f2ba9069",
   "metadata": {},
   "outputs": [
    {
     "data": {
      "text/plain": [
       "array([['a', 'b', 'c'],\n",
       "       ['d', 'e', 'f'],\n",
       "       ['g', 'h', 'f']], dtype='<U2')"
      ]
     },
     "execution_count": 76,
     "metadata": {},
     "output_type": "execute_result"
    }
   ],
   "source": [
    "data9 = np.array(data9, dtype = '<U2')\n",
    "data9"
   ]
  },
  {
   "cell_type": "code",
   "execution_count": 80,
   "id": "65b51fc5-7cfb-425b-8037-24d5d2344e75",
   "metadata": {},
   "outputs": [
    {
     "data": {
      "text/plain": [
       "array([['a', 'b', 'a1'],\n",
       "       ['d', 'e', 'f'],\n",
       "       ['g', 'h', 'f']], dtype='<U2')"
      ]
     },
     "execution_count": 80,
     "metadata": {},
     "output_type": "execute_result"
    }
   ],
   "source": [
    "data9[0,2] = 'a1'\n",
    "data9"
   ]
  },
  {
   "cell_type": "code",
   "execution_count": 86,
   "id": "ecd135d2-7c34-4758-84db-0c0bd0736e90",
   "metadata": {},
   "outputs": [
    {
     "data": {
      "text/plain": [
       "array([['a', 'b', 'a1'],\n",
       "       ['d', 'e', 'f'],\n",
       "       ['g', 'h', 'f'],\n",
       "       ['1', '2', '3']], dtype='<U11')"
      ]
     },
     "execution_count": 86,
     "metadata": {},
     "output_type": "execute_result"
    }
   ],
   "source": [
    "#veritcla stack 세로줄 하나 추가\n",
    "np.vstack([data9, [1,2,3]])"
   ]
  },
  {
   "cell_type": "code",
   "execution_count": 100,
   "id": "216f9d89-3cea-4c50-94e8-afd92f610f47",
   "metadata": {},
   "outputs": [
    {
     "data": {
      "text/plain": [
       "array([['a', 'b', 'a1', '5'],\n",
       "       ['d', 'e', 'f', '6'],\n",
       "       ['g', 'h', 'f', '7']], dtype='<U11')"
      ]
     },
     "execution_count": 100,
     "metadata": {},
     "output_type": "execute_result"
    }
   ],
   "source": [
    "np.hstack([data9, [[5],[6],[7]]])"
   ]
  },
  {
   "cell_type": "markdown",
   "id": "00df4c85-f2e7-4f78-b1b6-51dcc9c04b5e",
   "metadata": {},
   "source": [
    "# 재구조화"
   ]
  },
  {
   "cell_type": "code",
   "execution_count": 103,
   "id": "0e84f270-f791-444c-a961-eeb3d44f8508",
   "metadata": {},
   "outputs": [
    {
     "data": {
      "text/plain": [
       "array([ 1, 25, 46, 89])"
      ]
     },
     "execution_count": 103,
     "metadata": {},
     "output_type": "execute_result"
    }
   ],
   "source": [
    "data8 = np.array([1,25,46,89])\n",
    "data8"
   ]
  },
  {
   "cell_type": "code",
   "execution_count": 105,
   "id": "6bbf8464-0066-46f3-8f88-a58ac64d4403",
   "metadata": {},
   "outputs": [
    {
     "data": {
      "text/plain": [
       "array([[ 1, 25],\n",
       "       [46, 89]])"
      ]
     },
     "execution_count": 105,
     "metadata": {},
     "output_type": "execute_result"
    }
   ],
   "source": [
    "data8.reshape(2,2) #재구조화"
   ]
  },
  {
   "cell_type": "code",
   "execution_count": 116,
   "id": "66890b16-e3da-4e1e-baeb-0d354e320fea",
   "metadata": {},
   "outputs": [
    {
     "data": {
      "text/plain": [
       "array([ 1.,  4.,  7., 10., 13., 16., 19., 22., 25.])"
      ]
     },
     "execution_count": 116,
     "metadata": {},
     "output_type": "execute_result"
    }
   ],
   "source": [
    "data9 = np.linspace(1,25,9)\n",
    "data9"
   ]
  },
  {
   "cell_type": "code",
   "execution_count": 122,
   "id": "a40b80fc-b231-4489-823c-915e6b22eb16",
   "metadata": {},
   "outputs": [
    {
     "data": {
      "text/plain": [
       "array([[ 1.,  4.,  7.],\n",
       "       [10., 13., 16.],\n",
       "       [19., 22., 25.]])"
      ]
     },
     "execution_count": 122,
     "metadata": {},
     "output_type": "execute_result"
    }
   ],
   "source": [
    "data9.reshape(3,3)"
   ]
  },
  {
   "cell_type": "code",
   "execution_count": 114,
   "id": "8bd3e53d-9dbe-46a1-b6de-0bab2593b194",
   "metadata": {},
   "outputs": [
    {
     "data": {
      "text/plain": [
       "array([[0.88796707, 0.99858867, 0.54645468],\n",
       "       [0.25820168, 0.840505  , 0.49914649]])"
      ]
     },
     "execution_count": 114,
     "metadata": {},
     "output_type": "execute_result"
    }
   ],
   "source": [
    "data11= np.random.rand(2,3)\n",
    "data11"
   ]
  },
  {
   "cell_type": "code",
   "execution_count": 120,
   "id": "d8d853d4-fec3-440d-b6a0-6fbc5876970a",
   "metadata": {},
   "outputs": [
    {
     "data": {
      "text/plain": [
       "4.0308635928187435"
      ]
     },
     "execution_count": 120,
     "metadata": {},
     "output_type": "execute_result"
    }
   ],
   "source": [
    "data11.sum()"
   ]
  },
  {
   "cell_type": "code",
   "execution_count": 124,
   "id": "5f286122-2be6-4af3-ba92-35828d8c9ef0",
   "metadata": {},
   "outputs": [
    {
     "data": {
      "text/plain": [
       "0.6718105988031239"
      ]
     },
     "execution_count": 124,
     "metadata": {},
     "output_type": "execute_result"
    }
   ],
   "source": [
    "data11.mean()"
   ]
  },
  {
   "cell_type": "code",
   "execution_count": 130,
   "id": "9b6802ca-6c04-4d59-a2ba-a2f5f3453a36",
   "metadata": {},
   "outputs": [
    {
     "data": {
      "text/plain": [
       "array([1.14616875, 1.83909367, 1.04560117])"
      ]
     },
     "execution_count": 130,
     "metadata": {},
     "output_type": "execute_result"
    }
   ],
   "source": [
    "data11.sum(axis = 0) #열단위 합"
   ]
  },
  {
   "cell_type": "code",
   "execution_count": 132,
   "id": "9bcab325-3a44-4da7-9f92-3c053fd337a8",
   "metadata": {},
   "outputs": [
    {
     "data": {
      "text/plain": [
       "array([2.43301042, 1.59785318])"
      ]
     },
     "execution_count": 132,
     "metadata": {},
     "output_type": "execute_result"
    }
   ],
   "source": [
    "data11.sum(axis = 1) #행단위 합"
   ]
  },
  {
   "cell_type": "code",
   "execution_count": 134,
   "id": "d61a707a-e506-4f67-a87a-ebb5695c5bd6",
   "metadata": {},
   "outputs": [
    {
     "data": {
      "text/plain": [
       "array([0.57308438, 0.91954684, 0.52280058])"
      ]
     },
     "execution_count": 134,
     "metadata": {},
     "output_type": "execute_result"
    }
   ],
   "source": [
    "data11.mean(axis = 0) #열단위 평균"
   ]
  },
  {
   "cell_type": "code",
   "execution_count": 136,
   "id": "8ef67bff-afce-4856-9d43-775b8b475446",
   "metadata": {},
   "outputs": [
    {
     "data": {
      "text/plain": [
       "array([0.81100347, 0.53261773])"
      ]
     },
     "execution_count": 136,
     "metadata": {},
     "output_type": "execute_result"
    }
   ],
   "source": [
    "data11.mean(axis = 1) #행단위 평균"
   ]
  },
  {
   "cell_type": "code",
   "execution_count": 138,
   "id": "5310f992-e57b-48d0-b8d7-9b542e4180d4",
   "metadata": {},
   "outputs": [
    {
     "data": {
      "text/plain": [
       "0.9985886702147649"
      ]
     },
     "execution_count": 138,
     "metadata": {},
     "output_type": "execute_result"
    }
   ],
   "source": [
    "data11.max()"
   ]
  },
  {
   "cell_type": "code",
   "execution_count": 140,
   "id": "8e243efb-0159-4f74-9623-459caeb735a6",
   "metadata": {},
   "outputs": [
    {
     "data": {
      "text/plain": [
       "array([0.88796707, 0.99858867, 0.54645468])"
      ]
     },
     "execution_count": 140,
     "metadata": {},
     "output_type": "execute_result"
    }
   ],
   "source": [
    "data11.max(axis = 0) #열단위 평균"
   ]
  },
  {
   "cell_type": "code",
   "execution_count": 146,
   "id": "872d7fcb-edd8-494c-a5a9-067a0e5aee04",
   "metadata": {},
   "outputs": [
    {
     "data": {
      "text/plain": [
       "array([0.99858867, 0.840505  ])"
      ]
     },
     "execution_count": 146,
     "metadata": {},
     "output_type": "execute_result"
    }
   ],
   "source": [
    "data11.max(axis = 1) #행단위 평균"
   ]
  },
  {
   "cell_type": "code",
   "execution_count": null,
   "id": "dbc27b2c-e00b-4dfa-a911-6fc0c49565ec",
   "metadata": {},
   "outputs": [],
   "source": []
  }
 ],
 "metadata": {
  "kernelspec": {
   "display_name": "Python 3 (ipykernel)",
   "language": "python",
   "name": "python3"
  },
  "language_info": {
   "codemirror_mode": {
    "name": "ipython",
    "version": 3
   },
   "file_extension": ".py",
   "mimetype": "text/x-python",
   "name": "python",
   "nbconvert_exporter": "python",
   "pygments_lexer": "ipython3",
   "version": "3.11.7"
  }
 },
 "nbformat": 4,
 "nbformat_minor": 5
}
