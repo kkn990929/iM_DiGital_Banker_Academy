{
 "cells": [
  {
   "cell_type": "markdown",
   "id": "8392f2f3-8f6e-4f92-9501-4a264d0dc6aa",
   "metadata": {},
   "source": [
    "# Jupyter notebook 사용법"
   ]
  },
  {
   "cell_type": "markdown",
   "id": "df147412-52d9-4d72-8927-7cd584fb5026",
   "metadata": {},
   "source": [
    "- cell : 코드를 실행하는 하나의 작은 상자\n"
   ]
  },
  {
   "cell_type": "markdown",
   "id": "d0ca21da-2c84-4c1a-b037-af577b21ac6e",
   "metadata": {
    "jp-MarkdownHeadingCollapsed": true
   },
   "source": [
    "# Python기초 문법\n",
    "- 변수 : 데이터를 담는 상자"
   ]
  },
  {
   "cell_type": "code",
   "execution_count": 3,
   "id": "a3f0e9da-ea2b-47d7-91aa-cc96c7c14645",
   "metadata": {},
   "outputs": [],
   "source": [
    "data1 = 100"
   ]
  },
  {
   "cell_type": "code",
   "execution_count": 5,
   "id": "86f8f559-45bd-47e0-bfa8-75150bad8c8d",
   "metadata": {},
   "outputs": [],
   "source": [
    "data2 = 200"
   ]
  },
  {
   "cell_type": "code",
   "execution_count": 7,
   "id": "e883f7a9-81d7-4e9f-8127-14ba86254c5b",
   "metadata": {},
   "outputs": [
    {
     "data": {
      "text/plain": [
       "-100"
      ]
     },
     "execution_count": 7,
     "metadata": {},
     "output_type": "execute_result"
    }
   ],
   "source": [
    "data1 - data2"
   ]
  },
  {
   "cell_type": "markdown",
   "id": "09d12006-40a9-4137-8e39-f803041114ba",
   "metadata": {
    "jp-MarkdownHeadingCollapsed": true
   },
   "source": [
    "# 자료구조\n",
    "- 리스트 : []\n",
    "- 튜플 : {}\n",
    "- 세트 : ()\n",
    "- 딕셔너리 : (key1 : value1 , Key2 : value2 ,...)"
   ]
  },
  {
   "cell_type": "code",
   "execution_count": 3,
   "id": "057e07b1-bf08-4530-af9c-4432bc982e7e",
   "metadata": {},
   "outputs": [
    {
     "name": "stdin",
     "output_type": "stream",
     "text": [
      "입력하시오 sdaf\n"
     ]
    }
   ],
   "source": [
    "input1 = input('입력하시오')"
   ]
  },
  {
   "cell_type": "code",
   "execution_count": 5,
   "id": "2b43040a-b02c-4d9d-8b42-432561893780",
   "metadata": {},
   "outputs": [
    {
     "data": {
      "text/plain": [
       "str"
      ]
     },
     "execution_count": 5,
     "metadata": {},
     "output_type": "execute_result"
    }
   ],
   "source": [
    "type(input1)"
   ]
  },
  {
   "cell_type": "code",
   "execution_count": 9,
   "id": "68d1e9d5-33c5-42b5-b6b2-acdfddd48266",
   "metadata": {},
   "outputs": [
    {
     "name": "stdin",
     "output_type": "stream",
     "text": [
      "숫자를 입력 5\n"
     ]
    }
   ],
   "source": [
    "input2 = int(input('숫자를 입력'))"
   ]
  },
  {
   "cell_type": "code",
   "execution_count": 11,
   "id": "a4a82966-9e4e-460b-80c4-25636e352d82",
   "metadata": {},
   "outputs": [
    {
     "data": {
      "text/plain": [
       "int"
      ]
     },
     "execution_count": 11,
     "metadata": {},
     "output_type": "execute_result"
    }
   ],
   "source": [
    "type(input2)"
   ]
  },
  {
   "cell_type": "markdown",
   "id": "aaa20ba0-5e47-404e-91c8-4bafac19ff08",
   "metadata": {
    "jp-MarkdownHeadingCollapsed": true
   },
   "source": [
    "# 조건문\n",
    "- if/ else / elif\n",
    "- in / not in\n",
    "- pass"
   ]
  },
  {
   "cell_type": "code",
   "execution_count": 14,
   "id": "c2fd01fd-e213-4aae-a8e6-6daba705bf3c",
   "metadata": {},
   "outputs": [
    {
     "name": "stdin",
     "output_type": "stream",
     "text": [
      " 50\n"
     ]
    },
    {
     "name": "stdout",
     "output_type": "stream",
     "text": [
      "30이상\n"
     ]
    }
   ],
   "source": [
    "data1 = int(input())\n",
    "if data1 > 30:\n",
    "    print('30이상')\n",
    "else :\n",
    "    print('30미만')"
   ]
  },
  {
   "cell_type": "markdown",
   "id": "ae6663d4-d04b-4f6a-876b-6011c561c721",
   "metadata": {
    "jp-MarkdownHeadingCollapsed": true
   },
   "source": [
    "# while"
   ]
  },
  {
   "cell_type": "code",
   "execution_count": 17,
   "id": "c95c0176-045f-4ac0-ac96-6b4eaf0579cc",
   "metadata": {},
   "outputs": [
    {
     "name": "stdout",
     "output_type": "stream",
     "text": [
      "1\n",
      "2\n",
      "3\n",
      "4\n",
      "5\n",
      "6\n",
      "7\n",
      "8\n",
      "9\n",
      "10\n"
     ]
    }
   ],
   "source": [
    "data1 = 0\n",
    "while data1 < 10:\n",
    "    data1 = data1 + 1\n",
    "    #data1 =+1\n",
    "    print(data1)"
   ]
  },
  {
   "cell_type": "markdown",
   "id": "a6ef6342-8557-42c2-ab40-7d6dcb5e52e3",
   "metadata": {},
   "source": [
    "# for"
   ]
  },
  {
   "cell_type": "code",
   "execution_count": 20,
   "id": "8601c784-ced2-4365-b00e-37b60078a54e",
   "metadata": {},
   "outputs": [
    {
     "name": "stdout",
     "output_type": "stream",
     "text": [
      "a\n",
      "b\n",
      "c\n"
     ]
    }
   ],
   "source": [
    "for i in ['a','b','c']:\n",
    "    print(i)"
   ]
  },
  {
   "cell_type": "markdown",
   "id": "51e066b2-9df1-45b2-a8ce-232e81ce7387",
   "metadata": {},
   "source": [
    "# list comprehension"
   ]
  },
  {
   "cell_type": "code",
   "execution_count": 23,
   "id": "6004e40b-cea3-409a-89b0-bf899ec0f866",
   "metadata": {},
   "outputs": [
    {
     "data": {
      "text/plain": [
       "[0, 1, 2, 3, 4]"
      ]
     },
     "execution_count": 23,
     "metadata": {},
     "output_type": "execute_result"
    }
   ],
   "source": [
    "[x for x in range(5)] #"
   ]
  },
  {
   "cell_type": "code",
   "execution_count": 27,
   "id": "64cef0b7-0a39-4c27-95b3-81e9cf952b83",
   "metadata": {},
   "outputs": [
    {
     "name": "stdout",
     "output_type": "stream",
     "text": [
      "0\n",
      "1\n",
      "2\n",
      "3\n",
      "4\n"
     ]
    }
   ],
   "source": [
    "for i in range(5):\n",
    "    print(i)"
   ]
  },
  {
   "cell_type": "markdown",
   "id": "e57e8880-f1a5-438e-b79e-d3571795bcef",
   "metadata": {},
   "source": [
    "# 함수\n",
    "- def\n",
    "- return"
   ]
  },
  {
   "cell_type": "code",
   "execution_count": 30,
   "id": "4cefa7c0-7b7a-44b8-a250-7ab4a4336c75",
   "metadata": {},
   "outputs": [
    {
     "data": {
      "text/plain": [
       "202"
      ]
     },
     "execution_count": 30,
     "metadata": {},
     "output_type": "execute_result"
    }
   ],
   "source": [
    "def func1(x):\n",
    "    return x + 200\n",
    "\n",
    "func1(2)"
   ]
  },
  {
   "cell_type": "code",
   "execution_count": 38,
   "id": "cfcfaac3-9a8b-4e05-b685-578758c08d2f",
   "metadata": {},
   "outputs": [],
   "source": [
    "def func2(x1, x2, cond1 = True):\n",
    "    if cond1 == True:\n",
    "        return x1 + x2\n",
    "    else :\n",
    "        return x1 - x2\n",
    "\n"
   ]
  },
  {
   "cell_type": "code",
   "execution_count": 36,
   "id": "721f02a3-9fe5-4c14-ab20-a2f38d136a8f",
   "metadata": {},
   "outputs": [
    {
     "data": {
      "text/plain": [
       "-100"
      ]
     },
     "execution_count": 36,
     "metadata": {},
     "output_type": "execute_result"
    }
   ],
   "source": [
    "func2(100,200, False)"
   ]
  },
  {
   "cell_type": "code",
   "execution_count": 40,
   "id": "fc5e830d-687a-4333-9654-ef18a010c87d",
   "metadata": {},
   "outputs": [
    {
     "data": {
      "text/plain": [
       "300"
      ]
     },
     "execution_count": 40,
     "metadata": {},
     "output_type": "execute_result"
    }
   ],
   "source": [
    "func2(100,200)"
   ]
  },
  {
   "cell_type": "markdown",
   "id": "fd5ec25e-e672-478f-9093-c44edcabd82e",
   "metadata": {},
   "source": [
    "# 예외처리\n",
    "- try\n",
    "- except\n",
    "- finally"
   ]
  },
  {
   "cell_type": "code",
   "execution_count": 45,
   "id": "411661bf-6c04-4dfc-80fa-456e641f16c0",
   "metadata": {},
   "outputs": [
    {
     "name": "stdout",
     "output_type": "stream",
     "text": [
      "error\n",
      "[]\n",
      "done\n"
     ]
    }
   ],
   "source": [
    "try:\n",
    "    data1 = []\n",
    "    for i in range(1,6):\n",
    "        data.remove(1)\n",
    "        data.append(i)\n",
    "        print('no error')\n",
    "# 에러 발생시 except로\n",
    "except:\n",
    "    print('error')\n",
    "\n",
    "finally :\n",
    "    print(data1)\n",
    "    print('done')"
   ]
  }
 ],
 "metadata": {
  "kernelspec": {
   "display_name": "Python 3 (ipykernel)",
   "language": "python",
   "name": "python3"
  },
  "language_info": {
   "codemirror_mode": {
    "name": "ipython",
    "version": 3
   },
   "file_extension": ".py",
   "mimetype": "text/x-python",
   "name": "python",
   "nbconvert_exporter": "python",
   "pygments_lexer": "ipython3",
   "version": "3.11.7"
  }
 },
 "nbformat": 4,
 "nbformat_minor": 5
}
