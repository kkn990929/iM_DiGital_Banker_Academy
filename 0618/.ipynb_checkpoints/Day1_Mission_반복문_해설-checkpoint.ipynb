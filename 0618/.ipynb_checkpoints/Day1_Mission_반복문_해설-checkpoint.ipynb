{
 "cells": [
  {
   "cell_type": "markdown",
   "id": "158b6ef4-9b24-4da3-9281-1e4b4007c25e",
   "metadata": {},
   "source": [
    "# 미션 1\n",
    "- 아래의 미션을 Jupyter Notebook으로 푼 후 [File] - [Download as] - [HTML] 저장 제출\n",
    "- birdland1903@gmail.com\n",
    "- 제출양식 : Day1_Mission_반복문_홍길동\n",
    "- 처음 풀이 시, 30분 정도 구글링이나 Chat GPT 없이 풀이"
   ]
  },
  {
   "cell_type": "markdown",
   "id": "4ce98671-e8dc-46a0-88ad-3cdefe4407f3",
   "metadata": {},
   "source": [
    "## 1. for 반복문으로 특정 리스트 내의 모든 숫자 합을 계산하는 함수를 구성하시오\n",
    "\n",
    "- 숙련자 : input 함수를 이용하고, 함수로 구성"
   ]
  },
  {
   "cell_type": "code",
   "execution_count": 9,
   "id": "c49330a0-deb3-409d-88d0-d23bcbca23ae",
   "metadata": {},
   "outputs": [
    {
     "name": "stdout",
     "output_type": "stream",
     "text": [
      "0\n"
     ]
    }
   ],
   "source": [
    "# def sum_list(list):\n",
    "#     total = 0\n",
    "#     for i in list:\n",
    "#         total += i\n",
    "#     return total\n",
    "\n",
    "# list = [1,2,3,4,5]\n",
    "# print(sum_list(list))\n",
    "#\n",
    "\n",
    "list1 = [ x for x in range(0,101)]\n",
    "\n",
    "result1 = 0\n",
    "\n",
    "for i in list1:\n",
    "    resutl1 = result1 + i\n",
    "\n",
    "print(result1)\n"
   ]
  },
  {
   "cell_type": "code",
   "execution_count": 11,
   "id": "5ca00d43-69f8-43fa-8a6e-fb05be444ca7",
   "metadata": {},
   "outputs": [
    {
     "name": "stdin",
     "output_type": "stream",
     "text": [
      "숫자입력, 띄어쓰기로 구분 100 20 30\n"
     ]
    },
    {
     "data": {
      "text/plain": [
       "['100', '20', '30']"
      ]
     },
     "execution_count": 11,
     "metadata": {},
     "output_type": "execute_result"
    }
   ],
   "source": [
    "# 숙련자ver\n",
    "\n",
    "# input2 = int(input('숫자입력, 띄어쓰기로 구분'))\n",
    "input_number = input('숫자입력, 띄어쓰기로 구분')\n",
    "input_list = input_number.split(' ')\n",
    "input_list"
   ]
  },
  {
   "cell_type": "code",
   "execution_count": 15,
   "id": "4de2b723-4d4b-4479-af55-3be25952b7ba",
   "metadata": {},
   "outputs": [
    {
     "data": {
      "text/plain": [
       "[100, 20, 30]"
      ]
     },
     "execution_count": 15,
     "metadata": {},
     "output_type": "execute_result"
    }
   ],
   "source": [
    "[int(x) for x in input_list]"
   ]
  },
  {
   "cell_type": "code",
   "execution_count": 19,
   "id": "370e25b2-d10a-46bf-804a-ed7467aa8e0b",
   "metadata": {},
   "outputs": [
    {
     "name": "stdin",
     "output_type": "stream",
     "text": [
      "숫자입력, 띄어쓰기로 구분 100 20 30\n"
     ]
    },
    {
     "name": "stdout",
     "output_type": "stream",
     "text": [
      "150\n"
     ]
    }
   ],
   "source": [
    "input_number = input('숫자입력, 띄어쓰기로 구분')\n",
    "list1 = input_number.split(' ')\n",
    "list2 = [int(x) for x in list1]\n",
    "\n",
    "result1 = 0\n",
    "for i in list2:\n",
    "    result1 = result1 + i\n",
    "\n",
    "print(result1)"
   ]
  },
  {
   "cell_type": "markdown",
   "id": "9aaa1701-c700-4ebe-b404-bbfadaf3c887",
   "metadata": {},
   "source": [
    "## 2. for 반복문으로 특정 리스트 안에 있는 모든 숫자의 평균을 계산하는 함수를 구성하시오\n",
    "- 숙련자 : input 함수를 이용하고 함수로 구성"
   ]
  },
  {
   "cell_type": "code",
   "execution_count": 27,
   "id": "63185585-fce9-4073-8c1c-d3c7d71e5f43",
   "metadata": {},
   "outputs": [
    {
     "data": {
      "text/plain": [
       "3.0"
      ]
     },
     "execution_count": 27,
     "metadata": {},
     "output_type": "execute_result"
    }
   ],
   "source": [
    "# 내 풀이\n",
    "# def funcave(list):\n",
    "#     total = 0\n",
    "#     for i in list:\n",
    "#         total = total + i\n",
    "#         avg = total/len(list)\n",
    "#     return avg\n",
    "\n",
    "# list = [10,2,9]\n",
    "# print(funcave(list))\n",
    "\n",
    "list1 = [x for x in range(1,6)]\n",
    "         \n",
    "sum(list1) / len(list1)\n"
   ]
  },
  {
   "cell_type": "code",
   "execution_count": 29,
   "id": "fca3f808-399c-47a0-ab3e-be3259a238fa",
   "metadata": {},
   "outputs": [
    {
     "name": "stdin",
     "output_type": "stream",
     "text": [
      "숫자입력 5 3 1\n"
     ]
    },
    {
     "name": "stdout",
     "output_type": "stream",
     "text": [
      "3.0\n"
     ]
    }
   ],
   "source": [
    "#숙련자\n",
    "\n",
    "input_number = input('숫자입력')\n",
    "list1 = input_number.split(' ')\n",
    "list2 = [int(x) for x in list1]\n",
    "\n",
    "print(sum(list2)/len(list2))"
   ]
  },
  {
   "cell_type": "markdown",
   "id": "999676c0-45fa-4e09-be49-9a3c07e26348",
   "metadata": {},
   "source": [
    "## 3. 성적처리 함수를 만들고자 한다.\n",
    "- 학생이 입력한 값의 평균을 계산해서 90점 이상이면 A / 80점 이상이면 B / 70점 이상이면 C / 나머지는 D 를 출력하는 함수를 구성\n",
    "    - 입력값 (input) / 5개의 숫자 값을 입력 / 띄어쓰기로 구분하여 입력\n",
    "    - 입력값에 학생이름도 포함\n",
    "        - ex) 홍길동 100 90 54 90 34\n",
    "    - 출력 : 홍길동 학생의 평균은 00 입니다. 학점은 00입니다."
   ]
  },
  {
   "cell_type": "code",
   "execution_count": 31,
   "id": "5dca6de3-bcb8-4abc-b7f3-b26df56e39c3",
   "metadata": {},
   "outputs": [],
   "source": [
    "# def cal_stu(input_data):\n",
    "#     data = input_data.split(' ')\n",
    "#     student_name = input_data[0]   \n",
    "#     scores = list(map(int, data[1:]))\n",
    "    \n",
    "    \n",
    "#     avg = sum(scores)/len(scores)\n",
    "\n",
    "\n",
    "# def score(student_name, avg):\n",
    "#     if avg >= 90:\n",
    "#         score = 'A'\n",
    "#     elif avg >= 80:\n",
    "#         score = 'B'\n",
    "#     elif avg >= 70:\n",
    "#         score = 'C'\n",
    "#     else: \n",
    "#         score = 'D'\n",
    "# f'{name} 학생의 평균은 {avg} 입니다. 학점은 {score}입니다.'\n",
    "\n",
    "# cal_stu('홍길동', 1, 2, 5, 5, 4)\n",
    "\n",
    "# input_data = \"홍길동, 1, 2, 5, 5, 4\"\n",
    "# cal_stu(input_data)"
   ]
  },
  {
   "cell_type": "code",
   "execution_count": 33,
   "id": "82054f0a-cfc4-4e9b-8674-5e787a7fbf42",
   "metadata": {},
   "outputs": [],
   "source": [
    "def cal_stu(input_data):\n",
    "    data = input_data.split(' ')\n",
    "    student_name = input_data[0]   \n",
    "    scores = list(map(int, data[1:]))\n",
    "    \n",
    "    \n",
    "    avg = sum(scores)/len(scores)\n",
    "    if avg >= 90:\n",
    "        return f'{student_name}의 성적은 {avg}이고, \"A\"입니다'\n",
    "        "
   ]
  },
  {
   "cell_type": "code",
   "execution_count": 15,
   "id": "ee6de02c-146d-4474-bd4d-9872c27ba843",
   "metadata": {},
   "outputs": [
    {
     "data": {
      "text/plain": [
       "'홍의 성적은 95.0이고, \"A\"입니다'"
      ]
     },
     "execution_count": 15,
     "metadata": {},
     "output_type": "execute_result"
    }
   ],
   "source": [
    "cal_stu('홍 100 90')"
   ]
  },
  {
   "cell_type": "code",
   "execution_count": 37,
   "id": "5ca14f7e-d8ea-48cd-a6ff-c2df6d0feac0",
   "metadata": {},
   "outputs": [
    {
     "name": "stdin",
     "output_type": "stream",
     "text": [
      "이름과 성적5개 입력 asd 1 1 1 1 1\n"
     ]
    },
    {
     "data": {
      "text/plain": [
       "'asd 1 1 1 1 1'"
      ]
     },
     "execution_count": 37,
     "metadata": {},
     "output_type": "execute_result"
    }
   ],
   "source": [
    "input_data = input('이름과 성적5개 입력')\n",
    "input_data"
   ]
  },
  {
   "cell_type": "code",
   "execution_count": 41,
   "id": "500430f5-a2d1-4d66-996c-65f7fdd2f72a",
   "metadata": {},
   "outputs": [
    {
     "data": {
      "text/plain": [
       "['asd', '1', '1', '1', '1', '1']"
      ]
     },
     "execution_count": 41,
     "metadata": {},
     "output_type": "execute_result"
    }
   ],
   "source": [
    "list1 = input_data.split(' ')\n",
    "list1"
   ]
  },
  {
   "cell_type": "code",
   "execution_count": 45,
   "id": "e027b00e-598b-477a-a6db-a1db691db584",
   "metadata": {},
   "outputs": [
    {
     "data": {
      "text/plain": [
       "['1', '1', '1', '1', '1']"
      ]
     },
     "execution_count": 45,
     "metadata": {},
     "output_type": "execute_result"
    }
   ],
   "source": [
    "name = list1[0]\n",
    "scores = list1[1:] #1번 인덱스 부터 끝까지\n",
    "\n",
    "scores"
   ]
  },
  {
   "cell_type": "code",
   "execution_count": 47,
   "id": "04ad9b63-53ae-4980-bdc6-78a3ef61d0a5",
   "metadata": {},
   "outputs": [
    {
     "data": {
      "text/plain": [
       "[1, 1, 1, 1, 1]"
      ]
     },
     "execution_count": 47,
     "metadata": {},
     "output_type": "execute_result"
    }
   ],
   "source": [
    "scores_2 = [int(x) for x in scores]\n",
    "scores_2"
   ]
  },
  {
   "cell_type": "code",
   "execution_count": 51,
   "id": "2e628278-1b79-4ed4-a5fc-dde26d03e6a2",
   "metadata": {},
   "outputs": [
    {
     "name": "stdin",
     "output_type": "stream",
     "text": [
      "이름, 성적입력 asdf 100 100 100 100 100\n"
     ]
    },
    {
     "name": "stdout",
     "output_type": "stream",
     "text": [
      "asdf학생의 성적은 100.0이고, A입니다\n"
     ]
    }
   ],
   "source": [
    "input_data = input('이름, 성적입력')\n",
    "list1 = input_data.split(' ')\n",
    "name = list1[0]\n",
    "scores = [int(x)  for  x in list1[1:]]\n",
    "avg = sum(scores)/len(scores)\n",
    "\n",
    "if avg >= 90:\n",
    "    print(f'{name}학생의 성적은 {avg}이고, A입니다')\n",
    "elif avg >= 80:\n",
    "    print(f'{name}학생의 성적은 {avg}이고, B입니다')\n",
    "elif avg >= 70:\n",
    "    print(f'{name}학생의 성적은 {avg}이고, C입니다')\n",
    "else:\n",
    "    print(f'{name}학생의 성적은 {avg}이고, D입니다')\n"
   ]
  },
  {
   "cell_type": "markdown",
   "id": "ac884336-6fb9-4f7b-9fd2-d1972b5a0806",
   "metadata": {},
   "source": [
    "## 4. 윤년 / 평년을 판별하는 함수를 구성\n",
    "- 윤년 : 4의 배수에 해당하는 연도 AND 100으로 나눠지지 않는 연도 OR 400으로 나눠지는 연도\n",
    "- 평년 : 위 조건에 해당하지 않는 경우\n",
    "\n",
    "- 숙련자 : if문 없이 생성 : Dictionary로 구성"
   ]
  },
  {
   "cell_type": "code",
   "execution_count": 61,
   "id": "a696b74d-524f-4c04-8ec4-d1e0bea01568",
   "metadata": {},
   "outputs": [
    {
     "ename": "SyntaxError",
     "evalue": "cannot assign to expression here. Maybe you meant '==' instead of '='? (327470142.py, line 16)",
     "output_type": "error",
     "traceback": [
      "\u001b[1;36m  Cell \u001b[1;32mIn[61], line 16\u001b[1;36m\u001b[0m\n\u001b[1;33m    if year = ((year % 4 = 0) & ( year % 100 != 0)) | (year & 400 = 0):\u001b[0m\n\u001b[1;37m                ^\u001b[0m\n\u001b[1;31mSyntaxError\u001b[0m\u001b[1;31m:\u001b[0m cannot assign to expression here. Maybe you meant '==' instead of '='?\n"
     ]
    }
   ],
   "source": [
    "# 4의 배수 = year % 4 == 0\n",
    "# 100으로 나눠지지 않는다 = year % 100 == 0\n",
    "# 400으로 나눠진다 = year % 400 != 0\n",
    "\n",
    "year = int(input('년도를 입력하세요'))\n",
    "\n",
    "# if year % 4 == 0:\n",
    "#     year = '윤년'\n",
    "# elif year % 100 != 0:\n",
    "#     year = '윤년'\n",
    "# elif year // 400 == 0:\n",
    "#     year = '윤년'\n",
    "# else:\n",
    "#     year = '평년'\n",
    "\n",
    "if year = ((year % 4 = 0) & ( year % 100 != 0)) | (year & 400 = 0):\n",
    "print('윤년입니다')\n",
    "else :\n",
    "print('평년')\n",
    "\n"
   ]
  },
  {
   "cell_type": "code",
   "execution_count": 63,
   "id": "dd14f10e-f151-4636-a931-7c56f5b82778",
   "metadata": {},
   "outputs": [
    {
     "ename": "SyntaxError",
     "evalue": "invalid syntax (2915864619.py, line 2)",
     "output_type": "error",
     "traceback": [
      "\u001b[1;36m  Cell \u001b[1;32mIn[63], line 2\u001b[1;36m\u001b[0m\n\u001b[1;33m    dict1 = (True : '윤년' , False : '평년')\u001b[0m\n\u001b[1;37m                  ^\u001b[0m\n\u001b[1;31mSyntaxError\u001b[0m\u001b[1;31m:\u001b[0m invalid syntax\n"
     ]
    }
   ],
   "source": [
    "input_year = int(input('연도 입력'))\n",
    "dict1 = (True : '윤년' , False : '평년')\n",
    "cond1 = ((input_year % 4 == 0) & (input_year % 100 != 0)) | (year & 400 = 0):\n",
    "dict(cond1)"
   ]
  },
  {
   "cell_type": "code",
   "execution_count": null,
   "id": "2e65b7fe-9102-4dd3-be26-aa9d8d4cece4",
   "metadata": {},
   "outputs": [],
   "source": []
  }
 ],
 "metadata": {
  "kernelspec": {
   "display_name": "Python 3 (ipykernel)",
   "language": "python",
   "name": "python3"
  },
  "language_info": {
   "codemirror_mode": {
    "name": "ipython",
    "version": 3
   },
   "file_extension": ".py",
   "mimetype": "text/x-python",
   "name": "python",
   "nbconvert_exporter": "python",
   "pygments_lexer": "ipython3",
   "version": "3.11.7"
  }
 },
 "nbformat": 4,
 "nbformat_minor": 5
}
