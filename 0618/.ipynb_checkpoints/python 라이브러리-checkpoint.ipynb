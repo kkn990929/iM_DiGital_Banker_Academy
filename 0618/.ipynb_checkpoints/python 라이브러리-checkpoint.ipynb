{
 "cells": [
  {
   "cell_type": "markdown",
   "id": "3b49ad57-d054-4cd5-b60a-3ec15e7391a0",
   "metadata": {},
   "source": [
    "# 데이터 분석 라이브러리\n",
    "\n",
    "- numpy : 연속형, 수치형 자료 과학/수학/통계 연산을 수행하는 라이브러리 for 딥러닝/비정형 data 다루는 데 쓰임\n",
    "- pandas : 정형데이터(excle, csv, sQL)등 을 다룸\n",
    "- matplot : for 시각화\n",
    "- seaborn : 정형데이터 통계 분석 시각화 lib\n",
    "- plotlly : 정형데이터 동적(반응형) 시각화 lib\n",
    "- missingno : 별측치 패턴, 수, 시각화 lib\n",
    "- scipy : science + python 응용통계 (가설검정/ 회귀분석 / 시계열) lib\n",
    "- scikit : science + python + toolkit + learning 정형데이터를 이용한 머신러닝 lib\n",
    "- tenserflow : 딥러닝용 비정형 데이터 lib\n",
    "- keras : tenserflow기반 딥러닝 lib\n",
    "- pytorch : 비정형 데이터 관련 lib\n",
    "- konlpy : 한국어 자연어 처리 lib"
   ]
  },
  {
   "cell_type": "markdown",
   "id": "c425cc7d-0b18-4033-ab20-4999e45329c4",
   "metadata": {},
   "source": [
    "# numpy\n",
    "- numeric + python\n",
    "- 정형데이터의 기본이 되는 초기 data 분석에 쓰임 지금은 비정형데이터 분석에 쓰임"
   ]
  },
  {
   "cell_type": "code",
   "execution_count": 3,
   "id": "5a059c1e-1cc3-4aff-8f8e-baa9bba64dcf",
   "metadata": {},
   "outputs": [],
   "source": [
    "import numpy as np"
   ]
  },
  {
   "cell_type": "code",
   "execution_count": 5,
   "id": "ca19c8d3-8946-4d71-8ca0-9282b50e8a76",
   "metadata": {},
   "outputs": [
    {
     "ename": "AttributeError",
     "evalue": "'list' object has no attribute 'mean'",
     "output_type": "error",
     "traceback": [
      "\u001b[1;31m---------------------------------------------------------------------------\u001b[0m",
      "\u001b[1;31mAttributeError\u001b[0m                            Traceback (most recent call last)",
      "Cell \u001b[1;32mIn[5], line 2\u001b[0m\n\u001b[0;32m      1\u001b[0m \u001b[38;5;28mlist\u001b[39m\u001b[38;5;241m=\u001b[39m [\u001b[38;5;241m1\u001b[39m,\u001b[38;5;241m1\u001b[39m,\u001b[38;5;241m2\u001b[39m]\n\u001b[1;32m----> 2\u001b[0m \u001b[38;5;28mlist\u001b[39m\u001b[38;5;241m.\u001b[39mmean()\n",
      "\u001b[1;31mAttributeError\u001b[0m: 'list' object has no attribute 'mean'"
     ]
    }
   ],
   "source": [
    "list= [1,1,2]\n",
    "list.mean()\n",
    "#error"
   ]
  },
  {
   "cell_type": "code",
   "execution_count": 23,
   "id": "04d98461-ab49-472f-addd-343619b9e577",
   "metadata": {},
   "outputs": [
    {
     "data": {
      "text/plain": [
       "numpy.ndarray"
      ]
     },
     "execution_count": 23,
     "metadata": {},
     "output_type": "execute_result"
    }
   ],
   "source": [
    "data1= np.array([1,2,3])\n",
    "type(data1)\n",
    "\n",
    "#ndarray 몇 차원인지 n-dimensional"
   ]
  },
  {
   "cell_type": "code",
   "execution_count": 25,
   "id": "bbbd1ed6-e36b-4ae3-a318-81c76a9cfcb9",
   "metadata": {},
   "outputs": [
    {
     "data": {
      "text/plain": [
       "1"
      ]
     },
     "execution_count": 25,
     "metadata": {},
     "output_type": "execute_result"
    }
   ],
   "source": [
    "data1.ndim"
   ]
  },
  {
   "cell_type": "code",
   "execution_count": 31,
   "id": "bc6ac432-c389-4f0e-80f7-3b0e90ae3eea",
   "metadata": {},
   "outputs": [
    {
     "data": {
      "text/plain": [
       "1"
      ]
     },
     "execution_count": 31,
     "metadata": {},
     "output_type": "execute_result"
    }
   ],
   "source": [
    "np.array([1]).ndim"
   ]
  },
  {
   "cell_type": "code",
   "execution_count": 33,
   "id": "7d9ab198-30d7-405c-96b3-7cdcfb33c5da",
   "metadata": {},
   "outputs": [
    {
     "data": {
      "text/plain": [
       "1"
      ]
     },
     "execution_count": 33,
     "metadata": {},
     "output_type": "execute_result"
    }
   ],
   "source": [
    "np.array([1,2]).ndim"
   ]
  },
  {
   "cell_type": "code",
   "execution_count": 39,
   "id": "983f9469-3082-4df6-9c0f-1fb6ec2eb7fb",
   "metadata": {},
   "outputs": [],
   "source": [
    "# 0 : scala\n",
    "# 1 : vector\n",
    "# 2 : matrix"
   ]
  },
  {
   "cell_type": "code",
   "execution_count": 9,
   "id": "0d12e499-7640-4c4e-bc94-6a8b32e82be9",
   "metadata": {},
   "outputs": [
    {
     "data": {
      "text/plain": [
       "2.0"
      ]
     },
     "execution_count": 9,
     "metadata": {},
     "output_type": "execute_result"
    }
   ],
   "source": [
    "data1.mean()"
   ]
  },
  {
   "cell_type": "code",
   "execution_count": 11,
   "id": "b8ac0ac4-8d77-4b77-843b-56bc2a4b9cc5",
   "metadata": {},
   "outputs": [
    {
     "data": {
      "text/plain": [
       "0.6666666666666666"
      ]
     },
     "execution_count": 11,
     "metadata": {},
     "output_type": "execute_result"
    }
   ],
   "source": [
    "data1.var()"
   ]
  },
  {
   "cell_type": "code",
   "execution_count": 13,
   "id": "785e29e3-7e05-4d1b-b0d7-884dcf603a56",
   "metadata": {},
   "outputs": [
    {
     "data": {
      "text/plain": [
       "[0, 1, 2, 3, 4, 5, 6, 7, 8, 9, 10]"
      ]
     },
     "execution_count": 13,
     "metadata": {},
     "output_type": "execute_result"
    }
   ],
   "source": [
    "[x for x in range(0, 11)]"
   ]
  },
  {
   "cell_type": "code",
   "execution_count": 17,
   "id": "1f93050d-c9b9-4161-a067-d1b282d89e6d",
   "metadata": {},
   "outputs": [
    {
     "data": {
      "text/plain": [
       "array([0, 1, 2, 3, 4, 5, 6, 7, 8, 9])"
      ]
     },
     "execution_count": 17,
     "metadata": {},
     "output_type": "execute_result"
    }
   ],
   "source": [
    "np.arange(10)"
   ]
  },
  {
   "cell_type": "code",
   "execution_count": 19,
   "id": "d0852a35-5d23-4a15-8929-dd7725fdddb4",
   "metadata": {},
   "outputs": [
    {
     "data": {
      "text/plain": [
       "array([ 1,  4,  7, 10, 13, 16, 19])"
      ]
     },
     "execution_count": 19,
     "metadata": {},
     "output_type": "execute_result"
    }
   ],
   "source": [
    "np.arange(1, 20 ,3) #1부터 20까지 3의 간격으로 출력"
   ]
  },
  {
   "cell_type": "code",
   "execution_count": 21,
   "id": "aa55552f-94ea-46aa-90ae-8231ad53a1c5",
   "metadata": {},
   "outputs": [
    {
     "data": {
      "text/plain": [
       "array([ 1. ,  2.5,  4. ,  5.5,  7. ,  8.5, 10. ])"
      ]
     },
     "execution_count": 21,
     "metadata": {},
     "output_type": "execute_result"
    }
   ],
   "source": [
    "np.linspace(1,10,7)# 1부터 10 까지 7개로 쪼갬"
   ]
  }
 ],
 "metadata": {
  "kernelspec": {
   "display_name": "Python 3 (ipykernel)",
   "language": "python",
   "name": "python3"
  },
  "language_info": {
   "codemirror_mode": {
    "name": "ipython",
    "version": 3
   },
   "file_extension": ".py",
   "mimetype": "text/x-python",
   "name": "python",
   "nbconvert_exporter": "python",
   "pygments_lexer": "ipython3",
   "version": "3.11.7"
  }
 },
 "nbformat": 4,
 "nbformat_minor": 5
}
