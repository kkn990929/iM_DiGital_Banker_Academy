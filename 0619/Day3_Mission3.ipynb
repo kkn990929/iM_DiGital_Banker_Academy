{
 "cells": [
  {
   "cell_type": "markdown",
   "id": "16c80ff7-5b55-4030-a279-d5725916b28f",
   "metadata": {},
   "source": [
    "# 미션\n",
    "- 01_Data.csv 사용"
   ]
  },
  {
   "cell_type": "code",
   "execution_count": 8,
   "id": "005f92f1-d20e-401c-ac70-9ca33b23f556",
   "metadata": {},
   "outputs": [
    {
     "data": {
      "text/html": [
       "<div>\n",
       "<style scoped>\n",
       "    .dataframe tbody tr th:only-of-type {\n",
       "        vertical-align: middle;\n",
       "    }\n",
       "\n",
       "    .dataframe tbody tr th {\n",
       "        vertical-align: top;\n",
       "    }\n",
       "\n",
       "    .dataframe thead th {\n",
       "        text-align: right;\n",
       "    }\n",
       "</style>\n",
       "<table border=\"1\" class=\"dataframe\">\n",
       "  <thead>\n",
       "    <tr style=\"text-align: right;\">\n",
       "      <th></th>\n",
       "      <th>Index</th>\n",
       "      <th>Member_ID</th>\n",
       "      <th>Sales_Type</th>\n",
       "      <th>Contract_Type</th>\n",
       "      <th>Channel</th>\n",
       "      <th>Datetime</th>\n",
       "      <th>Term</th>\n",
       "      <th>Payment_Type</th>\n",
       "      <th>Product_Type</th>\n",
       "      <th>Amount_Month</th>\n",
       "      <th>Customer_Type</th>\n",
       "      <th>Age</th>\n",
       "      <th>Address1</th>\n",
       "      <th>Address2</th>\n",
       "      <th>State</th>\n",
       "      <th>Overdue_count</th>\n",
       "      <th>Overdue_Type</th>\n",
       "      <th>Gender</th>\n",
       "      <th>Credit_Rank</th>\n",
       "      <th>Bank</th>\n",
       "    </tr>\n",
       "  </thead>\n",
       "  <tbody>\n",
       "    <tr>\n",
       "      <th>0</th>\n",
       "      <td>1</td>\n",
       "      <td>66758234</td>\n",
       "      <td>렌탈</td>\n",
       "      <td>일반계약</td>\n",
       "      <td>영업방판</td>\n",
       "      <td>2022-05-05</td>\n",
       "      <td>60</td>\n",
       "      <td>CMS</td>\n",
       "      <td>DES-1</td>\n",
       "      <td>96900</td>\n",
       "      <td>개인</td>\n",
       "      <td>42.0</td>\n",
       "      <td>경기도</td>\n",
       "      <td>경기도</td>\n",
       "      <td>계약확정</td>\n",
       "      <td>0</td>\n",
       "      <td>없음</td>\n",
       "      <td>여자</td>\n",
       "      <td>9.0</td>\n",
       "      <td>새마을금고</td>\n",
       "    </tr>\n",
       "    <tr>\n",
       "      <th>1</th>\n",
       "      <td>2</td>\n",
       "      <td>66755948</td>\n",
       "      <td>렌탈</td>\n",
       "      <td>교체계약</td>\n",
       "      <td>영업방판</td>\n",
       "      <td>2023-02-19</td>\n",
       "      <td>60</td>\n",
       "      <td>카드이체</td>\n",
       "      <td>DES-1</td>\n",
       "      <td>102900</td>\n",
       "      <td>개인</td>\n",
       "      <td>39.0</td>\n",
       "      <td>경기도</td>\n",
       "      <td>경기도</td>\n",
       "      <td>계약확정</td>\n",
       "      <td>0</td>\n",
       "      <td>없음</td>\n",
       "      <td>남자</td>\n",
       "      <td>2.0</td>\n",
       "      <td>현대카드</td>\n",
       "    </tr>\n",
       "    <tr>\n",
       "      <th>2</th>\n",
       "      <td>3</td>\n",
       "      <td>66756657</td>\n",
       "      <td>렌탈</td>\n",
       "      <td>일반계약</td>\n",
       "      <td>홈쇼핑/방송</td>\n",
       "      <td>2022-02-27</td>\n",
       "      <td>60</td>\n",
       "      <td>CMS</td>\n",
       "      <td>DES-1</td>\n",
       "      <td>96900</td>\n",
       "      <td>개인</td>\n",
       "      <td>48.0</td>\n",
       "      <td>경기도</td>\n",
       "      <td>경기도</td>\n",
       "      <td>계약확정</td>\n",
       "      <td>0</td>\n",
       "      <td>없음</td>\n",
       "      <td>여자</td>\n",
       "      <td>8.0</td>\n",
       "      <td>우리은행</td>\n",
       "    </tr>\n",
       "    <tr>\n",
       "      <th>3</th>\n",
       "      <td>4</td>\n",
       "      <td>66423450</td>\n",
       "      <td>멤버십</td>\n",
       "      <td>멤버십3유형</td>\n",
       "      <td>재계약</td>\n",
       "      <td>2022-05-12</td>\n",
       "      <td>12</td>\n",
       "      <td>CMS</td>\n",
       "      <td>DES-1</td>\n",
       "      <td>66900</td>\n",
       "      <td>개인</td>\n",
       "      <td>39.0</td>\n",
       "      <td>경기도</td>\n",
       "      <td>경기도</td>\n",
       "      <td>계약확정</td>\n",
       "      <td>0</td>\n",
       "      <td>없음</td>\n",
       "      <td>남자</td>\n",
       "      <td>5.0</td>\n",
       "      <td>농협회원조합</td>\n",
       "    </tr>\n",
       "    <tr>\n",
       "      <th>4</th>\n",
       "      <td>5</td>\n",
       "      <td>66423204</td>\n",
       "      <td>멤버십</td>\n",
       "      <td>멤버십3유형</td>\n",
       "      <td>재계약</td>\n",
       "      <td>2022-05-09</td>\n",
       "      <td>12</td>\n",
       "      <td>CMS</td>\n",
       "      <td>DES-1</td>\n",
       "      <td>66900</td>\n",
       "      <td>개인</td>\n",
       "      <td>60.0</td>\n",
       "      <td>경기도</td>\n",
       "      <td>경기도</td>\n",
       "      <td>기간만료</td>\n",
       "      <td>12</td>\n",
       "      <td>있음</td>\n",
       "      <td>남자</td>\n",
       "      <td>8.0</td>\n",
       "      <td>농협회원조합</td>\n",
       "    </tr>\n",
       "    <tr>\n",
       "      <th>...</th>\n",
       "      <td>...</td>\n",
       "      <td>...</td>\n",
       "      <td>...</td>\n",
       "      <td>...</td>\n",
       "      <td>...</td>\n",
       "      <td>...</td>\n",
       "      <td>...</td>\n",
       "      <td>...</td>\n",
       "      <td>...</td>\n",
       "      <td>...</td>\n",
       "      <td>...</td>\n",
       "      <td>...</td>\n",
       "      <td>...</td>\n",
       "      <td>...</td>\n",
       "      <td>...</td>\n",
       "      <td>...</td>\n",
       "      <td>...</td>\n",
       "      <td>...</td>\n",
       "      <td>...</td>\n",
       "      <td>...</td>\n",
       "    </tr>\n",
       "    <tr>\n",
       "      <th>51296</th>\n",
       "      <td>51298</td>\n",
       "      <td>66579515</td>\n",
       "      <td>렌탈</td>\n",
       "      <td>프로모션계약</td>\n",
       "      <td>대형마트A</td>\n",
       "      <td>2022-02-28</td>\n",
       "      <td>60</td>\n",
       "      <td>CMS</td>\n",
       "      <td>DES-3A</td>\n",
       "      <td>96900</td>\n",
       "      <td>개인</td>\n",
       "      <td>47.0</td>\n",
       "      <td>경기도</td>\n",
       "      <td>경기도</td>\n",
       "      <td>계약확정</td>\n",
       "      <td>0</td>\n",
       "      <td>없음</td>\n",
       "      <td>남자</td>\n",
       "      <td>NaN</td>\n",
       "      <td>기업은행</td>\n",
       "    </tr>\n",
       "    <tr>\n",
       "      <th>51297</th>\n",
       "      <td>51299</td>\n",
       "      <td>66799558</td>\n",
       "      <td>렌탈</td>\n",
       "      <td>일반계약</td>\n",
       "      <td>대형마트A</td>\n",
       "      <td>2022-03-31</td>\n",
       "      <td>60</td>\n",
       "      <td>CMS</td>\n",
       "      <td>DES-1</td>\n",
       "      <td>96900</td>\n",
       "      <td>개인</td>\n",
       "      <td>42.0</td>\n",
       "      <td>경기도</td>\n",
       "      <td>경기도</td>\n",
       "      <td>계약확정</td>\n",
       "      <td>0</td>\n",
       "      <td>없음</td>\n",
       "      <td>여자</td>\n",
       "      <td>8.0</td>\n",
       "      <td>새마을금고</td>\n",
       "    </tr>\n",
       "    <tr>\n",
       "      <th>51298</th>\n",
       "      <td>51300</td>\n",
       "      <td>66799197</td>\n",
       "      <td>렌탈</td>\n",
       "      <td>프로모션계약</td>\n",
       "      <td>영업방판</td>\n",
       "      <td>2022-03-31</td>\n",
       "      <td>39</td>\n",
       "      <td>카드이체</td>\n",
       "      <td>ERA</td>\n",
       "      <td>120900</td>\n",
       "      <td>개인</td>\n",
       "      <td>65.0</td>\n",
       "      <td>서울특별시</td>\n",
       "      <td>서울특별시</td>\n",
       "      <td>계약확정</td>\n",
       "      <td>0</td>\n",
       "      <td>없음</td>\n",
       "      <td>여자</td>\n",
       "      <td>1.0</td>\n",
       "      <td>롯데카드</td>\n",
       "    </tr>\n",
       "    <tr>\n",
       "      <th>51299</th>\n",
       "      <td>51301</td>\n",
       "      <td>66792778</td>\n",
       "      <td>렌탈</td>\n",
       "      <td>일반계약</td>\n",
       "      <td>홈쇼핑/방송</td>\n",
       "      <td>2023-02-05</td>\n",
       "      <td>60</td>\n",
       "      <td>카드이체</td>\n",
       "      <td>DES-1</td>\n",
       "      <td>96900</td>\n",
       "      <td>개인</td>\n",
       "      <td>54.0</td>\n",
       "      <td>서울특별시</td>\n",
       "      <td>서울특별시</td>\n",
       "      <td>계약확정</td>\n",
       "      <td>0</td>\n",
       "      <td>없음</td>\n",
       "      <td>여자</td>\n",
       "      <td>2.0</td>\n",
       "      <td>롯데카드</td>\n",
       "    </tr>\n",
       "    <tr>\n",
       "      <th>51300</th>\n",
       "      <td>51302</td>\n",
       "      <td>66799607</td>\n",
       "      <td>렌탈</td>\n",
       "      <td>일반계약</td>\n",
       "      <td>홈쇼핑/방송</td>\n",
       "      <td>2022-04-23</td>\n",
       "      <td>60</td>\n",
       "      <td>CMS</td>\n",
       "      <td>DES-1</td>\n",
       "      <td>96900</td>\n",
       "      <td>개인</td>\n",
       "      <td>53.0</td>\n",
       "      <td>서울특별시</td>\n",
       "      <td>서울특별시</td>\n",
       "      <td>계약확정</td>\n",
       "      <td>0</td>\n",
       "      <td>없음</td>\n",
       "      <td>여자</td>\n",
       "      <td>8.0</td>\n",
       "      <td>신한은행</td>\n",
       "    </tr>\n",
       "  </tbody>\n",
       "</table>\n",
       "<p>51301 rows × 20 columns</p>\n",
       "</div>"
      ],
      "text/plain": [
       "       Index  Member_ID Sales_Type Contract_Type Channel    Datetime  Term  \\\n",
       "0          1   66758234         렌탈          일반계약    영업방판  2022-05-05    60   \n",
       "1          2   66755948         렌탈          교체계약    영업방판  2023-02-19    60   \n",
       "2          3   66756657         렌탈          일반계약  홈쇼핑/방송  2022-02-27    60   \n",
       "3          4   66423450        멤버십        멤버십3유형     재계약  2022-05-12    12   \n",
       "4          5   66423204        멤버십        멤버십3유형     재계약  2022-05-09    12   \n",
       "...      ...        ...        ...           ...     ...         ...   ...   \n",
       "51296  51298   66579515         렌탈        프로모션계약   대형마트A  2022-02-28    60   \n",
       "51297  51299   66799558         렌탈          일반계약   대형마트A  2022-03-31    60   \n",
       "51298  51300   66799197         렌탈        프로모션계약    영업방판  2022-03-31    39   \n",
       "51299  51301   66792778         렌탈          일반계약  홈쇼핑/방송  2023-02-05    60   \n",
       "51300  51302   66799607         렌탈          일반계약  홈쇼핑/방송  2022-04-23    60   \n",
       "\n",
       "      Payment_Type Product_Type  Amount_Month Customer_Type   Age Address1  \\\n",
       "0              CMS        DES-1         96900            개인  42.0      경기도   \n",
       "1             카드이체        DES-1        102900            개인  39.0      경기도   \n",
       "2              CMS        DES-1         96900            개인  48.0      경기도   \n",
       "3              CMS        DES-1         66900            개인  39.0      경기도   \n",
       "4              CMS        DES-1         66900            개인  60.0      경기도   \n",
       "...            ...          ...           ...           ...   ...      ...   \n",
       "51296          CMS       DES-3A         96900            개인  47.0      경기도   \n",
       "51297          CMS        DES-1         96900            개인  42.0      경기도   \n",
       "51298         카드이체          ERA        120900            개인  65.0    서울특별시   \n",
       "51299         카드이체        DES-1         96900            개인  54.0    서울특별시   \n",
       "51300          CMS        DES-1         96900            개인  53.0    서울특별시   \n",
       "\n",
       "      Address2 State  Overdue_count Overdue_Type Gender  Credit_Rank    Bank  \n",
       "0          경기도  계약확정              0           없음     여자          9.0   새마을금고  \n",
       "1          경기도  계약확정              0           없음     남자          2.0    현대카드  \n",
       "2          경기도  계약확정              0           없음     여자          8.0    우리은행  \n",
       "3          경기도  계약확정              0           없음     남자          5.0  농협회원조합  \n",
       "4          경기도  기간만료             12           있음     남자          8.0  농협회원조합  \n",
       "...        ...   ...            ...          ...    ...          ...     ...  \n",
       "51296      경기도  계약확정              0           없음     남자          NaN    기업은행  \n",
       "51297      경기도  계약확정              0           없음     여자          8.0   새마을금고  \n",
       "51298    서울특별시  계약확정              0           없음     여자          1.0    롯데카드  \n",
       "51299    서울특별시  계약확정              0           없음     여자          2.0    롯데카드  \n",
       "51300    서울특별시  계약확정              0           없음     여자          8.0    신한은행  \n",
       "\n",
       "[51301 rows x 20 columns]"
      ]
     },
     "execution_count": 8,
     "metadata": {},
     "output_type": "execute_result"
    }
   ],
   "source": [
    "import pandas as pd\n",
    "df1 = pd.read_csv('01_Data.csv')\n",
    "df1"
   ]
  },
  {
   "cell_type": "markdown",
   "id": "af455a38-07e6-4570-afea-af05e31a57b8",
   "metadata": {},
   "source": [
    "## 1. 데이터에서 고객들의 유입경로(Channel)을 분석하고자 한다. 유입경로(Channel)중 가장 많은 고객이 유입된 경로를 확인하시오."
   ]
  },
  {
   "cell_type": "code",
   "execution_count": 42,
   "id": "9f6b8796-ecad-4d05-b26f-fa636c00b5ca",
   "metadata": {},
   "outputs": [
    {
     "data": {
      "text/plain": [
       "Channel\n",
       "영업방판       23767\n",
       "홈쇼핑/방송     12977\n",
       "대형마트A       4725\n",
       "전문매장H       3227\n",
       "재계약         2193\n",
       "대형마트E       1497\n",
       "전문매장Z       1206\n",
       "전단홍보         560\n",
       "홈쇼핑/인터넷      375\n",
       "대형마트H        225\n",
       "직영유통사        188\n",
       "자체홈페이지       120\n",
       "대형마트C        119\n",
       "대형마트N         83\n",
       "직영계열사A        20\n",
       "직영계열사B        19\n",
       "Name: count, dtype: int64"
      ]
     },
     "execution_count": 42,
     "metadata": {},
     "output_type": "execute_result"
    }
   ],
   "source": [
    "df1['Channel'].value_counts()\n",
    "# print(df1['Channel'].max()) 하면 왜 홈쇼핑/인터넷이 나오는지?"
   ]
  },
  {
   "cell_type": "markdown",
   "id": "9728c45a-807d-49c5-85ff-f9109aac3cbd",
   "metadata": {},
   "source": [
    "## 2. 가장 많이 유입된 경로(Channel)에 계약된 월랜탈비용(Amount_Month)의 평균을 계산하시오. "
   ]
  },
  {
   "cell_type": "code",
   "execution_count": 38,
   "id": "2ec89e14-9347-471d-bf08-c36b4b6e2259",
   "metadata": {},
   "outputs": [
    {
     "data": {
      "text/plain": [
       "100322.79463121135"
      ]
     },
     "execution_count": 38,
     "metadata": {},
     "output_type": "execute_result"
    }
   ],
   "source": [
    "cond1 = (df1['Channel'] == '영업방판')\n",
    "df2 = df1.loc[cond1]\n",
    "\n",
    "mean_Amount_Month = df2['Amount_Month'].mean()\n",
    "mean_Amount_Month"
   ]
  },
  {
   "cell_type": "markdown",
   "id": "a5c1f4c3-3469-4436-8a78-f38945c9f3f7",
   "metadata": {},
   "source": [
    "## 3. 유입경로(Channel)에서 '대형마트A'로 유입된 고객들 중, 연체건수(Overdue_count)가 높은 상위 30명의 계약 명단을 추출하여 result4.xlsx 저장하시오."
   ]
  },
  {
   "cell_type": "code",
   "execution_count": 56,
   "id": "4c8c4f87-98a7-4e7d-ae1b-6a10c1107a67",
   "metadata": {},
   "outputs": [],
   "source": [
    "cond3 = (df1['Channel'] == '대형마트A')\n",
    "\n",
    "df3 = df1.loc[cond3]\n",
    "\n",
    "high_OC = df3.sort_values( by = ['Overdue_count'] , ascending = False).head(30).to_excel('result4.xlsx')\n"
   ]
  },
  {
   "cell_type": "markdown",
   "id": "2994953b-3ccc-4973-9b0d-aef03f2f877b",
   "metadata": {},
   "source": [
    "## 4. 유입 경로가 가장 많은 5개의 채널에 대해 데이터를 추출 "
   ]
  },
  {
   "cell_type": "code",
   "execution_count": 62,
   "id": "0cacdfbd-fbf7-410a-89e8-9c87fd112304",
   "metadata": {},
   "outputs": [
    {
     "data": {
      "text/plain": [
       "Channel\n",
       "영업방판      23767\n",
       "홈쇼핑/방송    12977\n",
       "대형마트A      4725\n",
       "전문매장H      3227\n",
       "재계약        2193\n",
       "Name: count, dtype: int64"
      ]
     },
     "execution_count": 62,
     "metadata": {},
     "output_type": "execute_result"
    }
   ],
   "source": [
    "df1['Channel'].value_counts().head(5)"
   ]
  },
  {
   "cell_type": "markdown",
   "id": "00db9eba-e04c-445c-a0b9-e767d88551d7",
   "metadata": {},
   "source": [
    "## 5. 데이터에서 고객들이 가장 많이 계약한 제품군(Product_Type)을 분석하고자 한다. 제품군(Product_Type)에는 어떤 데이터가 있는지 확인하시오."
   ]
  },
  {
   "cell_type": "code",
   "execution_count": 70,
   "id": "d6ad3dde-e12d-4a48-a597-37d988137713",
   "metadata": {},
   "outputs": [
    {
     "data": {
      "text/plain": [
       "Product_Type\n",
       "DES-1     39133\n",
       "DES-2      8996\n",
       "DES-3A     2081\n",
       "ERA         644\n",
       "DES-R4      327\n",
       "MMC         120\n",
       "Name: count, dtype: int64"
      ]
     },
     "execution_count": 70,
     "metadata": {},
     "output_type": "execute_result"
    }
   ],
   "source": [
    "df1['Product_Type'].value_counts()"
   ]
  },
  {
   "cell_type": "markdown",
   "id": "cfee3815-842c-4814-9e10-f4f42b3125ce",
   "metadata": {},
   "source": [
    "## 6. 제품군(Product_Type)중 계약을 가장 많이한, 빈도수가 가장 높은 상위 3개의 항목을 추출하여, df2로 선언한 뒤, 계약일자(Datetime)에 따른 월렌탈비용(Amount_Month)의 합을 계산해 result5.xlsx파일로 저장하시오."
   ]
  },
  {
   "cell_type": "code",
   "execution_count": 132,
   "id": "42338707-4c07-446b-bb5c-deec10f33ebf",
   "metadata": {},
   "outputs": [
    {
     "data": {
      "text/plain": [
       "4679858076"
      ]
     },
     "execution_count": 132,
     "metadata": {},
     "output_type": "execute_result"
    }
   ],
   "source": [
    "# df1.pivot_table(index = 'Product_Type' , values = 'Amount_Month' , aggfunc = 'sum', columns = ['Year' , 'week'])\n",
    "df2 = df1['Product_Type'].value_counts().head(3).index\n",
    "\n",
    "\n",
    "cond1 = (df1['Product_Type'].isin(df2))\n",
    "df6 = df1.loc[cond1]\n",
    "\n",
    "sum_Amount_Month = df6['Amount_Month'].sum()\n",
    "sum_Amount_Month"
   ]
  },
  {
   "cell_type": "markdown",
   "id": "d0c5fa6a-d230-4bdb-a2b1-04a9539bd1ab",
   "metadata": {},
   "source": [
    "## 7. 제품군(Product_Type)중 계약을 가장 많이한, 빈도수가 가장 높은 상위 2개의 항목의 월랜탈비용('Amount_Month')의 평균의 차이를 계산하시오."
   ]
  },
  {
   "cell_type": "code",
   "execution_count": 170,
   "id": "c972e761-fa84-428b-b849-471d6b1df654",
   "metadata": {},
   "outputs": [
    {
     "name": "stdout",
     "output_type": "stream",
     "text": [
      "6868.154548431063\n",
      "94424.54516648353 87556.39061805246\n"
     ]
    }
   ],
   "source": [
    "df7 = df1['Product_Type'].value_counts().head(2).index\n",
    "df7\n",
    "#가장 높은 DES_1\n",
    "cond1 = (df1['Product_Type'] == df7[0])\n",
    "DES_1 = df1.loc[cond1]\n",
    "DES_1_Mean_Amount_Month = DES_1['Amount_Month'].mean()\n",
    "#가장 높은 DES_2\n",
    "cond2 = (df1['Product_Type'] == df7[1])\n",
    "DES_2 = df1.loc[cond2]\n",
    "DES_2_Mean_Amount_Month = DES_2['Amount_Month'].mean()\n",
    "\n",
    "print(DES_1_Mean_Amount_Month - DES_2_Mean_Amount_Month)\n"
   ]
  },
  {
   "cell_type": "markdown",
   "id": "419548d9-a0da-43a6-95c3-873be121ca5d",
   "metadata": {},
   "source": [
    "## 8. 데이터에서 고객들이 결제하는 은행(Bank)를 확인하고자 한다. 결제은행(Bank)항목에서 '신한카드'로 결제하는 고객들의 수를 확인하시오"
   ]
  },
  {
   "cell_type": "code",
   "execution_count": 205,
   "id": "78702cef-8b42-42c4-b641-ea405c36df5d",
   "metadata": {},
   "outputs": [
    {
     "name": "stdout",
     "output_type": "stream",
     "text": [
      "<class 'pandas.core.series.Series'>\n",
      "Index: 1532 entries, 89 to 51238\n",
      "Series name: Index\n",
      "Non-Null Count  Dtype\n",
      "--------------  -----\n",
      "1532 non-null   int64\n",
      "dtypes: int64(1)\n",
      "memory usage: 23.9 KB\n"
     ]
    }
   ],
   "source": [
    "df1['Bank'].unique()\n",
    "\n",
    "cond1 = (df1['Bank'] == '신한카드')\n",
    "shinhan = df1.loc[cond1]\n",
    "shinhan_user = shinhan['Index'].info()\n",
    "shinhan_user\n"
   ]
  },
  {
   "cell_type": "markdown",
   "id": "43346b1c-e6e9-44bd-86f4-caddf5f3b027",
   "metadata": {},
   "source": [
    "## 9. 월랜탈비용(Amount_Month)이 15만원 이상인 고객들 중 판매유형(Sales_Type)이 '렌탈'에 해당하는 고객만 추출하여, 해당 데이터의 행(index) 개수를 확인하시오."
   ]
  },
  {
   "cell_type": "code",
   "execution_count": 231,
   "id": "1c850400-2f9d-4101-a9d0-fae5ef6d5ff5",
   "metadata": {},
   "outputs": [
    {
     "name": "stdout",
     "output_type": "stream",
     "text": [
      "<class 'pandas.core.series.Series'>\n",
      "Index: 141 entries, 205 to 51187\n",
      "Series name: Index\n",
      "Non-Null Count  Dtype\n",
      "--------------  -----\n",
      "141 non-null    int64\n",
      "dtypes: int64(1)\n",
      "memory usage: 2.2 KB\n"
     ]
    }
   ],
   "source": [
    "cond1 = (df1['Amount_Month'] >= 150000) \n",
    "cond2 = (df1['Sales_Type'] == '렌탈')\n",
    "cond3 = cond1 & cond2\n",
    "\n",
    "\n",
    "df9 = df1.loc[cond3]\n",
    "df9['Index'].count()"
   ]
  },
  {
   "cell_type": "markdown",
   "id": "1fbeae8c-e205-49bf-b41c-e70349c4c4b3",
   "metadata": {},
   "source": [
    "## 10. 계약일자(Datetime)에서 계약연도(Year)파생변수를 생성하고, 연도 별, 각 제품군(Product_Type)의 월랜탈비용(Amount_Month) 합을 계산하시오."
   ]
  },
  {
   "cell_type": "code",
   "execution_count": null,
   "id": "d565929b-4bf9-41e5-9f2b-ec7a260969bb",
   "metadata": {},
   "outputs": [],
   "source": []
  },
  {
   "cell_type": "markdown",
   "id": "e2e59317-c699-402d-81b4-a7dedea08d47",
   "metadata": {},
   "source": [
    "## 11. 22년 대비 23년 제품군(Product_Type)별 월랜탈비용(Amount_Month) 합의 증감율을 계산하시오. \n",
    "- 증감율 : ( (22년 월랜탈비용 총합) - (23년 월랜탈비용 총합) ) / (22년 월랜탈비용 총합)"
   ]
  },
  {
   "cell_type": "code",
   "execution_count": null,
   "id": "b15bb749-888d-40ea-a6d6-f92361834a89",
   "metadata": {},
   "outputs": [],
   "source": []
  },
  {
   "cell_type": "markdown",
   "id": "86b50595-e517-4db5-92ad-2e0a61260b08",
   "metadata": {},
   "source": [
    "## 12. 판매 유형(Sales_Type)에서 '렌탈'계약과 '멤버십' 계약의 월랜탈비용(Amount_Month)의 평균의 차이를 계산하시오."
   ]
  },
  {
   "cell_type": "code",
   "execution_count": null,
   "id": "7ef4cee0-b306-49ff-ae9d-54801173e908",
   "metadata": {},
   "outputs": [],
   "source": []
  },
  {
   "cell_type": "markdown",
   "id": "0a8c81b4-dddf-4e54-8bcc-5cdbb0bc8c39",
   "metadata": {},
   "source": [
    "## 13. 계약 데이터를 주기적으로 정리하는 업무자동화 프로그램을 만들고자 한다. 데이터에서 주차(Work Week)를 입력 해, 해당 주차의 제품 군(Product_Type)별 월랜탈비용(Amount_Month)의 합과 평균을 엑셀로 출력하는 함수를 생성하시오. \n",
    "- 파일이 저장 될 때, 아래와 같은 이름으로 저장 되어야 합니다. \n",
    "- 1주차 입력시 -> '1week_Product_Contract.xlsx'\n",
    "- 3주차 입력시 -> '3week_Product_Contract.xlsx'"
   ]
  },
  {
   "cell_type": "code",
   "execution_count": null,
   "id": "06e7b814-6da5-4824-bc85-2db097ccac6c",
   "metadata": {},
   "outputs": [],
   "source": []
  }
 ],
 "metadata": {
  "kernelspec": {
   "display_name": "Python 3 (ipykernel)",
   "language": "python",
   "name": "python3"
  },
  "language_info": {
   "codemirror_mode": {
    "name": "ipython",
    "version": 3
   },
   "file_extension": ".py",
   "mimetype": "text/x-python",
   "name": "python",
   "nbconvert_exporter": "python",
   "pygments_lexer": "ipython3",
   "version": "3.11.7"
  }
 },
 "nbformat": 4,
 "nbformat_minor": 5
}
